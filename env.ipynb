{
 "cells": [
  {
   "cell_type": "code",
   "execution_count": 1,
   "metadata": {},
   "outputs": [],
   "source": [
    "class Environment:\r\n",
    "    \r\n",
    "    def __init__(self, data, history_t=100):\r\n",
    "        self.data = data\r\n",
    "        self.history_t = history_t\r\n",
    "        self.reset()\r\n",
    "    \r\n",
    "    def reset(self):\r\n",
    "        self.t = 0\r\n",
    "        self.done = False\r\n",
    "        self.profits = 0\r\n",
    "        self.positions = []\r\n",
    "        self.position_value = 0\r\n",
    "        self.history = [0 for _ in range(self.history_t)]\r\n",
    "        return [self.position_value] + self.history\r\n",
    "    \r\n",
    "    def step(self, act):\r\n",
    "        reward = 0\r\n",
    "        #act=0 : stay, act=1 : change, act=2 : ignore  \r\n",
    "        if act == 1:\r\n",
    "            self.positions.append(self.data.iloc[self.t, :]['ctr'])\r\n",
    "        elif act == 2:\r\n",
    "            if len(self.positions) == 0:\r\n",
    "                reward = -1\r\n",
    "            else:\r\n",
    "                profits = 0\r\n",
    "                for i in self.positions:\r\n",
    "                    profits += (self.data.iloc[self.t, :]['ctr']-i)\r\n",
    "                reward += profits\r\n",
    "                self.profits += profits\r\n",
    "                self.positions = []\r\n",
    "            \r\n",
    "        self.t += 1\r\n",
    "        self.position_value = 0\r\n",
    "        for i in self.positions:\r\n",
    "            self.position_value += (self.data.iloc[self.t, :]['ctr']-i)\r\n",
    "        self.history.pop(0)\r\n",
    "        self.history.append(self.data.iloc[self.t, :]['ctr'] - self.data.iloc[(self.t-1), :]['ctr'])\r\n",
    "\r\n",
    "        if reward > 0:\r\n",
    "            reward = 1\r\n",
    "        elif reword < 0:\r\n",
    "            reward = -1\r\n",
    "\r\n",
    "        return [self.position_value] + self.history, reward, self.done"
   ]
  }
 ],
 "metadata": {
  "interpreter": {
   "hash": "183bbf6827d058c2a2fb0f4acdc0420849dda2b4380af0e437e38c64d798d8b7"
  },
  "kernelspec": {
   "display_name": "Python 3.8.10 64-bit ('base': conda)",
   "name": "python3"
  },
  "language_info": {
   "codemirror_mode": {
    "name": "ipython",
    "version": 3
   },
   "file_extension": ".py",
   "mimetype": "text/x-python",
   "name": "python",
   "nbconvert_exporter": "python",
   "pygments_lexer": "ipython3",
   "version": "3.8.10"
  },
  "orig_nbformat": 4
 },
 "nbformat": 4,
 "nbformat_minor": 2
}