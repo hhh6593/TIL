{
 "cells": [
  {
   "cell_type": "code",
   "execution_count": 106,
   "source": [
    "import pandas as pd\r\n",
    "import numpy as np\r\n",
    "import os\r\n",
    "\r\n",
    "import matplotlib.pyplot as plt\r\n",
    "import seaborn as sns\r\n",
    "\r\n",
    "from plotly import tools\r\n",
    "from plotly.graph_objs import *\r\n",
    "from plotly.offline import init_notebook_mode, iplot, iplot_mpl\r\n",
    "import plotly.graph_objs as go\r\n",
    "\r\n",
    "pd.set_option('display.max_columns', 100)"
   ],
   "outputs": [],
   "metadata": {}
  },
  {
   "cell_type": "code",
   "execution_count": 2,
   "source": [
    "df = pd.read_excel('2021금융데이터 경진대회_데이터셋_한국투자증권(원본).xlsx')"
   ],
   "outputs": [],
   "metadata": {}
  },
  {
   "cell_type": "code",
   "execution_count": 3,
   "source": [
    "df.columns =  ['id', 'day', 'gender', 'age', 'adress', 'time', \r\n",
    "                'stock_code', 'stock_name', 'kospi_kosdaq', 'sell_buy', \r\n",
    "                'order_code', 'order_price', 'order_volume', 'true_order_volume', 'true_order_price', \r\n",
    "                'before_close', 'start', 'high', 'low', 'close', 'volume', 'volume_price', 'high_yn', 'low_yn']"
   ],
   "outputs": [],
   "metadata": {}
  },
  {
   "cell_type": "code",
   "execution_count": 4,
   "source": [
    "df"
   ],
   "outputs": [
    {
     "output_type": "execute_result",
     "data": {
      "text/plain": [
       "              id       day  gender  age adress  time    stock_code  \\\n",
       "0          A0001  20200128       1   30     경기     1  00000A091970   \n",
       "1          A0001  20200130       1   30     경기     3  00000A045060   \n",
       "2          A0001  20200313       1   30     경기     1  00000A253840   \n",
       "3         A00010  20200220       1   20     경남     3  00000A009190   \n",
       "4        A000100  20200211       2   40     서울     1  00000A001740   \n",
       "...          ...       ...     ...  ...    ...   ...           ...   \n",
       "845935  A0009999  20200331       1   20     충북     2  00000A043200   \n",
       "845936  A0009999  20200325       1   20     충북     2  00000A068760   \n",
       "845937  A0009999  20200330       1   20     충북     1  00000A038290   \n",
       "845938  A0009999  20200323       1   20     충북     1  00000A000660   \n",
       "845939  A0009999  20200330       1   20     충북     2  00000A005690   \n",
       "\n",
       "         stock_name  kospi_kosdaq  sell_buy  order_code  order_price  \\\n",
       "0              나노캠텍             3         2           1         3795   \n",
       "1                오공             3         2           1         7710   \n",
       "2               수젠텍             3         2           1        11800   \n",
       "3           대양금속보통주             2         2           1         3505   \n",
       "4         SK네트웍스보통주             2         1           1         4875   \n",
       "...             ...           ...       ...         ...          ...   \n",
       "845935           파루             3         2           1         2020   \n",
       "845936       셀트리온제약             3         1           1        63400   \n",
       "845937         마크로젠             3         2           1        38800   \n",
       "845938  에스케이하이닉스보통주             2         1           1        69200   \n",
       "845939       파미셀보통주             2         2           1        20150   \n",
       "\n",
       "        order_volume  true_order_volume  true_order_price  before_close  \\\n",
       "0                 20                 20             75900          3215   \n",
       "1                 20                 20            154200          7690   \n",
       "2                 10                 10            118000         13600   \n",
       "3                 14                 14             49070          3615   \n",
       "4                  3                  3             14625          4780   \n",
       "...              ...                ...               ...           ...   \n",
       "845935           150                150            303000          1995   \n",
       "845936             8                  8            507200         57300   \n",
       "845937            25                 25            970000         38900   \n",
       "845938             8                  8            553600         74800   \n",
       "845939            25                 25            503750         19000   \n",
       "\n",
       "        start   high    low  close    volume  volume_price high_yn low_yn  \n",
       "0        3710   4125   3660   4095  17266597   67323312855       N      N  \n",
       "1        8150   8380   7360   7920  15686931  125404000000       N      N  \n",
       "2       12200  12250  10150  10750   3731106   40782765600       N      N  \n",
       "3        3615   3675   3475   3505    635410    2250893355       N      N  \n",
       "4        4800   4885   4800   4850   1263089    6112026870       N      N  \n",
       "...       ...    ...    ...    ...       ...           ...     ...    ...  \n",
       "845935   2035   2135   1990   2030   2764564    5682482755       N      N  \n",
       "845936  61700  70600  58700  60300   8892944  560929000000       N      N  \n",
       "845937  40050  40800  37500  40400   1912985   75631708300       N      N  \n",
       "845938  69700  71600  68000  69400   8037426  560505000000       N      N  \n",
       "845939  20250  22250  19550  21350  17326044  361601000000       N      N  \n",
       "\n",
       "[845940 rows x 24 columns]"
      ],
      "text/html": [
       "<div>\n",
       "<style scoped>\n",
       "    .dataframe tbody tr th:only-of-type {\n",
       "        vertical-align: middle;\n",
       "    }\n",
       "\n",
       "    .dataframe tbody tr th {\n",
       "        vertical-align: top;\n",
       "    }\n",
       "\n",
       "    .dataframe thead th {\n",
       "        text-align: right;\n",
       "    }\n",
       "</style>\n",
       "<table border=\"1\" class=\"dataframe\">\n",
       "  <thead>\n",
       "    <tr style=\"text-align: right;\">\n",
       "      <th></th>\n",
       "      <th>id</th>\n",
       "      <th>day</th>\n",
       "      <th>gender</th>\n",
       "      <th>age</th>\n",
       "      <th>adress</th>\n",
       "      <th>time</th>\n",
       "      <th>stock_code</th>\n",
       "      <th>stock_name</th>\n",
       "      <th>kospi_kosdaq</th>\n",
       "      <th>sell_buy</th>\n",
       "      <th>order_code</th>\n",
       "      <th>order_price</th>\n",
       "      <th>order_volume</th>\n",
       "      <th>true_order_volume</th>\n",
       "      <th>true_order_price</th>\n",
       "      <th>before_close</th>\n",
       "      <th>start</th>\n",
       "      <th>high</th>\n",
       "      <th>low</th>\n",
       "      <th>close</th>\n",
       "      <th>volume</th>\n",
       "      <th>volume_price</th>\n",
       "      <th>high_yn</th>\n",
       "      <th>low_yn</th>\n",
       "    </tr>\n",
       "  </thead>\n",
       "  <tbody>\n",
       "    <tr>\n",
       "      <th>0</th>\n",
       "      <td>A0001</td>\n",
       "      <td>20200128</td>\n",
       "      <td>1</td>\n",
       "      <td>30</td>\n",
       "      <td>경기</td>\n",
       "      <td>1</td>\n",
       "      <td>00000A091970</td>\n",
       "      <td>나노캠텍</td>\n",
       "      <td>3</td>\n",
       "      <td>2</td>\n",
       "      <td>1</td>\n",
       "      <td>3795</td>\n",
       "      <td>20</td>\n",
       "      <td>20</td>\n",
       "      <td>75900</td>\n",
       "      <td>3215</td>\n",
       "      <td>3710</td>\n",
       "      <td>4125</td>\n",
       "      <td>3660</td>\n",
       "      <td>4095</td>\n",
       "      <td>17266597</td>\n",
       "      <td>67323312855</td>\n",
       "      <td>N</td>\n",
       "      <td>N</td>\n",
       "    </tr>\n",
       "    <tr>\n",
       "      <th>1</th>\n",
       "      <td>A0001</td>\n",
       "      <td>20200130</td>\n",
       "      <td>1</td>\n",
       "      <td>30</td>\n",
       "      <td>경기</td>\n",
       "      <td>3</td>\n",
       "      <td>00000A045060</td>\n",
       "      <td>오공</td>\n",
       "      <td>3</td>\n",
       "      <td>2</td>\n",
       "      <td>1</td>\n",
       "      <td>7710</td>\n",
       "      <td>20</td>\n",
       "      <td>20</td>\n",
       "      <td>154200</td>\n",
       "      <td>7690</td>\n",
       "      <td>8150</td>\n",
       "      <td>8380</td>\n",
       "      <td>7360</td>\n",
       "      <td>7920</td>\n",
       "      <td>15686931</td>\n",
       "      <td>125404000000</td>\n",
       "      <td>N</td>\n",
       "      <td>N</td>\n",
       "    </tr>\n",
       "    <tr>\n",
       "      <th>2</th>\n",
       "      <td>A0001</td>\n",
       "      <td>20200313</td>\n",
       "      <td>1</td>\n",
       "      <td>30</td>\n",
       "      <td>경기</td>\n",
       "      <td>1</td>\n",
       "      <td>00000A253840</td>\n",
       "      <td>수젠텍</td>\n",
       "      <td>3</td>\n",
       "      <td>2</td>\n",
       "      <td>1</td>\n",
       "      <td>11800</td>\n",
       "      <td>10</td>\n",
       "      <td>10</td>\n",
       "      <td>118000</td>\n",
       "      <td>13600</td>\n",
       "      <td>12200</td>\n",
       "      <td>12250</td>\n",
       "      <td>10150</td>\n",
       "      <td>10750</td>\n",
       "      <td>3731106</td>\n",
       "      <td>40782765600</td>\n",
       "      <td>N</td>\n",
       "      <td>N</td>\n",
       "    </tr>\n",
       "    <tr>\n",
       "      <th>3</th>\n",
       "      <td>A00010</td>\n",
       "      <td>20200220</td>\n",
       "      <td>1</td>\n",
       "      <td>20</td>\n",
       "      <td>경남</td>\n",
       "      <td>3</td>\n",
       "      <td>00000A009190</td>\n",
       "      <td>대양금속보통주</td>\n",
       "      <td>2</td>\n",
       "      <td>2</td>\n",
       "      <td>1</td>\n",
       "      <td>3505</td>\n",
       "      <td>14</td>\n",
       "      <td>14</td>\n",
       "      <td>49070</td>\n",
       "      <td>3615</td>\n",
       "      <td>3615</td>\n",
       "      <td>3675</td>\n",
       "      <td>3475</td>\n",
       "      <td>3505</td>\n",
       "      <td>635410</td>\n",
       "      <td>2250893355</td>\n",
       "      <td>N</td>\n",
       "      <td>N</td>\n",
       "    </tr>\n",
       "    <tr>\n",
       "      <th>4</th>\n",
       "      <td>A000100</td>\n",
       "      <td>20200211</td>\n",
       "      <td>2</td>\n",
       "      <td>40</td>\n",
       "      <td>서울</td>\n",
       "      <td>1</td>\n",
       "      <td>00000A001740</td>\n",
       "      <td>SK네트웍스보통주</td>\n",
       "      <td>2</td>\n",
       "      <td>1</td>\n",
       "      <td>1</td>\n",
       "      <td>4875</td>\n",
       "      <td>3</td>\n",
       "      <td>3</td>\n",
       "      <td>14625</td>\n",
       "      <td>4780</td>\n",
       "      <td>4800</td>\n",
       "      <td>4885</td>\n",
       "      <td>4800</td>\n",
       "      <td>4850</td>\n",
       "      <td>1263089</td>\n",
       "      <td>6112026870</td>\n",
       "      <td>N</td>\n",
       "      <td>N</td>\n",
       "    </tr>\n",
       "    <tr>\n",
       "      <th>...</th>\n",
       "      <td>...</td>\n",
       "      <td>...</td>\n",
       "      <td>...</td>\n",
       "      <td>...</td>\n",
       "      <td>...</td>\n",
       "      <td>...</td>\n",
       "      <td>...</td>\n",
       "      <td>...</td>\n",
       "      <td>...</td>\n",
       "      <td>...</td>\n",
       "      <td>...</td>\n",
       "      <td>...</td>\n",
       "      <td>...</td>\n",
       "      <td>...</td>\n",
       "      <td>...</td>\n",
       "      <td>...</td>\n",
       "      <td>...</td>\n",
       "      <td>...</td>\n",
       "      <td>...</td>\n",
       "      <td>...</td>\n",
       "      <td>...</td>\n",
       "      <td>...</td>\n",
       "      <td>...</td>\n",
       "      <td>...</td>\n",
       "    </tr>\n",
       "    <tr>\n",
       "      <th>845935</th>\n",
       "      <td>A0009999</td>\n",
       "      <td>20200331</td>\n",
       "      <td>1</td>\n",
       "      <td>20</td>\n",
       "      <td>충북</td>\n",
       "      <td>2</td>\n",
       "      <td>00000A043200</td>\n",
       "      <td>파루</td>\n",
       "      <td>3</td>\n",
       "      <td>2</td>\n",
       "      <td>1</td>\n",
       "      <td>2020</td>\n",
       "      <td>150</td>\n",
       "      <td>150</td>\n",
       "      <td>303000</td>\n",
       "      <td>1995</td>\n",
       "      <td>2035</td>\n",
       "      <td>2135</td>\n",
       "      <td>1990</td>\n",
       "      <td>2030</td>\n",
       "      <td>2764564</td>\n",
       "      <td>5682482755</td>\n",
       "      <td>N</td>\n",
       "      <td>N</td>\n",
       "    </tr>\n",
       "    <tr>\n",
       "      <th>845936</th>\n",
       "      <td>A0009999</td>\n",
       "      <td>20200325</td>\n",
       "      <td>1</td>\n",
       "      <td>20</td>\n",
       "      <td>충북</td>\n",
       "      <td>2</td>\n",
       "      <td>00000A068760</td>\n",
       "      <td>셀트리온제약</td>\n",
       "      <td>3</td>\n",
       "      <td>1</td>\n",
       "      <td>1</td>\n",
       "      <td>63400</td>\n",
       "      <td>8</td>\n",
       "      <td>8</td>\n",
       "      <td>507200</td>\n",
       "      <td>57300</td>\n",
       "      <td>61700</td>\n",
       "      <td>70600</td>\n",
       "      <td>58700</td>\n",
       "      <td>60300</td>\n",
       "      <td>8892944</td>\n",
       "      <td>560929000000</td>\n",
       "      <td>N</td>\n",
       "      <td>N</td>\n",
       "    </tr>\n",
       "    <tr>\n",
       "      <th>845937</th>\n",
       "      <td>A0009999</td>\n",
       "      <td>20200330</td>\n",
       "      <td>1</td>\n",
       "      <td>20</td>\n",
       "      <td>충북</td>\n",
       "      <td>1</td>\n",
       "      <td>00000A038290</td>\n",
       "      <td>마크로젠</td>\n",
       "      <td>3</td>\n",
       "      <td>2</td>\n",
       "      <td>1</td>\n",
       "      <td>38800</td>\n",
       "      <td>25</td>\n",
       "      <td>25</td>\n",
       "      <td>970000</td>\n",
       "      <td>38900</td>\n",
       "      <td>40050</td>\n",
       "      <td>40800</td>\n",
       "      <td>37500</td>\n",
       "      <td>40400</td>\n",
       "      <td>1912985</td>\n",
       "      <td>75631708300</td>\n",
       "      <td>N</td>\n",
       "      <td>N</td>\n",
       "    </tr>\n",
       "    <tr>\n",
       "      <th>845938</th>\n",
       "      <td>A0009999</td>\n",
       "      <td>20200323</td>\n",
       "      <td>1</td>\n",
       "      <td>20</td>\n",
       "      <td>충북</td>\n",
       "      <td>1</td>\n",
       "      <td>00000A000660</td>\n",
       "      <td>에스케이하이닉스보통주</td>\n",
       "      <td>2</td>\n",
       "      <td>1</td>\n",
       "      <td>1</td>\n",
       "      <td>69200</td>\n",
       "      <td>8</td>\n",
       "      <td>8</td>\n",
       "      <td>553600</td>\n",
       "      <td>74800</td>\n",
       "      <td>69700</td>\n",
       "      <td>71600</td>\n",
       "      <td>68000</td>\n",
       "      <td>69400</td>\n",
       "      <td>8037426</td>\n",
       "      <td>560505000000</td>\n",
       "      <td>N</td>\n",
       "      <td>N</td>\n",
       "    </tr>\n",
       "    <tr>\n",
       "      <th>845939</th>\n",
       "      <td>A0009999</td>\n",
       "      <td>20200330</td>\n",
       "      <td>1</td>\n",
       "      <td>20</td>\n",
       "      <td>충북</td>\n",
       "      <td>2</td>\n",
       "      <td>00000A005690</td>\n",
       "      <td>파미셀보통주</td>\n",
       "      <td>2</td>\n",
       "      <td>2</td>\n",
       "      <td>1</td>\n",
       "      <td>20150</td>\n",
       "      <td>25</td>\n",
       "      <td>25</td>\n",
       "      <td>503750</td>\n",
       "      <td>19000</td>\n",
       "      <td>20250</td>\n",
       "      <td>22250</td>\n",
       "      <td>19550</td>\n",
       "      <td>21350</td>\n",
       "      <td>17326044</td>\n",
       "      <td>361601000000</td>\n",
       "      <td>N</td>\n",
       "      <td>N</td>\n",
       "    </tr>\n",
       "  </tbody>\n",
       "</table>\n",
       "<p>845940 rows × 24 columns</p>\n",
       "</div>"
      ]
     },
     "metadata": {},
     "execution_count": 4
    }
   ],
   "metadata": {}
  },
  {
   "cell_type": "code",
   "execution_count": 5,
   "source": [
    "df['adress'].unique()"
   ],
   "outputs": [
    {
     "output_type": "execute_result",
     "data": {
      "text/plain": [
       "array(['경기', '경남', '서울', '광주', '대전', '울산', '대구', '충북', '부산', '인천', '경북',\n",
       "       '충남', '강원', '전북', '전남', '제주'], dtype=object)"
      ]
     },
     "metadata": {},
     "execution_count": 5
    }
   ],
   "metadata": {}
  },
  {
   "cell_type": "code",
   "execution_count": 6,
   "source": [
    "len(df['stock_name'].unique())"
   ],
   "outputs": [
    {
     "output_type": "execute_result",
     "data": {
      "text/plain": [
       "1971"
      ]
     },
     "metadata": {},
     "execution_count": 6
    }
   ],
   "metadata": {}
  },
  {
   "cell_type": "code",
   "execution_count": 7,
   "source": [
    "df['day'] = pd.to_datetime(df['day'],format='%Y%m%d')"
   ],
   "outputs": [],
   "metadata": {}
  },
  {
   "cell_type": "code",
   "execution_count": 8,
   "source": [
    "df.sort_values('day', inplace=True)\r\n",
    "df.head()"
   ],
   "outputs": [
    {
     "output_type": "execute_result",
     "data": {
      "text/plain": [
       "               id        day  gender  age adress  time    stock_code  \\\n",
       "711180    A000592 2020-01-20       2   20     서울     2  00000A192820   \n",
       "83205   A00010330 2020-01-20       2   20     서울     2  00000A042510   \n",
       "311689  A00016551 2020-01-20       2   50     대구     2  00000A005930   \n",
       "293034  A00015886 2020-01-20       2   40     서울     3  00000A005930   \n",
       "59805    A0005442 2020-01-20       2   20     서울     2  00000A005930   \n",
       "\n",
       "       stock_name  kospi_kosdaq  sell_buy  order_code  order_price  \\\n",
       "711180    코스맥스보통주             2         2           1        87500   \n",
       "83205       라온시큐어             3         2           1         2860   \n",
       "311689    삼성전자보통주             2         2           1        62500   \n",
       "293034    삼성전자보통주             2         2           1        62500   \n",
       "59805     삼성전자보통주             2         2           1        62700   \n",
       "\n",
       "        order_volume  true_order_volume  true_order_price  before_close  \\\n",
       "711180            20                 20           1750000         87600   \n",
       "83205              2                  2              5710          2910   \n",
       "311689             1                  1             62500         61300   \n",
       "293034             3                  3            187500         61300   \n",
       "59805              1                  1             62700         61300   \n",
       "\n",
       "        start   high    low  close    volume  volume_price high_yn low_yn  \n",
       "711180  87500  91300  85900  86800    269228   23825292800       N      N  \n",
       "83205    2895   2910   2835   2850    234253     670307175       N      N  \n",
       "311689  62000  62800  61700  62400  12440366  775520000000       N      N  \n",
       "293034  62000  62800  61700  62400  12440366  775520000000       N      N  \n",
       "59805   62000  62800  61700  62400  12440366  775520000000       N      N  "
      ],
      "text/html": [
       "<div>\n",
       "<style scoped>\n",
       "    .dataframe tbody tr th:only-of-type {\n",
       "        vertical-align: middle;\n",
       "    }\n",
       "\n",
       "    .dataframe tbody tr th {\n",
       "        vertical-align: top;\n",
       "    }\n",
       "\n",
       "    .dataframe thead th {\n",
       "        text-align: right;\n",
       "    }\n",
       "</style>\n",
       "<table border=\"1\" class=\"dataframe\">\n",
       "  <thead>\n",
       "    <tr style=\"text-align: right;\">\n",
       "      <th></th>\n",
       "      <th>id</th>\n",
       "      <th>day</th>\n",
       "      <th>gender</th>\n",
       "      <th>age</th>\n",
       "      <th>adress</th>\n",
       "      <th>time</th>\n",
       "      <th>stock_code</th>\n",
       "      <th>stock_name</th>\n",
       "      <th>kospi_kosdaq</th>\n",
       "      <th>sell_buy</th>\n",
       "      <th>order_code</th>\n",
       "      <th>order_price</th>\n",
       "      <th>order_volume</th>\n",
       "      <th>true_order_volume</th>\n",
       "      <th>true_order_price</th>\n",
       "      <th>before_close</th>\n",
       "      <th>start</th>\n",
       "      <th>high</th>\n",
       "      <th>low</th>\n",
       "      <th>close</th>\n",
       "      <th>volume</th>\n",
       "      <th>volume_price</th>\n",
       "      <th>high_yn</th>\n",
       "      <th>low_yn</th>\n",
       "    </tr>\n",
       "  </thead>\n",
       "  <tbody>\n",
       "    <tr>\n",
       "      <th>711180</th>\n",
       "      <td>A000592</td>\n",
       "      <td>2020-01-20</td>\n",
       "      <td>2</td>\n",
       "      <td>20</td>\n",
       "      <td>서울</td>\n",
       "      <td>2</td>\n",
       "      <td>00000A192820</td>\n",
       "      <td>코스맥스보통주</td>\n",
       "      <td>2</td>\n",
       "      <td>2</td>\n",
       "      <td>1</td>\n",
       "      <td>87500</td>\n",
       "      <td>20</td>\n",
       "      <td>20</td>\n",
       "      <td>1750000</td>\n",
       "      <td>87600</td>\n",
       "      <td>87500</td>\n",
       "      <td>91300</td>\n",
       "      <td>85900</td>\n",
       "      <td>86800</td>\n",
       "      <td>269228</td>\n",
       "      <td>23825292800</td>\n",
       "      <td>N</td>\n",
       "      <td>N</td>\n",
       "    </tr>\n",
       "    <tr>\n",
       "      <th>83205</th>\n",
       "      <td>A00010330</td>\n",
       "      <td>2020-01-20</td>\n",
       "      <td>2</td>\n",
       "      <td>20</td>\n",
       "      <td>서울</td>\n",
       "      <td>2</td>\n",
       "      <td>00000A042510</td>\n",
       "      <td>라온시큐어</td>\n",
       "      <td>3</td>\n",
       "      <td>2</td>\n",
       "      <td>1</td>\n",
       "      <td>2860</td>\n",
       "      <td>2</td>\n",
       "      <td>2</td>\n",
       "      <td>5710</td>\n",
       "      <td>2910</td>\n",
       "      <td>2895</td>\n",
       "      <td>2910</td>\n",
       "      <td>2835</td>\n",
       "      <td>2850</td>\n",
       "      <td>234253</td>\n",
       "      <td>670307175</td>\n",
       "      <td>N</td>\n",
       "      <td>N</td>\n",
       "    </tr>\n",
       "    <tr>\n",
       "      <th>311689</th>\n",
       "      <td>A00016551</td>\n",
       "      <td>2020-01-20</td>\n",
       "      <td>2</td>\n",
       "      <td>50</td>\n",
       "      <td>대구</td>\n",
       "      <td>2</td>\n",
       "      <td>00000A005930</td>\n",
       "      <td>삼성전자보통주</td>\n",
       "      <td>2</td>\n",
       "      <td>2</td>\n",
       "      <td>1</td>\n",
       "      <td>62500</td>\n",
       "      <td>1</td>\n",
       "      <td>1</td>\n",
       "      <td>62500</td>\n",
       "      <td>61300</td>\n",
       "      <td>62000</td>\n",
       "      <td>62800</td>\n",
       "      <td>61700</td>\n",
       "      <td>62400</td>\n",
       "      <td>12440366</td>\n",
       "      <td>775520000000</td>\n",
       "      <td>N</td>\n",
       "      <td>N</td>\n",
       "    </tr>\n",
       "    <tr>\n",
       "      <th>293034</th>\n",
       "      <td>A00015886</td>\n",
       "      <td>2020-01-20</td>\n",
       "      <td>2</td>\n",
       "      <td>40</td>\n",
       "      <td>서울</td>\n",
       "      <td>3</td>\n",
       "      <td>00000A005930</td>\n",
       "      <td>삼성전자보통주</td>\n",
       "      <td>2</td>\n",
       "      <td>2</td>\n",
       "      <td>1</td>\n",
       "      <td>62500</td>\n",
       "      <td>3</td>\n",
       "      <td>3</td>\n",
       "      <td>187500</td>\n",
       "      <td>61300</td>\n",
       "      <td>62000</td>\n",
       "      <td>62800</td>\n",
       "      <td>61700</td>\n",
       "      <td>62400</td>\n",
       "      <td>12440366</td>\n",
       "      <td>775520000000</td>\n",
       "      <td>N</td>\n",
       "      <td>N</td>\n",
       "    </tr>\n",
       "    <tr>\n",
       "      <th>59805</th>\n",
       "      <td>A0005442</td>\n",
       "      <td>2020-01-20</td>\n",
       "      <td>2</td>\n",
       "      <td>20</td>\n",
       "      <td>서울</td>\n",
       "      <td>2</td>\n",
       "      <td>00000A005930</td>\n",
       "      <td>삼성전자보통주</td>\n",
       "      <td>2</td>\n",
       "      <td>2</td>\n",
       "      <td>1</td>\n",
       "      <td>62700</td>\n",
       "      <td>1</td>\n",
       "      <td>1</td>\n",
       "      <td>62700</td>\n",
       "      <td>61300</td>\n",
       "      <td>62000</td>\n",
       "      <td>62800</td>\n",
       "      <td>61700</td>\n",
       "      <td>62400</td>\n",
       "      <td>12440366</td>\n",
       "      <td>775520000000</td>\n",
       "      <td>N</td>\n",
       "      <td>N</td>\n",
       "    </tr>\n",
       "  </tbody>\n",
       "</table>\n",
       "</div>"
      ]
     },
     "metadata": {},
     "execution_count": 8
    }
   ],
   "metadata": {}
  },
  {
   "cell_type": "code",
   "execution_count": 9,
   "source": [
    "df2 = df.set_index('day')"
   ],
   "outputs": [],
   "metadata": {}
  },
  {
   "cell_type": "code",
   "execution_count": 10,
   "source": [
    "def plot_candlestick(df):\r\n",
    "    data = Candlestick(x=df2.index, open=df2['start'], high=df2['high'], low=df2['low'], close=df2['close'])\r\n",
    "    figure = Figure(data=data)\r\n",
    "    iplot(figure)"
   ],
   "outputs": [],
   "metadata": {}
  },
  {
   "cell_type": "code",
   "execution_count": 114,
   "source": [
    "volume_price_df = pd.DataFrame(df.groupby('day')['volume_price'].sum())\r\n",
    "px.line(volume_price_df, x=volume_price_df.index, y='volume_price', title='일별 거래대금')"
   ],
   "outputs": [
    {
     "output_type": "display_data",
     "data": {
      "application/vnd.plotly.v1+json": {
       "config": {
        "plotlyServerURL": "https://plot.ly"
       },
       "data": [
        {
         "hovertemplate": "day=%{x}<br>volume_price=%{y}<extra></extra>",
         "legendgroup": "",
         "line": {
          "color": "#636efa",
          "dash": "solid"
         },
         "mode": "lines",
         "name": "",
         "orientation": "v",
         "showlegend": false,
         "type": "scatter",
         "x": [
          "2020-01-20T00:00:00",
          "2020-01-21T00:00:00",
          "2020-01-22T00:00:00",
          "2020-01-23T00:00:00",
          "2020-01-28T00:00:00",
          "2020-01-29T00:00:00",
          "2020-01-30T00:00:00",
          "2020-01-31T00:00:00",
          "2020-02-03T00:00:00",
          "2020-02-04T00:00:00",
          "2020-02-05T00:00:00",
          "2020-02-06T00:00:00",
          "2020-02-07T00:00:00",
          "2020-02-10T00:00:00",
          "2020-02-11T00:00:00",
          "2020-02-12T00:00:00",
          "2020-02-13T00:00:00",
          "2020-02-14T00:00:00",
          "2020-02-17T00:00:00",
          "2020-02-18T00:00:00",
          "2020-02-19T00:00:00",
          "2020-02-20T00:00:00",
          "2020-02-21T00:00:00",
          "2020-02-24T00:00:00",
          "2020-02-25T00:00:00",
          "2020-02-26T00:00:00",
          "2020-02-27T00:00:00",
          "2020-02-28T00:00:00",
          "2020-03-02T00:00:00",
          "2020-03-03T00:00:00",
          "2020-03-04T00:00:00",
          "2020-03-05T00:00:00",
          "2020-03-06T00:00:00",
          "2020-03-09T00:00:00",
          "2020-03-10T00:00:00",
          "2020-03-11T00:00:00",
          "2020-03-12T00:00:00",
          "2020-03-13T00:00:00",
          "2020-03-16T00:00:00",
          "2020-03-17T00:00:00",
          "2020-03-18T00:00:00",
          "2020-03-19T00:00:00",
          "2020-03-20T00:00:00",
          "2020-03-23T00:00:00",
          "2020-03-24T00:00:00",
          "2020-03-25T00:00:00",
          "2020-03-26T00:00:00",
          "2020-03-27T00:00:00",
          "2020-03-30T00:00:00",
          "2020-03-31T00:00:00"
         ],
         "xaxis": "x",
         "y": [
          23171347715453,
          43814148819654,
          47979396764501,
          125023847190241,
          345523183109685,
          283925420638400,
          659693776352771,
          535771128027554,
          648021371347992,
          565277829541024,
          524041465969322,
          613644589876370,
          733571350872115,
          657456627589055,
          644835275354674,
          710161243746870,
          920432896725260,
          1061678894031949,
          1295916069819997,
          2648731199154338,
          1729182107284726,
          2583751204968721,
          1915233937329638,
          3500911956437035,
          2680245749882471,
          2723524229659481,
          2630017898482076,
          4059670228797037,
          2888032720253399,
          3039818538134523,
          2223007606785414,
          2242046782050672,
          3238626006591929,
          7106691388325792,
          6203482217378248,
          8941638490741840,
          7905631136377555,
          10032789613716630,
          7060360616919184,
          9606634996845348,
          8404768971557133,
          10147906909122782,
          7584397338083635,
          7956531486848446,
          9000077724230537,
          13697272717446680,
          16005596696818394,
          30314860819592670,
          10476084986961340,
          15261462176335860
         ],
         "yaxis": "y"
        }
       ],
       "layout": {
        "legend": {
         "tracegroupgap": 0
        },
        "template": {
         "data": {
          "bar": [
           {
            "error_x": {
             "color": "#2a3f5f"
            },
            "error_y": {
             "color": "#2a3f5f"
            },
            "marker": {
             "line": {
              "color": "#E5ECF6",
              "width": 0.5
             }
            },
            "type": "bar"
           }
          ],
          "barpolar": [
           {
            "marker": {
             "line": {
              "color": "#E5ECF6",
              "width": 0.5
             }
            },
            "type": "barpolar"
           }
          ],
          "carpet": [
           {
            "aaxis": {
             "endlinecolor": "#2a3f5f",
             "gridcolor": "white",
             "linecolor": "white",
             "minorgridcolor": "white",
             "startlinecolor": "#2a3f5f"
            },
            "baxis": {
             "endlinecolor": "#2a3f5f",
             "gridcolor": "white",
             "linecolor": "white",
             "minorgridcolor": "white",
             "startlinecolor": "#2a3f5f"
            },
            "type": "carpet"
           }
          ],
          "choropleth": [
           {
            "colorbar": {
             "outlinewidth": 0,
             "ticks": ""
            },
            "type": "choropleth"
           }
          ],
          "contour": [
           {
            "colorbar": {
             "outlinewidth": 0,
             "ticks": ""
            },
            "colorscale": [
             [
              0,
              "#0d0887"
             ],
             [
              0.1111111111111111,
              "#46039f"
             ],
             [
              0.2222222222222222,
              "#7201a8"
             ],
             [
              0.3333333333333333,
              "#9c179e"
             ],
             [
              0.4444444444444444,
              "#bd3786"
             ],
             [
              0.5555555555555556,
              "#d8576b"
             ],
             [
              0.6666666666666666,
              "#ed7953"
             ],
             [
              0.7777777777777778,
              "#fb9f3a"
             ],
             [
              0.8888888888888888,
              "#fdca26"
             ],
             [
              1,
              "#f0f921"
             ]
            ],
            "type": "contour"
           }
          ],
          "contourcarpet": [
           {
            "colorbar": {
             "outlinewidth": 0,
             "ticks": ""
            },
            "type": "contourcarpet"
           }
          ],
          "heatmap": [
           {
            "colorbar": {
             "outlinewidth": 0,
             "ticks": ""
            },
            "colorscale": [
             [
              0,
              "#0d0887"
             ],
             [
              0.1111111111111111,
              "#46039f"
             ],
             [
              0.2222222222222222,
              "#7201a8"
             ],
             [
              0.3333333333333333,
              "#9c179e"
             ],
             [
              0.4444444444444444,
              "#bd3786"
             ],
             [
              0.5555555555555556,
              "#d8576b"
             ],
             [
              0.6666666666666666,
              "#ed7953"
             ],
             [
              0.7777777777777778,
              "#fb9f3a"
             ],
             [
              0.8888888888888888,
              "#fdca26"
             ],
             [
              1,
              "#f0f921"
             ]
            ],
            "type": "heatmap"
           }
          ],
          "heatmapgl": [
           {
            "colorbar": {
             "outlinewidth": 0,
             "ticks": ""
            },
            "colorscale": [
             [
              0,
              "#0d0887"
             ],
             [
              0.1111111111111111,
              "#46039f"
             ],
             [
              0.2222222222222222,
              "#7201a8"
             ],
             [
              0.3333333333333333,
              "#9c179e"
             ],
             [
              0.4444444444444444,
              "#bd3786"
             ],
             [
              0.5555555555555556,
              "#d8576b"
             ],
             [
              0.6666666666666666,
              "#ed7953"
             ],
             [
              0.7777777777777778,
              "#fb9f3a"
             ],
             [
              0.8888888888888888,
              "#fdca26"
             ],
             [
              1,
              "#f0f921"
             ]
            ],
            "type": "heatmapgl"
           }
          ],
          "histogram": [
           {
            "marker": {
             "colorbar": {
              "outlinewidth": 0,
              "ticks": ""
             }
            },
            "type": "histogram"
           }
          ],
          "histogram2d": [
           {
            "colorbar": {
             "outlinewidth": 0,
             "ticks": ""
            },
            "colorscale": [
             [
              0,
              "#0d0887"
             ],
             [
              0.1111111111111111,
              "#46039f"
             ],
             [
              0.2222222222222222,
              "#7201a8"
             ],
             [
              0.3333333333333333,
              "#9c179e"
             ],
             [
              0.4444444444444444,
              "#bd3786"
             ],
             [
              0.5555555555555556,
              "#d8576b"
             ],
             [
              0.6666666666666666,
              "#ed7953"
             ],
             [
              0.7777777777777778,
              "#fb9f3a"
             ],
             [
              0.8888888888888888,
              "#fdca26"
             ],
             [
              1,
              "#f0f921"
             ]
            ],
            "type": "histogram2d"
           }
          ],
          "histogram2dcontour": [
           {
            "colorbar": {
             "outlinewidth": 0,
             "ticks": ""
            },
            "colorscale": [
             [
              0,
              "#0d0887"
             ],
             [
              0.1111111111111111,
              "#46039f"
             ],
             [
              0.2222222222222222,
              "#7201a8"
             ],
             [
              0.3333333333333333,
              "#9c179e"
             ],
             [
              0.4444444444444444,
              "#bd3786"
             ],
             [
              0.5555555555555556,
              "#d8576b"
             ],
             [
              0.6666666666666666,
              "#ed7953"
             ],
             [
              0.7777777777777778,
              "#fb9f3a"
             ],
             [
              0.8888888888888888,
              "#fdca26"
             ],
             [
              1,
              "#f0f921"
             ]
            ],
            "type": "histogram2dcontour"
           }
          ],
          "mesh3d": [
           {
            "colorbar": {
             "outlinewidth": 0,
             "ticks": ""
            },
            "type": "mesh3d"
           }
          ],
          "parcoords": [
           {
            "line": {
             "colorbar": {
              "outlinewidth": 0,
              "ticks": ""
             }
            },
            "type": "parcoords"
           }
          ],
          "pie": [
           {
            "automargin": true,
            "type": "pie"
           }
          ],
          "scatter": [
           {
            "marker": {
             "colorbar": {
              "outlinewidth": 0,
              "ticks": ""
             }
            },
            "type": "scatter"
           }
          ],
          "scatter3d": [
           {
            "line": {
             "colorbar": {
              "outlinewidth": 0,
              "ticks": ""
             }
            },
            "marker": {
             "colorbar": {
              "outlinewidth": 0,
              "ticks": ""
             }
            },
            "type": "scatter3d"
           }
          ],
          "scattercarpet": [
           {
            "marker": {
             "colorbar": {
              "outlinewidth": 0,
              "ticks": ""
             }
            },
            "type": "scattercarpet"
           }
          ],
          "scattergeo": [
           {
            "marker": {
             "colorbar": {
              "outlinewidth": 0,
              "ticks": ""
             }
            },
            "type": "scattergeo"
           }
          ],
          "scattergl": [
           {
            "marker": {
             "colorbar": {
              "outlinewidth": 0,
              "ticks": ""
             }
            },
            "type": "scattergl"
           }
          ],
          "scattermapbox": [
           {
            "marker": {
             "colorbar": {
              "outlinewidth": 0,
              "ticks": ""
             }
            },
            "type": "scattermapbox"
           }
          ],
          "scatterpolar": [
           {
            "marker": {
             "colorbar": {
              "outlinewidth": 0,
              "ticks": ""
             }
            },
            "type": "scatterpolar"
           }
          ],
          "scatterpolargl": [
           {
            "marker": {
             "colorbar": {
              "outlinewidth": 0,
              "ticks": ""
             }
            },
            "type": "scatterpolargl"
           }
          ],
          "scatterternary": [
           {
            "marker": {
             "colorbar": {
              "outlinewidth": 0,
              "ticks": ""
             }
            },
            "type": "scatterternary"
           }
          ],
          "surface": [
           {
            "colorbar": {
             "outlinewidth": 0,
             "ticks": ""
            },
            "colorscale": [
             [
              0,
              "#0d0887"
             ],
             [
              0.1111111111111111,
              "#46039f"
             ],
             [
              0.2222222222222222,
              "#7201a8"
             ],
             [
              0.3333333333333333,
              "#9c179e"
             ],
             [
              0.4444444444444444,
              "#bd3786"
             ],
             [
              0.5555555555555556,
              "#d8576b"
             ],
             [
              0.6666666666666666,
              "#ed7953"
             ],
             [
              0.7777777777777778,
              "#fb9f3a"
             ],
             [
              0.8888888888888888,
              "#fdca26"
             ],
             [
              1,
              "#f0f921"
             ]
            ],
            "type": "surface"
           }
          ],
          "table": [
           {
            "cells": {
             "fill": {
              "color": "#EBF0F8"
             },
             "line": {
              "color": "white"
             }
            },
            "header": {
             "fill": {
              "color": "#C8D4E3"
             },
             "line": {
              "color": "white"
             }
            },
            "type": "table"
           }
          ]
         },
         "layout": {
          "annotationdefaults": {
           "arrowcolor": "#2a3f5f",
           "arrowhead": 0,
           "arrowwidth": 1
          },
          "autotypenumbers": "strict",
          "coloraxis": {
           "colorbar": {
            "outlinewidth": 0,
            "ticks": ""
           }
          },
          "colorscale": {
           "diverging": [
            [
             0,
             "#8e0152"
            ],
            [
             0.1,
             "#c51b7d"
            ],
            [
             0.2,
             "#de77ae"
            ],
            [
             0.3,
             "#f1b6da"
            ],
            [
             0.4,
             "#fde0ef"
            ],
            [
             0.5,
             "#f7f7f7"
            ],
            [
             0.6,
             "#e6f5d0"
            ],
            [
             0.7,
             "#b8e186"
            ],
            [
             0.8,
             "#7fbc41"
            ],
            [
             0.9,
             "#4d9221"
            ],
            [
             1,
             "#276419"
            ]
           ],
           "sequential": [
            [
             0,
             "#0d0887"
            ],
            [
             0.1111111111111111,
             "#46039f"
            ],
            [
             0.2222222222222222,
             "#7201a8"
            ],
            [
             0.3333333333333333,
             "#9c179e"
            ],
            [
             0.4444444444444444,
             "#bd3786"
            ],
            [
             0.5555555555555556,
             "#d8576b"
            ],
            [
             0.6666666666666666,
             "#ed7953"
            ],
            [
             0.7777777777777778,
             "#fb9f3a"
            ],
            [
             0.8888888888888888,
             "#fdca26"
            ],
            [
             1,
             "#f0f921"
            ]
           ],
           "sequentialminus": [
            [
             0,
             "#0d0887"
            ],
            [
             0.1111111111111111,
             "#46039f"
            ],
            [
             0.2222222222222222,
             "#7201a8"
            ],
            [
             0.3333333333333333,
             "#9c179e"
            ],
            [
             0.4444444444444444,
             "#bd3786"
            ],
            [
             0.5555555555555556,
             "#d8576b"
            ],
            [
             0.6666666666666666,
             "#ed7953"
            ],
            [
             0.7777777777777778,
             "#fb9f3a"
            ],
            [
             0.8888888888888888,
             "#fdca26"
            ],
            [
             1,
             "#f0f921"
            ]
           ]
          },
          "colorway": [
           "#636efa",
           "#EF553B",
           "#00cc96",
           "#ab63fa",
           "#FFA15A",
           "#19d3f3",
           "#FF6692",
           "#B6E880",
           "#FF97FF",
           "#FECB52"
          ],
          "font": {
           "color": "#2a3f5f"
          },
          "geo": {
           "bgcolor": "white",
           "lakecolor": "white",
           "landcolor": "#E5ECF6",
           "showlakes": true,
           "showland": true,
           "subunitcolor": "white"
          },
          "hoverlabel": {
           "align": "left"
          },
          "hovermode": "closest",
          "mapbox": {
           "style": "light"
          },
          "paper_bgcolor": "white",
          "plot_bgcolor": "#E5ECF6",
          "polar": {
           "angularaxis": {
            "gridcolor": "white",
            "linecolor": "white",
            "ticks": ""
           },
           "bgcolor": "#E5ECF6",
           "radialaxis": {
            "gridcolor": "white",
            "linecolor": "white",
            "ticks": ""
           }
          },
          "scene": {
           "xaxis": {
            "backgroundcolor": "#E5ECF6",
            "gridcolor": "white",
            "gridwidth": 2,
            "linecolor": "white",
            "showbackground": true,
            "ticks": "",
            "zerolinecolor": "white"
           },
           "yaxis": {
            "backgroundcolor": "#E5ECF6",
            "gridcolor": "white",
            "gridwidth": 2,
            "linecolor": "white",
            "showbackground": true,
            "ticks": "",
            "zerolinecolor": "white"
           },
           "zaxis": {
            "backgroundcolor": "#E5ECF6",
            "gridcolor": "white",
            "gridwidth": 2,
            "linecolor": "white",
            "showbackground": true,
            "ticks": "",
            "zerolinecolor": "white"
           }
          },
          "shapedefaults": {
           "line": {
            "color": "#2a3f5f"
           }
          },
          "ternary": {
           "aaxis": {
            "gridcolor": "white",
            "linecolor": "white",
            "ticks": ""
           },
           "baxis": {
            "gridcolor": "white",
            "linecolor": "white",
            "ticks": ""
           },
           "bgcolor": "#E5ECF6",
           "caxis": {
            "gridcolor": "white",
            "linecolor": "white",
            "ticks": ""
           }
          },
          "title": {
           "x": 0.05
          },
          "xaxis": {
           "automargin": true,
           "gridcolor": "white",
           "linecolor": "white",
           "ticks": "",
           "title": {
            "standoff": 15
           },
           "zerolinecolor": "white",
           "zerolinewidth": 2
          },
          "yaxis": {
           "automargin": true,
           "gridcolor": "white",
           "linecolor": "white",
           "ticks": "",
           "title": {
            "standoff": 15
           },
           "zerolinecolor": "white",
           "zerolinewidth": 2
          }
         }
        },
        "title": {
         "text": "일별 거래대금"
        },
        "xaxis": {
         "anchor": "y",
         "domain": [
          0,
          1
         ],
         "title": {
          "text": "day"
         }
        },
        "yaxis": {
         "anchor": "x",
         "domain": [
          0,
          1
         ],
         "title": {
          "text": "volume_price"
         }
        }
       }
      }
     },
     "metadata": {}
    }
   ],
   "metadata": {}
  },
  {
   "cell_type": "code",
   "execution_count": 12,
   "source": [
    "volume_price_df[['volume_price']].idxmax()"
   ],
   "outputs": [
    {
     "output_type": "execute_result",
     "data": {
      "text/plain": [
       "volume_price   2020-03-27\n",
       "dtype: datetime64[ns]"
      ]
     },
     "metadata": {},
     "execution_count": 12
    }
   ],
   "metadata": {}
  },
  {
   "cell_type": "code",
   "execution_count": 13,
   "source": [
    "volume_price_df[['volume_price']]"
   ],
   "outputs": [
    {
     "output_type": "execute_result",
     "data": {
      "text/plain": [
       "                 volume_price\n",
       "day                          \n",
       "2020-01-20     23171347715453\n",
       "2020-01-21     43814148819654\n",
       "2020-01-22     47979396764501\n",
       "2020-01-23    125023847190241\n",
       "2020-01-28    345523183109685\n",
       "2020-01-29    283925420638400\n",
       "2020-01-30    659693776352771\n",
       "2020-01-31    535771128027554\n",
       "2020-02-03    648021371347992\n",
       "2020-02-04    565277829541024\n",
       "2020-02-05    524041465969322\n",
       "2020-02-06    613644589876370\n",
       "2020-02-07    733571350872115\n",
       "2020-02-10    657456627589055\n",
       "2020-02-11    644835275354674\n",
       "2020-02-12    710161243746870\n",
       "2020-02-13    920432896725260\n",
       "2020-02-14   1061678894031949\n",
       "2020-02-17   1295916069819997\n",
       "2020-02-18   2648731199154338\n",
       "2020-02-19   1729182107284726\n",
       "2020-02-20   2583751204968721\n",
       "2020-02-21   1915233937329638\n",
       "2020-02-24   3500911956437035\n",
       "2020-02-25   2680245749882471\n",
       "2020-02-26   2723524229659481\n",
       "2020-02-27   2630017898482076\n",
       "2020-02-28   4059670228797037\n",
       "2020-03-02   2888032720253399\n",
       "2020-03-03   3039818538134523\n",
       "2020-03-04   2223007606785414\n",
       "2020-03-05   2242046782050672\n",
       "2020-03-06   3238626006591929\n",
       "2020-03-09   7106691388325792\n",
       "2020-03-10   6203482217378248\n",
       "2020-03-11   8941638490741840\n",
       "2020-03-12   7905631136377555\n",
       "2020-03-13  10032789613716630\n",
       "2020-03-16   7060360616919184\n",
       "2020-03-17   9606634996845348\n",
       "2020-03-18   8404768971557133\n",
       "2020-03-19  10147906909122782\n",
       "2020-03-20   7584397338083635\n",
       "2020-03-23   7956531486848446\n",
       "2020-03-24   9000077724230537\n",
       "2020-03-25  13697272717446680\n",
       "2020-03-26  16005596696818394\n",
       "2020-03-27  30314860819592672\n",
       "2020-03-30  10476084986961340\n",
       "2020-03-31  15261462176335860"
      ],
      "text/html": [
       "<div>\n",
       "<style scoped>\n",
       "    .dataframe tbody tr th:only-of-type {\n",
       "        vertical-align: middle;\n",
       "    }\n",
       "\n",
       "    .dataframe tbody tr th {\n",
       "        vertical-align: top;\n",
       "    }\n",
       "\n",
       "    .dataframe thead th {\n",
       "        text-align: right;\n",
       "    }\n",
       "</style>\n",
       "<table border=\"1\" class=\"dataframe\">\n",
       "  <thead>\n",
       "    <tr style=\"text-align: right;\">\n",
       "      <th></th>\n",
       "      <th>volume_price</th>\n",
       "    </tr>\n",
       "    <tr>\n",
       "      <th>day</th>\n",
       "      <th></th>\n",
       "    </tr>\n",
       "  </thead>\n",
       "  <tbody>\n",
       "    <tr>\n",
       "      <th>2020-01-20</th>\n",
       "      <td>23171347715453</td>\n",
       "    </tr>\n",
       "    <tr>\n",
       "      <th>2020-01-21</th>\n",
       "      <td>43814148819654</td>\n",
       "    </tr>\n",
       "    <tr>\n",
       "      <th>2020-01-22</th>\n",
       "      <td>47979396764501</td>\n",
       "    </tr>\n",
       "    <tr>\n",
       "      <th>2020-01-23</th>\n",
       "      <td>125023847190241</td>\n",
       "    </tr>\n",
       "    <tr>\n",
       "      <th>2020-01-28</th>\n",
       "      <td>345523183109685</td>\n",
       "    </tr>\n",
       "    <tr>\n",
       "      <th>2020-01-29</th>\n",
       "      <td>283925420638400</td>\n",
       "    </tr>\n",
       "    <tr>\n",
       "      <th>2020-01-30</th>\n",
       "      <td>659693776352771</td>\n",
       "    </tr>\n",
       "    <tr>\n",
       "      <th>2020-01-31</th>\n",
       "      <td>535771128027554</td>\n",
       "    </tr>\n",
       "    <tr>\n",
       "      <th>2020-02-03</th>\n",
       "      <td>648021371347992</td>\n",
       "    </tr>\n",
       "    <tr>\n",
       "      <th>2020-02-04</th>\n",
       "      <td>565277829541024</td>\n",
       "    </tr>\n",
       "    <tr>\n",
       "      <th>2020-02-05</th>\n",
       "      <td>524041465969322</td>\n",
       "    </tr>\n",
       "    <tr>\n",
       "      <th>2020-02-06</th>\n",
       "      <td>613644589876370</td>\n",
       "    </tr>\n",
       "    <tr>\n",
       "      <th>2020-02-07</th>\n",
       "      <td>733571350872115</td>\n",
       "    </tr>\n",
       "    <tr>\n",
       "      <th>2020-02-10</th>\n",
       "      <td>657456627589055</td>\n",
       "    </tr>\n",
       "    <tr>\n",
       "      <th>2020-02-11</th>\n",
       "      <td>644835275354674</td>\n",
       "    </tr>\n",
       "    <tr>\n",
       "      <th>2020-02-12</th>\n",
       "      <td>710161243746870</td>\n",
       "    </tr>\n",
       "    <tr>\n",
       "      <th>2020-02-13</th>\n",
       "      <td>920432896725260</td>\n",
       "    </tr>\n",
       "    <tr>\n",
       "      <th>2020-02-14</th>\n",
       "      <td>1061678894031949</td>\n",
       "    </tr>\n",
       "    <tr>\n",
       "      <th>2020-02-17</th>\n",
       "      <td>1295916069819997</td>\n",
       "    </tr>\n",
       "    <tr>\n",
       "      <th>2020-02-18</th>\n",
       "      <td>2648731199154338</td>\n",
       "    </tr>\n",
       "    <tr>\n",
       "      <th>2020-02-19</th>\n",
       "      <td>1729182107284726</td>\n",
       "    </tr>\n",
       "    <tr>\n",
       "      <th>2020-02-20</th>\n",
       "      <td>2583751204968721</td>\n",
       "    </tr>\n",
       "    <tr>\n",
       "      <th>2020-02-21</th>\n",
       "      <td>1915233937329638</td>\n",
       "    </tr>\n",
       "    <tr>\n",
       "      <th>2020-02-24</th>\n",
       "      <td>3500911956437035</td>\n",
       "    </tr>\n",
       "    <tr>\n",
       "      <th>2020-02-25</th>\n",
       "      <td>2680245749882471</td>\n",
       "    </tr>\n",
       "    <tr>\n",
       "      <th>2020-02-26</th>\n",
       "      <td>2723524229659481</td>\n",
       "    </tr>\n",
       "    <tr>\n",
       "      <th>2020-02-27</th>\n",
       "      <td>2630017898482076</td>\n",
       "    </tr>\n",
       "    <tr>\n",
       "      <th>2020-02-28</th>\n",
       "      <td>4059670228797037</td>\n",
       "    </tr>\n",
       "    <tr>\n",
       "      <th>2020-03-02</th>\n",
       "      <td>2888032720253399</td>\n",
       "    </tr>\n",
       "    <tr>\n",
       "      <th>2020-03-03</th>\n",
       "      <td>3039818538134523</td>\n",
       "    </tr>\n",
       "    <tr>\n",
       "      <th>2020-03-04</th>\n",
       "      <td>2223007606785414</td>\n",
       "    </tr>\n",
       "    <tr>\n",
       "      <th>2020-03-05</th>\n",
       "      <td>2242046782050672</td>\n",
       "    </tr>\n",
       "    <tr>\n",
       "      <th>2020-03-06</th>\n",
       "      <td>3238626006591929</td>\n",
       "    </tr>\n",
       "    <tr>\n",
       "      <th>2020-03-09</th>\n",
       "      <td>7106691388325792</td>\n",
       "    </tr>\n",
       "    <tr>\n",
       "      <th>2020-03-10</th>\n",
       "      <td>6203482217378248</td>\n",
       "    </tr>\n",
       "    <tr>\n",
       "      <th>2020-03-11</th>\n",
       "      <td>8941638490741840</td>\n",
       "    </tr>\n",
       "    <tr>\n",
       "      <th>2020-03-12</th>\n",
       "      <td>7905631136377555</td>\n",
       "    </tr>\n",
       "    <tr>\n",
       "      <th>2020-03-13</th>\n",
       "      <td>10032789613716630</td>\n",
       "    </tr>\n",
       "    <tr>\n",
       "      <th>2020-03-16</th>\n",
       "      <td>7060360616919184</td>\n",
       "    </tr>\n",
       "    <tr>\n",
       "      <th>2020-03-17</th>\n",
       "      <td>9606634996845348</td>\n",
       "    </tr>\n",
       "    <tr>\n",
       "      <th>2020-03-18</th>\n",
       "      <td>8404768971557133</td>\n",
       "    </tr>\n",
       "    <tr>\n",
       "      <th>2020-03-19</th>\n",
       "      <td>10147906909122782</td>\n",
       "    </tr>\n",
       "    <tr>\n",
       "      <th>2020-03-20</th>\n",
       "      <td>7584397338083635</td>\n",
       "    </tr>\n",
       "    <tr>\n",
       "      <th>2020-03-23</th>\n",
       "      <td>7956531486848446</td>\n",
       "    </tr>\n",
       "    <tr>\n",
       "      <th>2020-03-24</th>\n",
       "      <td>9000077724230537</td>\n",
       "    </tr>\n",
       "    <tr>\n",
       "      <th>2020-03-25</th>\n",
       "      <td>13697272717446680</td>\n",
       "    </tr>\n",
       "    <tr>\n",
       "      <th>2020-03-26</th>\n",
       "      <td>16005596696818394</td>\n",
       "    </tr>\n",
       "    <tr>\n",
       "      <th>2020-03-27</th>\n",
       "      <td>30314860819592672</td>\n",
       "    </tr>\n",
       "    <tr>\n",
       "      <th>2020-03-30</th>\n",
       "      <td>10476084986961340</td>\n",
       "    </tr>\n",
       "    <tr>\n",
       "      <th>2020-03-31</th>\n",
       "      <td>15261462176335860</td>\n",
       "    </tr>\n",
       "  </tbody>\n",
       "</table>\n",
       "</div>"
      ]
     },
     "metadata": {},
     "execution_count": 13
    }
   ],
   "metadata": {}
  },
  {
   "cell_type": "code",
   "execution_count": 14,
   "source": [
    "march_27 = df[df['day']=='2020-03-27']"
   ],
   "outputs": [],
   "metadata": {}
  },
  {
   "cell_type": "code",
   "execution_count": 15,
   "source": [
    "march_27['stock_name'].value_counts()"
   ],
   "outputs": [
    {
     "output_type": "execute_result",
     "data": {
      "text/plain": [
       "씨젠           5999\n",
       "삼성전자보통주      2472\n",
       "파미셀보통주       2242\n",
       "신풍제약보통주      1962\n",
       "수젠텍          1898\n",
       "             ... \n",
       "디케이락            1\n",
       "에스케이씨 솔믹스       1\n",
       "케이씨코트렐보통주       1\n",
       "골프존             1\n",
       "대한뉴팜            1\n",
       "Name: stock_name, Length: 1549, dtype: int64"
      ]
     },
     "metadata": {},
     "execution_count": 15
    }
   ],
   "metadata": {}
  },
  {
   "cell_type": "code",
   "execution_count": 16,
   "source": [
    "march_27[march_27['stock_name']=='씨젠']"
   ],
   "outputs": [
    {
     "output_type": "execute_result",
     "data": {
      "text/plain": [
       "               id        day  gender  age adress  time    stock_code  \\\n",
       "295700  A00015953 2020-03-27       1   20     전남     3  00000A096530   \n",
       "258851  A00015020 2020-03-27       1   30     인천     3  00000A096530   \n",
       "498394  A00021794 2020-03-27       2   20     인천     3  00000A096530   \n",
       "819777   A0009228 2020-03-27       2   30     경기     1  00000A096530   \n",
       "258846  A00015020 2020-03-27       1   30     인천     3  00000A096530   \n",
       "...           ...        ...     ...  ...    ...   ...           ...   \n",
       "799145   A0008587 2020-03-27       2   30     서울     3  00000A096530   \n",
       "540590  A00023148 2020-03-27       1   40     전북     2  00000A096530   \n",
       "799135   A0008587 2020-03-27       2   30     서울     3  00000A096530   \n",
       "556578  A00023519 2020-03-27       2   30     충북     2  00000A096530   \n",
       "540597  A00023148 2020-03-27       1   40     전북     3  00000A096530   \n",
       "\n",
       "       stock_name  kospi_kosdaq  sell_buy  order_code  order_price  \\\n",
       "295700         씨젠             3         1           1       115800   \n",
       "258851         씨젠             3         1           1       116400   \n",
       "498394         씨젠             3         2           1       118000   \n",
       "819777         씨젠             3         1           1       139700   \n",
       "258846         씨젠             3         2           5       148800   \n",
       "...           ...           ...       ...         ...          ...   \n",
       "799145         씨젠             3         1           5       148800   \n",
       "540590         씨젠             3         1           1       136300   \n",
       "799135         씨젠             3         2           5       148800   \n",
       "556578         씨젠             3         2           1       137000   \n",
       "540597         씨젠             3         2           5       148800   \n",
       "\n",
       "        order_volume  true_order_volume  true_order_price  before_close  \\\n",
       "295700            41                 41           4747800        114500   \n",
       "258851            72                 72           8380800        114500   \n",
       "498394             1                  1            118000        114500   \n",
       "819777             9                  9           1257300        114500   \n",
       "258846            72                 72           8316000        114500   \n",
       "...              ...                ...               ...           ...   \n",
       "799145             3                  3            294000        114500   \n",
       "540590            51                 51           6951300        114500   \n",
       "799135             1                  1            107900        114500   \n",
       "556578             5                  5            685000        114500   \n",
       "540597            11                 11           1348600        114500   \n",
       "\n",
       "         start    high    low   close    volume   volume_price high_yn low_yn  \n",
       "295700  125500  141400  97900  115900  19626058  2456040000000       N      N  \n",
       "258851  125500  141400  97900  115900  19626058  2456040000000       N      N  \n",
       "498394  125500  141400  97900  115900  19626058  2456040000000       N      N  \n",
       "819777  125500  141400  97900  115900  19626058  2456040000000       N      N  \n",
       "258846  125500  141400  97900  115900  19626058  2456040000000       N      N  \n",
       "...        ...     ...    ...     ...       ...            ...     ...    ...  \n",
       "799145  125500  141400  97900  115900  19626058  2456040000000       N      N  \n",
       "540590  125500  141400  97900  115900  19626058  2456040000000       N      N  \n",
       "799135  125500  141400  97900  115900  19626058  2456040000000       N      N  \n",
       "556578  125500  141400  97900  115900  19626058  2456040000000       N      N  \n",
       "540597  125500  141400  97900  115900  19626058  2456040000000       N      N  \n",
       "\n",
       "[5999 rows x 24 columns]"
      ],
      "text/html": [
       "<div>\n",
       "<style scoped>\n",
       "    .dataframe tbody tr th:only-of-type {\n",
       "        vertical-align: middle;\n",
       "    }\n",
       "\n",
       "    .dataframe tbody tr th {\n",
       "        vertical-align: top;\n",
       "    }\n",
       "\n",
       "    .dataframe thead th {\n",
       "        text-align: right;\n",
       "    }\n",
       "</style>\n",
       "<table border=\"1\" class=\"dataframe\">\n",
       "  <thead>\n",
       "    <tr style=\"text-align: right;\">\n",
       "      <th></th>\n",
       "      <th>id</th>\n",
       "      <th>day</th>\n",
       "      <th>gender</th>\n",
       "      <th>age</th>\n",
       "      <th>adress</th>\n",
       "      <th>time</th>\n",
       "      <th>stock_code</th>\n",
       "      <th>stock_name</th>\n",
       "      <th>kospi_kosdaq</th>\n",
       "      <th>sell_buy</th>\n",
       "      <th>order_code</th>\n",
       "      <th>order_price</th>\n",
       "      <th>order_volume</th>\n",
       "      <th>true_order_volume</th>\n",
       "      <th>true_order_price</th>\n",
       "      <th>before_close</th>\n",
       "      <th>start</th>\n",
       "      <th>high</th>\n",
       "      <th>low</th>\n",
       "      <th>close</th>\n",
       "      <th>volume</th>\n",
       "      <th>volume_price</th>\n",
       "      <th>high_yn</th>\n",
       "      <th>low_yn</th>\n",
       "    </tr>\n",
       "  </thead>\n",
       "  <tbody>\n",
       "    <tr>\n",
       "      <th>295700</th>\n",
       "      <td>A00015953</td>\n",
       "      <td>2020-03-27</td>\n",
       "      <td>1</td>\n",
       "      <td>20</td>\n",
       "      <td>전남</td>\n",
       "      <td>3</td>\n",
       "      <td>00000A096530</td>\n",
       "      <td>씨젠</td>\n",
       "      <td>3</td>\n",
       "      <td>1</td>\n",
       "      <td>1</td>\n",
       "      <td>115800</td>\n",
       "      <td>41</td>\n",
       "      <td>41</td>\n",
       "      <td>4747800</td>\n",
       "      <td>114500</td>\n",
       "      <td>125500</td>\n",
       "      <td>141400</td>\n",
       "      <td>97900</td>\n",
       "      <td>115900</td>\n",
       "      <td>19626058</td>\n",
       "      <td>2456040000000</td>\n",
       "      <td>N</td>\n",
       "      <td>N</td>\n",
       "    </tr>\n",
       "    <tr>\n",
       "      <th>258851</th>\n",
       "      <td>A00015020</td>\n",
       "      <td>2020-03-27</td>\n",
       "      <td>1</td>\n",
       "      <td>30</td>\n",
       "      <td>인천</td>\n",
       "      <td>3</td>\n",
       "      <td>00000A096530</td>\n",
       "      <td>씨젠</td>\n",
       "      <td>3</td>\n",
       "      <td>1</td>\n",
       "      <td>1</td>\n",
       "      <td>116400</td>\n",
       "      <td>72</td>\n",
       "      <td>72</td>\n",
       "      <td>8380800</td>\n",
       "      <td>114500</td>\n",
       "      <td>125500</td>\n",
       "      <td>141400</td>\n",
       "      <td>97900</td>\n",
       "      <td>115900</td>\n",
       "      <td>19626058</td>\n",
       "      <td>2456040000000</td>\n",
       "      <td>N</td>\n",
       "      <td>N</td>\n",
       "    </tr>\n",
       "    <tr>\n",
       "      <th>498394</th>\n",
       "      <td>A00021794</td>\n",
       "      <td>2020-03-27</td>\n",
       "      <td>2</td>\n",
       "      <td>20</td>\n",
       "      <td>인천</td>\n",
       "      <td>3</td>\n",
       "      <td>00000A096530</td>\n",
       "      <td>씨젠</td>\n",
       "      <td>3</td>\n",
       "      <td>2</td>\n",
       "      <td>1</td>\n",
       "      <td>118000</td>\n",
       "      <td>1</td>\n",
       "      <td>1</td>\n",
       "      <td>118000</td>\n",
       "      <td>114500</td>\n",
       "      <td>125500</td>\n",
       "      <td>141400</td>\n",
       "      <td>97900</td>\n",
       "      <td>115900</td>\n",
       "      <td>19626058</td>\n",
       "      <td>2456040000000</td>\n",
       "      <td>N</td>\n",
       "      <td>N</td>\n",
       "    </tr>\n",
       "    <tr>\n",
       "      <th>819777</th>\n",
       "      <td>A0009228</td>\n",
       "      <td>2020-03-27</td>\n",
       "      <td>2</td>\n",
       "      <td>30</td>\n",
       "      <td>경기</td>\n",
       "      <td>1</td>\n",
       "      <td>00000A096530</td>\n",
       "      <td>씨젠</td>\n",
       "      <td>3</td>\n",
       "      <td>1</td>\n",
       "      <td>1</td>\n",
       "      <td>139700</td>\n",
       "      <td>9</td>\n",
       "      <td>9</td>\n",
       "      <td>1257300</td>\n",
       "      <td>114500</td>\n",
       "      <td>125500</td>\n",
       "      <td>141400</td>\n",
       "      <td>97900</td>\n",
       "      <td>115900</td>\n",
       "      <td>19626058</td>\n",
       "      <td>2456040000000</td>\n",
       "      <td>N</td>\n",
       "      <td>N</td>\n",
       "    </tr>\n",
       "    <tr>\n",
       "      <th>258846</th>\n",
       "      <td>A00015020</td>\n",
       "      <td>2020-03-27</td>\n",
       "      <td>1</td>\n",
       "      <td>30</td>\n",
       "      <td>인천</td>\n",
       "      <td>3</td>\n",
       "      <td>00000A096530</td>\n",
       "      <td>씨젠</td>\n",
       "      <td>3</td>\n",
       "      <td>2</td>\n",
       "      <td>5</td>\n",
       "      <td>148800</td>\n",
       "      <td>72</td>\n",
       "      <td>72</td>\n",
       "      <td>8316000</td>\n",
       "      <td>114500</td>\n",
       "      <td>125500</td>\n",
       "      <td>141400</td>\n",
       "      <td>97900</td>\n",
       "      <td>115900</td>\n",
       "      <td>19626058</td>\n",
       "      <td>2456040000000</td>\n",
       "      <td>N</td>\n",
       "      <td>N</td>\n",
       "    </tr>\n",
       "    <tr>\n",
       "      <th>...</th>\n",
       "      <td>...</td>\n",
       "      <td>...</td>\n",
       "      <td>...</td>\n",
       "      <td>...</td>\n",
       "      <td>...</td>\n",
       "      <td>...</td>\n",
       "      <td>...</td>\n",
       "      <td>...</td>\n",
       "      <td>...</td>\n",
       "      <td>...</td>\n",
       "      <td>...</td>\n",
       "      <td>...</td>\n",
       "      <td>...</td>\n",
       "      <td>...</td>\n",
       "      <td>...</td>\n",
       "      <td>...</td>\n",
       "      <td>...</td>\n",
       "      <td>...</td>\n",
       "      <td>...</td>\n",
       "      <td>...</td>\n",
       "      <td>...</td>\n",
       "      <td>...</td>\n",
       "      <td>...</td>\n",
       "      <td>...</td>\n",
       "    </tr>\n",
       "    <tr>\n",
       "      <th>799145</th>\n",
       "      <td>A0008587</td>\n",
       "      <td>2020-03-27</td>\n",
       "      <td>2</td>\n",
       "      <td>30</td>\n",
       "      <td>서울</td>\n",
       "      <td>3</td>\n",
       "      <td>00000A096530</td>\n",
       "      <td>씨젠</td>\n",
       "      <td>3</td>\n",
       "      <td>1</td>\n",
       "      <td>5</td>\n",
       "      <td>148800</td>\n",
       "      <td>3</td>\n",
       "      <td>3</td>\n",
       "      <td>294000</td>\n",
       "      <td>114500</td>\n",
       "      <td>125500</td>\n",
       "      <td>141400</td>\n",
       "      <td>97900</td>\n",
       "      <td>115900</td>\n",
       "      <td>19626058</td>\n",
       "      <td>2456040000000</td>\n",
       "      <td>N</td>\n",
       "      <td>N</td>\n",
       "    </tr>\n",
       "    <tr>\n",
       "      <th>540590</th>\n",
       "      <td>A00023148</td>\n",
       "      <td>2020-03-27</td>\n",
       "      <td>1</td>\n",
       "      <td>40</td>\n",
       "      <td>전북</td>\n",
       "      <td>2</td>\n",
       "      <td>00000A096530</td>\n",
       "      <td>씨젠</td>\n",
       "      <td>3</td>\n",
       "      <td>1</td>\n",
       "      <td>1</td>\n",
       "      <td>136300</td>\n",
       "      <td>51</td>\n",
       "      <td>51</td>\n",
       "      <td>6951300</td>\n",
       "      <td>114500</td>\n",
       "      <td>125500</td>\n",
       "      <td>141400</td>\n",
       "      <td>97900</td>\n",
       "      <td>115900</td>\n",
       "      <td>19626058</td>\n",
       "      <td>2456040000000</td>\n",
       "      <td>N</td>\n",
       "      <td>N</td>\n",
       "    </tr>\n",
       "    <tr>\n",
       "      <th>799135</th>\n",
       "      <td>A0008587</td>\n",
       "      <td>2020-03-27</td>\n",
       "      <td>2</td>\n",
       "      <td>30</td>\n",
       "      <td>서울</td>\n",
       "      <td>3</td>\n",
       "      <td>00000A096530</td>\n",
       "      <td>씨젠</td>\n",
       "      <td>3</td>\n",
       "      <td>2</td>\n",
       "      <td>5</td>\n",
       "      <td>148800</td>\n",
       "      <td>1</td>\n",
       "      <td>1</td>\n",
       "      <td>107900</td>\n",
       "      <td>114500</td>\n",
       "      <td>125500</td>\n",
       "      <td>141400</td>\n",
       "      <td>97900</td>\n",
       "      <td>115900</td>\n",
       "      <td>19626058</td>\n",
       "      <td>2456040000000</td>\n",
       "      <td>N</td>\n",
       "      <td>N</td>\n",
       "    </tr>\n",
       "    <tr>\n",
       "      <th>556578</th>\n",
       "      <td>A00023519</td>\n",
       "      <td>2020-03-27</td>\n",
       "      <td>2</td>\n",
       "      <td>30</td>\n",
       "      <td>충북</td>\n",
       "      <td>2</td>\n",
       "      <td>00000A096530</td>\n",
       "      <td>씨젠</td>\n",
       "      <td>3</td>\n",
       "      <td>2</td>\n",
       "      <td>1</td>\n",
       "      <td>137000</td>\n",
       "      <td>5</td>\n",
       "      <td>5</td>\n",
       "      <td>685000</td>\n",
       "      <td>114500</td>\n",
       "      <td>125500</td>\n",
       "      <td>141400</td>\n",
       "      <td>97900</td>\n",
       "      <td>115900</td>\n",
       "      <td>19626058</td>\n",
       "      <td>2456040000000</td>\n",
       "      <td>N</td>\n",
       "      <td>N</td>\n",
       "    </tr>\n",
       "    <tr>\n",
       "      <th>540597</th>\n",
       "      <td>A00023148</td>\n",
       "      <td>2020-03-27</td>\n",
       "      <td>1</td>\n",
       "      <td>40</td>\n",
       "      <td>전북</td>\n",
       "      <td>3</td>\n",
       "      <td>00000A096530</td>\n",
       "      <td>씨젠</td>\n",
       "      <td>3</td>\n",
       "      <td>2</td>\n",
       "      <td>5</td>\n",
       "      <td>148800</td>\n",
       "      <td>11</td>\n",
       "      <td>11</td>\n",
       "      <td>1348600</td>\n",
       "      <td>114500</td>\n",
       "      <td>125500</td>\n",
       "      <td>141400</td>\n",
       "      <td>97900</td>\n",
       "      <td>115900</td>\n",
       "      <td>19626058</td>\n",
       "      <td>2456040000000</td>\n",
       "      <td>N</td>\n",
       "      <td>N</td>\n",
       "    </tr>\n",
       "  </tbody>\n",
       "</table>\n",
       "<p>5999 rows × 24 columns</p>\n",
       "</div>"
      ]
     },
     "metadata": {},
     "execution_count": 16
    }
   ],
   "metadata": {}
  },
  {
   "cell_type": "code",
   "execution_count": 17,
   "source": [
    "df['week'] = df['day'].dt.week\r\n",
    "df['weekday'] = df['day'].dt.weekday"
   ],
   "outputs": [
    {
     "output_type": "stream",
     "name": "stderr",
     "text": [
      "<ipython-input-17-419bcc590a4f>:1: FutureWarning:\n",
      "\n",
      "Series.dt.weekofyear and Series.dt.week have been deprecated.  Please use Series.dt.isocalendar().week instead.\n",
      "\n"
     ]
    }
   ],
   "metadata": {}
  },
  {
   "cell_type": "code",
   "execution_count": 18,
   "source": [
    "df.groupby(df['weekday'])['volume_price'].idxmax()"
   ],
   "outputs": [
    {
     "output_type": "execute_result",
     "data": {
      "text/plain": [
       "weekday\n",
       "0    793353\n",
       "1    727238\n",
       "2    354874\n",
       "3    559819\n",
       "4    841473\n",
       "Name: volume_price, dtype: int64"
      ]
     },
     "metadata": {},
     "execution_count": 18
    }
   ],
   "metadata": {}
  },
  {
   "cell_type": "code",
   "execution_count": 19,
   "source": [
    "age_max_stock = pd.DataFrame(df.groupby('age')['stock_name'].value_counts()).rename(columns={'stock_name':'count'})"
   ],
   "outputs": [],
   "metadata": {}
  },
  {
   "cell_type": "code",
   "execution_count": 20,
   "source": [
    "age_max_stock.reset_index(inplace=True)"
   ],
   "outputs": [],
   "metadata": {}
  },
  {
   "cell_type": "code",
   "execution_count": 21,
   "source": [
    "#연령대별 가장 높은 주식 종목 - 씨젠(삼성전자 제외)\r\n",
    "#조사한 주식 종목 1971개, 30대 1951 종목을 사서 가장 다양한 분포를 보였으며 50대가 제일 적었음 30,40,20,50대 순\r\n",
    "age_max_stock[age_max_stock['age']==40]"
   ],
   "outputs": [
    {
     "output_type": "execute_result",
     "data": {
      "text/plain": [
       "      age  stock_name  count\n",
       "3836   40     삼성전자보통주  16992\n",
       "3837   40    삼성전자1우선주   7197\n",
       "3838   40          씨젠   7124\n",
       "3839   40     신풍제약보통주   3002\n",
       "3840   40   이원다이애그노믹스   2822\n",
       "...   ...         ...    ...\n",
       "5722   40  한국주철관공업보통주      1\n",
       "5723   40       한국컴퓨터      1\n",
       "5724   40     한양증권보통주      1\n",
       "5725   40    한일시멘트보통주      1\n",
       "5726   40      형지아이앤씨      1\n",
       "\n",
       "[1891 rows x 3 columns]"
      ],
      "text/html": [
       "<div>\n",
       "<style scoped>\n",
       "    .dataframe tbody tr th:only-of-type {\n",
       "        vertical-align: middle;\n",
       "    }\n",
       "\n",
       "    .dataframe tbody tr th {\n",
       "        vertical-align: top;\n",
       "    }\n",
       "\n",
       "    .dataframe thead th {\n",
       "        text-align: right;\n",
       "    }\n",
       "</style>\n",
       "<table border=\"1\" class=\"dataframe\">\n",
       "  <thead>\n",
       "    <tr style=\"text-align: right;\">\n",
       "      <th></th>\n",
       "      <th>age</th>\n",
       "      <th>stock_name</th>\n",
       "      <th>count</th>\n",
       "    </tr>\n",
       "  </thead>\n",
       "  <tbody>\n",
       "    <tr>\n",
       "      <th>3836</th>\n",
       "      <td>40</td>\n",
       "      <td>삼성전자보통주</td>\n",
       "      <td>16992</td>\n",
       "    </tr>\n",
       "    <tr>\n",
       "      <th>3837</th>\n",
       "      <td>40</td>\n",
       "      <td>삼성전자1우선주</td>\n",
       "      <td>7197</td>\n",
       "    </tr>\n",
       "    <tr>\n",
       "      <th>3838</th>\n",
       "      <td>40</td>\n",
       "      <td>씨젠</td>\n",
       "      <td>7124</td>\n",
       "    </tr>\n",
       "    <tr>\n",
       "      <th>3839</th>\n",
       "      <td>40</td>\n",
       "      <td>신풍제약보통주</td>\n",
       "      <td>3002</td>\n",
       "    </tr>\n",
       "    <tr>\n",
       "      <th>3840</th>\n",
       "      <td>40</td>\n",
       "      <td>이원다이애그노믹스</td>\n",
       "      <td>2822</td>\n",
       "    </tr>\n",
       "    <tr>\n",
       "      <th>...</th>\n",
       "      <td>...</td>\n",
       "      <td>...</td>\n",
       "      <td>...</td>\n",
       "    </tr>\n",
       "    <tr>\n",
       "      <th>5722</th>\n",
       "      <td>40</td>\n",
       "      <td>한국주철관공업보통주</td>\n",
       "      <td>1</td>\n",
       "    </tr>\n",
       "    <tr>\n",
       "      <th>5723</th>\n",
       "      <td>40</td>\n",
       "      <td>한국컴퓨터</td>\n",
       "      <td>1</td>\n",
       "    </tr>\n",
       "    <tr>\n",
       "      <th>5724</th>\n",
       "      <td>40</td>\n",
       "      <td>한양증권보통주</td>\n",
       "      <td>1</td>\n",
       "    </tr>\n",
       "    <tr>\n",
       "      <th>5725</th>\n",
       "      <td>40</td>\n",
       "      <td>한일시멘트보통주</td>\n",
       "      <td>1</td>\n",
       "    </tr>\n",
       "    <tr>\n",
       "      <th>5726</th>\n",
       "      <td>40</td>\n",
       "      <td>형지아이앤씨</td>\n",
       "      <td>1</td>\n",
       "    </tr>\n",
       "  </tbody>\n",
       "</table>\n",
       "<p>1891 rows × 3 columns</p>\n",
       "</div>"
      ]
     },
     "metadata": {},
     "execution_count": 21
    }
   ],
   "metadata": {}
  },
  {
   "cell_type": "code",
   "execution_count": 22,
   "source": [
    "age_order_style = pd.DataFrame(df.groupby('age')['order_code'].value_counts()).rename(columns={'order_code':'count'})\r\n",
    "age_order_style.reset_index(inplace=True)\r\n",
    "age_order_style "
   ],
   "outputs": [
    {
     "output_type": "execute_result",
     "data": {
      "text/plain": [
       "   age  order_code   count\n",
       "0   20           1  189402\n",
       "1   20           5   11617\n",
       "2   30           1  307412\n",
       "3   30           5   23285\n",
       "4   40           1  198890\n",
       "5   40           5   11297\n",
       "6   50           1   96021\n",
       "7   50           5    8016"
      ],
      "text/html": [
       "<div>\n",
       "<style scoped>\n",
       "    .dataframe tbody tr th:only-of-type {\n",
       "        vertical-align: middle;\n",
       "    }\n",
       "\n",
       "    .dataframe tbody tr th {\n",
       "        vertical-align: top;\n",
       "    }\n",
       "\n",
       "    .dataframe thead th {\n",
       "        text-align: right;\n",
       "    }\n",
       "</style>\n",
       "<table border=\"1\" class=\"dataframe\">\n",
       "  <thead>\n",
       "    <tr style=\"text-align: right;\">\n",
       "      <th></th>\n",
       "      <th>age</th>\n",
       "      <th>order_code</th>\n",
       "      <th>count</th>\n",
       "    </tr>\n",
       "  </thead>\n",
       "  <tbody>\n",
       "    <tr>\n",
       "      <th>0</th>\n",
       "      <td>20</td>\n",
       "      <td>1</td>\n",
       "      <td>189402</td>\n",
       "    </tr>\n",
       "    <tr>\n",
       "      <th>1</th>\n",
       "      <td>20</td>\n",
       "      <td>5</td>\n",
       "      <td>11617</td>\n",
       "    </tr>\n",
       "    <tr>\n",
       "      <th>2</th>\n",
       "      <td>30</td>\n",
       "      <td>1</td>\n",
       "      <td>307412</td>\n",
       "    </tr>\n",
       "    <tr>\n",
       "      <th>3</th>\n",
       "      <td>30</td>\n",
       "      <td>5</td>\n",
       "      <td>23285</td>\n",
       "    </tr>\n",
       "    <tr>\n",
       "      <th>4</th>\n",
       "      <td>40</td>\n",
       "      <td>1</td>\n",
       "      <td>198890</td>\n",
       "    </tr>\n",
       "    <tr>\n",
       "      <th>5</th>\n",
       "      <td>40</td>\n",
       "      <td>5</td>\n",
       "      <td>11297</td>\n",
       "    </tr>\n",
       "    <tr>\n",
       "      <th>6</th>\n",
       "      <td>50</td>\n",
       "      <td>1</td>\n",
       "      <td>96021</td>\n",
       "    </tr>\n",
       "    <tr>\n",
       "      <th>7</th>\n",
       "      <td>50</td>\n",
       "      <td>5</td>\n",
       "      <td>8016</td>\n",
       "    </tr>\n",
       "  </tbody>\n",
       "</table>\n",
       "</div>"
      ]
     },
     "metadata": {},
     "execution_count": 22
    }
   ],
   "metadata": {}
  },
  {
   "cell_type": "code",
   "execution_count": 115,
   "source": [
    "import plotly.express as px\r\n",
    "px.bar(age_order_style, x='age', y='count', color='order_code', title='지정가 & 시장가 비율')"
   ],
   "outputs": [
    {
     "output_type": "display_data",
     "data": {
      "application/vnd.plotly.v1+json": {
       "config": {
        "plotlyServerURL": "https://plot.ly"
       },
       "data": [
        {
         "alignmentgroup": "True",
         "hovertemplate": "age=%{x}<br>count=%{y}<br>order_code=%{marker.color}<extra></extra>",
         "legendgroup": "",
         "marker": {
          "color": [
           1,
           5,
           1,
           5,
           1,
           5,
           1,
           5
          ],
          "coloraxis": "coloraxis"
         },
         "name": "",
         "offsetgroup": "",
         "orientation": "v",
         "showlegend": false,
         "textposition": "auto",
         "type": "bar",
         "x": [
          20,
          20,
          30,
          30,
          40,
          40,
          50,
          50
         ],
         "xaxis": "x",
         "y": [
          189402,
          11617,
          307412,
          23285,
          198890,
          11297,
          96021,
          8016
         ],
         "yaxis": "y"
        }
       ],
       "layout": {
        "barmode": "relative",
        "coloraxis": {
         "colorbar": {
          "title": {
           "text": "order_code"
          }
         },
         "colorscale": [
          [
           0,
           "#0d0887"
          ],
          [
           0.1111111111111111,
           "#46039f"
          ],
          [
           0.2222222222222222,
           "#7201a8"
          ],
          [
           0.3333333333333333,
           "#9c179e"
          ],
          [
           0.4444444444444444,
           "#bd3786"
          ],
          [
           0.5555555555555556,
           "#d8576b"
          ],
          [
           0.6666666666666666,
           "#ed7953"
          ],
          [
           0.7777777777777778,
           "#fb9f3a"
          ],
          [
           0.8888888888888888,
           "#fdca26"
          ],
          [
           1,
           "#f0f921"
          ]
         ]
        },
        "legend": {
         "tracegroupgap": 0
        },
        "template": {
         "data": {
          "bar": [
           {
            "error_x": {
             "color": "#2a3f5f"
            },
            "error_y": {
             "color": "#2a3f5f"
            },
            "marker": {
             "line": {
              "color": "#E5ECF6",
              "width": 0.5
             }
            },
            "type": "bar"
           }
          ],
          "barpolar": [
           {
            "marker": {
             "line": {
              "color": "#E5ECF6",
              "width": 0.5
             }
            },
            "type": "barpolar"
           }
          ],
          "carpet": [
           {
            "aaxis": {
             "endlinecolor": "#2a3f5f",
             "gridcolor": "white",
             "linecolor": "white",
             "minorgridcolor": "white",
             "startlinecolor": "#2a3f5f"
            },
            "baxis": {
             "endlinecolor": "#2a3f5f",
             "gridcolor": "white",
             "linecolor": "white",
             "minorgridcolor": "white",
             "startlinecolor": "#2a3f5f"
            },
            "type": "carpet"
           }
          ],
          "choropleth": [
           {
            "colorbar": {
             "outlinewidth": 0,
             "ticks": ""
            },
            "type": "choropleth"
           }
          ],
          "contour": [
           {
            "colorbar": {
             "outlinewidth": 0,
             "ticks": ""
            },
            "colorscale": [
             [
              0,
              "#0d0887"
             ],
             [
              0.1111111111111111,
              "#46039f"
             ],
             [
              0.2222222222222222,
              "#7201a8"
             ],
             [
              0.3333333333333333,
              "#9c179e"
             ],
             [
              0.4444444444444444,
              "#bd3786"
             ],
             [
              0.5555555555555556,
              "#d8576b"
             ],
             [
              0.6666666666666666,
              "#ed7953"
             ],
             [
              0.7777777777777778,
              "#fb9f3a"
             ],
             [
              0.8888888888888888,
              "#fdca26"
             ],
             [
              1,
              "#f0f921"
             ]
            ],
            "type": "contour"
           }
          ],
          "contourcarpet": [
           {
            "colorbar": {
             "outlinewidth": 0,
             "ticks": ""
            },
            "type": "contourcarpet"
           }
          ],
          "heatmap": [
           {
            "colorbar": {
             "outlinewidth": 0,
             "ticks": ""
            },
            "colorscale": [
             [
              0,
              "#0d0887"
             ],
             [
              0.1111111111111111,
              "#46039f"
             ],
             [
              0.2222222222222222,
              "#7201a8"
             ],
             [
              0.3333333333333333,
              "#9c179e"
             ],
             [
              0.4444444444444444,
              "#bd3786"
             ],
             [
              0.5555555555555556,
              "#d8576b"
             ],
             [
              0.6666666666666666,
              "#ed7953"
             ],
             [
              0.7777777777777778,
              "#fb9f3a"
             ],
             [
              0.8888888888888888,
              "#fdca26"
             ],
             [
              1,
              "#f0f921"
             ]
            ],
            "type": "heatmap"
           }
          ],
          "heatmapgl": [
           {
            "colorbar": {
             "outlinewidth": 0,
             "ticks": ""
            },
            "colorscale": [
             [
              0,
              "#0d0887"
             ],
             [
              0.1111111111111111,
              "#46039f"
             ],
             [
              0.2222222222222222,
              "#7201a8"
             ],
             [
              0.3333333333333333,
              "#9c179e"
             ],
             [
              0.4444444444444444,
              "#bd3786"
             ],
             [
              0.5555555555555556,
              "#d8576b"
             ],
             [
              0.6666666666666666,
              "#ed7953"
             ],
             [
              0.7777777777777778,
              "#fb9f3a"
             ],
             [
              0.8888888888888888,
              "#fdca26"
             ],
             [
              1,
              "#f0f921"
             ]
            ],
            "type": "heatmapgl"
           }
          ],
          "histogram": [
           {
            "marker": {
             "colorbar": {
              "outlinewidth": 0,
              "ticks": ""
             }
            },
            "type": "histogram"
           }
          ],
          "histogram2d": [
           {
            "colorbar": {
             "outlinewidth": 0,
             "ticks": ""
            },
            "colorscale": [
             [
              0,
              "#0d0887"
             ],
             [
              0.1111111111111111,
              "#46039f"
             ],
             [
              0.2222222222222222,
              "#7201a8"
             ],
             [
              0.3333333333333333,
              "#9c179e"
             ],
             [
              0.4444444444444444,
              "#bd3786"
             ],
             [
              0.5555555555555556,
              "#d8576b"
             ],
             [
              0.6666666666666666,
              "#ed7953"
             ],
             [
              0.7777777777777778,
              "#fb9f3a"
             ],
             [
              0.8888888888888888,
              "#fdca26"
             ],
             [
              1,
              "#f0f921"
             ]
            ],
            "type": "histogram2d"
           }
          ],
          "histogram2dcontour": [
           {
            "colorbar": {
             "outlinewidth": 0,
             "ticks": ""
            },
            "colorscale": [
             [
              0,
              "#0d0887"
             ],
             [
              0.1111111111111111,
              "#46039f"
             ],
             [
              0.2222222222222222,
              "#7201a8"
             ],
             [
              0.3333333333333333,
              "#9c179e"
             ],
             [
              0.4444444444444444,
              "#bd3786"
             ],
             [
              0.5555555555555556,
              "#d8576b"
             ],
             [
              0.6666666666666666,
              "#ed7953"
             ],
             [
              0.7777777777777778,
              "#fb9f3a"
             ],
             [
              0.8888888888888888,
              "#fdca26"
             ],
             [
              1,
              "#f0f921"
             ]
            ],
            "type": "histogram2dcontour"
           }
          ],
          "mesh3d": [
           {
            "colorbar": {
             "outlinewidth": 0,
             "ticks": ""
            },
            "type": "mesh3d"
           }
          ],
          "parcoords": [
           {
            "line": {
             "colorbar": {
              "outlinewidth": 0,
              "ticks": ""
             }
            },
            "type": "parcoords"
           }
          ],
          "pie": [
           {
            "automargin": true,
            "type": "pie"
           }
          ],
          "scatter": [
           {
            "marker": {
             "colorbar": {
              "outlinewidth": 0,
              "ticks": ""
             }
            },
            "type": "scatter"
           }
          ],
          "scatter3d": [
           {
            "line": {
             "colorbar": {
              "outlinewidth": 0,
              "ticks": ""
             }
            },
            "marker": {
             "colorbar": {
              "outlinewidth": 0,
              "ticks": ""
             }
            },
            "type": "scatter3d"
           }
          ],
          "scattercarpet": [
           {
            "marker": {
             "colorbar": {
              "outlinewidth": 0,
              "ticks": ""
             }
            },
            "type": "scattercarpet"
           }
          ],
          "scattergeo": [
           {
            "marker": {
             "colorbar": {
              "outlinewidth": 0,
              "ticks": ""
             }
            },
            "type": "scattergeo"
           }
          ],
          "scattergl": [
           {
            "marker": {
             "colorbar": {
              "outlinewidth": 0,
              "ticks": ""
             }
            },
            "type": "scattergl"
           }
          ],
          "scattermapbox": [
           {
            "marker": {
             "colorbar": {
              "outlinewidth": 0,
              "ticks": ""
             }
            },
            "type": "scattermapbox"
           }
          ],
          "scatterpolar": [
           {
            "marker": {
             "colorbar": {
              "outlinewidth": 0,
              "ticks": ""
             }
            },
            "type": "scatterpolar"
           }
          ],
          "scatterpolargl": [
           {
            "marker": {
             "colorbar": {
              "outlinewidth": 0,
              "ticks": ""
             }
            },
            "type": "scatterpolargl"
           }
          ],
          "scatterternary": [
           {
            "marker": {
             "colorbar": {
              "outlinewidth": 0,
              "ticks": ""
             }
            },
            "type": "scatterternary"
           }
          ],
          "surface": [
           {
            "colorbar": {
             "outlinewidth": 0,
             "ticks": ""
            },
            "colorscale": [
             [
              0,
              "#0d0887"
             ],
             [
              0.1111111111111111,
              "#46039f"
             ],
             [
              0.2222222222222222,
              "#7201a8"
             ],
             [
              0.3333333333333333,
              "#9c179e"
             ],
             [
              0.4444444444444444,
              "#bd3786"
             ],
             [
              0.5555555555555556,
              "#d8576b"
             ],
             [
              0.6666666666666666,
              "#ed7953"
             ],
             [
              0.7777777777777778,
              "#fb9f3a"
             ],
             [
              0.8888888888888888,
              "#fdca26"
             ],
             [
              1,
              "#f0f921"
             ]
            ],
            "type": "surface"
           }
          ],
          "table": [
           {
            "cells": {
             "fill": {
              "color": "#EBF0F8"
             },
             "line": {
              "color": "white"
             }
            },
            "header": {
             "fill": {
              "color": "#C8D4E3"
             },
             "line": {
              "color": "white"
             }
            },
            "type": "table"
           }
          ]
         },
         "layout": {
          "annotationdefaults": {
           "arrowcolor": "#2a3f5f",
           "arrowhead": 0,
           "arrowwidth": 1
          },
          "autotypenumbers": "strict",
          "coloraxis": {
           "colorbar": {
            "outlinewidth": 0,
            "ticks": ""
           }
          },
          "colorscale": {
           "diverging": [
            [
             0,
             "#8e0152"
            ],
            [
             0.1,
             "#c51b7d"
            ],
            [
             0.2,
             "#de77ae"
            ],
            [
             0.3,
             "#f1b6da"
            ],
            [
             0.4,
             "#fde0ef"
            ],
            [
             0.5,
             "#f7f7f7"
            ],
            [
             0.6,
             "#e6f5d0"
            ],
            [
             0.7,
             "#b8e186"
            ],
            [
             0.8,
             "#7fbc41"
            ],
            [
             0.9,
             "#4d9221"
            ],
            [
             1,
             "#276419"
            ]
           ],
           "sequential": [
            [
             0,
             "#0d0887"
            ],
            [
             0.1111111111111111,
             "#46039f"
            ],
            [
             0.2222222222222222,
             "#7201a8"
            ],
            [
             0.3333333333333333,
             "#9c179e"
            ],
            [
             0.4444444444444444,
             "#bd3786"
            ],
            [
             0.5555555555555556,
             "#d8576b"
            ],
            [
             0.6666666666666666,
             "#ed7953"
            ],
            [
             0.7777777777777778,
             "#fb9f3a"
            ],
            [
             0.8888888888888888,
             "#fdca26"
            ],
            [
             1,
             "#f0f921"
            ]
           ],
           "sequentialminus": [
            [
             0,
             "#0d0887"
            ],
            [
             0.1111111111111111,
             "#46039f"
            ],
            [
             0.2222222222222222,
             "#7201a8"
            ],
            [
             0.3333333333333333,
             "#9c179e"
            ],
            [
             0.4444444444444444,
             "#bd3786"
            ],
            [
             0.5555555555555556,
             "#d8576b"
            ],
            [
             0.6666666666666666,
             "#ed7953"
            ],
            [
             0.7777777777777778,
             "#fb9f3a"
            ],
            [
             0.8888888888888888,
             "#fdca26"
            ],
            [
             1,
             "#f0f921"
            ]
           ]
          },
          "colorway": [
           "#636efa",
           "#EF553B",
           "#00cc96",
           "#ab63fa",
           "#FFA15A",
           "#19d3f3",
           "#FF6692",
           "#B6E880",
           "#FF97FF",
           "#FECB52"
          ],
          "font": {
           "color": "#2a3f5f"
          },
          "geo": {
           "bgcolor": "white",
           "lakecolor": "white",
           "landcolor": "#E5ECF6",
           "showlakes": true,
           "showland": true,
           "subunitcolor": "white"
          },
          "hoverlabel": {
           "align": "left"
          },
          "hovermode": "closest",
          "mapbox": {
           "style": "light"
          },
          "paper_bgcolor": "white",
          "plot_bgcolor": "#E5ECF6",
          "polar": {
           "angularaxis": {
            "gridcolor": "white",
            "linecolor": "white",
            "ticks": ""
           },
           "bgcolor": "#E5ECF6",
           "radialaxis": {
            "gridcolor": "white",
            "linecolor": "white",
            "ticks": ""
           }
          },
          "scene": {
           "xaxis": {
            "backgroundcolor": "#E5ECF6",
            "gridcolor": "white",
            "gridwidth": 2,
            "linecolor": "white",
            "showbackground": true,
            "ticks": "",
            "zerolinecolor": "white"
           },
           "yaxis": {
            "backgroundcolor": "#E5ECF6",
            "gridcolor": "white",
            "gridwidth": 2,
            "linecolor": "white",
            "showbackground": true,
            "ticks": "",
            "zerolinecolor": "white"
           },
           "zaxis": {
            "backgroundcolor": "#E5ECF6",
            "gridcolor": "white",
            "gridwidth": 2,
            "linecolor": "white",
            "showbackground": true,
            "ticks": "",
            "zerolinecolor": "white"
           }
          },
          "shapedefaults": {
           "line": {
            "color": "#2a3f5f"
           }
          },
          "ternary": {
           "aaxis": {
            "gridcolor": "white",
            "linecolor": "white",
            "ticks": ""
           },
           "baxis": {
            "gridcolor": "white",
            "linecolor": "white",
            "ticks": ""
           },
           "bgcolor": "#E5ECF6",
           "caxis": {
            "gridcolor": "white",
            "linecolor": "white",
            "ticks": ""
           }
          },
          "title": {
           "x": 0.05
          },
          "xaxis": {
           "automargin": true,
           "gridcolor": "white",
           "linecolor": "white",
           "ticks": "",
           "title": {
            "standoff": 15
           },
           "zerolinecolor": "white",
           "zerolinewidth": 2
          },
          "yaxis": {
           "automargin": true,
           "gridcolor": "white",
           "linecolor": "white",
           "ticks": "",
           "title": {
            "standoff": 15
           },
           "zerolinecolor": "white",
           "zerolinewidth": 2
          }
         }
        },
        "title": {
         "text": "지정가 & 시장가 비율"
        },
        "xaxis": {
         "anchor": "y",
         "domain": [
          0,
          1
         ],
         "title": {
          "text": "age"
         }
        },
        "yaxis": {
         "anchor": "x",
         "domain": [
          0,
          1
         ],
         "title": {
          "text": "count"
         }
        }
       }
      }
     },
     "metadata": {}
    }
   ],
   "metadata": {}
  },
  {
   "cell_type": "code",
   "execution_count": 24,
   "source": [
    "#17%, 14%, 18%, 13%"
   ],
   "outputs": [],
   "metadata": {}
  },
  {
   "cell_type": "code",
   "execution_count": 25,
   "source": [
    "stock_df = pd.read_csv('상장법인목록.csv')"
   ],
   "outputs": [],
   "metadata": {}
  },
  {
   "cell_type": "code",
   "execution_count": 26,
   "source": [
    "stock_df"
   ],
   "outputs": [
    {
     "output_type": "execute_result",
     "data": {
      "text/plain": [
       "           회사명    종목코드                   업종  \\\n",
       "0      일진하이솔루스  271940       그외 기타 운송장비 제조업   \n",
       "1     디앤디플랫폼리츠  377190         부동산 임대 및 공급업   \n",
       "2         바이젠셀  308080      자연과학 및 공학 연구개발업   \n",
       "3         아주스틸  139990            1차 철강 제조업   \n",
       "4         롯데렌탈   89860             운송장비 임대업   \n",
       "...        ...     ...                  ...   \n",
       "2452    CJ대한통운     120            도로 화물 운송업   \n",
       "2453     메리츠화재      60                  보험업   \n",
       "2454        경방      50               종합 소매업   \n",
       "2455     유수홀딩스     700  회사 본부 및 경영 컨설팅 서비스업   \n",
       "2456  한진중공업홀딩스    3480    연료용 가스 제조 및 배관공급업   \n",
       "\n",
       "                                                   주요제품         상장일  결산월  \\\n",
       "0                                      수소승용용기, 매연저감장치 등  2021-09-01  12월   \n",
       "1                                           부동산 투자 및 관리  2021-08-27  03월   \n",
       "2                            면역세포치료제 (면역항암제, 면역조절치료제 등)  2021-08-25  12월   \n",
       "3                              프리미엄 가전용 고품질 컬러강판, 건자재 등  2021-08-20  12월   \n",
       "4            렌터카, 카셰어링(그린카), 중고차매매, 일반렌탈(측정기,OA, 리프트 등)  2021-08-19  12월   \n",
       "...                                                 ...         ...  ...   \n",
       "2452  Contract Logistics, 포워딩, 항만하역, 해운, 택배국제특송, SCM...  1956-07-02  12월   \n",
       "2453                                   손해보험(화재,해상,운송보험)  1956-07-02  12월   \n",
       "2454          섬유류(면사,면혼방사,면직물,면혼방직물,화섬사,화섬직물) 제조,도매,수출입  1956-03-03  12월   \n",
       "2455                                               지주사업  1956-03-03  12월   \n",
       "2456                                               지주회사  1956-03-03  12월   \n",
       "\n",
       "          대표자명                                   홈페이지     지역  \n",
       "0          안홍상                   http://hysolus.co.kr   전라북도  \n",
       "1          이양원            http://dndplatformreit.com/  서울특별시  \n",
       "2          김태규  http://www.vigencell.com/kr/index.asp  서울특별시  \n",
       "3          이학연                http://www.ajusteel.com   경상북도  \n",
       "4          김현수            http://www.lotterental.com/    경기도  \n",
       "...        ...                                    ...    ...  \n",
       "2452       강신호             http://www.cjlogistics.com  서울특별시  \n",
       "2453       김용범              http://www.meritzfire.com  서울특별시  \n",
       "2454    김준, 김담             http://www.kyungbang.co.kr  서울특별시  \n",
       "2455       송영규           http://www.eusu-holdings.com  서울특별시  \n",
       "2456  조남호, 조원국           http://www.hhic-holdings.com    경기도  \n",
       "\n",
       "[2457 rows x 9 columns]"
      ],
      "text/html": [
       "<div>\n",
       "<style scoped>\n",
       "    .dataframe tbody tr th:only-of-type {\n",
       "        vertical-align: middle;\n",
       "    }\n",
       "\n",
       "    .dataframe tbody tr th {\n",
       "        vertical-align: top;\n",
       "    }\n",
       "\n",
       "    .dataframe thead th {\n",
       "        text-align: right;\n",
       "    }\n",
       "</style>\n",
       "<table border=\"1\" class=\"dataframe\">\n",
       "  <thead>\n",
       "    <tr style=\"text-align: right;\">\n",
       "      <th></th>\n",
       "      <th>회사명</th>\n",
       "      <th>종목코드</th>\n",
       "      <th>업종</th>\n",
       "      <th>주요제품</th>\n",
       "      <th>상장일</th>\n",
       "      <th>결산월</th>\n",
       "      <th>대표자명</th>\n",
       "      <th>홈페이지</th>\n",
       "      <th>지역</th>\n",
       "    </tr>\n",
       "  </thead>\n",
       "  <tbody>\n",
       "    <tr>\n",
       "      <th>0</th>\n",
       "      <td>일진하이솔루스</td>\n",
       "      <td>271940</td>\n",
       "      <td>그외 기타 운송장비 제조업</td>\n",
       "      <td>수소승용용기, 매연저감장치 등</td>\n",
       "      <td>2021-09-01</td>\n",
       "      <td>12월</td>\n",
       "      <td>안홍상</td>\n",
       "      <td>http://hysolus.co.kr</td>\n",
       "      <td>전라북도</td>\n",
       "    </tr>\n",
       "    <tr>\n",
       "      <th>1</th>\n",
       "      <td>디앤디플랫폼리츠</td>\n",
       "      <td>377190</td>\n",
       "      <td>부동산 임대 및 공급업</td>\n",
       "      <td>부동산 투자 및 관리</td>\n",
       "      <td>2021-08-27</td>\n",
       "      <td>03월</td>\n",
       "      <td>이양원</td>\n",
       "      <td>http://dndplatformreit.com/</td>\n",
       "      <td>서울특별시</td>\n",
       "    </tr>\n",
       "    <tr>\n",
       "      <th>2</th>\n",
       "      <td>바이젠셀</td>\n",
       "      <td>308080</td>\n",
       "      <td>자연과학 및 공학 연구개발업</td>\n",
       "      <td>면역세포치료제 (면역항암제, 면역조절치료제 등)</td>\n",
       "      <td>2021-08-25</td>\n",
       "      <td>12월</td>\n",
       "      <td>김태규</td>\n",
       "      <td>http://www.vigencell.com/kr/index.asp</td>\n",
       "      <td>서울특별시</td>\n",
       "    </tr>\n",
       "    <tr>\n",
       "      <th>3</th>\n",
       "      <td>아주스틸</td>\n",
       "      <td>139990</td>\n",
       "      <td>1차 철강 제조업</td>\n",
       "      <td>프리미엄 가전용 고품질 컬러강판, 건자재 등</td>\n",
       "      <td>2021-08-20</td>\n",
       "      <td>12월</td>\n",
       "      <td>이학연</td>\n",
       "      <td>http://www.ajusteel.com</td>\n",
       "      <td>경상북도</td>\n",
       "    </tr>\n",
       "    <tr>\n",
       "      <th>4</th>\n",
       "      <td>롯데렌탈</td>\n",
       "      <td>89860</td>\n",
       "      <td>운송장비 임대업</td>\n",
       "      <td>렌터카, 카셰어링(그린카), 중고차매매, 일반렌탈(측정기,OA, 리프트 등)</td>\n",
       "      <td>2021-08-19</td>\n",
       "      <td>12월</td>\n",
       "      <td>김현수</td>\n",
       "      <td>http://www.lotterental.com/</td>\n",
       "      <td>경기도</td>\n",
       "    </tr>\n",
       "    <tr>\n",
       "      <th>...</th>\n",
       "      <td>...</td>\n",
       "      <td>...</td>\n",
       "      <td>...</td>\n",
       "      <td>...</td>\n",
       "      <td>...</td>\n",
       "      <td>...</td>\n",
       "      <td>...</td>\n",
       "      <td>...</td>\n",
       "      <td>...</td>\n",
       "    </tr>\n",
       "    <tr>\n",
       "      <th>2452</th>\n",
       "      <td>CJ대한통운</td>\n",
       "      <td>120</td>\n",
       "      <td>도로 화물 운송업</td>\n",
       "      <td>Contract Logistics, 포워딩, 항만하역, 해운, 택배국제특송, SCM...</td>\n",
       "      <td>1956-07-02</td>\n",
       "      <td>12월</td>\n",
       "      <td>강신호</td>\n",
       "      <td>http://www.cjlogistics.com</td>\n",
       "      <td>서울특별시</td>\n",
       "    </tr>\n",
       "    <tr>\n",
       "      <th>2453</th>\n",
       "      <td>메리츠화재</td>\n",
       "      <td>60</td>\n",
       "      <td>보험업</td>\n",
       "      <td>손해보험(화재,해상,운송보험)</td>\n",
       "      <td>1956-07-02</td>\n",
       "      <td>12월</td>\n",
       "      <td>김용범</td>\n",
       "      <td>http://www.meritzfire.com</td>\n",
       "      <td>서울특별시</td>\n",
       "    </tr>\n",
       "    <tr>\n",
       "      <th>2454</th>\n",
       "      <td>경방</td>\n",
       "      <td>50</td>\n",
       "      <td>종합 소매업</td>\n",
       "      <td>섬유류(면사,면혼방사,면직물,면혼방직물,화섬사,화섬직물) 제조,도매,수출입</td>\n",
       "      <td>1956-03-03</td>\n",
       "      <td>12월</td>\n",
       "      <td>김준, 김담</td>\n",
       "      <td>http://www.kyungbang.co.kr</td>\n",
       "      <td>서울특별시</td>\n",
       "    </tr>\n",
       "    <tr>\n",
       "      <th>2455</th>\n",
       "      <td>유수홀딩스</td>\n",
       "      <td>700</td>\n",
       "      <td>회사 본부 및 경영 컨설팅 서비스업</td>\n",
       "      <td>지주사업</td>\n",
       "      <td>1956-03-03</td>\n",
       "      <td>12월</td>\n",
       "      <td>송영규</td>\n",
       "      <td>http://www.eusu-holdings.com</td>\n",
       "      <td>서울특별시</td>\n",
       "    </tr>\n",
       "    <tr>\n",
       "      <th>2456</th>\n",
       "      <td>한진중공업홀딩스</td>\n",
       "      <td>3480</td>\n",
       "      <td>연료용 가스 제조 및 배관공급업</td>\n",
       "      <td>지주회사</td>\n",
       "      <td>1956-03-03</td>\n",
       "      <td>12월</td>\n",
       "      <td>조남호, 조원국</td>\n",
       "      <td>http://www.hhic-holdings.com</td>\n",
       "      <td>경기도</td>\n",
       "    </tr>\n",
       "  </tbody>\n",
       "</table>\n",
       "<p>2457 rows × 9 columns</p>\n",
       "</div>"
      ]
     },
     "metadata": {},
     "execution_count": 26
    }
   ],
   "metadata": {}
  },
  {
   "cell_type": "code",
   "execution_count": 27,
   "source": [
    "stock_df[stock_df['회사명']=='씨젠']"
   ],
   "outputs": [
    {
     "output_type": "execute_result",
     "data": {
      "text/plain": [
       "     회사명   종목코드                     업종                         주요제품  \\\n",
       "1060  씨젠  96530  의료용품 및 기타 의약 관련제품 제조업  호흡기성 병원체 검사제품, 성감염증원인균 검사제품   \n",
       "\n",
       "             상장일  결산월 대표자명                  홈페이지     지역  \n",
       "1060  2010-09-10  12월  천종윤  http://seegene.co.kr  서울특별시  "
      ],
      "text/html": [
       "<div>\n",
       "<style scoped>\n",
       "    .dataframe tbody tr th:only-of-type {\n",
       "        vertical-align: middle;\n",
       "    }\n",
       "\n",
       "    .dataframe tbody tr th {\n",
       "        vertical-align: top;\n",
       "    }\n",
       "\n",
       "    .dataframe thead th {\n",
       "        text-align: right;\n",
       "    }\n",
       "</style>\n",
       "<table border=\"1\" class=\"dataframe\">\n",
       "  <thead>\n",
       "    <tr style=\"text-align: right;\">\n",
       "      <th></th>\n",
       "      <th>회사명</th>\n",
       "      <th>종목코드</th>\n",
       "      <th>업종</th>\n",
       "      <th>주요제품</th>\n",
       "      <th>상장일</th>\n",
       "      <th>결산월</th>\n",
       "      <th>대표자명</th>\n",
       "      <th>홈페이지</th>\n",
       "      <th>지역</th>\n",
       "    </tr>\n",
       "  </thead>\n",
       "  <tbody>\n",
       "    <tr>\n",
       "      <th>1060</th>\n",
       "      <td>씨젠</td>\n",
       "      <td>96530</td>\n",
       "      <td>의료용품 및 기타 의약 관련제품 제조업</td>\n",
       "      <td>호흡기성 병원체 검사제품, 성감염증원인균 검사제품</td>\n",
       "      <td>2010-09-10</td>\n",
       "      <td>12월</td>\n",
       "      <td>천종윤</td>\n",
       "      <td>http://seegene.co.kr</td>\n",
       "      <td>서울특별시</td>\n",
       "    </tr>\n",
       "  </tbody>\n",
       "</table>\n",
       "</div>"
      ]
     },
     "metadata": {},
     "execution_count": 27
    }
   ],
   "metadata": {}
  },
  {
   "cell_type": "code",
   "execution_count": 28,
   "source": [
    "df3 = df.copy()"
   ],
   "outputs": [],
   "metadata": {}
  },
  {
   "cell_type": "code",
   "execution_count": 29,
   "source": [
    "day_sell_type = pd.DataFrame(df.groupby('day')['sell_buy'].value_counts()).rename(columns={'sell_buy':'count'})\r\n",
    "day_sell_type.reset_index(inplace=True)"
   ],
   "outputs": [],
   "metadata": {}
  },
  {
   "cell_type": "code",
   "execution_count": 116,
   "source": [
    "#일별 매수, 매도 추이 그래프\r\n",
    "px.line(day_sell_type, x='day', y='count', color='sell_buy', title='일별 매수, 매도 추이 그래프')"
   ],
   "outputs": [
    {
     "output_type": "display_data",
     "data": {
      "application/vnd.plotly.v1+json": {
       "config": {
        "plotlyServerURL": "https://plot.ly"
       },
       "data": [
        {
         "hovertemplate": "sell_buy=2<br>day=%{x}<br>count=%{y}<extra></extra>",
         "legendgroup": "2",
         "line": {
          "color": "#636efa",
          "dash": "solid"
         },
         "mode": "lines",
         "name": "2",
         "orientation": "v",
         "showlegend": true,
         "type": "scatter",
         "x": [
          "2020-01-20T00:00:00",
          "2020-01-21T00:00:00",
          "2020-01-22T00:00:00",
          "2020-01-23T00:00:00",
          "2020-01-28T00:00:00",
          "2020-01-29T00:00:00",
          "2020-01-30T00:00:00",
          "2020-01-31T00:00:00",
          "2020-02-03T00:00:00",
          "2020-02-04T00:00:00",
          "2020-02-05T00:00:00",
          "2020-02-06T00:00:00",
          "2020-02-07T00:00:00",
          "2020-02-10T00:00:00",
          "2020-02-11T00:00:00",
          "2020-02-12T00:00:00",
          "2020-02-13T00:00:00",
          "2020-02-14T00:00:00",
          "2020-02-17T00:00:00",
          "2020-02-18T00:00:00",
          "2020-02-19T00:00:00",
          "2020-02-20T00:00:00",
          "2020-02-21T00:00:00",
          "2020-02-24T00:00:00",
          "2020-02-25T00:00:00",
          "2020-02-26T00:00:00",
          "2020-02-27T00:00:00",
          "2020-02-28T00:00:00",
          "2020-03-02T00:00:00",
          "2020-03-03T00:00:00",
          "2020-03-04T00:00:00",
          "2020-03-05T00:00:00",
          "2020-03-06T00:00:00",
          "2020-03-09T00:00:00",
          "2020-03-10T00:00:00",
          "2020-03-11T00:00:00",
          "2020-03-12T00:00:00",
          "2020-03-13T00:00:00",
          "2020-03-16T00:00:00",
          "2020-03-17T00:00:00",
          "2020-03-18T00:00:00",
          "2020-03-19T00:00:00",
          "2020-03-20T00:00:00",
          "2020-03-23T00:00:00",
          "2020-03-24T00:00:00",
          "2020-03-25T00:00:00",
          "2020-03-26T00:00:00",
          "2020-03-27T00:00:00",
          "2020-03-30T00:00:00",
          "2020-03-31T00:00:00"
         ],
         "xaxis": "x",
         "y": [
          101,
          307,
          314,
          555,
          1478,
          1755,
          2369,
          2125,
          2717,
          2722,
          3095,
          3049,
          3719,
          4068,
          4225,
          4665,
          5890,
          5890,
          6556,
          8196,
          6879,
          8960,
          8956,
          12027,
          9047,
          9694,
          9775,
          11300,
          8791,
          10232,
          8926,
          11013,
          13954,
          16761,
          13773,
          16637,
          15132,
          14107,
          17210,
          15155,
          20562,
          18457,
          15323,
          19564,
          15185,
          24946,
          35011,
          38845,
          28506,
          37856
         ],
         "yaxis": "y"
        },
        {
         "hovertemplate": "sell_buy=1<br>day=%{x}<br>count=%{y}<extra></extra>",
         "legendgroup": "1",
         "line": {
          "color": "#EF553B",
          "dash": "solid"
         },
         "mode": "lines",
         "name": "1",
         "orientation": "v",
         "showlegend": true,
         "type": "scatter",
         "x": [
          "2020-01-20T00:00:00",
          "2020-01-21T00:00:00",
          "2020-01-22T00:00:00",
          "2020-01-23T00:00:00",
          "2020-01-28T00:00:00",
          "2020-01-29T00:00:00",
          "2020-01-30T00:00:00",
          "2020-01-31T00:00:00",
          "2020-02-03T00:00:00",
          "2020-02-04T00:00:00",
          "2020-02-05T00:00:00",
          "2020-02-06T00:00:00",
          "2020-02-07T00:00:00",
          "2020-02-10T00:00:00",
          "2020-02-11T00:00:00",
          "2020-02-12T00:00:00",
          "2020-02-13T00:00:00",
          "2020-02-14T00:00:00",
          "2020-02-17T00:00:00",
          "2020-02-18T00:00:00",
          "2020-02-19T00:00:00",
          "2020-02-20T00:00:00",
          "2020-02-21T00:00:00",
          "2020-02-24T00:00:00",
          "2020-02-25T00:00:00",
          "2020-02-26T00:00:00",
          "2020-02-27T00:00:00",
          "2020-02-28T00:00:00",
          "2020-03-02T00:00:00",
          "2020-03-03T00:00:00",
          "2020-03-04T00:00:00",
          "2020-03-05T00:00:00",
          "2020-03-06T00:00:00",
          "2020-03-09T00:00:00",
          "2020-03-10T00:00:00",
          "2020-03-11T00:00:00",
          "2020-03-12T00:00:00",
          "2020-03-13T00:00:00",
          "2020-03-16T00:00:00",
          "2020-03-17T00:00:00",
          "2020-03-18T00:00:00",
          "2020-03-19T00:00:00",
          "2020-03-20T00:00:00",
          "2020-03-23T00:00:00",
          "2020-03-24T00:00:00",
          "2020-03-25T00:00:00",
          "2020-03-26T00:00:00",
          "2020-03-27T00:00:00",
          "2020-03-30T00:00:00",
          "2020-03-31T00:00:00"
         ],
         "xaxis": "x",
         "y": [
          11,
          57,
          97,
          186,
          408,
          622,
          797,
          920,
          1168,
          1363,
          1407,
          1996,
          1813,
          1908,
          2190,
          2506,
          2867,
          3563,
          3200,
          3518,
          3823,
          4778,
          4338,
          5337,
          4921,
          4422,
          4264,
          4873,
          4585,
          5082,
          5999,
          6064,
          6355,
          6527,
          7612,
          6214,
          6520,
          6930,
          6443,
          8340,
          7694,
          7912,
          9745,
          7722,
          13233,
          15535,
          18894,
          22146,
          20444,
          22211
         ],
         "yaxis": "y"
        }
       ],
       "layout": {
        "legend": {
         "title": {
          "text": "sell_buy"
         },
         "tracegroupgap": 0
        },
        "template": {
         "data": {
          "bar": [
           {
            "error_x": {
             "color": "#2a3f5f"
            },
            "error_y": {
             "color": "#2a3f5f"
            },
            "marker": {
             "line": {
              "color": "#E5ECF6",
              "width": 0.5
             }
            },
            "type": "bar"
           }
          ],
          "barpolar": [
           {
            "marker": {
             "line": {
              "color": "#E5ECF6",
              "width": 0.5
             }
            },
            "type": "barpolar"
           }
          ],
          "carpet": [
           {
            "aaxis": {
             "endlinecolor": "#2a3f5f",
             "gridcolor": "white",
             "linecolor": "white",
             "minorgridcolor": "white",
             "startlinecolor": "#2a3f5f"
            },
            "baxis": {
             "endlinecolor": "#2a3f5f",
             "gridcolor": "white",
             "linecolor": "white",
             "minorgridcolor": "white",
             "startlinecolor": "#2a3f5f"
            },
            "type": "carpet"
           }
          ],
          "choropleth": [
           {
            "colorbar": {
             "outlinewidth": 0,
             "ticks": ""
            },
            "type": "choropleth"
           }
          ],
          "contour": [
           {
            "colorbar": {
             "outlinewidth": 0,
             "ticks": ""
            },
            "colorscale": [
             [
              0,
              "#0d0887"
             ],
             [
              0.1111111111111111,
              "#46039f"
             ],
             [
              0.2222222222222222,
              "#7201a8"
             ],
             [
              0.3333333333333333,
              "#9c179e"
             ],
             [
              0.4444444444444444,
              "#bd3786"
             ],
             [
              0.5555555555555556,
              "#d8576b"
             ],
             [
              0.6666666666666666,
              "#ed7953"
             ],
             [
              0.7777777777777778,
              "#fb9f3a"
             ],
             [
              0.8888888888888888,
              "#fdca26"
             ],
             [
              1,
              "#f0f921"
             ]
            ],
            "type": "contour"
           }
          ],
          "contourcarpet": [
           {
            "colorbar": {
             "outlinewidth": 0,
             "ticks": ""
            },
            "type": "contourcarpet"
           }
          ],
          "heatmap": [
           {
            "colorbar": {
             "outlinewidth": 0,
             "ticks": ""
            },
            "colorscale": [
             [
              0,
              "#0d0887"
             ],
             [
              0.1111111111111111,
              "#46039f"
             ],
             [
              0.2222222222222222,
              "#7201a8"
             ],
             [
              0.3333333333333333,
              "#9c179e"
             ],
             [
              0.4444444444444444,
              "#bd3786"
             ],
             [
              0.5555555555555556,
              "#d8576b"
             ],
             [
              0.6666666666666666,
              "#ed7953"
             ],
             [
              0.7777777777777778,
              "#fb9f3a"
             ],
             [
              0.8888888888888888,
              "#fdca26"
             ],
             [
              1,
              "#f0f921"
             ]
            ],
            "type": "heatmap"
           }
          ],
          "heatmapgl": [
           {
            "colorbar": {
             "outlinewidth": 0,
             "ticks": ""
            },
            "colorscale": [
             [
              0,
              "#0d0887"
             ],
             [
              0.1111111111111111,
              "#46039f"
             ],
             [
              0.2222222222222222,
              "#7201a8"
             ],
             [
              0.3333333333333333,
              "#9c179e"
             ],
             [
              0.4444444444444444,
              "#bd3786"
             ],
             [
              0.5555555555555556,
              "#d8576b"
             ],
             [
              0.6666666666666666,
              "#ed7953"
             ],
             [
              0.7777777777777778,
              "#fb9f3a"
             ],
             [
              0.8888888888888888,
              "#fdca26"
             ],
             [
              1,
              "#f0f921"
             ]
            ],
            "type": "heatmapgl"
           }
          ],
          "histogram": [
           {
            "marker": {
             "colorbar": {
              "outlinewidth": 0,
              "ticks": ""
             }
            },
            "type": "histogram"
           }
          ],
          "histogram2d": [
           {
            "colorbar": {
             "outlinewidth": 0,
             "ticks": ""
            },
            "colorscale": [
             [
              0,
              "#0d0887"
             ],
             [
              0.1111111111111111,
              "#46039f"
             ],
             [
              0.2222222222222222,
              "#7201a8"
             ],
             [
              0.3333333333333333,
              "#9c179e"
             ],
             [
              0.4444444444444444,
              "#bd3786"
             ],
             [
              0.5555555555555556,
              "#d8576b"
             ],
             [
              0.6666666666666666,
              "#ed7953"
             ],
             [
              0.7777777777777778,
              "#fb9f3a"
             ],
             [
              0.8888888888888888,
              "#fdca26"
             ],
             [
              1,
              "#f0f921"
             ]
            ],
            "type": "histogram2d"
           }
          ],
          "histogram2dcontour": [
           {
            "colorbar": {
             "outlinewidth": 0,
             "ticks": ""
            },
            "colorscale": [
             [
              0,
              "#0d0887"
             ],
             [
              0.1111111111111111,
              "#46039f"
             ],
             [
              0.2222222222222222,
              "#7201a8"
             ],
             [
              0.3333333333333333,
              "#9c179e"
             ],
             [
              0.4444444444444444,
              "#bd3786"
             ],
             [
              0.5555555555555556,
              "#d8576b"
             ],
             [
              0.6666666666666666,
              "#ed7953"
             ],
             [
              0.7777777777777778,
              "#fb9f3a"
             ],
             [
              0.8888888888888888,
              "#fdca26"
             ],
             [
              1,
              "#f0f921"
             ]
            ],
            "type": "histogram2dcontour"
           }
          ],
          "mesh3d": [
           {
            "colorbar": {
             "outlinewidth": 0,
             "ticks": ""
            },
            "type": "mesh3d"
           }
          ],
          "parcoords": [
           {
            "line": {
             "colorbar": {
              "outlinewidth": 0,
              "ticks": ""
             }
            },
            "type": "parcoords"
           }
          ],
          "pie": [
           {
            "automargin": true,
            "type": "pie"
           }
          ],
          "scatter": [
           {
            "marker": {
             "colorbar": {
              "outlinewidth": 0,
              "ticks": ""
             }
            },
            "type": "scatter"
           }
          ],
          "scatter3d": [
           {
            "line": {
             "colorbar": {
              "outlinewidth": 0,
              "ticks": ""
             }
            },
            "marker": {
             "colorbar": {
              "outlinewidth": 0,
              "ticks": ""
             }
            },
            "type": "scatter3d"
           }
          ],
          "scattercarpet": [
           {
            "marker": {
             "colorbar": {
              "outlinewidth": 0,
              "ticks": ""
             }
            },
            "type": "scattercarpet"
           }
          ],
          "scattergeo": [
           {
            "marker": {
             "colorbar": {
              "outlinewidth": 0,
              "ticks": ""
             }
            },
            "type": "scattergeo"
           }
          ],
          "scattergl": [
           {
            "marker": {
             "colorbar": {
              "outlinewidth": 0,
              "ticks": ""
             }
            },
            "type": "scattergl"
           }
          ],
          "scattermapbox": [
           {
            "marker": {
             "colorbar": {
              "outlinewidth": 0,
              "ticks": ""
             }
            },
            "type": "scattermapbox"
           }
          ],
          "scatterpolar": [
           {
            "marker": {
             "colorbar": {
              "outlinewidth": 0,
              "ticks": ""
             }
            },
            "type": "scatterpolar"
           }
          ],
          "scatterpolargl": [
           {
            "marker": {
             "colorbar": {
              "outlinewidth": 0,
              "ticks": ""
             }
            },
            "type": "scatterpolargl"
           }
          ],
          "scatterternary": [
           {
            "marker": {
             "colorbar": {
              "outlinewidth": 0,
              "ticks": ""
             }
            },
            "type": "scatterternary"
           }
          ],
          "surface": [
           {
            "colorbar": {
             "outlinewidth": 0,
             "ticks": ""
            },
            "colorscale": [
             [
              0,
              "#0d0887"
             ],
             [
              0.1111111111111111,
              "#46039f"
             ],
             [
              0.2222222222222222,
              "#7201a8"
             ],
             [
              0.3333333333333333,
              "#9c179e"
             ],
             [
              0.4444444444444444,
              "#bd3786"
             ],
             [
              0.5555555555555556,
              "#d8576b"
             ],
             [
              0.6666666666666666,
              "#ed7953"
             ],
             [
              0.7777777777777778,
              "#fb9f3a"
             ],
             [
              0.8888888888888888,
              "#fdca26"
             ],
             [
              1,
              "#f0f921"
             ]
            ],
            "type": "surface"
           }
          ],
          "table": [
           {
            "cells": {
             "fill": {
              "color": "#EBF0F8"
             },
             "line": {
              "color": "white"
             }
            },
            "header": {
             "fill": {
              "color": "#C8D4E3"
             },
             "line": {
              "color": "white"
             }
            },
            "type": "table"
           }
          ]
         },
         "layout": {
          "annotationdefaults": {
           "arrowcolor": "#2a3f5f",
           "arrowhead": 0,
           "arrowwidth": 1
          },
          "autotypenumbers": "strict",
          "coloraxis": {
           "colorbar": {
            "outlinewidth": 0,
            "ticks": ""
           }
          },
          "colorscale": {
           "diverging": [
            [
             0,
             "#8e0152"
            ],
            [
             0.1,
             "#c51b7d"
            ],
            [
             0.2,
             "#de77ae"
            ],
            [
             0.3,
             "#f1b6da"
            ],
            [
             0.4,
             "#fde0ef"
            ],
            [
             0.5,
             "#f7f7f7"
            ],
            [
             0.6,
             "#e6f5d0"
            ],
            [
             0.7,
             "#b8e186"
            ],
            [
             0.8,
             "#7fbc41"
            ],
            [
             0.9,
             "#4d9221"
            ],
            [
             1,
             "#276419"
            ]
           ],
           "sequential": [
            [
             0,
             "#0d0887"
            ],
            [
             0.1111111111111111,
             "#46039f"
            ],
            [
             0.2222222222222222,
             "#7201a8"
            ],
            [
             0.3333333333333333,
             "#9c179e"
            ],
            [
             0.4444444444444444,
             "#bd3786"
            ],
            [
             0.5555555555555556,
             "#d8576b"
            ],
            [
             0.6666666666666666,
             "#ed7953"
            ],
            [
             0.7777777777777778,
             "#fb9f3a"
            ],
            [
             0.8888888888888888,
             "#fdca26"
            ],
            [
             1,
             "#f0f921"
            ]
           ],
           "sequentialminus": [
            [
             0,
             "#0d0887"
            ],
            [
             0.1111111111111111,
             "#46039f"
            ],
            [
             0.2222222222222222,
             "#7201a8"
            ],
            [
             0.3333333333333333,
             "#9c179e"
            ],
            [
             0.4444444444444444,
             "#bd3786"
            ],
            [
             0.5555555555555556,
             "#d8576b"
            ],
            [
             0.6666666666666666,
             "#ed7953"
            ],
            [
             0.7777777777777778,
             "#fb9f3a"
            ],
            [
             0.8888888888888888,
             "#fdca26"
            ],
            [
             1,
             "#f0f921"
            ]
           ]
          },
          "colorway": [
           "#636efa",
           "#EF553B",
           "#00cc96",
           "#ab63fa",
           "#FFA15A",
           "#19d3f3",
           "#FF6692",
           "#B6E880",
           "#FF97FF",
           "#FECB52"
          ],
          "font": {
           "color": "#2a3f5f"
          },
          "geo": {
           "bgcolor": "white",
           "lakecolor": "white",
           "landcolor": "#E5ECF6",
           "showlakes": true,
           "showland": true,
           "subunitcolor": "white"
          },
          "hoverlabel": {
           "align": "left"
          },
          "hovermode": "closest",
          "mapbox": {
           "style": "light"
          },
          "paper_bgcolor": "white",
          "plot_bgcolor": "#E5ECF6",
          "polar": {
           "angularaxis": {
            "gridcolor": "white",
            "linecolor": "white",
            "ticks": ""
           },
           "bgcolor": "#E5ECF6",
           "radialaxis": {
            "gridcolor": "white",
            "linecolor": "white",
            "ticks": ""
           }
          },
          "scene": {
           "xaxis": {
            "backgroundcolor": "#E5ECF6",
            "gridcolor": "white",
            "gridwidth": 2,
            "linecolor": "white",
            "showbackground": true,
            "ticks": "",
            "zerolinecolor": "white"
           },
           "yaxis": {
            "backgroundcolor": "#E5ECF6",
            "gridcolor": "white",
            "gridwidth": 2,
            "linecolor": "white",
            "showbackground": true,
            "ticks": "",
            "zerolinecolor": "white"
           },
           "zaxis": {
            "backgroundcolor": "#E5ECF6",
            "gridcolor": "white",
            "gridwidth": 2,
            "linecolor": "white",
            "showbackground": true,
            "ticks": "",
            "zerolinecolor": "white"
           }
          },
          "shapedefaults": {
           "line": {
            "color": "#2a3f5f"
           }
          },
          "ternary": {
           "aaxis": {
            "gridcolor": "white",
            "linecolor": "white",
            "ticks": ""
           },
           "baxis": {
            "gridcolor": "white",
            "linecolor": "white",
            "ticks": ""
           },
           "bgcolor": "#E5ECF6",
           "caxis": {
            "gridcolor": "white",
            "linecolor": "white",
            "ticks": ""
           }
          },
          "title": {
           "x": 0.05
          },
          "xaxis": {
           "automargin": true,
           "gridcolor": "white",
           "linecolor": "white",
           "ticks": "",
           "title": {
            "standoff": 15
           },
           "zerolinecolor": "white",
           "zerolinewidth": 2
          },
          "yaxis": {
           "automargin": true,
           "gridcolor": "white",
           "linecolor": "white",
           "ticks": "",
           "title": {
            "standoff": 15
           },
           "zerolinecolor": "white",
           "zerolinewidth": 2
          }
         }
        },
        "title": {
         "text": "일별 매수, 매도 추이 그래프"
        },
        "xaxis": {
         "anchor": "y",
         "domain": [
          0,
          1
         ],
         "title": {
          "text": "day"
         }
        },
        "yaxis": {
         "anchor": "x",
         "domain": [
          0,
          1
         ],
         "title": {
          "text": "count"
         }
        }
       }
      }
     },
     "metadata": {}
    }
   ],
   "metadata": {}
  },
  {
   "cell_type": "code",
   "execution_count": 32,
   "source": [
    "sns.boxplot(y=df['id'].value_counts(), showfliers=False)"
   ],
   "outputs": [
    {
     "output_type": "execute_result",
     "data": {
      "text/plain": [
       "<AxesSubplot:ylabel='id'>"
      ]
     },
     "metadata": {},
     "execution_count": 32
    },
    {
     "output_type": "display_data",
     "data": {
      "text/plain": [
       "<Figure size 432x288 with 1 Axes>"
      ],
      "image/svg+xml": "<?xml version=\"1.0\" encoding=\"utf-8\" standalone=\"no\"?>\r\n<!DOCTYPE svg PUBLIC \"-//W3C//DTD SVG 1.1//EN\"\r\n  \"http://www.w3.org/Graphics/SVG/1.1/DTD/svg11.dtd\">\r\n<!-- Created with matplotlib (https://matplotlib.org/) -->\r\n<svg height=\"235.34pt\" version=\"1.1\" viewBox=\"0 0 382.603125 235.34\" width=\"382.603125pt\" xmlns=\"http://www.w3.org/2000/svg\" xmlns:xlink=\"http://www.w3.org/1999/xlink\">\r\n <metadata>\r\n  <rdf:RDF xmlns:cc=\"http://creativecommons.org/ns#\" xmlns:dc=\"http://purl.org/dc/elements/1.1/\" xmlns:rdf=\"http://www.w3.org/1999/02/22-rdf-syntax-ns#\">\r\n   <cc:Work>\r\n    <dc:type rdf:resource=\"http://purl.org/dc/dcmitype/StillImage\"/>\r\n    <dc:date>2021-09-02T17:20:09.936758</dc:date>\r\n    <dc:format>image/svg+xml</dc:format>\r\n    <dc:creator>\r\n     <cc:Agent>\r\n      <dc:title>Matplotlib v3.3.4, https://matplotlib.org/</dc:title>\r\n     </cc:Agent>\r\n    </dc:creator>\r\n   </cc:Work>\r\n  </rdf:RDF>\r\n </metadata>\r\n <defs>\r\n  <style type=\"text/css\">*{stroke-linecap:butt;stroke-linejoin:round;}</style>\r\n </defs>\r\n <g id=\"figure_1\">\r\n  <g id=\"patch_1\">\r\n   <path d=\"M 0 235.34 \r\nL 382.603125 235.34 \r\nL 382.603125 0 \r\nL 0 0 \r\nz\r\n\" style=\"fill:none;\"/>\r\n  </g>\r\n  <g id=\"axes_1\">\r\n   <g id=\"patch_2\">\r\n    <path d=\"M 40.603125 224.64 \r\nL 375.403125 224.64 \r\nL 375.403125 7.2 \r\nL 40.603125 7.2 \r\nz\r\n\" style=\"fill:#ffffff;\"/>\r\n   </g>\r\n   <g id=\"patch_3\">\r\n    <path clip-path=\"url(#p927fedcb2e)\" d=\"M 74.083125 182.873666 \r\nL 341.923125 182.873666 \r\nL 341.923125 115.92 \r\nL 74.083125 115.92 \r\nL 74.083125 182.873666 \r\nz\r\n\" style=\"fill:#3274a1;stroke:#3f3f3f;stroke-linejoin:miter;stroke-width:1.5;\"/>\r\n   </g>\r\n   <g id=\"matplotlib.axis_1\">\r\n    <g id=\"xtick_1\">\r\n     <g id=\"line2d_1\">\r\n      <defs>\r\n       <path d=\"M 0 0 \r\nL 0 3.5 \r\n\" id=\"m36153f2ba0\" style=\"stroke:#000000;stroke-width:0.8;\"/>\r\n      </defs>\r\n      <g>\r\n       <use style=\"stroke:#000000;stroke-width:0.8;\" x=\"208.003125\" xlink:href=\"#m36153f2ba0\" y=\"224.64\"/>\r\n      </g>\r\n     </g>\r\n    </g>\r\n   </g>\r\n   <g id=\"matplotlib.axis_2\">\r\n    <g id=\"ytick_1\">\r\n     <g id=\"line2d_2\">\r\n      <defs>\r\n       <path d=\"M 0 0 \r\nL -3.5 0 \r\n\" id=\"m6c4188e50a\" style=\"stroke:#000000;stroke-width:0.8;\"/>\r\n      </defs>\r\n      <g>\r\n       <use style=\"stroke:#000000;stroke-width:0.8;\" x=\"40.603125\" xlink:href=\"#m6c4188e50a\" y=\"217.944633\"/>\r\n      </g>\r\n     </g>\r\n     <g id=\"text_1\">\r\n      <!-- 0 -->\r\n      <g transform=\"translate(27.240625 221.743852)scale(0.1 -0.1)\">\r\n       <defs>\r\n        <path d=\"M 31.78125 66.40625 \r\nQ 24.171875 66.40625 20.328125 58.90625 \r\nQ 16.5 51.421875 16.5 36.375 \r\nQ 16.5 21.390625 20.328125 13.890625 \r\nQ 24.171875 6.390625 31.78125 6.390625 \r\nQ 39.453125 6.390625 43.28125 13.890625 \r\nQ 47.125 21.390625 47.125 36.375 \r\nQ 47.125 51.421875 43.28125 58.90625 \r\nQ 39.453125 66.40625 31.78125 66.40625 \r\nz\r\nM 31.78125 74.21875 \r\nQ 44.046875 74.21875 50.515625 64.515625 \r\nQ 56.984375 54.828125 56.984375 36.375 \r\nQ 56.984375 17.96875 50.515625 8.265625 \r\nQ 44.046875 -1.421875 31.78125 -1.421875 \r\nQ 19.53125 -1.421875 13.0625 8.265625 \r\nQ 6.59375 17.96875 6.59375 36.375 \r\nQ 6.59375 54.828125 13.0625 64.515625 \r\nQ 19.53125 74.21875 31.78125 74.21875 \r\nz\r\n\" id=\"DejaVuSans-48\"/>\r\n       </defs>\r\n       <use xlink:href=\"#DejaVuSans-48\"/>\r\n      </g>\r\n     </g>\r\n    </g>\r\n    <g id=\"ytick_2\">\r\n     <g id=\"line2d_3\">\r\n      <g>\r\n       <use style=\"stroke:#000000;stroke-width:0.8;\" x=\"40.603125\" xlink:href=\"#m6c4188e50a\" y=\"186.061935\"/>\r\n      </g>\r\n     </g>\r\n     <g id=\"text_2\">\r\n      <!-- 10 -->\r\n      <g transform=\"translate(20.878125 189.861154)scale(0.1 -0.1)\">\r\n       <defs>\r\n        <path d=\"M 12.40625 8.296875 \r\nL 28.515625 8.296875 \r\nL 28.515625 63.921875 \r\nL 10.984375 60.40625 \r\nL 10.984375 69.390625 \r\nL 28.421875 72.90625 \r\nL 38.28125 72.90625 \r\nL 38.28125 8.296875 \r\nL 54.390625 8.296875 \r\nL 54.390625 0 \r\nL 12.40625 0 \r\nz\r\n\" id=\"DejaVuSans-49\"/>\r\n       </defs>\r\n       <use xlink:href=\"#DejaVuSans-49\"/>\r\n       <use x=\"63.623047\" xlink:href=\"#DejaVuSans-48\"/>\r\n      </g>\r\n     </g>\r\n    </g>\r\n    <g id=\"ytick_3\">\r\n     <g id=\"line2d_4\">\r\n      <g>\r\n       <use style=\"stroke:#000000;stroke-width:0.8;\" x=\"40.603125\" xlink:href=\"#m6c4188e50a\" y=\"154.179238\"/>\r\n      </g>\r\n     </g>\r\n     <g id=\"text_3\">\r\n      <!-- 20 -->\r\n      <g transform=\"translate(20.878125 157.978456)scale(0.1 -0.1)\">\r\n       <defs>\r\n        <path d=\"M 19.1875 8.296875 \r\nL 53.609375 8.296875 \r\nL 53.609375 0 \r\nL 7.328125 0 \r\nL 7.328125 8.296875 \r\nQ 12.9375 14.109375 22.625 23.890625 \r\nQ 32.328125 33.6875 34.8125 36.53125 \r\nQ 39.546875 41.84375 41.421875 45.53125 \r\nQ 43.3125 49.21875 43.3125 52.78125 \r\nQ 43.3125 58.59375 39.234375 62.25 \r\nQ 35.15625 65.921875 28.609375 65.921875 \r\nQ 23.96875 65.921875 18.8125 64.3125 \r\nQ 13.671875 62.703125 7.8125 59.421875 \r\nL 7.8125 69.390625 \r\nQ 13.765625 71.78125 18.9375 73 \r\nQ 24.125 74.21875 28.421875 74.21875 \r\nQ 39.75 74.21875 46.484375 68.546875 \r\nQ 53.21875 62.890625 53.21875 53.421875 \r\nQ 53.21875 48.921875 51.53125 44.890625 \r\nQ 49.859375 40.875 45.40625 35.40625 \r\nQ 44.1875 33.984375 37.640625 27.21875 \r\nQ 31.109375 20.453125 19.1875 8.296875 \r\nz\r\n\" id=\"DejaVuSans-50\"/>\r\n       </defs>\r\n       <use xlink:href=\"#DejaVuSans-50\"/>\r\n       <use x=\"63.623047\" xlink:href=\"#DejaVuSans-48\"/>\r\n      </g>\r\n     </g>\r\n    </g>\r\n    <g id=\"ytick_4\">\r\n     <g id=\"line2d_5\">\r\n      <g>\r\n       <use style=\"stroke:#000000;stroke-width:0.8;\" x=\"40.603125\" xlink:href=\"#m6c4188e50a\" y=\"122.29654\"/>\r\n      </g>\r\n     </g>\r\n     <g id=\"text_4\">\r\n      <!-- 30 -->\r\n      <g transform=\"translate(20.878125 126.095758)scale(0.1 -0.1)\">\r\n       <defs>\r\n        <path d=\"M 40.578125 39.3125 \r\nQ 47.65625 37.796875 51.625 33 \r\nQ 55.609375 28.21875 55.609375 21.1875 \r\nQ 55.609375 10.40625 48.1875 4.484375 \r\nQ 40.765625 -1.421875 27.09375 -1.421875 \r\nQ 22.515625 -1.421875 17.65625 -0.515625 \r\nQ 12.796875 0.390625 7.625 2.203125 \r\nL 7.625 11.71875 \r\nQ 11.71875 9.328125 16.59375 8.109375 \r\nQ 21.484375 6.890625 26.8125 6.890625 \r\nQ 36.078125 6.890625 40.9375 10.546875 \r\nQ 45.796875 14.203125 45.796875 21.1875 \r\nQ 45.796875 27.640625 41.28125 31.265625 \r\nQ 36.765625 34.90625 28.71875 34.90625 \r\nL 20.21875 34.90625 \r\nL 20.21875 43.015625 \r\nL 29.109375 43.015625 \r\nQ 36.375 43.015625 40.234375 45.921875 \r\nQ 44.09375 48.828125 44.09375 54.296875 \r\nQ 44.09375 59.90625 40.109375 62.90625 \r\nQ 36.140625 65.921875 28.71875 65.921875 \r\nQ 24.65625 65.921875 20.015625 65.03125 \r\nQ 15.375 64.15625 9.8125 62.3125 \r\nL 9.8125 71.09375 \r\nQ 15.4375 72.65625 20.34375 73.4375 \r\nQ 25.25 74.21875 29.59375 74.21875 \r\nQ 40.828125 74.21875 47.359375 69.109375 \r\nQ 53.90625 64.015625 53.90625 55.328125 \r\nQ 53.90625 49.265625 50.4375 45.09375 \r\nQ 46.96875 40.921875 40.578125 39.3125 \r\nz\r\n\" id=\"DejaVuSans-51\"/>\r\n       </defs>\r\n       <use xlink:href=\"#DejaVuSans-51\"/>\r\n       <use x=\"63.623047\" xlink:href=\"#DejaVuSans-48\"/>\r\n      </g>\r\n     </g>\r\n    </g>\r\n    <g id=\"ytick_5\">\r\n     <g id=\"line2d_6\">\r\n      <g>\r\n       <use style=\"stroke:#000000;stroke-width:0.8;\" x=\"40.603125\" xlink:href=\"#m6c4188e50a\" y=\"90.413842\"/>\r\n      </g>\r\n     </g>\r\n     <g id=\"text_5\">\r\n      <!-- 40 -->\r\n      <g transform=\"translate(20.878125 94.21306)scale(0.1 -0.1)\">\r\n       <defs>\r\n        <path d=\"M 37.796875 64.3125 \r\nL 12.890625 25.390625 \r\nL 37.796875 25.390625 \r\nz\r\nM 35.203125 72.90625 \r\nL 47.609375 72.90625 \r\nL 47.609375 25.390625 \r\nL 58.015625 25.390625 \r\nL 58.015625 17.1875 \r\nL 47.609375 17.1875 \r\nL 47.609375 0 \r\nL 37.796875 0 \r\nL 37.796875 17.1875 \r\nL 4.890625 17.1875 \r\nL 4.890625 26.703125 \r\nz\r\n\" id=\"DejaVuSans-52\"/>\r\n       </defs>\r\n       <use xlink:href=\"#DejaVuSans-52\"/>\r\n       <use x=\"63.623047\" xlink:href=\"#DejaVuSans-48\"/>\r\n      </g>\r\n     </g>\r\n    </g>\r\n    <g id=\"ytick_6\">\r\n     <g id=\"line2d_7\">\r\n      <g>\r\n       <use style=\"stroke:#000000;stroke-width:0.8;\" x=\"40.603125\" xlink:href=\"#m6c4188e50a\" y=\"58.531144\"/>\r\n      </g>\r\n     </g>\r\n     <g id=\"text_6\">\r\n      <!-- 50 -->\r\n      <g transform=\"translate(20.878125 62.330362)scale(0.1 -0.1)\">\r\n       <defs>\r\n        <path d=\"M 10.796875 72.90625 \r\nL 49.515625 72.90625 \r\nL 49.515625 64.59375 \r\nL 19.828125 64.59375 \r\nL 19.828125 46.734375 \r\nQ 21.96875 47.46875 24.109375 47.828125 \r\nQ 26.265625 48.1875 28.421875 48.1875 \r\nQ 40.625 48.1875 47.75 41.5 \r\nQ 54.890625 34.8125 54.890625 23.390625 \r\nQ 54.890625 11.625 47.5625 5.09375 \r\nQ 40.234375 -1.421875 26.90625 -1.421875 \r\nQ 22.3125 -1.421875 17.546875 -0.640625 \r\nQ 12.796875 0.140625 7.71875 1.703125 \r\nL 7.71875 11.625 \r\nQ 12.109375 9.234375 16.796875 8.0625 \r\nQ 21.484375 6.890625 26.703125 6.890625 \r\nQ 35.15625 6.890625 40.078125 11.328125 \r\nQ 45.015625 15.765625 45.015625 23.390625 \r\nQ 45.015625 31 40.078125 35.4375 \r\nQ 35.15625 39.890625 26.703125 39.890625 \r\nQ 22.75 39.890625 18.8125 39.015625 \r\nQ 14.890625 38.140625 10.796875 36.28125 \r\nz\r\n\" id=\"DejaVuSans-53\"/>\r\n       </defs>\r\n       <use xlink:href=\"#DejaVuSans-53\"/>\r\n       <use x=\"63.623047\" xlink:href=\"#DejaVuSans-48\"/>\r\n      </g>\r\n     </g>\r\n    </g>\r\n    <g id=\"ytick_7\">\r\n     <g id=\"line2d_8\">\r\n      <g>\r\n       <use style=\"stroke:#000000;stroke-width:0.8;\" x=\"40.603125\" xlink:href=\"#m6c4188e50a\" y=\"26.648446\"/>\r\n      </g>\r\n     </g>\r\n     <g id=\"text_7\">\r\n      <!-- 60 -->\r\n      <g transform=\"translate(20.878125 30.447664)scale(0.1 -0.1)\">\r\n       <defs>\r\n        <path d=\"M 33.015625 40.375 \r\nQ 26.375 40.375 22.484375 35.828125 \r\nQ 18.609375 31.296875 18.609375 23.390625 \r\nQ 18.609375 15.53125 22.484375 10.953125 \r\nQ 26.375 6.390625 33.015625 6.390625 \r\nQ 39.65625 6.390625 43.53125 10.953125 \r\nQ 47.40625 15.53125 47.40625 23.390625 \r\nQ 47.40625 31.296875 43.53125 35.828125 \r\nQ 39.65625 40.375 33.015625 40.375 \r\nz\r\nM 52.59375 71.296875 \r\nL 52.59375 62.3125 \r\nQ 48.875 64.0625 45.09375 64.984375 \r\nQ 41.3125 65.921875 37.59375 65.921875 \r\nQ 27.828125 65.921875 22.671875 59.328125 \r\nQ 17.53125 52.734375 16.796875 39.40625 \r\nQ 19.671875 43.65625 24.015625 45.921875 \r\nQ 28.375 48.1875 33.59375 48.1875 \r\nQ 44.578125 48.1875 50.953125 41.515625 \r\nQ 57.328125 34.859375 57.328125 23.390625 \r\nQ 57.328125 12.15625 50.6875 5.359375 \r\nQ 44.046875 -1.421875 33.015625 -1.421875 \r\nQ 20.359375 -1.421875 13.671875 8.265625 \r\nQ 6.984375 17.96875 6.984375 36.375 \r\nQ 6.984375 53.65625 15.1875 63.9375 \r\nQ 23.390625 74.21875 37.203125 74.21875 \r\nQ 40.921875 74.21875 44.703125 73.484375 \r\nQ 48.484375 72.75 52.59375 71.296875 \r\nz\r\n\" id=\"DejaVuSans-54\"/>\r\n       </defs>\r\n       <use xlink:href=\"#DejaVuSans-54\"/>\r\n       <use x=\"63.623047\" xlink:href=\"#DejaVuSans-48\"/>\r\n      </g>\r\n     </g>\r\n    </g>\r\n    <g id=\"text_8\">\r\n     <!-- id -->\r\n     <g transform=\"translate(14.798438 120.483281)rotate(-90)scale(0.1 -0.1)\">\r\n      <defs>\r\n       <path d=\"M 9.421875 54.6875 \r\nL 18.40625 54.6875 \r\nL 18.40625 0 \r\nL 9.421875 0 \r\nz\r\nM 9.421875 75.984375 \r\nL 18.40625 75.984375 \r\nL 18.40625 64.59375 \r\nL 9.421875 64.59375 \r\nz\r\n\" id=\"DejaVuSans-105\"/>\r\n       <path d=\"M 45.40625 46.390625 \r\nL 45.40625 75.984375 \r\nL 54.390625 75.984375 \r\nL 54.390625 0 \r\nL 45.40625 0 \r\nL 45.40625 8.203125 \r\nQ 42.578125 3.328125 38.25 0.953125 \r\nQ 33.9375 -1.421875 27.875 -1.421875 \r\nQ 17.96875 -1.421875 11.734375 6.484375 \r\nQ 5.515625 14.40625 5.515625 27.296875 \r\nQ 5.515625 40.1875 11.734375 48.09375 \r\nQ 17.96875 56 27.875 56 \r\nQ 33.9375 56 38.25 53.625 \r\nQ 42.578125 51.265625 45.40625 46.390625 \r\nz\r\nM 14.796875 27.296875 \r\nQ 14.796875 17.390625 18.875 11.75 \r\nQ 22.953125 6.109375 30.078125 6.109375 \r\nQ 37.203125 6.109375 41.296875 11.75 \r\nQ 45.40625 17.390625 45.40625 27.296875 \r\nQ 45.40625 37.203125 41.296875 42.84375 \r\nQ 37.203125 48.484375 30.078125 48.484375 \r\nQ 22.953125 48.484375 18.875 42.84375 \r\nQ 14.796875 37.203125 14.796875 27.296875 \r\nz\r\n\" id=\"DejaVuSans-100\"/>\r\n      </defs>\r\n      <use xlink:href=\"#DejaVuSans-105\"/>\r\n      <use x=\"27.783203\" xlink:href=\"#DejaVuSans-100\"/>\r\n     </g>\r\n    </g>\r\n   </g>\r\n   <g id=\"line2d_9\">\r\n    <path clip-path=\"url(#p927fedcb2e)\" d=\"M 208.003125 182.873666 \r\nL 208.003125 214.756364 \r\n\" style=\"fill:none;stroke:#3f3f3f;stroke-linecap:square;stroke-width:1.5;\"/>\r\n   </g>\r\n   <g id=\"line2d_10\">\r\n    <path clip-path=\"url(#p927fedcb2e)\" d=\"M 208.003125 115.92 \r\nL 208.003125 17.083636 \r\n\" style=\"fill:none;stroke:#3f3f3f;stroke-linecap:square;stroke-width:1.5;\"/>\r\n   </g>\r\n   <g id=\"line2d_11\">\r\n    <path clip-path=\"url(#p927fedcb2e)\" d=\"M 141.043125 214.756364 \r\nL 274.963125 214.756364 \r\n\" style=\"fill:none;stroke:#3f3f3f;stroke-linecap:square;stroke-width:1.5;\"/>\r\n   </g>\r\n   <g id=\"line2d_12\">\r\n    <path clip-path=\"url(#p927fedcb2e)\" d=\"M 141.043125 17.083636 \r\nL 274.963125 17.083636 \r\n\" style=\"fill:none;stroke:#3f3f3f;stroke-linecap:square;stroke-width:1.5;\"/>\r\n   </g>\r\n   <g id=\"line2d_13\">\r\n    <path clip-path=\"url(#p927fedcb2e)\" d=\"M 74.083125 163.744047 \r\nL 341.923125 163.744047 \r\n\" style=\"fill:none;stroke:#3f3f3f;stroke-linecap:square;stroke-width:1.5;\"/>\r\n   </g>\r\n   <g id=\"patch_4\">\r\n    <path d=\"M 40.603125 224.64 \r\nL 40.603125 7.2 \r\n\" style=\"fill:none;stroke:#000000;stroke-linecap:square;stroke-linejoin:miter;stroke-width:0.8;\"/>\r\n   </g>\r\n   <g id=\"patch_5\">\r\n    <path d=\"M 375.403125 224.64 \r\nL 375.403125 7.2 \r\n\" style=\"fill:none;stroke:#000000;stroke-linecap:square;stroke-linejoin:miter;stroke-width:0.8;\"/>\r\n   </g>\r\n   <g id=\"patch_6\">\r\n    <path d=\"M 40.603125 224.64 \r\nL 375.403125 224.64 \r\n\" style=\"fill:none;stroke:#000000;stroke-linecap:square;stroke-linejoin:miter;stroke-width:0.8;\"/>\r\n   </g>\r\n   <g id=\"patch_7\">\r\n    <path d=\"M 40.603125 7.2 \r\nL 375.403125 7.2 \r\n\" style=\"fill:none;stroke:#000000;stroke-linecap:square;stroke-linejoin:miter;stroke-width:0.8;\"/>\r\n   </g>\r\n  </g>\r\n </g>\r\n <defs>\r\n  <clipPath id=\"p927fedcb2e\">\r\n   <rect height=\"217.44\" width=\"334.8\" x=\"40.603125\" y=\"7.2\"/>\r\n  </clipPath>\r\n </defs>\r\n</svg>\r\n",
      "image/png": "[encoded data removed]"
     },
     "metadata": {
      "needs_background": "light"
     }
    }
   ],
   "metadata": {}
  },
  {
   "cell_type": "code",
   "execution_count": 119,
   "source": [
    "td_df = pd.DataFrame(df['id'].value_counts())\r\n",
    "td_df = td_df.reset_index().rename(columns={'index':'id', 'id':'trading_count'})\r\n",
    "\r\n",
    "trading_df = pd.merge(df, td_df, how='left', on='id')"
   ],
   "outputs": [],
   "metadata": {}
  },
  {
   "cell_type": "code",
   "execution_count": 121,
   "source": [
    "trading_df2 = trading_df[trading_df['trading_count']<=62]"
   ],
   "outputs": [],
   "metadata": {}
  },
  {
   "cell_type": "code",
   "execution_count": 122,
   "source": [
    "print('전체투자자 수', len(df['id'].unique()))\r\n",
    "print('개미투자자 수', len(trading_df2['id'].unique()))\r\n",
    "print('차이', len(df['id'].unique()) - len(trading_df2['id'].unique()))"
   ],
   "outputs": [
    {
     "output_type": "stream",
     "name": "stdout",
     "text": [
      "전체투자자 수 24989\n",
      "개미투자자 수 22261\n",
      "차이 2728\n"
     ]
    }
   ],
   "metadata": {}
  },
  {
   "cell_type": "code",
   "execution_count": 36,
   "source": [
    "plt.figure(figsize=(15,15))\r\n",
    "sns.heatmap(df.corr(), annot=True, cmap='Blues')"
   ],
   "outputs": [
    {
     "output_type": "execute_result",
     "data": {
      "text/plain": [
       "<AxesSubplot:>"
      ]
     },
     "metadata": {},
     "execution_count": 36
    },
    {
     "output_type": "display_data",
     "data": {
      "text/plain": [
       "<Figure size 1080x1080 with 2 Axes>"
      ],
      "image/svg+xml": "<?xml version=\"1.0\" encoding=\"utf-8\" standalone=\"no\"?>\r\n<!DOCTYPE svg PUBLIC \"-//W3C//DTD SVG 1.1//EN\"\r\n  \"http://www.w3.org/Graphics/SVG/1.1/DTD/svg11.dtd\">\r\n<!-- Created with matplotlib (https://matplotlib.org/) -->\r\n<svg height=\"934.835156pt\" version=\"1.1\" viewBox=\"0 0 899.13875 934.835156\" width=\"899.13875pt\" xmlns=\"http://www.w3.org/2000/svg\" xmlns:xlink=\"http://www.w3.org/1999/xlink\">\r\n <metadata>\r\n  <rdf:RDF xmlns:cc=\"http://creativecommons.org/ns#\" xmlns:dc=\"http://purl.org/dc/elements/1.1/\" xmlns:rdf=\"http://www.w3.org/1999/02/22-rdf-syntax-ns#\">\r\n   <cc:Work>\r\n    <dc:type rdf:resource=\"http://purl.org/dc/dcmitype/StillImage\"/>\r\n    <dc:date>2021-09-02T17:20:16.743227</dc:date>\r\n    <dc:format>image/svg+xml</dc:format>\r\n    <dc:creator>\r\n     <cc:Agent>\r\n      <dc:title>Matplotlib v3.3.4, https://matplotlib.org/</dc:title>\r\n     </cc:Agent>\r\n    </dc:creator>\r\n   </cc:Work>\r\n  </rdf:RDF>\r\n </metadata>\r\n <defs>\r\n  <style type=\"text/css\">*{stroke-linecap:butt;stroke-linejoin:round;}</style>\r\n </defs>\r\n <g id=\"figure_1\">\r\n  <g id=\"patch_1\">\r\n   <path d=\"M 0 934.835156 \r\nL 899.13875 934.835156 \r\nL 899.13875 0 \r\nL 0 0 \r\nz\r\n\" style=\"fill:none;\"/>\r\n  </g>\r\n  <g id=\"axes_1\">\r\n   <g id=\"patch_2\">\r\n    <path d=\"M 108.435938 826.399219 \r\nL 778.035938 826.399219 \r\nL 778.035938 10.999219 \r\nL 108.435938 10.999219 \r\nz\r\n\" style=\"fill:#ffffff;\"/>\r\n   </g>\r\n   <g id=\"QuadMesh_1\">\r\n    <path clip-path=\"url(#p6e4c6a2792)\" d=\"M 108.435938 10.999219 \r\nL 143.678043 10.999219 \r\nL 143.678043 53.915008 \r\nL 108.435938 53.915008 \r\nL 108.435938 10.999219 \r\n\" style=\"fill:#08306b;\"/>\r\n    <path clip-path=\"url(#p6e4c6a2792)\" d=\"M 143.678043 10.999219 \r\nL 178.920148 10.999219 \r\nL 178.920148 53.915008 \r\nL 143.678043 53.915008 \r\nL 143.678043 10.999219 \r\n\" style=\"fill:#c3daee;\"/>\r\n    <path clip-path=\"url(#p6e4c6a2792)\" d=\"M 178.920148 10.999219 \r\nL 214.162253 10.999219 \r\nL 214.162253 53.915008 \r\nL 178.920148 53.915008 \r\nL 178.920148 10.999219 \r\n\" style=\"fill:#d0e1f2;\"/>\r\n    <path clip-path=\"url(#p6e4c6a2792)\" d=\"M 214.162253 10.999219 \r\nL 249.404359 10.999219 \r\nL 249.404359 53.915008 \r\nL 214.162253 53.915008 \r\nL 214.162253 10.999219 \r\n\" style=\"fill:#d1e2f3;\"/>\r\n    <path clip-path=\"url(#p6e4c6a2792)\" d=\"M 249.404359 10.999219 \r\nL 284.646464 10.999219 \r\nL 284.646464 53.915008 \r\nL 249.404359 53.915008 \r\nL 249.404359 10.999219 \r\n\" style=\"fill:#c7dcef;\"/>\r\n    <path clip-path=\"url(#p6e4c6a2792)\" d=\"M 284.646464 10.999219 \r\nL 319.888569 10.999219 \r\nL 319.888569 53.915008 \r\nL 284.646464 53.915008 \r\nL 284.646464 10.999219 \r\n\" style=\"fill:#d7e6f5;\"/>\r\n    <path clip-path=\"url(#p6e4c6a2792)\" d=\"M 319.888569 10.999219 \r\nL 355.130674 10.999219 \r\nL 355.130674 53.915008 \r\nL 319.888569 53.915008 \r\nL 319.888569 10.999219 \r\n\" style=\"fill:#c7dbef;\"/>\r\n    <path clip-path=\"url(#p6e4c6a2792)\" d=\"M 355.130674 10.999219 \r\nL 390.37278 10.999219 \r\nL 390.37278 53.915008 \r\nL 355.130674 53.915008 \r\nL 355.130674 10.999219 \r\n\" style=\"fill:#dce9f6;\"/>\r\n    <path clip-path=\"url(#p6e4c6a2792)\" d=\"M 390.37278 10.999219 \r\nL 425.614885 10.999219 \r\nL 425.614885 53.915008 \r\nL 390.37278 53.915008 \r\nL 390.37278 10.999219 \r\n\" style=\"fill:#dce9f6;\"/>\r\n    <path clip-path=\"url(#p6e4c6a2792)\" d=\"M 425.614885 10.999219 \r\nL 460.85699 10.999219 \r\nL 460.85699 53.915008 \r\nL 425.614885 53.915008 \r\nL 425.614885 10.999219 \r\n\" style=\"fill:#ddeaf7;\"/>\r\n    <path clip-path=\"url(#p6e4c6a2792)\" d=\"M 460.85699 10.999219 \r\nL 496.099095 10.999219 \r\nL 496.099095 53.915008 \r\nL 460.85699 53.915008 \r\nL 460.85699 10.999219 \r\n\" style=\"fill:#c7dbef;\"/>\r\n    <path clip-path=\"url(#p6e4c6a2792)\" d=\"M 496.099095 10.999219 \r\nL 531.341201 10.999219 \r\nL 531.341201 53.915008 \r\nL 496.099095 53.915008 \r\nL 496.099095 10.999219 \r\n\" style=\"fill:#c7dbef;\"/>\r\n    <path clip-path=\"url(#p6e4c6a2792)\" d=\"M 531.341201 10.999219 \r\nL 566.583306 10.999219 \r\nL 566.583306 53.915008 \r\nL 531.341201 53.915008 \r\nL 531.341201 10.999219 \r\n\" style=\"fill:#c7dbef;\"/>\r\n    <path clip-path=\"url(#p6e4c6a2792)\" d=\"M 566.583306 10.999219 \r\nL 601.825411 10.999219 \r\nL 601.825411 53.915008 \r\nL 566.583306 53.915008 \r\nL 566.583306 10.999219 \r\n\" style=\"fill:#c7dbef;\"/>\r\n    <path clip-path=\"url(#p6e4c6a2792)\" d=\"M 601.825411 10.999219 \r\nL 637.067516 10.999219 \r\nL 637.067516 53.915008 \r\nL 601.825411 53.915008 \r\nL 601.825411 10.999219 \r\n\" style=\"fill:#c7dbef;\"/>\r\n    <path clip-path=\"url(#p6e4c6a2792)\" d=\"M 637.067516 10.999219 \r\nL 672.309622 10.999219 \r\nL 672.309622 53.915008 \r\nL 637.067516 53.915008 \r\nL 637.067516 10.999219 \r\n\" style=\"fill:#d0e1f2;\"/>\r\n    <path clip-path=\"url(#p6e4c6a2792)\" d=\"M 672.309622 10.999219 \r\nL 707.551727 10.999219 \r\nL 707.551727 53.915008 \r\nL 672.309622 53.915008 \r\nL 672.309622 10.999219 \r\n\" style=\"fill:#c9ddf0;\"/>\r\n    <path clip-path=\"url(#p6e4c6a2792)\" d=\"M 707.551727 10.999219 \r\nL 742.793832 10.999219 \r\nL 742.793832 53.915008 \r\nL 707.551727 53.915008 \r\nL 707.551727 10.999219 \r\n\" style=\"fill:#cee0f2;\"/>\r\n    <path clip-path=\"url(#p6e4c6a2792)\" d=\"M 742.793832 10.999219 \r\nL 778.035938 10.999219 \r\nL 778.035938 53.915008 \r\nL 742.793832 53.915008 \r\nL 742.793832 10.999219 \r\n\" style=\"fill:#cfe1f2;\"/>\r\n    <path clip-path=\"url(#p6e4c6a2792)\" d=\"M 108.435938 53.915008 \r\nL 143.678043 53.915008 \r\nL 143.678043 96.830798 \r\nL 108.435938 96.830798 \r\nL 108.435938 53.915008 \r\n\" style=\"fill:#c3daee;\"/>\r\n    <path clip-path=\"url(#p6e4c6a2792)\" d=\"M 143.678043 53.915008 \r\nL 178.920148 53.915008 \r\nL 178.920148 96.830798 \r\nL 143.678043 96.830798 \r\nL 143.678043 53.915008 \r\n\" style=\"fill:#08306b;\"/>\r\n    <path clip-path=\"url(#p6e4c6a2792)\" d=\"M 178.920148 53.915008 \r\nL 214.162253 53.915008 \r\nL 214.162253 96.830798 \r\nL 178.920148 96.830798 \r\nL 178.920148 53.915008 \r\n\" style=\"fill:#ccdff1;\"/>\r\n    <path clip-path=\"url(#p6e4c6a2792)\" d=\"M 214.162253 53.915008 \r\nL 249.404359 53.915008 \r\nL 249.404359 96.830798 \r\nL 214.162253 96.830798 \r\nL 214.162253 53.915008 \r\n\" style=\"fill:#d5e5f4;\"/>\r\n    <path clip-path=\"url(#p6e4c6a2792)\" d=\"M 249.404359 53.915008 \r\nL 284.646464 53.915008 \r\nL 284.646464 96.830798 \r\nL 249.404359 96.830798 \r\nL 249.404359 53.915008 \r\n\" style=\"fill:#c6dbef;\"/>\r\n    <path clip-path=\"url(#p6e4c6a2792)\" d=\"M 284.646464 53.915008 \r\nL 319.888569 53.915008 \r\nL 319.888569 96.830798 \r\nL 284.646464 96.830798 \r\nL 284.646464 53.915008 \r\n\" style=\"fill:#cddff1;\"/>\r\n    <path clip-path=\"url(#p6e4c6a2792)\" d=\"M 319.888569 53.915008 \r\nL 355.130674 53.915008 \r\nL 355.130674 96.830798 \r\nL 319.888569 96.830798 \r\nL 319.888569 53.915008 \r\n\" style=\"fill:#c4daee;\"/>\r\n    <path clip-path=\"url(#p6e4c6a2792)\" d=\"M 355.130674 53.915008 \r\nL 390.37278 53.915008 \r\nL 390.37278 96.830798 \r\nL 355.130674 96.830798 \r\nL 355.130674 53.915008 \r\n\" style=\"fill:#c1d9ed;\"/>\r\n    <path clip-path=\"url(#p6e4c6a2792)\" d=\"M 390.37278 53.915008 \r\nL 425.614885 53.915008 \r\nL 425.614885 96.830798 \r\nL 390.37278 96.830798 \r\nL 390.37278 53.915008 \r\n\" style=\"fill:#c1d9ed;\"/>\r\n    <path clip-path=\"url(#p6e4c6a2792)\" d=\"M 425.614885 53.915008 \r\nL 460.85699 53.915008 \r\nL 460.85699 96.830798 \r\nL 425.614885 96.830798 \r\nL 425.614885 53.915008 \r\n\" style=\"fill:#b3d3e8;\"/>\r\n    <path clip-path=\"url(#p6e4c6a2792)\" d=\"M 460.85699 53.915008 \r\nL 496.099095 53.915008 \r\nL 496.099095 96.830798 \r\nL 460.85699 96.830798 \r\nL 460.85699 53.915008 \r\n\" style=\"fill:#c3daee;\"/>\r\n    <path clip-path=\"url(#p6e4c6a2792)\" d=\"M 496.099095 53.915008 \r\nL 531.341201 53.915008 \r\nL 531.341201 96.830798 \r\nL 496.099095 96.830798 \r\nL 496.099095 53.915008 \r\n\" style=\"fill:#c3daee;\"/>\r\n    <path clip-path=\"url(#p6e4c6a2792)\" d=\"M 531.341201 53.915008 \r\nL 566.583306 53.915008 \r\nL 566.583306 96.830798 \r\nL 531.341201 96.830798 \r\nL 531.341201 53.915008 \r\n\" style=\"fill:#c4daee;\"/>\r\n    <path clip-path=\"url(#p6e4c6a2792)\" d=\"M 566.583306 53.915008 \r\nL 601.825411 53.915008 \r\nL 601.825411 96.830798 \r\nL 566.583306 96.830798 \r\nL 566.583306 53.915008 \r\n\" style=\"fill:#c3daee;\"/>\r\n    <path clip-path=\"url(#p6e4c6a2792)\" d=\"M 601.825411 53.915008 \r\nL 637.067516 53.915008 \r\nL 637.067516 96.830798 \r\nL 601.825411 96.830798 \r\nL 601.825411 53.915008 \r\n\" style=\"fill:#c4daee;\"/>\r\n    <path clip-path=\"url(#p6e4c6a2792)\" d=\"M 637.067516 53.915008 \r\nL 672.309622 53.915008 \r\nL 672.309622 96.830798 \r\nL 637.067516 96.830798 \r\nL 637.067516 53.915008 \r\n\" style=\"fill:#d7e6f5;\"/>\r\n    <path clip-path=\"url(#p6e4c6a2792)\" d=\"M 672.309622 53.915008 \r\nL 707.551727 53.915008 \r\nL 707.551727 96.830798 \r\nL 672.309622 96.830798 \r\nL 672.309622 53.915008 \r\n\" style=\"fill:#cde0f1;\"/>\r\n    <path clip-path=\"url(#p6e4c6a2792)\" d=\"M 707.551727 53.915008 \r\nL 742.793832 53.915008 \r\nL 742.793832 96.830798 \r\nL 707.551727 96.830798 \r\nL 707.551727 53.915008 \r\n\" style=\"fill:#c8dcf0;\"/>\r\n    <path clip-path=\"url(#p6e4c6a2792)\" d=\"M 742.793832 53.915008 \r\nL 778.035938 53.915008 \r\nL 778.035938 96.830798 \r\nL 742.793832 96.830798 \r\nL 742.793832 53.915008 \r\n\" style=\"fill:#cee0f2;\"/>\r\n    <path clip-path=\"url(#p6e4c6a2792)\" d=\"M 108.435938 96.830798 \r\nL 143.678043 96.830798 \r\nL 143.678043 139.746587 \r\nL 108.435938 139.746587 \r\nL 108.435938 96.830798 \r\n\" style=\"fill:#d0e1f2;\"/>\r\n    <path clip-path=\"url(#p6e4c6a2792)\" d=\"M 143.678043 96.830798 \r\nL 178.920148 96.830798 \r\nL 178.920148 139.746587 \r\nL 143.678043 139.746587 \r\nL 143.678043 96.830798 \r\n\" style=\"fill:#ccdff1;\"/>\r\n    <path clip-path=\"url(#p6e4c6a2792)\" d=\"M 178.920148 96.830798 \r\nL 214.162253 96.830798 \r\nL 214.162253 139.746587 \r\nL 178.920148 139.746587 \r\nL 178.920148 96.830798 \r\n\" style=\"fill:#08306b;\"/>\r\n    <path clip-path=\"url(#p6e4c6a2792)\" d=\"M 214.162253 96.830798 \r\nL 249.404359 96.830798 \r\nL 249.404359 139.746587 \r\nL 214.162253 139.746587 \r\nL 214.162253 96.830798 \r\n\" style=\"fill:#cde0f1;\"/>\r\n    <path clip-path=\"url(#p6e4c6a2792)\" d=\"M 249.404359 96.830798 \r\nL 284.646464 96.830798 \r\nL 284.646464 139.746587 \r\nL 249.404359 139.746587 \r\nL 249.404359 96.830798 \r\n\" style=\"fill:#cfe1f2;\"/>\r\n    <path clip-path=\"url(#p6e4c6a2792)\" d=\"M 284.646464 96.830798 \r\nL 319.888569 96.830798 \r\nL 319.888569 139.746587 \r\nL 284.646464 139.746587 \r\nL 284.646464 96.830798 \r\n\" style=\"fill:#d0e1f2;\"/>\r\n    <path clip-path=\"url(#p6e4c6a2792)\" d=\"M 319.888569 96.830798 \r\nL 355.130674 96.830798 \r\nL 355.130674 139.746587 \r\nL 319.888569 139.746587 \r\nL 319.888569 96.830798 \r\n\" style=\"fill:#cee0f2;\"/>\r\n    <path clip-path=\"url(#p6e4c6a2792)\" d=\"M 355.130674 96.830798 \r\nL 390.37278 96.830798 \r\nL 390.37278 139.746587 \r\nL 355.130674 139.746587 \r\nL 355.130674 96.830798 \r\n\" style=\"fill:#cddff1;\"/>\r\n    <path clip-path=\"url(#p6e4c6a2792)\" d=\"M 390.37278 96.830798 \r\nL 425.614885 96.830798 \r\nL 425.614885 139.746587 \r\nL 390.37278 139.746587 \r\nL 390.37278 96.830798 \r\n\" style=\"fill:#cddff1;\"/>\r\n    <path clip-path=\"url(#p6e4c6a2792)\" d=\"M 425.614885 96.830798 \r\nL 460.85699 96.830798 \r\nL 460.85699 139.746587 \r\nL 425.614885 139.746587 \r\nL 425.614885 96.830798 \r\n\" style=\"fill:#cde0f1;\"/>\r\n    <path clip-path=\"url(#p6e4c6a2792)\" d=\"M 460.85699 96.830798 \r\nL 496.099095 96.830798 \r\nL 496.099095 139.746587 \r\nL 460.85699 139.746587 \r\nL 460.85699 96.830798 \r\n\" style=\"fill:#cee0f2;\"/>\r\n    <path clip-path=\"url(#p6e4c6a2792)\" d=\"M 496.099095 96.830798 \r\nL 531.341201 96.830798 \r\nL 531.341201 139.746587 \r\nL 496.099095 139.746587 \r\nL 496.099095 96.830798 \r\n\" style=\"fill:#cee0f2;\"/>\r\n    <path clip-path=\"url(#p6e4c6a2792)\" d=\"M 531.341201 96.830798 \r\nL 566.583306 96.830798 \r\nL 566.583306 139.746587 \r\nL 531.341201 139.746587 \r\nL 531.341201 96.830798 \r\n\" style=\"fill:#cee0f2;\"/>\r\n    <path clip-path=\"url(#p6e4c6a2792)\" d=\"M 566.583306 96.830798 \r\nL 601.825411 96.830798 \r\nL 601.825411 139.746587 \r\nL 566.583306 139.746587 \r\nL 566.583306 96.830798 \r\n\" style=\"fill:#cee0f2;\"/>\r\n    <path clip-path=\"url(#p6e4c6a2792)\" d=\"M 601.825411 96.830798 \r\nL 637.067516 96.830798 \r\nL 637.067516 139.746587 \r\nL 601.825411 139.746587 \r\nL 601.825411 96.830798 \r\n\" style=\"fill:#cee0f2;\"/>\r\n    <path clip-path=\"url(#p6e4c6a2792)\" d=\"M 637.067516 96.830798 \r\nL 672.309622 96.830798 \r\nL 672.309622 139.746587 \r\nL 637.067516 139.746587 \r\nL 637.067516 96.830798 \r\n\" style=\"fill:#cbdef1;\"/>\r\n    <path clip-path=\"url(#p6e4c6a2792)\" d=\"M 672.309622 96.830798 \r\nL 707.551727 96.830798 \r\nL 707.551727 139.746587 \r\nL 672.309622 139.746587 \r\nL 672.309622 96.830798 \r\n\" style=\"fill:#cde0f1;\"/>\r\n    <path clip-path=\"url(#p6e4c6a2792)\" d=\"M 707.551727 96.830798 \r\nL 742.793832 96.830798 \r\nL 742.793832 139.746587 \r\nL 707.551727 139.746587 \r\nL 707.551727 96.830798 \r\n\" style=\"fill:#cbdef1;\"/>\r\n    <path clip-path=\"url(#p6e4c6a2792)\" d=\"M 742.793832 96.830798 \r\nL 778.035938 96.830798 \r\nL 778.035938 139.746587 \r\nL 742.793832 139.746587 \r\nL 742.793832 96.830798 \r\n\" style=\"fill:#ccdff1;\"/>\r\n    <path clip-path=\"url(#p6e4c6a2792)\" d=\"M 108.435938 139.746587 \r\nL 143.678043 139.746587 \r\nL 143.678043 182.662377 \r\nL 108.435938 182.662377 \r\nL 108.435938 139.746587 \r\n\" style=\"fill:#d1e2f3;\"/>\r\n    <path clip-path=\"url(#p6e4c6a2792)\" d=\"M 143.678043 139.746587 \r\nL 178.920148 139.746587 \r\nL 178.920148 182.662377 \r\nL 143.678043 182.662377 \r\nL 143.678043 139.746587 \r\n\" style=\"fill:#d5e5f4;\"/>\r\n    <path clip-path=\"url(#p6e4c6a2792)\" d=\"M 178.920148 139.746587 \r\nL 214.162253 139.746587 \r\nL 214.162253 182.662377 \r\nL 178.920148 182.662377 \r\nL 178.920148 139.746587 \r\n\" style=\"fill:#cde0f1;\"/>\r\n    <path clip-path=\"url(#p6e4c6a2792)\" d=\"M 214.162253 139.746587 \r\nL 249.404359 139.746587 \r\nL 249.404359 182.662377 \r\nL 214.162253 182.662377 \r\nL 214.162253 139.746587 \r\n\" style=\"fill:#08306b;\"/>\r\n    <path clip-path=\"url(#p6e4c6a2792)\" d=\"M 249.404359 139.746587 \r\nL 284.646464 139.746587 \r\nL 284.646464 182.662377 \r\nL 249.404359 182.662377 \r\nL 249.404359 139.746587 \r\n\" style=\"fill:#d9e8f5;\"/>\r\n    <path clip-path=\"url(#p6e4c6a2792)\" d=\"M 284.646464 139.746587 \r\nL 319.888569 139.746587 \r\nL 319.888569 182.662377 \r\nL 284.646464 182.662377 \r\nL 284.646464 139.746587 \r\n\" style=\"fill:#c7dcef;\"/>\r\n    <path clip-path=\"url(#p6e4c6a2792)\" d=\"M 319.888569 139.746587 \r\nL 355.130674 139.746587 \r\nL 355.130674 182.662377 \r\nL 319.888569 182.662377 \r\nL 319.888569 139.746587 \r\n\" style=\"fill:#f5fafe;\"/>\r\n    <path clip-path=\"url(#p6e4c6a2792)\" d=\"M 355.130674 139.746587 \r\nL 390.37278 139.746587 \r\nL 390.37278 182.662377 \r\nL 355.130674 182.662377 \r\nL 355.130674 139.746587 \r\n\" style=\"fill:#c3daee;\"/>\r\n    <path clip-path=\"url(#p6e4c6a2792)\" d=\"M 390.37278 139.746587 \r\nL 425.614885 139.746587 \r\nL 425.614885 182.662377 \r\nL 390.37278 182.662377 \r\nL 390.37278 139.746587 \r\n\" style=\"fill:#c3daee;\"/>\r\n    <path clip-path=\"url(#p6e4c6a2792)\" d=\"M 425.614885 139.746587 \r\nL 460.85699 139.746587 \r\nL 460.85699 182.662377 \r\nL 425.614885 182.662377 \r\nL 425.614885 139.746587 \r\n\" style=\"fill:#cfe1f2;\"/>\r\n    <path clip-path=\"url(#p6e4c6a2792)\" d=\"M 460.85699 139.746587 \r\nL 496.099095 139.746587 \r\nL 496.099095 182.662377 \r\nL 460.85699 182.662377 \r\nL 460.85699 139.746587 \r\n\" style=\"fill:#f7fbff;\"/>\r\n    <path clip-path=\"url(#p6e4c6a2792)\" d=\"M 496.099095 139.746587 \r\nL 531.341201 139.746587 \r\nL 531.341201 182.662377 \r\nL 496.099095 182.662377 \r\nL 496.099095 139.746587 \r\n\" style=\"fill:#f6faff;\"/>\r\n    <path clip-path=\"url(#p6e4c6a2792)\" d=\"M 531.341201 139.746587 \r\nL 566.583306 139.746587 \r\nL 566.583306 182.662377 \r\nL 531.341201 182.662377 \r\nL 531.341201 139.746587 \r\n\" style=\"fill:#f5fafe;\"/>\r\n    <path clip-path=\"url(#p6e4c6a2792)\" d=\"M 566.583306 139.746587 \r\nL 601.825411 139.746587 \r\nL 601.825411 182.662377 \r\nL 566.583306 182.662377 \r\nL 566.583306 139.746587 \r\n\" style=\"fill:#f7fbff;\"/>\r\n    <path clip-path=\"url(#p6e4c6a2792)\" d=\"M 601.825411 139.746587 \r\nL 637.067516 139.746587 \r\nL 637.067516 182.662377 \r\nL 601.825411 182.662377 \r\nL 601.825411 139.746587 \r\n\" style=\"fill:#f6faff;\"/>\r\n    <path clip-path=\"url(#p6e4c6a2792)\" d=\"M 637.067516 139.746587 \r\nL 672.309622 139.746587 \r\nL 672.309622 182.662377 \r\nL 637.067516 182.662377 \r\nL 637.067516 139.746587 \r\n\" style=\"fill:#cde0f1;\"/>\r\n    <path clip-path=\"url(#p6e4c6a2792)\" d=\"M 672.309622 139.746587 \r\nL 707.551727 139.746587 \r\nL 707.551727 182.662377 \r\nL 672.309622 182.662377 \r\nL 672.309622 139.746587 \r\n\" style=\"fill:#edf4fc;\"/>\r\n    <path clip-path=\"url(#p6e4c6a2792)\" d=\"M 707.551727 139.746587 \r\nL 742.793832 139.746587 \r\nL 742.793832 182.662377 \r\nL 707.551727 182.662377 \r\nL 707.551727 139.746587 \r\n\" style=\"fill:#caddf0;\"/>\r\n    <path clip-path=\"url(#p6e4c6a2792)\" d=\"M 742.793832 139.746587 \r\nL 778.035938 139.746587 \r\nL 778.035938 182.662377 \r\nL 742.793832 182.662377 \r\nL 742.793832 139.746587 \r\n\" style=\"fill:#cfe1f2;\"/>\r\n    <path clip-path=\"url(#p6e4c6a2792)\" d=\"M 108.435938 182.662377 \r\nL 143.678043 182.662377 \r\nL 143.678043 225.578166 \r\nL 108.435938 225.578166 \r\nL 108.435938 182.662377 \r\n\" style=\"fill:#c7dcef;\"/>\r\n    <path clip-path=\"url(#p6e4c6a2792)\" d=\"M 143.678043 182.662377 \r\nL 178.920148 182.662377 \r\nL 178.920148 225.578166 \r\nL 143.678043 225.578166 \r\nL 143.678043 182.662377 \r\n\" style=\"fill:#c6dbef;\"/>\r\n    <path clip-path=\"url(#p6e4c6a2792)\" d=\"M 178.920148 182.662377 \r\nL 214.162253 182.662377 \r\nL 214.162253 225.578166 \r\nL 178.920148 225.578166 \r\nL 178.920148 182.662377 \r\n\" style=\"fill:#cfe1f2;\"/>\r\n    <path clip-path=\"url(#p6e4c6a2792)\" d=\"M 214.162253 182.662377 \r\nL 249.404359 182.662377 \r\nL 249.404359 225.578166 \r\nL 214.162253 225.578166 \r\nL 214.162253 182.662377 \r\n\" style=\"fill:#d9e8f5;\"/>\r\n    <path clip-path=\"url(#p6e4c6a2792)\" d=\"M 249.404359 182.662377 \r\nL 284.646464 182.662377 \r\nL 284.646464 225.578166 \r\nL 249.404359 225.578166 \r\nL 249.404359 182.662377 \r\n\" style=\"fill:#08306b;\"/>\r\n    <path clip-path=\"url(#p6e4c6a2792)\" d=\"M 284.646464 182.662377 \r\nL 319.888569 182.662377 \r\nL 319.888569 225.578166 \r\nL 284.646464 225.578166 \r\nL 284.646464 182.662377 \r\n\" style=\"fill:#d5e5f4;\"/>\r\n    <path clip-path=\"url(#p6e4c6a2792)\" d=\"M 319.888569 182.662377 \r\nL 355.130674 182.662377 \r\nL 355.130674 225.578166 \r\nL 319.888569 225.578166 \r\nL 319.888569 182.662377 \r\n\" style=\"fill:#c8dcf0;\"/>\r\n    <path clip-path=\"url(#p6e4c6a2792)\" d=\"M 355.130674 182.662377 \r\nL 390.37278 182.662377 \r\nL 390.37278 225.578166 \r\nL 355.130674 225.578166 \r\nL 355.130674 182.662377 \r\n\" style=\"fill:#d8e7f5;\"/>\r\n    <path clip-path=\"url(#p6e4c6a2792)\" d=\"M 390.37278 182.662377 \r\nL 425.614885 182.662377 \r\nL 425.614885 225.578166 \r\nL 390.37278 225.578166 \r\nL 390.37278 182.662377 \r\n\" style=\"fill:#d7e6f5;\"/>\r\n    <path clip-path=\"url(#p6e4c6a2792)\" d=\"M 425.614885 182.662377 \r\nL 460.85699 182.662377 \r\nL 460.85699 225.578166 \r\nL 425.614885 225.578166 \r\nL 425.614885 182.662377 \r\n\" style=\"fill:#d9e7f5;\"/>\r\n    <path clip-path=\"url(#p6e4c6a2792)\" d=\"M 460.85699 182.662377 \r\nL 496.099095 182.662377 \r\nL 496.099095 225.578166 \r\nL 460.85699 225.578166 \r\nL 460.85699 182.662377 \r\n\" style=\"fill:#c7dcef;\"/>\r\n    <path clip-path=\"url(#p6e4c6a2792)\" d=\"M 496.099095 182.662377 \r\nL 531.341201 182.662377 \r\nL 531.341201 225.578166 \r\nL 496.099095 225.578166 \r\nL 496.099095 182.662377 \r\n\" style=\"fill:#c7dcef;\"/>\r\n    <path clip-path=\"url(#p6e4c6a2792)\" d=\"M 531.341201 182.662377 \r\nL 566.583306 182.662377 \r\nL 566.583306 225.578166 \r\nL 531.341201 225.578166 \r\nL 531.341201 182.662377 \r\n\" style=\"fill:#c8dcf0;\"/>\r\n    <path clip-path=\"url(#p6e4c6a2792)\" d=\"M 566.583306 182.662377 \r\nL 601.825411 182.662377 \r\nL 601.825411 225.578166 \r\nL 566.583306 225.578166 \r\nL 566.583306 182.662377 \r\n\" style=\"fill:#c7dcef;\"/>\r\n    <path clip-path=\"url(#p6e4c6a2792)\" d=\"M 601.825411 182.662377 \r\nL 637.067516 182.662377 \r\nL 637.067516 225.578166 \r\nL 601.825411 225.578166 \r\nL 601.825411 182.662377 \r\n\" style=\"fill:#c8dcf0;\"/>\r\n    <path clip-path=\"url(#p6e4c6a2792)\" d=\"M 637.067516 182.662377 \r\nL 672.309622 182.662377 \r\nL 672.309622 225.578166 \r\nL 637.067516 225.578166 \r\nL 637.067516 182.662377 \r\n\" style=\"fill:#d0e2f2;\"/>\r\n    <path clip-path=\"url(#p6e4c6a2792)\" d=\"M 672.309622 182.662377 \r\nL 707.551727 182.662377 \r\nL 707.551727 225.578166 \r\nL 672.309622 225.578166 \r\nL 672.309622 182.662377 \r\n\" style=\"fill:#c6dbef;\"/>\r\n    <path clip-path=\"url(#p6e4c6a2792)\" d=\"M 707.551727 182.662377 \r\nL 742.793832 182.662377 \r\nL 742.793832 225.578166 \r\nL 707.551727 225.578166 \r\nL 707.551727 182.662377 \r\n\" style=\"fill:#d4e4f4;\"/>\r\n    <path clip-path=\"url(#p6e4c6a2792)\" d=\"M 742.793832 182.662377 \r\nL 778.035938 182.662377 \r\nL 778.035938 225.578166 \r\nL 742.793832 225.578166 \r\nL 742.793832 182.662377 \r\n\" style=\"fill:#cee0f2;\"/>\r\n    <path clip-path=\"url(#p6e4c6a2792)\" d=\"M 108.435938 225.578166 \r\nL 143.678043 225.578166 \r\nL 143.678043 268.493956 \r\nL 108.435938 268.493956 \r\nL 108.435938 225.578166 \r\n\" style=\"fill:#d7e6f5;\"/>\r\n    <path clip-path=\"url(#p6e4c6a2792)\" d=\"M 143.678043 225.578166 \r\nL 178.920148 225.578166 \r\nL 178.920148 268.493956 \r\nL 143.678043 268.493956 \r\nL 143.678043 225.578166 \r\n\" style=\"fill:#cddff1;\"/>\r\n    <path clip-path=\"url(#p6e4c6a2792)\" d=\"M 178.920148 225.578166 \r\nL 214.162253 225.578166 \r\nL 214.162253 268.493956 \r\nL 178.920148 268.493956 \r\nL 178.920148 225.578166 \r\n\" style=\"fill:#d0e1f2;\"/>\r\n    <path clip-path=\"url(#p6e4c6a2792)\" d=\"M 214.162253 225.578166 \r\nL 249.404359 225.578166 \r\nL 249.404359 268.493956 \r\nL 214.162253 268.493956 \r\nL 214.162253 225.578166 \r\n\" style=\"fill:#c7dcef;\"/>\r\n    <path clip-path=\"url(#p6e4c6a2792)\" d=\"M 249.404359 225.578166 \r\nL 284.646464 225.578166 \r\nL 284.646464 268.493956 \r\nL 249.404359 268.493956 \r\nL 249.404359 225.578166 \r\n\" style=\"fill:#d5e5f4;\"/>\r\n    <path clip-path=\"url(#p6e4c6a2792)\" d=\"M 284.646464 225.578166 \r\nL 319.888569 225.578166 \r\nL 319.888569 268.493956 \r\nL 284.646464 268.493956 \r\nL 284.646464 225.578166 \r\n\" style=\"fill:#08306b;\"/>\r\n    <path clip-path=\"url(#p6e4c6a2792)\" d=\"M 319.888569 225.578166 \r\nL 355.130674 225.578166 \r\nL 355.130674 268.493956 \r\nL 319.888569 268.493956 \r\nL 319.888569 225.578166 \r\n\" style=\"fill:#cde0f1;\"/>\r\n    <path clip-path=\"url(#p6e4c6a2792)\" d=\"M 355.130674 225.578166 \r\nL 390.37278 225.578166 \r\nL 390.37278 268.493956 \r\nL 355.130674 268.493956 \r\nL 355.130674 225.578166 \r\n\" style=\"fill:#cee0f2;\"/>\r\n    <path clip-path=\"url(#p6e4c6a2792)\" d=\"M 390.37278 225.578166 \r\nL 425.614885 225.578166 \r\nL 425.614885 268.493956 \r\nL 390.37278 268.493956 \r\nL 390.37278 225.578166 \r\n\" style=\"fill:#cde0f1;\"/>\r\n    <path clip-path=\"url(#p6e4c6a2792)\" d=\"M 425.614885 225.578166 \r\nL 460.85699 225.578166 \r\nL 460.85699 268.493956 \r\nL 425.614885 268.493956 \r\nL 425.614885 225.578166 \r\n\" style=\"fill:#cddff1;\"/>\r\n    <path clip-path=\"url(#p6e4c6a2792)\" d=\"M 460.85699 225.578166 \r\nL 496.099095 225.578166 \r\nL 496.099095 268.493956 \r\nL 460.85699 268.493956 \r\nL 460.85699 225.578166 \r\n\" style=\"fill:#d2e3f3;\"/>\r\n    <path clip-path=\"url(#p6e4c6a2792)\" d=\"M 496.099095 225.578166 \r\nL 531.341201 225.578166 \r\nL 531.341201 268.493956 \r\nL 496.099095 268.493956 \r\nL 496.099095 225.578166 \r\n\" style=\"fill:#d2e3f3;\"/>\r\n    <path clip-path=\"url(#p6e4c6a2792)\" d=\"M 531.341201 225.578166 \r\nL 566.583306 225.578166 \r\nL 566.583306 268.493956 \r\nL 531.341201 268.493956 \r\nL 531.341201 225.578166 \r\n\" style=\"fill:#d1e2f3;\"/>\r\n    <path clip-path=\"url(#p6e4c6a2792)\" d=\"M 566.583306 225.578166 \r\nL 601.825411 225.578166 \r\nL 601.825411 268.493956 \r\nL 566.583306 268.493956 \r\nL 566.583306 225.578166 \r\n\" style=\"fill:#d2e3f3;\"/>\r\n    <path clip-path=\"url(#p6e4c6a2792)\" d=\"M 601.825411 225.578166 \r\nL 637.067516 225.578166 \r\nL 637.067516 268.493956 \r\nL 601.825411 268.493956 \r\nL 601.825411 225.578166 \r\n\" style=\"fill:#d2e3f3;\"/>\r\n    <path clip-path=\"url(#p6e4c6a2792)\" d=\"M 637.067516 225.578166 \r\nL 672.309622 225.578166 \r\nL 672.309622 268.493956 \r\nL 637.067516 268.493956 \r\nL 637.067516 225.578166 \r\n\" style=\"fill:#ccdff1;\"/>\r\n    <path clip-path=\"url(#p6e4c6a2792)\" d=\"M 672.309622 225.578166 \r\nL 707.551727 225.578166 \r\nL 707.551727 268.493956 \r\nL 672.309622 268.493956 \r\nL 672.309622 225.578166 \r\n\" style=\"fill:#cfe1f2;\"/>\r\n    <path clip-path=\"url(#p6e4c6a2792)\" d=\"M 707.551727 225.578166 \r\nL 742.793832 225.578166 \r\nL 742.793832 268.493956 \r\nL 707.551727 268.493956 \r\nL 707.551727 225.578166 \r\n\" style=\"fill:#cddff1;\"/>\r\n    <path clip-path=\"url(#p6e4c6a2792)\" d=\"M 742.793832 225.578166 \r\nL 778.035938 225.578166 \r\nL 778.035938 268.493956 \r\nL 742.793832 268.493956 \r\nL 742.793832 225.578166 \r\n\" style=\"fill:#cde0f1;\"/>\r\n    <path clip-path=\"url(#p6e4c6a2792)\" d=\"M 108.435938 268.493956 \r\nL 143.678043 268.493956 \r\nL 143.678043 311.409745 \r\nL 108.435938 311.409745 \r\nL 108.435938 268.493956 \r\n\" style=\"fill:#c7dbef;\"/>\r\n    <path clip-path=\"url(#p6e4c6a2792)\" d=\"M 143.678043 268.493956 \r\nL 178.920148 268.493956 \r\nL 178.920148 311.409745 \r\nL 143.678043 311.409745 \r\nL 143.678043 268.493956 \r\n\" style=\"fill:#c4daee;\"/>\r\n    <path clip-path=\"url(#p6e4c6a2792)\" d=\"M 178.920148 268.493956 \r\nL 214.162253 268.493956 \r\nL 214.162253 311.409745 \r\nL 178.920148 311.409745 \r\nL 178.920148 268.493956 \r\n\" style=\"fill:#cee0f2;\"/>\r\n    <path clip-path=\"url(#p6e4c6a2792)\" d=\"M 214.162253 268.493956 \r\nL 249.404359 268.493956 \r\nL 249.404359 311.409745 \r\nL 214.162253 311.409745 \r\nL 214.162253 268.493956 \r\n\" style=\"fill:#f5fafe;\"/>\r\n    <path clip-path=\"url(#p6e4c6a2792)\" d=\"M 249.404359 268.493956 \r\nL 284.646464 268.493956 \r\nL 284.646464 311.409745 \r\nL 249.404359 311.409745 \r\nL 249.404359 268.493956 \r\n\" style=\"fill:#c8dcf0;\"/>\r\n    <path clip-path=\"url(#p6e4c6a2792)\" d=\"M 284.646464 268.493956 \r\nL 319.888569 268.493956 \r\nL 319.888569 311.409745 \r\nL 284.646464 311.409745 \r\nL 284.646464 268.493956 \r\n\" style=\"fill:#cde0f1;\"/>\r\n    <path clip-path=\"url(#p6e4c6a2792)\" d=\"M 319.888569 268.493956 \r\nL 355.130674 268.493956 \r\nL 355.130674 311.409745 \r\nL 319.888569 311.409745 \r\nL 319.888569 268.493956 \r\n\" style=\"fill:#08306b;\"/>\r\n    <path clip-path=\"url(#p6e4c6a2792)\" d=\"M 355.130674 268.493956 \r\nL 390.37278 268.493956 \r\nL 390.37278 311.409745 \r\nL 355.130674 311.409745 \r\nL 355.130674 268.493956 \r\n\" style=\"fill:#dfecf7;\"/>\r\n    <path clip-path=\"url(#p6e4c6a2792)\" d=\"M 390.37278 268.493956 \r\nL 425.614885 268.493956 \r\nL 425.614885 311.409745 \r\nL 390.37278 311.409745 \r\nL 390.37278 268.493956 \r\n\" style=\"fill:#dfecf7;\"/>\r\n    <path clip-path=\"url(#p6e4c6a2792)\" d=\"M 425.614885 268.493956 \r\nL 460.85699 268.493956 \r\nL 460.85699 311.409745 \r\nL 425.614885 311.409745 \r\nL 425.614885 268.493956 \r\n\" style=\"fill:#b7d4ea;\"/>\r\n    <path clip-path=\"url(#p6e4c6a2792)\" d=\"M 460.85699 268.493956 \r\nL 496.099095 268.493956 \r\nL 496.099095 311.409745 \r\nL 460.85699 311.409745 \r\nL 460.85699 268.493956 \r\n\" style=\"fill:#08306b;\"/>\r\n    <path clip-path=\"url(#p6e4c6a2792)\" d=\"M 496.099095 268.493956 \r\nL 531.341201 268.493956 \r\nL 531.341201 311.409745 \r\nL 496.099095 311.409745 \r\nL 496.099095 268.493956 \r\n\" style=\"fill:#08306b;\"/>\r\n    <path clip-path=\"url(#p6e4c6a2792)\" d=\"M 531.341201 268.493956 \r\nL 566.583306 268.493956 \r\nL 566.583306 311.409745 \r\nL 531.341201 311.409745 \r\nL 531.341201 268.493956 \r\n\" style=\"fill:#08306b;\"/>\r\n    <path clip-path=\"url(#p6e4c6a2792)\" d=\"M 566.583306 268.493956 \r\nL 601.825411 268.493956 \r\nL 601.825411 311.409745 \r\nL 566.583306 311.409745 \r\nL 566.583306 268.493956 \r\n\" style=\"fill:#08306b;\"/>\r\n    <path clip-path=\"url(#p6e4c6a2792)\" d=\"M 601.825411 268.493956 \r\nL 637.067516 268.493956 \r\nL 637.067516 311.409745 \r\nL 601.825411 311.409745 \r\nL 601.825411 268.493956 \r\n\" style=\"fill:#08306b;\"/>\r\n    <path clip-path=\"url(#p6e4c6a2792)\" d=\"M 637.067516 268.493956 \r\nL 672.309622 268.493956 \r\nL 672.309622 311.409745 \r\nL 637.067516 311.409745 \r\nL 637.067516 268.493956 \r\n\" style=\"fill:#deebf7;\"/>\r\n    <path clip-path=\"url(#p6e4c6a2792)\" d=\"M 672.309622 268.493956 \r\nL 707.551727 268.493956 \r\nL 707.551727 311.409745 \r\nL 672.309622 311.409745 \r\nL 672.309622 268.493956 \r\n\" style=\"fill:#9dcae1;\"/>\r\n    <path clip-path=\"url(#p6e4c6a2792)\" d=\"M 707.551727 268.493956 \r\nL 742.793832 268.493956 \r\nL 742.793832 311.409745 \r\nL 707.551727 311.409745 \r\nL 707.551727 268.493956 \r\n\" style=\"fill:#c6dbef;\"/>\r\n    <path clip-path=\"url(#p6e4c6a2792)\" d=\"M 742.793832 268.493956 \r\nL 778.035938 268.493956 \r\nL 778.035938 311.409745 \r\nL 742.793832 311.409745 \r\nL 742.793832 268.493956 \r\n\" style=\"fill:#cde0f1;\"/>\r\n    <path clip-path=\"url(#p6e4c6a2792)\" d=\"M 108.435938 311.409745 \r\nL 143.678043 311.409745 \r\nL 143.678043 354.325535 \r\nL 108.435938 354.325535 \r\nL 108.435938 311.409745 \r\n\" style=\"fill:#dce9f6;\"/>\r\n    <path clip-path=\"url(#p6e4c6a2792)\" d=\"M 143.678043 311.409745 \r\nL 178.920148 311.409745 \r\nL 178.920148 354.325535 \r\nL 143.678043 354.325535 \r\nL 143.678043 311.409745 \r\n\" style=\"fill:#c1d9ed;\"/>\r\n    <path clip-path=\"url(#p6e4c6a2792)\" d=\"M 178.920148 311.409745 \r\nL 214.162253 311.409745 \r\nL 214.162253 354.325535 \r\nL 178.920148 354.325535 \r\nL 178.920148 311.409745 \r\n\" style=\"fill:#cddff1;\"/>\r\n    <path clip-path=\"url(#p6e4c6a2792)\" d=\"M 214.162253 311.409745 \r\nL 249.404359 311.409745 \r\nL 249.404359 354.325535 \r\nL 214.162253 354.325535 \r\nL 214.162253 311.409745 \r\n\" style=\"fill:#c3daee;\"/>\r\n    <path clip-path=\"url(#p6e4c6a2792)\" d=\"M 249.404359 311.409745 \r\nL 284.646464 311.409745 \r\nL 284.646464 354.325535 \r\nL 249.404359 354.325535 \r\nL 249.404359 311.409745 \r\n\" style=\"fill:#d8e7f5;\"/>\r\n    <path clip-path=\"url(#p6e4c6a2792)\" d=\"M 284.646464 311.409745 \r\nL 319.888569 311.409745 \r\nL 319.888569 354.325535 \r\nL 284.646464 354.325535 \r\nL 284.646464 311.409745 \r\n\" style=\"fill:#cee0f2;\"/>\r\n    <path clip-path=\"url(#p6e4c6a2792)\" d=\"M 319.888569 311.409745 \r\nL 355.130674 311.409745 \r\nL 355.130674 354.325535 \r\nL 319.888569 354.325535 \r\nL 319.888569 311.409745 \r\n\" style=\"fill:#dfecf7;\"/>\r\n    <path clip-path=\"url(#p6e4c6a2792)\" d=\"M 355.130674 311.409745 \r\nL 390.37278 311.409745 \r\nL 390.37278 354.325535 \r\nL 355.130674 354.325535 \r\nL 355.130674 311.409745 \r\n\" style=\"fill:#08306b;\"/>\r\n    <path clip-path=\"url(#p6e4c6a2792)\" d=\"M 390.37278 311.409745 \r\nL 425.614885 311.409745 \r\nL 425.614885 354.325535 \r\nL 390.37278 354.325535 \r\nL 390.37278 311.409745 \r\n\" style=\"fill:#083370;\"/>\r\n    <path clip-path=\"url(#p6e4c6a2792)\" d=\"M 425.614885 311.409745 \r\nL 460.85699 311.409745 \r\nL 460.85699 354.325535 \r\nL 425.614885 354.325535 \r\nL 425.614885 311.409745 \r\n\" style=\"fill:#60a7d2;\"/>\r\n    <path clip-path=\"url(#p6e4c6a2792)\" d=\"M 460.85699 311.409745 \r\nL 496.099095 311.409745 \r\nL 496.099095 354.325535 \r\nL 460.85699 354.325535 \r\nL 460.85699 311.409745 \r\n\" style=\"fill:#dfecf7;\"/>\r\n    <path clip-path=\"url(#p6e4c6a2792)\" d=\"M 496.099095 311.409745 \r\nL 531.341201 311.409745 \r\nL 531.341201 354.325535 \r\nL 496.099095 354.325535 \r\nL 496.099095 311.409745 \r\n\" style=\"fill:#dfecf7;\"/>\r\n    <path clip-path=\"url(#p6e4c6a2792)\" d=\"M 531.341201 311.409745 \r\nL 566.583306 311.409745 \r\nL 566.583306 354.325535 \r\nL 531.341201 354.325535 \r\nL 531.341201 311.409745 \r\n\" style=\"fill:#dfecf7;\"/>\r\n    <path clip-path=\"url(#p6e4c6a2792)\" d=\"M 566.583306 311.409745 \r\nL 601.825411 311.409745 \r\nL 601.825411 354.325535 \r\nL 566.583306 354.325535 \r\nL 566.583306 311.409745 \r\n\" style=\"fill:#dfebf7;\"/>\r\n    <path clip-path=\"url(#p6e4c6a2792)\" d=\"M 601.825411 311.409745 \r\nL 637.067516 311.409745 \r\nL 637.067516 354.325535 \r\nL 601.825411 354.325535 \r\nL 601.825411 311.409745 \r\n\" style=\"fill:#dfecf7;\"/>\r\n    <path clip-path=\"url(#p6e4c6a2792)\" d=\"M 637.067516 311.409745 \r\nL 672.309622 311.409745 \r\nL 672.309622 354.325535 \r\nL 637.067516 354.325535 \r\nL 637.067516 311.409745 \r\n\" style=\"fill:#b5d4e9;\"/>\r\n    <path clip-path=\"url(#p6e4c6a2792)\" d=\"M 672.309622 311.409745 \r\nL 707.551727 311.409745 \r\nL 707.551727 354.325535 \r\nL 672.309622 354.325535 \r\nL 672.309622 311.409745 \r\n\" style=\"fill:#dbe9f6;\"/>\r\n    <path clip-path=\"url(#p6e4c6a2792)\" d=\"M 707.551727 311.409745 \r\nL 742.793832 311.409745 \r\nL 742.793832 354.325535 \r\nL 707.551727 354.325535 \r\nL 707.551727 311.409745 \r\n\" style=\"fill:#d1e2f3;\"/>\r\n    <path clip-path=\"url(#p6e4c6a2792)\" d=\"M 742.793832 311.409745 \r\nL 778.035938 311.409745 \r\nL 778.035938 354.325535 \r\nL 742.793832 354.325535 \r\nL 742.793832 311.409745 \r\n\" style=\"fill:#cee0f2;\"/>\r\n    <path clip-path=\"url(#p6e4c6a2792)\" d=\"M 108.435938 354.325535 \r\nL 143.678043 354.325535 \r\nL 143.678043 397.241324 \r\nL 108.435938 397.241324 \r\nL 108.435938 354.325535 \r\n\" style=\"fill:#dce9f6;\"/>\r\n    <path clip-path=\"url(#p6e4c6a2792)\" d=\"M 143.678043 354.325535 \r\nL 178.920148 354.325535 \r\nL 178.920148 397.241324 \r\nL 143.678043 397.241324 \r\nL 143.678043 354.325535 \r\n\" style=\"fill:#c1d9ed;\"/>\r\n    <path clip-path=\"url(#p6e4c6a2792)\" d=\"M 178.920148 354.325535 \r\nL 214.162253 354.325535 \r\nL 214.162253 397.241324 \r\nL 178.920148 397.241324 \r\nL 178.920148 354.325535 \r\n\" style=\"fill:#cddff1;\"/>\r\n    <path clip-path=\"url(#p6e4c6a2792)\" d=\"M 214.162253 354.325535 \r\nL 249.404359 354.325535 \r\nL 249.404359 397.241324 \r\nL 214.162253 397.241324 \r\nL 214.162253 354.325535 \r\n\" style=\"fill:#c3daee;\"/>\r\n    <path clip-path=\"url(#p6e4c6a2792)\" d=\"M 249.404359 354.325535 \r\nL 284.646464 354.325535 \r\nL 284.646464 397.241324 \r\nL 249.404359 397.241324 \r\nL 249.404359 354.325535 \r\n\" style=\"fill:#d7e6f5;\"/>\r\n    <path clip-path=\"url(#p6e4c6a2792)\" d=\"M 284.646464 354.325535 \r\nL 319.888569 354.325535 \r\nL 319.888569 397.241324 \r\nL 284.646464 397.241324 \r\nL 284.646464 354.325535 \r\n\" style=\"fill:#cde0f1;\"/>\r\n    <path clip-path=\"url(#p6e4c6a2792)\" d=\"M 319.888569 354.325535 \r\nL 355.130674 354.325535 \r\nL 355.130674 397.241324 \r\nL 319.888569 397.241324 \r\nL 319.888569 354.325535 \r\n\" style=\"fill:#dfecf7;\"/>\r\n    <path clip-path=\"url(#p6e4c6a2792)\" d=\"M 355.130674 354.325535 \r\nL 390.37278 354.325535 \r\nL 390.37278 397.241324 \r\nL 355.130674 397.241324 \r\nL 355.130674 354.325535 \r\n\" style=\"fill:#083370;\"/>\r\n    <path clip-path=\"url(#p6e4c6a2792)\" d=\"M 390.37278 354.325535 \r\nL 425.614885 354.325535 \r\nL 425.614885 397.241324 \r\nL 390.37278 397.241324 \r\nL 390.37278 354.325535 \r\n\" style=\"fill:#08306b;\"/>\r\n    <path clip-path=\"url(#p6e4c6a2792)\" d=\"M 425.614885 354.325535 \r\nL 460.85699 354.325535 \r\nL 460.85699 397.241324 \r\nL 425.614885 397.241324 \r\nL 425.614885 354.325535 \r\n\" style=\"fill:#5da5d1;\"/>\r\n    <path clip-path=\"url(#p6e4c6a2792)\" d=\"M 460.85699 354.325535 \r\nL 496.099095 354.325535 \r\nL 496.099095 397.241324 \r\nL 460.85699 397.241324 \r\nL 460.85699 354.325535 \r\n\" style=\"fill:#dfecf7;\"/>\r\n    <path clip-path=\"url(#p6e4c6a2792)\" d=\"M 496.099095 354.325535 \r\nL 531.341201 354.325535 \r\nL 531.341201 397.241324 \r\nL 496.099095 397.241324 \r\nL 496.099095 354.325535 \r\n\" style=\"fill:#dfecf7;\"/>\r\n    <path clip-path=\"url(#p6e4c6a2792)\" d=\"M 531.341201 354.325535 \r\nL 566.583306 354.325535 \r\nL 566.583306 397.241324 \r\nL 531.341201 397.241324 \r\nL 531.341201 354.325535 \r\n\" style=\"fill:#dfecf7;\"/>\r\n    <path clip-path=\"url(#p6e4c6a2792)\" d=\"M 566.583306 354.325535 \r\nL 601.825411 354.325535 \r\nL 601.825411 397.241324 \r\nL 566.583306 397.241324 \r\nL 566.583306 354.325535 \r\n\" style=\"fill:#dfebf7;\"/>\r\n    <path clip-path=\"url(#p6e4c6a2792)\" d=\"M 601.825411 354.325535 \r\nL 637.067516 354.325535 \r\nL 637.067516 397.241324 \r\nL 601.825411 397.241324 \r\nL 601.825411 354.325535 \r\n\" style=\"fill:#dfecf7;\"/>\r\n    <path clip-path=\"url(#p6e4c6a2792)\" d=\"M 637.067516 354.325535 \r\nL 672.309622 354.325535 \r\nL 672.309622 397.241324 \r\nL 637.067516 397.241324 \r\nL 637.067516 354.325535 \r\n\" style=\"fill:#b4d3e9;\"/>\r\n    <path clip-path=\"url(#p6e4c6a2792)\" d=\"M 672.309622 354.325535 \r\nL 707.551727 354.325535 \r\nL 707.551727 397.241324 \r\nL 672.309622 397.241324 \r\nL 672.309622 354.325535 \r\n\" style=\"fill:#dae8f6;\"/>\r\n    <path clip-path=\"url(#p6e4c6a2792)\" d=\"M 707.551727 354.325535 \r\nL 742.793832 354.325535 \r\nL 742.793832 397.241324 \r\nL 707.551727 397.241324 \r\nL 707.551727 354.325535 \r\n\" style=\"fill:#d1e2f3;\"/>\r\n    <path clip-path=\"url(#p6e4c6a2792)\" d=\"M 742.793832 354.325535 \r\nL 778.035938 354.325535 \r\nL 778.035938 397.241324 \r\nL 742.793832 397.241324 \r\nL 742.793832 354.325535 \r\n\" style=\"fill:#cee0f2;\"/>\r\n    <path clip-path=\"url(#p6e4c6a2792)\" d=\"M 108.435938 397.241324 \r\nL 143.678043 397.241324 \r\nL 143.678043 440.157113 \r\nL 108.435938 440.157113 \r\nL 108.435938 397.241324 \r\n\" style=\"fill:#ddeaf7;\"/>\r\n    <path clip-path=\"url(#p6e4c6a2792)\" d=\"M 143.678043 397.241324 \r\nL 178.920148 397.241324 \r\nL 178.920148 440.157113 \r\nL 143.678043 440.157113 \r\nL 143.678043 397.241324 \r\n\" style=\"fill:#b3d3e8;\"/>\r\n    <path clip-path=\"url(#p6e4c6a2792)\" d=\"M 178.920148 397.241324 \r\nL 214.162253 397.241324 \r\nL 214.162253 440.157113 \r\nL 178.920148 440.157113 \r\nL 178.920148 397.241324 \r\n\" style=\"fill:#cde0f1;\"/>\r\n    <path clip-path=\"url(#p6e4c6a2792)\" d=\"M 214.162253 397.241324 \r\nL 249.404359 397.241324 \r\nL 249.404359 440.157113 \r\nL 214.162253 440.157113 \r\nL 214.162253 397.241324 \r\n\" style=\"fill:#cfe1f2;\"/>\r\n    <path clip-path=\"url(#p6e4c6a2792)\" d=\"M 249.404359 397.241324 \r\nL 284.646464 397.241324 \r\nL 284.646464 440.157113 \r\nL 249.404359 440.157113 \r\nL 249.404359 397.241324 \r\n\" style=\"fill:#d9e7f5;\"/>\r\n    <path clip-path=\"url(#p6e4c6a2792)\" d=\"M 284.646464 397.241324 \r\nL 319.888569 397.241324 \r\nL 319.888569 440.157113 \r\nL 284.646464 440.157113 \r\nL 284.646464 397.241324 \r\n\" style=\"fill:#cddff1;\"/>\r\n    <path clip-path=\"url(#p6e4c6a2792)\" d=\"M 319.888569 397.241324 \r\nL 355.130674 397.241324 \r\nL 355.130674 440.157113 \r\nL 319.888569 440.157113 \r\nL 319.888569 397.241324 \r\n\" style=\"fill:#b7d4ea;\"/>\r\n    <path clip-path=\"url(#p6e4c6a2792)\" d=\"M 355.130674 397.241324 \r\nL 390.37278 397.241324 \r\nL 390.37278 440.157113 \r\nL 355.130674 440.157113 \r\nL 355.130674 397.241324 \r\n\" style=\"fill:#60a7d2;\"/>\r\n    <path clip-path=\"url(#p6e4c6a2792)\" d=\"M 390.37278 397.241324 \r\nL 425.614885 397.241324 \r\nL 425.614885 440.157113 \r\nL 390.37278 440.157113 \r\nL 390.37278 397.241324 \r\n\" style=\"fill:#5da5d1;\"/>\r\n    <path clip-path=\"url(#p6e4c6a2792)\" d=\"M 425.614885 397.241324 \r\nL 460.85699 397.241324 \r\nL 460.85699 440.157113 \r\nL 425.614885 440.157113 \r\nL 425.614885 397.241324 \r\n\" style=\"fill:#08306b;\"/>\r\n    <path clip-path=\"url(#p6e4c6a2792)\" d=\"M 460.85699 397.241324 \r\nL 496.099095 397.241324 \r\nL 496.099095 440.157113 \r\nL 460.85699 440.157113 \r\nL 460.85699 397.241324 \r\n\" style=\"fill:#b8d5ea;\"/>\r\n    <path clip-path=\"url(#p6e4c6a2792)\" d=\"M 496.099095 397.241324 \r\nL 531.341201 397.241324 \r\nL 531.341201 440.157113 \r\nL 496.099095 440.157113 \r\nL 496.099095 397.241324 \r\n\" style=\"fill:#b8d5ea;\"/>\r\n    <path clip-path=\"url(#p6e4c6a2792)\" d=\"M 531.341201 397.241324 \r\nL 566.583306 397.241324 \r\nL 566.583306 440.157113 \r\nL 531.341201 440.157113 \r\nL 531.341201 397.241324 \r\n\" style=\"fill:#b7d4ea;\"/>\r\n    <path clip-path=\"url(#p6e4c6a2792)\" d=\"M 566.583306 397.241324 \r\nL 601.825411 397.241324 \r\nL 601.825411 440.157113 \r\nL 566.583306 440.157113 \r\nL 566.583306 397.241324 \r\n\" style=\"fill:#b8d5ea;\"/>\r\n    <path clip-path=\"url(#p6e4c6a2792)\" d=\"M 601.825411 397.241324 \r\nL 637.067516 397.241324 \r\nL 637.067516 440.157113 \r\nL 601.825411 440.157113 \r\nL 601.825411 397.241324 \r\n\" style=\"fill:#b7d4ea;\"/>\r\n    <path clip-path=\"url(#p6e4c6a2792)\" d=\"M 637.067516 397.241324 \r\nL 672.309622 397.241324 \r\nL 672.309622 440.157113 \r\nL 637.067516 440.157113 \r\nL 637.067516 397.241324 \r\n\" style=\"fill:#d0e1f2;\"/>\r\n    <path clip-path=\"url(#p6e4c6a2792)\" d=\"M 672.309622 397.241324 \r\nL 707.551727 397.241324 \r\nL 707.551727 440.157113 \r\nL 672.309622 440.157113 \r\nL 672.309622 397.241324 \r\n\" style=\"fill:#c3daee;\"/>\r\n    <path clip-path=\"url(#p6e4c6a2792)\" d=\"M 707.551727 397.241324 \r\nL 742.793832 397.241324 \r\nL 742.793832 440.157113 \r\nL 707.551727 440.157113 \r\nL 707.551727 397.241324 \r\n\" style=\"fill:#c6dbef;\"/>\r\n    <path clip-path=\"url(#p6e4c6a2792)\" d=\"M 742.793832 397.241324 \r\nL 778.035938 397.241324 \r\nL 778.035938 440.157113 \r\nL 742.793832 440.157113 \r\nL 742.793832 397.241324 \r\n\" style=\"fill:#cee0f2;\"/>\r\n    <path clip-path=\"url(#p6e4c6a2792)\" d=\"M 108.435938 440.157113 \r\nL 143.678043 440.157113 \r\nL 143.678043 483.072903 \r\nL 108.435938 483.072903 \r\nL 108.435938 440.157113 \r\n\" style=\"fill:#c7dbef;\"/>\r\n    <path clip-path=\"url(#p6e4c6a2792)\" d=\"M 143.678043 440.157113 \r\nL 178.920148 440.157113 \r\nL 178.920148 483.072903 \r\nL 143.678043 483.072903 \r\nL 143.678043 440.157113 \r\n\" style=\"fill:#c3daee;\"/>\r\n    <path clip-path=\"url(#p6e4c6a2792)\" d=\"M 178.920148 440.157113 \r\nL 214.162253 440.157113 \r\nL 214.162253 483.072903 \r\nL 178.920148 483.072903 \r\nL 178.920148 440.157113 \r\n\" style=\"fill:#cee0f2;\"/>\r\n    <path clip-path=\"url(#p6e4c6a2792)\" d=\"M 214.162253 440.157113 \r\nL 249.404359 440.157113 \r\nL 249.404359 483.072903 \r\nL 214.162253 483.072903 \r\nL 214.162253 440.157113 \r\n\" style=\"fill:#f7fbff;\"/>\r\n    <path clip-path=\"url(#p6e4c6a2792)\" d=\"M 249.404359 440.157113 \r\nL 284.646464 440.157113 \r\nL 284.646464 483.072903 \r\nL 249.404359 483.072903 \r\nL 249.404359 440.157113 \r\n\" style=\"fill:#c7dcef;\"/>\r\n    <path clip-path=\"url(#p6e4c6a2792)\" d=\"M 284.646464 440.157113 \r\nL 319.888569 440.157113 \r\nL 319.888569 483.072903 \r\nL 284.646464 483.072903 \r\nL 284.646464 440.157113 \r\n\" style=\"fill:#d2e3f3;\"/>\r\n    <path clip-path=\"url(#p6e4c6a2792)\" d=\"M 319.888569 440.157113 \r\nL 355.130674 440.157113 \r\nL 355.130674 483.072903 \r\nL 319.888569 483.072903 \r\nL 319.888569 440.157113 \r\n\" style=\"fill:#08306b;\"/>\r\n    <path clip-path=\"url(#p6e4c6a2792)\" d=\"M 355.130674 440.157113 \r\nL 390.37278 440.157113 \r\nL 390.37278 483.072903 \r\nL 355.130674 483.072903 \r\nL 355.130674 440.157113 \r\n\" style=\"fill:#dfecf7;\"/>\r\n    <path clip-path=\"url(#p6e4c6a2792)\" d=\"M 390.37278 440.157113 \r\nL 425.614885 440.157113 \r\nL 425.614885 483.072903 \r\nL 390.37278 483.072903 \r\nL 390.37278 440.157113 \r\n\" style=\"fill:#dfecf7;\"/>\r\n    <path clip-path=\"url(#p6e4c6a2792)\" d=\"M 425.614885 440.157113 \r\nL 460.85699 440.157113 \r\nL 460.85699 483.072903 \r\nL 425.614885 483.072903 \r\nL 425.614885 440.157113 \r\n\" style=\"fill:#b8d5ea;\"/>\r\n    <path clip-path=\"url(#p6e4c6a2792)\" d=\"M 460.85699 440.157113 \r\nL 496.099095 440.157113 \r\nL 496.099095 483.072903 \r\nL 460.85699 483.072903 \r\nL 460.85699 440.157113 \r\n\" style=\"fill:#08306b;\"/>\r\n    <path clip-path=\"url(#p6e4c6a2792)\" d=\"M 496.099095 440.157113 \r\nL 531.341201 440.157113 \r\nL 531.341201 483.072903 \r\nL 496.099095 483.072903 \r\nL 496.099095 440.157113 \r\n\" style=\"fill:#08306b;\"/>\r\n    <path clip-path=\"url(#p6e4c6a2792)\" d=\"M 531.341201 440.157113 \r\nL 566.583306 440.157113 \r\nL 566.583306 483.072903 \r\nL 531.341201 483.072903 \r\nL 531.341201 440.157113 \r\n\" style=\"fill:#08306b;\"/>\r\n    <path clip-path=\"url(#p6e4c6a2792)\" d=\"M 566.583306 440.157113 \r\nL 601.825411 440.157113 \r\nL 601.825411 483.072903 \r\nL 566.583306 483.072903 \r\nL 566.583306 440.157113 \r\n\" style=\"fill:#08306b;\"/>\r\n    <path clip-path=\"url(#p6e4c6a2792)\" d=\"M 601.825411 440.157113 \r\nL 637.067516 440.157113 \r\nL 637.067516 483.072903 \r\nL 601.825411 483.072903 \r\nL 601.825411 440.157113 \r\n\" style=\"fill:#08306b;\"/>\r\n    <path clip-path=\"url(#p6e4c6a2792)\" d=\"M 637.067516 440.157113 \r\nL 672.309622 440.157113 \r\nL 672.309622 483.072903 \r\nL 637.067516 483.072903 \r\nL 637.067516 440.157113 \r\n\" style=\"fill:#deebf7;\"/>\r\n    <path clip-path=\"url(#p6e4c6a2792)\" d=\"M 672.309622 440.157113 \r\nL 707.551727 440.157113 \r\nL 707.551727 483.072903 \r\nL 672.309622 483.072903 \r\nL 672.309622 440.157113 \r\n\" style=\"fill:#a1cbe2;\"/>\r\n    <path clip-path=\"url(#p6e4c6a2792)\" d=\"M 707.551727 440.157113 \r\nL 742.793832 440.157113 \r\nL 742.793832 483.072903 \r\nL 707.551727 483.072903 \r\nL 707.551727 440.157113 \r\n\" style=\"fill:#c7dcef;\"/>\r\n    <path clip-path=\"url(#p6e4c6a2792)\" d=\"M 742.793832 440.157113 \r\nL 778.035938 440.157113 \r\nL 778.035938 483.072903 \r\nL 742.793832 483.072903 \r\nL 742.793832 440.157113 \r\n\" style=\"fill:#cee0f2;\"/>\r\n    <path clip-path=\"url(#p6e4c6a2792)\" d=\"M 108.435938 483.072903 \r\nL 143.678043 483.072903 \r\nL 143.678043 525.988692 \r\nL 108.435938 525.988692 \r\nL 108.435938 483.072903 \r\n\" style=\"fill:#c7dbef;\"/>\r\n    <path clip-path=\"url(#p6e4c6a2792)\" d=\"M 143.678043 483.072903 \r\nL 178.920148 483.072903 \r\nL 178.920148 525.988692 \r\nL 143.678043 525.988692 \r\nL 143.678043 483.072903 \r\n\" style=\"fill:#c3daee;\"/>\r\n    <path clip-path=\"url(#p6e4c6a2792)\" d=\"M 178.920148 483.072903 \r\nL 214.162253 483.072903 \r\nL 214.162253 525.988692 \r\nL 178.920148 525.988692 \r\nL 178.920148 483.072903 \r\n\" style=\"fill:#cee0f2;\"/>\r\n    <path clip-path=\"url(#p6e4c6a2792)\" d=\"M 214.162253 483.072903 \r\nL 249.404359 483.072903 \r\nL 249.404359 525.988692 \r\nL 214.162253 525.988692 \r\nL 214.162253 483.072903 \r\n\" style=\"fill:#f6faff;\"/>\r\n    <path clip-path=\"url(#p6e4c6a2792)\" d=\"M 249.404359 483.072903 \r\nL 284.646464 483.072903 \r\nL 284.646464 525.988692 \r\nL 249.404359 525.988692 \r\nL 249.404359 483.072903 \r\n\" style=\"fill:#c7dcef;\"/>\r\n    <path clip-path=\"url(#p6e4c6a2792)\" d=\"M 284.646464 483.072903 \r\nL 319.888569 483.072903 \r\nL 319.888569 525.988692 \r\nL 284.646464 525.988692 \r\nL 284.646464 483.072903 \r\n\" style=\"fill:#d2e3f3;\"/>\r\n    <path clip-path=\"url(#p6e4c6a2792)\" d=\"M 319.888569 483.072903 \r\nL 355.130674 483.072903 \r\nL 355.130674 525.988692 \r\nL 319.888569 525.988692 \r\nL 319.888569 483.072903 \r\n\" style=\"fill:#08306b;\"/>\r\n    <path clip-path=\"url(#p6e4c6a2792)\" d=\"M 355.130674 483.072903 \r\nL 390.37278 483.072903 \r\nL 390.37278 525.988692 \r\nL 355.130674 525.988692 \r\nL 355.130674 483.072903 \r\n\" style=\"fill:#dfecf7;\"/>\r\n    <path clip-path=\"url(#p6e4c6a2792)\" d=\"M 390.37278 483.072903 \r\nL 425.614885 483.072903 \r\nL 425.614885 525.988692 \r\nL 390.37278 525.988692 \r\nL 390.37278 483.072903 \r\n\" style=\"fill:#dfecf7;\"/>\r\n    <path clip-path=\"url(#p6e4c6a2792)\" d=\"M 425.614885 483.072903 \r\nL 460.85699 483.072903 \r\nL 460.85699 525.988692 \r\nL 425.614885 525.988692 \r\nL 425.614885 483.072903 \r\n\" style=\"fill:#b8d5ea;\"/>\r\n    <path clip-path=\"url(#p6e4c6a2792)\" d=\"M 460.85699 483.072903 \r\nL 496.099095 483.072903 \r\nL 496.099095 525.988692 \r\nL 460.85699 525.988692 \r\nL 460.85699 483.072903 \r\n\" style=\"fill:#08306b;\"/>\r\n    <path clip-path=\"url(#p6e4c6a2792)\" d=\"M 496.099095 483.072903 \r\nL 531.341201 483.072903 \r\nL 531.341201 525.988692 \r\nL 496.099095 525.988692 \r\nL 496.099095 483.072903 \r\n\" style=\"fill:#08306b;\"/>\r\n    <path clip-path=\"url(#p6e4c6a2792)\" d=\"M 531.341201 483.072903 \r\nL 566.583306 483.072903 \r\nL 566.583306 525.988692 \r\nL 531.341201 525.988692 \r\nL 531.341201 483.072903 \r\n\" style=\"fill:#08306b;\"/>\r\n    <path clip-path=\"url(#p6e4c6a2792)\" d=\"M 566.583306 483.072903 \r\nL 601.825411 483.072903 \r\nL 601.825411 525.988692 \r\nL 566.583306 525.988692 \r\nL 566.583306 483.072903 \r\n\" style=\"fill:#08306b;\"/>\r\n    <path clip-path=\"url(#p6e4c6a2792)\" d=\"M 601.825411 483.072903 \r\nL 637.067516 483.072903 \r\nL 637.067516 525.988692 \r\nL 601.825411 525.988692 \r\nL 601.825411 483.072903 \r\n\" style=\"fill:#08306b;\"/>\r\n    <path clip-path=\"url(#p6e4c6a2792)\" d=\"M 637.067516 483.072903 \r\nL 672.309622 483.072903 \r\nL 672.309622 525.988692 \r\nL 637.067516 525.988692 \r\nL 637.067516 483.072903 \r\n\" style=\"fill:#deebf7;\"/>\r\n    <path clip-path=\"url(#p6e4c6a2792)\" d=\"M 672.309622 483.072903 \r\nL 707.551727 483.072903 \r\nL 707.551727 525.988692 \r\nL 672.309622 525.988692 \r\nL 672.309622 483.072903 \r\n\" style=\"fill:#9fcae1;\"/>\r\n    <path clip-path=\"url(#p6e4c6a2792)\" d=\"M 707.551727 483.072903 \r\nL 742.793832 483.072903 \r\nL 742.793832 525.988692 \r\nL 707.551727 525.988692 \r\nL 707.551727 483.072903 \r\n\" style=\"fill:#c6dbef;\"/>\r\n    <path clip-path=\"url(#p6e4c6a2792)\" d=\"M 742.793832 483.072903 \r\nL 778.035938 483.072903 \r\nL 778.035938 525.988692 \r\nL 742.793832 525.988692 \r\nL 742.793832 483.072903 \r\n\" style=\"fill:#cde0f1;\"/>\r\n    <path clip-path=\"url(#p6e4c6a2792)\" d=\"M 108.435938 525.988692 \r\nL 143.678043 525.988692 \r\nL 143.678043 568.904482 \r\nL 108.435938 568.904482 \r\nL 108.435938 525.988692 \r\n\" style=\"fill:#c7dbef;\"/>\r\n    <path clip-path=\"url(#p6e4c6a2792)\" d=\"M 143.678043 525.988692 \r\nL 178.920148 525.988692 \r\nL 178.920148 568.904482 \r\nL 143.678043 568.904482 \r\nL 143.678043 525.988692 \r\n\" style=\"fill:#c4daee;\"/>\r\n    <path clip-path=\"url(#p6e4c6a2792)\" d=\"M 178.920148 525.988692 \r\nL 214.162253 525.988692 \r\nL 214.162253 568.904482 \r\nL 178.920148 568.904482 \r\nL 178.920148 525.988692 \r\n\" style=\"fill:#cee0f2;\"/>\r\n    <path clip-path=\"url(#p6e4c6a2792)\" d=\"M 214.162253 525.988692 \r\nL 249.404359 525.988692 \r\nL 249.404359 568.904482 \r\nL 214.162253 568.904482 \r\nL 214.162253 525.988692 \r\n\" style=\"fill:#f5fafe;\"/>\r\n    <path clip-path=\"url(#p6e4c6a2792)\" d=\"M 249.404359 525.988692 \r\nL 284.646464 525.988692 \r\nL 284.646464 568.904482 \r\nL 249.404359 568.904482 \r\nL 249.404359 525.988692 \r\n\" style=\"fill:#c8dcf0;\"/>\r\n    <path clip-path=\"url(#p6e4c6a2792)\" d=\"M 284.646464 525.988692 \r\nL 319.888569 525.988692 \r\nL 319.888569 568.904482 \r\nL 284.646464 568.904482 \r\nL 284.646464 525.988692 \r\n\" style=\"fill:#d1e2f3;\"/>\r\n    <path clip-path=\"url(#p6e4c6a2792)\" d=\"M 319.888569 525.988692 \r\nL 355.130674 525.988692 \r\nL 355.130674 568.904482 \r\nL 319.888569 568.904482 \r\nL 319.888569 525.988692 \r\n\" style=\"fill:#08306b;\"/>\r\n    <path clip-path=\"url(#p6e4c6a2792)\" d=\"M 355.130674 525.988692 \r\nL 390.37278 525.988692 \r\nL 390.37278 568.904482 \r\nL 355.130674 568.904482 \r\nL 355.130674 525.988692 \r\n\" style=\"fill:#dfecf7;\"/>\r\n    <path clip-path=\"url(#p6e4c6a2792)\" d=\"M 390.37278 525.988692 \r\nL 425.614885 525.988692 \r\nL 425.614885 568.904482 \r\nL 390.37278 568.904482 \r\nL 390.37278 525.988692 \r\n\" style=\"fill:#dfecf7;\"/>\r\n    <path clip-path=\"url(#p6e4c6a2792)\" d=\"M 425.614885 525.988692 \r\nL 460.85699 525.988692 \r\nL 460.85699 568.904482 \r\nL 425.614885 568.904482 \r\nL 425.614885 525.988692 \r\n\" style=\"fill:#b7d4ea;\"/>\r\n    <path clip-path=\"url(#p6e4c6a2792)\" d=\"M 460.85699 525.988692 \r\nL 496.099095 525.988692 \r\nL 496.099095 568.904482 \r\nL 460.85699 568.904482 \r\nL 460.85699 525.988692 \r\n\" style=\"fill:#08306b;\"/>\r\n    <path clip-path=\"url(#p6e4c6a2792)\" d=\"M 496.099095 525.988692 \r\nL 531.341201 525.988692 \r\nL 531.341201 568.904482 \r\nL 496.099095 568.904482 \r\nL 496.099095 525.988692 \r\n\" style=\"fill:#08306b;\"/>\r\n    <path clip-path=\"url(#p6e4c6a2792)\" d=\"M 531.341201 525.988692 \r\nL 566.583306 525.988692 \r\nL 566.583306 568.904482 \r\nL 531.341201 568.904482 \r\nL 531.341201 525.988692 \r\n\" style=\"fill:#08306b;\"/>\r\n    <path clip-path=\"url(#p6e4c6a2792)\" d=\"M 566.583306 525.988692 \r\nL 601.825411 525.988692 \r\nL 601.825411 568.904482 \r\nL 566.583306 568.904482 \r\nL 566.583306 525.988692 \r\n\" style=\"fill:#08306b;\"/>\r\n    <path clip-path=\"url(#p6e4c6a2792)\" d=\"M 601.825411 525.988692 \r\nL 637.067516 525.988692 \r\nL 637.067516 568.904482 \r\nL 601.825411 568.904482 \r\nL 601.825411 525.988692 \r\n\" style=\"fill:#08306b;\"/>\r\n    <path clip-path=\"url(#p6e4c6a2792)\" d=\"M 637.067516 525.988692 \r\nL 672.309622 525.988692 \r\nL 672.309622 568.904482 \r\nL 637.067516 568.904482 \r\nL 637.067516 525.988692 \r\n\" style=\"fill:#deebf7;\"/>\r\n    <path clip-path=\"url(#p6e4c6a2792)\" d=\"M 672.309622 525.988692 \r\nL 707.551727 525.988692 \r\nL 707.551727 568.904482 \r\nL 672.309622 568.904482 \r\nL 672.309622 525.988692 \r\n\" style=\"fill:#9cc9e1;\"/>\r\n    <path clip-path=\"url(#p6e4c6a2792)\" d=\"M 707.551727 525.988692 \r\nL 742.793832 525.988692 \r\nL 742.793832 568.904482 \r\nL 707.551727 568.904482 \r\nL 707.551727 525.988692 \r\n\" style=\"fill:#c4daee;\"/>\r\n    <path clip-path=\"url(#p6e4c6a2792)\" d=\"M 742.793832 525.988692 \r\nL 778.035938 525.988692 \r\nL 778.035938 568.904482 \r\nL 742.793832 568.904482 \r\nL 742.793832 525.988692 \r\n\" style=\"fill:#cde0f1;\"/>\r\n    <path clip-path=\"url(#p6e4c6a2792)\" d=\"M 108.435938 568.904482 \r\nL 143.678043 568.904482 \r\nL 143.678043 611.820271 \r\nL 108.435938 611.820271 \r\nL 108.435938 568.904482 \r\n\" style=\"fill:#c7dbef;\"/>\r\n    <path clip-path=\"url(#p6e4c6a2792)\" d=\"M 143.678043 568.904482 \r\nL 178.920148 568.904482 \r\nL 178.920148 611.820271 \r\nL 143.678043 611.820271 \r\nL 143.678043 568.904482 \r\n\" style=\"fill:#c3daee;\"/>\r\n    <path clip-path=\"url(#p6e4c6a2792)\" d=\"M 178.920148 568.904482 \r\nL 214.162253 568.904482 \r\nL 214.162253 611.820271 \r\nL 178.920148 611.820271 \r\nL 178.920148 568.904482 \r\n\" style=\"fill:#cee0f2;\"/>\r\n    <path clip-path=\"url(#p6e4c6a2792)\" d=\"M 214.162253 568.904482 \r\nL 249.404359 568.904482 \r\nL 249.404359 611.820271 \r\nL 214.162253 611.820271 \r\nL 214.162253 568.904482 \r\n\" style=\"fill:#f7fbff;\"/>\r\n    <path clip-path=\"url(#p6e4c6a2792)\" d=\"M 249.404359 568.904482 \r\nL 284.646464 568.904482 \r\nL 284.646464 611.820271 \r\nL 249.404359 611.820271 \r\nL 249.404359 568.904482 \r\n\" style=\"fill:#c7dcef;\"/>\r\n    <path clip-path=\"url(#p6e4c6a2792)\" d=\"M 284.646464 568.904482 \r\nL 319.888569 568.904482 \r\nL 319.888569 611.820271 \r\nL 284.646464 611.820271 \r\nL 284.646464 568.904482 \r\n\" style=\"fill:#d2e3f3;\"/>\r\n    <path clip-path=\"url(#p6e4c6a2792)\" d=\"M 319.888569 568.904482 \r\nL 355.130674 568.904482 \r\nL 355.130674 611.820271 \r\nL 319.888569 611.820271 \r\nL 319.888569 568.904482 \r\n\" style=\"fill:#08306b;\"/>\r\n    <path clip-path=\"url(#p6e4c6a2792)\" d=\"M 355.130674 568.904482 \r\nL 390.37278 568.904482 \r\nL 390.37278 611.820271 \r\nL 355.130674 611.820271 \r\nL 355.130674 568.904482 \r\n\" style=\"fill:#dfebf7;\"/>\r\n    <path clip-path=\"url(#p6e4c6a2792)\" d=\"M 390.37278 568.904482 \r\nL 425.614885 568.904482 \r\nL 425.614885 611.820271 \r\nL 390.37278 611.820271 \r\nL 390.37278 568.904482 \r\n\" style=\"fill:#dfebf7;\"/>\r\n    <path clip-path=\"url(#p6e4c6a2792)\" d=\"M 425.614885 568.904482 \r\nL 460.85699 568.904482 \r\nL 460.85699 611.820271 \r\nL 425.614885 611.820271 \r\nL 425.614885 568.904482 \r\n\" style=\"fill:#b8d5ea;\"/>\r\n    <path clip-path=\"url(#p6e4c6a2792)\" d=\"M 460.85699 568.904482 \r\nL 496.099095 568.904482 \r\nL 496.099095 611.820271 \r\nL 460.85699 611.820271 \r\nL 460.85699 568.904482 \r\n\" style=\"fill:#08306b;\"/>\r\n    <path clip-path=\"url(#p6e4c6a2792)\" d=\"M 496.099095 568.904482 \r\nL 531.341201 568.904482 \r\nL 531.341201 611.820271 \r\nL 496.099095 611.820271 \r\nL 496.099095 568.904482 \r\n\" style=\"fill:#08306b;\"/>\r\n    <path clip-path=\"url(#p6e4c6a2792)\" d=\"M 531.341201 568.904482 \r\nL 566.583306 568.904482 \r\nL 566.583306 611.820271 \r\nL 531.341201 611.820271 \r\nL 531.341201 568.904482 \r\n\" style=\"fill:#08306b;\"/>\r\n    <path clip-path=\"url(#p6e4c6a2792)\" d=\"M 566.583306 568.904482 \r\nL 601.825411 568.904482 \r\nL 601.825411 611.820271 \r\nL 566.583306 611.820271 \r\nL 566.583306 568.904482 \r\n\" style=\"fill:#08306b;\"/>\r\n    <path clip-path=\"url(#p6e4c6a2792)\" d=\"M 601.825411 568.904482 \r\nL 637.067516 568.904482 \r\nL 637.067516 611.820271 \r\nL 601.825411 611.820271 \r\nL 601.825411 568.904482 \r\n\" style=\"fill:#08306b;\"/>\r\n    <path clip-path=\"url(#p6e4c6a2792)\" d=\"M 637.067516 568.904482 \r\nL 672.309622 568.904482 \r\nL 672.309622 611.820271 \r\nL 637.067516 611.820271 \r\nL 637.067516 568.904482 \r\n\" style=\"fill:#deebf7;\"/>\r\n    <path clip-path=\"url(#p6e4c6a2792)\" d=\"M 672.309622 568.904482 \r\nL 707.551727 568.904482 \r\nL 707.551727 611.820271 \r\nL 672.309622 611.820271 \r\nL 672.309622 568.904482 \r\n\" style=\"fill:#a3cce3;\"/>\r\n    <path clip-path=\"url(#p6e4c6a2792)\" d=\"M 707.551727 568.904482 \r\nL 742.793832 568.904482 \r\nL 742.793832 611.820271 \r\nL 707.551727 611.820271 \r\nL 707.551727 568.904482 \r\n\" style=\"fill:#c7dcef;\"/>\r\n    <path clip-path=\"url(#p6e4c6a2792)\" d=\"M 742.793832 568.904482 \r\nL 778.035938 568.904482 \r\nL 778.035938 611.820271 \r\nL 742.793832 611.820271 \r\nL 742.793832 568.904482 \r\n\" style=\"fill:#cee0f2;\"/>\r\n    <path clip-path=\"url(#p6e4c6a2792)\" d=\"M 108.435938 611.820271 \r\nL 143.678043 611.820271 \r\nL 143.678043 654.736061 \r\nL 108.435938 654.736061 \r\nL 108.435938 611.820271 \r\n\" style=\"fill:#c7dbef;\"/>\r\n    <path clip-path=\"url(#p6e4c6a2792)\" d=\"M 143.678043 611.820271 \r\nL 178.920148 611.820271 \r\nL 178.920148 654.736061 \r\nL 143.678043 654.736061 \r\nL 143.678043 611.820271 \r\n\" style=\"fill:#c4daee;\"/>\r\n    <path clip-path=\"url(#p6e4c6a2792)\" d=\"M 178.920148 611.820271 \r\nL 214.162253 611.820271 \r\nL 214.162253 654.736061 \r\nL 178.920148 654.736061 \r\nL 178.920148 611.820271 \r\n\" style=\"fill:#cee0f2;\"/>\r\n    <path clip-path=\"url(#p6e4c6a2792)\" d=\"M 214.162253 611.820271 \r\nL 249.404359 611.820271 \r\nL 249.404359 654.736061 \r\nL 214.162253 654.736061 \r\nL 214.162253 611.820271 \r\n\" style=\"fill:#f6faff;\"/>\r\n    <path clip-path=\"url(#p6e4c6a2792)\" d=\"M 249.404359 611.820271 \r\nL 284.646464 611.820271 \r\nL 284.646464 654.736061 \r\nL 249.404359 654.736061 \r\nL 249.404359 611.820271 \r\n\" style=\"fill:#c8dcf0;\"/>\r\n    <path clip-path=\"url(#p6e4c6a2792)\" d=\"M 284.646464 611.820271 \r\nL 319.888569 611.820271 \r\nL 319.888569 654.736061 \r\nL 284.646464 654.736061 \r\nL 284.646464 611.820271 \r\n\" style=\"fill:#d2e3f3;\"/>\r\n    <path clip-path=\"url(#p6e4c6a2792)\" d=\"M 319.888569 611.820271 \r\nL 355.130674 611.820271 \r\nL 355.130674 654.736061 \r\nL 319.888569 654.736061 \r\nL 319.888569 611.820271 \r\n\" style=\"fill:#08306b;\"/>\r\n    <path clip-path=\"url(#p6e4c6a2792)\" d=\"M 355.130674 611.820271 \r\nL 390.37278 611.820271 \r\nL 390.37278 654.736061 \r\nL 355.130674 654.736061 \r\nL 355.130674 611.820271 \r\n\" style=\"fill:#dfecf7;\"/>\r\n    <path clip-path=\"url(#p6e4c6a2792)\" d=\"M 390.37278 611.820271 \r\nL 425.614885 611.820271 \r\nL 425.614885 654.736061 \r\nL 390.37278 654.736061 \r\nL 390.37278 611.820271 \r\n\" style=\"fill:#dfecf7;\"/>\r\n    <path clip-path=\"url(#p6e4c6a2792)\" d=\"M 425.614885 611.820271 \r\nL 460.85699 611.820271 \r\nL 460.85699 654.736061 \r\nL 425.614885 654.736061 \r\nL 425.614885 611.820271 \r\n\" style=\"fill:#b7d4ea;\"/>\r\n    <path clip-path=\"url(#p6e4c6a2792)\" d=\"M 460.85699 611.820271 \r\nL 496.099095 611.820271 \r\nL 496.099095 654.736061 \r\nL 460.85699 654.736061 \r\nL 460.85699 611.820271 \r\n\" style=\"fill:#08306b;\"/>\r\n    <path clip-path=\"url(#p6e4c6a2792)\" d=\"M 496.099095 611.820271 \r\nL 531.341201 611.820271 \r\nL 531.341201 654.736061 \r\nL 496.099095 654.736061 \r\nL 496.099095 611.820271 \r\n\" style=\"fill:#08306b;\"/>\r\n    <path clip-path=\"url(#p6e4c6a2792)\" d=\"M 531.341201 611.820271 \r\nL 566.583306 611.820271 \r\nL 566.583306 654.736061 \r\nL 531.341201 654.736061 \r\nL 531.341201 611.820271 \r\n\" style=\"fill:#08306b;\"/>\r\n    <path clip-path=\"url(#p6e4c6a2792)\" d=\"M 566.583306 611.820271 \r\nL 601.825411 611.820271 \r\nL 601.825411 654.736061 \r\nL 566.583306 654.736061 \r\nL 566.583306 611.820271 \r\n\" style=\"fill:#08306b;\"/>\r\n    <path clip-path=\"url(#p6e4c6a2792)\" d=\"M 601.825411 611.820271 \r\nL 637.067516 611.820271 \r\nL 637.067516 654.736061 \r\nL 601.825411 654.736061 \r\nL 601.825411 611.820271 \r\n\" style=\"fill:#08306b;\"/>\r\n    <path clip-path=\"url(#p6e4c6a2792)\" d=\"M 637.067516 611.820271 \r\nL 672.309622 611.820271 \r\nL 672.309622 654.736061 \r\nL 637.067516 654.736061 \r\nL 637.067516 611.820271 \r\n\" style=\"fill:#deebf7;\"/>\r\n    <path clip-path=\"url(#p6e4c6a2792)\" d=\"M 672.309622 611.820271 \r\nL 707.551727 611.820271 \r\nL 707.551727 654.736061 \r\nL 672.309622 654.736061 \r\nL 672.309622 611.820271 \r\n\" style=\"fill:#9fcae1;\"/>\r\n    <path clip-path=\"url(#p6e4c6a2792)\" d=\"M 707.551727 611.820271 \r\nL 742.793832 611.820271 \r\nL 742.793832 654.736061 \r\nL 707.551727 654.736061 \r\nL 707.551727 611.820271 \r\n\" style=\"fill:#c6dbef;\"/>\r\n    <path clip-path=\"url(#p6e4c6a2792)\" d=\"M 742.793832 611.820271 \r\nL 778.035938 611.820271 \r\nL 778.035938 654.736061 \r\nL 742.793832 654.736061 \r\nL 742.793832 611.820271 \r\n\" style=\"fill:#cee0f2;\"/>\r\n    <path clip-path=\"url(#p6e4c6a2792)\" d=\"M 108.435938 654.736061 \r\nL 143.678043 654.736061 \r\nL 143.678043 697.65185 \r\nL 108.435938 697.65185 \r\nL 108.435938 654.736061 \r\n\" style=\"fill:#d0e1f2;\"/>\r\n    <path clip-path=\"url(#p6e4c6a2792)\" d=\"M 143.678043 654.736061 \r\nL 178.920148 654.736061 \r\nL 178.920148 697.65185 \r\nL 143.678043 697.65185 \r\nL 143.678043 654.736061 \r\n\" style=\"fill:#d7e6f5;\"/>\r\n    <path clip-path=\"url(#p6e4c6a2792)\" d=\"M 178.920148 654.736061 \r\nL 214.162253 654.736061 \r\nL 214.162253 697.65185 \r\nL 178.920148 697.65185 \r\nL 178.920148 654.736061 \r\n\" style=\"fill:#cbdef1;\"/>\r\n    <path clip-path=\"url(#p6e4c6a2792)\" d=\"M 214.162253 654.736061 \r\nL 249.404359 654.736061 \r\nL 249.404359 697.65185 \r\nL 214.162253 697.65185 \r\nL 214.162253 654.736061 \r\n\" style=\"fill:#cde0f1;\"/>\r\n    <path clip-path=\"url(#p6e4c6a2792)\" d=\"M 249.404359 654.736061 \r\nL 284.646464 654.736061 \r\nL 284.646464 697.65185 \r\nL 249.404359 697.65185 \r\nL 249.404359 654.736061 \r\n\" style=\"fill:#d0e2f2;\"/>\r\n    <path clip-path=\"url(#p6e4c6a2792)\" d=\"M 284.646464 654.736061 \r\nL 319.888569 654.736061 \r\nL 319.888569 697.65185 \r\nL 284.646464 697.65185 \r\nL 284.646464 654.736061 \r\n\" style=\"fill:#ccdff1;\"/>\r\n    <path clip-path=\"url(#p6e4c6a2792)\" d=\"M 319.888569 654.736061 \r\nL 355.130674 654.736061 \r\nL 355.130674 697.65185 \r\nL 319.888569 697.65185 \r\nL 319.888569 654.736061 \r\n\" style=\"fill:#deebf7;\"/>\r\n    <path clip-path=\"url(#p6e4c6a2792)\" d=\"M 355.130674 654.736061 \r\nL 390.37278 654.736061 \r\nL 390.37278 697.65185 \r\nL 355.130674 697.65185 \r\nL 355.130674 654.736061 \r\n\" style=\"fill:#b5d4e9;\"/>\r\n    <path clip-path=\"url(#p6e4c6a2792)\" d=\"M 390.37278 654.736061 \r\nL 425.614885 654.736061 \r\nL 425.614885 697.65185 \r\nL 390.37278 697.65185 \r\nL 390.37278 654.736061 \r\n\" style=\"fill:#b4d3e9;\"/>\r\n    <path clip-path=\"url(#p6e4c6a2792)\" d=\"M 425.614885 654.736061 \r\nL 460.85699 654.736061 \r\nL 460.85699 697.65185 \r\nL 425.614885 697.65185 \r\nL 425.614885 654.736061 \r\n\" style=\"fill:#d0e1f2;\"/>\r\n    <path clip-path=\"url(#p6e4c6a2792)\" d=\"M 460.85699 654.736061 \r\nL 496.099095 654.736061 \r\nL 496.099095 697.65185 \r\nL 460.85699 697.65185 \r\nL 460.85699 654.736061 \r\n\" style=\"fill:#deebf7;\"/>\r\n    <path clip-path=\"url(#p6e4c6a2792)\" d=\"M 496.099095 654.736061 \r\nL 531.341201 654.736061 \r\nL 531.341201 697.65185 \r\nL 496.099095 697.65185 \r\nL 496.099095 654.736061 \r\n\" style=\"fill:#deebf7;\"/>\r\n    <path clip-path=\"url(#p6e4c6a2792)\" d=\"M 531.341201 654.736061 \r\nL 566.583306 654.736061 \r\nL 566.583306 697.65185 \r\nL 531.341201 697.65185 \r\nL 531.341201 654.736061 \r\n\" style=\"fill:#deebf7;\"/>\r\n    <path clip-path=\"url(#p6e4c6a2792)\" d=\"M 566.583306 654.736061 \r\nL 601.825411 654.736061 \r\nL 601.825411 697.65185 \r\nL 566.583306 697.65185 \r\nL 566.583306 654.736061 \r\n\" style=\"fill:#deebf7;\"/>\r\n    <path clip-path=\"url(#p6e4c6a2792)\" d=\"M 601.825411 654.736061 \r\nL 637.067516 654.736061 \r\nL 637.067516 697.65185 \r\nL 601.825411 697.65185 \r\nL 601.825411 654.736061 \r\n\" style=\"fill:#deebf7;\"/>\r\n    <path clip-path=\"url(#p6e4c6a2792)\" d=\"M 637.067516 654.736061 \r\nL 672.309622 654.736061 \r\nL 672.309622 697.65185 \r\nL 637.067516 697.65185 \r\nL 637.067516 654.736061 \r\n\" style=\"fill:#08306b;\"/>\r\n    <path clip-path=\"url(#p6e4c6a2792)\" d=\"M 672.309622 654.736061 \r\nL 707.551727 654.736061 \r\nL 707.551727 697.65185 \r\nL 672.309622 697.65185 \r\nL 672.309622 654.736061 \r\n\" style=\"fill:#97c6df;\"/>\r\n    <path clip-path=\"url(#p6e4c6a2792)\" d=\"M 707.551727 654.736061 \r\nL 742.793832 654.736061 \r\nL 742.793832 697.65185 \r\nL 707.551727 697.65185 \r\nL 707.551727 654.736061 \r\n\" style=\"fill:#ddeaf7;\"/>\r\n    <path clip-path=\"url(#p6e4c6a2792)\" d=\"M 742.793832 654.736061 \r\nL 778.035938 654.736061 \r\nL 778.035938 697.65185 \r\nL 742.793832 697.65185 \r\nL 742.793832 654.736061 \r\n\" style=\"fill:#cee0f2;\"/>\r\n    <path clip-path=\"url(#p6e4c6a2792)\" d=\"M 108.435938 697.65185 \r\nL 143.678043 697.65185 \r\nL 143.678043 740.56764 \r\nL 108.435938 740.56764 \r\nL 108.435938 697.65185 \r\n\" style=\"fill:#c9ddf0;\"/>\r\n    <path clip-path=\"url(#p6e4c6a2792)\" d=\"M 143.678043 697.65185 \r\nL 178.920148 697.65185 \r\nL 178.920148 740.56764 \r\nL 143.678043 740.56764 \r\nL 143.678043 697.65185 \r\n\" style=\"fill:#cde0f1;\"/>\r\n    <path clip-path=\"url(#p6e4c6a2792)\" d=\"M 178.920148 697.65185 \r\nL 214.162253 697.65185 \r\nL 214.162253 740.56764 \r\nL 178.920148 740.56764 \r\nL 178.920148 697.65185 \r\n\" style=\"fill:#cde0f1;\"/>\r\n    <path clip-path=\"url(#p6e4c6a2792)\" d=\"M 214.162253 697.65185 \r\nL 249.404359 697.65185 \r\nL 249.404359 740.56764 \r\nL 214.162253 740.56764 \r\nL 214.162253 697.65185 \r\n\" style=\"fill:#edf4fc;\"/>\r\n    <path clip-path=\"url(#p6e4c6a2792)\" d=\"M 249.404359 697.65185 \r\nL 284.646464 697.65185 \r\nL 284.646464 740.56764 \r\nL 249.404359 740.56764 \r\nL 249.404359 697.65185 \r\n\" style=\"fill:#c6dbef;\"/>\r\n    <path clip-path=\"url(#p6e4c6a2792)\" d=\"M 284.646464 697.65185 \r\nL 319.888569 697.65185 \r\nL 319.888569 740.56764 \r\nL 284.646464 740.56764 \r\nL 284.646464 697.65185 \r\n\" style=\"fill:#cfe1f2;\"/>\r\n    <path clip-path=\"url(#p6e4c6a2792)\" d=\"M 319.888569 697.65185 \r\nL 355.130674 697.65185 \r\nL 355.130674 740.56764 \r\nL 319.888569 740.56764 \r\nL 319.888569 697.65185 \r\n\" style=\"fill:#9dcae1;\"/>\r\n    <path clip-path=\"url(#p6e4c6a2792)\" d=\"M 355.130674 697.65185 \r\nL 390.37278 697.65185 \r\nL 390.37278 740.56764 \r\nL 355.130674 740.56764 \r\nL 355.130674 697.65185 \r\n\" style=\"fill:#dbe9f6;\"/>\r\n    <path clip-path=\"url(#p6e4c6a2792)\" d=\"M 390.37278 697.65185 \r\nL 425.614885 697.65185 \r\nL 425.614885 740.56764 \r\nL 390.37278 740.56764 \r\nL 390.37278 697.65185 \r\n\" style=\"fill:#dae8f6;\"/>\r\n    <path clip-path=\"url(#p6e4c6a2792)\" d=\"M 425.614885 697.65185 \r\nL 460.85699 697.65185 \r\nL 460.85699 740.56764 \r\nL 425.614885 740.56764 \r\nL 425.614885 697.65185 \r\n\" style=\"fill:#c3daee;\"/>\r\n    <path clip-path=\"url(#p6e4c6a2792)\" d=\"M 460.85699 697.65185 \r\nL 496.099095 697.65185 \r\nL 496.099095 740.56764 \r\nL 460.85699 740.56764 \r\nL 460.85699 697.65185 \r\n\" style=\"fill:#a1cbe2;\"/>\r\n    <path clip-path=\"url(#p6e4c6a2792)\" d=\"M 496.099095 697.65185 \r\nL 531.341201 697.65185 \r\nL 531.341201 740.56764 \r\nL 496.099095 740.56764 \r\nL 496.099095 697.65185 \r\n\" style=\"fill:#9fcae1;\"/>\r\n    <path clip-path=\"url(#p6e4c6a2792)\" d=\"M 531.341201 697.65185 \r\nL 566.583306 697.65185 \r\nL 566.583306 740.56764 \r\nL 531.341201 740.56764 \r\nL 531.341201 697.65185 \r\n\" style=\"fill:#9cc9e1;\"/>\r\n    <path clip-path=\"url(#p6e4c6a2792)\" d=\"M 566.583306 697.65185 \r\nL 601.825411 697.65185 \r\nL 601.825411 740.56764 \r\nL 566.583306 740.56764 \r\nL 566.583306 697.65185 \r\n\" style=\"fill:#a3cce3;\"/>\r\n    <path clip-path=\"url(#p6e4c6a2792)\" d=\"M 601.825411 697.65185 \r\nL 637.067516 697.65185 \r\nL 637.067516 740.56764 \r\nL 601.825411 740.56764 \r\nL 601.825411 697.65185 \r\n\" style=\"fill:#9fcae1;\"/>\r\n    <path clip-path=\"url(#p6e4c6a2792)\" d=\"M 637.067516 697.65185 \r\nL 672.309622 697.65185 \r\nL 672.309622 740.56764 \r\nL 637.067516 740.56764 \r\nL 637.067516 697.65185 \r\n\" style=\"fill:#97c6df;\"/>\r\n    <path clip-path=\"url(#p6e4c6a2792)\" d=\"M 672.309622 697.65185 \r\nL 707.551727 697.65185 \r\nL 707.551727 740.56764 \r\nL 672.309622 740.56764 \r\nL 672.309622 697.65185 \r\n\" style=\"fill:#08306b;\"/>\r\n    <path clip-path=\"url(#p6e4c6a2792)\" d=\"M 707.551727 697.65185 \r\nL 742.793832 697.65185 \r\nL 742.793832 740.56764 \r\nL 707.551727 740.56764 \r\nL 707.551727 697.65185 \r\n\" style=\"fill:#b7d4ea;\"/>\r\n    <path clip-path=\"url(#p6e4c6a2792)\" d=\"M 742.793832 697.65185 \r\nL 778.035938 697.65185 \r\nL 778.035938 740.56764 \r\nL 742.793832 740.56764 \r\nL 742.793832 697.65185 \r\n\" style=\"fill:#c6dbef;\"/>\r\n    <path clip-path=\"url(#p6e4c6a2792)\" d=\"M 108.435938 740.56764 \r\nL 143.678043 740.56764 \r\nL 143.678043 783.483429 \r\nL 108.435938 783.483429 \r\nL 108.435938 740.56764 \r\n\" style=\"fill:#cee0f2;\"/>\r\n    <path clip-path=\"url(#p6e4c6a2792)\" d=\"M 143.678043 740.56764 \r\nL 178.920148 740.56764 \r\nL 178.920148 783.483429 \r\nL 143.678043 783.483429 \r\nL 143.678043 740.56764 \r\n\" style=\"fill:#c8dcf0;\"/>\r\n    <path clip-path=\"url(#p6e4c6a2792)\" d=\"M 178.920148 740.56764 \r\nL 214.162253 740.56764 \r\nL 214.162253 783.483429 \r\nL 178.920148 783.483429 \r\nL 178.920148 740.56764 \r\n\" style=\"fill:#cbdef1;\"/>\r\n    <path clip-path=\"url(#p6e4c6a2792)\" d=\"M 214.162253 740.56764 \r\nL 249.404359 740.56764 \r\nL 249.404359 783.483429 \r\nL 214.162253 783.483429 \r\nL 214.162253 740.56764 \r\n\" style=\"fill:#caddf0;\"/>\r\n    <path clip-path=\"url(#p6e4c6a2792)\" d=\"M 249.404359 740.56764 \r\nL 284.646464 740.56764 \r\nL 284.646464 783.483429 \r\nL 249.404359 783.483429 \r\nL 249.404359 740.56764 \r\n\" style=\"fill:#d4e4f4;\"/>\r\n    <path clip-path=\"url(#p6e4c6a2792)\" d=\"M 284.646464 740.56764 \r\nL 319.888569 740.56764 \r\nL 319.888569 783.483429 \r\nL 284.646464 783.483429 \r\nL 284.646464 740.56764 \r\n\" style=\"fill:#cddff1;\"/>\r\n    <path clip-path=\"url(#p6e4c6a2792)\" d=\"M 319.888569 740.56764 \r\nL 355.130674 740.56764 \r\nL 355.130674 783.483429 \r\nL 319.888569 783.483429 \r\nL 319.888569 740.56764 \r\n\" style=\"fill:#c6dbef;\"/>\r\n    <path clip-path=\"url(#p6e4c6a2792)\" d=\"M 355.130674 740.56764 \r\nL 390.37278 740.56764 \r\nL 390.37278 783.483429 \r\nL 355.130674 783.483429 \r\nL 355.130674 740.56764 \r\n\" style=\"fill:#d1e2f3;\"/>\r\n    <path clip-path=\"url(#p6e4c6a2792)\" d=\"M 390.37278 740.56764 \r\nL 425.614885 740.56764 \r\nL 425.614885 783.483429 \r\nL 390.37278 783.483429 \r\nL 390.37278 740.56764 \r\n\" style=\"fill:#d1e2f3;\"/>\r\n    <path clip-path=\"url(#p6e4c6a2792)\" d=\"M 425.614885 740.56764 \r\nL 460.85699 740.56764 \r\nL 460.85699 783.483429 \r\nL 425.614885 783.483429 \r\nL 425.614885 740.56764 \r\n\" style=\"fill:#c6dbef;\"/>\r\n    <path clip-path=\"url(#p6e4c6a2792)\" d=\"M 460.85699 740.56764 \r\nL 496.099095 740.56764 \r\nL 496.099095 783.483429 \r\nL 460.85699 783.483429 \r\nL 460.85699 740.56764 \r\n\" style=\"fill:#c7dcef;\"/>\r\n    <path clip-path=\"url(#p6e4c6a2792)\" d=\"M 496.099095 740.56764 \r\nL 531.341201 740.56764 \r\nL 531.341201 783.483429 \r\nL 496.099095 783.483429 \r\nL 496.099095 740.56764 \r\n\" style=\"fill:#c6dbef;\"/>\r\n    <path clip-path=\"url(#p6e4c6a2792)\" d=\"M 531.341201 740.56764 \r\nL 566.583306 740.56764 \r\nL 566.583306 783.483429 \r\nL 531.341201 783.483429 \r\nL 531.341201 740.56764 \r\n\" style=\"fill:#c4daee;\"/>\r\n    <path clip-path=\"url(#p6e4c6a2792)\" d=\"M 566.583306 740.56764 \r\nL 601.825411 740.56764 \r\nL 601.825411 783.483429 \r\nL 566.583306 783.483429 \r\nL 566.583306 740.56764 \r\n\" style=\"fill:#c7dcef;\"/>\r\n    <path clip-path=\"url(#p6e4c6a2792)\" d=\"M 601.825411 740.56764 \r\nL 637.067516 740.56764 \r\nL 637.067516 783.483429 \r\nL 601.825411 783.483429 \r\nL 601.825411 740.56764 \r\n\" style=\"fill:#c6dbef;\"/>\r\n    <path clip-path=\"url(#p6e4c6a2792)\" d=\"M 637.067516 740.56764 \r\nL 672.309622 740.56764 \r\nL 672.309622 783.483429 \r\nL 637.067516 783.483429 \r\nL 637.067516 740.56764 \r\n\" style=\"fill:#ddeaf7;\"/>\r\n    <path clip-path=\"url(#p6e4c6a2792)\" d=\"M 672.309622 740.56764 \r\nL 707.551727 740.56764 \r\nL 707.551727 783.483429 \r\nL 672.309622 783.483429 \r\nL 672.309622 740.56764 \r\n\" style=\"fill:#b7d4ea;\"/>\r\n    <path clip-path=\"url(#p6e4c6a2792)\" d=\"M 707.551727 740.56764 \r\nL 742.793832 740.56764 \r\nL 742.793832 783.483429 \r\nL 707.551727 783.483429 \r\nL 707.551727 740.56764 \r\n\" style=\"fill:#08306b;\"/>\r\n    <path clip-path=\"url(#p6e4c6a2792)\" d=\"M 742.793832 740.56764 \r\nL 778.035938 740.56764 \r\nL 778.035938 783.483429 \r\nL 742.793832 783.483429 \r\nL 742.793832 740.56764 \r\n\" style=\"fill:#e5eff9;\"/>\r\n    <path clip-path=\"url(#p6e4c6a2792)\" d=\"M 108.435938 783.483429 \r\nL 143.678043 783.483429 \r\nL 143.678043 826.399219 \r\nL 108.435938 826.399219 \r\nL 108.435938 783.483429 \r\n\" style=\"fill:#cfe1f2;\"/>\r\n    <path clip-path=\"url(#p6e4c6a2792)\" d=\"M 143.678043 783.483429 \r\nL 178.920148 783.483429 \r\nL 178.920148 826.399219 \r\nL 143.678043 826.399219 \r\nL 143.678043 783.483429 \r\n\" style=\"fill:#cee0f2;\"/>\r\n    <path clip-path=\"url(#p6e4c6a2792)\" d=\"M 178.920148 783.483429 \r\nL 214.162253 783.483429 \r\nL 214.162253 826.399219 \r\nL 178.920148 826.399219 \r\nL 178.920148 783.483429 \r\n\" style=\"fill:#ccdff1;\"/>\r\n    <path clip-path=\"url(#p6e4c6a2792)\" d=\"M 214.162253 783.483429 \r\nL 249.404359 783.483429 \r\nL 249.404359 826.399219 \r\nL 214.162253 826.399219 \r\nL 214.162253 783.483429 \r\n\" style=\"fill:#cfe1f2;\"/>\r\n    <path clip-path=\"url(#p6e4c6a2792)\" d=\"M 249.404359 783.483429 \r\nL 284.646464 783.483429 \r\nL 284.646464 826.399219 \r\nL 249.404359 826.399219 \r\nL 249.404359 783.483429 \r\n\" style=\"fill:#cee0f2;\"/>\r\n    <path clip-path=\"url(#p6e4c6a2792)\" d=\"M 284.646464 783.483429 \r\nL 319.888569 783.483429 \r\nL 319.888569 826.399219 \r\nL 284.646464 826.399219 \r\nL 284.646464 783.483429 \r\n\" style=\"fill:#cde0f1;\"/>\r\n    <path clip-path=\"url(#p6e4c6a2792)\" d=\"M 319.888569 783.483429 \r\nL 355.130674 783.483429 \r\nL 355.130674 826.399219 \r\nL 319.888569 826.399219 \r\nL 319.888569 783.483429 \r\n\" style=\"fill:#cde0f1;\"/>\r\n    <path clip-path=\"url(#p6e4c6a2792)\" d=\"M 355.130674 783.483429 \r\nL 390.37278 783.483429 \r\nL 390.37278 826.399219 \r\nL 355.130674 826.399219 \r\nL 355.130674 783.483429 \r\n\" style=\"fill:#cee0f2;\"/>\r\n    <path clip-path=\"url(#p6e4c6a2792)\" d=\"M 390.37278 783.483429 \r\nL 425.614885 783.483429 \r\nL 425.614885 826.399219 \r\nL 390.37278 826.399219 \r\nL 390.37278 783.483429 \r\n\" style=\"fill:#cee0f2;\"/>\r\n    <path clip-path=\"url(#p6e4c6a2792)\" d=\"M 425.614885 783.483429 \r\nL 460.85699 783.483429 \r\nL 460.85699 826.399219 \r\nL 425.614885 826.399219 \r\nL 425.614885 783.483429 \r\n\" style=\"fill:#cee0f2;\"/>\r\n    <path clip-path=\"url(#p6e4c6a2792)\" d=\"M 460.85699 783.483429 \r\nL 496.099095 783.483429 \r\nL 496.099095 826.399219 \r\nL 460.85699 826.399219 \r\nL 460.85699 783.483429 \r\n\" style=\"fill:#cee0f2;\"/>\r\n    <path clip-path=\"url(#p6e4c6a2792)\" d=\"M 496.099095 783.483429 \r\nL 531.341201 783.483429 \r\nL 531.341201 826.399219 \r\nL 496.099095 826.399219 \r\nL 496.099095 783.483429 \r\n\" style=\"fill:#cde0f1;\"/>\r\n    <path clip-path=\"url(#p6e4c6a2792)\" d=\"M 531.341201 783.483429 \r\nL 566.583306 783.483429 \r\nL 566.583306 826.399219 \r\nL 531.341201 826.399219 \r\nL 531.341201 783.483429 \r\n\" style=\"fill:#cde0f1;\"/>\r\n    <path clip-path=\"url(#p6e4c6a2792)\" d=\"M 566.583306 783.483429 \r\nL 601.825411 783.483429 \r\nL 601.825411 826.399219 \r\nL 566.583306 826.399219 \r\nL 566.583306 783.483429 \r\n\" style=\"fill:#cee0f2;\"/>\r\n    <path clip-path=\"url(#p6e4c6a2792)\" d=\"M 601.825411 783.483429 \r\nL 637.067516 783.483429 \r\nL 637.067516 826.399219 \r\nL 601.825411 826.399219 \r\nL 601.825411 783.483429 \r\n\" style=\"fill:#cee0f2;\"/>\r\n    <path clip-path=\"url(#p6e4c6a2792)\" d=\"M 637.067516 783.483429 \r\nL 672.309622 783.483429 \r\nL 672.309622 826.399219 \r\nL 637.067516 826.399219 \r\nL 637.067516 783.483429 \r\n\" style=\"fill:#cee0f2;\"/>\r\n    <path clip-path=\"url(#p6e4c6a2792)\" d=\"M 672.309622 783.483429 \r\nL 707.551727 783.483429 \r\nL 707.551727 826.399219 \r\nL 672.309622 826.399219 \r\nL 672.309622 783.483429 \r\n\" style=\"fill:#c6dbef;\"/>\r\n    <path clip-path=\"url(#p6e4c6a2792)\" d=\"M 707.551727 783.483429 \r\nL 742.793832 783.483429 \r\nL 742.793832 826.399219 \r\nL 707.551727 826.399219 \r\nL 707.551727 783.483429 \r\n\" style=\"fill:#e5eff9;\"/>\r\n    <path clip-path=\"url(#p6e4c6a2792)\" d=\"M 742.793832 783.483429 \r\nL 778.035938 783.483429 \r\nL 778.035938 826.399219 \r\nL 742.793832 826.399219 \r\nL 742.793832 783.483429 \r\n\" style=\"fill:#08306b;\"/>\r\n   </g>\r\n   <g id=\"matplotlib.axis_1\">\r\n    <g id=\"xtick_1\">\r\n     <g id=\"line2d_1\">\r\n      <defs>\r\n       <path d=\"M 0 0 \r\nL 0 3.5 \r\n\" id=\"m3c361b5aa2\" style=\"stroke:#000000;stroke-width:0.8;\"/>\r\n      </defs>\r\n      <g>\r\n       <use style=\"stroke:#000000;stroke-width:0.8;\" x=\"126.05699\" xlink:href=\"#m3c361b5aa2\" y=\"826.399219\"/>\r\n      </g>\r\n     </g>\r\n     <g id=\"text_1\">\r\n      <!-- gender -->\r\n      <g transform=\"translate(128.816365 868.850781)rotate(-90)scale(0.1 -0.1)\">\r\n       <defs>\r\n        <path d=\"M 45.40625 27.984375 \r\nQ 45.40625 37.75 41.375 43.109375 \r\nQ 37.359375 48.484375 30.078125 48.484375 \r\nQ 22.859375 48.484375 18.828125 43.109375 \r\nQ 14.796875 37.75 14.796875 27.984375 \r\nQ 14.796875 18.265625 18.828125 12.890625 \r\nQ 22.859375 7.515625 30.078125 7.515625 \r\nQ 37.359375 7.515625 41.375 12.890625 \r\nQ 45.40625 18.265625 45.40625 27.984375 \r\nz\r\nM 54.390625 6.78125 \r\nQ 54.390625 -7.171875 48.1875 -13.984375 \r\nQ 42 -20.796875 29.203125 -20.796875 \r\nQ 24.46875 -20.796875 20.265625 -20.09375 \r\nQ 16.0625 -19.390625 12.109375 -17.921875 \r\nL 12.109375 -9.1875 \r\nQ 16.0625 -11.328125 19.921875 -12.34375 \r\nQ 23.78125 -13.375 27.78125 -13.375 \r\nQ 36.625 -13.375 41.015625 -8.765625 \r\nQ 45.40625 -4.15625 45.40625 5.171875 \r\nL 45.40625 9.625 \r\nQ 42.625 4.78125 38.28125 2.390625 \r\nQ 33.9375 0 27.875 0 \r\nQ 17.828125 0 11.671875 7.65625 \r\nQ 5.515625 15.328125 5.515625 27.984375 \r\nQ 5.515625 40.671875 11.671875 48.328125 \r\nQ 17.828125 56 27.875 56 \r\nQ 33.9375 56 38.28125 53.609375 \r\nQ 42.625 51.21875 45.40625 46.390625 \r\nL 45.40625 54.6875 \r\nL 54.390625 54.6875 \r\nz\r\n\" id=\"DejaVuSans-103\"/>\r\n        <path d=\"M 56.203125 29.59375 \r\nL 56.203125 25.203125 \r\nL 14.890625 25.203125 \r\nQ 15.484375 15.921875 20.484375 11.0625 \r\nQ 25.484375 6.203125 34.421875 6.203125 \r\nQ 39.59375 6.203125 44.453125 7.46875 \r\nQ 49.3125 8.734375 54.109375 11.28125 \r\nL 54.109375 2.78125 \r\nQ 49.265625 0.734375 44.1875 -0.34375 \r\nQ 39.109375 -1.421875 33.890625 -1.421875 \r\nQ 20.796875 -1.421875 13.15625 6.1875 \r\nQ 5.515625 13.8125 5.515625 26.8125 \r\nQ 5.515625 40.234375 12.765625 48.109375 \r\nQ 20.015625 56 32.328125 56 \r\nQ 43.359375 56 49.78125 48.890625 \r\nQ 56.203125 41.796875 56.203125 29.59375 \r\nz\r\nM 47.21875 32.234375 \r\nQ 47.125 39.59375 43.09375 43.984375 \r\nQ 39.0625 48.390625 32.421875 48.390625 \r\nQ 24.90625 48.390625 20.390625 44.140625 \r\nQ 15.875 39.890625 15.1875 32.171875 \r\nz\r\n\" id=\"DejaVuSans-101\"/>\r\n        <path d=\"M 54.890625 33.015625 \r\nL 54.890625 0 \r\nL 45.90625 0 \r\nL 45.90625 32.71875 \r\nQ 45.90625 40.484375 42.875 44.328125 \r\nQ 39.84375 48.1875 33.796875 48.1875 \r\nQ 26.515625 48.1875 22.3125 43.546875 \r\nQ 18.109375 38.921875 18.109375 30.90625 \r\nL 18.109375 0 \r\nL 9.078125 0 \r\nL 9.078125 54.6875 \r\nL 18.109375 54.6875 \r\nL 18.109375 46.1875 \r\nQ 21.34375 51.125 25.703125 53.5625 \r\nQ 30.078125 56 35.796875 56 \r\nQ 45.21875 56 50.046875 50.171875 \r\nQ 54.890625 44.34375 54.890625 33.015625 \r\nz\r\n\" id=\"DejaVuSans-110\"/>\r\n        <path d=\"M 45.40625 46.390625 \r\nL 45.40625 75.984375 \r\nL 54.390625 75.984375 \r\nL 54.390625 0 \r\nL 45.40625 0 \r\nL 45.40625 8.203125 \r\nQ 42.578125 3.328125 38.25 0.953125 \r\nQ 33.9375 -1.421875 27.875 -1.421875 \r\nQ 17.96875 -1.421875 11.734375 6.484375 \r\nQ 5.515625 14.40625 5.515625 27.296875 \r\nQ 5.515625 40.1875 11.734375 48.09375 \r\nQ 17.96875 56 27.875 56 \r\nQ 33.9375 56 38.25 53.625 \r\nQ 42.578125 51.265625 45.40625 46.390625 \r\nz\r\nM 14.796875 27.296875 \r\nQ 14.796875 17.390625 18.875 11.75 \r\nQ 22.953125 6.109375 30.078125 6.109375 \r\nQ 37.203125 6.109375 41.296875 11.75 \r\nQ 45.40625 17.390625 45.40625 27.296875 \r\nQ 45.40625 37.203125 41.296875 42.84375 \r\nQ 37.203125 48.484375 30.078125 48.484375 \r\nQ 22.953125 48.484375 18.875 42.84375 \r\nQ 14.796875 37.203125 14.796875 27.296875 \r\nz\r\n\" id=\"DejaVuSans-100\"/>\r\n        <path d=\"M 41.109375 46.296875 \r\nQ 39.59375 47.171875 37.8125 47.578125 \r\nQ 36.03125 48 33.890625 48 \r\nQ 26.265625 48 22.1875 43.046875 \r\nQ 18.109375 38.09375 18.109375 28.8125 \r\nL 18.109375 0 \r\nL 9.078125 0 \r\nL 9.078125 54.6875 \r\nL 18.109375 54.6875 \r\nL 18.109375 46.1875 \r\nQ 20.953125 51.171875 25.484375 53.578125 \r\nQ 30.03125 56 36.53125 56 \r\nQ 37.453125 56 38.578125 55.875 \r\nQ 39.703125 55.765625 41.0625 55.515625 \r\nz\r\n\" id=\"DejaVuSans-114\"/>\r\n       </defs>\r\n       <use xlink:href=\"#DejaVuSans-103\"/>\r\n       <use x=\"63.476562\" xlink:href=\"#DejaVuSans-101\"/>\r\n       <use x=\"125\" xlink:href=\"#DejaVuSans-110\"/>\r\n       <use x=\"188.378906\" xlink:href=\"#DejaVuSans-100\"/>\r\n       <use x=\"251.855469\" xlink:href=\"#DejaVuSans-101\"/>\r\n       <use x=\"313.378906\" xlink:href=\"#DejaVuSans-114\"/>\r\n      </g>\r\n     </g>\r\n    </g>\r\n    <g id=\"xtick_2\">\r\n     <g id=\"line2d_2\">\r\n      <g>\r\n       <use style=\"stroke:#000000;stroke-width:0.8;\" x=\"161.299095\" xlink:href=\"#m3c361b5aa2\" y=\"826.399219\"/>\r\n      </g>\r\n     </g>\r\n     <g id=\"text_2\">\r\n      <!-- age -->\r\n      <g transform=\"translate(164.05847 852.028906)rotate(-90)scale(0.1 -0.1)\">\r\n       <defs>\r\n        <path d=\"M 34.28125 27.484375 \r\nQ 23.390625 27.484375 19.1875 25 \r\nQ 14.984375 22.515625 14.984375 16.5 \r\nQ 14.984375 11.71875 18.140625 8.90625 \r\nQ 21.296875 6.109375 26.703125 6.109375 \r\nQ 34.1875 6.109375 38.703125 11.40625 \r\nQ 43.21875 16.703125 43.21875 25.484375 \r\nL 43.21875 27.484375 \r\nz\r\nM 52.203125 31.203125 \r\nL 52.203125 0 \r\nL 43.21875 0 \r\nL 43.21875 8.296875 \r\nQ 40.140625 3.328125 35.546875 0.953125 \r\nQ 30.953125 -1.421875 24.3125 -1.421875 \r\nQ 15.921875 -1.421875 10.953125 3.296875 \r\nQ 6 8.015625 6 15.921875 \r\nQ 6 25.140625 12.171875 29.828125 \r\nQ 18.359375 34.515625 30.609375 34.515625 \r\nL 43.21875 34.515625 \r\nL 43.21875 35.40625 \r\nQ 43.21875 41.609375 39.140625 45 \r\nQ 35.0625 48.390625 27.6875 48.390625 \r\nQ 23 48.390625 18.546875 47.265625 \r\nQ 14.109375 46.140625 10.015625 43.890625 \r\nL 10.015625 52.203125 \r\nQ 14.9375 54.109375 19.578125 55.046875 \r\nQ 24.21875 56 28.609375 56 \r\nQ 40.484375 56 46.34375 49.84375 \r\nQ 52.203125 43.703125 52.203125 31.203125 \r\nz\r\n\" id=\"DejaVuSans-97\"/>\r\n       </defs>\r\n       <use xlink:href=\"#DejaVuSans-97\"/>\r\n       <use x=\"61.279297\" xlink:href=\"#DejaVuSans-103\"/>\r\n       <use x=\"124.755859\" xlink:href=\"#DejaVuSans-101\"/>\r\n      </g>\r\n     </g>\r\n    </g>\r\n    <g id=\"xtick_3\">\r\n     <g id=\"line2d_3\">\r\n      <g>\r\n       <use style=\"stroke:#000000;stroke-width:0.8;\" x=\"196.541201\" xlink:href=\"#m3c361b5aa2\" y=\"826.399219\"/>\r\n      </g>\r\n     </g>\r\n     <g id=\"text_3\">\r\n      <!-- time -->\r\n      <g transform=\"translate(199.300576 855.991406)rotate(-90)scale(0.1 -0.1)\">\r\n       <defs>\r\n        <path d=\"M 18.3125 70.21875 \r\nL 18.3125 54.6875 \r\nL 36.8125 54.6875 \r\nL 36.8125 47.703125 \r\nL 18.3125 47.703125 \r\nL 18.3125 18.015625 \r\nQ 18.3125 11.328125 20.140625 9.421875 \r\nQ 21.96875 7.515625 27.59375 7.515625 \r\nL 36.8125 7.515625 \r\nL 36.8125 0 \r\nL 27.59375 0 \r\nQ 17.1875 0 13.234375 3.875 \r\nQ 9.28125 7.765625 9.28125 18.015625 \r\nL 9.28125 47.703125 \r\nL 2.6875 47.703125 \r\nL 2.6875 54.6875 \r\nL 9.28125 54.6875 \r\nL 9.28125 70.21875 \r\nz\r\n\" id=\"DejaVuSans-116\"/>\r\n        <path d=\"M 9.421875 54.6875 \r\nL 18.40625 54.6875 \r\nL 18.40625 0 \r\nL 9.421875 0 \r\nz\r\nM 9.421875 75.984375 \r\nL 18.40625 75.984375 \r\nL 18.40625 64.59375 \r\nL 9.421875 64.59375 \r\nz\r\n\" id=\"DejaVuSans-105\"/>\r\n        <path d=\"M 52 44.1875 \r\nQ 55.375 50.25 60.0625 53.125 \r\nQ 64.75 56 71.09375 56 \r\nQ 79.640625 56 84.28125 50.015625 \r\nQ 88.921875 44.046875 88.921875 33.015625 \r\nL 88.921875 0 \r\nL 79.890625 0 \r\nL 79.890625 32.71875 \r\nQ 79.890625 40.578125 77.09375 44.375 \r\nQ 74.3125 48.1875 68.609375 48.1875 \r\nQ 61.625 48.1875 57.5625 43.546875 \r\nQ 53.515625 38.921875 53.515625 30.90625 \r\nL 53.515625 0 \r\nL 44.484375 0 \r\nL 44.484375 32.71875 \r\nQ 44.484375 40.625 41.703125 44.40625 \r\nQ 38.921875 48.1875 33.109375 48.1875 \r\nQ 26.21875 48.1875 22.15625 43.53125 \r\nQ 18.109375 38.875 18.109375 30.90625 \r\nL 18.109375 0 \r\nL 9.078125 0 \r\nL 9.078125 54.6875 \r\nL 18.109375 54.6875 \r\nL 18.109375 46.1875 \r\nQ 21.1875 51.21875 25.484375 53.609375 \r\nQ 29.78125 56 35.6875 56 \r\nQ 41.65625 56 45.828125 52.96875 \r\nQ 50 49.953125 52 44.1875 \r\nz\r\n\" id=\"DejaVuSans-109\"/>\r\n       </defs>\r\n       <use xlink:href=\"#DejaVuSans-116\"/>\r\n       <use x=\"39.208984\" xlink:href=\"#DejaVuSans-105\"/>\r\n       <use x=\"66.992188\" xlink:href=\"#DejaVuSans-109\"/>\r\n       <use x=\"164.404297\" xlink:href=\"#DejaVuSans-101\"/>\r\n      </g>\r\n     </g>\r\n    </g>\r\n    <g id=\"xtick_4\">\r\n     <g id=\"line2d_4\">\r\n      <g>\r\n       <use style=\"stroke:#000000;stroke-width:0.8;\" x=\"231.783306\" xlink:href=\"#m3c361b5aa2\" y=\"826.399219\"/>\r\n      </g>\r\n     </g>\r\n     <g id=\"text_4\">\r\n      <!-- kospi_kosdaq -->\r\n      <g transform=\"translate(234.403618 899.863281)rotate(-90)scale(0.1 -0.1)\">\r\n       <defs>\r\n        <path d=\"M 9.078125 75.984375 \r\nL 18.109375 75.984375 \r\nL 18.109375 31.109375 \r\nL 44.921875 54.6875 \r\nL 56.390625 54.6875 \r\nL 27.390625 29.109375 \r\nL 57.625 0 \r\nL 45.90625 0 \r\nL 18.109375 26.703125 \r\nL 18.109375 0 \r\nL 9.078125 0 \r\nz\r\n\" id=\"DejaVuSans-107\"/>\r\n        <path d=\"M 30.609375 48.390625 \r\nQ 23.390625 48.390625 19.1875 42.75 \r\nQ 14.984375 37.109375 14.984375 27.296875 \r\nQ 14.984375 17.484375 19.15625 11.84375 \r\nQ 23.34375 6.203125 30.609375 6.203125 \r\nQ 37.796875 6.203125 41.984375 11.859375 \r\nQ 46.1875 17.53125 46.1875 27.296875 \r\nQ 46.1875 37.015625 41.984375 42.703125 \r\nQ 37.796875 48.390625 30.609375 48.390625 \r\nz\r\nM 30.609375 56 \r\nQ 42.328125 56 49.015625 48.375 \r\nQ 55.71875 40.765625 55.71875 27.296875 \r\nQ 55.71875 13.875 49.015625 6.21875 \r\nQ 42.328125 -1.421875 30.609375 -1.421875 \r\nQ 18.84375 -1.421875 12.171875 6.21875 \r\nQ 5.515625 13.875 5.515625 27.296875 \r\nQ 5.515625 40.765625 12.171875 48.375 \r\nQ 18.84375 56 30.609375 56 \r\nz\r\n\" id=\"DejaVuSans-111\"/>\r\n        <path d=\"M 44.28125 53.078125 \r\nL 44.28125 44.578125 \r\nQ 40.484375 46.53125 36.375 47.5 \r\nQ 32.28125 48.484375 27.875 48.484375 \r\nQ 21.1875 48.484375 17.84375 46.4375 \r\nQ 14.5 44.390625 14.5 40.28125 \r\nQ 14.5 37.15625 16.890625 35.375 \r\nQ 19.28125 33.59375 26.515625 31.984375 \r\nL 29.59375 31.296875 \r\nQ 39.15625 29.25 43.1875 25.515625 \r\nQ 47.21875 21.78125 47.21875 15.09375 \r\nQ 47.21875 7.46875 41.1875 3.015625 \r\nQ 35.15625 -1.421875 24.609375 -1.421875 \r\nQ 20.21875 -1.421875 15.453125 -0.5625 \r\nQ 10.6875 0.296875 5.421875 2 \r\nL 5.421875 11.28125 \r\nQ 10.40625 8.6875 15.234375 7.390625 \r\nQ 20.0625 6.109375 24.8125 6.109375 \r\nQ 31.15625 6.109375 34.5625 8.28125 \r\nQ 37.984375 10.453125 37.984375 14.40625 \r\nQ 37.984375 18.0625 35.515625 20.015625 \r\nQ 33.0625 21.96875 24.703125 23.78125 \r\nL 21.578125 24.515625 \r\nQ 13.234375 26.265625 9.515625 29.90625 \r\nQ 5.8125 33.546875 5.8125 39.890625 \r\nQ 5.8125 47.609375 11.28125 51.796875 \r\nQ 16.75 56 26.8125 56 \r\nQ 31.78125 56 36.171875 55.265625 \r\nQ 40.578125 54.546875 44.28125 53.078125 \r\nz\r\n\" id=\"DejaVuSans-115\"/>\r\n        <path d=\"M 18.109375 8.203125 \r\nL 18.109375 -20.796875 \r\nL 9.078125 -20.796875 \r\nL 9.078125 54.6875 \r\nL 18.109375 54.6875 \r\nL 18.109375 46.390625 \r\nQ 20.953125 51.265625 25.265625 53.625 \r\nQ 29.59375 56 35.59375 56 \r\nQ 45.5625 56 51.78125 48.09375 \r\nQ 58.015625 40.1875 58.015625 27.296875 \r\nQ 58.015625 14.40625 51.78125 6.484375 \r\nQ 45.5625 -1.421875 35.59375 -1.421875 \r\nQ 29.59375 -1.421875 25.265625 0.953125 \r\nQ 20.953125 3.328125 18.109375 8.203125 \r\nz\r\nM 48.6875 27.296875 \r\nQ 48.6875 37.203125 44.609375 42.84375 \r\nQ 40.53125 48.484375 33.40625 48.484375 \r\nQ 26.265625 48.484375 22.1875 42.84375 \r\nQ 18.109375 37.203125 18.109375 27.296875 \r\nQ 18.109375 17.390625 22.1875 11.75 \r\nQ 26.265625 6.109375 33.40625 6.109375 \r\nQ 40.53125 6.109375 44.609375 11.75 \r\nQ 48.6875 17.390625 48.6875 27.296875 \r\nz\r\n\" id=\"DejaVuSans-112\"/>\r\n        <path d=\"M 50.984375 -16.609375 \r\nL 50.984375 -23.578125 \r\nL -0.984375 -23.578125 \r\nL -0.984375 -16.609375 \r\nz\r\n\" id=\"DejaVuSans-95\"/>\r\n        <path d=\"M 14.796875 27.296875 \r\nQ 14.796875 17.390625 18.875 11.75 \r\nQ 22.953125 6.109375 30.078125 6.109375 \r\nQ 37.203125 6.109375 41.296875 11.75 \r\nQ 45.40625 17.390625 45.40625 27.296875 \r\nQ 45.40625 37.203125 41.296875 42.84375 \r\nQ 37.203125 48.484375 30.078125 48.484375 \r\nQ 22.953125 48.484375 18.875 42.84375 \r\nQ 14.796875 37.203125 14.796875 27.296875 \r\nz\r\nM 45.40625 8.203125 \r\nQ 42.578125 3.328125 38.25 0.953125 \r\nQ 33.9375 -1.421875 27.875 -1.421875 \r\nQ 17.96875 -1.421875 11.734375 6.484375 \r\nQ 5.515625 14.40625 5.515625 27.296875 \r\nQ 5.515625 40.1875 11.734375 48.09375 \r\nQ 17.96875 56 27.875 56 \r\nQ 33.9375 56 38.25 53.625 \r\nQ 42.578125 51.265625 45.40625 46.390625 \r\nL 45.40625 54.6875 \r\nL 54.390625 54.6875 \r\nL 54.390625 -20.796875 \r\nL 45.40625 -20.796875 \r\nz\r\n\" id=\"DejaVuSans-113\"/>\r\n       </defs>\r\n       <use xlink:href=\"#DejaVuSans-107\"/>\r\n       <use x=\"54.285156\" xlink:href=\"#DejaVuSans-111\"/>\r\n       <use x=\"115.466797\" xlink:href=\"#DejaVuSans-115\"/>\r\n       <use x=\"167.566406\" xlink:href=\"#DejaVuSans-112\"/>\r\n       <use x=\"231.042969\" xlink:href=\"#DejaVuSans-105\"/>\r\n       <use x=\"258.826172\" xlink:href=\"#DejaVuSans-95\"/>\r\n       <use x=\"308.826172\" xlink:href=\"#DejaVuSans-107\"/>\r\n       <use x=\"363.111328\" xlink:href=\"#DejaVuSans-111\"/>\r\n       <use x=\"424.292969\" xlink:href=\"#DejaVuSans-115\"/>\r\n       <use x=\"476.392578\" xlink:href=\"#DejaVuSans-100\"/>\r\n       <use x=\"539.869141\" xlink:href=\"#DejaVuSans-97\"/>\r\n       <use x=\"601.148438\" xlink:href=\"#DejaVuSans-113\"/>\r\n      </g>\r\n     </g>\r\n    </g>\r\n    <g id=\"xtick_5\">\r\n     <g id=\"line2d_5\">\r\n      <g>\r\n       <use style=\"stroke:#000000;stroke-width:0.8;\" x=\"267.025411\" xlink:href=\"#m3c361b5aa2\" y=\"826.399219\"/>\r\n      </g>\r\n     </g>\r\n     <g id=\"text_5\">\r\n      <!-- sell_buy -->\r\n      <g transform=\"translate(269.645724 873.922656)rotate(-90)scale(0.1 -0.1)\">\r\n       <defs>\r\n        <path d=\"M 9.421875 75.984375 \r\nL 18.40625 75.984375 \r\nL 18.40625 0 \r\nL 9.421875 0 \r\nz\r\n\" id=\"DejaVuSans-108\"/>\r\n        <path d=\"M 48.6875 27.296875 \r\nQ 48.6875 37.203125 44.609375 42.84375 \r\nQ 40.53125 48.484375 33.40625 48.484375 \r\nQ 26.265625 48.484375 22.1875 42.84375 \r\nQ 18.109375 37.203125 18.109375 27.296875 \r\nQ 18.109375 17.390625 22.1875 11.75 \r\nQ 26.265625 6.109375 33.40625 6.109375 \r\nQ 40.53125 6.109375 44.609375 11.75 \r\nQ 48.6875 17.390625 48.6875 27.296875 \r\nz\r\nM 18.109375 46.390625 \r\nQ 20.953125 51.265625 25.265625 53.625 \r\nQ 29.59375 56 35.59375 56 \r\nQ 45.5625 56 51.78125 48.09375 \r\nQ 58.015625 40.1875 58.015625 27.296875 \r\nQ 58.015625 14.40625 51.78125 6.484375 \r\nQ 45.5625 -1.421875 35.59375 -1.421875 \r\nQ 29.59375 -1.421875 25.265625 0.953125 \r\nQ 20.953125 3.328125 18.109375 8.203125 \r\nL 18.109375 0 \r\nL 9.078125 0 \r\nL 9.078125 75.984375 \r\nL 18.109375 75.984375 \r\nz\r\n\" id=\"DejaVuSans-98\"/>\r\n        <path d=\"M 8.5 21.578125 \r\nL 8.5 54.6875 \r\nL 17.484375 54.6875 \r\nL 17.484375 21.921875 \r\nQ 17.484375 14.15625 20.5 10.265625 \r\nQ 23.53125 6.390625 29.59375 6.390625 \r\nQ 36.859375 6.390625 41.078125 11.03125 \r\nQ 45.3125 15.671875 45.3125 23.6875 \r\nL 45.3125 54.6875 \r\nL 54.296875 54.6875 \r\nL 54.296875 0 \r\nL 45.3125 0 \r\nL 45.3125 8.40625 \r\nQ 42.046875 3.421875 37.71875 1 \r\nQ 33.40625 -1.421875 27.6875 -1.421875 \r\nQ 18.265625 -1.421875 13.375 4.4375 \r\nQ 8.5 10.296875 8.5 21.578125 \r\nz\r\nM 31.109375 56 \r\nz\r\n\" id=\"DejaVuSans-117\"/>\r\n        <path d=\"M 32.171875 -5.078125 \r\nQ 28.375 -14.84375 24.75 -17.8125 \r\nQ 21.140625 -20.796875 15.09375 -20.796875 \r\nL 7.90625 -20.796875 \r\nL 7.90625 -13.28125 \r\nL 13.1875 -13.28125 \r\nQ 16.890625 -13.28125 18.9375 -11.515625 \r\nQ 21 -9.765625 23.484375 -3.21875 \r\nL 25.09375 0.875 \r\nL 2.984375 54.6875 \r\nL 12.5 54.6875 \r\nL 29.59375 11.921875 \r\nL 46.6875 54.6875 \r\nL 56.203125 54.6875 \r\nz\r\n\" id=\"DejaVuSans-121\"/>\r\n       </defs>\r\n       <use xlink:href=\"#DejaVuSans-115\"/>\r\n       <use x=\"52.099609\" xlink:href=\"#DejaVuSans-101\"/>\r\n       <use x=\"113.623047\" xlink:href=\"#DejaVuSans-108\"/>\r\n       <use x=\"141.40625\" xlink:href=\"#DejaVuSans-108\"/>\r\n       <use x=\"169.189453\" xlink:href=\"#DejaVuSans-95\"/>\r\n       <use x=\"219.189453\" xlink:href=\"#DejaVuSans-98\"/>\r\n       <use x=\"282.666016\" xlink:href=\"#DejaVuSans-117\"/>\r\n       <use x=\"346.044922\" xlink:href=\"#DejaVuSans-121\"/>\r\n      </g>\r\n     </g>\r\n    </g>\r\n    <g id=\"xtick_6\">\r\n     <g id=\"line2d_6\">\r\n      <g>\r\n       <use style=\"stroke:#000000;stroke-width:0.8;\" x=\"302.267516\" xlink:href=\"#m3c361b5aa2\" y=\"826.399219\"/>\r\n      </g>\r\n     </g>\r\n     <g id=\"text_6\">\r\n      <!-- order_code -->\r\n      <g transform=\"translate(304.887829 889.185156)rotate(-90)scale(0.1 -0.1)\">\r\n       <defs>\r\n        <path d=\"M 48.78125 52.59375 \r\nL 48.78125 44.1875 \r\nQ 44.96875 46.296875 41.140625 47.34375 \r\nQ 37.3125 48.390625 33.40625 48.390625 \r\nQ 24.65625 48.390625 19.8125 42.84375 \r\nQ 14.984375 37.3125 14.984375 27.296875 \r\nQ 14.984375 17.28125 19.8125 11.734375 \r\nQ 24.65625 6.203125 33.40625 6.203125 \r\nQ 37.3125 6.203125 41.140625 7.25 \r\nQ 44.96875 8.296875 48.78125 10.40625 \r\nL 48.78125 2.09375 \r\nQ 45.015625 0.34375 40.984375 -0.53125 \r\nQ 36.96875 -1.421875 32.421875 -1.421875 \r\nQ 20.0625 -1.421875 12.78125 6.34375 \r\nQ 5.515625 14.109375 5.515625 27.296875 \r\nQ 5.515625 40.671875 12.859375 48.328125 \r\nQ 20.21875 56 33.015625 56 \r\nQ 37.15625 56 41.109375 55.140625 \r\nQ 45.0625 54.296875 48.78125 52.59375 \r\nz\r\n\" id=\"DejaVuSans-99\"/>\r\n       </defs>\r\n       <use xlink:href=\"#DejaVuSans-111\"/>\r\n       <use x=\"61.181641\" xlink:href=\"#DejaVuSans-114\"/>\r\n       <use x=\"100.544922\" xlink:href=\"#DejaVuSans-100\"/>\r\n       <use x=\"164.021484\" xlink:href=\"#DejaVuSans-101\"/>\r\n       <use x=\"225.544922\" xlink:href=\"#DejaVuSans-114\"/>\r\n       <use x=\"266.658203\" xlink:href=\"#DejaVuSans-95\"/>\r\n       <use x=\"316.658203\" xlink:href=\"#DejaVuSans-99\"/>\r\n       <use x=\"371.638672\" xlink:href=\"#DejaVuSans-111\"/>\r\n       <use x=\"432.820312\" xlink:href=\"#DejaVuSans-100\"/>\r\n       <use x=\"496.296875\" xlink:href=\"#DejaVuSans-101\"/>\r\n      </g>\r\n     </g>\r\n    </g>\r\n    <g id=\"xtick_7\">\r\n     <g id=\"line2d_7\">\r\n      <g>\r\n       <use style=\"stroke:#000000;stroke-width:0.8;\" x=\"337.509622\" xlink:href=\"#m3c361b5aa2\" y=\"826.399219\"/>\r\n      </g>\r\n     </g>\r\n     <g id=\"text_7\">\r\n      <!-- order_price -->\r\n      <g transform=\"translate(340.129934 889.955469)rotate(-90)scale(0.1 -0.1)\">\r\n       <use xlink:href=\"#DejaVuSans-111\"/>\r\n       <use x=\"61.181641\" xlink:href=\"#DejaVuSans-114\"/>\r\n       <use x=\"100.544922\" xlink:href=\"#DejaVuSans-100\"/>\r\n       <use x=\"164.021484\" xlink:href=\"#DejaVuSans-101\"/>\r\n       <use x=\"225.544922\" xlink:href=\"#DejaVuSans-114\"/>\r\n       <use x=\"266.658203\" xlink:href=\"#DejaVuSans-95\"/>\r\n       <use x=\"316.658203\" xlink:href=\"#DejaVuSans-112\"/>\r\n       <use x=\"380.134766\" xlink:href=\"#DejaVuSans-114\"/>\r\n       <use x=\"421.248047\" xlink:href=\"#DejaVuSans-105\"/>\r\n       <use x=\"449.03125\" xlink:href=\"#DejaVuSans-99\"/>\r\n       <use x=\"504.011719\" xlink:href=\"#DejaVuSans-101\"/>\r\n      </g>\r\n     </g>\r\n    </g>\r\n    <g id=\"xtick_8\">\r\n     <g id=\"line2d_8\">\r\n      <g>\r\n       <use style=\"stroke:#000000;stroke-width:0.8;\" x=\"372.751727\" xlink:href=\"#m3c361b5aa2\" y=\"826.399219\"/>\r\n      </g>\r\n     </g>\r\n     <g id=\"text_8\">\r\n      <!-- order_volume -->\r\n      <g transform=\"translate(375.372039 902.113281)rotate(-90)scale(0.1 -0.1)\">\r\n       <defs>\r\n        <path d=\"M 2.984375 54.6875 \r\nL 12.5 54.6875 \r\nL 29.59375 8.796875 \r\nL 46.6875 54.6875 \r\nL 56.203125 54.6875 \r\nL 35.6875 0 \r\nL 23.484375 0 \r\nz\r\n\" id=\"DejaVuSans-118\"/>\r\n       </defs>\r\n       <use xlink:href=\"#DejaVuSans-111\"/>\r\n       <use x=\"61.181641\" xlink:href=\"#DejaVuSans-114\"/>\r\n       <use x=\"100.544922\" xlink:href=\"#DejaVuSans-100\"/>\r\n       <use x=\"164.021484\" xlink:href=\"#DejaVuSans-101\"/>\r\n       <use x=\"225.544922\" xlink:href=\"#DejaVuSans-114\"/>\r\n       <use x=\"266.658203\" xlink:href=\"#DejaVuSans-95\"/>\r\n       <use x=\"316.658203\" xlink:href=\"#DejaVuSans-118\"/>\r\n       <use x=\"375.837891\" xlink:href=\"#DejaVuSans-111\"/>\r\n       <use x=\"437.019531\" xlink:href=\"#DejaVuSans-108\"/>\r\n       <use x=\"464.802734\" xlink:href=\"#DejaVuSans-117\"/>\r\n       <use x=\"528.181641\" xlink:href=\"#DejaVuSans-109\"/>\r\n       <use x=\"625.59375\" xlink:href=\"#DejaVuSans-101\"/>\r\n      </g>\r\n     </g>\r\n    </g>\r\n    <g id=\"xtick_9\">\r\n     <g id=\"line2d_9\">\r\n      <g>\r\n       <use style=\"stroke:#000000;stroke-width:0.8;\" x=\"407.993832\" xlink:href=\"#m3c361b5aa2\" y=\"826.399219\"/>\r\n      </g>\r\n     </g>\r\n     <g id=\"text_9\">\r\n      <!-- true_order_volume -->\r\n      <g transform=\"translate(410.614145 927.635156)rotate(-90)scale(0.1 -0.1)\">\r\n       <use xlink:href=\"#DejaVuSans-116\"/>\r\n       <use x=\"39.208984\" xlink:href=\"#DejaVuSans-114\"/>\r\n       <use x=\"80.322266\" xlink:href=\"#DejaVuSans-117\"/>\r\n       <use x=\"143.701172\" xlink:href=\"#DejaVuSans-101\"/>\r\n       <use x=\"205.224609\" xlink:href=\"#DejaVuSans-95\"/>\r\n       <use x=\"255.224609\" xlink:href=\"#DejaVuSans-111\"/>\r\n       <use x=\"316.40625\" xlink:href=\"#DejaVuSans-114\"/>\r\n       <use x=\"355.769531\" xlink:href=\"#DejaVuSans-100\"/>\r\n       <use x=\"419.246094\" xlink:href=\"#DejaVuSans-101\"/>\r\n       <use x=\"480.769531\" xlink:href=\"#DejaVuSans-114\"/>\r\n       <use x=\"521.882812\" xlink:href=\"#DejaVuSans-95\"/>\r\n       <use x=\"571.882812\" xlink:href=\"#DejaVuSans-118\"/>\r\n       <use x=\"631.0625\" xlink:href=\"#DejaVuSans-111\"/>\r\n       <use x=\"692.244141\" xlink:href=\"#DejaVuSans-108\"/>\r\n       <use x=\"720.027344\" xlink:href=\"#DejaVuSans-117\"/>\r\n       <use x=\"783.40625\" xlink:href=\"#DejaVuSans-109\"/>\r\n       <use x=\"880.818359\" xlink:href=\"#DejaVuSans-101\"/>\r\n      </g>\r\n     </g>\r\n    </g>\r\n    <g id=\"xtick_10\">\r\n     <g id=\"line2d_10\">\r\n      <g>\r\n       <use style=\"stroke:#000000;stroke-width:0.8;\" x=\"443.235938\" xlink:href=\"#m3c361b5aa2\" y=\"826.399219\"/>\r\n      </g>\r\n     </g>\r\n     <g id=\"text_10\">\r\n      <!-- true_order_price -->\r\n      <g transform=\"translate(445.85625 915.477344)rotate(-90)scale(0.1 -0.1)\">\r\n       <use xlink:href=\"#DejaVuSans-116\"/>\r\n       <use x=\"39.208984\" xlink:href=\"#DejaVuSans-114\"/>\r\n       <use x=\"80.322266\" xlink:href=\"#DejaVuSans-117\"/>\r\n       <use x=\"143.701172\" xlink:href=\"#DejaVuSans-101\"/>\r\n       <use x=\"205.224609\" xlink:href=\"#DejaVuSans-95\"/>\r\n       <use x=\"255.224609\" xlink:href=\"#DejaVuSans-111\"/>\r\n       <use x=\"316.40625\" xlink:href=\"#DejaVuSans-114\"/>\r\n       <use x=\"355.769531\" xlink:href=\"#DejaVuSans-100\"/>\r\n       <use x=\"419.246094\" xlink:href=\"#DejaVuSans-101\"/>\r\n       <use x=\"480.769531\" xlink:href=\"#DejaVuSans-114\"/>\r\n       <use x=\"521.882812\" xlink:href=\"#DejaVuSans-95\"/>\r\n       <use x=\"571.882812\" xlink:href=\"#DejaVuSans-112\"/>\r\n       <use x=\"635.359375\" xlink:href=\"#DejaVuSans-114\"/>\r\n       <use x=\"676.472656\" xlink:href=\"#DejaVuSans-105\"/>\r\n       <use x=\"704.255859\" xlink:href=\"#DejaVuSans-99\"/>\r\n       <use x=\"759.236328\" xlink:href=\"#DejaVuSans-101\"/>\r\n      </g>\r\n     </g>\r\n    </g>\r\n    <g id=\"xtick_11\">\r\n     <g id=\"line2d_11\">\r\n      <g>\r\n       <use style=\"stroke:#000000;stroke-width:0.8;\" x=\"478.478043\" xlink:href=\"#m3c361b5aa2\" y=\"826.399219\"/>\r\n      </g>\r\n     </g>\r\n     <g id=\"text_11\">\r\n      <!-- before_close -->\r\n      <g transform=\"translate(481.098355 896.336719)rotate(-90)scale(0.1 -0.1)\">\r\n       <defs>\r\n        <path d=\"M 37.109375 75.984375 \r\nL 37.109375 68.5 \r\nL 28.515625 68.5 \r\nQ 23.6875 68.5 21.796875 66.546875 \r\nQ 19.921875 64.59375 19.921875 59.515625 \r\nL 19.921875 54.6875 \r\nL 34.71875 54.6875 \r\nL 34.71875 47.703125 \r\nL 19.921875 47.703125 \r\nL 19.921875 0 \r\nL 10.890625 0 \r\nL 10.890625 47.703125 \r\nL 2.296875 47.703125 \r\nL 2.296875 54.6875 \r\nL 10.890625 54.6875 \r\nL 10.890625 58.5 \r\nQ 10.890625 67.625 15.140625 71.796875 \r\nQ 19.390625 75.984375 28.609375 75.984375 \r\nz\r\n\" id=\"DejaVuSans-102\"/>\r\n       </defs>\r\n       <use xlink:href=\"#DejaVuSans-98\"/>\r\n       <use x=\"63.476562\" xlink:href=\"#DejaVuSans-101\"/>\r\n       <use x=\"125\" xlink:href=\"#DejaVuSans-102\"/>\r\n       <use x=\"160.205078\" xlink:href=\"#DejaVuSans-111\"/>\r\n       <use x=\"221.386719\" xlink:href=\"#DejaVuSans-114\"/>\r\n       <use x=\"260.25\" xlink:href=\"#DejaVuSans-101\"/>\r\n       <use x=\"321.773438\" xlink:href=\"#DejaVuSans-95\"/>\r\n       <use x=\"371.773438\" xlink:href=\"#DejaVuSans-99\"/>\r\n       <use x=\"426.753906\" xlink:href=\"#DejaVuSans-108\"/>\r\n       <use x=\"454.537109\" xlink:href=\"#DejaVuSans-111\"/>\r\n       <use x=\"515.71875\" xlink:href=\"#DejaVuSans-115\"/>\r\n       <use x=\"567.818359\" xlink:href=\"#DejaVuSans-101\"/>\r\n      </g>\r\n     </g>\r\n    </g>\r\n    <g id=\"xtick_12\">\r\n     <g id=\"line2d_12\">\r\n      <g>\r\n       <use style=\"stroke:#000000;stroke-width:0.8;\" x=\"513.720148\" xlink:href=\"#m3c361b5aa2\" y=\"826.399219\"/>\r\n      </g>\r\n     </g>\r\n     <g id=\"text_12\">\r\n      <!-- start -->\r\n      <g transform=\"translate(516.479523 856.688281)rotate(-90)scale(0.1 -0.1)\">\r\n       <use xlink:href=\"#DejaVuSans-115\"/>\r\n       <use x=\"52.099609\" xlink:href=\"#DejaVuSans-116\"/>\r\n       <use x=\"91.308594\" xlink:href=\"#DejaVuSans-97\"/>\r\n       <use x=\"152.587891\" xlink:href=\"#DejaVuSans-114\"/>\r\n       <use x=\"193.701172\" xlink:href=\"#DejaVuSans-116\"/>\r\n      </g>\r\n     </g>\r\n    </g>\r\n    <g id=\"xtick_13\">\r\n     <g id=\"line2d_13\">\r\n      <g>\r\n       <use style=\"stroke:#000000;stroke-width:0.8;\" x=\"548.962253\" xlink:href=\"#m3c361b5aa2\" y=\"826.399219\"/>\r\n      </g>\r\n     </g>\r\n     <g id=\"text_13\">\r\n      <!-- high -->\r\n      <g transform=\"translate(551.721628 855.200781)rotate(-90)scale(0.1 -0.1)\">\r\n       <defs>\r\n        <path d=\"M 54.890625 33.015625 \r\nL 54.890625 0 \r\nL 45.90625 0 \r\nL 45.90625 32.71875 \r\nQ 45.90625 40.484375 42.875 44.328125 \r\nQ 39.84375 48.1875 33.796875 48.1875 \r\nQ 26.515625 48.1875 22.3125 43.546875 \r\nQ 18.109375 38.921875 18.109375 30.90625 \r\nL 18.109375 0 \r\nL 9.078125 0 \r\nL 9.078125 75.984375 \r\nL 18.109375 75.984375 \r\nL 18.109375 46.1875 \r\nQ 21.34375 51.125 25.703125 53.5625 \r\nQ 30.078125 56 35.796875 56 \r\nQ 45.21875 56 50.046875 50.171875 \r\nQ 54.890625 44.34375 54.890625 33.015625 \r\nz\r\n\" id=\"DejaVuSans-104\"/>\r\n       </defs>\r\n       <use xlink:href=\"#DejaVuSans-104\"/>\r\n       <use x=\"63.378906\" xlink:href=\"#DejaVuSans-105\"/>\r\n       <use x=\"91.162109\" xlink:href=\"#DejaVuSans-103\"/>\r\n       <use x=\"154.638672\" xlink:href=\"#DejaVuSans-104\"/>\r\n      </g>\r\n     </g>\r\n    </g>\r\n    <g id=\"xtick_14\">\r\n     <g id=\"line2d_14\">\r\n      <g>\r\n       <use style=\"stroke:#000000;stroke-width:0.8;\" x=\"584.204359\" xlink:href=\"#m3c361b5aa2\" y=\"826.399219\"/>\r\n      </g>\r\n     </g>\r\n     <g id=\"text_14\">\r\n      <!-- low -->\r\n      <g transform=\"translate(586.963734 850.474219)rotate(-90)scale(0.1 -0.1)\">\r\n       <defs>\r\n        <path d=\"M 4.203125 54.6875 \r\nL 13.1875 54.6875 \r\nL 24.421875 12.015625 \r\nL 35.59375 54.6875 \r\nL 46.1875 54.6875 \r\nL 57.421875 12.015625 \r\nL 68.609375 54.6875 \r\nL 77.59375 54.6875 \r\nL 63.28125 0 \r\nL 52.6875 0 \r\nL 40.921875 44.828125 \r\nL 29.109375 0 \r\nL 18.5 0 \r\nz\r\n\" id=\"DejaVuSans-119\"/>\r\n       </defs>\r\n       <use xlink:href=\"#DejaVuSans-108\"/>\r\n       <use x=\"27.783203\" xlink:href=\"#DejaVuSans-111\"/>\r\n       <use x=\"88.964844\" xlink:href=\"#DejaVuSans-119\"/>\r\n      </g>\r\n     </g>\r\n    </g>\r\n    <g id=\"xtick_15\">\r\n     <g id=\"line2d_15\">\r\n      <g>\r\n       <use style=\"stroke:#000000;stroke-width:0.8;\" x=\"619.446464\" xlink:href=\"#m3c361b5aa2\" y=\"826.399219\"/>\r\n      </g>\r\n     </g>\r\n     <g id=\"text_15\">\r\n      <!-- close -->\r\n      <g transform=\"translate(622.205839 859.157031)rotate(-90)scale(0.1 -0.1)\">\r\n       <use xlink:href=\"#DejaVuSans-99\"/>\r\n       <use x=\"54.980469\" xlink:href=\"#DejaVuSans-108\"/>\r\n       <use x=\"82.763672\" xlink:href=\"#DejaVuSans-111\"/>\r\n       <use x=\"143.945312\" xlink:href=\"#DejaVuSans-115\"/>\r\n       <use x=\"196.044922\" xlink:href=\"#DejaVuSans-101\"/>\r\n      </g>\r\n     </g>\r\n    </g>\r\n    <g id=\"xtick_16\">\r\n     <g id=\"line2d_16\">\r\n      <g>\r\n       <use style=\"stroke:#000000;stroke-width:0.8;\" x=\"654.688569\" xlink:href=\"#m3c361b5aa2\" y=\"826.399219\"/>\r\n      </g>\r\n     </g>\r\n     <g id=\"text_16\">\r\n      <!-- volume -->\r\n      <g transform=\"translate(657.447944 870.446094)rotate(-90)scale(0.1 -0.1)\">\r\n       <use xlink:href=\"#DejaVuSans-118\"/>\r\n       <use x=\"59.179688\" xlink:href=\"#DejaVuSans-111\"/>\r\n       <use x=\"120.361328\" xlink:href=\"#DejaVuSans-108\"/>\r\n       <use x=\"148.144531\" xlink:href=\"#DejaVuSans-117\"/>\r\n       <use x=\"211.523438\" xlink:href=\"#DejaVuSans-109\"/>\r\n       <use x=\"308.935547\" xlink:href=\"#DejaVuSans-101\"/>\r\n      </g>\r\n     </g>\r\n    </g>\r\n    <g id=\"xtick_17\">\r\n     <g id=\"line2d_17\">\r\n      <g>\r\n       <use style=\"stroke:#000000;stroke-width:0.8;\" x=\"689.930674\" xlink:href=\"#m3c361b5aa2\" y=\"826.399219\"/>\r\n      </g>\r\n     </g>\r\n     <g id=\"text_17\">\r\n      <!-- volume_price -->\r\n      <g transform=\"translate(692.550987 900.335156)rotate(-90)scale(0.1 -0.1)\">\r\n       <use xlink:href=\"#DejaVuSans-118\"/>\r\n       <use x=\"59.179688\" xlink:href=\"#DejaVuSans-111\"/>\r\n       <use x=\"120.361328\" xlink:href=\"#DejaVuSans-108\"/>\r\n       <use x=\"148.144531\" xlink:href=\"#DejaVuSans-117\"/>\r\n       <use x=\"211.523438\" xlink:href=\"#DejaVuSans-109\"/>\r\n       <use x=\"308.935547\" xlink:href=\"#DejaVuSans-101\"/>\r\n       <use x=\"370.458984\" xlink:href=\"#DejaVuSans-95\"/>\r\n       <use x=\"420.458984\" xlink:href=\"#DejaVuSans-112\"/>\r\n       <use x=\"483.935547\" xlink:href=\"#DejaVuSans-114\"/>\r\n       <use x=\"525.048828\" xlink:href=\"#DejaVuSans-105\"/>\r\n       <use x=\"552.832031\" xlink:href=\"#DejaVuSans-99\"/>\r\n       <use x=\"607.8125\" xlink:href=\"#DejaVuSans-101\"/>\r\n      </g>\r\n     </g>\r\n    </g>\r\n    <g id=\"xtick_18\">\r\n     <g id=\"line2d_18\">\r\n      <g>\r\n       <use style=\"stroke:#000000;stroke-width:0.8;\" x=\"725.17278\" xlink:href=\"#m3c361b5aa2\" y=\"826.399219\"/>\r\n      </g>\r\n     </g>\r\n     <g id=\"text_18\">\r\n      <!-- week -->\r\n      <g transform=\"translate(727.932155 859.674219)rotate(-90)scale(0.1 -0.1)\">\r\n       <use xlink:href=\"#DejaVuSans-119\"/>\r\n       <use x=\"81.787109\" xlink:href=\"#DejaVuSans-101\"/>\r\n       <use x=\"143.310547\" xlink:href=\"#DejaVuSans-101\"/>\r\n       <use x=\"204.833984\" xlink:href=\"#DejaVuSans-107\"/>\r\n      </g>\r\n     </g>\r\n    </g>\r\n    <g id=\"xtick_19\">\r\n     <g id=\"line2d_19\">\r\n      <g>\r\n       <use style=\"stroke:#000000;stroke-width:0.8;\" x=\"760.414885\" xlink:href=\"#m3c361b5aa2\" y=\"826.399219\"/>\r\n      </g>\r\n     </g>\r\n     <g id=\"text_19\">\r\n      <!-- weekday -->\r\n      <g transform=\"translate(763.17426 878.069531)rotate(-90)scale(0.1 -0.1)\">\r\n       <use xlink:href=\"#DejaVuSans-119\"/>\r\n       <use x=\"81.787109\" xlink:href=\"#DejaVuSans-101\"/>\r\n       <use x=\"143.310547\" xlink:href=\"#DejaVuSans-101\"/>\r\n       <use x=\"204.833984\" xlink:href=\"#DejaVuSans-107\"/>\r\n       <use x=\"262.744141\" xlink:href=\"#DejaVuSans-100\"/>\r\n       <use x=\"326.220703\" xlink:href=\"#DejaVuSans-97\"/>\r\n       <use x=\"387.5\" xlink:href=\"#DejaVuSans-121\"/>\r\n      </g>\r\n     </g>\r\n    </g>\r\n   </g>\r\n   <g id=\"matplotlib.axis_2\">\r\n    <g id=\"ytick_1\">\r\n     <g id=\"line2d_20\">\r\n      <defs>\r\n       <path d=\"M 0 0 \r\nL -3.5 0 \r\n\" id=\"m0d23bb7ddb\" style=\"stroke:#000000;stroke-width:0.8;\"/>\r\n      </defs>\r\n      <g>\r\n       <use style=\"stroke:#000000;stroke-width:0.8;\" x=\"108.435938\" xlink:href=\"#m0d23bb7ddb\" y=\"32.457113\"/>\r\n      </g>\r\n     </g>\r\n     <g id=\"text_20\">\r\n      <!-- gender -->\r\n      <g transform=\"translate(65.984375 36.256332)scale(0.1 -0.1)\">\r\n       <use xlink:href=\"#DejaVuSans-103\"/>\r\n       <use x=\"63.476562\" xlink:href=\"#DejaVuSans-101\"/>\r\n       <use x=\"125\" xlink:href=\"#DejaVuSans-110\"/>\r\n       <use x=\"188.378906\" xlink:href=\"#DejaVuSans-100\"/>\r\n       <use x=\"251.855469\" xlink:href=\"#DejaVuSans-101\"/>\r\n       <use x=\"313.378906\" xlink:href=\"#DejaVuSans-114\"/>\r\n      </g>\r\n     </g>\r\n    </g>\r\n    <g id=\"ytick_2\">\r\n     <g id=\"line2d_21\">\r\n      <g>\r\n       <use style=\"stroke:#000000;stroke-width:0.8;\" x=\"108.435938\" xlink:href=\"#m0d23bb7ddb\" y=\"75.372903\"/>\r\n      </g>\r\n     </g>\r\n     <g id=\"text_21\">\r\n      <!-- age -->\r\n      <g transform=\"translate(82.80625 79.172122)scale(0.1 -0.1)\">\r\n       <use xlink:href=\"#DejaVuSans-97\"/>\r\n       <use x=\"61.279297\" xlink:href=\"#DejaVuSans-103\"/>\r\n       <use x=\"124.755859\" xlink:href=\"#DejaVuSans-101\"/>\r\n      </g>\r\n     </g>\r\n    </g>\r\n    <g id=\"ytick_3\">\r\n     <g id=\"line2d_22\">\r\n      <g>\r\n       <use style=\"stroke:#000000;stroke-width:0.8;\" x=\"108.435938\" xlink:href=\"#m0d23bb7ddb\" y=\"118.288692\"/>\r\n      </g>\r\n     </g>\r\n     <g id=\"text_22\">\r\n      <!-- time -->\r\n      <g transform=\"translate(78.84375 122.087911)scale(0.1 -0.1)\">\r\n       <use xlink:href=\"#DejaVuSans-116\"/>\r\n       <use x=\"39.208984\" xlink:href=\"#DejaVuSans-105\"/>\r\n       <use x=\"66.992188\" xlink:href=\"#DejaVuSans-109\"/>\r\n       <use x=\"164.404297\" xlink:href=\"#DejaVuSans-101\"/>\r\n      </g>\r\n     </g>\r\n    </g>\r\n    <g id=\"ytick_4\">\r\n     <g id=\"line2d_23\">\r\n      <g>\r\n       <use style=\"stroke:#000000;stroke-width:0.8;\" x=\"108.435938\" xlink:href=\"#m0d23bb7ddb\" y=\"161.204482\"/>\r\n      </g>\r\n     </g>\r\n     <g id=\"text_23\">\r\n      <!-- kospi_kosdaq -->\r\n      <g transform=\"translate(34.971875 165.003701)scale(0.1 -0.1)\">\r\n       <use xlink:href=\"#DejaVuSans-107\"/>\r\n       <use x=\"54.285156\" xlink:href=\"#DejaVuSans-111\"/>\r\n       <use x=\"115.466797\" xlink:href=\"#DejaVuSans-115\"/>\r\n       <use x=\"167.566406\" xlink:href=\"#DejaVuSans-112\"/>\r\n       <use x=\"231.042969\" xlink:href=\"#DejaVuSans-105\"/>\r\n       <use x=\"258.826172\" xlink:href=\"#DejaVuSans-95\"/>\r\n       <use x=\"308.826172\" xlink:href=\"#DejaVuSans-107\"/>\r\n       <use x=\"363.111328\" xlink:href=\"#DejaVuSans-111\"/>\r\n       <use x=\"424.292969\" xlink:href=\"#DejaVuSans-115\"/>\r\n       <use x=\"476.392578\" xlink:href=\"#DejaVuSans-100\"/>\r\n       <use x=\"539.869141\" xlink:href=\"#DejaVuSans-97\"/>\r\n       <use x=\"601.148438\" xlink:href=\"#DejaVuSans-113\"/>\r\n      </g>\r\n     </g>\r\n    </g>\r\n    <g id=\"ytick_5\">\r\n     <g id=\"line2d_24\">\r\n      <g>\r\n       <use style=\"stroke:#000000;stroke-width:0.8;\" x=\"108.435938\" xlink:href=\"#m0d23bb7ddb\" y=\"204.120271\"/>\r\n      </g>\r\n     </g>\r\n     <g id=\"text_24\">\r\n      <!-- sell_buy -->\r\n      <g transform=\"translate(60.9125 207.91949)scale(0.1 -0.1)\">\r\n       <use xlink:href=\"#DejaVuSans-115\"/>\r\n       <use x=\"52.099609\" xlink:href=\"#DejaVuSans-101\"/>\r\n       <use x=\"113.623047\" xlink:href=\"#DejaVuSans-108\"/>\r\n       <use x=\"141.40625\" xlink:href=\"#DejaVuSans-108\"/>\r\n       <use x=\"169.189453\" xlink:href=\"#DejaVuSans-95\"/>\r\n       <use x=\"219.189453\" xlink:href=\"#DejaVuSans-98\"/>\r\n       <use x=\"282.666016\" xlink:href=\"#DejaVuSans-117\"/>\r\n       <use x=\"346.044922\" xlink:href=\"#DejaVuSans-121\"/>\r\n      </g>\r\n     </g>\r\n    </g>\r\n    <g id=\"ytick_6\">\r\n     <g id=\"line2d_25\">\r\n      <g>\r\n       <use style=\"stroke:#000000;stroke-width:0.8;\" x=\"108.435938\" xlink:href=\"#m0d23bb7ddb\" y=\"247.036061\"/>\r\n      </g>\r\n     </g>\r\n     <g id=\"text_25\">\r\n      <!-- order_code -->\r\n      <g transform=\"translate(45.65 250.83528)scale(0.1 -0.1)\">\r\n       <use xlink:href=\"#DejaVuSans-111\"/>\r\n       <use x=\"61.181641\" xlink:href=\"#DejaVuSans-114\"/>\r\n       <use x=\"100.544922\" xlink:href=\"#DejaVuSans-100\"/>\r\n       <use x=\"164.021484\" xlink:href=\"#DejaVuSans-101\"/>\r\n       <use x=\"225.544922\" xlink:href=\"#DejaVuSans-114\"/>\r\n       <use x=\"266.658203\" xlink:href=\"#DejaVuSans-95\"/>\r\n       <use x=\"316.658203\" xlink:href=\"#DejaVuSans-99\"/>\r\n       <use x=\"371.638672\" xlink:href=\"#DejaVuSans-111\"/>\r\n       <use x=\"432.820312\" xlink:href=\"#DejaVuSans-100\"/>\r\n       <use x=\"496.296875\" xlink:href=\"#DejaVuSans-101\"/>\r\n      </g>\r\n     </g>\r\n    </g>\r\n    <g id=\"ytick_7\">\r\n     <g id=\"line2d_26\">\r\n      <g>\r\n       <use style=\"stroke:#000000;stroke-width:0.8;\" x=\"108.435938\" xlink:href=\"#m0d23bb7ddb\" y=\"289.95185\"/>\r\n      </g>\r\n     </g>\r\n     <g id=\"text_26\">\r\n      <!-- order_price -->\r\n      <g transform=\"translate(44.879688 293.751069)scale(0.1 -0.1)\">\r\n       <use xlink:href=\"#DejaVuSans-111\"/>\r\n       <use x=\"61.181641\" xlink:href=\"#DejaVuSans-114\"/>\r\n       <use x=\"100.544922\" xlink:href=\"#DejaVuSans-100\"/>\r\n       <use x=\"164.021484\" xlink:href=\"#DejaVuSans-101\"/>\r\n       <use x=\"225.544922\" xlink:href=\"#DejaVuSans-114\"/>\r\n       <use x=\"266.658203\" xlink:href=\"#DejaVuSans-95\"/>\r\n       <use x=\"316.658203\" xlink:href=\"#DejaVuSans-112\"/>\r\n       <use x=\"380.134766\" xlink:href=\"#DejaVuSans-114\"/>\r\n       <use x=\"421.248047\" xlink:href=\"#DejaVuSans-105\"/>\r\n       <use x=\"449.03125\" xlink:href=\"#DejaVuSans-99\"/>\r\n       <use x=\"504.011719\" xlink:href=\"#DejaVuSans-101\"/>\r\n      </g>\r\n     </g>\r\n    </g>\r\n    <g id=\"ytick_8\">\r\n     <g id=\"line2d_27\">\r\n      <g>\r\n       <use style=\"stroke:#000000;stroke-width:0.8;\" x=\"108.435938\" xlink:href=\"#m0d23bb7ddb\" y=\"332.86764\"/>\r\n      </g>\r\n     </g>\r\n     <g id=\"text_27\">\r\n      <!-- order_volume -->\r\n      <g transform=\"translate(32.721875 336.666859)scale(0.1 -0.1)\">\r\n       <use xlink:href=\"#DejaVuSans-111\"/>\r\n       <use x=\"61.181641\" xlink:href=\"#DejaVuSans-114\"/>\r\n       <use x=\"100.544922\" xlink:href=\"#DejaVuSans-100\"/>\r\n       <use x=\"164.021484\" xlink:href=\"#DejaVuSans-101\"/>\r\n       <use x=\"225.544922\" xlink:href=\"#DejaVuSans-114\"/>\r\n       <use x=\"266.658203\" xlink:href=\"#DejaVuSans-95\"/>\r\n       <use x=\"316.658203\" xlink:href=\"#DejaVuSans-118\"/>\r\n       <use x=\"375.837891\" xlink:href=\"#DejaVuSans-111\"/>\r\n       <use x=\"437.019531\" xlink:href=\"#DejaVuSans-108\"/>\r\n       <use x=\"464.802734\" xlink:href=\"#DejaVuSans-117\"/>\r\n       <use x=\"528.181641\" xlink:href=\"#DejaVuSans-109\"/>\r\n       <use x=\"625.59375\" xlink:href=\"#DejaVuSans-101\"/>\r\n      </g>\r\n     </g>\r\n    </g>\r\n    <g id=\"ytick_9\">\r\n     <g id=\"line2d_28\">\r\n      <g>\r\n       <use style=\"stroke:#000000;stroke-width:0.8;\" x=\"108.435938\" xlink:href=\"#m0d23bb7ddb\" y=\"375.783429\"/>\r\n      </g>\r\n     </g>\r\n     <g id=\"text_28\">\r\n      <!-- true_order_volume -->\r\n      <g transform=\"translate(7.2 379.582648)scale(0.1 -0.1)\">\r\n       <use xlink:href=\"#DejaVuSans-116\"/>\r\n       <use x=\"39.208984\" xlink:href=\"#DejaVuSans-114\"/>\r\n       <use x=\"80.322266\" xlink:href=\"#DejaVuSans-117\"/>\r\n       <use x=\"143.701172\" xlink:href=\"#DejaVuSans-101\"/>\r\n       <use x=\"205.224609\" xlink:href=\"#DejaVuSans-95\"/>\r\n       <use x=\"255.224609\" xlink:href=\"#DejaVuSans-111\"/>\r\n       <use x=\"316.40625\" xlink:href=\"#DejaVuSans-114\"/>\r\n       <use x=\"355.769531\" xlink:href=\"#DejaVuSans-100\"/>\r\n       <use x=\"419.246094\" xlink:href=\"#DejaVuSans-101\"/>\r\n       <use x=\"480.769531\" xlink:href=\"#DejaVuSans-114\"/>\r\n       <use x=\"521.882812\" xlink:href=\"#DejaVuSans-95\"/>\r\n       <use x=\"571.882812\" xlink:href=\"#DejaVuSans-118\"/>\r\n       <use x=\"631.0625\" xlink:href=\"#DejaVuSans-111\"/>\r\n       <use x=\"692.244141\" xlink:href=\"#DejaVuSans-108\"/>\r\n       <use x=\"720.027344\" xlink:href=\"#DejaVuSans-117\"/>\r\n       <use x=\"783.40625\" xlink:href=\"#DejaVuSans-109\"/>\r\n       <use x=\"880.818359\" xlink:href=\"#DejaVuSans-101\"/>\r\n      </g>\r\n     </g>\r\n    </g>\r\n    <g id=\"ytick_10\">\r\n     <g id=\"line2d_29\">\r\n      <g>\r\n       <use style=\"stroke:#000000;stroke-width:0.8;\" x=\"108.435938\" xlink:href=\"#m0d23bb7ddb\" y=\"418.699219\"/>\r\n      </g>\r\n     </g>\r\n     <g id=\"text_29\">\r\n      <!-- true_order_price -->\r\n      <g transform=\"translate(19.357813 422.498438)scale(0.1 -0.1)\">\r\n       <use xlink:href=\"#DejaVuSans-116\"/>\r\n       <use x=\"39.208984\" xlink:href=\"#DejaVuSans-114\"/>\r\n       <use x=\"80.322266\" xlink:href=\"#DejaVuSans-117\"/>\r\n       <use x=\"143.701172\" xlink:href=\"#DejaVuSans-101\"/>\r\n       <use x=\"205.224609\" xlink:href=\"#DejaVuSans-95\"/>\r\n       <use x=\"255.224609\" xlink:href=\"#DejaVuSans-111\"/>\r\n       <use x=\"316.40625\" xlink:href=\"#DejaVuSans-114\"/>\r\n       <use x=\"355.769531\" xlink:href=\"#DejaVuSans-100\"/>\r\n       <use x=\"419.246094\" xlink:href=\"#DejaVuSans-101\"/>\r\n       <use x=\"480.769531\" xlink:href=\"#DejaVuSans-114\"/>\r\n       <use x=\"521.882812\" xlink:href=\"#DejaVuSans-95\"/>\r\n       <use x=\"571.882812\" xlink:href=\"#DejaVuSans-112\"/>\r\n       <use x=\"635.359375\" xlink:href=\"#DejaVuSans-114\"/>\r\n       <use x=\"676.472656\" xlink:href=\"#DejaVuSans-105\"/>\r\n       <use x=\"704.255859\" xlink:href=\"#DejaVuSans-99\"/>\r\n       <use x=\"759.236328\" xlink:href=\"#DejaVuSans-101\"/>\r\n      </g>\r\n     </g>\r\n    </g>\r\n    <g id=\"ytick_11\">\r\n     <g id=\"line2d_30\">\r\n      <g>\r\n       <use style=\"stroke:#000000;stroke-width:0.8;\" x=\"108.435938\" xlink:href=\"#m0d23bb7ddb\" y=\"461.615008\"/>\r\n      </g>\r\n     </g>\r\n     <g id=\"text_30\">\r\n      <!-- before_close -->\r\n      <g transform=\"translate(38.498438 465.414227)scale(0.1 -0.1)\">\r\n       <use xlink:href=\"#DejaVuSans-98\"/>\r\n       <use x=\"63.476562\" xlink:href=\"#DejaVuSans-101\"/>\r\n       <use x=\"125\" xlink:href=\"#DejaVuSans-102\"/>\r\n       <use x=\"160.205078\" xlink:href=\"#DejaVuSans-111\"/>\r\n       <use x=\"221.386719\" xlink:href=\"#DejaVuSans-114\"/>\r\n       <use x=\"260.25\" xlink:href=\"#DejaVuSans-101\"/>\r\n       <use x=\"321.773438\" xlink:href=\"#DejaVuSans-95\"/>\r\n       <use x=\"371.773438\" xlink:href=\"#DejaVuSans-99\"/>\r\n       <use x=\"426.753906\" xlink:href=\"#DejaVuSans-108\"/>\r\n       <use x=\"454.537109\" xlink:href=\"#DejaVuSans-111\"/>\r\n       <use x=\"515.71875\" xlink:href=\"#DejaVuSans-115\"/>\r\n       <use x=\"567.818359\" xlink:href=\"#DejaVuSans-101\"/>\r\n      </g>\r\n     </g>\r\n    </g>\r\n    <g id=\"ytick_12\">\r\n     <g id=\"line2d_31\">\r\n      <g>\r\n       <use style=\"stroke:#000000;stroke-width:0.8;\" x=\"108.435938\" xlink:href=\"#m0d23bb7ddb\" y=\"504.530798\"/>\r\n      </g>\r\n     </g>\r\n     <g id=\"text_31\">\r\n      <!-- start -->\r\n      <g transform=\"translate(78.146875 508.330016)scale(0.1 -0.1)\">\r\n       <use xlink:href=\"#DejaVuSans-115\"/>\r\n       <use x=\"52.099609\" xlink:href=\"#DejaVuSans-116\"/>\r\n       <use x=\"91.308594\" xlink:href=\"#DejaVuSans-97\"/>\r\n       <use x=\"152.587891\" xlink:href=\"#DejaVuSans-114\"/>\r\n       <use x=\"193.701172\" xlink:href=\"#DejaVuSans-116\"/>\r\n      </g>\r\n     </g>\r\n    </g>\r\n    <g id=\"ytick_13\">\r\n     <g id=\"line2d_32\">\r\n      <g>\r\n       <use style=\"stroke:#000000;stroke-width:0.8;\" x=\"108.435938\" xlink:href=\"#m0d23bb7ddb\" y=\"547.446587\"/>\r\n      </g>\r\n     </g>\r\n     <g id=\"text_32\">\r\n      <!-- high -->\r\n      <g transform=\"translate(79.634375 551.245806)scale(0.1 -0.1)\">\r\n       <use xlink:href=\"#DejaVuSans-104\"/>\r\n       <use x=\"63.378906\" xlink:href=\"#DejaVuSans-105\"/>\r\n       <use x=\"91.162109\" xlink:href=\"#DejaVuSans-103\"/>\r\n       <use x=\"154.638672\" xlink:href=\"#DejaVuSans-104\"/>\r\n      </g>\r\n     </g>\r\n    </g>\r\n    <g id=\"ytick_14\">\r\n     <g id=\"line2d_33\">\r\n      <g>\r\n       <use style=\"stroke:#000000;stroke-width:0.8;\" x=\"108.435938\" xlink:href=\"#m0d23bb7ddb\" y=\"590.362377\"/>\r\n      </g>\r\n     </g>\r\n     <g id=\"text_33\">\r\n      <!-- low -->\r\n      <g transform=\"translate(84.360938 594.161595)scale(0.1 -0.1)\">\r\n       <use xlink:href=\"#DejaVuSans-108\"/>\r\n       <use x=\"27.783203\" xlink:href=\"#DejaVuSans-111\"/>\r\n       <use x=\"88.964844\" xlink:href=\"#DejaVuSans-119\"/>\r\n      </g>\r\n     </g>\r\n    </g>\r\n    <g id=\"ytick_15\">\r\n     <g id=\"line2d_34\">\r\n      <g>\r\n       <use style=\"stroke:#000000;stroke-width:0.8;\" x=\"108.435938\" xlink:href=\"#m0d23bb7ddb\" y=\"633.278166\"/>\r\n      </g>\r\n     </g>\r\n     <g id=\"text_34\">\r\n      <!-- close -->\r\n      <g transform=\"translate(75.678125 637.077385)scale(0.1 -0.1)\">\r\n       <use xlink:href=\"#DejaVuSans-99\"/>\r\n       <use x=\"54.980469\" xlink:href=\"#DejaVuSans-108\"/>\r\n       <use x=\"82.763672\" xlink:href=\"#DejaVuSans-111\"/>\r\n       <use x=\"143.945312\" xlink:href=\"#DejaVuSans-115\"/>\r\n       <use x=\"196.044922\" xlink:href=\"#DejaVuSans-101\"/>\r\n      </g>\r\n     </g>\r\n    </g>\r\n    <g id=\"ytick_16\">\r\n     <g id=\"line2d_35\">\r\n      <g>\r\n       <use style=\"stroke:#000000;stroke-width:0.8;\" x=\"108.435938\" xlink:href=\"#m0d23bb7ddb\" y=\"676.193956\"/>\r\n      </g>\r\n     </g>\r\n     <g id=\"text_35\">\r\n      <!-- volume -->\r\n      <g transform=\"translate(64.389063 679.993174)scale(0.1 -0.1)\">\r\n       <use xlink:href=\"#DejaVuSans-118\"/>\r\n       <use x=\"59.179688\" xlink:href=\"#DejaVuSans-111\"/>\r\n       <use x=\"120.361328\" xlink:href=\"#DejaVuSans-108\"/>\r\n       <use x=\"148.144531\" xlink:href=\"#DejaVuSans-117\"/>\r\n       <use x=\"211.523438\" xlink:href=\"#DejaVuSans-109\"/>\r\n       <use x=\"308.935547\" xlink:href=\"#DejaVuSans-101\"/>\r\n      </g>\r\n     </g>\r\n    </g>\r\n    <g id=\"ytick_17\">\r\n     <g id=\"line2d_36\">\r\n      <g>\r\n       <use style=\"stroke:#000000;stroke-width:0.8;\" x=\"108.435938\" xlink:href=\"#m0d23bb7ddb\" y=\"719.109745\"/>\r\n      </g>\r\n     </g>\r\n     <g id=\"text_36\">\r\n      <!-- volume_price -->\r\n      <g transform=\"translate(34.5 722.908964)scale(0.1 -0.1)\">\r\n       <use xlink:href=\"#DejaVuSans-118\"/>\r\n       <use x=\"59.179688\" xlink:href=\"#DejaVuSans-111\"/>\r\n       <use x=\"120.361328\" xlink:href=\"#DejaVuSans-108\"/>\r\n       <use x=\"148.144531\" xlink:href=\"#DejaVuSans-117\"/>\r\n       <use x=\"211.523438\" xlink:href=\"#DejaVuSans-109\"/>\r\n       <use x=\"308.935547\" xlink:href=\"#DejaVuSans-101\"/>\r\n       <use x=\"370.458984\" xlink:href=\"#DejaVuSans-95\"/>\r\n       <use x=\"420.458984\" xlink:href=\"#DejaVuSans-112\"/>\r\n       <use x=\"483.935547\" xlink:href=\"#DejaVuSans-114\"/>\r\n       <use x=\"525.048828\" xlink:href=\"#DejaVuSans-105\"/>\r\n       <use x=\"552.832031\" xlink:href=\"#DejaVuSans-99\"/>\r\n       <use x=\"607.8125\" xlink:href=\"#DejaVuSans-101\"/>\r\n      </g>\r\n     </g>\r\n    </g>\r\n    <g id=\"ytick_18\">\r\n     <g id=\"line2d_37\">\r\n      <g>\r\n       <use style=\"stroke:#000000;stroke-width:0.8;\" x=\"108.435938\" xlink:href=\"#m0d23bb7ddb\" y=\"762.025535\"/>\r\n      </g>\r\n     </g>\r\n     <g id=\"text_37\">\r\n      <!-- week -->\r\n      <g transform=\"translate(75.160938 765.824753)scale(0.1 -0.1)\">\r\n       <use xlink:href=\"#DejaVuSans-119\"/>\r\n       <use x=\"81.787109\" xlink:href=\"#DejaVuSans-101\"/>\r\n       <use x=\"143.310547\" xlink:href=\"#DejaVuSans-101\"/>\r\n       <use x=\"204.833984\" xlink:href=\"#DejaVuSans-107\"/>\r\n      </g>\r\n     </g>\r\n    </g>\r\n    <g id=\"ytick_19\">\r\n     <g id=\"line2d_38\">\r\n      <g>\r\n       <use style=\"stroke:#000000;stroke-width:0.8;\" x=\"108.435938\" xlink:href=\"#m0d23bb7ddb\" y=\"804.941324\"/>\r\n      </g>\r\n     </g>\r\n     <g id=\"text_38\">\r\n      <!-- weekday -->\r\n      <g transform=\"translate(56.765625 808.740543)scale(0.1 -0.1)\">\r\n       <use xlink:href=\"#DejaVuSans-119\"/>\r\n       <use x=\"81.787109\" xlink:href=\"#DejaVuSans-101\"/>\r\n       <use x=\"143.310547\" xlink:href=\"#DejaVuSans-101\"/>\r\n       <use x=\"204.833984\" xlink:href=\"#DejaVuSans-107\"/>\r\n       <use x=\"262.744141\" xlink:href=\"#DejaVuSans-100\"/>\r\n       <use x=\"326.220703\" xlink:href=\"#DejaVuSans-97\"/>\r\n       <use x=\"387.5\" xlink:href=\"#DejaVuSans-121\"/>\r\n      </g>\r\n     </g>\r\n    </g>\r\n   </g>\r\n   <g id=\"text_39\">\r\n    <!-- 1 -->\r\n    <g style=\"fill:#ffffff;\" transform=\"translate(122.87574 35.216488)scale(0.1 -0.1)\">\r\n     <defs>\r\n      <path d=\"M 12.40625 8.296875 \r\nL 28.515625 8.296875 \r\nL 28.515625 63.921875 \r\nL 10.984375 60.40625 \r\nL 10.984375 69.390625 \r\nL 28.421875 72.90625 \r\nL 38.28125 72.90625 \r\nL 38.28125 8.296875 \r\nL 54.390625 8.296875 \r\nL 54.390625 0 \r\nL 12.40625 0 \r\nz\r\n\" id=\"DejaVuSans-49\"/>\r\n     </defs>\r\n     <use xlink:href=\"#DejaVuSans-49\"/>\r\n    </g>\r\n   </g>\r\n   <g id=\"text_40\">\r\n    <!-- 0.064 -->\r\n    <g style=\"fill:#262626;\" transform=\"translate(146.985033 35.216488)scale(0.1 -0.1)\">\r\n     <defs>\r\n      <path d=\"M 31.78125 66.40625 \r\nQ 24.171875 66.40625 20.328125 58.90625 \r\nQ 16.5 51.421875 16.5 36.375 \r\nQ 16.5 21.390625 20.328125 13.890625 \r\nQ 24.171875 6.390625 31.78125 6.390625 \r\nQ 39.453125 6.390625 43.28125 13.890625 \r\nQ 47.125 21.390625 47.125 36.375 \r\nQ 47.125 51.421875 43.28125 58.90625 \r\nQ 39.453125 66.40625 31.78125 66.40625 \r\nz\r\nM 31.78125 74.21875 \r\nQ 44.046875 74.21875 50.515625 64.515625 \r\nQ 56.984375 54.828125 56.984375 36.375 \r\nQ 56.984375 17.96875 50.515625 8.265625 \r\nQ 44.046875 -1.421875 31.78125 -1.421875 \r\nQ 19.53125 -1.421875 13.0625 8.265625 \r\nQ 6.59375 17.96875 6.59375 36.375 \r\nQ 6.59375 54.828125 13.0625 64.515625 \r\nQ 19.53125 74.21875 31.78125 74.21875 \r\nz\r\n\" id=\"DejaVuSans-48\"/>\r\n      <path d=\"M 10.6875 12.40625 \r\nL 21 12.40625 \r\nL 21 0 \r\nL 10.6875 0 \r\nz\r\n\" id=\"DejaVuSans-46\"/>\r\n      <path d=\"M 33.015625 40.375 \r\nQ 26.375 40.375 22.484375 35.828125 \r\nQ 18.609375 31.296875 18.609375 23.390625 \r\nQ 18.609375 15.53125 22.484375 10.953125 \r\nQ 26.375 6.390625 33.015625 6.390625 \r\nQ 39.65625 6.390625 43.53125 10.953125 \r\nQ 47.40625 15.53125 47.40625 23.390625 \r\nQ 47.40625 31.296875 43.53125 35.828125 \r\nQ 39.65625 40.375 33.015625 40.375 \r\nz\r\nM 52.59375 71.296875 \r\nL 52.59375 62.3125 \r\nQ 48.875 64.0625 45.09375 64.984375 \r\nQ 41.3125 65.921875 37.59375 65.921875 \r\nQ 27.828125 65.921875 22.671875 59.328125 \r\nQ 17.53125 52.734375 16.796875 39.40625 \r\nQ 19.671875 43.65625 24.015625 45.921875 \r\nQ 28.375 48.1875 33.59375 48.1875 \r\nQ 44.578125 48.1875 50.953125 41.515625 \r\nQ 57.328125 34.859375 57.328125 23.390625 \r\nQ 57.328125 12.15625 50.6875 5.359375 \r\nQ 44.046875 -1.421875 33.015625 -1.421875 \r\nQ 20.359375 -1.421875 13.671875 8.265625 \r\nQ 6.984375 17.96875 6.984375 36.375 \r\nQ 6.984375 53.65625 15.1875 63.9375 \r\nQ 23.390625 74.21875 37.203125 74.21875 \r\nQ 40.921875 74.21875 44.703125 73.484375 \r\nQ 48.484375 72.75 52.59375 71.296875 \r\nz\r\n\" id=\"DejaVuSans-54\"/>\r\n      <path d=\"M 37.796875 64.3125 \r\nL 12.890625 25.390625 \r\nL 37.796875 25.390625 \r\nz\r\nM 35.203125 72.90625 \r\nL 47.609375 72.90625 \r\nL 47.609375 25.390625 \r\nL 58.015625 25.390625 \r\nL 58.015625 17.1875 \r\nL 47.609375 17.1875 \r\nL 47.609375 0 \r\nL 37.796875 0 \r\nL 37.796875 17.1875 \r\nL 4.890625 17.1875 \r\nL 4.890625 26.703125 \r\nz\r\n\" id=\"DejaVuSans-52\"/>\r\n     </defs>\r\n     <use xlink:href=\"#DejaVuSans-48\"/>\r\n     <use x=\"63.623047\" xlink:href=\"#DejaVuSans-46\"/>\r\n     <use x=\"95.410156\" xlink:href=\"#DejaVuSans-48\"/>\r\n     <use x=\"159.033203\" xlink:href=\"#DejaVuSans-54\"/>\r\n     <use x=\"222.65625\" xlink:href=\"#DejaVuSans-52\"/>\r\n    </g>\r\n   </g>\r\n   <g id=\"text_41\">\r\n    <!-- -0.012 -->\r\n    <g style=\"fill:#262626;\" transform=\"translate(180.423232 35.216488)scale(0.1 -0.1)\">\r\n     <defs>\r\n      <path d=\"M 4.890625 31.390625 \r\nL 31.203125 31.390625 \r\nL 31.203125 23.390625 \r\nL 4.890625 23.390625 \r\nz\r\n\" id=\"DejaVuSans-45\"/>\r\n      <path d=\"M 19.1875 8.296875 \r\nL 53.609375 8.296875 \r\nL 53.609375 0 \r\nL 7.328125 0 \r\nL 7.328125 8.296875 \r\nQ 12.9375 14.109375 22.625 23.890625 \r\nQ 32.328125 33.6875 34.8125 36.53125 \r\nQ 39.546875 41.84375 41.421875 45.53125 \r\nQ 43.3125 49.21875 43.3125 52.78125 \r\nQ 43.3125 58.59375 39.234375 62.25 \r\nQ 35.15625 65.921875 28.609375 65.921875 \r\nQ 23.96875 65.921875 18.8125 64.3125 \r\nQ 13.671875 62.703125 7.8125 59.421875 \r\nL 7.8125 69.390625 \r\nQ 13.765625 71.78125 18.9375 73 \r\nQ 24.125 74.21875 28.421875 74.21875 \r\nQ 39.75 74.21875 46.484375 68.546875 \r\nQ 53.21875 62.890625 53.21875 53.421875 \r\nQ 53.21875 48.921875 51.53125 44.890625 \r\nQ 49.859375 40.875 45.40625 35.40625 \r\nQ 44.1875 33.984375 37.640625 27.21875 \r\nQ 31.109375 20.453125 19.1875 8.296875 \r\nz\r\n\" id=\"DejaVuSans-50\"/>\r\n     </defs>\r\n     <use xlink:href=\"#DejaVuSans-45\"/>\r\n     <use x=\"36.083984\" xlink:href=\"#DejaVuSans-48\"/>\r\n     <use x=\"99.707031\" xlink:href=\"#DejaVuSans-46\"/>\r\n     <use x=\"131.494141\" xlink:href=\"#DejaVuSans-48\"/>\r\n     <use x=\"195.117188\" xlink:href=\"#DejaVuSans-49\"/>\r\n     <use x=\"258.740234\" xlink:href=\"#DejaVuSans-50\"/>\r\n    </g>\r\n   </g>\r\n   <g id=\"text_42\">\r\n    <!-- -0.019 -->\r\n    <g style=\"fill:#262626;\" transform=\"translate(215.665337 35.216488)scale(0.1 -0.1)\">\r\n     <defs>\r\n      <path d=\"M 10.984375 1.515625 \r\nL 10.984375 10.5 \r\nQ 14.703125 8.734375 18.5 7.8125 \r\nQ 22.3125 6.890625 25.984375 6.890625 \r\nQ 35.75 6.890625 40.890625 13.453125 \r\nQ 46.046875 20.015625 46.78125 33.40625 \r\nQ 43.953125 29.203125 39.59375 26.953125 \r\nQ 35.25 24.703125 29.984375 24.703125 \r\nQ 19.046875 24.703125 12.671875 31.3125 \r\nQ 6.296875 37.9375 6.296875 49.421875 \r\nQ 6.296875 60.640625 12.9375 67.421875 \r\nQ 19.578125 74.21875 30.609375 74.21875 \r\nQ 43.265625 74.21875 49.921875 64.515625 \r\nQ 56.59375 54.828125 56.59375 36.375 \r\nQ 56.59375 19.140625 48.40625 8.859375 \r\nQ 40.234375 -1.421875 26.421875 -1.421875 \r\nQ 22.703125 -1.421875 18.890625 -0.6875 \r\nQ 15.09375 0.046875 10.984375 1.515625 \r\nz\r\nM 30.609375 32.421875 \r\nQ 37.25 32.421875 41.125 36.953125 \r\nQ 45.015625 41.5 45.015625 49.421875 \r\nQ 45.015625 57.28125 41.125 61.84375 \r\nQ 37.25 66.40625 30.609375 66.40625 \r\nQ 23.96875 66.40625 20.09375 61.84375 \r\nQ 16.21875 57.28125 16.21875 49.421875 \r\nQ 16.21875 41.5 20.09375 36.953125 \r\nQ 23.96875 32.421875 30.609375 32.421875 \r\nz\r\n\" id=\"DejaVuSans-57\"/>\r\n     </defs>\r\n     <use xlink:href=\"#DejaVuSans-45\"/>\r\n     <use x=\"36.083984\" xlink:href=\"#DejaVuSans-48\"/>\r\n     <use x=\"99.707031\" xlink:href=\"#DejaVuSans-46\"/>\r\n     <use x=\"131.494141\" xlink:href=\"#DejaVuSans-48\"/>\r\n     <use x=\"195.117188\" xlink:href=\"#DejaVuSans-49\"/>\r\n     <use x=\"258.740234\" xlink:href=\"#DejaVuSans-57\"/>\r\n    </g>\r\n   </g>\r\n   <g id=\"text_43\">\r\n    <!-- 0.046 -->\r\n    <g style=\"fill:#262626;\" transform=\"translate(252.711349 35.216488)scale(0.1 -0.1)\">\r\n     <use xlink:href=\"#DejaVuSans-48\"/>\r\n     <use x=\"63.623047\" xlink:href=\"#DejaVuSans-46\"/>\r\n     <use x=\"95.410156\" xlink:href=\"#DejaVuSans-48\"/>\r\n     <use x=\"159.033203\" xlink:href=\"#DejaVuSans-52\"/>\r\n     <use x=\"222.65625\" xlink:href=\"#DejaVuSans-54\"/>\r\n    </g>\r\n   </g>\r\n   <g id=\"text_44\">\r\n    <!-- -0.062 -->\r\n    <g style=\"fill:#262626;\" transform=\"translate(286.149548 35.216488)scale(0.1 -0.1)\">\r\n     <use xlink:href=\"#DejaVuSans-45\"/>\r\n     <use x=\"36.083984\" xlink:href=\"#DejaVuSans-48\"/>\r\n     <use x=\"99.707031\" xlink:href=\"#DejaVuSans-46\"/>\r\n     <use x=\"131.494141\" xlink:href=\"#DejaVuSans-48\"/>\r\n     <use x=\"195.117188\" xlink:href=\"#DejaVuSans-54\"/>\r\n     <use x=\"258.740234\" xlink:href=\"#DejaVuSans-50\"/>\r\n    </g>\r\n   </g>\r\n   <g id=\"text_45\">\r\n    <!-- 0.047 -->\r\n    <g style=\"fill:#262626;\" transform=\"translate(323.195559 35.216488)scale(0.1 -0.1)\">\r\n     <defs>\r\n      <path d=\"M 8.203125 72.90625 \r\nL 55.078125 72.90625 \r\nL 55.078125 68.703125 \r\nL 28.609375 0 \r\nL 18.3125 0 \r\nL 43.21875 64.59375 \r\nL 8.203125 64.59375 \r\nz\r\n\" id=\"DejaVuSans-55\"/>\r\n     </defs>\r\n     <use xlink:href=\"#DejaVuSans-48\"/>\r\n     <use x=\"63.623047\" xlink:href=\"#DejaVuSans-46\"/>\r\n     <use x=\"95.410156\" xlink:href=\"#DejaVuSans-48\"/>\r\n     <use x=\"159.033203\" xlink:href=\"#DejaVuSans-52\"/>\r\n     <use x=\"222.65625\" xlink:href=\"#DejaVuSans-55\"/>\r\n    </g>\r\n   </g>\r\n   <g id=\"text_46\">\r\n    <!-- -0.089 -->\r\n    <g style=\"fill:#262626;\" transform=\"translate(356.633758 35.216488)scale(0.1 -0.1)\">\r\n     <defs>\r\n      <path d=\"M 31.78125 34.625 \r\nQ 24.75 34.625 20.71875 30.859375 \r\nQ 16.703125 27.09375 16.703125 20.515625 \r\nQ 16.703125 13.921875 20.71875 10.15625 \r\nQ 24.75 6.390625 31.78125 6.390625 \r\nQ 38.8125 6.390625 42.859375 10.171875 \r\nQ 46.921875 13.96875 46.921875 20.515625 \r\nQ 46.921875 27.09375 42.890625 30.859375 \r\nQ 38.875 34.625 31.78125 34.625 \r\nz\r\nM 21.921875 38.8125 \r\nQ 15.578125 40.375 12.03125 44.71875 \r\nQ 8.5 49.078125 8.5 55.328125 \r\nQ 8.5 64.0625 14.71875 69.140625 \r\nQ 20.953125 74.21875 31.78125 74.21875 \r\nQ 42.671875 74.21875 48.875 69.140625 \r\nQ 55.078125 64.0625 55.078125 55.328125 \r\nQ 55.078125 49.078125 51.53125 44.71875 \r\nQ 48 40.375 41.703125 38.8125 \r\nQ 48.828125 37.15625 52.796875 32.3125 \r\nQ 56.78125 27.484375 56.78125 20.515625 \r\nQ 56.78125 9.90625 50.3125 4.234375 \r\nQ 43.84375 -1.421875 31.78125 -1.421875 \r\nQ 19.734375 -1.421875 13.25 4.234375 \r\nQ 6.78125 9.90625 6.78125 20.515625 \r\nQ 6.78125 27.484375 10.78125 32.3125 \r\nQ 14.796875 37.15625 21.921875 38.8125 \r\nz\r\nM 18.3125 54.390625 \r\nQ 18.3125 48.734375 21.84375 45.5625 \r\nQ 25.390625 42.390625 31.78125 42.390625 \r\nQ 38.140625 42.390625 41.71875 45.5625 \r\nQ 45.3125 48.734375 45.3125 54.390625 \r\nQ 45.3125 60.0625 41.71875 63.234375 \r\nQ 38.140625 66.40625 31.78125 66.40625 \r\nQ 25.390625 66.40625 21.84375 63.234375 \r\nQ 18.3125 60.0625 18.3125 54.390625 \r\nz\r\n\" id=\"DejaVuSans-56\"/>\r\n     </defs>\r\n     <use xlink:href=\"#DejaVuSans-45\"/>\r\n     <use x=\"36.083984\" xlink:href=\"#DejaVuSans-48\"/>\r\n     <use x=\"99.707031\" xlink:href=\"#DejaVuSans-46\"/>\r\n     <use x=\"131.494141\" xlink:href=\"#DejaVuSans-48\"/>\r\n     <use x=\"195.117188\" xlink:href=\"#DejaVuSans-56\"/>\r\n     <use x=\"258.740234\" xlink:href=\"#DejaVuSans-57\"/>\r\n    </g>\r\n   </g>\r\n   <g id=\"text_47\">\r\n    <!-- -0.09 -->\r\n    <g style=\"fill:#262626;\" transform=\"translate(395.057113 35.216488)scale(0.1 -0.1)\">\r\n     <use xlink:href=\"#DejaVuSans-45\"/>\r\n     <use x=\"36.083984\" xlink:href=\"#DejaVuSans-48\"/>\r\n     <use x=\"99.707031\" xlink:href=\"#DejaVuSans-46\"/>\r\n     <use x=\"131.494141\" xlink:href=\"#DejaVuSans-48\"/>\r\n     <use x=\"195.117188\" xlink:href=\"#DejaVuSans-57\"/>\r\n    </g>\r\n   </g>\r\n   <g id=\"text_48\">\r\n    <!-- -0.099 -->\r\n    <g style=\"fill:#262626;\" transform=\"translate(427.117969 35.216488)scale(0.1 -0.1)\">\r\n     <use xlink:href=\"#DejaVuSans-45\"/>\r\n     <use x=\"36.083984\" xlink:href=\"#DejaVuSans-48\"/>\r\n     <use x=\"99.707031\" xlink:href=\"#DejaVuSans-46\"/>\r\n     <use x=\"131.494141\" xlink:href=\"#DejaVuSans-48\"/>\r\n     <use x=\"195.117188\" xlink:href=\"#DejaVuSans-57\"/>\r\n     <use x=\"258.740234\" xlink:href=\"#DejaVuSans-57\"/>\r\n    </g>\r\n   </g>\r\n   <g id=\"text_49\">\r\n    <!-- 0.048 -->\r\n    <g style=\"fill:#262626;\" transform=\"translate(464.16398 35.216488)scale(0.1 -0.1)\">\r\n     <use xlink:href=\"#DejaVuSans-48\"/>\r\n     <use x=\"63.623047\" xlink:href=\"#DejaVuSans-46\"/>\r\n     <use x=\"95.410156\" xlink:href=\"#DejaVuSans-48\"/>\r\n     <use x=\"159.033203\" xlink:href=\"#DejaVuSans-52\"/>\r\n     <use x=\"222.65625\" xlink:href=\"#DejaVuSans-56\"/>\r\n    </g>\r\n   </g>\r\n   <g id=\"text_50\">\r\n    <!-- 0.049 -->\r\n    <g style=\"fill:#262626;\" transform=\"translate(499.406086 35.216488)scale(0.1 -0.1)\">\r\n     <use xlink:href=\"#DejaVuSans-48\"/>\r\n     <use x=\"63.623047\" xlink:href=\"#DejaVuSans-46\"/>\r\n     <use x=\"95.410156\" xlink:href=\"#DejaVuSans-48\"/>\r\n     <use x=\"159.033203\" xlink:href=\"#DejaVuSans-52\"/>\r\n     <use x=\"222.65625\" xlink:href=\"#DejaVuSans-57\"/>\r\n    </g>\r\n   </g>\r\n   <g id=\"text_51\">\r\n    <!-- 0.048 -->\r\n    <g style=\"fill:#262626;\" transform=\"translate(534.648191 35.216488)scale(0.1 -0.1)\">\r\n     <use xlink:href=\"#DejaVuSans-48\"/>\r\n     <use x=\"63.623047\" xlink:href=\"#DejaVuSans-46\"/>\r\n     <use x=\"95.410156\" xlink:href=\"#DejaVuSans-48\"/>\r\n     <use x=\"159.033203\" xlink:href=\"#DejaVuSans-52\"/>\r\n     <use x=\"222.65625\" xlink:href=\"#DejaVuSans-56\"/>\r\n    </g>\r\n   </g>\r\n   <g id=\"text_52\">\r\n    <!-- 0.049 -->\r\n    <g style=\"fill:#262626;\" transform=\"translate(569.890296 35.216488)scale(0.1 -0.1)\">\r\n     <use xlink:href=\"#DejaVuSans-48\"/>\r\n     <use x=\"63.623047\" xlink:href=\"#DejaVuSans-46\"/>\r\n     <use x=\"95.410156\" xlink:href=\"#DejaVuSans-48\"/>\r\n     <use x=\"159.033203\" xlink:href=\"#DejaVuSans-52\"/>\r\n     <use x=\"222.65625\" xlink:href=\"#DejaVuSans-57\"/>\r\n    </g>\r\n   </g>\r\n   <g id=\"text_53\">\r\n    <!-- 0.048 -->\r\n    <g style=\"fill:#262626;\" transform=\"translate(605.132401 35.216488)scale(0.1 -0.1)\">\r\n     <use xlink:href=\"#DejaVuSans-48\"/>\r\n     <use x=\"63.623047\" xlink:href=\"#DejaVuSans-46\"/>\r\n     <use x=\"95.410156\" xlink:href=\"#DejaVuSans-48\"/>\r\n     <use x=\"159.033203\" xlink:href=\"#DejaVuSans-52\"/>\r\n     <use x=\"222.65625\" xlink:href=\"#DejaVuSans-56\"/>\r\n    </g>\r\n   </g>\r\n   <g id=\"text_54\">\r\n    <!-- -0.012 -->\r\n    <g style=\"fill:#262626;\" transform=\"translate(638.5706 35.216488)scale(0.1 -0.1)\">\r\n     <use xlink:href=\"#DejaVuSans-45\"/>\r\n     <use x=\"36.083984\" xlink:href=\"#DejaVuSans-48\"/>\r\n     <use x=\"99.707031\" xlink:href=\"#DejaVuSans-46\"/>\r\n     <use x=\"131.494141\" xlink:href=\"#DejaVuSans-48\"/>\r\n     <use x=\"195.117188\" xlink:href=\"#DejaVuSans-49\"/>\r\n     <use x=\"258.740234\" xlink:href=\"#DejaVuSans-50\"/>\r\n    </g>\r\n   </g>\r\n   <g id=\"text_55\">\r\n    <!-- 0.034 -->\r\n    <g style=\"fill:#262626;\" transform=\"translate(675.616612 35.216488)scale(0.1 -0.1)\">\r\n     <defs>\r\n      <path d=\"M 40.578125 39.3125 \r\nQ 47.65625 37.796875 51.625 33 \r\nQ 55.609375 28.21875 55.609375 21.1875 \r\nQ 55.609375 10.40625 48.1875 4.484375 \r\nQ 40.765625 -1.421875 27.09375 -1.421875 \r\nQ 22.515625 -1.421875 17.65625 -0.515625 \r\nQ 12.796875 0.390625 7.625 2.203125 \r\nL 7.625 11.71875 \r\nQ 11.71875 9.328125 16.59375 8.109375 \r\nQ 21.484375 6.890625 26.8125 6.890625 \r\nQ 36.078125 6.890625 40.9375 10.546875 \r\nQ 45.796875 14.203125 45.796875 21.1875 \r\nQ 45.796875 27.640625 41.28125 31.265625 \r\nQ 36.765625 34.90625 28.71875 34.90625 \r\nL 20.21875 34.90625 \r\nL 20.21875 43.015625 \r\nL 29.109375 43.015625 \r\nQ 36.375 43.015625 40.234375 45.921875 \r\nQ 44.09375 48.828125 44.09375 54.296875 \r\nQ 44.09375 59.90625 40.109375 62.90625 \r\nQ 36.140625 65.921875 28.71875 65.921875 \r\nQ 24.65625 65.921875 20.015625 65.03125 \r\nQ 15.375 64.15625 9.8125 62.3125 \r\nL 9.8125 71.09375 \r\nQ 15.4375 72.65625 20.34375 73.4375 \r\nQ 25.25 74.21875 29.59375 74.21875 \r\nQ 40.828125 74.21875 47.359375 69.109375 \r\nQ 53.90625 64.015625 53.90625 55.328125 \r\nQ 53.90625 49.265625 50.4375 45.09375 \r\nQ 46.96875 40.921875 40.578125 39.3125 \r\nz\r\n\" id=\"DejaVuSans-51\"/>\r\n     </defs>\r\n     <use xlink:href=\"#DejaVuSans-48\"/>\r\n     <use x=\"63.623047\" xlink:href=\"#DejaVuSans-46\"/>\r\n     <use x=\"95.410156\" xlink:href=\"#DejaVuSans-48\"/>\r\n     <use x=\"159.033203\" xlink:href=\"#DejaVuSans-51\"/>\r\n     <use x=\"222.65625\" xlink:href=\"#DejaVuSans-52\"/>\r\n    </g>\r\n   </g>\r\n   <g id=\"text_56\">\r\n    <!-- -0.0029 -->\r\n    <g style=\"fill:#262626;\" transform=\"translate(705.873561 35.216488)scale(0.1 -0.1)\">\r\n     <use xlink:href=\"#DejaVuSans-45\"/>\r\n     <use x=\"36.083984\" xlink:href=\"#DejaVuSans-48\"/>\r\n     <use x=\"99.707031\" xlink:href=\"#DejaVuSans-46\"/>\r\n     <use x=\"131.494141\" xlink:href=\"#DejaVuSans-48\"/>\r\n     <use x=\"195.117188\" xlink:href=\"#DejaVuSans-48\"/>\r\n     <use x=\"258.740234\" xlink:href=\"#DejaVuSans-50\"/>\r\n     <use x=\"322.363281\" xlink:href=\"#DejaVuSans-57\"/>\r\n    </g>\r\n   </g>\r\n   <g id=\"text_57\">\r\n    <!-- -0.0031 -->\r\n    <g style=\"fill:#262626;\" transform=\"translate(741.115666 35.216488)scale(0.1 -0.1)\">\r\n     <use xlink:href=\"#DejaVuSans-45\"/>\r\n     <use x=\"36.083984\" xlink:href=\"#DejaVuSans-48\"/>\r\n     <use x=\"99.707031\" xlink:href=\"#DejaVuSans-46\"/>\r\n     <use x=\"131.494141\" xlink:href=\"#DejaVuSans-48\"/>\r\n     <use x=\"195.117188\" xlink:href=\"#DejaVuSans-48\"/>\r\n     <use x=\"258.740234\" xlink:href=\"#DejaVuSans-51\"/>\r\n     <use x=\"322.363281\" xlink:href=\"#DejaVuSans-49\"/>\r\n    </g>\r\n   </g>\r\n   <g id=\"text_58\">\r\n    <!-- 0.064 -->\r\n    <g style=\"fill:#262626;\" transform=\"translate(111.742928 78.132278)scale(0.1 -0.1)\">\r\n     <use xlink:href=\"#DejaVuSans-48\"/>\r\n     <use x=\"63.623047\" xlink:href=\"#DejaVuSans-46\"/>\r\n     <use x=\"95.410156\" xlink:href=\"#DejaVuSans-48\"/>\r\n     <use x=\"159.033203\" xlink:href=\"#DejaVuSans-54\"/>\r\n     <use x=\"222.65625\" xlink:href=\"#DejaVuSans-52\"/>\r\n    </g>\r\n   </g>\r\n   <g id=\"text_59\">\r\n    <!-- 1 -->\r\n    <g style=\"fill:#ffffff;\" transform=\"translate(158.117845 78.132278)scale(0.1 -0.1)\">\r\n     <use xlink:href=\"#DejaVuSans-49\"/>\r\n    </g>\r\n   </g>\r\n   <g id=\"text_60\">\r\n    <!-- 0.012 -->\r\n    <g style=\"fill:#262626;\" transform=\"translate(182.227138 78.132278)scale(0.1 -0.1)\">\r\n     <use xlink:href=\"#DejaVuSans-48\"/>\r\n     <use x=\"63.623047\" xlink:href=\"#DejaVuSans-46\"/>\r\n     <use x=\"95.410156\" xlink:href=\"#DejaVuSans-48\"/>\r\n     <use x=\"159.033203\" xlink:href=\"#DejaVuSans-49\"/>\r\n     <use x=\"222.65625\" xlink:href=\"#DejaVuSans-50\"/>\r\n    </g>\r\n   </g>\r\n   <g id=\"text_61\">\r\n    <!-- -0.045 -->\r\n    <g style=\"fill:#262626;\" transform=\"translate(215.665337 78.132278)scale(0.1 -0.1)\">\r\n     <defs>\r\n      <path d=\"M 10.796875 72.90625 \r\nL 49.515625 72.90625 \r\nL 49.515625 64.59375 \r\nL 19.828125 64.59375 \r\nL 19.828125 46.734375 \r\nQ 21.96875 47.46875 24.109375 47.828125 \r\nQ 26.265625 48.1875 28.421875 48.1875 \r\nQ 40.625 48.1875 47.75 41.5 \r\nQ 54.890625 34.8125 54.890625 23.390625 \r\nQ 54.890625 11.625 47.5625 5.09375 \r\nQ 40.234375 -1.421875 26.90625 -1.421875 \r\nQ 22.3125 -1.421875 17.546875 -0.640625 \r\nQ 12.796875 0.140625 7.71875 1.703125 \r\nL 7.71875 11.625 \r\nQ 12.109375 9.234375 16.796875 8.0625 \r\nQ 21.484375 6.890625 26.703125 6.890625 \r\nQ 35.15625 6.890625 40.078125 11.328125 \r\nQ 45.015625 15.765625 45.015625 23.390625 \r\nQ 45.015625 31 40.078125 35.4375 \r\nQ 35.15625 39.890625 26.703125 39.890625 \r\nQ 22.75 39.890625 18.8125 39.015625 \r\nQ 14.890625 38.140625 10.796875 36.28125 \r\nz\r\n\" id=\"DejaVuSans-53\"/>\r\n     </defs>\r\n     <use xlink:href=\"#DejaVuSans-45\"/>\r\n     <use x=\"36.083984\" xlink:href=\"#DejaVuSans-48\"/>\r\n     <use x=\"99.707031\" xlink:href=\"#DejaVuSans-46\"/>\r\n     <use x=\"131.494141\" xlink:href=\"#DejaVuSans-48\"/>\r\n     <use x=\"195.117188\" xlink:href=\"#DejaVuSans-52\"/>\r\n     <use x=\"258.740234\" xlink:href=\"#DejaVuSans-53\"/>\r\n    </g>\r\n   </g>\r\n   <g id=\"text_62\">\r\n    <!-- 0.052 -->\r\n    <g style=\"fill:#262626;\" transform=\"translate(252.711349 78.132278)scale(0.1 -0.1)\">\r\n     <use xlink:href=\"#DejaVuSans-48\"/>\r\n     <use x=\"63.623047\" xlink:href=\"#DejaVuSans-46\"/>\r\n     <use x=\"95.410156\" xlink:href=\"#DejaVuSans-48\"/>\r\n     <use x=\"159.033203\" xlink:href=\"#DejaVuSans-53\"/>\r\n     <use x=\"222.65625\" xlink:href=\"#DejaVuSans-50\"/>\r\n    </g>\r\n   </g>\r\n   <g id=\"text_63\">\r\n    <!-- 0.009 -->\r\n    <g style=\"fill:#262626;\" transform=\"translate(287.953454 78.132278)scale(0.1 -0.1)\">\r\n     <use xlink:href=\"#DejaVuSans-48\"/>\r\n     <use x=\"63.623047\" xlink:href=\"#DejaVuSans-46\"/>\r\n     <use x=\"95.410156\" xlink:href=\"#DejaVuSans-48\"/>\r\n     <use x=\"159.033203\" xlink:href=\"#DejaVuSans-48\"/>\r\n     <use x=\"222.65625\" xlink:href=\"#DejaVuSans-57\"/>\r\n    </g>\r\n   </g>\r\n   <g id=\"text_64\">\r\n    <!-- 0.06 -->\r\n    <g style=\"fill:#262626;\" transform=\"translate(326.376809 78.132278)scale(0.1 -0.1)\">\r\n     <use xlink:href=\"#DejaVuSans-48\"/>\r\n     <use x=\"63.623047\" xlink:href=\"#DejaVuSans-46\"/>\r\n     <use x=\"95.410156\" xlink:href=\"#DejaVuSans-48\"/>\r\n     <use x=\"159.033203\" xlink:href=\"#DejaVuSans-54\"/>\r\n    </g>\r\n   </g>\r\n   <g id=\"text_65\">\r\n    <!-- 0.075 -->\r\n    <g style=\"fill:#262626;\" transform=\"translate(358.437664 78.132278)scale(0.1 -0.1)\">\r\n     <use xlink:href=\"#DejaVuSans-48\"/>\r\n     <use x=\"63.623047\" xlink:href=\"#DejaVuSans-46\"/>\r\n     <use x=\"95.410156\" xlink:href=\"#DejaVuSans-48\"/>\r\n     <use x=\"159.033203\" xlink:href=\"#DejaVuSans-55\"/>\r\n     <use x=\"222.65625\" xlink:href=\"#DejaVuSans-53\"/>\r\n    </g>\r\n   </g>\r\n   <g id=\"text_66\">\r\n    <!-- 0.075 -->\r\n    <g style=\"fill:#262626;\" transform=\"translate(393.67977 78.132278)scale(0.1 -0.1)\">\r\n     <use xlink:href=\"#DejaVuSans-48\"/>\r\n     <use x=\"63.623047\" xlink:href=\"#DejaVuSans-46\"/>\r\n     <use x=\"95.410156\" xlink:href=\"#DejaVuSans-48\"/>\r\n     <use x=\"159.033203\" xlink:href=\"#DejaVuSans-55\"/>\r\n     <use x=\"222.65625\" xlink:href=\"#DejaVuSans-53\"/>\r\n    </g>\r\n   </g>\r\n   <g id=\"text_67\">\r\n    <!-- 0.13 -->\r\n    <g style=\"fill:#262626;\" transform=\"translate(432.103125 78.132278)scale(0.1 -0.1)\">\r\n     <use xlink:href=\"#DejaVuSans-48\"/>\r\n     <use x=\"63.623047\" xlink:href=\"#DejaVuSans-46\"/>\r\n     <use x=\"95.410156\" xlink:href=\"#DejaVuSans-49\"/>\r\n     <use x=\"159.033203\" xlink:href=\"#DejaVuSans-51\"/>\r\n    </g>\r\n   </g>\r\n   <g id=\"text_68\">\r\n    <!-- 0.063 -->\r\n    <g style=\"fill:#262626;\" transform=\"translate(464.16398 78.132278)scale(0.1 -0.1)\">\r\n     <use xlink:href=\"#DejaVuSans-48\"/>\r\n     <use x=\"63.623047\" xlink:href=\"#DejaVuSans-46\"/>\r\n     <use x=\"95.410156\" xlink:href=\"#DejaVuSans-48\"/>\r\n     <use x=\"159.033203\" xlink:href=\"#DejaVuSans-54\"/>\r\n     <use x=\"222.65625\" xlink:href=\"#DejaVuSans-51\"/>\r\n    </g>\r\n   </g>\r\n   <g id=\"text_69\">\r\n    <!-- 0.062 -->\r\n    <g style=\"fill:#262626;\" transform=\"translate(499.406086 78.132278)scale(0.1 -0.1)\">\r\n     <use xlink:href=\"#DejaVuSans-48\"/>\r\n     <use x=\"63.623047\" xlink:href=\"#DejaVuSans-46\"/>\r\n     <use x=\"95.410156\" xlink:href=\"#DejaVuSans-48\"/>\r\n     <use x=\"159.033203\" xlink:href=\"#DejaVuSans-54\"/>\r\n     <use x=\"222.65625\" xlink:href=\"#DejaVuSans-50\"/>\r\n    </g>\r\n   </g>\r\n   <g id=\"text_70\">\r\n    <!-- 0.059 -->\r\n    <g style=\"fill:#262626;\" transform=\"translate(534.648191 78.132278)scale(0.1 -0.1)\">\r\n     <use xlink:href=\"#DejaVuSans-48\"/>\r\n     <use x=\"63.623047\" xlink:href=\"#DejaVuSans-46\"/>\r\n     <use x=\"95.410156\" xlink:href=\"#DejaVuSans-48\"/>\r\n     <use x=\"159.033203\" xlink:href=\"#DejaVuSans-53\"/>\r\n     <use x=\"222.65625\" xlink:href=\"#DejaVuSans-57\"/>\r\n    </g>\r\n   </g>\r\n   <g id=\"text_71\">\r\n    <!-- 0.062 -->\r\n    <g style=\"fill:#262626;\" transform=\"translate(569.890296 78.132278)scale(0.1 -0.1)\">\r\n     <use xlink:href=\"#DejaVuSans-48\"/>\r\n     <use x=\"63.623047\" xlink:href=\"#DejaVuSans-46\"/>\r\n     <use x=\"95.410156\" xlink:href=\"#DejaVuSans-48\"/>\r\n     <use x=\"159.033203\" xlink:href=\"#DejaVuSans-54\"/>\r\n     <use x=\"222.65625\" xlink:href=\"#DejaVuSans-50\"/>\r\n    </g>\r\n   </g>\r\n   <g id=\"text_72\">\r\n    <!-- 0.06 -->\r\n    <g style=\"fill:#262626;\" transform=\"translate(608.313651 78.132278)scale(0.1 -0.1)\">\r\n     <use xlink:href=\"#DejaVuSans-48\"/>\r\n     <use x=\"63.623047\" xlink:href=\"#DejaVuSans-46\"/>\r\n     <use x=\"95.410156\" xlink:href=\"#DejaVuSans-48\"/>\r\n     <use x=\"159.033203\" xlink:href=\"#DejaVuSans-54\"/>\r\n    </g>\r\n   </g>\r\n   <g id=\"text_73\">\r\n    <!-- -0.061 -->\r\n    <g style=\"fill:#262626;\" transform=\"translate(638.5706 78.132278)scale(0.1 -0.1)\">\r\n     <use xlink:href=\"#DejaVuSans-45\"/>\r\n     <use x=\"36.083984\" xlink:href=\"#DejaVuSans-48\"/>\r\n     <use x=\"99.707031\" xlink:href=\"#DejaVuSans-46\"/>\r\n     <use x=\"131.494141\" xlink:href=\"#DejaVuSans-48\"/>\r\n     <use x=\"195.117188\" xlink:href=\"#DejaVuSans-54\"/>\r\n     <use x=\"258.740234\" xlink:href=\"#DejaVuSans-49\"/>\r\n    </g>\r\n   </g>\r\n   <g id=\"text_74\">\r\n    <!-- 0.0022 -->\r\n    <g style=\"fill:#262626;\" transform=\"translate(672.435362 78.132278)scale(0.1 -0.1)\">\r\n     <use xlink:href=\"#DejaVuSans-48\"/>\r\n     <use x=\"63.623047\" xlink:href=\"#DejaVuSans-46\"/>\r\n     <use x=\"95.410156\" xlink:href=\"#DejaVuSans-48\"/>\r\n     <use x=\"159.033203\" xlink:href=\"#DejaVuSans-48\"/>\r\n     <use x=\"222.65625\" xlink:href=\"#DejaVuSans-50\"/>\r\n     <use x=\"286.279297\" xlink:href=\"#DejaVuSans-50\"/>\r\n    </g>\r\n   </g>\r\n   <g id=\"text_75\">\r\n    <!-- 0.038 -->\r\n    <g style=\"fill:#262626;\" transform=\"translate(710.858717 78.132278)scale(0.1 -0.1)\">\r\n     <use xlink:href=\"#DejaVuSans-48\"/>\r\n     <use x=\"63.623047\" xlink:href=\"#DejaVuSans-46\"/>\r\n     <use x=\"95.410156\" xlink:href=\"#DejaVuSans-48\"/>\r\n     <use x=\"159.033203\" xlink:href=\"#DejaVuSans-51\"/>\r\n     <use x=\"222.65625\" xlink:href=\"#DejaVuSans-56\"/>\r\n    </g>\r\n   </g>\r\n   <g id=\"text_76\">\r\n    <!-- 0.00088 -->\r\n    <g style=\"fill:#262626;\" transform=\"translate(739.738322 78.132278)scale(0.1 -0.1)\">\r\n     <use xlink:href=\"#DejaVuSans-48\"/>\r\n     <use x=\"63.623047\" xlink:href=\"#DejaVuSans-46\"/>\r\n     <use x=\"95.410156\" xlink:href=\"#DejaVuSans-48\"/>\r\n     <use x=\"159.033203\" xlink:href=\"#DejaVuSans-48\"/>\r\n     <use x=\"222.65625\" xlink:href=\"#DejaVuSans-48\"/>\r\n     <use x=\"286.279297\" xlink:href=\"#DejaVuSans-56\"/>\r\n     <use x=\"349.902344\" xlink:href=\"#DejaVuSans-56\"/>\r\n    </g>\r\n   </g>\r\n   <g id=\"text_77\">\r\n    <!-- -0.012 -->\r\n    <g style=\"fill:#262626;\" transform=\"translate(109.939021 121.048067)scale(0.1 -0.1)\">\r\n     <use xlink:href=\"#DejaVuSans-45\"/>\r\n     <use x=\"36.083984\" xlink:href=\"#DejaVuSans-48\"/>\r\n     <use x=\"99.707031\" xlink:href=\"#DejaVuSans-46\"/>\r\n     <use x=\"131.494141\" xlink:href=\"#DejaVuSans-48\"/>\r\n     <use x=\"195.117188\" xlink:href=\"#DejaVuSans-49\"/>\r\n     <use x=\"258.740234\" xlink:href=\"#DejaVuSans-50\"/>\r\n    </g>\r\n   </g>\r\n   <g id=\"text_78\">\r\n    <!-- 0.012 -->\r\n    <g style=\"fill:#262626;\" transform=\"translate(146.985033 121.048067)scale(0.1 -0.1)\">\r\n     <use xlink:href=\"#DejaVuSans-48\"/>\r\n     <use x=\"63.623047\" xlink:href=\"#DejaVuSans-46\"/>\r\n     <use x=\"95.410156\" xlink:href=\"#DejaVuSans-48\"/>\r\n     <use x=\"159.033203\" xlink:href=\"#DejaVuSans-49\"/>\r\n     <use x=\"222.65625\" xlink:href=\"#DejaVuSans-50\"/>\r\n    </g>\r\n   </g>\r\n   <g id=\"text_79\">\r\n    <!-- 1 -->\r\n    <g style=\"fill:#ffffff;\" transform=\"translate(193.359951 121.048067)scale(0.1 -0.1)\">\r\n     <use xlink:href=\"#DejaVuSans-49\"/>\r\n    </g>\r\n   </g>\r\n   <g id=\"text_80\">\r\n    <!-- 0.0041 -->\r\n    <g style=\"fill:#262626;\" transform=\"translate(214.287993 121.048067)scale(0.1 -0.1)\">\r\n     <use xlink:href=\"#DejaVuSans-48\"/>\r\n     <use x=\"63.623047\" xlink:href=\"#DejaVuSans-46\"/>\r\n     <use x=\"95.410156\" xlink:href=\"#DejaVuSans-48\"/>\r\n     <use x=\"159.033203\" xlink:href=\"#DejaVuSans-48\"/>\r\n     <use x=\"222.65625\" xlink:href=\"#DejaVuSans-52\"/>\r\n     <use x=\"286.279297\" xlink:href=\"#DejaVuSans-49\"/>\r\n    </g>\r\n   </g>\r\n   <g id=\"text_81\">\r\n    <!-- -0.0033 -->\r\n    <g style=\"fill:#262626;\" transform=\"translate(247.726192 121.048067)scale(0.1 -0.1)\">\r\n     <use xlink:href=\"#DejaVuSans-45\"/>\r\n     <use x=\"36.083984\" xlink:href=\"#DejaVuSans-48\"/>\r\n     <use x=\"99.707031\" xlink:href=\"#DejaVuSans-46\"/>\r\n     <use x=\"131.494141\" xlink:href=\"#DejaVuSans-48\"/>\r\n     <use x=\"195.117188\" xlink:href=\"#DejaVuSans-48\"/>\r\n     <use x=\"258.740234\" xlink:href=\"#DejaVuSans-51\"/>\r\n     <use x=\"322.363281\" xlink:href=\"#DejaVuSans-51\"/>\r\n    </g>\r\n   </g>\r\n   <g id=\"text_82\">\r\n    <!-- -0.011 -->\r\n    <g style=\"fill:#262626;\" transform=\"translate(286.149548 121.048067)scale(0.1 -0.1)\">\r\n     <use xlink:href=\"#DejaVuSans-45\"/>\r\n     <use x=\"36.083984\" xlink:href=\"#DejaVuSans-48\"/>\r\n     <use x=\"99.707031\" xlink:href=\"#DejaVuSans-46\"/>\r\n     <use x=\"131.494141\" xlink:href=\"#DejaVuSans-48\"/>\r\n     <use x=\"195.117188\" xlink:href=\"#DejaVuSans-49\"/>\r\n     <use x=\"258.740234\" xlink:href=\"#DejaVuSans-49\"/>\r\n    </g>\r\n   </g>\r\n   <g id=\"text_83\">\r\n    <!-- -0.002 -->\r\n    <g style=\"fill:#262626;\" transform=\"translate(321.391653 121.048067)scale(0.1 -0.1)\">\r\n     <use xlink:href=\"#DejaVuSans-45\"/>\r\n     <use x=\"36.083984\" xlink:href=\"#DejaVuSans-48\"/>\r\n     <use x=\"99.707031\" xlink:href=\"#DejaVuSans-46\"/>\r\n     <use x=\"131.494141\" xlink:href=\"#DejaVuSans-48\"/>\r\n     <use x=\"195.117188\" xlink:href=\"#DejaVuSans-48\"/>\r\n     <use x=\"258.740234\" xlink:href=\"#DejaVuSans-50\"/>\r\n    </g>\r\n   </g>\r\n   <g id=\"text_84\">\r\n    <!-- 0.0083 -->\r\n    <g style=\"fill:#262626;\" transform=\"translate(355.256414 121.048067)scale(0.1 -0.1)\">\r\n     <use xlink:href=\"#DejaVuSans-48\"/>\r\n     <use x=\"63.623047\" xlink:href=\"#DejaVuSans-46\"/>\r\n     <use x=\"95.410156\" xlink:href=\"#DejaVuSans-48\"/>\r\n     <use x=\"159.033203\" xlink:href=\"#DejaVuSans-48\"/>\r\n     <use x=\"222.65625\" xlink:href=\"#DejaVuSans-56\"/>\r\n     <use x=\"286.279297\" xlink:href=\"#DejaVuSans-51\"/>\r\n    </g>\r\n   </g>\r\n   <g id=\"text_85\">\r\n    <!-- 0.0076 -->\r\n    <g style=\"fill:#262626;\" transform=\"translate(390.49852 121.048067)scale(0.1 -0.1)\">\r\n     <use xlink:href=\"#DejaVuSans-48\"/>\r\n     <use x=\"63.623047\" xlink:href=\"#DejaVuSans-46\"/>\r\n     <use x=\"95.410156\" xlink:href=\"#DejaVuSans-48\"/>\r\n     <use x=\"159.033203\" xlink:href=\"#DejaVuSans-48\"/>\r\n     <use x=\"222.65625\" xlink:href=\"#DejaVuSans-55\"/>\r\n     <use x=\"286.279297\" xlink:href=\"#DejaVuSans-54\"/>\r\n    </g>\r\n   </g>\r\n   <g id=\"text_86\">\r\n    <!-- 0.0063 -->\r\n    <g style=\"fill:#262626;\" transform=\"translate(425.740625 121.048067)scale(0.1 -0.1)\">\r\n     <use xlink:href=\"#DejaVuSans-48\"/>\r\n     <use x=\"63.623047\" xlink:href=\"#DejaVuSans-46\"/>\r\n     <use x=\"95.410156\" xlink:href=\"#DejaVuSans-48\"/>\r\n     <use x=\"159.033203\" xlink:href=\"#DejaVuSans-48\"/>\r\n     <use x=\"222.65625\" xlink:href=\"#DejaVuSans-54\"/>\r\n     <use x=\"286.279297\" xlink:href=\"#DejaVuSans-51\"/>\r\n    </g>\r\n   </g>\r\n   <g id=\"text_87\">\r\n    <!-- -0.0011 -->\r\n    <g style=\"fill:#262626;\" transform=\"translate(459.178824 121.048067)scale(0.1 -0.1)\">\r\n     <use xlink:href=\"#DejaVuSans-45\"/>\r\n     <use x=\"36.083984\" xlink:href=\"#DejaVuSans-48\"/>\r\n     <use x=\"99.707031\" xlink:href=\"#DejaVuSans-46\"/>\r\n     <use x=\"131.494141\" xlink:href=\"#DejaVuSans-48\"/>\r\n     <use x=\"195.117188\" xlink:href=\"#DejaVuSans-48\"/>\r\n     <use x=\"258.740234\" xlink:href=\"#DejaVuSans-49\"/>\r\n     <use x=\"322.363281\" xlink:href=\"#DejaVuSans-49\"/>\r\n    </g>\r\n   </g>\r\n   <g id=\"text_88\">\r\n    <!-- -0.0019 -->\r\n    <g style=\"fill:#262626;\" transform=\"translate(494.420929 121.048067)scale(0.1 -0.1)\">\r\n     <use xlink:href=\"#DejaVuSans-45\"/>\r\n     <use x=\"36.083984\" xlink:href=\"#DejaVuSans-48\"/>\r\n     <use x=\"99.707031\" xlink:href=\"#DejaVuSans-46\"/>\r\n     <use x=\"131.494141\" xlink:href=\"#DejaVuSans-48\"/>\r\n     <use x=\"195.117188\" xlink:href=\"#DejaVuSans-48\"/>\r\n     <use x=\"258.740234\" xlink:href=\"#DejaVuSans-49\"/>\r\n     <use x=\"322.363281\" xlink:href=\"#DejaVuSans-57\"/>\r\n    </g>\r\n   </g>\r\n   <g id=\"text_89\">\r\n    <!-- 0.00029 -->\r\n    <g style=\"fill:#262626;\" transform=\"translate(528.285691 121.048067)scale(0.1 -0.1)\">\r\n     <use xlink:href=\"#DejaVuSans-48\"/>\r\n     <use x=\"63.623047\" xlink:href=\"#DejaVuSans-46\"/>\r\n     <use x=\"95.410156\" xlink:href=\"#DejaVuSans-48\"/>\r\n     <use x=\"159.033203\" xlink:href=\"#DejaVuSans-48\"/>\r\n     <use x=\"222.65625\" xlink:href=\"#DejaVuSans-48\"/>\r\n     <use x=\"286.279297\" xlink:href=\"#DejaVuSans-50\"/>\r\n     <use x=\"349.902344\" xlink:href=\"#DejaVuSans-57\"/>\r\n    </g>\r\n   </g>\r\n   <g id=\"text_90\">\r\n    <!-- -0.0028 -->\r\n    <g style=\"fill:#262626;\" transform=\"translate(564.90514 121.048067)scale(0.1 -0.1)\">\r\n     <use xlink:href=\"#DejaVuSans-45\"/>\r\n     <use x=\"36.083984\" xlink:href=\"#DejaVuSans-48\"/>\r\n     <use x=\"99.707031\" xlink:href=\"#DejaVuSans-46\"/>\r\n     <use x=\"131.494141\" xlink:href=\"#DejaVuSans-48\"/>\r\n     <use x=\"195.117188\" xlink:href=\"#DejaVuSans-48\"/>\r\n     <use x=\"258.740234\" xlink:href=\"#DejaVuSans-50\"/>\r\n     <use x=\"322.363281\" xlink:href=\"#DejaVuSans-56\"/>\r\n    </g>\r\n   </g>\r\n   <g id=\"text_91\">\r\n    <!-- -0.00079 -->\r\n    <g style=\"fill:#262626;\" transform=\"translate(596.965995 121.048067)scale(0.1 -0.1)\">\r\n     <use xlink:href=\"#DejaVuSans-45\"/>\r\n     <use x=\"36.083984\" xlink:href=\"#DejaVuSans-48\"/>\r\n     <use x=\"99.707031\" xlink:href=\"#DejaVuSans-46\"/>\r\n     <use x=\"131.494141\" xlink:href=\"#DejaVuSans-48\"/>\r\n     <use x=\"195.117188\" xlink:href=\"#DejaVuSans-48\"/>\r\n     <use x=\"258.740234\" xlink:href=\"#DejaVuSans-48\"/>\r\n     <use x=\"322.363281\" xlink:href=\"#DejaVuSans-55\"/>\r\n     <use x=\"385.986328\" xlink:href=\"#DejaVuSans-57\"/>\r\n    </g>\r\n   </g>\r\n   <g id=\"text_92\">\r\n    <!-- 0.021 -->\r\n    <g style=\"fill:#262626;\" transform=\"translate(640.374507 121.048067)scale(0.1 -0.1)\">\r\n     <use xlink:href=\"#DejaVuSans-48\"/>\r\n     <use x=\"63.623047\" xlink:href=\"#DejaVuSans-46\"/>\r\n     <use x=\"95.410156\" xlink:href=\"#DejaVuSans-48\"/>\r\n     <use x=\"159.033203\" xlink:href=\"#DejaVuSans-50\"/>\r\n     <use x=\"222.65625\" xlink:href=\"#DejaVuSans-49\"/>\r\n    </g>\r\n   </g>\r\n   <g id=\"text_93\">\r\n    <!-- 0.0044 -->\r\n    <g style=\"fill:#262626;\" transform=\"translate(672.435362 121.048067)scale(0.1 -0.1)\">\r\n     <use xlink:href=\"#DejaVuSans-48\"/>\r\n     <use x=\"63.623047\" xlink:href=\"#DejaVuSans-46\"/>\r\n     <use x=\"95.410156\" xlink:href=\"#DejaVuSans-48\"/>\r\n     <use x=\"159.033203\" xlink:href=\"#DejaVuSans-48\"/>\r\n     <use x=\"222.65625\" xlink:href=\"#DejaVuSans-52\"/>\r\n     <use x=\"286.279297\" xlink:href=\"#DejaVuSans-52\"/>\r\n    </g>\r\n   </g>\r\n   <g id=\"text_94\">\r\n    <!-- 0.02 -->\r\n    <g style=\"fill:#262626;\" transform=\"translate(714.039967 121.048067)scale(0.1 -0.1)\">\r\n     <use xlink:href=\"#DejaVuSans-48\"/>\r\n     <use x=\"63.623047\" xlink:href=\"#DejaVuSans-46\"/>\r\n     <use x=\"95.410156\" xlink:href=\"#DejaVuSans-48\"/>\r\n     <use x=\"159.033203\" xlink:href=\"#DejaVuSans-50\"/>\r\n    </g>\r\n   </g>\r\n   <g id=\"text_95\">\r\n    <!-- 0.013 -->\r\n    <g style=\"fill:#262626;\" transform=\"translate(746.100822 121.048067)scale(0.1 -0.1)\">\r\n     <use xlink:href=\"#DejaVuSans-48\"/>\r\n     <use x=\"63.623047\" xlink:href=\"#DejaVuSans-46\"/>\r\n     <use x=\"95.410156\" xlink:href=\"#DejaVuSans-48\"/>\r\n     <use x=\"159.033203\" xlink:href=\"#DejaVuSans-49\"/>\r\n     <use x=\"222.65625\" xlink:href=\"#DejaVuSans-51\"/>\r\n    </g>\r\n   </g>\r\n   <g id=\"text_96\">\r\n    <!-- -0.019 -->\r\n    <g style=\"fill:#262626;\" transform=\"translate(109.939021 163.963857)scale(0.1 -0.1)\">\r\n     <use xlink:href=\"#DejaVuSans-45\"/>\r\n     <use x=\"36.083984\" xlink:href=\"#DejaVuSans-48\"/>\r\n     <use x=\"99.707031\" xlink:href=\"#DejaVuSans-46\"/>\r\n     <use x=\"131.494141\" xlink:href=\"#DejaVuSans-48\"/>\r\n     <use x=\"195.117188\" xlink:href=\"#DejaVuSans-49\"/>\r\n     <use x=\"258.740234\" xlink:href=\"#DejaVuSans-57\"/>\r\n    </g>\r\n   </g>\r\n   <g id=\"text_97\">\r\n    <!-- -0.045 -->\r\n    <g style=\"fill:#262626;\" transform=\"translate(145.181127 163.963857)scale(0.1 -0.1)\">\r\n     <use xlink:href=\"#DejaVuSans-45\"/>\r\n     <use x=\"36.083984\" xlink:href=\"#DejaVuSans-48\"/>\r\n     <use x=\"99.707031\" xlink:href=\"#DejaVuSans-46\"/>\r\n     <use x=\"131.494141\" xlink:href=\"#DejaVuSans-48\"/>\r\n     <use x=\"195.117188\" xlink:href=\"#DejaVuSans-52\"/>\r\n     <use x=\"258.740234\" xlink:href=\"#DejaVuSans-53\"/>\r\n    </g>\r\n   </g>\r\n   <g id=\"text_98\">\r\n    <!-- 0.0041 -->\r\n    <g style=\"fill:#262626;\" transform=\"translate(179.045888 163.963857)scale(0.1 -0.1)\">\r\n     <use xlink:href=\"#DejaVuSans-48\"/>\r\n     <use x=\"63.623047\" xlink:href=\"#DejaVuSans-46\"/>\r\n     <use x=\"95.410156\" xlink:href=\"#DejaVuSans-48\"/>\r\n     <use x=\"159.033203\" xlink:href=\"#DejaVuSans-48\"/>\r\n     <use x=\"222.65625\" xlink:href=\"#DejaVuSans-52\"/>\r\n     <use x=\"286.279297\" xlink:href=\"#DejaVuSans-49\"/>\r\n    </g>\r\n   </g>\r\n   <g id=\"text_99\">\r\n    <!-- 1 -->\r\n    <g style=\"fill:#ffffff;\" transform=\"translate(228.602056 163.963857)scale(0.1 -0.1)\">\r\n     <use xlink:href=\"#DejaVuSans-49\"/>\r\n    </g>\r\n   </g>\r\n   <g id=\"text_100\">\r\n    <!-- -0.076 -->\r\n    <g style=\"fill:#262626;\" transform=\"translate(250.907442 163.963857)scale(0.1 -0.1)\">\r\n     <use xlink:href=\"#DejaVuSans-45\"/>\r\n     <use x=\"36.083984\" xlink:href=\"#DejaVuSans-48\"/>\r\n     <use x=\"99.707031\" xlink:href=\"#DejaVuSans-46\"/>\r\n     <use x=\"131.494141\" xlink:href=\"#DejaVuSans-48\"/>\r\n     <use x=\"195.117188\" xlink:href=\"#DejaVuSans-55\"/>\r\n     <use x=\"258.740234\" xlink:href=\"#DejaVuSans-54\"/>\r\n    </g>\r\n   </g>\r\n   <g id=\"text_101\">\r\n    <!-- 0.043 -->\r\n    <g style=\"fill:#262626;\" transform=\"translate(287.953454 163.963857)scale(0.1 -0.1)\">\r\n     <use xlink:href=\"#DejaVuSans-48\"/>\r\n     <use x=\"63.623047\" xlink:href=\"#DejaVuSans-46\"/>\r\n     <use x=\"95.410156\" xlink:href=\"#DejaVuSans-48\"/>\r\n     <use x=\"159.033203\" xlink:href=\"#DejaVuSans-52\"/>\r\n     <use x=\"222.65625\" xlink:href=\"#DejaVuSans-51\"/>\r\n    </g>\r\n   </g>\r\n   <g id=\"text_102\">\r\n    <!-- -0.25 -->\r\n    <g style=\"fill:#262626;\" transform=\"translate(324.572903 163.963857)scale(0.1 -0.1)\">\r\n     <use xlink:href=\"#DejaVuSans-45\"/>\r\n     <use x=\"36.083984\" xlink:href=\"#DejaVuSans-48\"/>\r\n     <use x=\"99.707031\" xlink:href=\"#DejaVuSans-46\"/>\r\n     <use x=\"131.494141\" xlink:href=\"#DejaVuSans-50\"/>\r\n     <use x=\"195.117188\" xlink:href=\"#DejaVuSans-53\"/>\r\n    </g>\r\n   </g>\r\n   <g id=\"text_103\">\r\n    <!-- 0.066 -->\r\n    <g style=\"fill:#262626;\" transform=\"translate(358.437664 163.963857)scale(0.1 -0.1)\">\r\n     <use xlink:href=\"#DejaVuSans-48\"/>\r\n     <use x=\"63.623047\" xlink:href=\"#DejaVuSans-46\"/>\r\n     <use x=\"95.410156\" xlink:href=\"#DejaVuSans-48\"/>\r\n     <use x=\"159.033203\" xlink:href=\"#DejaVuSans-54\"/>\r\n     <use x=\"222.65625\" xlink:href=\"#DejaVuSans-54\"/>\r\n    </g>\r\n   </g>\r\n   <g id=\"text_104\">\r\n    <!-- 0.066 -->\r\n    <g style=\"fill:#262626;\" transform=\"translate(393.67977 163.963857)scale(0.1 -0.1)\">\r\n     <use xlink:href=\"#DejaVuSans-48\"/>\r\n     <use x=\"63.623047\" xlink:href=\"#DejaVuSans-46\"/>\r\n     <use x=\"95.410156\" xlink:href=\"#DejaVuSans-48\"/>\r\n     <use x=\"159.033203\" xlink:href=\"#DejaVuSans-54\"/>\r\n     <use x=\"222.65625\" xlink:href=\"#DejaVuSans-54\"/>\r\n    </g>\r\n   </g>\r\n   <g id=\"text_105\">\r\n    <!-- -0.0048 -->\r\n    <g style=\"fill:#262626;\" transform=\"translate(423.936719 163.963857)scale(0.1 -0.1)\">\r\n     <use xlink:href=\"#DejaVuSans-45\"/>\r\n     <use x=\"36.083984\" xlink:href=\"#DejaVuSans-48\"/>\r\n     <use x=\"99.707031\" xlink:href=\"#DejaVuSans-46\"/>\r\n     <use x=\"131.494141\" xlink:href=\"#DejaVuSans-48\"/>\r\n     <use x=\"195.117188\" xlink:href=\"#DejaVuSans-48\"/>\r\n     <use x=\"258.740234\" xlink:href=\"#DejaVuSans-52\"/>\r\n     <use x=\"322.363281\" xlink:href=\"#DejaVuSans-56\"/>\r\n    </g>\r\n   </g>\r\n   <g id=\"text_106\">\r\n    <!-- -0.26 -->\r\n    <g style=\"fill:#262626;\" transform=\"translate(465.541324 163.963857)scale(0.1 -0.1)\">\r\n     <use xlink:href=\"#DejaVuSans-45\"/>\r\n     <use x=\"36.083984\" xlink:href=\"#DejaVuSans-48\"/>\r\n     <use x=\"99.707031\" xlink:href=\"#DejaVuSans-46\"/>\r\n     <use x=\"131.494141\" xlink:href=\"#DejaVuSans-50\"/>\r\n     <use x=\"195.117188\" xlink:href=\"#DejaVuSans-54\"/>\r\n    </g>\r\n   </g>\r\n   <g id=\"text_107\">\r\n    <!-- -0.26 -->\r\n    <g style=\"fill:#262626;\" transform=\"translate(500.783429 163.963857)scale(0.1 -0.1)\">\r\n     <use xlink:href=\"#DejaVuSans-45\"/>\r\n     <use x=\"36.083984\" xlink:href=\"#DejaVuSans-48\"/>\r\n     <use x=\"99.707031\" xlink:href=\"#DejaVuSans-46\"/>\r\n     <use x=\"131.494141\" xlink:href=\"#DejaVuSans-50\"/>\r\n     <use x=\"195.117188\" xlink:href=\"#DejaVuSans-54\"/>\r\n    </g>\r\n   </g>\r\n   <g id=\"text_108\">\r\n    <!-- -0.25 -->\r\n    <g style=\"fill:#262626;\" transform=\"translate(536.025535 163.963857)scale(0.1 -0.1)\">\r\n     <use xlink:href=\"#DejaVuSans-45\"/>\r\n     <use x=\"36.083984\" xlink:href=\"#DejaVuSans-48\"/>\r\n     <use x=\"99.707031\" xlink:href=\"#DejaVuSans-46\"/>\r\n     <use x=\"131.494141\" xlink:href=\"#DejaVuSans-50\"/>\r\n     <use x=\"195.117188\" xlink:href=\"#DejaVuSans-53\"/>\r\n    </g>\r\n   </g>\r\n   <g id=\"text_109\">\r\n    <!-- -0.26 -->\r\n    <g style=\"fill:#262626;\" transform=\"translate(571.26764 163.963857)scale(0.1 -0.1)\">\r\n     <use xlink:href=\"#DejaVuSans-45\"/>\r\n     <use x=\"36.083984\" xlink:href=\"#DejaVuSans-48\"/>\r\n     <use x=\"99.707031\" xlink:href=\"#DejaVuSans-46\"/>\r\n     <use x=\"131.494141\" xlink:href=\"#DejaVuSans-50\"/>\r\n     <use x=\"195.117188\" xlink:href=\"#DejaVuSans-54\"/>\r\n    </g>\r\n   </g>\r\n   <g id=\"text_110\">\r\n    <!-- -0.26 -->\r\n    <g style=\"fill:#262626;\" transform=\"translate(606.509745 163.963857)scale(0.1 -0.1)\">\r\n     <use xlink:href=\"#DejaVuSans-45\"/>\r\n     <use x=\"36.083984\" xlink:href=\"#DejaVuSans-48\"/>\r\n     <use x=\"99.707031\" xlink:href=\"#DejaVuSans-46\"/>\r\n     <use x=\"131.494141\" xlink:href=\"#DejaVuSans-50\"/>\r\n     <use x=\"195.117188\" xlink:href=\"#DejaVuSans-54\"/>\r\n    </g>\r\n   </g>\r\n   <g id=\"text_111\">\r\n    <!-- 0.0027 -->\r\n    <g style=\"fill:#262626;\" transform=\"translate(637.193257 163.963857)scale(0.1 -0.1)\">\r\n     <use xlink:href=\"#DejaVuSans-48\"/>\r\n     <use x=\"63.623047\" xlink:href=\"#DejaVuSans-46\"/>\r\n     <use x=\"95.410156\" xlink:href=\"#DejaVuSans-48\"/>\r\n     <use x=\"159.033203\" xlink:href=\"#DejaVuSans-48\"/>\r\n     <use x=\"222.65625\" xlink:href=\"#DejaVuSans-50\"/>\r\n     <use x=\"286.279297\" xlink:href=\"#DejaVuSans-55\"/>\r\n    </g>\r\n   </g>\r\n   <g id=\"text_112\">\r\n    <!-- -0.2 -->\r\n    <g style=\"fill:#262626;\" transform=\"translate(680.175206 163.963857)scale(0.1 -0.1)\">\r\n     <use xlink:href=\"#DejaVuSans-45\"/>\r\n     <use x=\"36.083984\" xlink:href=\"#DejaVuSans-48\"/>\r\n     <use x=\"99.707031\" xlink:href=\"#DejaVuSans-46\"/>\r\n     <use x=\"131.494141\" xlink:href=\"#DejaVuSans-50\"/>\r\n    </g>\r\n   </g>\r\n   <g id=\"text_113\">\r\n    <!-- 0.028 -->\r\n    <g style=\"fill:#262626;\" transform=\"translate(710.858717 163.963857)scale(0.1 -0.1)\">\r\n     <use xlink:href=\"#DejaVuSans-48\"/>\r\n     <use x=\"63.623047\" xlink:href=\"#DejaVuSans-46\"/>\r\n     <use x=\"95.410156\" xlink:href=\"#DejaVuSans-48\"/>\r\n     <use x=\"159.033203\" xlink:href=\"#DejaVuSans-50\"/>\r\n     <use x=\"222.65625\" xlink:href=\"#DejaVuSans-56\"/>\r\n    </g>\r\n   </g>\r\n   <g id=\"text_114\">\r\n    <!-- -0.0054 -->\r\n    <g style=\"fill:#262626;\" transform=\"translate(741.115666 163.963857)scale(0.1 -0.1)\">\r\n     <use xlink:href=\"#DejaVuSans-45\"/>\r\n     <use x=\"36.083984\" xlink:href=\"#DejaVuSans-48\"/>\r\n     <use x=\"99.707031\" xlink:href=\"#DejaVuSans-46\"/>\r\n     <use x=\"131.494141\" xlink:href=\"#DejaVuSans-48\"/>\r\n     <use x=\"195.117188\" xlink:href=\"#DejaVuSans-48\"/>\r\n     <use x=\"258.740234\" xlink:href=\"#DejaVuSans-53\"/>\r\n     <use x=\"322.363281\" xlink:href=\"#DejaVuSans-52\"/>\r\n    </g>\r\n   </g>\r\n   <g id=\"text_115\">\r\n    <!-- 0.046 -->\r\n    <g style=\"fill:#262626;\" transform=\"translate(111.742928 206.879646)scale(0.1 -0.1)\">\r\n     <use xlink:href=\"#DejaVuSans-48\"/>\r\n     <use x=\"63.623047\" xlink:href=\"#DejaVuSans-46\"/>\r\n     <use x=\"95.410156\" xlink:href=\"#DejaVuSans-48\"/>\r\n     <use x=\"159.033203\" xlink:href=\"#DejaVuSans-52\"/>\r\n     <use x=\"222.65625\" xlink:href=\"#DejaVuSans-54\"/>\r\n    </g>\r\n   </g>\r\n   <g id=\"text_116\">\r\n    <!-- 0.052 -->\r\n    <g style=\"fill:#262626;\" transform=\"translate(146.985033 206.879646)scale(0.1 -0.1)\">\r\n     <use xlink:href=\"#DejaVuSans-48\"/>\r\n     <use x=\"63.623047\" xlink:href=\"#DejaVuSans-46\"/>\r\n     <use x=\"95.410156\" xlink:href=\"#DejaVuSans-48\"/>\r\n     <use x=\"159.033203\" xlink:href=\"#DejaVuSans-53\"/>\r\n     <use x=\"222.65625\" xlink:href=\"#DejaVuSans-50\"/>\r\n    </g>\r\n   </g>\r\n   <g id=\"text_117\">\r\n    <!-- -0.0033 -->\r\n    <g style=\"fill:#262626;\" transform=\"translate(177.241982 206.879646)scale(0.1 -0.1)\">\r\n     <use xlink:href=\"#DejaVuSans-45\"/>\r\n     <use x=\"36.083984\" xlink:href=\"#DejaVuSans-48\"/>\r\n     <use x=\"99.707031\" xlink:href=\"#DejaVuSans-46\"/>\r\n     <use x=\"131.494141\" xlink:href=\"#DejaVuSans-48\"/>\r\n     <use x=\"195.117188\" xlink:href=\"#DejaVuSans-48\"/>\r\n     <use x=\"258.740234\" xlink:href=\"#DejaVuSans-51\"/>\r\n     <use x=\"322.363281\" xlink:href=\"#DejaVuSans-51\"/>\r\n    </g>\r\n   </g>\r\n   <g id=\"text_118\">\r\n    <!-- -0.076 -->\r\n    <g style=\"fill:#262626;\" transform=\"translate(215.665337 206.879646)scale(0.1 -0.1)\">\r\n     <use xlink:href=\"#DejaVuSans-45\"/>\r\n     <use x=\"36.083984\" xlink:href=\"#DejaVuSans-48\"/>\r\n     <use x=\"99.707031\" xlink:href=\"#DejaVuSans-46\"/>\r\n     <use x=\"131.494141\" xlink:href=\"#DejaVuSans-48\"/>\r\n     <use x=\"195.117188\" xlink:href=\"#DejaVuSans-55\"/>\r\n     <use x=\"258.740234\" xlink:href=\"#DejaVuSans-54\"/>\r\n    </g>\r\n   </g>\r\n   <g id=\"text_119\">\r\n    <!-- 1 -->\r\n    <g style=\"fill:#ffffff;\" transform=\"translate(263.844161 206.879646)scale(0.1 -0.1)\">\r\n     <use xlink:href=\"#DejaVuSans-49\"/>\r\n    </g>\r\n   </g>\r\n   <g id=\"text_120\">\r\n    <!-- -0.043 -->\r\n    <g style=\"fill:#262626;\" transform=\"translate(286.149548 206.879646)scale(0.1 -0.1)\">\r\n     <use xlink:href=\"#DejaVuSans-45\"/>\r\n     <use x=\"36.083984\" xlink:href=\"#DejaVuSans-48\"/>\r\n     <use x=\"99.707031\" xlink:href=\"#DejaVuSans-46\"/>\r\n     <use x=\"131.494141\" xlink:href=\"#DejaVuSans-48\"/>\r\n     <use x=\"195.117188\" xlink:href=\"#DejaVuSans-52\"/>\r\n     <use x=\"258.740234\" xlink:href=\"#DejaVuSans-51\"/>\r\n    </g>\r\n   </g>\r\n   <g id=\"text_121\">\r\n    <!-- 0.039 -->\r\n    <g style=\"fill:#262626;\" transform=\"translate(323.195559 206.879646)scale(0.1 -0.1)\">\r\n     <use xlink:href=\"#DejaVuSans-48\"/>\r\n     <use x=\"63.623047\" xlink:href=\"#DejaVuSans-46\"/>\r\n     <use x=\"95.410156\" xlink:href=\"#DejaVuSans-48\"/>\r\n     <use x=\"159.033203\" xlink:href=\"#DejaVuSans-51\"/>\r\n     <use x=\"222.65625\" xlink:href=\"#DejaVuSans-57\"/>\r\n    </g>\r\n   </g>\r\n   <g id=\"text_122\">\r\n    <!-- -0.063 -->\r\n    <g style=\"fill:#262626;\" transform=\"translate(356.633758 206.879646)scale(0.1 -0.1)\">\r\n     <use xlink:href=\"#DejaVuSans-45\"/>\r\n     <use x=\"36.083984\" xlink:href=\"#DejaVuSans-48\"/>\r\n     <use x=\"99.707031\" xlink:href=\"#DejaVuSans-46\"/>\r\n     <use x=\"131.494141\" xlink:href=\"#DejaVuSans-48\"/>\r\n     <use x=\"195.117188\" xlink:href=\"#DejaVuSans-54\"/>\r\n     <use x=\"258.740234\" xlink:href=\"#DejaVuSans-51\"/>\r\n    </g>\r\n   </g>\r\n   <g id=\"text_123\">\r\n    <!-- -0.061 -->\r\n    <g style=\"fill:#262626;\" transform=\"translate(391.875863 206.879646)scale(0.1 -0.1)\">\r\n     <use xlink:href=\"#DejaVuSans-45\"/>\r\n     <use x=\"36.083984\" xlink:href=\"#DejaVuSans-48\"/>\r\n     <use x=\"99.707031\" xlink:href=\"#DejaVuSans-46\"/>\r\n     <use x=\"131.494141\" xlink:href=\"#DejaVuSans-48\"/>\r\n     <use x=\"195.117188\" xlink:href=\"#DejaVuSans-54\"/>\r\n     <use x=\"258.740234\" xlink:href=\"#DejaVuSans-49\"/>\r\n    </g>\r\n   </g>\r\n   <g id=\"text_124\">\r\n    <!-- -0.068 -->\r\n    <g style=\"fill:#262626;\" transform=\"translate(427.117969 206.879646)scale(0.1 -0.1)\">\r\n     <use xlink:href=\"#DejaVuSans-45\"/>\r\n     <use x=\"36.083984\" xlink:href=\"#DejaVuSans-48\"/>\r\n     <use x=\"99.707031\" xlink:href=\"#DejaVuSans-46\"/>\r\n     <use x=\"131.494141\" xlink:href=\"#DejaVuSans-48\"/>\r\n     <use x=\"195.117188\" xlink:href=\"#DejaVuSans-54\"/>\r\n     <use x=\"258.740234\" xlink:href=\"#DejaVuSans-56\"/>\r\n    </g>\r\n   </g>\r\n   <g id=\"text_125\">\r\n    <!-- 0.046 -->\r\n    <g style=\"fill:#262626;\" transform=\"translate(464.16398 206.879646)scale(0.1 -0.1)\">\r\n     <use xlink:href=\"#DejaVuSans-48\"/>\r\n     <use x=\"63.623047\" xlink:href=\"#DejaVuSans-46\"/>\r\n     <use x=\"95.410156\" xlink:href=\"#DejaVuSans-48\"/>\r\n     <use x=\"159.033203\" xlink:href=\"#DejaVuSans-52\"/>\r\n     <use x=\"222.65625\" xlink:href=\"#DejaVuSans-54\"/>\r\n    </g>\r\n   </g>\r\n   <g id=\"text_126\">\r\n    <!-- 0.044 -->\r\n    <g style=\"fill:#262626;\" transform=\"translate(499.406086 206.879646)scale(0.1 -0.1)\">\r\n     <use xlink:href=\"#DejaVuSans-48\"/>\r\n     <use x=\"63.623047\" xlink:href=\"#DejaVuSans-46\"/>\r\n     <use x=\"95.410156\" xlink:href=\"#DejaVuSans-48\"/>\r\n     <use x=\"159.033203\" xlink:href=\"#DejaVuSans-52\"/>\r\n     <use x=\"222.65625\" xlink:href=\"#DejaVuSans-52\"/>\r\n    </g>\r\n   </g>\r\n   <g id=\"text_127\">\r\n    <!-- 0.04 -->\r\n    <g style=\"fill:#262626;\" transform=\"translate(537.829441 206.879646)scale(0.1 -0.1)\">\r\n     <use xlink:href=\"#DejaVuSans-48\"/>\r\n     <use x=\"63.623047\" xlink:href=\"#DejaVuSans-46\"/>\r\n     <use x=\"95.410156\" xlink:href=\"#DejaVuSans-48\"/>\r\n     <use x=\"159.033203\" xlink:href=\"#DejaVuSans-52\"/>\r\n    </g>\r\n   </g>\r\n   <g id=\"text_128\">\r\n    <!-- 0.044 -->\r\n    <g style=\"fill:#262626;\" transform=\"translate(569.890296 206.879646)scale(0.1 -0.1)\">\r\n     <use xlink:href=\"#DejaVuSans-48\"/>\r\n     <use x=\"63.623047\" xlink:href=\"#DejaVuSans-46\"/>\r\n     <use x=\"95.410156\" xlink:href=\"#DejaVuSans-48\"/>\r\n     <use x=\"159.033203\" xlink:href=\"#DejaVuSans-52\"/>\r\n     <use x=\"222.65625\" xlink:href=\"#DejaVuSans-52\"/>\r\n    </g>\r\n   </g>\r\n   <g id=\"text_129\">\r\n    <!-- 0.039 -->\r\n    <g style=\"fill:#262626;\" transform=\"translate(605.132401 206.879646)scale(0.1 -0.1)\">\r\n     <use xlink:href=\"#DejaVuSans-48\"/>\r\n     <use x=\"63.623047\" xlink:href=\"#DejaVuSans-46\"/>\r\n     <use x=\"95.410156\" xlink:href=\"#DejaVuSans-48\"/>\r\n     <use x=\"159.033203\" xlink:href=\"#DejaVuSans-51\"/>\r\n     <use x=\"222.65625\" xlink:href=\"#DejaVuSans-57\"/>\r\n    </g>\r\n   </g>\r\n   <g id=\"text_130\">\r\n    <!-- -0.015 -->\r\n    <g style=\"fill:#262626;\" transform=\"translate(638.5706 206.879646)scale(0.1 -0.1)\">\r\n     <use xlink:href=\"#DejaVuSans-45\"/>\r\n     <use x=\"36.083984\" xlink:href=\"#DejaVuSans-48\"/>\r\n     <use x=\"99.707031\" xlink:href=\"#DejaVuSans-46\"/>\r\n     <use x=\"131.494141\" xlink:href=\"#DejaVuSans-48\"/>\r\n     <use x=\"195.117188\" xlink:href=\"#DejaVuSans-49\"/>\r\n     <use x=\"258.740234\" xlink:href=\"#DejaVuSans-53\"/>\r\n    </g>\r\n   </g>\r\n   <g id=\"text_131\">\r\n    <!-- 0.054 -->\r\n    <g style=\"fill:#262626;\" transform=\"translate(675.616612 206.879646)scale(0.1 -0.1)\">\r\n     <use xlink:href=\"#DejaVuSans-48\"/>\r\n     <use x=\"63.623047\" xlink:href=\"#DejaVuSans-46\"/>\r\n     <use x=\"95.410156\" xlink:href=\"#DejaVuSans-48\"/>\r\n     <use x=\"159.033203\" xlink:href=\"#DejaVuSans-53\"/>\r\n     <use x=\"222.65625\" xlink:href=\"#DejaVuSans-52\"/>\r\n    </g>\r\n   </g>\r\n   <g id=\"text_132\">\r\n    <!-- -0.039 -->\r\n    <g style=\"fill:#262626;\" transform=\"translate(709.054811 206.879646)scale(0.1 -0.1)\">\r\n     <use xlink:href=\"#DejaVuSans-45\"/>\r\n     <use x=\"36.083984\" xlink:href=\"#DejaVuSans-48\"/>\r\n     <use x=\"99.707031\" xlink:href=\"#DejaVuSans-46\"/>\r\n     <use x=\"131.494141\" xlink:href=\"#DejaVuSans-48\"/>\r\n     <use x=\"195.117188\" xlink:href=\"#DejaVuSans-51\"/>\r\n     <use x=\"258.740234\" xlink:href=\"#DejaVuSans-57\"/>\r\n    </g>\r\n   </g>\r\n   <g id=\"text_133\">\r\n    <!-- 0.0019 -->\r\n    <g style=\"fill:#262626;\" transform=\"translate(742.919572 206.879646)scale(0.1 -0.1)\">\r\n     <use xlink:href=\"#DejaVuSans-48\"/>\r\n     <use x=\"63.623047\" xlink:href=\"#DejaVuSans-46\"/>\r\n     <use x=\"95.410156\" xlink:href=\"#DejaVuSans-48\"/>\r\n     <use x=\"159.033203\" xlink:href=\"#DejaVuSans-48\"/>\r\n     <use x=\"222.65625\" xlink:href=\"#DejaVuSans-49\"/>\r\n     <use x=\"286.279297\" xlink:href=\"#DejaVuSans-57\"/>\r\n    </g>\r\n   </g>\r\n   <g id=\"text_134\">\r\n    <!-- -0.062 -->\r\n    <g style=\"fill:#262626;\" transform=\"translate(109.939021 249.795436)scale(0.1 -0.1)\">\r\n     <use xlink:href=\"#DejaVuSans-45\"/>\r\n     <use x=\"36.083984\" xlink:href=\"#DejaVuSans-48\"/>\r\n     <use x=\"99.707031\" xlink:href=\"#DejaVuSans-46\"/>\r\n     <use x=\"131.494141\" xlink:href=\"#DejaVuSans-48\"/>\r\n     <use x=\"195.117188\" xlink:href=\"#DejaVuSans-54\"/>\r\n     <use x=\"258.740234\" xlink:href=\"#DejaVuSans-50\"/>\r\n    </g>\r\n   </g>\r\n   <g id=\"text_135\">\r\n    <!-- 0.009 -->\r\n    <g style=\"fill:#262626;\" transform=\"translate(146.985033 249.795436)scale(0.1 -0.1)\">\r\n     <use xlink:href=\"#DejaVuSans-48\"/>\r\n     <use x=\"63.623047\" xlink:href=\"#DejaVuSans-46\"/>\r\n     <use x=\"95.410156\" xlink:href=\"#DejaVuSans-48\"/>\r\n     <use x=\"159.033203\" xlink:href=\"#DejaVuSans-48\"/>\r\n     <use x=\"222.65625\" xlink:href=\"#DejaVuSans-57\"/>\r\n    </g>\r\n   </g>\r\n   <g id=\"text_136\">\r\n    <!-- -0.011 -->\r\n    <g style=\"fill:#262626;\" transform=\"translate(180.423232 249.795436)scale(0.1 -0.1)\">\r\n     <use xlink:href=\"#DejaVuSans-45\"/>\r\n     <use x=\"36.083984\" xlink:href=\"#DejaVuSans-48\"/>\r\n     <use x=\"99.707031\" xlink:href=\"#DejaVuSans-46\"/>\r\n     <use x=\"131.494141\" xlink:href=\"#DejaVuSans-48\"/>\r\n     <use x=\"195.117188\" xlink:href=\"#DejaVuSans-49\"/>\r\n     <use x=\"258.740234\" xlink:href=\"#DejaVuSans-49\"/>\r\n    </g>\r\n   </g>\r\n   <g id=\"text_137\">\r\n    <!-- 0.043 -->\r\n    <g style=\"fill:#262626;\" transform=\"translate(217.469243 249.795436)scale(0.1 -0.1)\">\r\n     <use xlink:href=\"#DejaVuSans-48\"/>\r\n     <use x=\"63.623047\" xlink:href=\"#DejaVuSans-46\"/>\r\n     <use x=\"95.410156\" xlink:href=\"#DejaVuSans-48\"/>\r\n     <use x=\"159.033203\" xlink:href=\"#DejaVuSans-52\"/>\r\n     <use x=\"222.65625\" xlink:href=\"#DejaVuSans-51\"/>\r\n    </g>\r\n   </g>\r\n   <g id=\"text_138\">\r\n    <!-- -0.043 -->\r\n    <g style=\"fill:#262626;\" transform=\"translate(250.907442 249.795436)scale(0.1 -0.1)\">\r\n     <use xlink:href=\"#DejaVuSans-45\"/>\r\n     <use x=\"36.083984\" xlink:href=\"#DejaVuSans-48\"/>\r\n     <use x=\"99.707031\" xlink:href=\"#DejaVuSans-46\"/>\r\n     <use x=\"131.494141\" xlink:href=\"#DejaVuSans-48\"/>\r\n     <use x=\"195.117188\" xlink:href=\"#DejaVuSans-52\"/>\r\n     <use x=\"258.740234\" xlink:href=\"#DejaVuSans-51\"/>\r\n    </g>\r\n   </g>\r\n   <g id=\"text_139\">\r\n    <!-- 1 -->\r\n    <g style=\"fill:#ffffff;\" transform=\"translate(299.086266 249.795436)scale(0.1 -0.1)\">\r\n     <use xlink:href=\"#DejaVuSans-49\"/>\r\n    </g>\r\n   </g>\r\n   <g id=\"text_140\">\r\n    <!-- 0.0041 -->\r\n    <g style=\"fill:#262626;\" transform=\"translate(320.014309 249.795436)scale(0.1 -0.1)\">\r\n     <use xlink:href=\"#DejaVuSans-48\"/>\r\n     <use x=\"63.623047\" xlink:href=\"#DejaVuSans-46\"/>\r\n     <use x=\"95.410156\" xlink:href=\"#DejaVuSans-48\"/>\r\n     <use x=\"159.033203\" xlink:href=\"#DejaVuSans-48\"/>\r\n     <use x=\"222.65625\" xlink:href=\"#DejaVuSans-52\"/>\r\n     <use x=\"286.279297\" xlink:href=\"#DejaVuSans-49\"/>\r\n    </g>\r\n   </g>\r\n   <g id=\"text_141\">\r\n    <!-- 0.0019 -->\r\n    <g style=\"fill:#262626;\" transform=\"translate(355.256414 249.795436)scale(0.1 -0.1)\">\r\n     <use xlink:href=\"#DejaVuSans-48\"/>\r\n     <use x=\"63.623047\" xlink:href=\"#DejaVuSans-46\"/>\r\n     <use x=\"95.410156\" xlink:href=\"#DejaVuSans-48\"/>\r\n     <use x=\"159.033203\" xlink:href=\"#DejaVuSans-48\"/>\r\n     <use x=\"222.65625\" xlink:href=\"#DejaVuSans-49\"/>\r\n     <use x=\"286.279297\" xlink:href=\"#DejaVuSans-57\"/>\r\n    </g>\r\n   </g>\r\n   <g id=\"text_142\">\r\n    <!-- 0.0039 -->\r\n    <g style=\"fill:#262626;\" transform=\"translate(390.49852 249.795436)scale(0.1 -0.1)\">\r\n     <use xlink:href=\"#DejaVuSans-48\"/>\r\n     <use x=\"63.623047\" xlink:href=\"#DejaVuSans-46\"/>\r\n     <use x=\"95.410156\" xlink:href=\"#DejaVuSans-48\"/>\r\n     <use x=\"159.033203\" xlink:href=\"#DejaVuSans-48\"/>\r\n     <use x=\"222.65625\" xlink:href=\"#DejaVuSans-51\"/>\r\n     <use x=\"286.279297\" xlink:href=\"#DejaVuSans-57\"/>\r\n    </g>\r\n   </g>\r\n   <g id=\"text_143\">\r\n    <!-- 0.012 -->\r\n    <g style=\"fill:#262626;\" transform=\"translate(428.921875 249.795436)scale(0.1 -0.1)\">\r\n     <use xlink:href=\"#DejaVuSans-48\"/>\r\n     <use x=\"63.623047\" xlink:href=\"#DejaVuSans-46\"/>\r\n     <use x=\"95.410156\" xlink:href=\"#DejaVuSans-48\"/>\r\n     <use x=\"159.033203\" xlink:href=\"#DejaVuSans-49\"/>\r\n     <use x=\"222.65625\" xlink:href=\"#DejaVuSans-50\"/>\r\n    </g>\r\n   </g>\r\n   <g id=\"text_144\">\r\n    <!-- -0.025 -->\r\n    <g style=\"fill:#262626;\" transform=\"translate(462.360074 249.795436)scale(0.1 -0.1)\">\r\n     <use xlink:href=\"#DejaVuSans-45\"/>\r\n     <use x=\"36.083984\" xlink:href=\"#DejaVuSans-48\"/>\r\n     <use x=\"99.707031\" xlink:href=\"#DejaVuSans-46\"/>\r\n     <use x=\"131.494141\" xlink:href=\"#DejaVuSans-48\"/>\r\n     <use x=\"195.117188\" xlink:href=\"#DejaVuSans-50\"/>\r\n     <use x=\"258.740234\" xlink:href=\"#DejaVuSans-53\"/>\r\n    </g>\r\n   </g>\r\n   <g id=\"text_145\">\r\n    <!-- -0.024 -->\r\n    <g style=\"fill:#262626;\" transform=\"translate(497.602179 249.795436)scale(0.1 -0.1)\">\r\n     <use xlink:href=\"#DejaVuSans-45\"/>\r\n     <use x=\"36.083984\" xlink:href=\"#DejaVuSans-48\"/>\r\n     <use x=\"99.707031\" xlink:href=\"#DejaVuSans-46\"/>\r\n     <use x=\"131.494141\" xlink:href=\"#DejaVuSans-48\"/>\r\n     <use x=\"195.117188\" xlink:href=\"#DejaVuSans-50\"/>\r\n     <use x=\"258.740234\" xlink:href=\"#DejaVuSans-52\"/>\r\n    </g>\r\n   </g>\r\n   <g id=\"text_146\">\r\n    <!-- -0.022 -->\r\n    <g style=\"fill:#262626;\" transform=\"translate(532.844285 249.795436)scale(0.1 -0.1)\">\r\n     <use xlink:href=\"#DejaVuSans-45\"/>\r\n     <use x=\"36.083984\" xlink:href=\"#DejaVuSans-48\"/>\r\n     <use x=\"99.707031\" xlink:href=\"#DejaVuSans-46\"/>\r\n     <use x=\"131.494141\" xlink:href=\"#DejaVuSans-48\"/>\r\n     <use x=\"195.117188\" xlink:href=\"#DejaVuSans-50\"/>\r\n     <use x=\"258.740234\" xlink:href=\"#DejaVuSans-50\"/>\r\n    </g>\r\n   </g>\r\n   <g id=\"text_147\">\r\n    <!-- -0.025 -->\r\n    <g style=\"fill:#262626;\" transform=\"translate(568.08639 249.795436)scale(0.1 -0.1)\">\r\n     <use xlink:href=\"#DejaVuSans-45\"/>\r\n     <use x=\"36.083984\" xlink:href=\"#DejaVuSans-48\"/>\r\n     <use x=\"99.707031\" xlink:href=\"#DejaVuSans-46\"/>\r\n     <use x=\"131.494141\" xlink:href=\"#DejaVuSans-48\"/>\r\n     <use x=\"195.117188\" xlink:href=\"#DejaVuSans-50\"/>\r\n     <use x=\"258.740234\" xlink:href=\"#DejaVuSans-53\"/>\r\n    </g>\r\n   </g>\r\n   <g id=\"text_148\">\r\n    <!-- -0.023 -->\r\n    <g style=\"fill:#262626;\" transform=\"translate(603.328495 249.795436)scale(0.1 -0.1)\">\r\n     <use xlink:href=\"#DejaVuSans-45\"/>\r\n     <use x=\"36.083984\" xlink:href=\"#DejaVuSans-48\"/>\r\n     <use x=\"99.707031\" xlink:href=\"#DejaVuSans-46\"/>\r\n     <use x=\"131.494141\" xlink:href=\"#DejaVuSans-48\"/>\r\n     <use x=\"195.117188\" xlink:href=\"#DejaVuSans-50\"/>\r\n     <use x=\"258.740234\" xlink:href=\"#DejaVuSans-51\"/>\r\n    </g>\r\n   </g>\r\n   <g id=\"text_149\">\r\n    <!-- 0.014 -->\r\n    <g style=\"fill:#262626;\" transform=\"translate(640.374507 249.795436)scale(0.1 -0.1)\">\r\n     <use xlink:href=\"#DejaVuSans-48\"/>\r\n     <use x=\"63.623047\" xlink:href=\"#DejaVuSans-46\"/>\r\n     <use x=\"95.410156\" xlink:href=\"#DejaVuSans-48\"/>\r\n     <use x=\"159.033203\" xlink:href=\"#DejaVuSans-49\"/>\r\n     <use x=\"222.65625\" xlink:href=\"#DejaVuSans-52\"/>\r\n    </g>\r\n   </g>\r\n   <g id=\"text_150\">\r\n    <!-- -0.0061 -->\r\n    <g style=\"fill:#262626;\" transform=\"translate(670.631456 249.795436)scale(0.1 -0.1)\">\r\n     <use xlink:href=\"#DejaVuSans-45\"/>\r\n     <use x=\"36.083984\" xlink:href=\"#DejaVuSans-48\"/>\r\n     <use x=\"99.707031\" xlink:href=\"#DejaVuSans-46\"/>\r\n     <use x=\"131.494141\" xlink:href=\"#DejaVuSans-48\"/>\r\n     <use x=\"195.117188\" xlink:href=\"#DejaVuSans-48\"/>\r\n     <use x=\"258.740234\" xlink:href=\"#DejaVuSans-54\"/>\r\n     <use x=\"322.363281\" xlink:href=\"#DejaVuSans-49\"/>\r\n    </g>\r\n   </g>\r\n   <g id=\"text_151\">\r\n    <!-- 0.0073 -->\r\n    <g style=\"fill:#262626;\" transform=\"translate(707.677467 249.795436)scale(0.1 -0.1)\">\r\n     <use xlink:href=\"#DejaVuSans-48\"/>\r\n     <use x=\"63.623047\" xlink:href=\"#DejaVuSans-46\"/>\r\n     <use x=\"95.410156\" xlink:href=\"#DejaVuSans-48\"/>\r\n     <use x=\"159.033203\" xlink:href=\"#DejaVuSans-48\"/>\r\n     <use x=\"222.65625\" xlink:href=\"#DejaVuSans-55\"/>\r\n     <use x=\"286.279297\" xlink:href=\"#DejaVuSans-51\"/>\r\n    </g>\r\n   </g>\r\n   <g id=\"text_152\">\r\n    <!-- 0.003 -->\r\n    <g style=\"fill:#262626;\" transform=\"translate(746.100822 249.795436)scale(0.1 -0.1)\">\r\n     <use xlink:href=\"#DejaVuSans-48\"/>\r\n     <use x=\"63.623047\" xlink:href=\"#DejaVuSans-46\"/>\r\n     <use x=\"95.410156\" xlink:href=\"#DejaVuSans-48\"/>\r\n     <use x=\"159.033203\" xlink:href=\"#DejaVuSans-48\"/>\r\n     <use x=\"222.65625\" xlink:href=\"#DejaVuSans-51\"/>\r\n    </g>\r\n   </g>\r\n   <g id=\"text_153\">\r\n    <!-- 0.047 -->\r\n    <g style=\"fill:#262626;\" transform=\"translate(111.742928 292.711225)scale(0.1 -0.1)\">\r\n     <use xlink:href=\"#DejaVuSans-48\"/>\r\n     <use x=\"63.623047\" xlink:href=\"#DejaVuSans-46\"/>\r\n     <use x=\"95.410156\" xlink:href=\"#DejaVuSans-48\"/>\r\n     <use x=\"159.033203\" xlink:href=\"#DejaVuSans-52\"/>\r\n     <use x=\"222.65625\" xlink:href=\"#DejaVuSans-55\"/>\r\n    </g>\r\n   </g>\r\n   <g id=\"text_154\">\r\n    <!-- 0.06 -->\r\n    <g style=\"fill:#262626;\" transform=\"translate(150.166283 292.711225)scale(0.1 -0.1)\">\r\n     <use xlink:href=\"#DejaVuSans-48\"/>\r\n     <use x=\"63.623047\" xlink:href=\"#DejaVuSans-46\"/>\r\n     <use x=\"95.410156\" xlink:href=\"#DejaVuSans-48\"/>\r\n     <use x=\"159.033203\" xlink:href=\"#DejaVuSans-54\"/>\r\n    </g>\r\n   </g>\r\n   <g id=\"text_155\">\r\n    <!-- -0.002 -->\r\n    <g style=\"fill:#262626;\" transform=\"translate(180.423232 292.711225)scale(0.1 -0.1)\">\r\n     <use xlink:href=\"#DejaVuSans-45\"/>\r\n     <use x=\"36.083984\" xlink:href=\"#DejaVuSans-48\"/>\r\n     <use x=\"99.707031\" xlink:href=\"#DejaVuSans-46\"/>\r\n     <use x=\"131.494141\" xlink:href=\"#DejaVuSans-48\"/>\r\n     <use x=\"195.117188\" xlink:href=\"#DejaVuSans-48\"/>\r\n     <use x=\"258.740234\" xlink:href=\"#DejaVuSans-50\"/>\r\n    </g>\r\n   </g>\r\n   <g id=\"text_156\">\r\n    <!-- -0.25 -->\r\n    <g style=\"fill:#262626;\" transform=\"translate(218.846587 292.711225)scale(0.1 -0.1)\">\r\n     <use xlink:href=\"#DejaVuSans-45\"/>\r\n     <use x=\"36.083984\" xlink:href=\"#DejaVuSans-48\"/>\r\n     <use x=\"99.707031\" xlink:href=\"#DejaVuSans-46\"/>\r\n     <use x=\"131.494141\" xlink:href=\"#DejaVuSans-50\"/>\r\n     <use x=\"195.117188\" xlink:href=\"#DejaVuSans-53\"/>\r\n    </g>\r\n   </g>\r\n   <g id=\"text_157\">\r\n    <!-- 0.039 -->\r\n    <g style=\"fill:#262626;\" transform=\"translate(252.711349 292.711225)scale(0.1 -0.1)\">\r\n     <use xlink:href=\"#DejaVuSans-48\"/>\r\n     <use x=\"63.623047\" xlink:href=\"#DejaVuSans-46\"/>\r\n     <use x=\"95.410156\" xlink:href=\"#DejaVuSans-48\"/>\r\n     <use x=\"159.033203\" xlink:href=\"#DejaVuSans-51\"/>\r\n     <use x=\"222.65625\" xlink:href=\"#DejaVuSans-57\"/>\r\n    </g>\r\n   </g>\r\n   <g id=\"text_158\">\r\n    <!-- 0.0041 -->\r\n    <g style=\"fill:#262626;\" transform=\"translate(284.772204 292.711225)scale(0.1 -0.1)\">\r\n     <use xlink:href=\"#DejaVuSans-48\"/>\r\n     <use x=\"63.623047\" xlink:href=\"#DejaVuSans-46\"/>\r\n     <use x=\"95.410156\" xlink:href=\"#DejaVuSans-48\"/>\r\n     <use x=\"159.033203\" xlink:href=\"#DejaVuSans-48\"/>\r\n     <use x=\"222.65625\" xlink:href=\"#DejaVuSans-52\"/>\r\n     <use x=\"286.279297\" xlink:href=\"#DejaVuSans-49\"/>\r\n    </g>\r\n   </g>\r\n   <g id=\"text_159\">\r\n    <!-- 1 -->\r\n    <g style=\"fill:#ffffff;\" transform=\"translate(334.328372 292.711225)scale(0.1 -0.1)\">\r\n     <use xlink:href=\"#DejaVuSans-49\"/>\r\n    </g>\r\n   </g>\r\n   <g id=\"text_160\">\r\n    <!-- -0.11 -->\r\n    <g style=\"fill:#262626;\" transform=\"translate(359.815008 292.711225)scale(0.1 -0.1)\">\r\n     <use xlink:href=\"#DejaVuSans-45\"/>\r\n     <use x=\"36.083984\" xlink:href=\"#DejaVuSans-48\"/>\r\n     <use x=\"99.707031\" xlink:href=\"#DejaVuSans-46\"/>\r\n     <use x=\"131.494141\" xlink:href=\"#DejaVuSans-49\"/>\r\n     <use x=\"195.117188\" xlink:href=\"#DejaVuSans-49\"/>\r\n    </g>\r\n   </g>\r\n   <g id=\"text_161\">\r\n    <!-- -0.11 -->\r\n    <g style=\"fill:#262626;\" transform=\"translate(395.057113 292.711225)scale(0.1 -0.1)\">\r\n     <use xlink:href=\"#DejaVuSans-45\"/>\r\n     <use x=\"36.083984\" xlink:href=\"#DejaVuSans-48\"/>\r\n     <use x=\"99.707031\" xlink:href=\"#DejaVuSans-46\"/>\r\n     <use x=\"131.494141\" xlink:href=\"#DejaVuSans-49\"/>\r\n     <use x=\"195.117188\" xlink:href=\"#DejaVuSans-49\"/>\r\n    </g>\r\n   </g>\r\n   <g id=\"text_162\">\r\n    <!-- 0.11 -->\r\n    <g style=\"fill:#262626;\" transform=\"translate(432.103125 292.711225)scale(0.1 -0.1)\">\r\n     <use xlink:href=\"#DejaVuSans-48\"/>\r\n     <use x=\"63.623047\" xlink:href=\"#DejaVuSans-46\"/>\r\n     <use x=\"95.410156\" xlink:href=\"#DejaVuSans-49\"/>\r\n     <use x=\"159.033203\" xlink:href=\"#DejaVuSans-49\"/>\r\n    </g>\r\n   </g>\r\n   <g id=\"text_163\">\r\n    <!-- 1 -->\r\n    <g style=\"fill:#ffffff;\" transform=\"translate(475.296793 292.711225)scale(0.1 -0.1)\">\r\n     <use xlink:href=\"#DejaVuSans-49\"/>\r\n    </g>\r\n   </g>\r\n   <g id=\"text_164\">\r\n    <!-- 1 -->\r\n    <g style=\"fill:#ffffff;\" transform=\"translate(510.538898 292.711225)scale(0.1 -0.1)\">\r\n     <use xlink:href=\"#DejaVuSans-49\"/>\r\n    </g>\r\n   </g>\r\n   <g id=\"text_165\">\r\n    <!-- 1 -->\r\n    <g style=\"fill:#ffffff;\" transform=\"translate(545.781003 292.711225)scale(0.1 -0.1)\">\r\n     <use xlink:href=\"#DejaVuSans-49\"/>\r\n    </g>\r\n   </g>\r\n   <g id=\"text_166\">\r\n    <!-- 1 -->\r\n    <g style=\"fill:#ffffff;\" transform=\"translate(581.023109 292.711225)scale(0.1 -0.1)\">\r\n     <use xlink:href=\"#DejaVuSans-49\"/>\r\n    </g>\r\n   </g>\r\n   <g id=\"text_167\">\r\n    <!-- 1 -->\r\n    <g style=\"fill:#ffffff;\" transform=\"translate(616.265214 292.711225)scale(0.1 -0.1)\">\r\n     <use xlink:href=\"#DejaVuSans-49\"/>\r\n    </g>\r\n   </g>\r\n   <g id=\"text_168\">\r\n    <!-- -0.11 -->\r\n    <g style=\"fill:#262626;\" transform=\"translate(641.75185 292.711225)scale(0.1 -0.1)\">\r\n     <use xlink:href=\"#DejaVuSans-45\"/>\r\n     <use x=\"36.083984\" xlink:href=\"#DejaVuSans-48\"/>\r\n     <use x=\"99.707031\" xlink:href=\"#DejaVuSans-46\"/>\r\n     <use x=\"131.494141\" xlink:href=\"#DejaVuSans-49\"/>\r\n     <use x=\"195.117188\" xlink:href=\"#DejaVuSans-49\"/>\r\n    </g>\r\n   </g>\r\n   <g id=\"text_169\">\r\n    <!-- 0.21 -->\r\n    <g style=\"fill:#262626;\" transform=\"translate(678.797862 292.711225)scale(0.1 -0.1)\">\r\n     <use xlink:href=\"#DejaVuSans-48\"/>\r\n     <use x=\"63.623047\" xlink:href=\"#DejaVuSans-46\"/>\r\n     <use x=\"95.410156\" xlink:href=\"#DejaVuSans-50\"/>\r\n     <use x=\"159.033203\" xlink:href=\"#DejaVuSans-49\"/>\r\n    </g>\r\n   </g>\r\n   <g id=\"text_170\">\r\n    <!-- 0.055 -->\r\n    <g style=\"fill:#262626;\" transform=\"translate(710.858717 292.711225)scale(0.1 -0.1)\">\r\n     <use xlink:href=\"#DejaVuSans-48\"/>\r\n     <use x=\"63.623047\" xlink:href=\"#DejaVuSans-46\"/>\r\n     <use x=\"95.410156\" xlink:href=\"#DejaVuSans-48\"/>\r\n     <use x=\"159.033203\" xlink:href=\"#DejaVuSans-53\"/>\r\n     <use x=\"222.65625\" xlink:href=\"#DejaVuSans-53\"/>\r\n    </g>\r\n   </g>\r\n   <g id=\"text_171\">\r\n    <!-- 0.003 -->\r\n    <g style=\"fill:#262626;\" transform=\"translate(746.100822 292.711225)scale(0.1 -0.1)\">\r\n     <use xlink:href=\"#DejaVuSans-48\"/>\r\n     <use x=\"63.623047\" xlink:href=\"#DejaVuSans-46\"/>\r\n     <use x=\"95.410156\" xlink:href=\"#DejaVuSans-48\"/>\r\n     <use x=\"159.033203\" xlink:href=\"#DejaVuSans-48\"/>\r\n     <use x=\"222.65625\" xlink:href=\"#DejaVuSans-51\"/>\r\n    </g>\r\n   </g>\r\n   <g id=\"text_172\">\r\n    <!-- -0.089 -->\r\n    <g style=\"fill:#262626;\" transform=\"translate(109.939021 335.627015)scale(0.1 -0.1)\">\r\n     <use xlink:href=\"#DejaVuSans-45\"/>\r\n     <use x=\"36.083984\" xlink:href=\"#DejaVuSans-48\"/>\r\n     <use x=\"99.707031\" xlink:href=\"#DejaVuSans-46\"/>\r\n     <use x=\"131.494141\" xlink:href=\"#DejaVuSans-48\"/>\r\n     <use x=\"195.117188\" xlink:href=\"#DejaVuSans-56\"/>\r\n     <use x=\"258.740234\" xlink:href=\"#DejaVuSans-57\"/>\r\n    </g>\r\n   </g>\r\n   <g id=\"text_173\">\r\n    <!-- 0.075 -->\r\n    <g style=\"fill:#262626;\" transform=\"translate(146.985033 335.627015)scale(0.1 -0.1)\">\r\n     <use xlink:href=\"#DejaVuSans-48\"/>\r\n     <use x=\"63.623047\" xlink:href=\"#DejaVuSans-46\"/>\r\n     <use x=\"95.410156\" xlink:href=\"#DejaVuSans-48\"/>\r\n     <use x=\"159.033203\" xlink:href=\"#DejaVuSans-55\"/>\r\n     <use x=\"222.65625\" xlink:href=\"#DejaVuSans-53\"/>\r\n    </g>\r\n   </g>\r\n   <g id=\"text_174\">\r\n    <!-- 0.0083 -->\r\n    <g style=\"fill:#262626;\" transform=\"translate(179.045888 335.627015)scale(0.1 -0.1)\">\r\n     <use xlink:href=\"#DejaVuSans-48\"/>\r\n     <use x=\"63.623047\" xlink:href=\"#DejaVuSans-46\"/>\r\n     <use x=\"95.410156\" xlink:href=\"#DejaVuSans-48\"/>\r\n     <use x=\"159.033203\" xlink:href=\"#DejaVuSans-48\"/>\r\n     <use x=\"222.65625\" xlink:href=\"#DejaVuSans-56\"/>\r\n     <use x=\"286.279297\" xlink:href=\"#DejaVuSans-51\"/>\r\n    </g>\r\n   </g>\r\n   <g id=\"text_175\">\r\n    <!-- 0.066 -->\r\n    <g style=\"fill:#262626;\" transform=\"translate(217.469243 335.627015)scale(0.1 -0.1)\">\r\n     <use xlink:href=\"#DejaVuSans-48\"/>\r\n     <use x=\"63.623047\" xlink:href=\"#DejaVuSans-46\"/>\r\n     <use x=\"95.410156\" xlink:href=\"#DejaVuSans-48\"/>\r\n     <use x=\"159.033203\" xlink:href=\"#DejaVuSans-54\"/>\r\n     <use x=\"222.65625\" xlink:href=\"#DejaVuSans-54\"/>\r\n    </g>\r\n   </g>\r\n   <g id=\"text_176\">\r\n    <!-- -0.063 -->\r\n    <g style=\"fill:#262626;\" transform=\"translate(250.907442 335.627015)scale(0.1 -0.1)\">\r\n     <use xlink:href=\"#DejaVuSans-45\"/>\r\n     <use x=\"36.083984\" xlink:href=\"#DejaVuSans-48\"/>\r\n     <use x=\"99.707031\" xlink:href=\"#DejaVuSans-46\"/>\r\n     <use x=\"131.494141\" xlink:href=\"#DejaVuSans-48\"/>\r\n     <use x=\"195.117188\" xlink:href=\"#DejaVuSans-54\"/>\r\n     <use x=\"258.740234\" xlink:href=\"#DejaVuSans-51\"/>\r\n    </g>\r\n   </g>\r\n   <g id=\"text_177\">\r\n    <!-- 0.0019 -->\r\n    <g style=\"fill:#262626;\" transform=\"translate(284.772204 335.627015)scale(0.1 -0.1)\">\r\n     <use xlink:href=\"#DejaVuSans-48\"/>\r\n     <use x=\"63.623047\" xlink:href=\"#DejaVuSans-46\"/>\r\n     <use x=\"95.410156\" xlink:href=\"#DejaVuSans-48\"/>\r\n     <use x=\"159.033203\" xlink:href=\"#DejaVuSans-48\"/>\r\n     <use x=\"222.65625\" xlink:href=\"#DejaVuSans-49\"/>\r\n     <use x=\"286.279297\" xlink:href=\"#DejaVuSans-57\"/>\r\n    </g>\r\n   </g>\r\n   <g id=\"text_178\">\r\n    <!-- -0.11 -->\r\n    <g style=\"fill:#262626;\" transform=\"translate(324.572903 335.627015)scale(0.1 -0.1)\">\r\n     <use xlink:href=\"#DejaVuSans-45\"/>\r\n     <use x=\"36.083984\" xlink:href=\"#DejaVuSans-48\"/>\r\n     <use x=\"99.707031\" xlink:href=\"#DejaVuSans-46\"/>\r\n     <use x=\"131.494141\" xlink:href=\"#DejaVuSans-49\"/>\r\n     <use x=\"195.117188\" xlink:href=\"#DejaVuSans-49\"/>\r\n    </g>\r\n   </g>\r\n   <g id=\"text_179\">\r\n    <!-- 1 -->\r\n    <g style=\"fill:#ffffff;\" transform=\"translate(369.570477 335.627015)scale(0.1 -0.1)\">\r\n     <use xlink:href=\"#DejaVuSans-49\"/>\r\n    </g>\r\n   </g>\r\n   <g id=\"text_180\">\r\n    <!-- 0.98 -->\r\n    <g style=\"fill:#ffffff;\" transform=\"translate(396.86102 335.627015)scale(0.1 -0.1)\">\r\n     <use xlink:href=\"#DejaVuSans-48\"/>\r\n     <use x=\"63.623047\" xlink:href=\"#DejaVuSans-46\"/>\r\n     <use x=\"95.410156\" xlink:href=\"#DejaVuSans-57\"/>\r\n     <use x=\"159.033203\" xlink:href=\"#DejaVuSans-56\"/>\r\n    </g>\r\n   </g>\r\n   <g id=\"text_181\">\r\n    <!-- 0.41 -->\r\n    <g style=\"fill:#ffffff;\" transform=\"translate(432.103125 335.627015)scale(0.1 -0.1)\">\r\n     <use xlink:href=\"#DejaVuSans-48\"/>\r\n     <use x=\"63.623047\" xlink:href=\"#DejaVuSans-46\"/>\r\n     <use x=\"95.410156\" xlink:href=\"#DejaVuSans-52\"/>\r\n     <use x=\"159.033203\" xlink:href=\"#DejaVuSans-49\"/>\r\n    </g>\r\n   </g>\r\n   <g id=\"text_182\">\r\n    <!-- -0.11 -->\r\n    <g style=\"fill:#262626;\" transform=\"translate(465.541324 335.627015)scale(0.1 -0.1)\">\r\n     <use xlink:href=\"#DejaVuSans-45\"/>\r\n     <use x=\"36.083984\" xlink:href=\"#DejaVuSans-48\"/>\r\n     <use x=\"99.707031\" xlink:href=\"#DejaVuSans-46\"/>\r\n     <use x=\"131.494141\" xlink:href=\"#DejaVuSans-49\"/>\r\n     <use x=\"195.117188\" xlink:href=\"#DejaVuSans-49\"/>\r\n    </g>\r\n   </g>\r\n   <g id=\"text_183\">\r\n    <!-- -0.11 -->\r\n    <g style=\"fill:#262626;\" transform=\"translate(500.783429 335.627015)scale(0.1 -0.1)\">\r\n     <use xlink:href=\"#DejaVuSans-45\"/>\r\n     <use x=\"36.083984\" xlink:href=\"#DejaVuSans-48\"/>\r\n     <use x=\"99.707031\" xlink:href=\"#DejaVuSans-46\"/>\r\n     <use x=\"131.494141\" xlink:href=\"#DejaVuSans-49\"/>\r\n     <use x=\"195.117188\" xlink:href=\"#DejaVuSans-49\"/>\r\n    </g>\r\n   </g>\r\n   <g id=\"text_184\">\r\n    <!-- -0.11 -->\r\n    <g style=\"fill:#262626;\" transform=\"translate(536.025535 335.627015)scale(0.1 -0.1)\">\r\n     <use xlink:href=\"#DejaVuSans-45\"/>\r\n     <use x=\"36.083984\" xlink:href=\"#DejaVuSans-48\"/>\r\n     <use x=\"99.707031\" xlink:href=\"#DejaVuSans-46\"/>\r\n     <use x=\"131.494141\" xlink:href=\"#DejaVuSans-49\"/>\r\n     <use x=\"195.117188\" xlink:href=\"#DejaVuSans-49\"/>\r\n    </g>\r\n   </g>\r\n   <g id=\"text_185\">\r\n    <!-- -0.11 -->\r\n    <g style=\"fill:#262626;\" transform=\"translate(571.26764 335.627015)scale(0.1 -0.1)\">\r\n     <use xlink:href=\"#DejaVuSans-45\"/>\r\n     <use x=\"36.083984\" xlink:href=\"#DejaVuSans-48\"/>\r\n     <use x=\"99.707031\" xlink:href=\"#DejaVuSans-46\"/>\r\n     <use x=\"131.494141\" xlink:href=\"#DejaVuSans-49\"/>\r\n     <use x=\"195.117188\" xlink:href=\"#DejaVuSans-49\"/>\r\n    </g>\r\n   </g>\r\n   <g id=\"text_186\">\r\n    <!-- -0.11 -->\r\n    <g style=\"fill:#262626;\" transform=\"translate(606.509745 335.627015)scale(0.1 -0.1)\">\r\n     <use xlink:href=\"#DejaVuSans-45\"/>\r\n     <use x=\"36.083984\" xlink:href=\"#DejaVuSans-48\"/>\r\n     <use x=\"99.707031\" xlink:href=\"#DejaVuSans-46\"/>\r\n     <use x=\"131.494141\" xlink:href=\"#DejaVuSans-49\"/>\r\n     <use x=\"195.117188\" xlink:href=\"#DejaVuSans-49\"/>\r\n    </g>\r\n   </g>\r\n   <g id=\"text_187\">\r\n    <!-- 0.12 -->\r\n    <g style=\"fill:#262626;\" transform=\"translate(643.555757 335.627015)scale(0.1 -0.1)\">\r\n     <use xlink:href=\"#DejaVuSans-48\"/>\r\n     <use x=\"63.623047\" xlink:href=\"#DejaVuSans-46\"/>\r\n     <use x=\"95.410156\" xlink:href=\"#DejaVuSans-49\"/>\r\n     <use x=\"159.033203\" xlink:href=\"#DejaVuSans-50\"/>\r\n    </g>\r\n   </g>\r\n   <g id=\"text_188\">\r\n    <!-- -0.083 -->\r\n    <g style=\"fill:#262626;\" transform=\"translate(673.812706 335.627015)scale(0.1 -0.1)\">\r\n     <use xlink:href=\"#DejaVuSans-45\"/>\r\n     <use x=\"36.083984\" xlink:href=\"#DejaVuSans-48\"/>\r\n     <use x=\"99.707031\" xlink:href=\"#DejaVuSans-46\"/>\r\n     <use x=\"131.494141\" xlink:href=\"#DejaVuSans-48\"/>\r\n     <use x=\"195.117188\" xlink:href=\"#DejaVuSans-56\"/>\r\n     <use x=\"258.740234\" xlink:href=\"#DejaVuSans-51\"/>\r\n    </g>\r\n   </g>\r\n   <g id=\"text_189\">\r\n    <!-- -0.02 -->\r\n    <g style=\"fill:#262626;\" transform=\"translate(712.236061 335.627015)scale(0.1 -0.1)\">\r\n     <use xlink:href=\"#DejaVuSans-45\"/>\r\n     <use x=\"36.083984\" xlink:href=\"#DejaVuSans-48\"/>\r\n     <use x=\"99.707031\" xlink:href=\"#DejaVuSans-46\"/>\r\n     <use x=\"131.494141\" xlink:href=\"#DejaVuSans-48\"/>\r\n     <use x=\"195.117188\" xlink:href=\"#DejaVuSans-50\"/>\r\n    </g>\r\n   </g>\r\n   <g id=\"text_190\">\r\n    <!-- -0.0005 -->\r\n    <g style=\"fill:#262626;\" transform=\"translate(741.115666 335.627015)scale(0.1 -0.1)\">\r\n     <use xlink:href=\"#DejaVuSans-45\"/>\r\n     <use x=\"36.083984\" xlink:href=\"#DejaVuSans-48\"/>\r\n     <use x=\"99.707031\" xlink:href=\"#DejaVuSans-46\"/>\r\n     <use x=\"131.494141\" xlink:href=\"#DejaVuSans-48\"/>\r\n     <use x=\"195.117188\" xlink:href=\"#DejaVuSans-48\"/>\r\n     <use x=\"258.740234\" xlink:href=\"#DejaVuSans-48\"/>\r\n     <use x=\"322.363281\" xlink:href=\"#DejaVuSans-53\"/>\r\n    </g>\r\n   </g>\r\n   <g id=\"text_191\">\r\n    <!-- -0.09 -->\r\n    <g style=\"fill:#262626;\" transform=\"translate(113.120271 378.542804)scale(0.1 -0.1)\">\r\n     <use xlink:href=\"#DejaVuSans-45\"/>\r\n     <use x=\"36.083984\" xlink:href=\"#DejaVuSans-48\"/>\r\n     <use x=\"99.707031\" xlink:href=\"#DejaVuSans-46\"/>\r\n     <use x=\"131.494141\" xlink:href=\"#DejaVuSans-48\"/>\r\n     <use x=\"195.117188\" xlink:href=\"#DejaVuSans-57\"/>\r\n    </g>\r\n   </g>\r\n   <g id=\"text_192\">\r\n    <!-- 0.075 -->\r\n    <g style=\"fill:#262626;\" transform=\"translate(146.985033 378.542804)scale(0.1 -0.1)\">\r\n     <use xlink:href=\"#DejaVuSans-48\"/>\r\n     <use x=\"63.623047\" xlink:href=\"#DejaVuSans-46\"/>\r\n     <use x=\"95.410156\" xlink:href=\"#DejaVuSans-48\"/>\r\n     <use x=\"159.033203\" xlink:href=\"#DejaVuSans-55\"/>\r\n     <use x=\"222.65625\" xlink:href=\"#DejaVuSans-53\"/>\r\n    </g>\r\n   </g>\r\n   <g id=\"text_193\">\r\n    <!-- 0.0076 -->\r\n    <g style=\"fill:#262626;\" transform=\"translate(179.045888 378.542804)scale(0.1 -0.1)\">\r\n     <use xlink:href=\"#DejaVuSans-48\"/>\r\n     <use x=\"63.623047\" xlink:href=\"#DejaVuSans-46\"/>\r\n     <use x=\"95.410156\" xlink:href=\"#DejaVuSans-48\"/>\r\n     <use x=\"159.033203\" xlink:href=\"#DejaVuSans-48\"/>\r\n     <use x=\"222.65625\" xlink:href=\"#DejaVuSans-55\"/>\r\n     <use x=\"286.279297\" xlink:href=\"#DejaVuSans-54\"/>\r\n    </g>\r\n   </g>\r\n   <g id=\"text_194\">\r\n    <!-- 0.066 -->\r\n    <g style=\"fill:#262626;\" transform=\"translate(217.469243 378.542804)scale(0.1 -0.1)\">\r\n     <use xlink:href=\"#DejaVuSans-48\"/>\r\n     <use x=\"63.623047\" xlink:href=\"#DejaVuSans-46\"/>\r\n     <use x=\"95.410156\" xlink:href=\"#DejaVuSans-48\"/>\r\n     <use x=\"159.033203\" xlink:href=\"#DejaVuSans-54\"/>\r\n     <use x=\"222.65625\" xlink:href=\"#DejaVuSans-54\"/>\r\n    </g>\r\n   </g>\r\n   <g id=\"text_195\">\r\n    <!-- -0.061 -->\r\n    <g style=\"fill:#262626;\" transform=\"translate(250.907442 378.542804)scale(0.1 -0.1)\">\r\n     <use xlink:href=\"#DejaVuSans-45\"/>\r\n     <use x=\"36.083984\" xlink:href=\"#DejaVuSans-48\"/>\r\n     <use x=\"99.707031\" xlink:href=\"#DejaVuSans-46\"/>\r\n     <use x=\"131.494141\" xlink:href=\"#DejaVuSans-48\"/>\r\n     <use x=\"195.117188\" xlink:href=\"#DejaVuSans-54\"/>\r\n     <use x=\"258.740234\" xlink:href=\"#DejaVuSans-49\"/>\r\n    </g>\r\n   </g>\r\n   <g id=\"text_196\">\r\n    <!-- 0.0039 -->\r\n    <g style=\"fill:#262626;\" transform=\"translate(284.772204 378.542804)scale(0.1 -0.1)\">\r\n     <use xlink:href=\"#DejaVuSans-48\"/>\r\n     <use x=\"63.623047\" xlink:href=\"#DejaVuSans-46\"/>\r\n     <use x=\"95.410156\" xlink:href=\"#DejaVuSans-48\"/>\r\n     <use x=\"159.033203\" xlink:href=\"#DejaVuSans-48\"/>\r\n     <use x=\"222.65625\" xlink:href=\"#DejaVuSans-51\"/>\r\n     <use x=\"286.279297\" xlink:href=\"#DejaVuSans-57\"/>\r\n    </g>\r\n   </g>\r\n   <g id=\"text_197\">\r\n    <!-- -0.11 -->\r\n    <g style=\"fill:#262626;\" transform=\"translate(324.572903 378.542804)scale(0.1 -0.1)\">\r\n     <use xlink:href=\"#DejaVuSans-45\"/>\r\n     <use x=\"36.083984\" xlink:href=\"#DejaVuSans-48\"/>\r\n     <use x=\"99.707031\" xlink:href=\"#DejaVuSans-46\"/>\r\n     <use x=\"131.494141\" xlink:href=\"#DejaVuSans-49\"/>\r\n     <use x=\"195.117188\" xlink:href=\"#DejaVuSans-49\"/>\r\n    </g>\r\n   </g>\r\n   <g id=\"text_198\">\r\n    <!-- 0.98 -->\r\n    <g style=\"fill:#ffffff;\" transform=\"translate(361.618914 378.542804)scale(0.1 -0.1)\">\r\n     <use xlink:href=\"#DejaVuSans-48\"/>\r\n     <use x=\"63.623047\" xlink:href=\"#DejaVuSans-46\"/>\r\n     <use x=\"95.410156\" xlink:href=\"#DejaVuSans-57\"/>\r\n     <use x=\"159.033203\" xlink:href=\"#DejaVuSans-56\"/>\r\n    </g>\r\n   </g>\r\n   <g id=\"text_199\">\r\n    <!-- 1 -->\r\n    <g style=\"fill:#ffffff;\" transform=\"translate(404.812582 378.542804)scale(0.1 -0.1)\">\r\n     <use xlink:href=\"#DejaVuSans-49\"/>\r\n    </g>\r\n   </g>\r\n   <g id=\"text_200\">\r\n    <!-- 0.42 -->\r\n    <g style=\"fill:#ffffff;\" transform=\"translate(432.103125 378.542804)scale(0.1 -0.1)\">\r\n     <use xlink:href=\"#DejaVuSans-48\"/>\r\n     <use x=\"63.623047\" xlink:href=\"#DejaVuSans-46\"/>\r\n     <use x=\"95.410156\" xlink:href=\"#DejaVuSans-52\"/>\r\n     <use x=\"159.033203\" xlink:href=\"#DejaVuSans-50\"/>\r\n    </g>\r\n   </g>\r\n   <g id=\"text_201\">\r\n    <!-- -0.11 -->\r\n    <g style=\"fill:#262626;\" transform=\"translate(465.541324 378.542804)scale(0.1 -0.1)\">\r\n     <use xlink:href=\"#DejaVuSans-45\"/>\r\n     <use x=\"36.083984\" xlink:href=\"#DejaVuSans-48\"/>\r\n     <use x=\"99.707031\" xlink:href=\"#DejaVuSans-46\"/>\r\n     <use x=\"131.494141\" xlink:href=\"#DejaVuSans-49\"/>\r\n     <use x=\"195.117188\" xlink:href=\"#DejaVuSans-49\"/>\r\n    </g>\r\n   </g>\r\n   <g id=\"text_202\">\r\n    <!-- -0.11 -->\r\n    <g style=\"fill:#262626;\" transform=\"translate(500.783429 378.542804)scale(0.1 -0.1)\">\r\n     <use xlink:href=\"#DejaVuSans-45\"/>\r\n     <use x=\"36.083984\" xlink:href=\"#DejaVuSans-48\"/>\r\n     <use x=\"99.707031\" xlink:href=\"#DejaVuSans-46\"/>\r\n     <use x=\"131.494141\" xlink:href=\"#DejaVuSans-49\"/>\r\n     <use x=\"195.117188\" xlink:href=\"#DejaVuSans-49\"/>\r\n    </g>\r\n   </g>\r\n   <g id=\"text_203\">\r\n    <!-- -0.11 -->\r\n    <g style=\"fill:#262626;\" transform=\"translate(536.025535 378.542804)scale(0.1 -0.1)\">\r\n     <use xlink:href=\"#DejaVuSans-45\"/>\r\n     <use x=\"36.083984\" xlink:href=\"#DejaVuSans-48\"/>\r\n     <use x=\"99.707031\" xlink:href=\"#DejaVuSans-46\"/>\r\n     <use x=\"131.494141\" xlink:href=\"#DejaVuSans-49\"/>\r\n     <use x=\"195.117188\" xlink:href=\"#DejaVuSans-49\"/>\r\n    </g>\r\n   </g>\r\n   <g id=\"text_204\">\r\n    <!-- -0.11 -->\r\n    <g style=\"fill:#262626;\" transform=\"translate(571.26764 378.542804)scale(0.1 -0.1)\">\r\n     <use xlink:href=\"#DejaVuSans-45\"/>\r\n     <use x=\"36.083984\" xlink:href=\"#DejaVuSans-48\"/>\r\n     <use x=\"99.707031\" xlink:href=\"#DejaVuSans-46\"/>\r\n     <use x=\"131.494141\" xlink:href=\"#DejaVuSans-49\"/>\r\n     <use x=\"195.117188\" xlink:href=\"#DejaVuSans-49\"/>\r\n    </g>\r\n   </g>\r\n   <g id=\"text_205\">\r\n    <!-- -0.11 -->\r\n    <g style=\"fill:#262626;\" transform=\"translate(606.509745 378.542804)scale(0.1 -0.1)\">\r\n     <use xlink:href=\"#DejaVuSans-45\"/>\r\n     <use x=\"36.083984\" xlink:href=\"#DejaVuSans-48\"/>\r\n     <use x=\"99.707031\" xlink:href=\"#DejaVuSans-46\"/>\r\n     <use x=\"131.494141\" xlink:href=\"#DejaVuSans-49\"/>\r\n     <use x=\"195.117188\" xlink:href=\"#DejaVuSans-49\"/>\r\n    </g>\r\n   </g>\r\n   <g id=\"text_206\">\r\n    <!-- 0.12 -->\r\n    <g style=\"fill:#262626;\" transform=\"translate(643.555757 378.542804)scale(0.1 -0.1)\">\r\n     <use xlink:href=\"#DejaVuSans-48\"/>\r\n     <use x=\"63.623047\" xlink:href=\"#DejaVuSans-46\"/>\r\n     <use x=\"95.410156\" xlink:href=\"#DejaVuSans-49\"/>\r\n     <use x=\"159.033203\" xlink:href=\"#DejaVuSans-50\"/>\r\n    </g>\r\n   </g>\r\n   <g id=\"text_207\">\r\n    <!-- -0.082 -->\r\n    <g style=\"fill:#262626;\" transform=\"translate(673.812706 378.542804)scale(0.1 -0.1)\">\r\n     <use xlink:href=\"#DejaVuSans-45\"/>\r\n     <use x=\"36.083984\" xlink:href=\"#DejaVuSans-48\"/>\r\n     <use x=\"99.707031\" xlink:href=\"#DejaVuSans-46\"/>\r\n     <use x=\"131.494141\" xlink:href=\"#DejaVuSans-48\"/>\r\n     <use x=\"195.117188\" xlink:href=\"#DejaVuSans-56\"/>\r\n     <use x=\"258.740234\" xlink:href=\"#DejaVuSans-50\"/>\r\n    </g>\r\n   </g>\r\n   <g id=\"text_208\">\r\n    <!-- -0.021 -->\r\n    <g style=\"fill:#262626;\" transform=\"translate(709.054811 378.542804)scale(0.1 -0.1)\">\r\n     <use xlink:href=\"#DejaVuSans-45\"/>\r\n     <use x=\"36.083984\" xlink:href=\"#DejaVuSans-48\"/>\r\n     <use x=\"99.707031\" xlink:href=\"#DejaVuSans-46\"/>\r\n     <use x=\"131.494141\" xlink:href=\"#DejaVuSans-48\"/>\r\n     <use x=\"195.117188\" xlink:href=\"#DejaVuSans-50\"/>\r\n     <use x=\"258.740234\" xlink:href=\"#DejaVuSans-49\"/>\r\n    </g>\r\n   </g>\r\n   <g id=\"text_209\">\r\n    <!-- -0.00043 -->\r\n    <g style=\"fill:#262626;\" transform=\"translate(737.934416 378.542804)scale(0.1 -0.1)\">\r\n     <use xlink:href=\"#DejaVuSans-45\"/>\r\n     <use x=\"36.083984\" xlink:href=\"#DejaVuSans-48\"/>\r\n     <use x=\"99.707031\" xlink:href=\"#DejaVuSans-46\"/>\r\n     <use x=\"131.494141\" xlink:href=\"#DejaVuSans-48\"/>\r\n     <use x=\"195.117188\" xlink:href=\"#DejaVuSans-48\"/>\r\n     <use x=\"258.740234\" xlink:href=\"#DejaVuSans-48\"/>\r\n     <use x=\"322.363281\" xlink:href=\"#DejaVuSans-52\"/>\r\n     <use x=\"385.986328\" xlink:href=\"#DejaVuSans-51\"/>\r\n    </g>\r\n   </g>\r\n   <g id=\"text_210\">\r\n    <!-- -0.099 -->\r\n    <g style=\"fill:#262626;\" transform=\"translate(109.939021 421.458594)scale(0.1 -0.1)\">\r\n     <use xlink:href=\"#DejaVuSans-45\"/>\r\n     <use x=\"36.083984\" xlink:href=\"#DejaVuSans-48\"/>\r\n     <use x=\"99.707031\" xlink:href=\"#DejaVuSans-46\"/>\r\n     <use x=\"131.494141\" xlink:href=\"#DejaVuSans-48\"/>\r\n     <use x=\"195.117188\" xlink:href=\"#DejaVuSans-57\"/>\r\n     <use x=\"258.740234\" xlink:href=\"#DejaVuSans-57\"/>\r\n    </g>\r\n   </g>\r\n   <g id=\"text_211\">\r\n    <!-- 0.13 -->\r\n    <g style=\"fill:#262626;\" transform=\"translate(150.166283 421.458594)scale(0.1 -0.1)\">\r\n     <use xlink:href=\"#DejaVuSans-48\"/>\r\n     <use x=\"63.623047\" xlink:href=\"#DejaVuSans-46\"/>\r\n     <use x=\"95.410156\" xlink:href=\"#DejaVuSans-49\"/>\r\n     <use x=\"159.033203\" xlink:href=\"#DejaVuSans-51\"/>\r\n    </g>\r\n   </g>\r\n   <g id=\"text_212\">\r\n    <!-- 0.0063 -->\r\n    <g style=\"fill:#262626;\" transform=\"translate(179.045888 421.458594)scale(0.1 -0.1)\">\r\n     <use xlink:href=\"#DejaVuSans-48\"/>\r\n     <use x=\"63.623047\" xlink:href=\"#DejaVuSans-46\"/>\r\n     <use x=\"95.410156\" xlink:href=\"#DejaVuSans-48\"/>\r\n     <use x=\"159.033203\" xlink:href=\"#DejaVuSans-48\"/>\r\n     <use x=\"222.65625\" xlink:href=\"#DejaVuSans-54\"/>\r\n     <use x=\"286.279297\" xlink:href=\"#DejaVuSans-51\"/>\r\n    </g>\r\n   </g>\r\n   <g id=\"text_213\">\r\n    <!-- -0.0048 -->\r\n    <g style=\"fill:#262626;\" transform=\"translate(212.484087 421.458594)scale(0.1 -0.1)\">\r\n     <use xlink:href=\"#DejaVuSans-45\"/>\r\n     <use x=\"36.083984\" xlink:href=\"#DejaVuSans-48\"/>\r\n     <use x=\"99.707031\" xlink:href=\"#DejaVuSans-46\"/>\r\n     <use x=\"131.494141\" xlink:href=\"#DejaVuSans-48\"/>\r\n     <use x=\"195.117188\" xlink:href=\"#DejaVuSans-48\"/>\r\n     <use x=\"258.740234\" xlink:href=\"#DejaVuSans-52\"/>\r\n     <use x=\"322.363281\" xlink:href=\"#DejaVuSans-56\"/>\r\n    </g>\r\n   </g>\r\n   <g id=\"text_214\">\r\n    <!-- -0.068 -->\r\n    <g style=\"fill:#262626;\" transform=\"translate(250.907442 421.458594)scale(0.1 -0.1)\">\r\n     <use xlink:href=\"#DejaVuSans-45\"/>\r\n     <use x=\"36.083984\" xlink:href=\"#DejaVuSans-48\"/>\r\n     <use x=\"99.707031\" xlink:href=\"#DejaVuSans-46\"/>\r\n     <use x=\"131.494141\" xlink:href=\"#DejaVuSans-48\"/>\r\n     <use x=\"195.117188\" xlink:href=\"#DejaVuSans-54\"/>\r\n     <use x=\"258.740234\" xlink:href=\"#DejaVuSans-56\"/>\r\n    </g>\r\n   </g>\r\n   <g id=\"text_215\">\r\n    <!-- 0.012 -->\r\n    <g style=\"fill:#262626;\" transform=\"translate(287.953454 421.458594)scale(0.1 -0.1)\">\r\n     <use xlink:href=\"#DejaVuSans-48\"/>\r\n     <use x=\"63.623047\" xlink:href=\"#DejaVuSans-46\"/>\r\n     <use x=\"95.410156\" xlink:href=\"#DejaVuSans-48\"/>\r\n     <use x=\"159.033203\" xlink:href=\"#DejaVuSans-49\"/>\r\n     <use x=\"222.65625\" xlink:href=\"#DejaVuSans-50\"/>\r\n    </g>\r\n   </g>\r\n   <g id=\"text_216\">\r\n    <!-- 0.11 -->\r\n    <g style=\"fill:#262626;\" transform=\"translate(326.376809 421.458594)scale(0.1 -0.1)\">\r\n     <use xlink:href=\"#DejaVuSans-48\"/>\r\n     <use x=\"63.623047\" xlink:href=\"#DejaVuSans-46\"/>\r\n     <use x=\"95.410156\" xlink:href=\"#DejaVuSans-49\"/>\r\n     <use x=\"159.033203\" xlink:href=\"#DejaVuSans-49\"/>\r\n    </g>\r\n   </g>\r\n   <g id=\"text_217\">\r\n    <!-- 0.41 -->\r\n    <g style=\"fill:#ffffff;\" transform=\"translate(361.618914 421.458594)scale(0.1 -0.1)\">\r\n     <use xlink:href=\"#DejaVuSans-48\"/>\r\n     <use x=\"63.623047\" xlink:href=\"#DejaVuSans-46\"/>\r\n     <use x=\"95.410156\" xlink:href=\"#DejaVuSans-52\"/>\r\n     <use x=\"159.033203\" xlink:href=\"#DejaVuSans-49\"/>\r\n    </g>\r\n   </g>\r\n   <g id=\"text_218\">\r\n    <!-- 0.42 -->\r\n    <g style=\"fill:#ffffff;\" transform=\"translate(396.86102 421.458594)scale(0.1 -0.1)\">\r\n     <use xlink:href=\"#DejaVuSans-48\"/>\r\n     <use x=\"63.623047\" xlink:href=\"#DejaVuSans-46\"/>\r\n     <use x=\"95.410156\" xlink:href=\"#DejaVuSans-52\"/>\r\n     <use x=\"159.033203\" xlink:href=\"#DejaVuSans-50\"/>\r\n    </g>\r\n   </g>\r\n   <g id=\"text_219\">\r\n    <!-- 1 -->\r\n    <g style=\"fill:#ffffff;\" transform=\"translate(440.054688 421.458594)scale(0.1 -0.1)\">\r\n     <use xlink:href=\"#DejaVuSans-49\"/>\r\n    </g>\r\n   </g>\r\n   <g id=\"text_220\">\r\n    <!-- 0.11 -->\r\n    <g style=\"fill:#262626;\" transform=\"translate(467.34523 421.458594)scale(0.1 -0.1)\">\r\n     <use xlink:href=\"#DejaVuSans-48\"/>\r\n     <use x=\"63.623047\" xlink:href=\"#DejaVuSans-46\"/>\r\n     <use x=\"95.410156\" xlink:href=\"#DejaVuSans-49\"/>\r\n     <use x=\"159.033203\" xlink:href=\"#DejaVuSans-49\"/>\r\n    </g>\r\n   </g>\r\n   <g id=\"text_221\">\r\n    <!-- 0.11 -->\r\n    <g style=\"fill:#262626;\" transform=\"translate(502.587336 421.458594)scale(0.1 -0.1)\">\r\n     <use xlink:href=\"#DejaVuSans-48\"/>\r\n     <use x=\"63.623047\" xlink:href=\"#DejaVuSans-46\"/>\r\n     <use x=\"95.410156\" xlink:href=\"#DejaVuSans-49\"/>\r\n     <use x=\"159.033203\" xlink:href=\"#DejaVuSans-49\"/>\r\n    </g>\r\n   </g>\r\n   <g id=\"text_222\">\r\n    <!-- 0.11 -->\r\n    <g style=\"fill:#262626;\" transform=\"translate(537.829441 421.458594)scale(0.1 -0.1)\">\r\n     <use xlink:href=\"#DejaVuSans-48\"/>\r\n     <use x=\"63.623047\" xlink:href=\"#DejaVuSans-46\"/>\r\n     <use x=\"95.410156\" xlink:href=\"#DejaVuSans-49\"/>\r\n     <use x=\"159.033203\" xlink:href=\"#DejaVuSans-49\"/>\r\n    </g>\r\n   </g>\r\n   <g id=\"text_223\">\r\n    <!-- 0.11 -->\r\n    <g style=\"fill:#262626;\" transform=\"translate(573.071546 421.458594)scale(0.1 -0.1)\">\r\n     <use xlink:href=\"#DejaVuSans-48\"/>\r\n     <use x=\"63.623047\" xlink:href=\"#DejaVuSans-46\"/>\r\n     <use x=\"95.410156\" xlink:href=\"#DejaVuSans-49\"/>\r\n     <use x=\"159.033203\" xlink:href=\"#DejaVuSans-49\"/>\r\n    </g>\r\n   </g>\r\n   <g id=\"text_224\">\r\n    <!-- 0.11 -->\r\n    <g style=\"fill:#262626;\" transform=\"translate(608.313651 421.458594)scale(0.1 -0.1)\">\r\n     <use xlink:href=\"#DejaVuSans-48\"/>\r\n     <use x=\"63.623047\" xlink:href=\"#DejaVuSans-46\"/>\r\n     <use x=\"95.410156\" xlink:href=\"#DejaVuSans-49\"/>\r\n     <use x=\"159.033203\" xlink:href=\"#DejaVuSans-49\"/>\r\n    </g>\r\n   </g>\r\n   <g id=\"text_225\">\r\n    <!-- -0.012 -->\r\n    <g style=\"fill:#262626;\" transform=\"translate(638.5706 421.458594)scale(0.1 -0.1)\">\r\n     <use xlink:href=\"#DejaVuSans-45\"/>\r\n     <use x=\"36.083984\" xlink:href=\"#DejaVuSans-48\"/>\r\n     <use x=\"99.707031\" xlink:href=\"#DejaVuSans-46\"/>\r\n     <use x=\"131.494141\" xlink:href=\"#DejaVuSans-48\"/>\r\n     <use x=\"195.117188\" xlink:href=\"#DejaVuSans-49\"/>\r\n     <use x=\"258.740234\" xlink:href=\"#DejaVuSans-50\"/>\r\n    </g>\r\n   </g>\r\n   <g id=\"text_226\">\r\n    <!-- 0.063 -->\r\n    <g style=\"fill:#262626;\" transform=\"translate(675.616612 421.458594)scale(0.1 -0.1)\">\r\n     <use xlink:href=\"#DejaVuSans-48\"/>\r\n     <use x=\"63.623047\" xlink:href=\"#DejaVuSans-46\"/>\r\n     <use x=\"95.410156\" xlink:href=\"#DejaVuSans-48\"/>\r\n     <use x=\"159.033203\" xlink:href=\"#DejaVuSans-54\"/>\r\n     <use x=\"222.65625\" xlink:href=\"#DejaVuSans-51\"/>\r\n    </g>\r\n   </g>\r\n   <g id=\"text_227\">\r\n    <!-- 0.052 -->\r\n    <g style=\"fill:#262626;\" transform=\"translate(710.858717 421.458594)scale(0.1 -0.1)\">\r\n     <use xlink:href=\"#DejaVuSans-48\"/>\r\n     <use x=\"63.623047\" xlink:href=\"#DejaVuSans-46\"/>\r\n     <use x=\"95.410156\" xlink:href=\"#DejaVuSans-48\"/>\r\n     <use x=\"159.033203\" xlink:href=\"#DejaVuSans-53\"/>\r\n     <use x=\"222.65625\" xlink:href=\"#DejaVuSans-50\"/>\r\n    </g>\r\n   </g>\r\n   <g id=\"text_228\">\r\n    <!-- -0.0002 -->\r\n    <g style=\"fill:#262626;\" transform=\"translate(741.115666 421.458594)scale(0.1 -0.1)\">\r\n     <use xlink:href=\"#DejaVuSans-45\"/>\r\n     <use x=\"36.083984\" xlink:href=\"#DejaVuSans-48\"/>\r\n     <use x=\"99.707031\" xlink:href=\"#DejaVuSans-46\"/>\r\n     <use x=\"131.494141\" xlink:href=\"#DejaVuSans-48\"/>\r\n     <use x=\"195.117188\" xlink:href=\"#DejaVuSans-48\"/>\r\n     <use x=\"258.740234\" xlink:href=\"#DejaVuSans-48\"/>\r\n     <use x=\"322.363281\" xlink:href=\"#DejaVuSans-50\"/>\r\n    </g>\r\n   </g>\r\n   <g id=\"text_229\">\r\n    <!-- 0.048 -->\r\n    <g style=\"fill:#262626;\" transform=\"translate(111.742928 464.374383)scale(0.1 -0.1)\">\r\n     <use xlink:href=\"#DejaVuSans-48\"/>\r\n     <use x=\"63.623047\" xlink:href=\"#DejaVuSans-46\"/>\r\n     <use x=\"95.410156\" xlink:href=\"#DejaVuSans-48\"/>\r\n     <use x=\"159.033203\" xlink:href=\"#DejaVuSans-52\"/>\r\n     <use x=\"222.65625\" xlink:href=\"#DejaVuSans-56\"/>\r\n    </g>\r\n   </g>\r\n   <g id=\"text_230\">\r\n    <!-- 0.063 -->\r\n    <g style=\"fill:#262626;\" transform=\"translate(146.985033 464.374383)scale(0.1 -0.1)\">\r\n     <use xlink:href=\"#DejaVuSans-48\"/>\r\n     <use x=\"63.623047\" xlink:href=\"#DejaVuSans-46\"/>\r\n     <use x=\"95.410156\" xlink:href=\"#DejaVuSans-48\"/>\r\n     <use x=\"159.033203\" xlink:href=\"#DejaVuSans-54\"/>\r\n     <use x=\"222.65625\" xlink:href=\"#DejaVuSans-51\"/>\r\n    </g>\r\n   </g>\r\n   <g id=\"text_231\">\r\n    <!-- -0.0011 -->\r\n    <g style=\"fill:#262626;\" transform=\"translate(177.241982 464.374383)scale(0.1 -0.1)\">\r\n     <use xlink:href=\"#DejaVuSans-45\"/>\r\n     <use x=\"36.083984\" xlink:href=\"#DejaVuSans-48\"/>\r\n     <use x=\"99.707031\" xlink:href=\"#DejaVuSans-46\"/>\r\n     <use x=\"131.494141\" xlink:href=\"#DejaVuSans-48\"/>\r\n     <use x=\"195.117188\" xlink:href=\"#DejaVuSans-48\"/>\r\n     <use x=\"258.740234\" xlink:href=\"#DejaVuSans-49\"/>\r\n     <use x=\"322.363281\" xlink:href=\"#DejaVuSans-49\"/>\r\n    </g>\r\n   </g>\r\n   <g id=\"text_232\">\r\n    <!-- -0.26 -->\r\n    <g style=\"fill:#262626;\" transform=\"translate(218.846587 464.374383)scale(0.1 -0.1)\">\r\n     <use xlink:href=\"#DejaVuSans-45\"/>\r\n     <use x=\"36.083984\" xlink:href=\"#DejaVuSans-48\"/>\r\n     <use x=\"99.707031\" xlink:href=\"#DejaVuSans-46\"/>\r\n     <use x=\"131.494141\" xlink:href=\"#DejaVuSans-50\"/>\r\n     <use x=\"195.117188\" xlink:href=\"#DejaVuSans-54\"/>\r\n    </g>\r\n   </g>\r\n   <g id=\"text_233\">\r\n    <!-- 0.046 -->\r\n    <g style=\"fill:#262626;\" transform=\"translate(252.711349 464.374383)scale(0.1 -0.1)\">\r\n     <use xlink:href=\"#DejaVuSans-48\"/>\r\n     <use x=\"63.623047\" xlink:href=\"#DejaVuSans-46\"/>\r\n     <use x=\"95.410156\" xlink:href=\"#DejaVuSans-48\"/>\r\n     <use x=\"159.033203\" xlink:href=\"#DejaVuSans-52\"/>\r\n     <use x=\"222.65625\" xlink:href=\"#DejaVuSans-54\"/>\r\n    </g>\r\n   </g>\r\n   <g id=\"text_234\">\r\n    <!-- -0.025 -->\r\n    <g style=\"fill:#262626;\" transform=\"translate(286.149548 464.374383)scale(0.1 -0.1)\">\r\n     <use xlink:href=\"#DejaVuSans-45\"/>\r\n     <use x=\"36.083984\" xlink:href=\"#DejaVuSans-48\"/>\r\n     <use x=\"99.707031\" xlink:href=\"#DejaVuSans-46\"/>\r\n     <use x=\"131.494141\" xlink:href=\"#DejaVuSans-48\"/>\r\n     <use x=\"195.117188\" xlink:href=\"#DejaVuSans-50\"/>\r\n     <use x=\"258.740234\" xlink:href=\"#DejaVuSans-53\"/>\r\n    </g>\r\n   </g>\r\n   <g id=\"text_235\">\r\n    <!-- 1 -->\r\n    <g style=\"fill:#ffffff;\" transform=\"translate(334.328372 464.374383)scale(0.1 -0.1)\">\r\n     <use xlink:href=\"#DejaVuSans-49\"/>\r\n    </g>\r\n   </g>\r\n   <g id=\"text_236\">\r\n    <!-- -0.11 -->\r\n    <g style=\"fill:#262626;\" transform=\"translate(359.815008 464.374383)scale(0.1 -0.1)\">\r\n     <use xlink:href=\"#DejaVuSans-45\"/>\r\n     <use x=\"36.083984\" xlink:href=\"#DejaVuSans-48\"/>\r\n     <use x=\"99.707031\" xlink:href=\"#DejaVuSans-46\"/>\r\n     <use x=\"131.494141\" xlink:href=\"#DejaVuSans-49\"/>\r\n     <use x=\"195.117188\" xlink:href=\"#DejaVuSans-49\"/>\r\n    </g>\r\n   </g>\r\n   <g id=\"text_237\">\r\n    <!-- -0.11 -->\r\n    <g style=\"fill:#262626;\" transform=\"translate(395.057113 464.374383)scale(0.1 -0.1)\">\r\n     <use xlink:href=\"#DejaVuSans-45\"/>\r\n     <use x=\"36.083984\" xlink:href=\"#DejaVuSans-48\"/>\r\n     <use x=\"99.707031\" xlink:href=\"#DejaVuSans-46\"/>\r\n     <use x=\"131.494141\" xlink:href=\"#DejaVuSans-49\"/>\r\n     <use x=\"195.117188\" xlink:href=\"#DejaVuSans-49\"/>\r\n    </g>\r\n   </g>\r\n   <g id=\"text_238\">\r\n    <!-- 0.11 -->\r\n    <g style=\"fill:#262626;\" transform=\"translate(432.103125 464.374383)scale(0.1 -0.1)\">\r\n     <use xlink:href=\"#DejaVuSans-48\"/>\r\n     <use x=\"63.623047\" xlink:href=\"#DejaVuSans-46\"/>\r\n     <use x=\"95.410156\" xlink:href=\"#DejaVuSans-49\"/>\r\n     <use x=\"159.033203\" xlink:href=\"#DejaVuSans-49\"/>\r\n    </g>\r\n   </g>\r\n   <g id=\"text_239\">\r\n    <!-- 1 -->\r\n    <g style=\"fill:#ffffff;\" transform=\"translate(475.296793 464.374383)scale(0.1 -0.1)\">\r\n     <use xlink:href=\"#DejaVuSans-49\"/>\r\n    </g>\r\n   </g>\r\n   <g id=\"text_240\">\r\n    <!-- 1 -->\r\n    <g style=\"fill:#ffffff;\" transform=\"translate(510.538898 464.374383)scale(0.1 -0.1)\">\r\n     <use xlink:href=\"#DejaVuSans-49\"/>\r\n    </g>\r\n   </g>\r\n   <g id=\"text_241\">\r\n    <!-- 1 -->\r\n    <g style=\"fill:#ffffff;\" transform=\"translate(545.781003 464.374383)scale(0.1 -0.1)\">\r\n     <use xlink:href=\"#DejaVuSans-49\"/>\r\n    </g>\r\n   </g>\r\n   <g id=\"text_242\">\r\n    <!-- 1 -->\r\n    <g style=\"fill:#ffffff;\" transform=\"translate(581.023109 464.374383)scale(0.1 -0.1)\">\r\n     <use xlink:href=\"#DejaVuSans-49\"/>\r\n    </g>\r\n   </g>\r\n   <g id=\"text_243\">\r\n    <!-- 1 -->\r\n    <g style=\"fill:#ffffff;\" transform=\"translate(616.265214 464.374383)scale(0.1 -0.1)\">\r\n     <use xlink:href=\"#DejaVuSans-49\"/>\r\n    </g>\r\n   </g>\r\n   <g id=\"text_244\">\r\n    <!-- -0.11 -->\r\n    <g style=\"fill:#262626;\" transform=\"translate(641.75185 464.374383)scale(0.1 -0.1)\">\r\n     <use xlink:href=\"#DejaVuSans-45\"/>\r\n     <use x=\"36.083984\" xlink:href=\"#DejaVuSans-48\"/>\r\n     <use x=\"99.707031\" xlink:href=\"#DejaVuSans-46\"/>\r\n     <use x=\"131.494141\" xlink:href=\"#DejaVuSans-49\"/>\r\n     <use x=\"195.117188\" xlink:href=\"#DejaVuSans-49\"/>\r\n    </g>\r\n   </g>\r\n   <g id=\"text_245\">\r\n    <!-- 0.2 -->\r\n    <g style=\"fill:#262626;\" transform=\"translate(681.979112 464.374383)scale(0.1 -0.1)\">\r\n     <use xlink:href=\"#DejaVuSans-48\"/>\r\n     <use x=\"63.623047\" xlink:href=\"#DejaVuSans-46\"/>\r\n     <use x=\"95.410156\" xlink:href=\"#DejaVuSans-50\"/>\r\n    </g>\r\n   </g>\r\n   <g id=\"text_246\">\r\n    <!-- 0.045 -->\r\n    <g style=\"fill:#262626;\" transform=\"translate(710.858717 464.374383)scale(0.1 -0.1)\">\r\n     <use xlink:href=\"#DejaVuSans-48\"/>\r\n     <use x=\"63.623047\" xlink:href=\"#DejaVuSans-46\"/>\r\n     <use x=\"95.410156\" xlink:href=\"#DejaVuSans-48\"/>\r\n     <use x=\"159.033203\" xlink:href=\"#DejaVuSans-52\"/>\r\n     <use x=\"222.65625\" xlink:href=\"#DejaVuSans-53\"/>\r\n    </g>\r\n   </g>\r\n   <g id=\"text_247\">\r\n    <!-- 0.00095 -->\r\n    <g style=\"fill:#262626;\" transform=\"translate(739.738322 464.374383)scale(0.1 -0.1)\">\r\n     <use xlink:href=\"#DejaVuSans-48\"/>\r\n     <use x=\"63.623047\" xlink:href=\"#DejaVuSans-46\"/>\r\n     <use x=\"95.410156\" xlink:href=\"#DejaVuSans-48\"/>\r\n     <use x=\"159.033203\" xlink:href=\"#DejaVuSans-48\"/>\r\n     <use x=\"222.65625\" xlink:href=\"#DejaVuSans-48\"/>\r\n     <use x=\"286.279297\" xlink:href=\"#DejaVuSans-57\"/>\r\n     <use x=\"349.902344\" xlink:href=\"#DejaVuSans-53\"/>\r\n    </g>\r\n   </g>\r\n   <g id=\"text_248\">\r\n    <!-- 0.049 -->\r\n    <g style=\"fill:#262626;\" transform=\"translate(111.742928 507.290173)scale(0.1 -0.1)\">\r\n     <use xlink:href=\"#DejaVuSans-48\"/>\r\n     <use x=\"63.623047\" xlink:href=\"#DejaVuSans-46\"/>\r\n     <use x=\"95.410156\" xlink:href=\"#DejaVuSans-48\"/>\r\n     <use x=\"159.033203\" xlink:href=\"#DejaVuSans-52\"/>\r\n     <use x=\"222.65625\" xlink:href=\"#DejaVuSans-57\"/>\r\n    </g>\r\n   </g>\r\n   <g id=\"text_249\">\r\n    <!-- 0.062 -->\r\n    <g style=\"fill:#262626;\" transform=\"translate(146.985033 507.290173)scale(0.1 -0.1)\">\r\n     <use xlink:href=\"#DejaVuSans-48\"/>\r\n     <use x=\"63.623047\" xlink:href=\"#DejaVuSans-46\"/>\r\n     <use x=\"95.410156\" xlink:href=\"#DejaVuSans-48\"/>\r\n     <use x=\"159.033203\" xlink:href=\"#DejaVuSans-54\"/>\r\n     <use x=\"222.65625\" xlink:href=\"#DejaVuSans-50\"/>\r\n    </g>\r\n   </g>\r\n   <g id=\"text_250\">\r\n    <!-- -0.0019 -->\r\n    <g style=\"fill:#262626;\" transform=\"translate(177.241982 507.290173)scale(0.1 -0.1)\">\r\n     <use xlink:href=\"#DejaVuSans-45\"/>\r\n     <use x=\"36.083984\" xlink:href=\"#DejaVuSans-48\"/>\r\n     <use x=\"99.707031\" xlink:href=\"#DejaVuSans-46\"/>\r\n     <use x=\"131.494141\" xlink:href=\"#DejaVuSans-48\"/>\r\n     <use x=\"195.117188\" xlink:href=\"#DejaVuSans-48\"/>\r\n     <use x=\"258.740234\" xlink:href=\"#DejaVuSans-49\"/>\r\n     <use x=\"322.363281\" xlink:href=\"#DejaVuSans-57\"/>\r\n    </g>\r\n   </g>\r\n   <g id=\"text_251\">\r\n    <!-- -0.26 -->\r\n    <g style=\"fill:#262626;\" transform=\"translate(218.846587 507.290173)scale(0.1 -0.1)\">\r\n     <use xlink:href=\"#DejaVuSans-45\"/>\r\n     <use x=\"36.083984\" xlink:href=\"#DejaVuSans-48\"/>\r\n     <use x=\"99.707031\" xlink:href=\"#DejaVuSans-46\"/>\r\n     <use x=\"131.494141\" xlink:href=\"#DejaVuSans-50\"/>\r\n     <use x=\"195.117188\" xlink:href=\"#DejaVuSans-54\"/>\r\n    </g>\r\n   </g>\r\n   <g id=\"text_252\">\r\n    <!-- 0.044 -->\r\n    <g style=\"fill:#262626;\" transform=\"translate(252.711349 507.290173)scale(0.1 -0.1)\">\r\n     <use xlink:href=\"#DejaVuSans-48\"/>\r\n     <use x=\"63.623047\" xlink:href=\"#DejaVuSans-46\"/>\r\n     <use x=\"95.410156\" xlink:href=\"#DejaVuSans-48\"/>\r\n     <use x=\"159.033203\" xlink:href=\"#DejaVuSans-52\"/>\r\n     <use x=\"222.65625\" xlink:href=\"#DejaVuSans-52\"/>\r\n    </g>\r\n   </g>\r\n   <g id=\"text_253\">\r\n    <!-- -0.024 -->\r\n    <g style=\"fill:#262626;\" transform=\"translate(286.149548 507.290173)scale(0.1 -0.1)\">\r\n     <use xlink:href=\"#DejaVuSans-45\"/>\r\n     <use x=\"36.083984\" xlink:href=\"#DejaVuSans-48\"/>\r\n     <use x=\"99.707031\" xlink:href=\"#DejaVuSans-46\"/>\r\n     <use x=\"131.494141\" xlink:href=\"#DejaVuSans-48\"/>\r\n     <use x=\"195.117188\" xlink:href=\"#DejaVuSans-50\"/>\r\n     <use x=\"258.740234\" xlink:href=\"#DejaVuSans-52\"/>\r\n    </g>\r\n   </g>\r\n   <g id=\"text_254\">\r\n    <!-- 1 -->\r\n    <g style=\"fill:#ffffff;\" transform=\"translate(334.328372 507.290173)scale(0.1 -0.1)\">\r\n     <use xlink:href=\"#DejaVuSans-49\"/>\r\n    </g>\r\n   </g>\r\n   <g id=\"text_255\">\r\n    <!-- -0.11 -->\r\n    <g style=\"fill:#262626;\" transform=\"translate(359.815008 507.290173)scale(0.1 -0.1)\">\r\n     <use xlink:href=\"#DejaVuSans-45\"/>\r\n     <use x=\"36.083984\" xlink:href=\"#DejaVuSans-48\"/>\r\n     <use x=\"99.707031\" xlink:href=\"#DejaVuSans-46\"/>\r\n     <use x=\"131.494141\" xlink:href=\"#DejaVuSans-49\"/>\r\n     <use x=\"195.117188\" xlink:href=\"#DejaVuSans-49\"/>\r\n    </g>\r\n   </g>\r\n   <g id=\"text_256\">\r\n    <!-- -0.11 -->\r\n    <g style=\"fill:#262626;\" transform=\"translate(395.057113 507.290173)scale(0.1 -0.1)\">\r\n     <use xlink:href=\"#DejaVuSans-45\"/>\r\n     <use x=\"36.083984\" xlink:href=\"#DejaVuSans-48\"/>\r\n     <use x=\"99.707031\" xlink:href=\"#DejaVuSans-46\"/>\r\n     <use x=\"131.494141\" xlink:href=\"#DejaVuSans-49\"/>\r\n     <use x=\"195.117188\" xlink:href=\"#DejaVuSans-49\"/>\r\n    </g>\r\n   </g>\r\n   <g id=\"text_257\">\r\n    <!-- 0.11 -->\r\n    <g style=\"fill:#262626;\" transform=\"translate(432.103125 507.290173)scale(0.1 -0.1)\">\r\n     <use xlink:href=\"#DejaVuSans-48\"/>\r\n     <use x=\"63.623047\" xlink:href=\"#DejaVuSans-46\"/>\r\n     <use x=\"95.410156\" xlink:href=\"#DejaVuSans-49\"/>\r\n     <use x=\"159.033203\" xlink:href=\"#DejaVuSans-49\"/>\r\n    </g>\r\n   </g>\r\n   <g id=\"text_258\">\r\n    <!-- 1 -->\r\n    <g style=\"fill:#ffffff;\" transform=\"translate(475.296793 507.290173)scale(0.1 -0.1)\">\r\n     <use xlink:href=\"#DejaVuSans-49\"/>\r\n    </g>\r\n   </g>\r\n   <g id=\"text_259\">\r\n    <!-- 1 -->\r\n    <g style=\"fill:#ffffff;\" transform=\"translate(510.538898 507.290173)scale(0.1 -0.1)\">\r\n     <use xlink:href=\"#DejaVuSans-49\"/>\r\n    </g>\r\n   </g>\r\n   <g id=\"text_260\">\r\n    <!-- 1 -->\r\n    <g style=\"fill:#ffffff;\" transform=\"translate(545.781003 507.290173)scale(0.1 -0.1)\">\r\n     <use xlink:href=\"#DejaVuSans-49\"/>\r\n    </g>\r\n   </g>\r\n   <g id=\"text_261\">\r\n    <!-- 1 -->\r\n    <g style=\"fill:#ffffff;\" transform=\"translate(581.023109 507.290173)scale(0.1 -0.1)\">\r\n     <use xlink:href=\"#DejaVuSans-49\"/>\r\n    </g>\r\n   </g>\r\n   <g id=\"text_262\">\r\n    <!-- 1 -->\r\n    <g style=\"fill:#ffffff;\" transform=\"translate(616.265214 507.290173)scale(0.1 -0.1)\">\r\n     <use xlink:href=\"#DejaVuSans-49\"/>\r\n    </g>\r\n   </g>\r\n   <g id=\"text_263\">\r\n    <!-- -0.11 -->\r\n    <g style=\"fill:#262626;\" transform=\"translate(641.75185 507.290173)scale(0.1 -0.1)\">\r\n     <use xlink:href=\"#DejaVuSans-45\"/>\r\n     <use x=\"36.083984\" xlink:href=\"#DejaVuSans-48\"/>\r\n     <use x=\"99.707031\" xlink:href=\"#DejaVuSans-46\"/>\r\n     <use x=\"131.494141\" xlink:href=\"#DejaVuSans-49\"/>\r\n     <use x=\"195.117188\" xlink:href=\"#DejaVuSans-49\"/>\r\n    </g>\r\n   </g>\r\n   <g id=\"text_264\">\r\n    <!-- 0.21 -->\r\n    <g style=\"fill:#262626;\" transform=\"translate(678.797862 507.290173)scale(0.1 -0.1)\">\r\n     <use xlink:href=\"#DejaVuSans-48\"/>\r\n     <use x=\"63.623047\" xlink:href=\"#DejaVuSans-46\"/>\r\n     <use x=\"95.410156\" xlink:href=\"#DejaVuSans-50\"/>\r\n     <use x=\"159.033203\" xlink:href=\"#DejaVuSans-49\"/>\r\n    </g>\r\n   </g>\r\n   <g id=\"text_265\">\r\n    <!-- 0.052 -->\r\n    <g style=\"fill:#262626;\" transform=\"translate(710.858717 507.290173)scale(0.1 -0.1)\">\r\n     <use xlink:href=\"#DejaVuSans-48\"/>\r\n     <use x=\"63.623047\" xlink:href=\"#DejaVuSans-46\"/>\r\n     <use x=\"95.410156\" xlink:href=\"#DejaVuSans-48\"/>\r\n     <use x=\"159.033203\" xlink:href=\"#DejaVuSans-53\"/>\r\n     <use x=\"222.65625\" xlink:href=\"#DejaVuSans-50\"/>\r\n    </g>\r\n   </g>\r\n   <g id=\"text_266\">\r\n    <!-- 0.0051 -->\r\n    <g style=\"fill:#262626;\" transform=\"translate(742.919572 507.290173)scale(0.1 -0.1)\">\r\n     <use xlink:href=\"#DejaVuSans-48\"/>\r\n     <use x=\"63.623047\" xlink:href=\"#DejaVuSans-46\"/>\r\n     <use x=\"95.410156\" xlink:href=\"#DejaVuSans-48\"/>\r\n     <use x=\"159.033203\" xlink:href=\"#DejaVuSans-48\"/>\r\n     <use x=\"222.65625\" xlink:href=\"#DejaVuSans-53\"/>\r\n     <use x=\"286.279297\" xlink:href=\"#DejaVuSans-49\"/>\r\n    </g>\r\n   </g>\r\n   <g id=\"text_267\">\r\n    <!-- 0.048 -->\r\n    <g style=\"fill:#262626;\" transform=\"translate(111.742928 550.205962)scale(0.1 -0.1)\">\r\n     <use xlink:href=\"#DejaVuSans-48\"/>\r\n     <use x=\"63.623047\" xlink:href=\"#DejaVuSans-46\"/>\r\n     <use x=\"95.410156\" xlink:href=\"#DejaVuSans-48\"/>\r\n     <use x=\"159.033203\" xlink:href=\"#DejaVuSans-52\"/>\r\n     <use x=\"222.65625\" xlink:href=\"#DejaVuSans-56\"/>\r\n    </g>\r\n   </g>\r\n   <g id=\"text_268\">\r\n    <!-- 0.059 -->\r\n    <g style=\"fill:#262626;\" transform=\"translate(146.985033 550.205962)scale(0.1 -0.1)\">\r\n     <use xlink:href=\"#DejaVuSans-48\"/>\r\n     <use x=\"63.623047\" xlink:href=\"#DejaVuSans-46\"/>\r\n     <use x=\"95.410156\" xlink:href=\"#DejaVuSans-48\"/>\r\n     <use x=\"159.033203\" xlink:href=\"#DejaVuSans-53\"/>\r\n     <use x=\"222.65625\" xlink:href=\"#DejaVuSans-57\"/>\r\n    </g>\r\n   </g>\r\n   <g id=\"text_269\">\r\n    <!-- 0.00029 -->\r\n    <g style=\"fill:#262626;\" transform=\"translate(175.864638 550.205962)scale(0.1 -0.1)\">\r\n     <use xlink:href=\"#DejaVuSans-48\"/>\r\n     <use x=\"63.623047\" xlink:href=\"#DejaVuSans-46\"/>\r\n     <use x=\"95.410156\" xlink:href=\"#DejaVuSans-48\"/>\r\n     <use x=\"159.033203\" xlink:href=\"#DejaVuSans-48\"/>\r\n     <use x=\"222.65625\" xlink:href=\"#DejaVuSans-48\"/>\r\n     <use x=\"286.279297\" xlink:href=\"#DejaVuSans-50\"/>\r\n     <use x=\"349.902344\" xlink:href=\"#DejaVuSans-57\"/>\r\n    </g>\r\n   </g>\r\n   <g id=\"text_270\">\r\n    <!-- -0.25 -->\r\n    <g style=\"fill:#262626;\" transform=\"translate(218.846587 550.205962)scale(0.1 -0.1)\">\r\n     <use xlink:href=\"#DejaVuSans-45\"/>\r\n     <use x=\"36.083984\" xlink:href=\"#DejaVuSans-48\"/>\r\n     <use x=\"99.707031\" xlink:href=\"#DejaVuSans-46\"/>\r\n     <use x=\"131.494141\" xlink:href=\"#DejaVuSans-50\"/>\r\n     <use x=\"195.117188\" xlink:href=\"#DejaVuSans-53\"/>\r\n    </g>\r\n   </g>\r\n   <g id=\"text_271\">\r\n    <!-- 0.04 -->\r\n    <g style=\"fill:#262626;\" transform=\"translate(255.892599 550.205962)scale(0.1 -0.1)\">\r\n     <use xlink:href=\"#DejaVuSans-48\"/>\r\n     <use x=\"63.623047\" xlink:href=\"#DejaVuSans-46\"/>\r\n     <use x=\"95.410156\" xlink:href=\"#DejaVuSans-48\"/>\r\n     <use x=\"159.033203\" xlink:href=\"#DejaVuSans-52\"/>\r\n    </g>\r\n   </g>\r\n   <g id=\"text_272\">\r\n    <!-- -0.022 -->\r\n    <g style=\"fill:#262626;\" transform=\"translate(286.149548 550.205962)scale(0.1 -0.1)\">\r\n     <use xlink:href=\"#DejaVuSans-45\"/>\r\n     <use x=\"36.083984\" xlink:href=\"#DejaVuSans-48\"/>\r\n     <use x=\"99.707031\" xlink:href=\"#DejaVuSans-46\"/>\r\n     <use x=\"131.494141\" xlink:href=\"#DejaVuSans-48\"/>\r\n     <use x=\"195.117188\" xlink:href=\"#DejaVuSans-50\"/>\r\n     <use x=\"258.740234\" xlink:href=\"#DejaVuSans-50\"/>\r\n    </g>\r\n   </g>\r\n   <g id=\"text_273\">\r\n    <!-- 1 -->\r\n    <g style=\"fill:#ffffff;\" transform=\"translate(334.328372 550.205962)scale(0.1 -0.1)\">\r\n     <use xlink:href=\"#DejaVuSans-49\"/>\r\n    </g>\r\n   </g>\r\n   <g id=\"text_274\">\r\n    <!-- -0.11 -->\r\n    <g style=\"fill:#262626;\" transform=\"translate(359.815008 550.205962)scale(0.1 -0.1)\">\r\n     <use xlink:href=\"#DejaVuSans-45\"/>\r\n     <use x=\"36.083984\" xlink:href=\"#DejaVuSans-48\"/>\r\n     <use x=\"99.707031\" xlink:href=\"#DejaVuSans-46\"/>\r\n     <use x=\"131.494141\" xlink:href=\"#DejaVuSans-49\"/>\r\n     <use x=\"195.117188\" xlink:href=\"#DejaVuSans-49\"/>\r\n    </g>\r\n   </g>\r\n   <g id=\"text_275\">\r\n    <!-- -0.11 -->\r\n    <g style=\"fill:#262626;\" transform=\"translate(395.057113 550.205962)scale(0.1 -0.1)\">\r\n     <use xlink:href=\"#DejaVuSans-45\"/>\r\n     <use x=\"36.083984\" xlink:href=\"#DejaVuSans-48\"/>\r\n     <use x=\"99.707031\" xlink:href=\"#DejaVuSans-46\"/>\r\n     <use x=\"131.494141\" xlink:href=\"#DejaVuSans-49\"/>\r\n     <use x=\"195.117188\" xlink:href=\"#DejaVuSans-49\"/>\r\n    </g>\r\n   </g>\r\n   <g id=\"text_276\">\r\n    <!-- 0.11 -->\r\n    <g style=\"fill:#262626;\" transform=\"translate(432.103125 550.205962)scale(0.1 -0.1)\">\r\n     <use xlink:href=\"#DejaVuSans-48\"/>\r\n     <use x=\"63.623047\" xlink:href=\"#DejaVuSans-46\"/>\r\n     <use x=\"95.410156\" xlink:href=\"#DejaVuSans-49\"/>\r\n     <use x=\"159.033203\" xlink:href=\"#DejaVuSans-49\"/>\r\n    </g>\r\n   </g>\r\n   <g id=\"text_277\">\r\n    <!-- 1 -->\r\n    <g style=\"fill:#ffffff;\" transform=\"translate(475.296793 550.205962)scale(0.1 -0.1)\">\r\n     <use xlink:href=\"#DejaVuSans-49\"/>\r\n    </g>\r\n   </g>\r\n   <g id=\"text_278\">\r\n    <!-- 1 -->\r\n    <g style=\"fill:#ffffff;\" transform=\"translate(510.538898 550.205962)scale(0.1 -0.1)\">\r\n     <use xlink:href=\"#DejaVuSans-49\"/>\r\n    </g>\r\n   </g>\r\n   <g id=\"text_279\">\r\n    <!-- 1 -->\r\n    <g style=\"fill:#ffffff;\" transform=\"translate(545.781003 550.205962)scale(0.1 -0.1)\">\r\n     <use xlink:href=\"#DejaVuSans-49\"/>\r\n    </g>\r\n   </g>\r\n   <g id=\"text_280\">\r\n    <!-- 1 -->\r\n    <g style=\"fill:#ffffff;\" transform=\"translate(581.023109 550.205962)scale(0.1 -0.1)\">\r\n     <use xlink:href=\"#DejaVuSans-49\"/>\r\n    </g>\r\n   </g>\r\n   <g id=\"text_281\">\r\n    <!-- 1 -->\r\n    <g style=\"fill:#ffffff;\" transform=\"translate(616.265214 550.205962)scale(0.1 -0.1)\">\r\n     <use xlink:href=\"#DejaVuSans-49\"/>\r\n    </g>\r\n   </g>\r\n   <g id=\"text_282\">\r\n    <!-- -0.11 -->\r\n    <g style=\"fill:#262626;\" transform=\"translate(641.75185 550.205962)scale(0.1 -0.1)\">\r\n     <use xlink:href=\"#DejaVuSans-45\"/>\r\n     <use x=\"36.083984\" xlink:href=\"#DejaVuSans-48\"/>\r\n     <use x=\"99.707031\" xlink:href=\"#DejaVuSans-46\"/>\r\n     <use x=\"131.494141\" xlink:href=\"#DejaVuSans-49\"/>\r\n     <use x=\"195.117188\" xlink:href=\"#DejaVuSans-49\"/>\r\n    </g>\r\n   </g>\r\n   <g id=\"text_283\">\r\n    <!-- 0.22 -->\r\n    <g style=\"fill:#262626;\" transform=\"translate(678.797862 550.205962)scale(0.1 -0.1)\">\r\n     <use xlink:href=\"#DejaVuSans-48\"/>\r\n     <use x=\"63.623047\" xlink:href=\"#DejaVuSans-46\"/>\r\n     <use x=\"95.410156\" xlink:href=\"#DejaVuSans-50\"/>\r\n     <use x=\"159.033203\" xlink:href=\"#DejaVuSans-50\"/>\r\n    </g>\r\n   </g>\r\n   <g id=\"text_284\">\r\n    <!-- 0.061 -->\r\n    <g style=\"fill:#262626;\" transform=\"translate(710.858717 550.205962)scale(0.1 -0.1)\">\r\n     <use xlink:href=\"#DejaVuSans-48\"/>\r\n     <use x=\"63.623047\" xlink:href=\"#DejaVuSans-46\"/>\r\n     <use x=\"95.410156\" xlink:href=\"#DejaVuSans-48\"/>\r\n     <use x=\"159.033203\" xlink:href=\"#DejaVuSans-54\"/>\r\n     <use x=\"222.65625\" xlink:href=\"#DejaVuSans-49\"/>\r\n    </g>\r\n   </g>\r\n   <g id=\"text_285\">\r\n    <!-- 0.0052 -->\r\n    <g style=\"fill:#262626;\" transform=\"translate(742.919572 550.205962)scale(0.1 -0.1)\">\r\n     <use xlink:href=\"#DejaVuSans-48\"/>\r\n     <use x=\"63.623047\" xlink:href=\"#DejaVuSans-46\"/>\r\n     <use x=\"95.410156\" xlink:href=\"#DejaVuSans-48\"/>\r\n     <use x=\"159.033203\" xlink:href=\"#DejaVuSans-48\"/>\r\n     <use x=\"222.65625\" xlink:href=\"#DejaVuSans-53\"/>\r\n     <use x=\"286.279297\" xlink:href=\"#DejaVuSans-50\"/>\r\n    </g>\r\n   </g>\r\n   <g id=\"text_286\">\r\n    <!-- 0.049 -->\r\n    <g style=\"fill:#262626;\" transform=\"translate(111.742928 593.121752)scale(0.1 -0.1)\">\r\n     <use xlink:href=\"#DejaVuSans-48\"/>\r\n     <use x=\"63.623047\" xlink:href=\"#DejaVuSans-46\"/>\r\n     <use x=\"95.410156\" xlink:href=\"#DejaVuSans-48\"/>\r\n     <use x=\"159.033203\" xlink:href=\"#DejaVuSans-52\"/>\r\n     <use x=\"222.65625\" xlink:href=\"#DejaVuSans-57\"/>\r\n    </g>\r\n   </g>\r\n   <g id=\"text_287\">\r\n    <!-- 0.062 -->\r\n    <g style=\"fill:#262626;\" transform=\"translate(146.985033 593.121752)scale(0.1 -0.1)\">\r\n     <use xlink:href=\"#DejaVuSans-48\"/>\r\n     <use x=\"63.623047\" xlink:href=\"#DejaVuSans-46\"/>\r\n     <use x=\"95.410156\" xlink:href=\"#DejaVuSans-48\"/>\r\n     <use x=\"159.033203\" xlink:href=\"#DejaVuSans-54\"/>\r\n     <use x=\"222.65625\" xlink:href=\"#DejaVuSans-50\"/>\r\n    </g>\r\n   </g>\r\n   <g id=\"text_288\">\r\n    <!-- -0.0028 -->\r\n    <g style=\"fill:#262626;\" transform=\"translate(177.241982 593.121752)scale(0.1 -0.1)\">\r\n     <use xlink:href=\"#DejaVuSans-45\"/>\r\n     <use x=\"36.083984\" xlink:href=\"#DejaVuSans-48\"/>\r\n     <use x=\"99.707031\" xlink:href=\"#DejaVuSans-46\"/>\r\n     <use x=\"131.494141\" xlink:href=\"#DejaVuSans-48\"/>\r\n     <use x=\"195.117188\" xlink:href=\"#DejaVuSans-48\"/>\r\n     <use x=\"258.740234\" xlink:href=\"#DejaVuSans-50\"/>\r\n     <use x=\"322.363281\" xlink:href=\"#DejaVuSans-56\"/>\r\n    </g>\r\n   </g>\r\n   <g id=\"text_289\">\r\n    <!-- -0.26 -->\r\n    <g style=\"fill:#262626;\" transform=\"translate(218.846587 593.121752)scale(0.1 -0.1)\">\r\n     <use xlink:href=\"#DejaVuSans-45\"/>\r\n     <use x=\"36.083984\" xlink:href=\"#DejaVuSans-48\"/>\r\n     <use x=\"99.707031\" xlink:href=\"#DejaVuSans-46\"/>\r\n     <use x=\"131.494141\" xlink:href=\"#DejaVuSans-50\"/>\r\n     <use x=\"195.117188\" xlink:href=\"#DejaVuSans-54\"/>\r\n    </g>\r\n   </g>\r\n   <g id=\"text_290\">\r\n    <!-- 0.044 -->\r\n    <g style=\"fill:#262626;\" transform=\"translate(252.711349 593.121752)scale(0.1 -0.1)\">\r\n     <use xlink:href=\"#DejaVuSans-48\"/>\r\n     <use x=\"63.623047\" xlink:href=\"#DejaVuSans-46\"/>\r\n     <use x=\"95.410156\" xlink:href=\"#DejaVuSans-48\"/>\r\n     <use x=\"159.033203\" xlink:href=\"#DejaVuSans-52\"/>\r\n     <use x=\"222.65625\" xlink:href=\"#DejaVuSans-52\"/>\r\n    </g>\r\n   </g>\r\n   <g id=\"text_291\">\r\n    <!-- -0.025 -->\r\n    <g style=\"fill:#262626;\" transform=\"translate(286.149548 593.121752)scale(0.1 -0.1)\">\r\n     <use xlink:href=\"#DejaVuSans-45\"/>\r\n     <use x=\"36.083984\" xlink:href=\"#DejaVuSans-48\"/>\r\n     <use x=\"99.707031\" xlink:href=\"#DejaVuSans-46\"/>\r\n     <use x=\"131.494141\" xlink:href=\"#DejaVuSans-48\"/>\r\n     <use x=\"195.117188\" xlink:href=\"#DejaVuSans-50\"/>\r\n     <use x=\"258.740234\" xlink:href=\"#DejaVuSans-53\"/>\r\n    </g>\r\n   </g>\r\n   <g id=\"text_292\">\r\n    <!-- 1 -->\r\n    <g style=\"fill:#ffffff;\" transform=\"translate(334.328372 593.121752)scale(0.1 -0.1)\">\r\n     <use xlink:href=\"#DejaVuSans-49\"/>\r\n    </g>\r\n   </g>\r\n   <g id=\"text_293\">\r\n    <!-- -0.11 -->\r\n    <g style=\"fill:#262626;\" transform=\"translate(359.815008 593.121752)scale(0.1 -0.1)\">\r\n     <use xlink:href=\"#DejaVuSans-45\"/>\r\n     <use x=\"36.083984\" xlink:href=\"#DejaVuSans-48\"/>\r\n     <use x=\"99.707031\" xlink:href=\"#DejaVuSans-46\"/>\r\n     <use x=\"131.494141\" xlink:href=\"#DejaVuSans-49\"/>\r\n     <use x=\"195.117188\" xlink:href=\"#DejaVuSans-49\"/>\r\n    </g>\r\n   </g>\r\n   <g id=\"text_294\">\r\n    <!-- -0.11 -->\r\n    <g style=\"fill:#262626;\" transform=\"translate(395.057113 593.121752)scale(0.1 -0.1)\">\r\n     <use xlink:href=\"#DejaVuSans-45\"/>\r\n     <use x=\"36.083984\" xlink:href=\"#DejaVuSans-48\"/>\r\n     <use x=\"99.707031\" xlink:href=\"#DejaVuSans-46\"/>\r\n     <use x=\"131.494141\" xlink:href=\"#DejaVuSans-49\"/>\r\n     <use x=\"195.117188\" xlink:href=\"#DejaVuSans-49\"/>\r\n    </g>\r\n   </g>\r\n   <g id=\"text_295\">\r\n    <!-- 0.11 -->\r\n    <g style=\"fill:#262626;\" transform=\"translate(432.103125 593.121752)scale(0.1 -0.1)\">\r\n     <use xlink:href=\"#DejaVuSans-48\"/>\r\n     <use x=\"63.623047\" xlink:href=\"#DejaVuSans-46\"/>\r\n     <use x=\"95.410156\" xlink:href=\"#DejaVuSans-49\"/>\r\n     <use x=\"159.033203\" xlink:href=\"#DejaVuSans-49\"/>\r\n    </g>\r\n   </g>\r\n   <g id=\"text_296\">\r\n    <!-- 1 -->\r\n    <g style=\"fill:#ffffff;\" transform=\"translate(475.296793 593.121752)scale(0.1 -0.1)\">\r\n     <use xlink:href=\"#DejaVuSans-49\"/>\r\n    </g>\r\n   </g>\r\n   <g id=\"text_297\">\r\n    <!-- 1 -->\r\n    <g style=\"fill:#ffffff;\" transform=\"translate(510.538898 593.121752)scale(0.1 -0.1)\">\r\n     <use xlink:href=\"#DejaVuSans-49\"/>\r\n    </g>\r\n   </g>\r\n   <g id=\"text_298\">\r\n    <!-- 1 -->\r\n    <g style=\"fill:#ffffff;\" transform=\"translate(545.781003 593.121752)scale(0.1 -0.1)\">\r\n     <use xlink:href=\"#DejaVuSans-49\"/>\r\n    </g>\r\n   </g>\r\n   <g id=\"text_299\">\r\n    <!-- 1 -->\r\n    <g style=\"fill:#ffffff;\" transform=\"translate(581.023109 593.121752)scale(0.1 -0.1)\">\r\n     <use xlink:href=\"#DejaVuSans-49\"/>\r\n    </g>\r\n   </g>\r\n   <g id=\"text_300\">\r\n    <!-- 1 -->\r\n    <g style=\"fill:#ffffff;\" transform=\"translate(616.265214 593.121752)scale(0.1 -0.1)\">\r\n     <use xlink:href=\"#DejaVuSans-49\"/>\r\n    </g>\r\n   </g>\r\n   <g id=\"text_301\">\r\n    <!-- -0.11 -->\r\n    <g style=\"fill:#262626;\" transform=\"translate(641.75185 593.121752)scale(0.1 -0.1)\">\r\n     <use xlink:href=\"#DejaVuSans-45\"/>\r\n     <use x=\"36.083984\" xlink:href=\"#DejaVuSans-48\"/>\r\n     <use x=\"99.707031\" xlink:href=\"#DejaVuSans-46\"/>\r\n     <use x=\"131.494141\" xlink:href=\"#DejaVuSans-49\"/>\r\n     <use x=\"195.117188\" xlink:href=\"#DejaVuSans-49\"/>\r\n    </g>\r\n   </g>\r\n   <g id=\"text_302\">\r\n    <!-- 0.19 -->\r\n    <g style=\"fill:#262626;\" transform=\"translate(678.797862 593.121752)scale(0.1 -0.1)\">\r\n     <use xlink:href=\"#DejaVuSans-48\"/>\r\n     <use x=\"63.623047\" xlink:href=\"#DejaVuSans-46\"/>\r\n     <use x=\"95.410156\" xlink:href=\"#DejaVuSans-49\"/>\r\n     <use x=\"159.033203\" xlink:href=\"#DejaVuSans-57\"/>\r\n    </g>\r\n   </g>\r\n   <g id=\"text_303\">\r\n    <!-- 0.044 -->\r\n    <g style=\"fill:#262626;\" transform=\"translate(710.858717 593.121752)scale(0.1 -0.1)\">\r\n     <use xlink:href=\"#DejaVuSans-48\"/>\r\n     <use x=\"63.623047\" xlink:href=\"#DejaVuSans-46\"/>\r\n     <use x=\"95.410156\" xlink:href=\"#DejaVuSans-48\"/>\r\n     <use x=\"159.033203\" xlink:href=\"#DejaVuSans-52\"/>\r\n     <use x=\"222.65625\" xlink:href=\"#DejaVuSans-52\"/>\r\n    </g>\r\n   </g>\r\n   <g id=\"text_304\">\r\n    <!-- -0.0017 -->\r\n    <g style=\"fill:#262626;\" transform=\"translate(741.115666 593.121752)scale(0.1 -0.1)\">\r\n     <use xlink:href=\"#DejaVuSans-45\"/>\r\n     <use x=\"36.083984\" xlink:href=\"#DejaVuSans-48\"/>\r\n     <use x=\"99.707031\" xlink:href=\"#DejaVuSans-46\"/>\r\n     <use x=\"131.494141\" xlink:href=\"#DejaVuSans-48\"/>\r\n     <use x=\"195.117188\" xlink:href=\"#DejaVuSans-48\"/>\r\n     <use x=\"258.740234\" xlink:href=\"#DejaVuSans-49\"/>\r\n     <use x=\"322.363281\" xlink:href=\"#DejaVuSans-55\"/>\r\n    </g>\r\n   </g>\r\n   <g id=\"text_305\">\r\n    <!-- 0.048 -->\r\n    <g style=\"fill:#262626;\" transform=\"translate(111.742928 636.037541)scale(0.1 -0.1)\">\r\n     <use xlink:href=\"#DejaVuSans-48\"/>\r\n     <use x=\"63.623047\" xlink:href=\"#DejaVuSans-46\"/>\r\n     <use x=\"95.410156\" xlink:href=\"#DejaVuSans-48\"/>\r\n     <use x=\"159.033203\" xlink:href=\"#DejaVuSans-52\"/>\r\n     <use x=\"222.65625\" xlink:href=\"#DejaVuSans-56\"/>\r\n    </g>\r\n   </g>\r\n   <g id=\"text_306\">\r\n    <!-- 0.06 -->\r\n    <g style=\"fill:#262626;\" transform=\"translate(150.166283 636.037541)scale(0.1 -0.1)\">\r\n     <use xlink:href=\"#DejaVuSans-48\"/>\r\n     <use x=\"63.623047\" xlink:href=\"#DejaVuSans-46\"/>\r\n     <use x=\"95.410156\" xlink:href=\"#DejaVuSans-48\"/>\r\n     <use x=\"159.033203\" xlink:href=\"#DejaVuSans-54\"/>\r\n    </g>\r\n   </g>\r\n   <g id=\"text_307\">\r\n    <!-- -0.00079 -->\r\n    <g style=\"fill:#262626;\" transform=\"translate(174.060732 636.037541)scale(0.1 -0.1)\">\r\n     <use xlink:href=\"#DejaVuSans-45\"/>\r\n     <use x=\"36.083984\" xlink:href=\"#DejaVuSans-48\"/>\r\n     <use x=\"99.707031\" xlink:href=\"#DejaVuSans-46\"/>\r\n     <use x=\"131.494141\" xlink:href=\"#DejaVuSans-48\"/>\r\n     <use x=\"195.117188\" xlink:href=\"#DejaVuSans-48\"/>\r\n     <use x=\"258.740234\" xlink:href=\"#DejaVuSans-48\"/>\r\n     <use x=\"322.363281\" xlink:href=\"#DejaVuSans-55\"/>\r\n     <use x=\"385.986328\" xlink:href=\"#DejaVuSans-57\"/>\r\n    </g>\r\n   </g>\r\n   <g id=\"text_308\">\r\n    <!-- -0.26 -->\r\n    <g style=\"fill:#262626;\" transform=\"translate(218.846587 636.037541)scale(0.1 -0.1)\">\r\n     <use xlink:href=\"#DejaVuSans-45\"/>\r\n     <use x=\"36.083984\" xlink:href=\"#DejaVuSans-48\"/>\r\n     <use x=\"99.707031\" xlink:href=\"#DejaVuSans-46\"/>\r\n     <use x=\"131.494141\" xlink:href=\"#DejaVuSans-50\"/>\r\n     <use x=\"195.117188\" xlink:href=\"#DejaVuSans-54\"/>\r\n    </g>\r\n   </g>\r\n   <g id=\"text_309\">\r\n    <!-- 0.039 -->\r\n    <g style=\"fill:#262626;\" transform=\"translate(252.711349 636.037541)scale(0.1 -0.1)\">\r\n     <use xlink:href=\"#DejaVuSans-48\"/>\r\n     <use x=\"63.623047\" xlink:href=\"#DejaVuSans-46\"/>\r\n     <use x=\"95.410156\" xlink:href=\"#DejaVuSans-48\"/>\r\n     <use x=\"159.033203\" xlink:href=\"#DejaVuSans-51\"/>\r\n     <use x=\"222.65625\" xlink:href=\"#DejaVuSans-57\"/>\r\n    </g>\r\n   </g>\r\n   <g id=\"text_310\">\r\n    <!-- -0.023 -->\r\n    <g style=\"fill:#262626;\" transform=\"translate(286.149548 636.037541)scale(0.1 -0.1)\">\r\n     <use xlink:href=\"#DejaVuSans-45\"/>\r\n     <use x=\"36.083984\" xlink:href=\"#DejaVuSans-48\"/>\r\n     <use x=\"99.707031\" xlink:href=\"#DejaVuSans-46\"/>\r\n     <use x=\"131.494141\" xlink:href=\"#DejaVuSans-48\"/>\r\n     <use x=\"195.117188\" xlink:href=\"#DejaVuSans-50\"/>\r\n     <use x=\"258.740234\" xlink:href=\"#DejaVuSans-51\"/>\r\n    </g>\r\n   </g>\r\n   <g id=\"text_311\">\r\n    <!-- 1 -->\r\n    <g style=\"fill:#ffffff;\" transform=\"translate(334.328372 636.037541)scale(0.1 -0.1)\">\r\n     <use xlink:href=\"#DejaVuSans-49\"/>\r\n    </g>\r\n   </g>\r\n   <g id=\"text_312\">\r\n    <!-- -0.11 -->\r\n    <g style=\"fill:#262626;\" transform=\"translate(359.815008 636.037541)scale(0.1 -0.1)\">\r\n     <use xlink:href=\"#DejaVuSans-45\"/>\r\n     <use x=\"36.083984\" xlink:href=\"#DejaVuSans-48\"/>\r\n     <use x=\"99.707031\" xlink:href=\"#DejaVuSans-46\"/>\r\n     <use x=\"131.494141\" xlink:href=\"#DejaVuSans-49\"/>\r\n     <use x=\"195.117188\" xlink:href=\"#DejaVuSans-49\"/>\r\n    </g>\r\n   </g>\r\n   <g id=\"text_313\">\r\n    <!-- -0.11 -->\r\n    <g style=\"fill:#262626;\" transform=\"translate(395.057113 636.037541)scale(0.1 -0.1)\">\r\n     <use xlink:href=\"#DejaVuSans-45\"/>\r\n     <use x=\"36.083984\" xlink:href=\"#DejaVuSans-48\"/>\r\n     <use x=\"99.707031\" xlink:href=\"#DejaVuSans-46\"/>\r\n     <use x=\"131.494141\" xlink:href=\"#DejaVuSans-49\"/>\r\n     <use x=\"195.117188\" xlink:href=\"#DejaVuSans-49\"/>\r\n    </g>\r\n   </g>\r\n   <g id=\"text_314\">\r\n    <!-- 0.11 -->\r\n    <g style=\"fill:#262626;\" transform=\"translate(432.103125 636.037541)scale(0.1 -0.1)\">\r\n     <use xlink:href=\"#DejaVuSans-48\"/>\r\n     <use x=\"63.623047\" xlink:href=\"#DejaVuSans-46\"/>\r\n     <use x=\"95.410156\" xlink:href=\"#DejaVuSans-49\"/>\r\n     <use x=\"159.033203\" xlink:href=\"#DejaVuSans-49\"/>\r\n    </g>\r\n   </g>\r\n   <g id=\"text_315\">\r\n    <!-- 1 -->\r\n    <g style=\"fill:#ffffff;\" transform=\"translate(475.296793 636.037541)scale(0.1 -0.1)\">\r\n     <use xlink:href=\"#DejaVuSans-49\"/>\r\n    </g>\r\n   </g>\r\n   <g id=\"text_316\">\r\n    <!-- 1 -->\r\n    <g style=\"fill:#ffffff;\" transform=\"translate(510.538898 636.037541)scale(0.1 -0.1)\">\r\n     <use xlink:href=\"#DejaVuSans-49\"/>\r\n    </g>\r\n   </g>\r\n   <g id=\"text_317\">\r\n    <!-- 1 -->\r\n    <g style=\"fill:#ffffff;\" transform=\"translate(545.781003 636.037541)scale(0.1 -0.1)\">\r\n     <use xlink:href=\"#DejaVuSans-49\"/>\r\n    </g>\r\n   </g>\r\n   <g id=\"text_318\">\r\n    <!-- 1 -->\r\n    <g style=\"fill:#ffffff;\" transform=\"translate(581.023109 636.037541)scale(0.1 -0.1)\">\r\n     <use xlink:href=\"#DejaVuSans-49\"/>\r\n    </g>\r\n   </g>\r\n   <g id=\"text_319\">\r\n    <!-- 1 -->\r\n    <g style=\"fill:#ffffff;\" transform=\"translate(616.265214 636.037541)scale(0.1 -0.1)\">\r\n     <use xlink:href=\"#DejaVuSans-49\"/>\r\n    </g>\r\n   </g>\r\n   <g id=\"text_320\">\r\n    <!-- -0.11 -->\r\n    <g style=\"fill:#262626;\" transform=\"translate(641.75185 636.037541)scale(0.1 -0.1)\">\r\n     <use xlink:href=\"#DejaVuSans-45\"/>\r\n     <use x=\"36.083984\" xlink:href=\"#DejaVuSans-48\"/>\r\n     <use x=\"99.707031\" xlink:href=\"#DejaVuSans-46\"/>\r\n     <use x=\"131.494141\" xlink:href=\"#DejaVuSans-49\"/>\r\n     <use x=\"195.117188\" xlink:href=\"#DejaVuSans-49\"/>\r\n    </g>\r\n   </g>\r\n   <g id=\"text_321\">\r\n    <!-- 0.21 -->\r\n    <g style=\"fill:#262626;\" transform=\"translate(678.797862 636.037541)scale(0.1 -0.1)\">\r\n     <use xlink:href=\"#DejaVuSans-48\"/>\r\n     <use x=\"63.623047\" xlink:href=\"#DejaVuSans-46\"/>\r\n     <use x=\"95.410156\" xlink:href=\"#DejaVuSans-50\"/>\r\n     <use x=\"159.033203\" xlink:href=\"#DejaVuSans-49\"/>\r\n    </g>\r\n   </g>\r\n   <g id=\"text_322\">\r\n    <!-- 0.055 -->\r\n    <g style=\"fill:#262626;\" transform=\"translate(710.858717 636.037541)scale(0.1 -0.1)\">\r\n     <use xlink:href=\"#DejaVuSans-48\"/>\r\n     <use x=\"63.623047\" xlink:href=\"#DejaVuSans-46\"/>\r\n     <use x=\"95.410156\" xlink:href=\"#DejaVuSans-48\"/>\r\n     <use x=\"159.033203\" xlink:href=\"#DejaVuSans-53\"/>\r\n     <use x=\"222.65625\" xlink:href=\"#DejaVuSans-53\"/>\r\n    </g>\r\n   </g>\r\n   <g id=\"text_323\">\r\n    <!-- 0.00058 -->\r\n    <g style=\"fill:#262626;\" transform=\"translate(739.738322 636.037541)scale(0.1 -0.1)\">\r\n     <use xlink:href=\"#DejaVuSans-48\"/>\r\n     <use x=\"63.623047\" xlink:href=\"#DejaVuSans-46\"/>\r\n     <use x=\"95.410156\" xlink:href=\"#DejaVuSans-48\"/>\r\n     <use x=\"159.033203\" xlink:href=\"#DejaVuSans-48\"/>\r\n     <use x=\"222.65625\" xlink:href=\"#DejaVuSans-48\"/>\r\n     <use x=\"286.279297\" xlink:href=\"#DejaVuSans-53\"/>\r\n     <use x=\"349.902344\" xlink:href=\"#DejaVuSans-56\"/>\r\n    </g>\r\n   </g>\r\n   <g id=\"text_324\">\r\n    <!-- -0.012 -->\r\n    <g style=\"fill:#262626;\" transform=\"translate(109.939021 678.953331)scale(0.1 -0.1)\">\r\n     <use xlink:href=\"#DejaVuSans-45\"/>\r\n     <use x=\"36.083984\" xlink:href=\"#DejaVuSans-48\"/>\r\n     <use x=\"99.707031\" xlink:href=\"#DejaVuSans-46\"/>\r\n     <use x=\"131.494141\" xlink:href=\"#DejaVuSans-48\"/>\r\n     <use x=\"195.117188\" xlink:href=\"#DejaVuSans-49\"/>\r\n     <use x=\"258.740234\" xlink:href=\"#DejaVuSans-50\"/>\r\n    </g>\r\n   </g>\r\n   <g id=\"text_325\">\r\n    <!-- -0.061 -->\r\n    <g style=\"fill:#262626;\" transform=\"translate(145.181127 678.953331)scale(0.1 -0.1)\">\r\n     <use xlink:href=\"#DejaVuSans-45\"/>\r\n     <use x=\"36.083984\" xlink:href=\"#DejaVuSans-48\"/>\r\n     <use x=\"99.707031\" xlink:href=\"#DejaVuSans-46\"/>\r\n     <use x=\"131.494141\" xlink:href=\"#DejaVuSans-48\"/>\r\n     <use x=\"195.117188\" xlink:href=\"#DejaVuSans-54\"/>\r\n     <use x=\"258.740234\" xlink:href=\"#DejaVuSans-49\"/>\r\n    </g>\r\n   </g>\r\n   <g id=\"text_326\">\r\n    <!-- 0.021 -->\r\n    <g style=\"fill:#262626;\" transform=\"translate(182.227138 678.953331)scale(0.1 -0.1)\">\r\n     <use xlink:href=\"#DejaVuSans-48\"/>\r\n     <use x=\"63.623047\" xlink:href=\"#DejaVuSans-46\"/>\r\n     <use x=\"95.410156\" xlink:href=\"#DejaVuSans-48\"/>\r\n     <use x=\"159.033203\" xlink:href=\"#DejaVuSans-50\"/>\r\n     <use x=\"222.65625\" xlink:href=\"#DejaVuSans-49\"/>\r\n    </g>\r\n   </g>\r\n   <g id=\"text_327\">\r\n    <!-- 0.0027 -->\r\n    <g style=\"fill:#262626;\" transform=\"translate(214.287993 678.953331)scale(0.1 -0.1)\">\r\n     <use xlink:href=\"#DejaVuSans-48\"/>\r\n     <use x=\"63.623047\" xlink:href=\"#DejaVuSans-46\"/>\r\n     <use x=\"95.410156\" xlink:href=\"#DejaVuSans-48\"/>\r\n     <use x=\"159.033203\" xlink:href=\"#DejaVuSans-48\"/>\r\n     <use x=\"222.65625\" xlink:href=\"#DejaVuSans-50\"/>\r\n     <use x=\"286.279297\" xlink:href=\"#DejaVuSans-55\"/>\r\n    </g>\r\n   </g>\r\n   <g id=\"text_328\">\r\n    <!-- -0.015 -->\r\n    <g style=\"fill:#262626;\" transform=\"translate(250.907442 678.953331)scale(0.1 -0.1)\">\r\n     <use xlink:href=\"#DejaVuSans-45\"/>\r\n     <use x=\"36.083984\" xlink:href=\"#DejaVuSans-48\"/>\r\n     <use x=\"99.707031\" xlink:href=\"#DejaVuSans-46\"/>\r\n     <use x=\"131.494141\" xlink:href=\"#DejaVuSans-48\"/>\r\n     <use x=\"195.117188\" xlink:href=\"#DejaVuSans-49\"/>\r\n     <use x=\"258.740234\" xlink:href=\"#DejaVuSans-53\"/>\r\n    </g>\r\n   </g>\r\n   <g id=\"text_329\">\r\n    <!-- 0.014 -->\r\n    <g style=\"fill:#262626;\" transform=\"translate(287.953454 678.953331)scale(0.1 -0.1)\">\r\n     <use xlink:href=\"#DejaVuSans-48\"/>\r\n     <use x=\"63.623047\" xlink:href=\"#DejaVuSans-46\"/>\r\n     <use x=\"95.410156\" xlink:href=\"#DejaVuSans-48\"/>\r\n     <use x=\"159.033203\" xlink:href=\"#DejaVuSans-49\"/>\r\n     <use x=\"222.65625\" xlink:href=\"#DejaVuSans-52\"/>\r\n    </g>\r\n   </g>\r\n   <g id=\"text_330\">\r\n    <!-- -0.11 -->\r\n    <g style=\"fill:#262626;\" transform=\"translate(324.572903 678.953331)scale(0.1 -0.1)\">\r\n     <use xlink:href=\"#DejaVuSans-45\"/>\r\n     <use x=\"36.083984\" xlink:href=\"#DejaVuSans-48\"/>\r\n     <use x=\"99.707031\" xlink:href=\"#DejaVuSans-46\"/>\r\n     <use x=\"131.494141\" xlink:href=\"#DejaVuSans-49\"/>\r\n     <use x=\"195.117188\" xlink:href=\"#DejaVuSans-49\"/>\r\n    </g>\r\n   </g>\r\n   <g id=\"text_331\">\r\n    <!-- 0.12 -->\r\n    <g style=\"fill:#262626;\" transform=\"translate(361.618914 678.953331)scale(0.1 -0.1)\">\r\n     <use xlink:href=\"#DejaVuSans-48\"/>\r\n     <use x=\"63.623047\" xlink:href=\"#DejaVuSans-46\"/>\r\n     <use x=\"95.410156\" xlink:href=\"#DejaVuSans-49\"/>\r\n     <use x=\"159.033203\" xlink:href=\"#DejaVuSans-50\"/>\r\n    </g>\r\n   </g>\r\n   <g id=\"text_332\">\r\n    <!-- 0.12 -->\r\n    <g style=\"fill:#262626;\" transform=\"translate(396.86102 678.953331)scale(0.1 -0.1)\">\r\n     <use xlink:href=\"#DejaVuSans-48\"/>\r\n     <use x=\"63.623047\" xlink:href=\"#DejaVuSans-46\"/>\r\n     <use x=\"95.410156\" xlink:href=\"#DejaVuSans-49\"/>\r\n     <use x=\"159.033203\" xlink:href=\"#DejaVuSans-50\"/>\r\n    </g>\r\n   </g>\r\n   <g id=\"text_333\">\r\n    <!-- -0.012 -->\r\n    <g style=\"fill:#262626;\" transform=\"translate(427.117969 678.953331)scale(0.1 -0.1)\">\r\n     <use xlink:href=\"#DejaVuSans-45\"/>\r\n     <use x=\"36.083984\" xlink:href=\"#DejaVuSans-48\"/>\r\n     <use x=\"99.707031\" xlink:href=\"#DejaVuSans-46\"/>\r\n     <use x=\"131.494141\" xlink:href=\"#DejaVuSans-48\"/>\r\n     <use x=\"195.117188\" xlink:href=\"#DejaVuSans-49\"/>\r\n     <use x=\"258.740234\" xlink:href=\"#DejaVuSans-50\"/>\r\n    </g>\r\n   </g>\r\n   <g id=\"text_334\">\r\n    <!-- -0.11 -->\r\n    <g style=\"fill:#262626;\" transform=\"translate(465.541324 678.953331)scale(0.1 -0.1)\">\r\n     <use xlink:href=\"#DejaVuSans-45\"/>\r\n     <use x=\"36.083984\" xlink:href=\"#DejaVuSans-48\"/>\r\n     <use x=\"99.707031\" xlink:href=\"#DejaVuSans-46\"/>\r\n     <use x=\"131.494141\" xlink:href=\"#DejaVuSans-49\"/>\r\n     <use x=\"195.117188\" xlink:href=\"#DejaVuSans-49\"/>\r\n    </g>\r\n   </g>\r\n   <g id=\"text_335\">\r\n    <!-- -0.11 -->\r\n    <g style=\"fill:#262626;\" transform=\"translate(500.783429 678.953331)scale(0.1 -0.1)\">\r\n     <use xlink:href=\"#DejaVuSans-45\"/>\r\n     <use x=\"36.083984\" xlink:href=\"#DejaVuSans-48\"/>\r\n     <use x=\"99.707031\" xlink:href=\"#DejaVuSans-46\"/>\r\n     <use x=\"131.494141\" xlink:href=\"#DejaVuSans-49\"/>\r\n     <use x=\"195.117188\" xlink:href=\"#DejaVuSans-49\"/>\r\n    </g>\r\n   </g>\r\n   <g id=\"text_336\">\r\n    <!-- -0.11 -->\r\n    <g style=\"fill:#262626;\" transform=\"translate(536.025535 678.953331)scale(0.1 -0.1)\">\r\n     <use xlink:href=\"#DejaVuSans-45\"/>\r\n     <use x=\"36.083984\" xlink:href=\"#DejaVuSans-48\"/>\r\n     <use x=\"99.707031\" xlink:href=\"#DejaVuSans-46\"/>\r\n     <use x=\"131.494141\" xlink:href=\"#DejaVuSans-49\"/>\r\n     <use x=\"195.117188\" xlink:href=\"#DejaVuSans-49\"/>\r\n    </g>\r\n   </g>\r\n   <g id=\"text_337\">\r\n    <!-- -0.11 -->\r\n    <g style=\"fill:#262626;\" transform=\"translate(571.26764 678.953331)scale(0.1 -0.1)\">\r\n     <use xlink:href=\"#DejaVuSans-45\"/>\r\n     <use x=\"36.083984\" xlink:href=\"#DejaVuSans-48\"/>\r\n     <use x=\"99.707031\" xlink:href=\"#DejaVuSans-46\"/>\r\n     <use x=\"131.494141\" xlink:href=\"#DejaVuSans-49\"/>\r\n     <use x=\"195.117188\" xlink:href=\"#DejaVuSans-49\"/>\r\n    </g>\r\n   </g>\r\n   <g id=\"text_338\">\r\n    <!-- -0.11 -->\r\n    <g style=\"fill:#262626;\" transform=\"translate(606.509745 678.953331)scale(0.1 -0.1)\">\r\n     <use xlink:href=\"#DejaVuSans-45\"/>\r\n     <use x=\"36.083984\" xlink:href=\"#DejaVuSans-48\"/>\r\n     <use x=\"99.707031\" xlink:href=\"#DejaVuSans-46\"/>\r\n     <use x=\"131.494141\" xlink:href=\"#DejaVuSans-49\"/>\r\n     <use x=\"195.117188\" xlink:href=\"#DejaVuSans-49\"/>\r\n    </g>\r\n   </g>\r\n   <g id=\"text_339\">\r\n    <!-- 1 -->\r\n    <g style=\"fill:#ffffff;\" transform=\"translate(651.507319 678.953331)scale(0.1 -0.1)\">\r\n     <use xlink:href=\"#DejaVuSans-49\"/>\r\n    </g>\r\n   </g>\r\n   <g id=\"text_340\">\r\n    <!-- 0.23 -->\r\n    <g style=\"fill:#262626;\" transform=\"translate(678.797862 678.953331)scale(0.1 -0.1)\">\r\n     <use xlink:href=\"#DejaVuSans-48\"/>\r\n     <use x=\"63.623047\" xlink:href=\"#DejaVuSans-46\"/>\r\n     <use x=\"95.410156\" xlink:href=\"#DejaVuSans-50\"/>\r\n     <use x=\"159.033203\" xlink:href=\"#DejaVuSans-51\"/>\r\n    </g>\r\n   </g>\r\n   <g id=\"text_341\">\r\n    <!-- -0.099 -->\r\n    <g style=\"fill:#262626;\" transform=\"translate(709.054811 678.953331)scale(0.1 -0.1)\">\r\n     <use xlink:href=\"#DejaVuSans-45\"/>\r\n     <use x=\"36.083984\" xlink:href=\"#DejaVuSans-48\"/>\r\n     <use x=\"99.707031\" xlink:href=\"#DejaVuSans-46\"/>\r\n     <use x=\"131.494141\" xlink:href=\"#DejaVuSans-48\"/>\r\n     <use x=\"195.117188\" xlink:href=\"#DejaVuSans-57\"/>\r\n     <use x=\"258.740234\" xlink:href=\"#DejaVuSans-57\"/>\r\n    </g>\r\n   </g>\r\n   <g id=\"text_342\">\r\n    <!-- 0.0011 -->\r\n    <g style=\"fill:#262626;\" transform=\"translate(742.919572 678.953331)scale(0.1 -0.1)\">\r\n     <use xlink:href=\"#DejaVuSans-48\"/>\r\n     <use x=\"63.623047\" xlink:href=\"#DejaVuSans-46\"/>\r\n     <use x=\"95.410156\" xlink:href=\"#DejaVuSans-48\"/>\r\n     <use x=\"159.033203\" xlink:href=\"#DejaVuSans-48\"/>\r\n     <use x=\"222.65625\" xlink:href=\"#DejaVuSans-49\"/>\r\n     <use x=\"286.279297\" xlink:href=\"#DejaVuSans-49\"/>\r\n    </g>\r\n   </g>\r\n   <g id=\"text_343\">\r\n    <!-- 0.034 -->\r\n    <g style=\"fill:#262626;\" transform=\"translate(111.742928 721.86912)scale(0.1 -0.1)\">\r\n     <use xlink:href=\"#DejaVuSans-48\"/>\r\n     <use x=\"63.623047\" xlink:href=\"#DejaVuSans-46\"/>\r\n     <use x=\"95.410156\" xlink:href=\"#DejaVuSans-48\"/>\r\n     <use x=\"159.033203\" xlink:href=\"#DejaVuSans-51\"/>\r\n     <use x=\"222.65625\" xlink:href=\"#DejaVuSans-52\"/>\r\n    </g>\r\n   </g>\r\n   <g id=\"text_344\">\r\n    <!-- 0.0022 -->\r\n    <g style=\"fill:#262626;\" transform=\"translate(143.803783 721.86912)scale(0.1 -0.1)\">\r\n     <use xlink:href=\"#DejaVuSans-48\"/>\r\n     <use x=\"63.623047\" xlink:href=\"#DejaVuSans-46\"/>\r\n     <use x=\"95.410156\" xlink:href=\"#DejaVuSans-48\"/>\r\n     <use x=\"159.033203\" xlink:href=\"#DejaVuSans-48\"/>\r\n     <use x=\"222.65625\" xlink:href=\"#DejaVuSans-50\"/>\r\n     <use x=\"286.279297\" xlink:href=\"#DejaVuSans-50\"/>\r\n    </g>\r\n   </g>\r\n   <g id=\"text_345\">\r\n    <!-- 0.0044 -->\r\n    <g style=\"fill:#262626;\" transform=\"translate(179.045888 721.86912)scale(0.1 -0.1)\">\r\n     <use xlink:href=\"#DejaVuSans-48\"/>\r\n     <use x=\"63.623047\" xlink:href=\"#DejaVuSans-46\"/>\r\n     <use x=\"95.410156\" xlink:href=\"#DejaVuSans-48\"/>\r\n     <use x=\"159.033203\" xlink:href=\"#DejaVuSans-48\"/>\r\n     <use x=\"222.65625\" xlink:href=\"#DejaVuSans-52\"/>\r\n     <use x=\"286.279297\" xlink:href=\"#DejaVuSans-52\"/>\r\n    </g>\r\n   </g>\r\n   <g id=\"text_346\">\r\n    <!-- -0.2 -->\r\n    <g style=\"fill:#262626;\" transform=\"translate(222.027837 721.86912)scale(0.1 -0.1)\">\r\n     <use xlink:href=\"#DejaVuSans-45\"/>\r\n     <use x=\"36.083984\" xlink:href=\"#DejaVuSans-48\"/>\r\n     <use x=\"99.707031\" xlink:href=\"#DejaVuSans-46\"/>\r\n     <use x=\"131.494141\" xlink:href=\"#DejaVuSans-50\"/>\r\n    </g>\r\n   </g>\r\n   <g id=\"text_347\">\r\n    <!-- 0.054 -->\r\n    <g style=\"fill:#262626;\" transform=\"translate(252.711349 721.86912)scale(0.1 -0.1)\">\r\n     <use xlink:href=\"#DejaVuSans-48\"/>\r\n     <use x=\"63.623047\" xlink:href=\"#DejaVuSans-46\"/>\r\n     <use x=\"95.410156\" xlink:href=\"#DejaVuSans-48\"/>\r\n     <use x=\"159.033203\" xlink:href=\"#DejaVuSans-53\"/>\r\n     <use x=\"222.65625\" xlink:href=\"#DejaVuSans-52\"/>\r\n    </g>\r\n   </g>\r\n   <g id=\"text_348\">\r\n    <!-- -0.0061 -->\r\n    <g style=\"fill:#262626;\" transform=\"translate(282.968298 721.86912)scale(0.1 -0.1)\">\r\n     <use xlink:href=\"#DejaVuSans-45\"/>\r\n     <use x=\"36.083984\" xlink:href=\"#DejaVuSans-48\"/>\r\n     <use x=\"99.707031\" xlink:href=\"#DejaVuSans-46\"/>\r\n     <use x=\"131.494141\" xlink:href=\"#DejaVuSans-48\"/>\r\n     <use x=\"195.117188\" xlink:href=\"#DejaVuSans-48\"/>\r\n     <use x=\"258.740234\" xlink:href=\"#DejaVuSans-54\"/>\r\n     <use x=\"322.363281\" xlink:href=\"#DejaVuSans-49\"/>\r\n    </g>\r\n   </g>\r\n   <g id=\"text_349\">\r\n    <!-- 0.21 -->\r\n    <g style=\"fill:#262626;\" transform=\"translate(326.376809 721.86912)scale(0.1 -0.1)\">\r\n     <use xlink:href=\"#DejaVuSans-48\"/>\r\n     <use x=\"63.623047\" xlink:href=\"#DejaVuSans-46\"/>\r\n     <use x=\"95.410156\" xlink:href=\"#DejaVuSans-50\"/>\r\n     <use x=\"159.033203\" xlink:href=\"#DejaVuSans-49\"/>\r\n    </g>\r\n   </g>\r\n   <g id=\"text_350\">\r\n    <!-- -0.083 -->\r\n    <g style=\"fill:#262626;\" transform=\"translate(356.633758 721.86912)scale(0.1 -0.1)\">\r\n     <use xlink:href=\"#DejaVuSans-45\"/>\r\n     <use x=\"36.083984\" xlink:href=\"#DejaVuSans-48\"/>\r\n     <use x=\"99.707031\" xlink:href=\"#DejaVuSans-46\"/>\r\n     <use x=\"131.494141\" xlink:href=\"#DejaVuSans-48\"/>\r\n     <use x=\"195.117188\" xlink:href=\"#DejaVuSans-56\"/>\r\n     <use x=\"258.740234\" xlink:href=\"#DejaVuSans-51\"/>\r\n    </g>\r\n   </g>\r\n   <g id=\"text_351\">\r\n    <!-- -0.082 -->\r\n    <g style=\"fill:#262626;\" transform=\"translate(391.875863 721.86912)scale(0.1 -0.1)\">\r\n     <use xlink:href=\"#DejaVuSans-45\"/>\r\n     <use x=\"36.083984\" xlink:href=\"#DejaVuSans-48\"/>\r\n     <use x=\"99.707031\" xlink:href=\"#DejaVuSans-46\"/>\r\n     <use x=\"131.494141\" xlink:href=\"#DejaVuSans-48\"/>\r\n     <use x=\"195.117188\" xlink:href=\"#DejaVuSans-56\"/>\r\n     <use x=\"258.740234\" xlink:href=\"#DejaVuSans-50\"/>\r\n    </g>\r\n   </g>\r\n   <g id=\"text_352\">\r\n    <!-- 0.063 -->\r\n    <g style=\"fill:#262626;\" transform=\"translate(428.921875 721.86912)scale(0.1 -0.1)\">\r\n     <use xlink:href=\"#DejaVuSans-48\"/>\r\n     <use x=\"63.623047\" xlink:href=\"#DejaVuSans-46\"/>\r\n     <use x=\"95.410156\" xlink:href=\"#DejaVuSans-48\"/>\r\n     <use x=\"159.033203\" xlink:href=\"#DejaVuSans-54\"/>\r\n     <use x=\"222.65625\" xlink:href=\"#DejaVuSans-51\"/>\r\n    </g>\r\n   </g>\r\n   <g id=\"text_353\">\r\n    <!-- 0.2 -->\r\n    <g style=\"fill:#262626;\" transform=\"translate(470.52648 721.86912)scale(0.1 -0.1)\">\r\n     <use xlink:href=\"#DejaVuSans-48\"/>\r\n     <use x=\"63.623047\" xlink:href=\"#DejaVuSans-46\"/>\r\n     <use x=\"95.410156\" xlink:href=\"#DejaVuSans-50\"/>\r\n    </g>\r\n   </g>\r\n   <g id=\"text_354\">\r\n    <!-- 0.21 -->\r\n    <g style=\"fill:#262626;\" transform=\"translate(502.587336 721.86912)scale(0.1 -0.1)\">\r\n     <use xlink:href=\"#DejaVuSans-48\"/>\r\n     <use x=\"63.623047\" xlink:href=\"#DejaVuSans-46\"/>\r\n     <use x=\"95.410156\" xlink:href=\"#DejaVuSans-50\"/>\r\n     <use x=\"159.033203\" xlink:href=\"#DejaVuSans-49\"/>\r\n    </g>\r\n   </g>\r\n   <g id=\"text_355\">\r\n    <!-- 0.22 -->\r\n    <g style=\"fill:#262626;\" transform=\"translate(537.829441 721.86912)scale(0.1 -0.1)\">\r\n     <use xlink:href=\"#DejaVuSans-48\"/>\r\n     <use x=\"63.623047\" xlink:href=\"#DejaVuSans-46\"/>\r\n     <use x=\"95.410156\" xlink:href=\"#DejaVuSans-50\"/>\r\n     <use x=\"159.033203\" xlink:href=\"#DejaVuSans-50\"/>\r\n    </g>\r\n   </g>\r\n   <g id=\"text_356\">\r\n    <!-- 0.19 -->\r\n    <g style=\"fill:#262626;\" transform=\"translate(573.071546 721.86912)scale(0.1 -0.1)\">\r\n     <use xlink:href=\"#DejaVuSans-48\"/>\r\n     <use x=\"63.623047\" xlink:href=\"#DejaVuSans-46\"/>\r\n     <use x=\"95.410156\" xlink:href=\"#DejaVuSans-49\"/>\r\n     <use x=\"159.033203\" xlink:href=\"#DejaVuSans-57\"/>\r\n    </g>\r\n   </g>\r\n   <g id=\"text_357\">\r\n    <!-- 0.21 -->\r\n    <g style=\"fill:#262626;\" transform=\"translate(608.313651 721.86912)scale(0.1 -0.1)\">\r\n     <use xlink:href=\"#DejaVuSans-48\"/>\r\n     <use x=\"63.623047\" xlink:href=\"#DejaVuSans-46\"/>\r\n     <use x=\"95.410156\" xlink:href=\"#DejaVuSans-50\"/>\r\n     <use x=\"159.033203\" xlink:href=\"#DejaVuSans-49\"/>\r\n    </g>\r\n   </g>\r\n   <g id=\"text_358\">\r\n    <!-- 0.23 -->\r\n    <g style=\"fill:#262626;\" transform=\"translate(643.555757 721.86912)scale(0.1 -0.1)\">\r\n     <use xlink:href=\"#DejaVuSans-48\"/>\r\n     <use x=\"63.623047\" xlink:href=\"#DejaVuSans-46\"/>\r\n     <use x=\"95.410156\" xlink:href=\"#DejaVuSans-50\"/>\r\n     <use x=\"159.033203\" xlink:href=\"#DejaVuSans-51\"/>\r\n    </g>\r\n   </g>\r\n   <g id=\"text_359\">\r\n    <!-- 1 -->\r\n    <g style=\"fill:#ffffff;\" transform=\"translate(686.749424 721.86912)scale(0.1 -0.1)\">\r\n     <use xlink:href=\"#DejaVuSans-49\"/>\r\n    </g>\r\n   </g>\r\n   <g id=\"text_360\">\r\n    <!-- 0.11 -->\r\n    <g style=\"fill:#262626;\" transform=\"translate(714.039967 721.86912)scale(0.1 -0.1)\">\r\n     <use xlink:href=\"#DejaVuSans-48\"/>\r\n     <use x=\"63.623047\" xlink:href=\"#DejaVuSans-46\"/>\r\n     <use x=\"95.410156\" xlink:href=\"#DejaVuSans-49\"/>\r\n     <use x=\"159.033203\" xlink:href=\"#DejaVuSans-49\"/>\r\n    </g>\r\n   </g>\r\n   <g id=\"text_361\">\r\n    <!-- 0.054 -->\r\n    <g style=\"fill:#262626;\" transform=\"translate(746.100822 721.86912)scale(0.1 -0.1)\">\r\n     <use xlink:href=\"#DejaVuSans-48\"/>\r\n     <use x=\"63.623047\" xlink:href=\"#DejaVuSans-46\"/>\r\n     <use x=\"95.410156\" xlink:href=\"#DejaVuSans-48\"/>\r\n     <use x=\"159.033203\" xlink:href=\"#DejaVuSans-53\"/>\r\n     <use x=\"222.65625\" xlink:href=\"#DejaVuSans-52\"/>\r\n    </g>\r\n   </g>\r\n   <g id=\"text_362\">\r\n    <!-- -0.0029 -->\r\n    <g style=\"fill:#262626;\" transform=\"translate(106.757771 764.78491)scale(0.1 -0.1)\">\r\n     <use xlink:href=\"#DejaVuSans-45\"/>\r\n     <use x=\"36.083984\" xlink:href=\"#DejaVuSans-48\"/>\r\n     <use x=\"99.707031\" xlink:href=\"#DejaVuSans-46\"/>\r\n     <use x=\"131.494141\" xlink:href=\"#DejaVuSans-48\"/>\r\n     <use x=\"195.117188\" xlink:href=\"#DejaVuSans-48\"/>\r\n     <use x=\"258.740234\" xlink:href=\"#DejaVuSans-50\"/>\r\n     <use x=\"322.363281\" xlink:href=\"#DejaVuSans-57\"/>\r\n    </g>\r\n   </g>\r\n   <g id=\"text_363\">\r\n    <!-- 0.038 -->\r\n    <g style=\"fill:#262626;\" transform=\"translate(146.985033 764.78491)scale(0.1 -0.1)\">\r\n     <use xlink:href=\"#DejaVuSans-48\"/>\r\n     <use x=\"63.623047\" xlink:href=\"#DejaVuSans-46\"/>\r\n     <use x=\"95.410156\" xlink:href=\"#DejaVuSans-48\"/>\r\n     <use x=\"159.033203\" xlink:href=\"#DejaVuSans-51\"/>\r\n     <use x=\"222.65625\" xlink:href=\"#DejaVuSans-56\"/>\r\n    </g>\r\n   </g>\r\n   <g id=\"text_364\">\r\n    <!-- 0.02 -->\r\n    <g style=\"fill:#262626;\" transform=\"translate(185.408388 764.78491)scale(0.1 -0.1)\">\r\n     <use xlink:href=\"#DejaVuSans-48\"/>\r\n     <use x=\"63.623047\" xlink:href=\"#DejaVuSans-46\"/>\r\n     <use x=\"95.410156\" xlink:href=\"#DejaVuSans-48\"/>\r\n     <use x=\"159.033203\" xlink:href=\"#DejaVuSans-50\"/>\r\n    </g>\r\n   </g>\r\n   <g id=\"text_365\">\r\n    <!-- 0.028 -->\r\n    <g style=\"fill:#262626;\" transform=\"translate(217.469243 764.78491)scale(0.1 -0.1)\">\r\n     <use xlink:href=\"#DejaVuSans-48\"/>\r\n     <use x=\"63.623047\" xlink:href=\"#DejaVuSans-46\"/>\r\n     <use x=\"95.410156\" xlink:href=\"#DejaVuSans-48\"/>\r\n     <use x=\"159.033203\" xlink:href=\"#DejaVuSans-50\"/>\r\n     <use x=\"222.65625\" xlink:href=\"#DejaVuSans-56\"/>\r\n    </g>\r\n   </g>\r\n   <g id=\"text_366\">\r\n    <!-- -0.039 -->\r\n    <g style=\"fill:#262626;\" transform=\"translate(250.907442 764.78491)scale(0.1 -0.1)\">\r\n     <use xlink:href=\"#DejaVuSans-45\"/>\r\n     <use x=\"36.083984\" xlink:href=\"#DejaVuSans-48\"/>\r\n     <use x=\"99.707031\" xlink:href=\"#DejaVuSans-46\"/>\r\n     <use x=\"131.494141\" xlink:href=\"#DejaVuSans-48\"/>\r\n     <use x=\"195.117188\" xlink:href=\"#DejaVuSans-51\"/>\r\n     <use x=\"258.740234\" xlink:href=\"#DejaVuSans-57\"/>\r\n    </g>\r\n   </g>\r\n   <g id=\"text_367\">\r\n    <!-- 0.0073 -->\r\n    <g style=\"fill:#262626;\" transform=\"translate(284.772204 764.78491)scale(0.1 -0.1)\">\r\n     <use xlink:href=\"#DejaVuSans-48\"/>\r\n     <use x=\"63.623047\" xlink:href=\"#DejaVuSans-46\"/>\r\n     <use x=\"95.410156\" xlink:href=\"#DejaVuSans-48\"/>\r\n     <use x=\"159.033203\" xlink:href=\"#DejaVuSans-48\"/>\r\n     <use x=\"222.65625\" xlink:href=\"#DejaVuSans-55\"/>\r\n     <use x=\"286.279297\" xlink:href=\"#DejaVuSans-51\"/>\r\n    </g>\r\n   </g>\r\n   <g id=\"text_368\">\r\n    <!-- 0.055 -->\r\n    <g style=\"fill:#262626;\" transform=\"translate(323.195559 764.78491)scale(0.1 -0.1)\">\r\n     <use xlink:href=\"#DejaVuSans-48\"/>\r\n     <use x=\"63.623047\" xlink:href=\"#DejaVuSans-46\"/>\r\n     <use x=\"95.410156\" xlink:href=\"#DejaVuSans-48\"/>\r\n     <use x=\"159.033203\" xlink:href=\"#DejaVuSans-53\"/>\r\n     <use x=\"222.65625\" xlink:href=\"#DejaVuSans-53\"/>\r\n    </g>\r\n   </g>\r\n   <g id=\"text_369\">\r\n    <!-- -0.02 -->\r\n    <g style=\"fill:#262626;\" transform=\"translate(359.815008 764.78491)scale(0.1 -0.1)\">\r\n     <use xlink:href=\"#DejaVuSans-45\"/>\r\n     <use x=\"36.083984\" xlink:href=\"#DejaVuSans-48\"/>\r\n     <use x=\"99.707031\" xlink:href=\"#DejaVuSans-46\"/>\r\n     <use x=\"131.494141\" xlink:href=\"#DejaVuSans-48\"/>\r\n     <use x=\"195.117188\" xlink:href=\"#DejaVuSans-50\"/>\r\n    </g>\r\n   </g>\r\n   <g id=\"text_370\">\r\n    <!-- -0.021 -->\r\n    <g style=\"fill:#262626;\" transform=\"translate(391.875863 764.78491)scale(0.1 -0.1)\">\r\n     <use xlink:href=\"#DejaVuSans-45\"/>\r\n     <use x=\"36.083984\" xlink:href=\"#DejaVuSans-48\"/>\r\n     <use x=\"99.707031\" xlink:href=\"#DejaVuSans-46\"/>\r\n     <use x=\"131.494141\" xlink:href=\"#DejaVuSans-48\"/>\r\n     <use x=\"195.117188\" xlink:href=\"#DejaVuSans-50\"/>\r\n     <use x=\"258.740234\" xlink:href=\"#DejaVuSans-49\"/>\r\n    </g>\r\n   </g>\r\n   <g id=\"text_371\">\r\n    <!-- 0.052 -->\r\n    <g style=\"fill:#262626;\" transform=\"translate(428.921875 764.78491)scale(0.1 -0.1)\">\r\n     <use xlink:href=\"#DejaVuSans-48\"/>\r\n     <use x=\"63.623047\" xlink:href=\"#DejaVuSans-46\"/>\r\n     <use x=\"95.410156\" xlink:href=\"#DejaVuSans-48\"/>\r\n     <use x=\"159.033203\" xlink:href=\"#DejaVuSans-53\"/>\r\n     <use x=\"222.65625\" xlink:href=\"#DejaVuSans-50\"/>\r\n    </g>\r\n   </g>\r\n   <g id=\"text_372\">\r\n    <!-- 0.045 -->\r\n    <g style=\"fill:#262626;\" transform=\"translate(464.16398 764.78491)scale(0.1 -0.1)\">\r\n     <use xlink:href=\"#DejaVuSans-48\"/>\r\n     <use x=\"63.623047\" xlink:href=\"#DejaVuSans-46\"/>\r\n     <use x=\"95.410156\" xlink:href=\"#DejaVuSans-48\"/>\r\n     <use x=\"159.033203\" xlink:href=\"#DejaVuSans-52\"/>\r\n     <use x=\"222.65625\" xlink:href=\"#DejaVuSans-53\"/>\r\n    </g>\r\n   </g>\r\n   <g id=\"text_373\">\r\n    <!-- 0.052 -->\r\n    <g style=\"fill:#262626;\" transform=\"translate(499.406086 764.78491)scale(0.1 -0.1)\">\r\n     <use xlink:href=\"#DejaVuSans-48\"/>\r\n     <use x=\"63.623047\" xlink:href=\"#DejaVuSans-46\"/>\r\n     <use x=\"95.410156\" xlink:href=\"#DejaVuSans-48\"/>\r\n     <use x=\"159.033203\" xlink:href=\"#DejaVuSans-53\"/>\r\n     <use x=\"222.65625\" xlink:href=\"#DejaVuSans-50\"/>\r\n    </g>\r\n   </g>\r\n   <g id=\"text_374\">\r\n    <!-- 0.061 -->\r\n    <g style=\"fill:#262626;\" transform=\"translate(534.648191 764.78491)scale(0.1 -0.1)\">\r\n     <use xlink:href=\"#DejaVuSans-48\"/>\r\n     <use x=\"63.623047\" xlink:href=\"#DejaVuSans-46\"/>\r\n     <use x=\"95.410156\" xlink:href=\"#DejaVuSans-48\"/>\r\n     <use x=\"159.033203\" xlink:href=\"#DejaVuSans-54\"/>\r\n     <use x=\"222.65625\" xlink:href=\"#DejaVuSans-49\"/>\r\n    </g>\r\n   </g>\r\n   <g id=\"text_375\">\r\n    <!-- 0.044 -->\r\n    <g style=\"fill:#262626;\" transform=\"translate(569.890296 764.78491)scale(0.1 -0.1)\">\r\n     <use xlink:href=\"#DejaVuSans-48\"/>\r\n     <use x=\"63.623047\" xlink:href=\"#DejaVuSans-46\"/>\r\n     <use x=\"95.410156\" xlink:href=\"#DejaVuSans-48\"/>\r\n     <use x=\"159.033203\" xlink:href=\"#DejaVuSans-52\"/>\r\n     <use x=\"222.65625\" xlink:href=\"#DejaVuSans-52\"/>\r\n    </g>\r\n   </g>\r\n   <g id=\"text_376\">\r\n    <!-- 0.055 -->\r\n    <g style=\"fill:#262626;\" transform=\"translate(605.132401 764.78491)scale(0.1 -0.1)\">\r\n     <use xlink:href=\"#DejaVuSans-48\"/>\r\n     <use x=\"63.623047\" xlink:href=\"#DejaVuSans-46\"/>\r\n     <use x=\"95.410156\" xlink:href=\"#DejaVuSans-48\"/>\r\n     <use x=\"159.033203\" xlink:href=\"#DejaVuSans-53\"/>\r\n     <use x=\"222.65625\" xlink:href=\"#DejaVuSans-53\"/>\r\n    </g>\r\n   </g>\r\n   <g id=\"text_377\">\r\n    <!-- -0.099 -->\r\n    <g style=\"fill:#262626;\" transform=\"translate(638.5706 764.78491)scale(0.1 -0.1)\">\r\n     <use xlink:href=\"#DejaVuSans-45\"/>\r\n     <use x=\"36.083984\" xlink:href=\"#DejaVuSans-48\"/>\r\n     <use x=\"99.707031\" xlink:href=\"#DejaVuSans-46\"/>\r\n     <use x=\"131.494141\" xlink:href=\"#DejaVuSans-48\"/>\r\n     <use x=\"195.117188\" xlink:href=\"#DejaVuSans-57\"/>\r\n     <use x=\"258.740234\" xlink:href=\"#DejaVuSans-57\"/>\r\n    </g>\r\n   </g>\r\n   <g id=\"text_378\">\r\n    <!-- 0.11 -->\r\n    <g style=\"fill:#262626;\" transform=\"translate(678.797862 764.78491)scale(0.1 -0.1)\">\r\n     <use xlink:href=\"#DejaVuSans-48\"/>\r\n     <use x=\"63.623047\" xlink:href=\"#DejaVuSans-46\"/>\r\n     <use x=\"95.410156\" xlink:href=\"#DejaVuSans-49\"/>\r\n     <use x=\"159.033203\" xlink:href=\"#DejaVuSans-49\"/>\r\n    </g>\r\n   </g>\r\n   <g id=\"text_379\">\r\n    <!-- 1 -->\r\n    <g style=\"fill:#ffffff;\" transform=\"translate(721.99153 764.78491)scale(0.1 -0.1)\">\r\n     <use xlink:href=\"#DejaVuSans-49\"/>\r\n    </g>\r\n   </g>\r\n   <g id=\"text_380\">\r\n    <!-- -0.15 -->\r\n    <g style=\"fill:#262626;\" transform=\"translate(747.478166 764.78491)scale(0.1 -0.1)\">\r\n     <use xlink:href=\"#DejaVuSans-45\"/>\r\n     <use x=\"36.083984\" xlink:href=\"#DejaVuSans-48\"/>\r\n     <use x=\"99.707031\" xlink:href=\"#DejaVuSans-46\"/>\r\n     <use x=\"131.494141\" xlink:href=\"#DejaVuSans-49\"/>\r\n     <use x=\"195.117188\" xlink:href=\"#DejaVuSans-53\"/>\r\n    </g>\r\n   </g>\r\n   <g id=\"text_381\">\r\n    <!-- -0.0031 -->\r\n    <g style=\"fill:#262626;\" transform=\"translate(106.757771 807.700699)scale(0.1 -0.1)\">\r\n     <use xlink:href=\"#DejaVuSans-45\"/>\r\n     <use x=\"36.083984\" xlink:href=\"#DejaVuSans-48\"/>\r\n     <use x=\"99.707031\" xlink:href=\"#DejaVuSans-46\"/>\r\n     <use x=\"131.494141\" xlink:href=\"#DejaVuSans-48\"/>\r\n     <use x=\"195.117188\" xlink:href=\"#DejaVuSans-48\"/>\r\n     <use x=\"258.740234\" xlink:href=\"#DejaVuSans-51\"/>\r\n     <use x=\"322.363281\" xlink:href=\"#DejaVuSans-49\"/>\r\n    </g>\r\n   </g>\r\n   <g id=\"text_382\">\r\n    <!-- 0.00088 -->\r\n    <g style=\"fill:#262626;\" transform=\"translate(140.622533 807.700699)scale(0.1 -0.1)\">\r\n     <use xlink:href=\"#DejaVuSans-48\"/>\r\n     <use x=\"63.623047\" xlink:href=\"#DejaVuSans-46\"/>\r\n     <use x=\"95.410156\" xlink:href=\"#DejaVuSans-48\"/>\r\n     <use x=\"159.033203\" xlink:href=\"#DejaVuSans-48\"/>\r\n     <use x=\"222.65625\" xlink:href=\"#DejaVuSans-48\"/>\r\n     <use x=\"286.279297\" xlink:href=\"#DejaVuSans-56\"/>\r\n     <use x=\"349.902344\" xlink:href=\"#DejaVuSans-56\"/>\r\n    </g>\r\n   </g>\r\n   <g id=\"text_383\">\r\n    <!-- 0.013 -->\r\n    <g style=\"fill:#262626;\" transform=\"translate(182.227138 807.700699)scale(0.1 -0.1)\">\r\n     <use xlink:href=\"#DejaVuSans-48\"/>\r\n     <use x=\"63.623047\" xlink:href=\"#DejaVuSans-46\"/>\r\n     <use x=\"95.410156\" xlink:href=\"#DejaVuSans-48\"/>\r\n     <use x=\"159.033203\" xlink:href=\"#DejaVuSans-49\"/>\r\n     <use x=\"222.65625\" xlink:href=\"#DejaVuSans-51\"/>\r\n    </g>\r\n   </g>\r\n   <g id=\"text_384\">\r\n    <!-- -0.0054 -->\r\n    <g style=\"fill:#262626;\" transform=\"translate(212.484087 807.700699)scale(0.1 -0.1)\">\r\n     <use xlink:href=\"#DejaVuSans-45\"/>\r\n     <use x=\"36.083984\" xlink:href=\"#DejaVuSans-48\"/>\r\n     <use x=\"99.707031\" xlink:href=\"#DejaVuSans-46\"/>\r\n     <use x=\"131.494141\" xlink:href=\"#DejaVuSans-48\"/>\r\n     <use x=\"195.117188\" xlink:href=\"#DejaVuSans-48\"/>\r\n     <use x=\"258.740234\" xlink:href=\"#DejaVuSans-53\"/>\r\n     <use x=\"322.363281\" xlink:href=\"#DejaVuSans-52\"/>\r\n    </g>\r\n   </g>\r\n   <g id=\"text_385\">\r\n    <!-- 0.0019 -->\r\n    <g style=\"fill:#262626;\" transform=\"translate(249.530099 807.700699)scale(0.1 -0.1)\">\r\n     <use xlink:href=\"#DejaVuSans-48\"/>\r\n     <use x=\"63.623047\" xlink:href=\"#DejaVuSans-46\"/>\r\n     <use x=\"95.410156\" xlink:href=\"#DejaVuSans-48\"/>\r\n     <use x=\"159.033203\" xlink:href=\"#DejaVuSans-48\"/>\r\n     <use x=\"222.65625\" xlink:href=\"#DejaVuSans-49\"/>\r\n     <use x=\"286.279297\" xlink:href=\"#DejaVuSans-57\"/>\r\n    </g>\r\n   </g>\r\n   <g id=\"text_386\">\r\n    <!-- 0.003 -->\r\n    <g style=\"fill:#262626;\" transform=\"translate(287.953454 807.700699)scale(0.1 -0.1)\">\r\n     <use xlink:href=\"#DejaVuSans-48\"/>\r\n     <use x=\"63.623047\" xlink:href=\"#DejaVuSans-46\"/>\r\n     <use x=\"95.410156\" xlink:href=\"#DejaVuSans-48\"/>\r\n     <use x=\"159.033203\" xlink:href=\"#DejaVuSans-48\"/>\r\n     <use x=\"222.65625\" xlink:href=\"#DejaVuSans-51\"/>\r\n    </g>\r\n   </g>\r\n   <g id=\"text_387\">\r\n    <!-- 0.003 -->\r\n    <g style=\"fill:#262626;\" transform=\"translate(323.195559 807.700699)scale(0.1 -0.1)\">\r\n     <use xlink:href=\"#DejaVuSans-48\"/>\r\n     <use x=\"63.623047\" xlink:href=\"#DejaVuSans-46\"/>\r\n     <use x=\"95.410156\" xlink:href=\"#DejaVuSans-48\"/>\r\n     <use x=\"159.033203\" xlink:href=\"#DejaVuSans-48\"/>\r\n     <use x=\"222.65625\" xlink:href=\"#DejaVuSans-51\"/>\r\n    </g>\r\n   </g>\r\n   <g id=\"text_388\">\r\n    <!-- -0.0005 -->\r\n    <g style=\"fill:#262626;\" transform=\"translate(353.452508 807.700699)scale(0.1 -0.1)\">\r\n     <use xlink:href=\"#DejaVuSans-45\"/>\r\n     <use x=\"36.083984\" xlink:href=\"#DejaVuSans-48\"/>\r\n     <use x=\"99.707031\" xlink:href=\"#DejaVuSans-46\"/>\r\n     <use x=\"131.494141\" xlink:href=\"#DejaVuSans-48\"/>\r\n     <use x=\"195.117188\" xlink:href=\"#DejaVuSans-48\"/>\r\n     <use x=\"258.740234\" xlink:href=\"#DejaVuSans-48\"/>\r\n     <use x=\"322.363281\" xlink:href=\"#DejaVuSans-53\"/>\r\n    </g>\r\n   </g>\r\n   <g id=\"text_389\">\r\n    <!-- -0.00043 -->\r\n    <g style=\"fill:#262626;\" transform=\"translate(385.513363 807.700699)scale(0.1 -0.1)\">\r\n     <use xlink:href=\"#DejaVuSans-45\"/>\r\n     <use x=\"36.083984\" xlink:href=\"#DejaVuSans-48\"/>\r\n     <use x=\"99.707031\" xlink:href=\"#DejaVuSans-46\"/>\r\n     <use x=\"131.494141\" xlink:href=\"#DejaVuSans-48\"/>\r\n     <use x=\"195.117188\" xlink:href=\"#DejaVuSans-48\"/>\r\n     <use x=\"258.740234\" xlink:href=\"#DejaVuSans-48\"/>\r\n     <use x=\"322.363281\" xlink:href=\"#DejaVuSans-52\"/>\r\n     <use x=\"385.986328\" xlink:href=\"#DejaVuSans-51\"/>\r\n    </g>\r\n   </g>\r\n   <g id=\"text_390\">\r\n    <!-- -0.0002 -->\r\n    <g style=\"fill:#262626;\" transform=\"translate(423.936719 807.700699)scale(0.1 -0.1)\">\r\n     <use xlink:href=\"#DejaVuSans-45\"/>\r\n     <use x=\"36.083984\" xlink:href=\"#DejaVuSans-48\"/>\r\n     <use x=\"99.707031\" xlink:href=\"#DejaVuSans-46\"/>\r\n     <use x=\"131.494141\" xlink:href=\"#DejaVuSans-48\"/>\r\n     <use x=\"195.117188\" xlink:href=\"#DejaVuSans-48\"/>\r\n     <use x=\"258.740234\" xlink:href=\"#DejaVuSans-48\"/>\r\n     <use x=\"322.363281\" xlink:href=\"#DejaVuSans-50\"/>\r\n    </g>\r\n   </g>\r\n   <g id=\"text_391\">\r\n    <!-- 0.00095 -->\r\n    <g style=\"fill:#262626;\" transform=\"translate(457.80148 807.700699)scale(0.1 -0.1)\">\r\n     <use xlink:href=\"#DejaVuSans-48\"/>\r\n     <use x=\"63.623047\" xlink:href=\"#DejaVuSans-46\"/>\r\n     <use x=\"95.410156\" xlink:href=\"#DejaVuSans-48\"/>\r\n     <use x=\"159.033203\" xlink:href=\"#DejaVuSans-48\"/>\r\n     <use x=\"222.65625\" xlink:href=\"#DejaVuSans-48\"/>\r\n     <use x=\"286.279297\" xlink:href=\"#DejaVuSans-57\"/>\r\n     <use x=\"349.902344\" xlink:href=\"#DejaVuSans-53\"/>\r\n    </g>\r\n   </g>\r\n   <g id=\"text_392\">\r\n    <!-- 0.0051 -->\r\n    <g style=\"fill:#262626;\" transform=\"translate(496.224836 807.700699)scale(0.1 -0.1)\">\r\n     <use xlink:href=\"#DejaVuSans-48\"/>\r\n     <use x=\"63.623047\" xlink:href=\"#DejaVuSans-46\"/>\r\n     <use x=\"95.410156\" xlink:href=\"#DejaVuSans-48\"/>\r\n     <use x=\"159.033203\" xlink:href=\"#DejaVuSans-48\"/>\r\n     <use x=\"222.65625\" xlink:href=\"#DejaVuSans-53\"/>\r\n     <use x=\"286.279297\" xlink:href=\"#DejaVuSans-49\"/>\r\n    </g>\r\n   </g>\r\n   <g id=\"text_393\">\r\n    <!-- 0.0052 -->\r\n    <g style=\"fill:#262626;\" transform=\"translate(531.466941 807.700699)scale(0.1 -0.1)\">\r\n     <use xlink:href=\"#DejaVuSans-48\"/>\r\n     <use x=\"63.623047\" xlink:href=\"#DejaVuSans-46\"/>\r\n     <use x=\"95.410156\" xlink:href=\"#DejaVuSans-48\"/>\r\n     <use x=\"159.033203\" xlink:href=\"#DejaVuSans-48\"/>\r\n     <use x=\"222.65625\" xlink:href=\"#DejaVuSans-53\"/>\r\n     <use x=\"286.279297\" xlink:href=\"#DejaVuSans-50\"/>\r\n    </g>\r\n   </g>\r\n   <g id=\"text_394\">\r\n    <!-- -0.0017 -->\r\n    <g style=\"fill:#262626;\" transform=\"translate(564.90514 807.700699)scale(0.1 -0.1)\">\r\n     <use xlink:href=\"#DejaVuSans-45\"/>\r\n     <use x=\"36.083984\" xlink:href=\"#DejaVuSans-48\"/>\r\n     <use x=\"99.707031\" xlink:href=\"#DejaVuSans-46\"/>\r\n     <use x=\"131.494141\" xlink:href=\"#DejaVuSans-48\"/>\r\n     <use x=\"195.117188\" xlink:href=\"#DejaVuSans-48\"/>\r\n     <use x=\"258.740234\" xlink:href=\"#DejaVuSans-49\"/>\r\n     <use x=\"322.363281\" xlink:href=\"#DejaVuSans-55\"/>\r\n    </g>\r\n   </g>\r\n   <g id=\"text_395\">\r\n    <!-- 0.00058 -->\r\n    <g style=\"fill:#262626;\" transform=\"translate(598.769901 807.700699)scale(0.1 -0.1)\">\r\n     <use xlink:href=\"#DejaVuSans-48\"/>\r\n     <use x=\"63.623047\" xlink:href=\"#DejaVuSans-46\"/>\r\n     <use x=\"95.410156\" xlink:href=\"#DejaVuSans-48\"/>\r\n     <use x=\"159.033203\" xlink:href=\"#DejaVuSans-48\"/>\r\n     <use x=\"222.65625\" xlink:href=\"#DejaVuSans-48\"/>\r\n     <use x=\"286.279297\" xlink:href=\"#DejaVuSans-53\"/>\r\n     <use x=\"349.902344\" xlink:href=\"#DejaVuSans-56\"/>\r\n    </g>\r\n   </g>\r\n   <g id=\"text_396\">\r\n    <!-- 0.0011 -->\r\n    <g style=\"fill:#262626;\" transform=\"translate(637.193257 807.700699)scale(0.1 -0.1)\">\r\n     <use xlink:href=\"#DejaVuSans-48\"/>\r\n     <use x=\"63.623047\" xlink:href=\"#DejaVuSans-46\"/>\r\n     <use x=\"95.410156\" xlink:href=\"#DejaVuSans-48\"/>\r\n     <use x=\"159.033203\" xlink:href=\"#DejaVuSans-48\"/>\r\n     <use x=\"222.65625\" xlink:href=\"#DejaVuSans-49\"/>\r\n     <use x=\"286.279297\" xlink:href=\"#DejaVuSans-49\"/>\r\n    </g>\r\n   </g>\r\n   <g id=\"text_397\">\r\n    <!-- 0.054 -->\r\n    <g style=\"fill:#262626;\" transform=\"translate(675.616612 807.700699)scale(0.1 -0.1)\">\r\n     <use xlink:href=\"#DejaVuSans-48\"/>\r\n     <use x=\"63.623047\" xlink:href=\"#DejaVuSans-46\"/>\r\n     <use x=\"95.410156\" xlink:href=\"#DejaVuSans-48\"/>\r\n     <use x=\"159.033203\" xlink:href=\"#DejaVuSans-53\"/>\r\n     <use x=\"222.65625\" xlink:href=\"#DejaVuSans-52\"/>\r\n    </g>\r\n   </g>\r\n   <g id=\"text_398\">\r\n    <!-- -0.15 -->\r\n    <g style=\"fill:#262626;\" transform=\"translate(712.236061 807.700699)scale(0.1 -0.1)\">\r\n     <use xlink:href=\"#DejaVuSans-45\"/>\r\n     <use x=\"36.083984\" xlink:href=\"#DejaVuSans-48\"/>\r\n     <use x=\"99.707031\" xlink:href=\"#DejaVuSans-46\"/>\r\n     <use x=\"131.494141\" xlink:href=\"#DejaVuSans-49\"/>\r\n     <use x=\"195.117188\" xlink:href=\"#DejaVuSans-53\"/>\r\n    </g>\r\n   </g>\r\n   <g id=\"text_399\">\r\n    <!-- 1 -->\r\n    <g style=\"fill:#ffffff;\" transform=\"translate(757.233635 807.700699)scale(0.1 -0.1)\">\r\n     <use xlink:href=\"#DejaVuSans-49\"/>\r\n    </g>\r\n   </g>\r\n  </g>\r\n  <g id=\"axes_2\">\r\n   <g id=\"patch_3\">\r\n    <path clip-path=\"url(#p17bf7810c1)\" d=\"M 819.885938 826.399219 \r\nL 819.885938 823.214062 \r\nL 819.885938 14.184375 \r\nL 819.885938 10.999219 \r\nL 860.655938 10.999219 \r\nL 860.655938 14.184375 \r\nL 860.655938 823.214062 \r\nL 860.655938 826.399219 \r\nz\r\n\" style=\"fill:#ffffff;stroke:#ffffff;stroke-linejoin:miter;stroke-width:0.01;\"/>\r\n   </g>\r\n   <image height=\"816\" id=\"image36c93c034c\" transform=\"scale(1 -1)translate(0 -816)\" width=\"41\" x=\"820\" xlink:href=\"data:image/png;base64,\r\niVBORw0KGgoAAAANSUhEUgAAACkAAAMwCAYAAAC9UUk4AAAFJ0lEQVR4nO3dUU7rShBFUYN6/tPlA8lmCORjScmR9hrBVkx1V3wfvK+f3+e5Ptz3uwNeMRF5Pv9hj3ySE5HnuT7/eU98khORZ+Bpb3ySRSpn4Edy45OciGzBUCYiWzCUicgWDGUisrtbKVJpwVAmIlswlInIplspUilSabqVIpUWDGUisiNImYjsDYYyEdn7SWUisrtbmYjs7laKVFowlInIFgxlIrIFQ5mIbMFQJiK7u5UilY4gZSLyXC0YxkRk061MRLZgKBORTbcyEdnLAaVIpfeTykRkC4YyEdmCoUxEtmAoE5Hd3UqRSguGMhHZgqFMRLZgKBORLRjKRGR3t1Kk0oKhTES2YCgTkS0YykRkC4YyEdndrUxEdncrRSotGMpEZAuGMhHZgqFMRLZgKBOR3d1KkUoLhjIR2YKhTES2YCgTkS0YykRkd7cyEdndrRSptGAoE5EtGMpEZAuGMhHZgqFMRHZ3K0UqLRjKRGQLhjIRee6BDWPik5yIbLqVici+PihFKn3HUSYiz/35T3vjk5yIbLqVicgWDGUisulWJiK7u5UilY4gZSKyBUOZiOxxKxOR5+4wNyYim26lSKV9UpmI7AhSJiJbMJSJyKZbmYjsv2ZRJiLPMzDeE59kkcq5313wgolPciKyI0iZiGzBUCYim25lIrK7WylS6QhSJiJ7YaVMRLZPKhOR/XKlMhHZdCtFKu2TykRkX2mVici+PigTke2TykRk061MRDbdSpFKvwGqTER24ygTkf3X0cpEZNOtTER2dytFKn3HUSYiu3GUichuHGUisn9bVCYim25lIrLHrRSp9Mc6lInIjiBlIrJvi8pEZO+ClInIDnOlSKUbR5mI7MZRJiKbbmUist99UCYiO8yVIpVuHGUisq+0ykRk/96tTEQ23cpEZI9bmYjsMFeKVHqDoUxEdgQpE5G9HFAmIns/qUxENt1KkUoLhjIR2RGkTES2YCgTkf11WWUisrtbmYjsXx+UIpWOIGUisq8PykRk061MRLZgKBORTbdSpNIbDGUisveTykRkXx+UicgWDGUisulWilRaMJSJyI4gZSKyBUOZiOz9pDIR2V/yVCYiu7uVIpUWDGUisgVDmYhsupWJyBYMZSKyV39KkUpHkDIR2YKhTEQ23cpEZNOtTEQ23cpEZNOtFKn0M6lMRHbjKBORTbcyEdl0KxORTbdSpNIRpExEdgQpE5FNtzIR2XQrE5FNt1Kk0hGkTER2BCkTkU23MhHZdCsTkU23MhHZ41aKVLpxlInIjiBlIrLpViYizz3wy7QTn+REZNOtFKm0YCgTkR1BykRk061MRDbdykRk061MRPa4lSKVM/DnJzc+yYnIjiBlIrLHrUxE9riVicget1Kk0j6pTER2BCkTkT1uZSKyx61MRHZ3K0UqHUHKRGSPW5mI7HErE5E9bmUisn1SmYhsupUilX4mlYnIHrcyEdmCoUxENt3KRGSPWylS6WdSmYjscSsTke2TykRk061MRPa4lYnIHrdSpNLPpDIR2T6pTEQ23cpEZI9bmYg8V4/bKFI513O/u+FfE5/kRGRHkDIR2XQrE5FNtzIR2XQrRSr9TCoTkd04ykRk061MRDbdykRk061MRDbdSpFKR5AyEdkRpExENt3KRGTTrUxENt1Kkcq5+t9rGhORHUHKRGSPW5mIbJ9UJiKbbmUisulWilQ6gpSJyI4gZSKy6VYmIptuZSKy6VaKVDqClInIjiBlIrLpViYim26lSOUPCRofHAEOb9AAAAAASUVORK5CYII=\" y=\"-10\"/>\r\n   <g id=\"matplotlib.axis_3\"/>\r\n   <g id=\"matplotlib.axis_4\">\r\n    <g id=\"ytick_20\">\r\n     <g id=\"line2d_39\">\r\n      <defs>\r\n       <path d=\"M 0 0 \r\nL 3.5 0 \r\n\" id=\"ma5569a2f4d\" style=\"stroke:#000000;stroke-width:0.8;\"/>\r\n      </defs>\r\n      <g>\r\n       <use style=\"stroke:#000000;stroke-width:0.8;\" x=\"860.655938\" xlink:href=\"#ma5569a2f4d\" y=\"784.620679\"/>\r\n      </g>\r\n     </g>\r\n     <g id=\"text_400\">\r\n      <!-- −0.2 -->\r\n      <g transform=\"translate(867.655938 788.419898)scale(0.1 -0.1)\">\r\n       <defs>\r\n        <path d=\"M 10.59375 35.5 \r\nL 73.1875 35.5 \r\nL 73.1875 27.203125 \r\nL 10.59375 27.203125 \r\nz\r\n\" id=\"DejaVuSans-8722\"/>\r\n       </defs>\r\n       <use xlink:href=\"#DejaVuSans-8722\"/>\r\n       <use x=\"83.789062\" xlink:href=\"#DejaVuSans-48\"/>\r\n       <use x=\"147.412109\" xlink:href=\"#DejaVuSans-46\"/>\r\n       <use x=\"179.199219\" xlink:href=\"#DejaVuSans-50\"/>\r\n      </g>\r\n     </g>\r\n    </g>\r\n    <g id=\"ytick_21\">\r\n     <g id=\"line2d_40\">\r\n      <g>\r\n       <use style=\"stroke:#000000;stroke-width:0.8;\" x=\"860.655938\" xlink:href=\"#ma5569a2f4d\" y=\"655.683769\"/>\r\n      </g>\r\n     </g>\r\n     <g id=\"text_401\">\r\n      <!-- 0.0 -->\r\n      <g transform=\"translate(867.655938 659.482988)scale(0.1 -0.1)\">\r\n       <use xlink:href=\"#DejaVuSans-48\"/>\r\n       <use x=\"63.623047\" xlink:href=\"#DejaVuSans-46\"/>\r\n       <use x=\"95.410156\" xlink:href=\"#DejaVuSans-48\"/>\r\n      </g>\r\n     </g>\r\n    </g>\r\n    <g id=\"ytick_22\">\r\n     <g id=\"line2d_41\">\r\n      <g>\r\n       <use style=\"stroke:#000000;stroke-width:0.8;\" x=\"860.655938\" xlink:href=\"#ma5569a2f4d\" y=\"526.746859\"/>\r\n      </g>\r\n     </g>\r\n     <g id=\"text_402\">\r\n      <!-- 0.2 -->\r\n      <g transform=\"translate(867.655938 530.546078)scale(0.1 -0.1)\">\r\n       <use xlink:href=\"#DejaVuSans-48\"/>\r\n       <use x=\"63.623047\" xlink:href=\"#DejaVuSans-46\"/>\r\n       <use x=\"95.410156\" xlink:href=\"#DejaVuSans-50\"/>\r\n      </g>\r\n     </g>\r\n    </g>\r\n    <g id=\"ytick_23\">\r\n     <g id=\"line2d_42\">\r\n      <g>\r\n       <use style=\"stroke:#000000;stroke-width:0.8;\" x=\"860.655938\" xlink:href=\"#ma5569a2f4d\" y=\"397.809949\"/>\r\n      </g>\r\n     </g>\r\n     <g id=\"text_403\">\r\n      <!-- 0.4 -->\r\n      <g transform=\"translate(867.655938 401.609168)scale(0.1 -0.1)\">\r\n       <use xlink:href=\"#DejaVuSans-48\"/>\r\n       <use x=\"63.623047\" xlink:href=\"#DejaVuSans-46\"/>\r\n       <use x=\"95.410156\" xlink:href=\"#DejaVuSans-52\"/>\r\n      </g>\r\n     </g>\r\n    </g>\r\n    <g id=\"ytick_24\">\r\n     <g id=\"line2d_43\">\r\n      <g>\r\n       <use style=\"stroke:#000000;stroke-width:0.8;\" x=\"860.655938\" xlink:href=\"#ma5569a2f4d\" y=\"268.873039\"/>\r\n      </g>\r\n     </g>\r\n     <g id=\"text_404\">\r\n      <!-- 0.6 -->\r\n      <g transform=\"translate(867.655938 272.672258)scale(0.1 -0.1)\">\r\n       <use xlink:href=\"#DejaVuSans-48\"/>\r\n       <use x=\"63.623047\" xlink:href=\"#DejaVuSans-46\"/>\r\n       <use x=\"95.410156\" xlink:href=\"#DejaVuSans-54\"/>\r\n      </g>\r\n     </g>\r\n    </g>\r\n    <g id=\"ytick_25\">\r\n     <g id=\"line2d_44\">\r\n      <g>\r\n       <use style=\"stroke:#000000;stroke-width:0.8;\" x=\"860.655938\" xlink:href=\"#ma5569a2f4d\" y=\"139.936129\"/>\r\n      </g>\r\n     </g>\r\n     <g id=\"text_405\">\r\n      <!-- 0.8 -->\r\n      <g transform=\"translate(867.655938 143.735348)scale(0.1 -0.1)\">\r\n       <use xlink:href=\"#DejaVuSans-48\"/>\r\n       <use x=\"63.623047\" xlink:href=\"#DejaVuSans-46\"/>\r\n       <use x=\"95.410156\" xlink:href=\"#DejaVuSans-56\"/>\r\n      </g>\r\n     </g>\r\n    </g>\r\n    <g id=\"ytick_26\">\r\n     <g id=\"line2d_45\">\r\n      <g>\r\n       <use style=\"stroke:#000000;stroke-width:0.8;\" x=\"860.655938\" xlink:href=\"#ma5569a2f4d\" y=\"10.999219\"/>\r\n      </g>\r\n     </g>\r\n     <g id=\"text_406\">\r\n      <!-- 1.0 -->\r\n      <g transform=\"translate(867.655938 14.798437)scale(0.1 -0.1)\">\r\n       <use xlink:href=\"#DejaVuSans-49\"/>\r\n       <use x=\"63.623047\" xlink:href=\"#DejaVuSans-46\"/>\r\n       <use x=\"95.410156\" xlink:href=\"#DejaVuSans-48\"/>\r\n      </g>\r\n     </g>\r\n    </g>\r\n   </g>\r\n   <g id=\"patch_4\">\r\n    <path d=\"M 819.885938 826.399219 \r\nL 819.885938 823.214062 \r\nL 819.885938 14.184375 \r\nL 819.885938 10.999219 \r\nL 860.655938 10.999219 \r\nL 860.655938 14.184375 \r\nL 860.655938 823.214062 \r\nL 860.655938 826.399219 \r\nz\r\n\" style=\"fill:none;\"/>\r\n   </g>\r\n  </g>\r\n </g>\r\n <defs>\r\n  <clipPath id=\"p6e4c6a2792\">\r\n   <rect height=\"815.4\" width=\"669.6\" x=\"108.435938\" y=\"10.999219\"/>\r\n  </clipPath>\r\n  <clipPath id=\"p17bf7810c1\">\r\n   <rect height=\"815.4\" width=\"40.77\" x=\"819.885938\" y=\"10.999219\"/>\r\n  </clipPath>\r\n </defs>\r\n</svg>\r\n",
      "image/png": "[encoded data removed]"
     },
     "metadata": {
      "needs_background": "light"
     }
    }
   ],
   "metadata": {}
  },
  {
   "cell_type": "code",
   "execution_count": 37,
   "source": [
    "trading_df"
   ],
   "outputs": [
    {
     "output_type": "execute_result",
     "data": {
      "text/plain": [
       "               id        day  gender  age adress  time    stock_code  \\\n",
       "0         A000592 2020-01-20       2   20     서울     2  00000A192820   \n",
       "1       A00010330 2020-01-20       2   20     서울     2  00000A042510   \n",
       "2       A00016551 2020-01-20       2   50     대구     2  00000A005930   \n",
       "4        A0005442 2020-01-20       2   20     서울     2  00000A005930   \n",
       "6        A0006004 2020-01-20       1   20     부산     3  00000A030790   \n",
       "...           ...        ...     ...  ...    ...   ...           ...   \n",
       "845917  A00016993 2020-03-31       1   30     광주     1  00000A009460   \n",
       "845918  A00016993 2020-03-31       1   30     광주     2  00000A009460   \n",
       "845922   A0001534 2020-03-31       1   30     광주     2  00000A019170   \n",
       "845938  A00016993 2020-03-31       1   30     광주     3  00000A009460   \n",
       "845939   A0008502 2020-03-31       2   30     경기     1  00000A011000   \n",
       "\n",
       "       stock_name  kospi_kosdaq  sell_buy  order_code  order_price  \\\n",
       "0         코스맥스보통주             2         2           1        87500   \n",
       "1           라온시큐어             3         2           1         2860   \n",
       "2         삼성전자보통주             2         2           1        62500   \n",
       "4         삼성전자보통주             2         2           1        62700   \n",
       "6        비케이탑스보통주             2         2           1          411   \n",
       "...           ...           ...       ...         ...          ...   \n",
       "845917    한창제지보통주             2         1           1         3600   \n",
       "845918    한창제지보통주             2         1           1         3685   \n",
       "845922    신풍제약보통주             2         1           1        15000   \n",
       "845938    한창제지보통주             2         2           1         3615   \n",
       "845939  진원생명과학보통주             2         2           5        12900   \n",
       "\n",
       "        order_volume  true_order_volume  true_order_price  before_close  \\\n",
       "0                 20                 20           1750000         87600   \n",
       "1                  2                  2              5710          2910   \n",
       "2                  1                  1             62500         61300   \n",
       "4                  1                  1             62700         61300   \n",
       "6                  1                  1               411           397   \n",
       "...              ...                ...               ...           ...   \n",
       "845917           150                150            543000          3430   \n",
       "845918           100                100            369000          3430   \n",
       "845922            48                 48            720000         14750   \n",
       "845938           150                150            542250          3430   \n",
       "845939            10                 10            124500          9930   \n",
       "\n",
       "        start   high    low  close    volume  volume_price high_yn low_yn  \\\n",
       "0       87500  91300  85900  86800    269228   23825292800       N      N   \n",
       "1        2895   2910   2835   2850    234253     670307175       N      N   \n",
       "2       62000  62800  61700  62400  12440366  775520000000       N      N   \n",
       "4       62000  62800  61700  62400  12440366  775520000000       N      N   \n",
       "6         385    459    373    412  78164184   32893042230       N      N   \n",
       "...       ...    ...    ...    ...       ...           ...     ...    ...   \n",
       "845917   3720   3995   3430   3710  27082512  101284000000       N      N   \n",
       "845918   3720   3995   3430   3710  27082512  101284000000       N      N   \n",
       "845922  15250  16450  13750  14400  18163049  271505000000       N      N   \n",
       "845938   3720   3995   3430   3710  27082512  101284000000       N      N   \n",
       "845939  11300  12900  11250  12900  20332183  254918000000       Y      N   \n",
       "\n",
       "        week  weekday  trading_count  \n",
       "0          4        0             53  \n",
       "1          4        0             17  \n",
       "2          4        0             14  \n",
       "4          4        0              8  \n",
       "6          4        0             32  \n",
       "...      ...      ...            ...  \n",
       "845917    14        1             13  \n",
       "845918    14        1             13  \n",
       "845922    14        1             34  \n",
       "845938    14        1             13  \n",
       "845939    14        1              8  \n",
       "\n",
       "[432428 rows x 27 columns]"
      ],
      "text/html": [
       "<div>\n",
       "<style scoped>\n",
       "    .dataframe tbody tr th:only-of-type {\n",
       "        vertical-align: middle;\n",
       "    }\n",
       "\n",
       "    .dataframe tbody tr th {\n",
       "        vertical-align: top;\n",
       "    }\n",
       "\n",
       "    .dataframe thead th {\n",
       "        text-align: right;\n",
       "    }\n",
       "</style>\n",
       "<table border=\"1\" class=\"dataframe\">\n",
       "  <thead>\n",
       "    <tr style=\"text-align: right;\">\n",
       "      <th></th>\n",
       "      <th>id</th>\n",
       "      <th>day</th>\n",
       "      <th>gender</th>\n",
       "      <th>age</th>\n",
       "      <th>adress</th>\n",
       "      <th>time</th>\n",
       "      <th>stock_code</th>\n",
       "      <th>stock_name</th>\n",
       "      <th>kospi_kosdaq</th>\n",
       "      <th>sell_buy</th>\n",
       "      <th>order_code</th>\n",
       "      <th>order_price</th>\n",
       "      <th>order_volume</th>\n",
       "      <th>true_order_volume</th>\n",
       "      <th>true_order_price</th>\n",
       "      <th>before_close</th>\n",
       "      <th>start</th>\n",
       "      <th>high</th>\n",
       "      <th>low</th>\n",
       "      <th>close</th>\n",
       "      <th>volume</th>\n",
       "      <th>volume_price</th>\n",
       "      <th>high_yn</th>\n",
       "      <th>low_yn</th>\n",
       "      <th>week</th>\n",
       "      <th>weekday</th>\n",
       "      <th>trading_count</th>\n",
       "    </tr>\n",
       "  </thead>\n",
       "  <tbody>\n",
       "    <tr>\n",
       "      <th>0</th>\n",
       "      <td>A000592</td>\n",
       "      <td>2020-01-20</td>\n",
       "      <td>2</td>\n",
       "      <td>20</td>\n",
       "      <td>서울</td>\n",
       "      <td>2</td>\n",
       "      <td>00000A192820</td>\n",
       "      <td>코스맥스보통주</td>\n",
       "      <td>2</td>\n",
       "      <td>2</td>\n",
       "      <td>1</td>\n",
       "      <td>87500</td>\n",
       "      <td>20</td>\n",
       "      <td>20</td>\n",
       "      <td>1750000</td>\n",
       "      <td>87600</td>\n",
       "      <td>87500</td>\n",
       "      <td>91300</td>\n",
       "      <td>85900</td>\n",
       "      <td>86800</td>\n",
       "      <td>269228</td>\n",
       "      <td>23825292800</td>\n",
       "      <td>N</td>\n",
       "      <td>N</td>\n",
       "      <td>4</td>\n",
       "      <td>0</td>\n",
       "      <td>53</td>\n",
       "    </tr>\n",
       "    <tr>\n",
       "      <th>1</th>\n",
       "      <td>A00010330</td>\n",
       "      <td>2020-01-20</td>\n",
       "      <td>2</td>\n",
       "      <td>20</td>\n",
       "      <td>서울</td>\n",
       "      <td>2</td>\n",
       "      <td>00000A042510</td>\n",
       "      <td>라온시큐어</td>\n",
       "      <td>3</td>\n",
       "      <td>2</td>\n",
       "      <td>1</td>\n",
       "      <td>2860</td>\n",
       "      <td>2</td>\n",
       "      <td>2</td>\n",
       "      <td>5710</td>\n",
       "      <td>2910</td>\n",
       "      <td>2895</td>\n",
       "      <td>2910</td>\n",
       "      <td>2835</td>\n",
       "      <td>2850</td>\n",
       "      <td>234253</td>\n",
       "      <td>670307175</td>\n",
       "      <td>N</td>\n",
       "      <td>N</td>\n",
       "      <td>4</td>\n",
       "      <td>0</td>\n",
       "      <td>17</td>\n",
       "    </tr>\n",
       "    <tr>\n",
       "      <th>2</th>\n",
       "      <td>A00016551</td>\n",
       "      <td>2020-01-20</td>\n",
       "      <td>2</td>\n",
       "      <td>50</td>\n",
       "      <td>대구</td>\n",
       "      <td>2</td>\n",
       "      <td>00000A005930</td>\n",
       "      <td>삼성전자보통주</td>\n",
       "      <td>2</td>\n",
       "      <td>2</td>\n",
       "      <td>1</td>\n",
       "      <td>62500</td>\n",
       "      <td>1</td>\n",
       "      <td>1</td>\n",
       "      <td>62500</td>\n",
       "      <td>61300</td>\n",
       "      <td>62000</td>\n",
       "      <td>62800</td>\n",
       "      <td>61700</td>\n",
       "      <td>62400</td>\n",
       "      <td>12440366</td>\n",
       "      <td>775520000000</td>\n",
       "      <td>N</td>\n",
       "      <td>N</td>\n",
       "      <td>4</td>\n",
       "      <td>0</td>\n",
       "      <td>14</td>\n",
       "    </tr>\n",
       "    <tr>\n",
       "      <th>4</th>\n",
       "      <td>A0005442</td>\n",
       "      <td>2020-01-20</td>\n",
       "      <td>2</td>\n",
       "      <td>20</td>\n",
       "      <td>서울</td>\n",
       "      <td>2</td>\n",
       "      <td>00000A005930</td>\n",
       "      <td>삼성전자보통주</td>\n",
       "      <td>2</td>\n",
       "      <td>2</td>\n",
       "      <td>1</td>\n",
       "      <td>62700</td>\n",
       "      <td>1</td>\n",
       "      <td>1</td>\n",
       "      <td>62700</td>\n",
       "      <td>61300</td>\n",
       "      <td>62000</td>\n",
       "      <td>62800</td>\n",
       "      <td>61700</td>\n",
       "      <td>62400</td>\n",
       "      <td>12440366</td>\n",
       "      <td>775520000000</td>\n",
       "      <td>N</td>\n",
       "      <td>N</td>\n",
       "      <td>4</td>\n",
       "      <td>0</td>\n",
       "      <td>8</td>\n",
       "    </tr>\n",
       "    <tr>\n",
       "      <th>6</th>\n",
       "      <td>A0006004</td>\n",
       "      <td>2020-01-20</td>\n",
       "      <td>1</td>\n",
       "      <td>20</td>\n",
       "      <td>부산</td>\n",
       "      <td>3</td>\n",
       "      <td>00000A030790</td>\n",
       "      <td>비케이탑스보통주</td>\n",
       "      <td>2</td>\n",
       "      <td>2</td>\n",
       "      <td>1</td>\n",
       "      <td>411</td>\n",
       "      <td>1</td>\n",
       "      <td>1</td>\n",
       "      <td>411</td>\n",
       "      <td>397</td>\n",
       "      <td>385</td>\n",
       "      <td>459</td>\n",
       "      <td>373</td>\n",
       "      <td>412</td>\n",
       "      <td>78164184</td>\n",
       "      <td>32893042230</td>\n",
       "      <td>N</td>\n",
       "      <td>N</td>\n",
       "      <td>4</td>\n",
       "      <td>0</td>\n",
       "      <td>32</td>\n",
       "    </tr>\n",
       "    <tr>\n",
       "      <th>...</th>\n",
       "      <td>...</td>\n",
       "      <td>...</td>\n",
       "      <td>...</td>\n",
       "      <td>...</td>\n",
       "      <td>...</td>\n",
       "      <td>...</td>\n",
       "      <td>...</td>\n",
       "      <td>...</td>\n",
       "      <td>...</td>\n",
       "      <td>...</td>\n",
       "      <td>...</td>\n",
       "      <td>...</td>\n",
       "      <td>...</td>\n",
       "      <td>...</td>\n",
       "      <td>...</td>\n",
       "      <td>...</td>\n",
       "      <td>...</td>\n",
       "      <td>...</td>\n",
       "      <td>...</td>\n",
       "      <td>...</td>\n",
       "      <td>...</td>\n",
       "      <td>...</td>\n",
       "      <td>...</td>\n",
       "      <td>...</td>\n",
       "      <td>...</td>\n",
       "      <td>...</td>\n",
       "      <td>...</td>\n",
       "    </tr>\n",
       "    <tr>\n",
       "      <th>845917</th>\n",
       "      <td>A00016993</td>\n",
       "      <td>2020-03-31</td>\n",
       "      <td>1</td>\n",
       "      <td>30</td>\n",
       "      <td>광주</td>\n",
       "      <td>1</td>\n",
       "      <td>00000A009460</td>\n",
       "      <td>한창제지보통주</td>\n",
       "      <td>2</td>\n",
       "      <td>1</td>\n",
       "      <td>1</td>\n",
       "      <td>3600</td>\n",
       "      <td>150</td>\n",
       "      <td>150</td>\n",
       "      <td>543000</td>\n",
       "      <td>3430</td>\n",
       "      <td>3720</td>\n",
       "      <td>3995</td>\n",
       "      <td>3430</td>\n",
       "      <td>3710</td>\n",
       "      <td>27082512</td>\n",
       "      <td>101284000000</td>\n",
       "      <td>N</td>\n",
       "      <td>N</td>\n",
       "      <td>14</td>\n",
       "      <td>1</td>\n",
       "      <td>13</td>\n",
       "    </tr>\n",
       "    <tr>\n",
       "      <th>845918</th>\n",
       "      <td>A00016993</td>\n",
       "      <td>2020-03-31</td>\n",
       "      <td>1</td>\n",
       "      <td>30</td>\n",
       "      <td>광주</td>\n",
       "      <td>2</td>\n",
       "      <td>00000A009460</td>\n",
       "      <td>한창제지보통주</td>\n",
       "      <td>2</td>\n",
       "      <td>1</td>\n",
       "      <td>1</td>\n",
       "      <td>3685</td>\n",
       "      <td>100</td>\n",
       "      <td>100</td>\n",
       "      <td>369000</td>\n",
       "      <td>3430</td>\n",
       "      <td>3720</td>\n",
       "      <td>3995</td>\n",
       "      <td>3430</td>\n",
       "      <td>3710</td>\n",
       "      <td>27082512</td>\n",
       "      <td>101284000000</td>\n",
       "      <td>N</td>\n",
       "      <td>N</td>\n",
       "      <td>14</td>\n",
       "      <td>1</td>\n",
       "      <td>13</td>\n",
       "    </tr>\n",
       "    <tr>\n",
       "      <th>845922</th>\n",
       "      <td>A0001534</td>\n",
       "      <td>2020-03-31</td>\n",
       "      <td>1</td>\n",
       "      <td>30</td>\n",
       "      <td>광주</td>\n",
       "      <td>2</td>\n",
       "      <td>00000A019170</td>\n",
       "      <td>신풍제약보통주</td>\n",
       "      <td>2</td>\n",
       "      <td>1</td>\n",
       "      <td>1</td>\n",
       "      <td>15000</td>\n",
       "      <td>48</td>\n",
       "      <td>48</td>\n",
       "      <td>720000</td>\n",
       "      <td>14750</td>\n",
       "      <td>15250</td>\n",
       "      <td>16450</td>\n",
       "      <td>13750</td>\n",
       "      <td>14400</td>\n",
       "      <td>18163049</td>\n",
       "      <td>271505000000</td>\n",
       "      <td>N</td>\n",
       "      <td>N</td>\n",
       "      <td>14</td>\n",
       "      <td>1</td>\n",
       "      <td>34</td>\n",
       "    </tr>\n",
       "    <tr>\n",
       "      <th>845938</th>\n",
       "      <td>A00016993</td>\n",
       "      <td>2020-03-31</td>\n",
       "      <td>1</td>\n",
       "      <td>30</td>\n",
       "      <td>광주</td>\n",
       "      <td>3</td>\n",
       "      <td>00000A009460</td>\n",
       "      <td>한창제지보통주</td>\n",
       "      <td>2</td>\n",
       "      <td>2</td>\n",
       "      <td>1</td>\n",
       "      <td>3615</td>\n",
       "      <td>150</td>\n",
       "      <td>150</td>\n",
       "      <td>542250</td>\n",
       "      <td>3430</td>\n",
       "      <td>3720</td>\n",
       "      <td>3995</td>\n",
       "      <td>3430</td>\n",
       "      <td>3710</td>\n",
       "      <td>27082512</td>\n",
       "      <td>101284000000</td>\n",
       "      <td>N</td>\n",
       "      <td>N</td>\n",
       "      <td>14</td>\n",
       "      <td>1</td>\n",
       "      <td>13</td>\n",
       "    </tr>\n",
       "    <tr>\n",
       "      <th>845939</th>\n",
       "      <td>A0008502</td>\n",
       "      <td>2020-03-31</td>\n",
       "      <td>2</td>\n",
       "      <td>30</td>\n",
       "      <td>경기</td>\n",
       "      <td>1</td>\n",
       "      <td>00000A011000</td>\n",
       "      <td>진원생명과학보통주</td>\n",
       "      <td>2</td>\n",
       "      <td>2</td>\n",
       "      <td>5</td>\n",
       "      <td>12900</td>\n",
       "      <td>10</td>\n",
       "      <td>10</td>\n",
       "      <td>124500</td>\n",
       "      <td>9930</td>\n",
       "      <td>11300</td>\n",
       "      <td>12900</td>\n",
       "      <td>11250</td>\n",
       "      <td>12900</td>\n",
       "      <td>20332183</td>\n",
       "      <td>254918000000</td>\n",
       "      <td>Y</td>\n",
       "      <td>N</td>\n",
       "      <td>14</td>\n",
       "      <td>1</td>\n",
       "      <td>8</td>\n",
       "    </tr>\n",
       "  </tbody>\n",
       "</table>\n",
       "<p>432428 rows × 27 columns</p>\n",
       "</div>"
      ]
     },
     "metadata": {},
     "execution_count": 37
    }
   ],
   "metadata": {}
  },
  {
   "cell_type": "code",
   "execution_count": 85,
   "source": [
    "age_20 = df[df['age']==20]\r\n",
    "age_30 = df[df['age']==30]\r\n",
    "age_40 = df[df['age']==40]\r\n",
    "age_50 = df[df['age']==50]"
   ],
   "outputs": [],
   "metadata": {}
  },
  {
   "cell_type": "code",
   "execution_count": 39,
   "source": [
    "from sklearn.cluster import KMeans\r\n",
    "age_20['adress'].value_counts()"
   ],
   "outputs": [
    {
     "output_type": "execute_result",
     "data": {
      "text/plain": [
       "경기    54608\n",
       "서울    48400\n",
       "부산    13917\n",
       "대구    13774\n",
       "인천    10344\n",
       "경남     9582\n",
       "경북     8685\n",
       "충북     6477\n",
       "충남     5546\n",
       "광주     5509\n",
       "전북     5383\n",
       "대전     4999\n",
       "전남     4780\n",
       "울산     3947\n",
       "강원     3810\n",
       "제주     1258\n",
       "Name: adress, dtype: int64"
      ]
     },
     "metadata": {},
     "execution_count": 39
    }
   ],
   "metadata": {}
  },
  {
   "cell_type": "code",
   "execution_count": 87,
   "source": [
    "id_count_20 = []\r\n",
    "id_count_30 = []\r\n",
    "id_count_40 = []\r\n",
    "id_count_50 = []\r\n",
    "for i in pd.DataFrame(age_20.groupby('day'))[0]:\r\n",
    "    j = str(i).strip()[:10]\r\n",
    "    id_count_20.append(len(age_20[age_20['day']==j]['id'].unique()))\r\n",
    "    id_count_30.append(len(age_30[age_30['day']==j]['id'].unique()))\r\n",
    "    id_count_40.append(len(age_40[age_40['day']==j]['id'].unique()))\r\n",
    "    id_count_50.append(len(age_50[age_50['day']==j]['id'].unique()))"
   ],
   "outputs": [],
   "metadata": {}
  },
  {
   "cell_type": "code",
   "execution_count": 117,
   "source": [
    "age_20_group = pd.DataFrame(age_20.groupby('day'))\r\n",
    "age_30_group = pd.DataFrame(age_30.groupby('day'))\r\n",
    "age_40_group = pd.DataFrame(age_40.groupby('day'))\r\n",
    "age_50_group = pd.DataFrame(age_50.groupby('day'))\r\n",
    "age_20_group['id_count'] = id_count_20\r\n",
    "age_20_group['age'] = 20\r\n",
    "age_30_group['id_count'] = id_count_30\r\n",
    "age_30_group['age'] = 30\r\n",
    "age_40_group['id_count'] = id_count_40\r\n",
    "age_40_group['age'] = 40\r\n",
    "age_50_group['id_count'] = id_count_50\r\n",
    "age_50_group['age'] = 50\r\n",
    "\r\n",
    "age_count = pd.concat([age_20_group, age_30_group, age_40_group, age_50_group])\r\n",
    "age_count.rename(columns={0:'day'}, inplace=True)\r\n",
    "\r\n",
    "#연령대별 투자 추이\r\n",
    "px.line(age_count, x='day', y='id_count', color='age', title='연령대별 주식거래량')"
   ],
   "outputs": [
    {
     "output_type": "display_data",
     "data": {
      "application/vnd.plotly.v1+json": {
       "config": {
        "plotlyServerURL": "https://plot.ly"
       },
       "data": [
        {
         "hovertemplate": "age=20<br>day=%{x}<br>id_count=%{y}<extra></extra>",
         "legendgroup": "20",
         "line": {
          "color": "#636efa",
          "dash": "solid"
         },
         "mode": "lines",
         "name": "20",
         "orientation": "v",
         "showlegend": true,
         "type": "scatter",
         "x": [
          "2020-01-20T00:00:00",
          "2020-01-21T00:00:00",
          "2020-01-22T00:00:00",
          "2020-01-23T00:00:00",
          "2020-01-28T00:00:00",
          "2020-01-29T00:00:00",
          "2020-01-30T00:00:00",
          "2020-01-31T00:00:00",
          "2020-02-03T00:00:00",
          "2020-02-04T00:00:00",
          "2020-02-05T00:00:00",
          "2020-02-06T00:00:00",
          "2020-02-07T00:00:00",
          "2020-02-10T00:00:00",
          "2020-02-11T00:00:00",
          "2020-02-12T00:00:00",
          "2020-02-13T00:00:00",
          "2020-02-14T00:00:00",
          "2020-02-17T00:00:00",
          "2020-02-18T00:00:00",
          "2020-02-19T00:00:00",
          "2020-02-20T00:00:00",
          "2020-02-21T00:00:00",
          "2020-02-24T00:00:00",
          "2020-02-25T00:00:00",
          "2020-02-26T00:00:00",
          "2020-02-27T00:00:00",
          "2020-02-28T00:00:00",
          "2020-03-02T00:00:00",
          "2020-03-03T00:00:00",
          "2020-03-04T00:00:00",
          "2020-03-05T00:00:00",
          "2020-03-06T00:00:00",
          "2020-03-09T00:00:00",
          "2020-03-10T00:00:00",
          "2020-03-11T00:00:00",
          "2020-03-12T00:00:00",
          "2020-03-13T00:00:00",
          "2020-03-16T00:00:00",
          "2020-03-17T00:00:00",
          "2020-03-18T00:00:00",
          "2020-03-19T00:00:00",
          "2020-03-20T00:00:00",
          "2020-03-23T00:00:00",
          "2020-03-24T00:00:00",
          "2020-03-25T00:00:00",
          "2020-03-26T00:00:00",
          "2020-03-27T00:00:00",
          "2020-03-30T00:00:00",
          "2020-03-31T00:00:00"
         ],
         "xaxis": "x",
         "y": [
          21,
          40,
          49,
          91,
          253,
          313,
          395,
          373,
          483,
          501,
          531,
          619,
          651,
          678,
          721,
          790,
          852,
          877,
          966,
          1053,
          973,
          1122,
          1174,
          1424,
          1208,
          1298,
          1317,
          1361,
          1246,
          1355,
          1323,
          1475,
          1604,
          1876,
          1661,
          1805,
          1730,
          1680,
          1844,
          1788,
          2001,
          1995,
          2005,
          2075,
          2206,
          2973,
          3555,
          3641,
          3307,
          3489
         ],
         "yaxis": "y"
        },
        {
         "hovertemplate": "age=30<br>day=%{x}<br>id_count=%{y}<extra></extra>",
         "legendgroup": "30",
         "line": {
          "color": "#EF553B",
          "dash": "solid"
         },
         "mode": "lines",
         "name": "30",
         "orientation": "v",
         "showlegend": true,
         "type": "scatter",
         "x": [
          "2020-01-20T00:00:00",
          "2020-01-21T00:00:00",
          "2020-01-22T00:00:00",
          "2020-01-23T00:00:00",
          "2020-01-28T00:00:00",
          "2020-01-29T00:00:00",
          "2020-01-30T00:00:00",
          "2020-01-31T00:00:00",
          "2020-02-03T00:00:00",
          "2020-02-04T00:00:00",
          "2020-02-05T00:00:00",
          "2020-02-06T00:00:00",
          "2020-02-07T00:00:00",
          "2020-02-10T00:00:00",
          "2020-02-11T00:00:00",
          "2020-02-12T00:00:00",
          "2020-02-13T00:00:00",
          "2020-02-14T00:00:00",
          "2020-02-17T00:00:00",
          "2020-02-18T00:00:00",
          "2020-02-19T00:00:00",
          "2020-02-20T00:00:00",
          "2020-02-21T00:00:00",
          "2020-02-24T00:00:00",
          "2020-02-25T00:00:00",
          "2020-02-26T00:00:00",
          "2020-02-27T00:00:00",
          "2020-02-28T00:00:00",
          "2020-03-02T00:00:00",
          "2020-03-03T00:00:00",
          "2020-03-04T00:00:00",
          "2020-03-05T00:00:00",
          "2020-03-06T00:00:00",
          "2020-03-09T00:00:00",
          "2020-03-10T00:00:00",
          "2020-03-11T00:00:00",
          "2020-03-12T00:00:00",
          "2020-03-13T00:00:00",
          "2020-03-16T00:00:00",
          "2020-03-17T00:00:00",
          "2020-03-18T00:00:00",
          "2020-03-19T00:00:00",
          "2020-03-20T00:00:00",
          "2020-03-23T00:00:00",
          "2020-03-24T00:00:00",
          "2020-03-25T00:00:00",
          "2020-03-26T00:00:00",
          "2020-03-27T00:00:00",
          "2020-03-30T00:00:00",
          "2020-03-31T00:00:00"
         ],
         "xaxis": "x",
         "y": [
          25,
          71,
          89,
          163,
          335,
          409,
          525,
          544,
          641,
          673,
          781,
          839,
          894,
          964,
          1030,
          1122,
          1288,
          1356,
          1472,
          1656,
          1549,
          1722,
          1843,
          2171,
          1915,
          1957,
          2081,
          2214,
          2055,
          2127,
          2090,
          2361,
          2603,
          3137,
          2717,
          2999,
          2859,
          2914,
          3148,
          3220,
          3698,
          3497,
          3482,
          3675,
          3807,
          5059,
          5861,
          6066,
          5372,
          5922
         ],
         "yaxis": "y"
        },
        {
         "hovertemplate": "age=40<br>day=%{x}<br>id_count=%{y}<extra></extra>",
         "legendgroup": "40",
         "line": {
          "color": "#00cc96",
          "dash": "solid"
         },
         "mode": "lines",
         "name": "40",
         "orientation": "v",
         "showlegend": true,
         "type": "scatter",
         "x": [
          "2020-01-20T00:00:00",
          "2020-01-21T00:00:00",
          "2020-01-22T00:00:00",
          "2020-01-23T00:00:00",
          "2020-01-28T00:00:00",
          "2020-01-29T00:00:00",
          "2020-01-30T00:00:00",
          "2020-01-31T00:00:00",
          "2020-02-03T00:00:00",
          "2020-02-04T00:00:00",
          "2020-02-05T00:00:00",
          "2020-02-06T00:00:00",
          "2020-02-07T00:00:00",
          "2020-02-10T00:00:00",
          "2020-02-11T00:00:00",
          "2020-02-12T00:00:00",
          "2020-02-13T00:00:00",
          "2020-02-14T00:00:00",
          "2020-02-17T00:00:00",
          "2020-02-18T00:00:00",
          "2020-02-19T00:00:00",
          "2020-02-20T00:00:00",
          "2020-02-21T00:00:00",
          "2020-02-24T00:00:00",
          "2020-02-25T00:00:00",
          "2020-02-26T00:00:00",
          "2020-02-27T00:00:00",
          "2020-02-28T00:00:00",
          "2020-03-02T00:00:00",
          "2020-03-03T00:00:00",
          "2020-03-04T00:00:00",
          "2020-03-05T00:00:00",
          "2020-03-06T00:00:00",
          "2020-03-09T00:00:00",
          "2020-03-10T00:00:00",
          "2020-03-11T00:00:00",
          "2020-03-12T00:00:00",
          "2020-03-13T00:00:00",
          "2020-03-16T00:00:00",
          "2020-03-17T00:00:00",
          "2020-03-18T00:00:00",
          "2020-03-19T00:00:00",
          "2020-03-20T00:00:00",
          "2020-03-23T00:00:00",
          "2020-03-24T00:00:00",
          "2020-03-25T00:00:00",
          "2020-03-26T00:00:00",
          "2020-03-27T00:00:00",
          "2020-03-30T00:00:00",
          "2020-03-31T00:00:00"
         ],
         "xaxis": "x",
         "y": [
          16,
          41,
          58,
          106,
          233,
          235,
          315,
          311,
          358,
          353,
          417,
          457,
          540,
          560,
          607,
          701,
          740,
          790,
          858,
          984,
          923,
          1041,
          1077,
          1327,
          1091,
          1230,
          1244,
          1378,
          1261,
          1293,
          1285,
          1361,
          1545,
          1913,
          1664,
          1949,
          1889,
          1928,
          2111,
          2082,
          2456,
          2374,
          2348,
          2516,
          2479,
          3182,
          3570,
          3739,
          3273,
          3575
         ],
         "yaxis": "y"
        },
        {
         "hovertemplate": "age=50<br>day=%{x}<br>id_count=%{y}<extra></extra>",
         "legendgroup": "50",
         "line": {
          "color": "#ab63fa",
          "dash": "solid"
         },
         "mode": "lines",
         "name": "50",
         "orientation": "v",
         "showlegend": true,
         "type": "scatter",
         "x": [
          "2020-01-20T00:00:00",
          "2020-01-21T00:00:00",
          "2020-01-22T00:00:00",
          "2020-01-23T00:00:00",
          "2020-01-28T00:00:00",
          "2020-01-29T00:00:00",
          "2020-01-30T00:00:00",
          "2020-01-31T00:00:00",
          "2020-02-03T00:00:00",
          "2020-02-04T00:00:00",
          "2020-02-05T00:00:00",
          "2020-02-06T00:00:00",
          "2020-02-07T00:00:00",
          "2020-02-10T00:00:00",
          "2020-02-11T00:00:00",
          "2020-02-12T00:00:00",
          "2020-02-13T00:00:00",
          "2020-02-14T00:00:00",
          "2020-02-17T00:00:00",
          "2020-02-18T00:00:00",
          "2020-02-19T00:00:00",
          "2020-02-20T00:00:00",
          "2020-02-21T00:00:00",
          "2020-02-24T00:00:00",
          "2020-02-25T00:00:00",
          "2020-02-26T00:00:00",
          "2020-02-27T00:00:00",
          "2020-02-28T00:00:00",
          "2020-03-02T00:00:00",
          "2020-03-03T00:00:00",
          "2020-03-04T00:00:00",
          "2020-03-05T00:00:00",
          "2020-03-06T00:00:00",
          "2020-03-09T00:00:00",
          "2020-03-10T00:00:00",
          "2020-03-11T00:00:00",
          "2020-03-12T00:00:00",
          "2020-03-13T00:00:00",
          "2020-03-16T00:00:00",
          "2020-03-17T00:00:00",
          "2020-03-18T00:00:00",
          "2020-03-19T00:00:00",
          "2020-03-20T00:00:00",
          "2020-03-23T00:00:00",
          "2020-03-24T00:00:00",
          "2020-03-25T00:00:00",
          "2020-03-26T00:00:00",
          "2020-03-27T00:00:00",
          "2020-03-30T00:00:00",
          "2020-03-31T00:00:00"
         ],
         "xaxis": "x",
         "y": [
          6,
          25,
          34,
          46,
          120,
          119,
          157,
          161,
          181,
          178,
          212,
          216,
          256,
          293,
          293,
          349,
          375,
          366,
          416,
          504,
          438,
          475,
          483,
          602,
          489,
          586,
          620,
          690,
          585,
          636,
          600,
          683,
          763,
          968,
          831,
          973,
          923,
          943,
          1029,
          1001,
          1194,
          1210,
          1083,
          1235,
          1193,
          1440,
          1572,
          1652,
          1443,
          1615
         ],
         "yaxis": "y"
        }
       ],
       "layout": {
        "legend": {
         "title": {
          "text": "age"
         },
         "tracegroupgap": 0
        },
        "template": {
         "data": {
          "bar": [
           {
            "error_x": {
             "color": "#2a3f5f"
            },
            "error_y": {
             "color": "#2a3f5f"
            },
            "marker": {
             "line": {
              "color": "#E5ECF6",
              "width": 0.5
             }
            },
            "type": "bar"
           }
          ],
          "barpolar": [
           {
            "marker": {
             "line": {
              "color": "#E5ECF6",
              "width": 0.5
             }
            },
            "type": "barpolar"
           }
          ],
          "carpet": [
           {
            "aaxis": {
             "endlinecolor": "#2a3f5f",
             "gridcolor": "white",
             "linecolor": "white",
             "minorgridcolor": "white",
             "startlinecolor": "#2a3f5f"
            },
            "baxis": {
             "endlinecolor": "#2a3f5f",
             "gridcolor": "white",
             "linecolor": "white",
             "minorgridcolor": "white",
             "startlinecolor": "#2a3f5f"
            },
            "type": "carpet"
           }
          ],
          "choropleth": [
           {
            "colorbar": {
             "outlinewidth": 0,
             "ticks": ""
            },
            "type": "choropleth"
           }
          ],
          "contour": [
           {
            "colorbar": {
             "outlinewidth": 0,
             "ticks": ""
            },
            "colorscale": [
             [
              0,
              "#0d0887"
             ],
             [
              0.1111111111111111,
              "#46039f"
             ],
             [
              0.2222222222222222,
              "#7201a8"
             ],
             [
              0.3333333333333333,
              "#9c179e"
             ],
             [
              0.4444444444444444,
              "#bd3786"
             ],
             [
              0.5555555555555556,
              "#d8576b"
             ],
             [
              0.6666666666666666,
              "#ed7953"
             ],
             [
              0.7777777777777778,
              "#fb9f3a"
             ],
             [
              0.8888888888888888,
              "#fdca26"
             ],
             [
              1,
              "#f0f921"
             ]
            ],
            "type": "contour"
           }
          ],
          "contourcarpet": [
           {
            "colorbar": {
             "outlinewidth": 0,
             "ticks": ""
            },
            "type": "contourcarpet"
           }
          ],
          "heatmap": [
           {
            "colorbar": {
             "outlinewidth": 0,
             "ticks": ""
            },
            "colorscale": [
             [
              0,
              "#0d0887"
             ],
             [
              0.1111111111111111,
              "#46039f"
             ],
             [
              0.2222222222222222,
              "#7201a8"
             ],
             [
              0.3333333333333333,
              "#9c179e"
             ],
             [
              0.4444444444444444,
              "#bd3786"
             ],
             [
              0.5555555555555556,
              "#d8576b"
             ],
             [
              0.6666666666666666,
              "#ed7953"
             ],
             [
              0.7777777777777778,
              "#fb9f3a"
             ],
             [
              0.8888888888888888,
              "#fdca26"
             ],
             [
              1,
              "#f0f921"
             ]
            ],
            "type": "heatmap"
           }
          ],
          "heatmapgl": [
           {
            "colorbar": {
             "outlinewidth": 0,
             "ticks": ""
            },
            "colorscale": [
             [
              0,
              "#0d0887"
             ],
             [
              0.1111111111111111,
              "#46039f"
             ],
             [
              0.2222222222222222,
              "#7201a8"
             ],
             [
              0.3333333333333333,
              "#9c179e"
             ],
             [
              0.4444444444444444,
              "#bd3786"
             ],
             [
              0.5555555555555556,
              "#d8576b"
             ],
             [
              0.6666666666666666,
              "#ed7953"
             ],
             [
              0.7777777777777778,
              "#fb9f3a"
             ],
             [
              0.8888888888888888,
              "#fdca26"
             ],
             [
              1,
              "#f0f921"
             ]
            ],
            "type": "heatmapgl"
           }
          ],
          "histogram": [
           {
            "marker": {
             "colorbar": {
              "outlinewidth": 0,
              "ticks": ""
             }
            },
            "type": "histogram"
           }
          ],
          "histogram2d": [
           {
            "colorbar": {
             "outlinewidth": 0,
             "ticks": ""
            },
            "colorscale": [
             [
              0,
              "#0d0887"
             ],
             [
              0.1111111111111111,
              "#46039f"
             ],
             [
              0.2222222222222222,
              "#7201a8"
             ],
             [
              0.3333333333333333,
              "#9c179e"
             ],
             [
              0.4444444444444444,
              "#bd3786"
             ],
             [
              0.5555555555555556,
              "#d8576b"
             ],
             [
              0.6666666666666666,
              "#ed7953"
             ],
             [
              0.7777777777777778,
              "#fb9f3a"
             ],
             [
              0.8888888888888888,
              "#fdca26"
             ],
             [
              1,
              "#f0f921"
             ]
            ],
            "type": "histogram2d"
           }
          ],
          "histogram2dcontour": [
           {
            "colorbar": {
             "outlinewidth": 0,
             "ticks": ""
            },
            "colorscale": [
             [
              0,
              "#0d0887"
             ],
             [
              0.1111111111111111,
              "#46039f"
             ],
             [
              0.2222222222222222,
              "#7201a8"
             ],
             [
              0.3333333333333333,
              "#9c179e"
             ],
             [
              0.4444444444444444,
              "#bd3786"
             ],
             [
              0.5555555555555556,
              "#d8576b"
             ],
             [
              0.6666666666666666,
              "#ed7953"
             ],
             [
              0.7777777777777778,
              "#fb9f3a"
             ],
             [
              0.8888888888888888,
              "#fdca26"
             ],
             [
              1,
              "#f0f921"
             ]
            ],
            "type": "histogram2dcontour"
           }
          ],
          "mesh3d": [
           {
            "colorbar": {
             "outlinewidth": 0,
             "ticks": ""
            },
            "type": "mesh3d"
           }
          ],
          "parcoords": [
           {
            "line": {
             "colorbar": {
              "outlinewidth": 0,
              "ticks": ""
             }
            },
            "type": "parcoords"
           }
          ],
          "pie": [
           {
            "automargin": true,
            "type": "pie"
           }
          ],
          "scatter": [
           {
            "marker": {
             "colorbar": {
              "outlinewidth": 0,
              "ticks": ""
             }
            },
            "type": "scatter"
           }
          ],
          "scatter3d": [
           {
            "line": {
             "colorbar": {
              "outlinewidth": 0,
              "ticks": ""
             }
            },
            "marker": {
             "colorbar": {
              "outlinewidth": 0,
              "ticks": ""
             }
            },
            "type": "scatter3d"
           }
          ],
          "scattercarpet": [
           {
            "marker": {
             "colorbar": {
              "outlinewidth": 0,
              "ticks": ""
             }
            },
            "type": "scattercarpet"
           }
          ],
          "scattergeo": [
           {
            "marker": {
             "colorbar": {
              "outlinewidth": 0,
              "ticks": ""
             }
            },
            "type": "scattergeo"
           }
          ],
          "scattergl": [
           {
            "marker": {
             "colorbar": {
              "outlinewidth": 0,
              "ticks": ""
             }
            },
            "type": "scattergl"
           }
          ],
          "scattermapbox": [
           {
            "marker": {
             "colorbar": {
              "outlinewidth": 0,
              "ticks": ""
             }
            },
            "type": "scattermapbox"
           }
          ],
          "scatterpolar": [
           {
            "marker": {
             "colorbar": {
              "outlinewidth": 0,
              "ticks": ""
             }
            },
            "type": "scatterpolar"
           }
          ],
          "scatterpolargl": [
           {
            "marker": {
             "colorbar": {
              "outlinewidth": 0,
              "ticks": ""
             }
            },
            "type": "scatterpolargl"
           }
          ],
          "scatterternary": [
           {
            "marker": {
             "colorbar": {
              "outlinewidth": 0,
              "ticks": ""
             }
            },
            "type": "scatterternary"
           }
          ],
          "surface": [
           {
            "colorbar": {
             "outlinewidth": 0,
             "ticks": ""
            },
            "colorscale": [
             [
              0,
              "#0d0887"
             ],
             [
              0.1111111111111111,
              "#46039f"
             ],
             [
              0.2222222222222222,
              "#7201a8"
             ],
             [
              0.3333333333333333,
              "#9c179e"
             ],
             [
              0.4444444444444444,
              "#bd3786"
             ],
             [
              0.5555555555555556,
              "#d8576b"
             ],
             [
              0.6666666666666666,
              "#ed7953"
             ],
             [
              0.7777777777777778,
              "#fb9f3a"
             ],
             [
              0.8888888888888888,
              "#fdca26"
             ],
             [
              1,
              "#f0f921"
             ]
            ],
            "type": "surface"
           }
          ],
          "table": [
           {
            "cells": {
             "fill": {
              "color": "#EBF0F8"
             },
             "line": {
              "color": "white"
             }
            },
            "header": {
             "fill": {
              "color": "#C8D4E3"
             },
             "line": {
              "color": "white"
             }
            },
            "type": "table"
           }
          ]
         },
         "layout": {
          "annotationdefaults": {
           "arrowcolor": "#2a3f5f",
           "arrowhead": 0,
           "arrowwidth": 1
          },
          "autotypenumbers": "strict",
          "coloraxis": {
           "colorbar": {
            "outlinewidth": 0,
            "ticks": ""
           }
          },
          "colorscale": {
           "diverging": [
            [
             0,
             "#8e0152"
            ],
            [
             0.1,
             "#c51b7d"
            ],
            [
             0.2,
             "#de77ae"
            ],
            [
             0.3,
             "#f1b6da"
            ],
            [
             0.4,
             "#fde0ef"
            ],
            [
             0.5,
             "#f7f7f7"
            ],
            [
             0.6,
             "#e6f5d0"
            ],
            [
             0.7,
             "#b8e186"
            ],
            [
             0.8,
             "#7fbc41"
            ],
            [
             0.9,
             "#4d9221"
            ],
            [
             1,
             "#276419"
            ]
           ],
           "sequential": [
            [
             0,
             "#0d0887"
            ],
            [
             0.1111111111111111,
             "#46039f"
            ],
            [
             0.2222222222222222,
             "#7201a8"
            ],
            [
             0.3333333333333333,
             "#9c179e"
            ],
            [
             0.4444444444444444,
             "#bd3786"
            ],
            [
             0.5555555555555556,
             "#d8576b"
            ],
            [
             0.6666666666666666,
             "#ed7953"
            ],
            [
             0.7777777777777778,
             "#fb9f3a"
            ],
            [
             0.8888888888888888,
             "#fdca26"
            ],
            [
             1,
             "#f0f921"
            ]
           ],
           "sequentialminus": [
            [
             0,
             "#0d0887"
            ],
            [
             0.1111111111111111,
             "#46039f"
            ],
            [
             0.2222222222222222,
             "#7201a8"
            ],
            [
             0.3333333333333333,
             "#9c179e"
            ],
            [
             0.4444444444444444,
             "#bd3786"
            ],
            [
             0.5555555555555556,
             "#d8576b"
            ],
            [
             0.6666666666666666,
             "#ed7953"
            ],
            [
             0.7777777777777778,
             "#fb9f3a"
            ],
            [
             0.8888888888888888,
             "#fdca26"
            ],
            [
             1,
             "#f0f921"
            ]
           ]
          },
          "colorway": [
           "#636efa",
           "#EF553B",
           "#00cc96",
           "#ab63fa",
           "#FFA15A",
           "#19d3f3",
           "#FF6692",
           "#B6E880",
           "#FF97FF",
           "#FECB52"
          ],
          "font": {
           "color": "#2a3f5f"
          },
          "geo": {
           "bgcolor": "white",
           "lakecolor": "white",
           "landcolor": "#E5ECF6",
           "showlakes": true,
           "showland": true,
           "subunitcolor": "white"
          },
          "hoverlabel": {
           "align": "left"
          },
          "hovermode": "closest",
          "mapbox": {
           "style": "light"
          },
          "paper_bgcolor": "white",
          "plot_bgcolor": "#E5ECF6",
          "polar": {
           "angularaxis": {
            "gridcolor": "white",
            "linecolor": "white",
            "ticks": ""
           },
           "bgcolor": "#E5ECF6",
           "radialaxis": {
            "gridcolor": "white",
            "linecolor": "white",
            "ticks": ""
           }
          },
          "scene": {
           "xaxis": {
            "backgroundcolor": "#E5ECF6",
            "gridcolor": "white",
            "gridwidth": 2,
            "linecolor": "white",
            "showbackground": true,
            "ticks": "",
            "zerolinecolor": "white"
           },
           "yaxis": {
            "backgroundcolor": "#E5ECF6",
            "gridcolor": "white",
            "gridwidth": 2,
            "linecolor": "white",
            "showbackground": true,
            "ticks": "",
            "zerolinecolor": "white"
           },
           "zaxis": {
            "backgroundcolor": "#E5ECF6",
            "gridcolor": "white",
            "gridwidth": 2,
            "linecolor": "white",
            "showbackground": true,
            "ticks": "",
            "zerolinecolor": "white"
           }
          },
          "shapedefaults": {
           "line": {
            "color": "#2a3f5f"
           }
          },
          "ternary": {
           "aaxis": {
            "gridcolor": "white",
            "linecolor": "white",
            "ticks": ""
           },
           "baxis": {
            "gridcolor": "white",
            "linecolor": "white",
            "ticks": ""
           },
           "bgcolor": "#E5ECF6",
           "caxis": {
            "gridcolor": "white",
            "linecolor": "white",
            "ticks": ""
           }
          },
          "title": {
           "x": 0.05
          },
          "xaxis": {
           "automargin": true,
           "gridcolor": "white",
           "linecolor": "white",
           "ticks": "",
           "title": {
            "standoff": 15
           },
           "zerolinecolor": "white",
           "zerolinewidth": 2
          },
          "yaxis": {
           "automargin": true,
           "gridcolor": "white",
           "linecolor": "white",
           "ticks": "",
           "title": {
            "standoff": 15
           },
           "zerolinecolor": "white",
           "zerolinewidth": 2
          }
         }
        },
        "title": {
         "text": "연령대별 주식거래량"
        },
        "xaxis": {
         "anchor": "y",
         "domain": [
          0,
          1
         ],
         "title": {
          "text": "day"
         }
        },
        "yaxis": {
         "anchor": "x",
         "domain": [
          0,
          1
         ],
         "title": {
          "text": "id_count"
         }
        }
       }
      }
     },
     "metadata": {}
    }
   ],
   "metadata": {}
  },
  {
   "cell_type": "code",
   "execution_count": 75,
   "source": [
    "len(age_20['id'].unique())"
   ],
   "outputs": [
    {
     "output_type": "execute_result",
     "data": {
      "text/plain": [
       "6630"
      ]
     },
     "metadata": {},
     "execution_count": 75
    }
   ],
   "metadata": {}
  },
  {
   "cell_type": "code",
   "execution_count": 79,
   "source": [
    "age_20"
   ],
   "outputs": [
    {
     "output_type": "execute_result",
     "data": {
      "text/plain": [
       "               id        day  gender  age adress  time    stock_code  \\\n",
       "711180    A000592 2020-01-20       2   20     서울     2  00000A192820   \n",
       "83205   A00010330 2020-01-20       2   20     서울     2  00000A042510   \n",
       "59805    A0005442 2020-01-20       2   20     서울     2  00000A005930   \n",
       "712825   A0006004 2020-01-20       1   20     부산     3  00000A030790   \n",
       "712824   A0006004 2020-01-20       1   20     부산     3  00000A051980   \n",
       "...           ...        ...     ...  ...    ...   ...           ...   \n",
       "591073  A00024579 2020-03-31       1   20     대전     1  00000A073540   \n",
       "591082  A00024579 2020-03-31       1   20     대전     1  00000A005440   \n",
       "333852  A00016992 2020-03-31       2   20     전북     1  00000A084650   \n",
       "333853  A00016992 2020-03-31       2   20     전북     1  00000A053980   \n",
       "333944  A00016996 2020-03-31       1   20     경기     2  00000A011000   \n",
       "\n",
       "       stock_name  kospi_kosdaq  sell_buy  order_code  order_price  \\\n",
       "711180    코스맥스보통주             2         2           1        87500   \n",
       "83205       라온시큐어             3         2           1         2860   \n",
       "59805     삼성전자보통주             2         2           1        62700   \n",
       "712825   비케이탑스보통주             2         2           1          411   \n",
       "712824     센트럴바이오             3         2           1          645   \n",
       "...           ...           ...       ...         ...          ...   \n",
       "591073       에프알텍             3         1           1         3040   \n",
       "591082  현대그린푸드보통주             2         1           1         6770   \n",
       "333852      랩지노믹스             3         2           1        23700   \n",
       "333853      오상자이엘             3         2           1        13750   \n",
       "333944  진원생명과학보통주             2         1           1        12700   \n",
       "\n",
       "        order_volume  true_order_volume  true_order_price  before_close  \\\n",
       "711180            20                 20           1750000         87600   \n",
       "83205              2                  2              5710          2910   \n",
       "59805              1                  1             62700         61300   \n",
       "712825             1                  1               411           397   \n",
       "712824             1                  1               645           607   \n",
       "...              ...                ...               ...           ...   \n",
       "591073           100                100            304000          2945   \n",
       "591082             1                  1              6770          6550   \n",
       "333852             2                  2             47400         24750   \n",
       "333853             5                  5             68750         13150   \n",
       "333944           174                174           2209800          9930   \n",
       "\n",
       "        start   high    low  close    volume  volume_price high_yn low_yn  \\\n",
       "711180  87500  91300  85900  86800    269228   23825292800       N      N   \n",
       "83205    2895   2910   2835   2850    234253     670307175       N      N   \n",
       "59805   62000  62800  61700  62400  12440366  775520000000       N      N   \n",
       "712825    385    459    373    412  78164184   32893042230       N      N   \n",
       "712824    607    740    603    645   5855806    3957329907       N      N   \n",
       "...       ...    ...    ...    ...       ...           ...     ...    ...   \n",
       "591073   3110   3370   2980   3200    178016     553741850       N      N   \n",
       "591082   6660   6790   6530   6580    322180    2155772530       N      N   \n",
       "333852  24750  26200  21950  23250   4499976  107538000000       N      N   \n",
       "333853  14300  14800  12550  13300   3979532   54757706500       N      N   \n",
       "333944  11300  12900  11250  12900  20332183  254918000000       Y      N   \n",
       "\n",
       "        week  weekday  \n",
       "711180     4        0  \n",
       "83205      4        0  \n",
       "59805      4        0  \n",
       "712825     4        0  \n",
       "712824     4        0  \n",
       "...      ...      ...  \n",
       "591073    14        1  \n",
       "591082    14        1  \n",
       "333852    14        1  \n",
       "333853    14        1  \n",
       "333944    14        1  \n",
       "\n",
       "[201019 rows x 26 columns]"
      ],
      "text/html": [
       "<div>\n",
       "<style scoped>\n",
       "    .dataframe tbody tr th:only-of-type {\n",
       "        vertical-align: middle;\n",
       "    }\n",
       "\n",
       "    .dataframe tbody tr th {\n",
       "        vertical-align: top;\n",
       "    }\n",
       "\n",
       "    .dataframe thead th {\n",
       "        text-align: right;\n",
       "    }\n",
       "</style>\n",
       "<table border=\"1\" class=\"dataframe\">\n",
       "  <thead>\n",
       "    <tr style=\"text-align: right;\">\n",
       "      <th></th>\n",
       "      <th>id</th>\n",
       "      <th>day</th>\n",
       "      <th>gender</th>\n",
       "      <th>age</th>\n",
       "      <th>adress</th>\n",
       "      <th>time</th>\n",
       "      <th>stock_code</th>\n",
       "      <th>stock_name</th>\n",
       "      <th>kospi_kosdaq</th>\n",
       "      <th>sell_buy</th>\n",
       "      <th>order_code</th>\n",
       "      <th>order_price</th>\n",
       "      <th>order_volume</th>\n",
       "      <th>true_order_volume</th>\n",
       "      <th>true_order_price</th>\n",
       "      <th>before_close</th>\n",
       "      <th>start</th>\n",
       "      <th>high</th>\n",
       "      <th>low</th>\n",
       "      <th>close</th>\n",
       "      <th>volume</th>\n",
       "      <th>volume_price</th>\n",
       "      <th>high_yn</th>\n",
       "      <th>low_yn</th>\n",
       "      <th>week</th>\n",
       "      <th>weekday</th>\n",
       "    </tr>\n",
       "  </thead>\n",
       "  <tbody>\n",
       "    <tr>\n",
       "      <th>711180</th>\n",
       "      <td>A000592</td>\n",
       "      <td>2020-01-20</td>\n",
       "      <td>2</td>\n",
       "      <td>20</td>\n",
       "      <td>서울</td>\n",
       "      <td>2</td>\n",
       "      <td>00000A192820</td>\n",
       "      <td>코스맥스보통주</td>\n",
       "      <td>2</td>\n",
       "      <td>2</td>\n",
       "      <td>1</td>\n",
       "      <td>87500</td>\n",
       "      <td>20</td>\n",
       "      <td>20</td>\n",
       "      <td>1750000</td>\n",
       "      <td>87600</td>\n",
       "      <td>87500</td>\n",
       "      <td>91300</td>\n",
       "      <td>85900</td>\n",
       "      <td>86800</td>\n",
       "      <td>269228</td>\n",
       "      <td>23825292800</td>\n",
       "      <td>N</td>\n",
       "      <td>N</td>\n",
       "      <td>4</td>\n",
       "      <td>0</td>\n",
       "    </tr>\n",
       "    <tr>\n",
       "      <th>83205</th>\n",
       "      <td>A00010330</td>\n",
       "      <td>2020-01-20</td>\n",
       "      <td>2</td>\n",
       "      <td>20</td>\n",
       "      <td>서울</td>\n",
       "      <td>2</td>\n",
       "      <td>00000A042510</td>\n",
       "      <td>라온시큐어</td>\n",
       "      <td>3</td>\n",
       "      <td>2</td>\n",
       "      <td>1</td>\n",
       "      <td>2860</td>\n",
       "      <td>2</td>\n",
       "      <td>2</td>\n",
       "      <td>5710</td>\n",
       "      <td>2910</td>\n",
       "      <td>2895</td>\n",
       "      <td>2910</td>\n",
       "      <td>2835</td>\n",
       "      <td>2850</td>\n",
       "      <td>234253</td>\n",
       "      <td>670307175</td>\n",
       "      <td>N</td>\n",
       "      <td>N</td>\n",
       "      <td>4</td>\n",
       "      <td>0</td>\n",
       "    </tr>\n",
       "    <tr>\n",
       "      <th>59805</th>\n",
       "      <td>A0005442</td>\n",
       "      <td>2020-01-20</td>\n",
       "      <td>2</td>\n",
       "      <td>20</td>\n",
       "      <td>서울</td>\n",
       "      <td>2</td>\n",
       "      <td>00000A005930</td>\n",
       "      <td>삼성전자보통주</td>\n",
       "      <td>2</td>\n",
       "      <td>2</td>\n",
       "      <td>1</td>\n",
       "      <td>62700</td>\n",
       "      <td>1</td>\n",
       "      <td>1</td>\n",
       "      <td>62700</td>\n",
       "      <td>61300</td>\n",
       "      <td>62000</td>\n",
       "      <td>62800</td>\n",
       "      <td>61700</td>\n",
       "      <td>62400</td>\n",
       "      <td>12440366</td>\n",
       "      <td>775520000000</td>\n",
       "      <td>N</td>\n",
       "      <td>N</td>\n",
       "      <td>4</td>\n",
       "      <td>0</td>\n",
       "    </tr>\n",
       "    <tr>\n",
       "      <th>712825</th>\n",
       "      <td>A0006004</td>\n",
       "      <td>2020-01-20</td>\n",
       "      <td>1</td>\n",
       "      <td>20</td>\n",
       "      <td>부산</td>\n",
       "      <td>3</td>\n",
       "      <td>00000A030790</td>\n",
       "      <td>비케이탑스보통주</td>\n",
       "      <td>2</td>\n",
       "      <td>2</td>\n",
       "      <td>1</td>\n",
       "      <td>411</td>\n",
       "      <td>1</td>\n",
       "      <td>1</td>\n",
       "      <td>411</td>\n",
       "      <td>397</td>\n",
       "      <td>385</td>\n",
       "      <td>459</td>\n",
       "      <td>373</td>\n",
       "      <td>412</td>\n",
       "      <td>78164184</td>\n",
       "      <td>32893042230</td>\n",
       "      <td>N</td>\n",
       "      <td>N</td>\n",
       "      <td>4</td>\n",
       "      <td>0</td>\n",
       "    </tr>\n",
       "    <tr>\n",
       "      <th>712824</th>\n",
       "      <td>A0006004</td>\n",
       "      <td>2020-01-20</td>\n",
       "      <td>1</td>\n",
       "      <td>20</td>\n",
       "      <td>부산</td>\n",
       "      <td>3</td>\n",
       "      <td>00000A051980</td>\n",
       "      <td>센트럴바이오</td>\n",
       "      <td>3</td>\n",
       "      <td>2</td>\n",
       "      <td>1</td>\n",
       "      <td>645</td>\n",
       "      <td>1</td>\n",
       "      <td>1</td>\n",
       "      <td>645</td>\n",
       "      <td>607</td>\n",
       "      <td>607</td>\n",
       "      <td>740</td>\n",
       "      <td>603</td>\n",
       "      <td>645</td>\n",
       "      <td>5855806</td>\n",
       "      <td>3957329907</td>\n",
       "      <td>N</td>\n",
       "      <td>N</td>\n",
       "      <td>4</td>\n",
       "      <td>0</td>\n",
       "    </tr>\n",
       "    <tr>\n",
       "      <th>...</th>\n",
       "      <td>...</td>\n",
       "      <td>...</td>\n",
       "      <td>...</td>\n",
       "      <td>...</td>\n",
       "      <td>...</td>\n",
       "      <td>...</td>\n",
       "      <td>...</td>\n",
       "      <td>...</td>\n",
       "      <td>...</td>\n",
       "      <td>...</td>\n",
       "      <td>...</td>\n",
       "      <td>...</td>\n",
       "      <td>...</td>\n",
       "      <td>...</td>\n",
       "      <td>...</td>\n",
       "      <td>...</td>\n",
       "      <td>...</td>\n",
       "      <td>...</td>\n",
       "      <td>...</td>\n",
       "      <td>...</td>\n",
       "      <td>...</td>\n",
       "      <td>...</td>\n",
       "      <td>...</td>\n",
       "      <td>...</td>\n",
       "      <td>...</td>\n",
       "      <td>...</td>\n",
       "    </tr>\n",
       "    <tr>\n",
       "      <th>591073</th>\n",
       "      <td>A00024579</td>\n",
       "      <td>2020-03-31</td>\n",
       "      <td>1</td>\n",
       "      <td>20</td>\n",
       "      <td>대전</td>\n",
       "      <td>1</td>\n",
       "      <td>00000A073540</td>\n",
       "      <td>에프알텍</td>\n",
       "      <td>3</td>\n",
       "      <td>1</td>\n",
       "      <td>1</td>\n",
       "      <td>3040</td>\n",
       "      <td>100</td>\n",
       "      <td>100</td>\n",
       "      <td>304000</td>\n",
       "      <td>2945</td>\n",
       "      <td>3110</td>\n",
       "      <td>3370</td>\n",
       "      <td>2980</td>\n",
       "      <td>3200</td>\n",
       "      <td>178016</td>\n",
       "      <td>553741850</td>\n",
       "      <td>N</td>\n",
       "      <td>N</td>\n",
       "      <td>14</td>\n",
       "      <td>1</td>\n",
       "    </tr>\n",
       "    <tr>\n",
       "      <th>591082</th>\n",
       "      <td>A00024579</td>\n",
       "      <td>2020-03-31</td>\n",
       "      <td>1</td>\n",
       "      <td>20</td>\n",
       "      <td>대전</td>\n",
       "      <td>1</td>\n",
       "      <td>00000A005440</td>\n",
       "      <td>현대그린푸드보통주</td>\n",
       "      <td>2</td>\n",
       "      <td>1</td>\n",
       "      <td>1</td>\n",
       "      <td>6770</td>\n",
       "      <td>1</td>\n",
       "      <td>1</td>\n",
       "      <td>6770</td>\n",
       "      <td>6550</td>\n",
       "      <td>6660</td>\n",
       "      <td>6790</td>\n",
       "      <td>6530</td>\n",
       "      <td>6580</td>\n",
       "      <td>322180</td>\n",
       "      <td>2155772530</td>\n",
       "      <td>N</td>\n",
       "      <td>N</td>\n",
       "      <td>14</td>\n",
       "      <td>1</td>\n",
       "    </tr>\n",
       "    <tr>\n",
       "      <th>333852</th>\n",
       "      <td>A00016992</td>\n",
       "      <td>2020-03-31</td>\n",
       "      <td>2</td>\n",
       "      <td>20</td>\n",
       "      <td>전북</td>\n",
       "      <td>1</td>\n",
       "      <td>00000A084650</td>\n",
       "      <td>랩지노믹스</td>\n",
       "      <td>3</td>\n",
       "      <td>2</td>\n",
       "      <td>1</td>\n",
       "      <td>23700</td>\n",
       "      <td>2</td>\n",
       "      <td>2</td>\n",
       "      <td>47400</td>\n",
       "      <td>24750</td>\n",
       "      <td>24750</td>\n",
       "      <td>26200</td>\n",
       "      <td>21950</td>\n",
       "      <td>23250</td>\n",
       "      <td>4499976</td>\n",
       "      <td>107538000000</td>\n",
       "      <td>N</td>\n",
       "      <td>N</td>\n",
       "      <td>14</td>\n",
       "      <td>1</td>\n",
       "    </tr>\n",
       "    <tr>\n",
       "      <th>333853</th>\n",
       "      <td>A00016992</td>\n",
       "      <td>2020-03-31</td>\n",
       "      <td>2</td>\n",
       "      <td>20</td>\n",
       "      <td>전북</td>\n",
       "      <td>1</td>\n",
       "      <td>00000A053980</td>\n",
       "      <td>오상자이엘</td>\n",
       "      <td>3</td>\n",
       "      <td>2</td>\n",
       "      <td>1</td>\n",
       "      <td>13750</td>\n",
       "      <td>5</td>\n",
       "      <td>5</td>\n",
       "      <td>68750</td>\n",
       "      <td>13150</td>\n",
       "      <td>14300</td>\n",
       "      <td>14800</td>\n",
       "      <td>12550</td>\n",
       "      <td>13300</td>\n",
       "      <td>3979532</td>\n",
       "      <td>54757706500</td>\n",
       "      <td>N</td>\n",
       "      <td>N</td>\n",
       "      <td>14</td>\n",
       "      <td>1</td>\n",
       "    </tr>\n",
       "    <tr>\n",
       "      <th>333944</th>\n",
       "      <td>A00016996</td>\n",
       "      <td>2020-03-31</td>\n",
       "      <td>1</td>\n",
       "      <td>20</td>\n",
       "      <td>경기</td>\n",
       "      <td>2</td>\n",
       "      <td>00000A011000</td>\n",
       "      <td>진원생명과학보통주</td>\n",
       "      <td>2</td>\n",
       "      <td>1</td>\n",
       "      <td>1</td>\n",
       "      <td>12700</td>\n",
       "      <td>174</td>\n",
       "      <td>174</td>\n",
       "      <td>2209800</td>\n",
       "      <td>9930</td>\n",
       "      <td>11300</td>\n",
       "      <td>12900</td>\n",
       "      <td>11250</td>\n",
       "      <td>12900</td>\n",
       "      <td>20332183</td>\n",
       "      <td>254918000000</td>\n",
       "      <td>Y</td>\n",
       "      <td>N</td>\n",
       "      <td>14</td>\n",
       "      <td>1</td>\n",
       "    </tr>\n",
       "  </tbody>\n",
       "</table>\n",
       "<p>201019 rows × 26 columns</p>\n",
       "</div>"
      ]
     },
     "metadata": {},
     "execution_count": 79
    }
   ],
   "metadata": {}
  },
  {
   "cell_type": "code",
   "execution_count": 83,
   "source": [
    "preferred_stock = df[df['stock_name'].str.contains('우선')]"
   ],
   "outputs": [],
   "metadata": {}
  },
  {
   "cell_type": "code",
   "execution_count": 84,
   "source": [
    "preferred_stock"
   ],
   "outputs": [
    {
     "output_type": "execute_result",
     "data": {
      "text/plain": [
       "               id        day  gender  age adress  time    stock_code  \\\n",
       "710962    A000591 2020-01-20       1   30     경기     2  00000A005935   \n",
       "196714  A00013433 2020-01-20       1   30     전남     3  00000A005935   \n",
       "19481   A00015893 2020-01-20       1   20     경기     3  00000A005935   \n",
       "29944   A00018963 2020-01-20       2   30     서울     3  00000A005935   \n",
       "48324   A00024408 2020-01-20       1   30     경기     2  00000A005935   \n",
       "...           ...        ...     ...  ...    ...   ...           ...   \n",
       "589597  A00024560 2020-03-31       1   30     대구     2  00000A005935   \n",
       "589981   A0002457 2020-03-31       1   20     서울     3  00000A000215   \n",
       "589989   A0002457 2020-03-31       1   20     서울     3  00000A000215   \n",
       "788236   A0008178 2020-03-31       2   40     경기     1  00000A005935   \n",
       "24627   A00017384 2020-03-31       1   30     서울     3  00000A005935   \n",
       "\n",
       "       stock_name  kospi_kosdaq  sell_buy  order_code  order_price  \\\n",
       "710962   삼성전자1우선주             2         2           1        52100   \n",
       "196714   삼성전자1우선주             2         2           1        52100   \n",
       "19481    삼성전자1우선주             2         2           1        51900   \n",
       "29944    삼성전자1우선주             2         2           1        52100   \n",
       "48324    삼성전자1우선주             2         2           1        52300   \n",
       "...           ...           ...       ...         ...          ...   \n",
       "589597   삼성전자1우선주             2         2           1        40000   \n",
       "589981     DL1우선주             2         2           1        32250   \n",
       "589989     DL1우선주             2         2           1        31750   \n",
       "788236   삼성전자1우선주             2         2           1        40450   \n",
       "24627    삼성전자1우선주             2         2           1        39850   \n",
       "\n",
       "        order_volume  true_order_volume  true_order_price  before_close  \\\n",
       "710962            10                 10            520000         50900   \n",
       "196714            15                 15            781500         50900   \n",
       "19481             38                 38           1972200         50900   \n",
       "29944              1                  1             52100         50900   \n",
       "48324             11                 11            575300         50900   \n",
       "...              ...                ...               ...           ...   \n",
       "589597             2                  2             80000         40450   \n",
       "589981            26                 26            838500         30750   \n",
       "589989            15                 15            476250         30750   \n",
       "788236            10                 10            404500         40450   \n",
       "24627              2                  2             79700         40450   \n",
       "\n",
       "        start   high    low  close   volume  volume_price high_yn low_yn  \\\n",
       "710962  51100  52500  51000  52200  2684564  139155000000       N      N   \n",
       "196714  51100  52500  51000  52200  2684564  139155000000       N      N   \n",
       "19481   51100  52500  51000  52200  2684564  139155000000       N      N   \n",
       "29944   51100  52500  51000  52200  2684564  139155000000       N      N   \n",
       "48324   51100  52500  51000  52200  2684564  139155000000       N      N   \n",
       "...       ...    ...    ...    ...      ...           ...     ...    ...   \n",
       "589597  40500  40850  39850  40100  3264167  131407000000       N      N   \n",
       "589981  31700  34550  31100  33150    67999    2238674250       N      N   \n",
       "589989  31700  34550  31100  33150    67999    2238674250       N      N   \n",
       "788236  40500  40850  39850  40100  3264167  131407000000       N      N   \n",
       "24627   40500  40850  39850  40100  3264167  131407000000       N      N   \n",
       "\n",
       "        week  weekday  \n",
       "710962     4        0  \n",
       "196714     4        0  \n",
       "19481      4        0  \n",
       "29944      4        0  \n",
       "48324      4        0  \n",
       "...      ...      ...  \n",
       "589597    14        1  \n",
       "589981    14        1  \n",
       "589989    14        1  \n",
       "788236    14        1  \n",
       "24627     14        1  \n",
       "\n",
       "[38480 rows x 26 columns]"
      ],
      "text/html": [
       "<div>\n",
       "<style scoped>\n",
       "    .dataframe tbody tr th:only-of-type {\n",
       "        vertical-align: middle;\n",
       "    }\n",
       "\n",
       "    .dataframe tbody tr th {\n",
       "        vertical-align: top;\n",
       "    }\n",
       "\n",
       "    .dataframe thead th {\n",
       "        text-align: right;\n",
       "    }\n",
       "</style>\n",
       "<table border=\"1\" class=\"dataframe\">\n",
       "  <thead>\n",
       "    <tr style=\"text-align: right;\">\n",
       "      <th></th>\n",
       "      <th>id</th>\n",
       "      <th>day</th>\n",
       "      <th>gender</th>\n",
       "      <th>age</th>\n",
       "      <th>adress</th>\n",
       "      <th>time</th>\n",
       "      <th>stock_code</th>\n",
       "      <th>stock_name</th>\n",
       "      <th>kospi_kosdaq</th>\n",
       "      <th>sell_buy</th>\n",
       "      <th>order_code</th>\n",
       "      <th>order_price</th>\n",
       "      <th>order_volume</th>\n",
       "      <th>true_order_volume</th>\n",
       "      <th>true_order_price</th>\n",
       "      <th>before_close</th>\n",
       "      <th>start</th>\n",
       "      <th>high</th>\n",
       "      <th>low</th>\n",
       "      <th>close</th>\n",
       "      <th>volume</th>\n",
       "      <th>volume_price</th>\n",
       "      <th>high_yn</th>\n",
       "      <th>low_yn</th>\n",
       "      <th>week</th>\n",
       "      <th>weekday</th>\n",
       "    </tr>\n",
       "  </thead>\n",
       "  <tbody>\n",
       "    <tr>\n",
       "      <th>710962</th>\n",
       "      <td>A000591</td>\n",
       "      <td>2020-01-20</td>\n",
       "      <td>1</td>\n",
       "      <td>30</td>\n",
       "      <td>경기</td>\n",
       "      <td>2</td>\n",
       "      <td>00000A005935</td>\n",
       "      <td>삼성전자1우선주</td>\n",
       "      <td>2</td>\n",
       "      <td>2</td>\n",
       "      <td>1</td>\n",
       "      <td>52100</td>\n",
       "      <td>10</td>\n",
       "      <td>10</td>\n",
       "      <td>520000</td>\n",
       "      <td>50900</td>\n",
       "      <td>51100</td>\n",
       "      <td>52500</td>\n",
       "      <td>51000</td>\n",
       "      <td>52200</td>\n",
       "      <td>2684564</td>\n",
       "      <td>139155000000</td>\n",
       "      <td>N</td>\n",
       "      <td>N</td>\n",
       "      <td>4</td>\n",
       "      <td>0</td>\n",
       "    </tr>\n",
       "    <tr>\n",
       "      <th>196714</th>\n",
       "      <td>A00013433</td>\n",
       "      <td>2020-01-20</td>\n",
       "      <td>1</td>\n",
       "      <td>30</td>\n",
       "      <td>전남</td>\n",
       "      <td>3</td>\n",
       "      <td>00000A005935</td>\n",
       "      <td>삼성전자1우선주</td>\n",
       "      <td>2</td>\n",
       "      <td>2</td>\n",
       "      <td>1</td>\n",
       "      <td>52100</td>\n",
       "      <td>15</td>\n",
       "      <td>15</td>\n",
       "      <td>781500</td>\n",
       "      <td>50900</td>\n",
       "      <td>51100</td>\n",
       "      <td>52500</td>\n",
       "      <td>51000</td>\n",
       "      <td>52200</td>\n",
       "      <td>2684564</td>\n",
       "      <td>139155000000</td>\n",
       "      <td>N</td>\n",
       "      <td>N</td>\n",
       "      <td>4</td>\n",
       "      <td>0</td>\n",
       "    </tr>\n",
       "    <tr>\n",
       "      <th>19481</th>\n",
       "      <td>A00015893</td>\n",
       "      <td>2020-01-20</td>\n",
       "      <td>1</td>\n",
       "      <td>20</td>\n",
       "      <td>경기</td>\n",
       "      <td>3</td>\n",
       "      <td>00000A005935</td>\n",
       "      <td>삼성전자1우선주</td>\n",
       "      <td>2</td>\n",
       "      <td>2</td>\n",
       "      <td>1</td>\n",
       "      <td>51900</td>\n",
       "      <td>38</td>\n",
       "      <td>38</td>\n",
       "      <td>1972200</td>\n",
       "      <td>50900</td>\n",
       "      <td>51100</td>\n",
       "      <td>52500</td>\n",
       "      <td>51000</td>\n",
       "      <td>52200</td>\n",
       "      <td>2684564</td>\n",
       "      <td>139155000000</td>\n",
       "      <td>N</td>\n",
       "      <td>N</td>\n",
       "      <td>4</td>\n",
       "      <td>0</td>\n",
       "    </tr>\n",
       "    <tr>\n",
       "      <th>29944</th>\n",
       "      <td>A00018963</td>\n",
       "      <td>2020-01-20</td>\n",
       "      <td>2</td>\n",
       "      <td>30</td>\n",
       "      <td>서울</td>\n",
       "      <td>3</td>\n",
       "      <td>00000A005935</td>\n",
       "      <td>삼성전자1우선주</td>\n",
       "      <td>2</td>\n",
       "      <td>2</td>\n",
       "      <td>1</td>\n",
       "      <td>52100</td>\n",
       "      <td>1</td>\n",
       "      <td>1</td>\n",
       "      <td>52100</td>\n",
       "      <td>50900</td>\n",
       "      <td>51100</td>\n",
       "      <td>52500</td>\n",
       "      <td>51000</td>\n",
       "      <td>52200</td>\n",
       "      <td>2684564</td>\n",
       "      <td>139155000000</td>\n",
       "      <td>N</td>\n",
       "      <td>N</td>\n",
       "      <td>4</td>\n",
       "      <td>0</td>\n",
       "    </tr>\n",
       "    <tr>\n",
       "      <th>48324</th>\n",
       "      <td>A00024408</td>\n",
       "      <td>2020-01-20</td>\n",
       "      <td>1</td>\n",
       "      <td>30</td>\n",
       "      <td>경기</td>\n",
       "      <td>2</td>\n",
       "      <td>00000A005935</td>\n",
       "      <td>삼성전자1우선주</td>\n",
       "      <td>2</td>\n",
       "      <td>2</td>\n",
       "      <td>1</td>\n",
       "      <td>52300</td>\n",
       "      <td>11</td>\n",
       "      <td>11</td>\n",
       "      <td>575300</td>\n",
       "      <td>50900</td>\n",
       "      <td>51100</td>\n",
       "      <td>52500</td>\n",
       "      <td>51000</td>\n",
       "      <td>52200</td>\n",
       "      <td>2684564</td>\n",
       "      <td>139155000000</td>\n",
       "      <td>N</td>\n",
       "      <td>N</td>\n",
       "      <td>4</td>\n",
       "      <td>0</td>\n",
       "    </tr>\n",
       "    <tr>\n",
       "      <th>...</th>\n",
       "      <td>...</td>\n",
       "      <td>...</td>\n",
       "      <td>...</td>\n",
       "      <td>...</td>\n",
       "      <td>...</td>\n",
       "      <td>...</td>\n",
       "      <td>...</td>\n",
       "      <td>...</td>\n",
       "      <td>...</td>\n",
       "      <td>...</td>\n",
       "      <td>...</td>\n",
       "      <td>...</td>\n",
       "      <td>...</td>\n",
       "      <td>...</td>\n",
       "      <td>...</td>\n",
       "      <td>...</td>\n",
       "      <td>...</td>\n",
       "      <td>...</td>\n",
       "      <td>...</td>\n",
       "      <td>...</td>\n",
       "      <td>...</td>\n",
       "      <td>...</td>\n",
       "      <td>...</td>\n",
       "      <td>...</td>\n",
       "      <td>...</td>\n",
       "      <td>...</td>\n",
       "    </tr>\n",
       "    <tr>\n",
       "      <th>589597</th>\n",
       "      <td>A00024560</td>\n",
       "      <td>2020-03-31</td>\n",
       "      <td>1</td>\n",
       "      <td>30</td>\n",
       "      <td>대구</td>\n",
       "      <td>2</td>\n",
       "      <td>00000A005935</td>\n",
       "      <td>삼성전자1우선주</td>\n",
       "      <td>2</td>\n",
       "      <td>2</td>\n",
       "      <td>1</td>\n",
       "      <td>40000</td>\n",
       "      <td>2</td>\n",
       "      <td>2</td>\n",
       "      <td>80000</td>\n",
       "      <td>40450</td>\n",
       "      <td>40500</td>\n",
       "      <td>40850</td>\n",
       "      <td>39850</td>\n",
       "      <td>40100</td>\n",
       "      <td>3264167</td>\n",
       "      <td>131407000000</td>\n",
       "      <td>N</td>\n",
       "      <td>N</td>\n",
       "      <td>14</td>\n",
       "      <td>1</td>\n",
       "    </tr>\n",
       "    <tr>\n",
       "      <th>589981</th>\n",
       "      <td>A0002457</td>\n",
       "      <td>2020-03-31</td>\n",
       "      <td>1</td>\n",
       "      <td>20</td>\n",
       "      <td>서울</td>\n",
       "      <td>3</td>\n",
       "      <td>00000A000215</td>\n",
       "      <td>DL1우선주</td>\n",
       "      <td>2</td>\n",
       "      <td>2</td>\n",
       "      <td>1</td>\n",
       "      <td>32250</td>\n",
       "      <td>26</td>\n",
       "      <td>26</td>\n",
       "      <td>838500</td>\n",
       "      <td>30750</td>\n",
       "      <td>31700</td>\n",
       "      <td>34550</td>\n",
       "      <td>31100</td>\n",
       "      <td>33150</td>\n",
       "      <td>67999</td>\n",
       "      <td>2238674250</td>\n",
       "      <td>N</td>\n",
       "      <td>N</td>\n",
       "      <td>14</td>\n",
       "      <td>1</td>\n",
       "    </tr>\n",
       "    <tr>\n",
       "      <th>589989</th>\n",
       "      <td>A0002457</td>\n",
       "      <td>2020-03-31</td>\n",
       "      <td>1</td>\n",
       "      <td>20</td>\n",
       "      <td>서울</td>\n",
       "      <td>3</td>\n",
       "      <td>00000A000215</td>\n",
       "      <td>DL1우선주</td>\n",
       "      <td>2</td>\n",
       "      <td>2</td>\n",
       "      <td>1</td>\n",
       "      <td>31750</td>\n",
       "      <td>15</td>\n",
       "      <td>15</td>\n",
       "      <td>476250</td>\n",
       "      <td>30750</td>\n",
       "      <td>31700</td>\n",
       "      <td>34550</td>\n",
       "      <td>31100</td>\n",
       "      <td>33150</td>\n",
       "      <td>67999</td>\n",
       "      <td>2238674250</td>\n",
       "      <td>N</td>\n",
       "      <td>N</td>\n",
       "      <td>14</td>\n",
       "      <td>1</td>\n",
       "    </tr>\n",
       "    <tr>\n",
       "      <th>788236</th>\n",
       "      <td>A0008178</td>\n",
       "      <td>2020-03-31</td>\n",
       "      <td>2</td>\n",
       "      <td>40</td>\n",
       "      <td>경기</td>\n",
       "      <td>1</td>\n",
       "      <td>00000A005935</td>\n",
       "      <td>삼성전자1우선주</td>\n",
       "      <td>2</td>\n",
       "      <td>2</td>\n",
       "      <td>1</td>\n",
       "      <td>40450</td>\n",
       "      <td>10</td>\n",
       "      <td>10</td>\n",
       "      <td>404500</td>\n",
       "      <td>40450</td>\n",
       "      <td>40500</td>\n",
       "      <td>40850</td>\n",
       "      <td>39850</td>\n",
       "      <td>40100</td>\n",
       "      <td>3264167</td>\n",
       "      <td>131407000000</td>\n",
       "      <td>N</td>\n",
       "      <td>N</td>\n",
       "      <td>14</td>\n",
       "      <td>1</td>\n",
       "    </tr>\n",
       "    <tr>\n",
       "      <th>24627</th>\n",
       "      <td>A00017384</td>\n",
       "      <td>2020-03-31</td>\n",
       "      <td>1</td>\n",
       "      <td>30</td>\n",
       "      <td>서울</td>\n",
       "      <td>3</td>\n",
       "      <td>00000A005935</td>\n",
       "      <td>삼성전자1우선주</td>\n",
       "      <td>2</td>\n",
       "      <td>2</td>\n",
       "      <td>1</td>\n",
       "      <td>39850</td>\n",
       "      <td>2</td>\n",
       "      <td>2</td>\n",
       "      <td>79700</td>\n",
       "      <td>40450</td>\n",
       "      <td>40500</td>\n",
       "      <td>40850</td>\n",
       "      <td>39850</td>\n",
       "      <td>40100</td>\n",
       "      <td>3264167</td>\n",
       "      <td>131407000000</td>\n",
       "      <td>N</td>\n",
       "      <td>N</td>\n",
       "      <td>14</td>\n",
       "      <td>1</td>\n",
       "    </tr>\n",
       "  </tbody>\n",
       "</table>\n",
       "<p>38480 rows × 26 columns</p>\n",
       "</div>"
      ]
     },
     "metadata": {},
     "execution_count": 84
    }
   ],
   "metadata": {}
  },
  {
   "cell_type": "code",
   "execution_count": 104,
   "source": [
    "#우선주 \r\n",
    "sns.countplot(data=preferred_stock, x='age')"
   ],
   "outputs": [
    {
     "output_type": "execute_result",
     "data": {
      "text/plain": [
       "<AxesSubplot:xlabel='age', ylabel='count'>"
      ]
     },
     "metadata": {},
     "execution_count": 104
    },
    {
     "output_type": "display_data",
     "data": {
      "text/plain": [
       "<Figure size 432x288 with 1 Axes>"
      ],
      "image/svg+xml": "<?xml version=\"1.0\" encoding=\"utf-8\" standalone=\"no\"?>\r\n<!DOCTYPE svg PUBLIC \"-//W3C//DTD SVG 1.1//EN\"\r\n  \"http://www.w3.org/Graphics/SVG/1.1/DTD/svg11.dtd\">\r\n<!-- Created with matplotlib (https://matplotlib.org/) -->\r\n<svg height=\"262.19625pt\" version=\"1.1\" viewBox=\"0 0 401.690625 262.19625\" width=\"401.690625pt\" xmlns=\"http://www.w3.org/2000/svg\" xmlns:xlink=\"http://www.w3.org/1999/xlink\">\r\n <metadata>\r\n  <rdf:RDF xmlns:cc=\"http://creativecommons.org/ns#\" xmlns:dc=\"http://purl.org/dc/elements/1.1/\" xmlns:rdf=\"http://www.w3.org/1999/02/22-rdf-syntax-ns#\">\r\n   <cc:Work>\r\n    <dc:type rdf:resource=\"http://purl.org/dc/dcmitype/StillImage\"/>\r\n    <dc:date>2021-09-03T14:15:47.993797</dc:date>\r\n    <dc:format>image/svg+xml</dc:format>\r\n    <dc:creator>\r\n     <cc:Agent>\r\n      <dc:title>Matplotlib v3.3.4, https://matplotlib.org/</dc:title>\r\n     </cc:Agent>\r\n    </dc:creator>\r\n   </cc:Work>\r\n  </rdf:RDF>\r\n </metadata>\r\n <defs>\r\n  <style type=\"text/css\">*{stroke-linecap:butt;stroke-linejoin:round;}</style>\r\n </defs>\r\n <g id=\"figure_1\">\r\n  <g id=\"patch_1\">\r\n   <path d=\"M 0 262.19625 \r\nL 401.690625 262.19625 \r\nL 401.690625 0 \r\nL 0 0 \r\nz\r\n\" style=\"fill:none;\"/>\r\n  </g>\r\n  <g id=\"axes_1\">\r\n   <g id=\"patch_2\">\r\n    <path d=\"M 59.690625 224.64 \r\nL 394.490625 224.64 \r\nL 394.490625 7.2 \r\nL 59.690625 7.2 \r\nz\r\n\" style=\"fill:#ffffff;\"/>\r\n   </g>\r\n   <g id=\"patch_3\">\r\n    <path clip-path=\"url(#pc6a2aa7a0a)\" d=\"M 68.060625 224.64 \r\nL 135.020625 224.64 \r\nL 135.020625 111.072176 \r\nL 68.060625 111.072176 \r\nz\r\n\" style=\"fill:#3274a1;\"/>\r\n   </g>\r\n   <g id=\"patch_4\">\r\n    <path clip-path=\"url(#pc6a2aa7a0a)\" d=\"M 151.760625 224.64 \r\nL 218.720625 224.64 \r\nL 218.720625 17.554286 \r\nL 151.760625 17.554286 \r\nz\r\n\" style=\"fill:#e1812c;\"/>\r\n   </g>\r\n   <g id=\"patch_5\">\r\n    <path clip-path=\"url(#pc6a2aa7a0a)\" d=\"M 235.460625 224.64 \r\nL 302.420625 224.64 \r\nL 302.420625 70.448889 \r\nL 235.460625 70.448889 \r\nz\r\n\" style=\"fill:#3a923a;\"/>\r\n   </g>\r\n   <g id=\"patch_6\">\r\n    <path clip-path=\"url(#pc6a2aa7a0a)\" d=\"M 319.160625 224.64 \r\nL 386.120625 224.64 \r\nL 386.120625 140.005728 \r\nL 319.160625 140.005728 \r\nz\r\n\" style=\"fill:#c03d3e;\"/>\r\n   </g>\r\n   <g id=\"matplotlib.axis_1\">\r\n    <g id=\"xtick_1\">\r\n     <g id=\"line2d_1\">\r\n      <defs>\r\n       <path d=\"M 0 0 \r\nL 0 3.5 \r\n\" id=\"m519955174f\" style=\"stroke:#000000;stroke-width:0.8;\"/>\r\n      </defs>\r\n      <g>\r\n       <use style=\"stroke:#000000;stroke-width:0.8;\" x=\"101.540625\" xlink:href=\"#m519955174f\" y=\"224.64\"/>\r\n      </g>\r\n     </g>\r\n     <g id=\"text_1\">\r\n      <!-- 20 -->\r\n      <g transform=\"translate(95.178125 239.238437)scale(0.1 -0.1)\">\r\n       <defs>\r\n        <path d=\"M 19.1875 8.296875 \r\nL 53.609375 8.296875 \r\nL 53.609375 0 \r\nL 7.328125 0 \r\nL 7.328125 8.296875 \r\nQ 12.9375 14.109375 22.625 23.890625 \r\nQ 32.328125 33.6875 34.8125 36.53125 \r\nQ 39.546875 41.84375 41.421875 45.53125 \r\nQ 43.3125 49.21875 43.3125 52.78125 \r\nQ 43.3125 58.59375 39.234375 62.25 \r\nQ 35.15625 65.921875 28.609375 65.921875 \r\nQ 23.96875 65.921875 18.8125 64.3125 \r\nQ 13.671875 62.703125 7.8125 59.421875 \r\nL 7.8125 69.390625 \r\nQ 13.765625 71.78125 18.9375 73 \r\nQ 24.125 74.21875 28.421875 74.21875 \r\nQ 39.75 74.21875 46.484375 68.546875 \r\nQ 53.21875 62.890625 53.21875 53.421875 \r\nQ 53.21875 48.921875 51.53125 44.890625 \r\nQ 49.859375 40.875 45.40625 35.40625 \r\nQ 44.1875 33.984375 37.640625 27.21875 \r\nQ 31.109375 20.453125 19.1875 8.296875 \r\nz\r\n\" id=\"DejaVuSans-50\"/>\r\n        <path d=\"M 31.78125 66.40625 \r\nQ 24.171875 66.40625 20.328125 58.90625 \r\nQ 16.5 51.421875 16.5 36.375 \r\nQ 16.5 21.390625 20.328125 13.890625 \r\nQ 24.171875 6.390625 31.78125 6.390625 \r\nQ 39.453125 6.390625 43.28125 13.890625 \r\nQ 47.125 21.390625 47.125 36.375 \r\nQ 47.125 51.421875 43.28125 58.90625 \r\nQ 39.453125 66.40625 31.78125 66.40625 \r\nz\r\nM 31.78125 74.21875 \r\nQ 44.046875 74.21875 50.515625 64.515625 \r\nQ 56.984375 54.828125 56.984375 36.375 \r\nQ 56.984375 17.96875 50.515625 8.265625 \r\nQ 44.046875 -1.421875 31.78125 -1.421875 \r\nQ 19.53125 -1.421875 13.0625 8.265625 \r\nQ 6.59375 17.96875 6.59375 36.375 \r\nQ 6.59375 54.828125 13.0625 64.515625 \r\nQ 19.53125 74.21875 31.78125 74.21875 \r\nz\r\n\" id=\"DejaVuSans-48\"/>\r\n       </defs>\r\n       <use xlink:href=\"#DejaVuSans-50\"/>\r\n       <use x=\"63.623047\" xlink:href=\"#DejaVuSans-48\"/>\r\n      </g>\r\n     </g>\r\n    </g>\r\n    <g id=\"xtick_2\">\r\n     <g id=\"line2d_2\">\r\n      <g>\r\n       <use style=\"stroke:#000000;stroke-width:0.8;\" x=\"185.240625\" xlink:href=\"#m519955174f\" y=\"224.64\"/>\r\n      </g>\r\n     </g>\r\n     <g id=\"text_2\">\r\n      <!-- 30 -->\r\n      <g transform=\"translate(178.878125 239.238437)scale(0.1 -0.1)\">\r\n       <defs>\r\n        <path d=\"M 40.578125 39.3125 \r\nQ 47.65625 37.796875 51.625 33 \r\nQ 55.609375 28.21875 55.609375 21.1875 \r\nQ 55.609375 10.40625 48.1875 4.484375 \r\nQ 40.765625 -1.421875 27.09375 -1.421875 \r\nQ 22.515625 -1.421875 17.65625 -0.515625 \r\nQ 12.796875 0.390625 7.625 2.203125 \r\nL 7.625 11.71875 \r\nQ 11.71875 9.328125 16.59375 8.109375 \r\nQ 21.484375 6.890625 26.8125 6.890625 \r\nQ 36.078125 6.890625 40.9375 10.546875 \r\nQ 45.796875 14.203125 45.796875 21.1875 \r\nQ 45.796875 27.640625 41.28125 31.265625 \r\nQ 36.765625 34.90625 28.71875 34.90625 \r\nL 20.21875 34.90625 \r\nL 20.21875 43.015625 \r\nL 29.109375 43.015625 \r\nQ 36.375 43.015625 40.234375 45.921875 \r\nQ 44.09375 48.828125 44.09375 54.296875 \r\nQ 44.09375 59.90625 40.109375 62.90625 \r\nQ 36.140625 65.921875 28.71875 65.921875 \r\nQ 24.65625 65.921875 20.015625 65.03125 \r\nQ 15.375 64.15625 9.8125 62.3125 \r\nL 9.8125 71.09375 \r\nQ 15.4375 72.65625 20.34375 73.4375 \r\nQ 25.25 74.21875 29.59375 74.21875 \r\nQ 40.828125 74.21875 47.359375 69.109375 \r\nQ 53.90625 64.015625 53.90625 55.328125 \r\nQ 53.90625 49.265625 50.4375 45.09375 \r\nQ 46.96875 40.921875 40.578125 39.3125 \r\nz\r\n\" id=\"DejaVuSans-51\"/>\r\n       </defs>\r\n       <use xlink:href=\"#DejaVuSans-51\"/>\r\n       <use x=\"63.623047\" xlink:href=\"#DejaVuSans-48\"/>\r\n      </g>\r\n     </g>\r\n    </g>\r\n    <g id=\"xtick_3\">\r\n     <g id=\"line2d_3\">\r\n      <g>\r\n       <use style=\"stroke:#000000;stroke-width:0.8;\" x=\"268.940625\" xlink:href=\"#m519955174f\" y=\"224.64\"/>\r\n      </g>\r\n     </g>\r\n     <g id=\"text_3\">\r\n      <!-- 40 -->\r\n      <g transform=\"translate(262.578125 239.238437)scale(0.1 -0.1)\">\r\n       <defs>\r\n        <path d=\"M 37.796875 64.3125 \r\nL 12.890625 25.390625 \r\nL 37.796875 25.390625 \r\nz\r\nM 35.203125 72.90625 \r\nL 47.609375 72.90625 \r\nL 47.609375 25.390625 \r\nL 58.015625 25.390625 \r\nL 58.015625 17.1875 \r\nL 47.609375 17.1875 \r\nL 47.609375 0 \r\nL 37.796875 0 \r\nL 37.796875 17.1875 \r\nL 4.890625 17.1875 \r\nL 4.890625 26.703125 \r\nz\r\n\" id=\"DejaVuSans-52\"/>\r\n       </defs>\r\n       <use xlink:href=\"#DejaVuSans-52\"/>\r\n       <use x=\"63.623047\" xlink:href=\"#DejaVuSans-48\"/>\r\n      </g>\r\n     </g>\r\n    </g>\r\n    <g id=\"xtick_4\">\r\n     <g id=\"line2d_4\">\r\n      <g>\r\n       <use style=\"stroke:#000000;stroke-width:0.8;\" x=\"352.640625\" xlink:href=\"#m519955174f\" y=\"224.64\"/>\r\n      </g>\r\n     </g>\r\n     <g id=\"text_4\">\r\n      <!-- 50 -->\r\n      <g transform=\"translate(346.278125 239.238437)scale(0.1 -0.1)\">\r\n       <defs>\r\n        <path d=\"M 10.796875 72.90625 \r\nL 49.515625 72.90625 \r\nL 49.515625 64.59375 \r\nL 19.828125 64.59375 \r\nL 19.828125 46.734375 \r\nQ 21.96875 47.46875 24.109375 47.828125 \r\nQ 26.265625 48.1875 28.421875 48.1875 \r\nQ 40.625 48.1875 47.75 41.5 \r\nQ 54.890625 34.8125 54.890625 23.390625 \r\nQ 54.890625 11.625 47.5625 5.09375 \r\nQ 40.234375 -1.421875 26.90625 -1.421875 \r\nQ 22.3125 -1.421875 17.546875 -0.640625 \r\nQ 12.796875 0.140625 7.71875 1.703125 \r\nL 7.71875 11.625 \r\nQ 12.109375 9.234375 16.796875 8.0625 \r\nQ 21.484375 6.890625 26.703125 6.890625 \r\nQ 35.15625 6.890625 40.078125 11.328125 \r\nQ 45.015625 15.765625 45.015625 23.390625 \r\nQ 45.015625 31 40.078125 35.4375 \r\nQ 35.15625 39.890625 26.703125 39.890625 \r\nQ 22.75 39.890625 18.8125 39.015625 \r\nQ 14.890625 38.140625 10.796875 36.28125 \r\nz\r\n\" id=\"DejaVuSans-53\"/>\r\n       </defs>\r\n       <use xlink:href=\"#DejaVuSans-53\"/>\r\n       <use x=\"63.623047\" xlink:href=\"#DejaVuSans-48\"/>\r\n      </g>\r\n     </g>\r\n    </g>\r\n    <g id=\"text_5\">\r\n     <!-- age -->\r\n     <g transform=\"translate(217.775781 252.916562)scale(0.1 -0.1)\">\r\n      <defs>\r\n       <path d=\"M 34.28125 27.484375 \r\nQ 23.390625 27.484375 19.1875 25 \r\nQ 14.984375 22.515625 14.984375 16.5 \r\nQ 14.984375 11.71875 18.140625 8.90625 \r\nQ 21.296875 6.109375 26.703125 6.109375 \r\nQ 34.1875 6.109375 38.703125 11.40625 \r\nQ 43.21875 16.703125 43.21875 25.484375 \r\nL 43.21875 27.484375 \r\nz\r\nM 52.203125 31.203125 \r\nL 52.203125 0 \r\nL 43.21875 0 \r\nL 43.21875 8.296875 \r\nQ 40.140625 3.328125 35.546875 0.953125 \r\nQ 30.953125 -1.421875 24.3125 -1.421875 \r\nQ 15.921875 -1.421875 10.953125 3.296875 \r\nQ 6 8.015625 6 15.921875 \r\nQ 6 25.140625 12.171875 29.828125 \r\nQ 18.359375 34.515625 30.609375 34.515625 \r\nL 43.21875 34.515625 \r\nL 43.21875 35.40625 \r\nQ 43.21875 41.609375 39.140625 45 \r\nQ 35.0625 48.390625 27.6875 48.390625 \r\nQ 23 48.390625 18.546875 47.265625 \r\nQ 14.109375 46.140625 10.015625 43.890625 \r\nL 10.015625 52.203125 \r\nQ 14.9375 54.109375 19.578125 55.046875 \r\nQ 24.21875 56 28.609375 56 \r\nQ 40.484375 56 46.34375 49.84375 \r\nQ 52.203125 43.703125 52.203125 31.203125 \r\nz\r\n\" id=\"DejaVuSans-97\"/>\r\n       <path d=\"M 45.40625 27.984375 \r\nQ 45.40625 37.75 41.375 43.109375 \r\nQ 37.359375 48.484375 30.078125 48.484375 \r\nQ 22.859375 48.484375 18.828125 43.109375 \r\nQ 14.796875 37.75 14.796875 27.984375 \r\nQ 14.796875 18.265625 18.828125 12.890625 \r\nQ 22.859375 7.515625 30.078125 7.515625 \r\nQ 37.359375 7.515625 41.375 12.890625 \r\nQ 45.40625 18.265625 45.40625 27.984375 \r\nz\r\nM 54.390625 6.78125 \r\nQ 54.390625 -7.171875 48.1875 -13.984375 \r\nQ 42 -20.796875 29.203125 -20.796875 \r\nQ 24.46875 -20.796875 20.265625 -20.09375 \r\nQ 16.0625 -19.390625 12.109375 -17.921875 \r\nL 12.109375 -9.1875 \r\nQ 16.0625 -11.328125 19.921875 -12.34375 \r\nQ 23.78125 -13.375 27.78125 -13.375 \r\nQ 36.625 -13.375 41.015625 -8.765625 \r\nQ 45.40625 -4.15625 45.40625 5.171875 \r\nL 45.40625 9.625 \r\nQ 42.625 4.78125 38.28125 2.390625 \r\nQ 33.9375 0 27.875 0 \r\nQ 17.828125 0 11.671875 7.65625 \r\nQ 5.515625 15.328125 5.515625 27.984375 \r\nQ 5.515625 40.671875 11.671875 48.328125 \r\nQ 17.828125 56 27.875 56 \r\nQ 33.9375 56 38.28125 53.609375 \r\nQ 42.625 51.21875 45.40625 46.390625 \r\nL 45.40625 54.6875 \r\nL 54.390625 54.6875 \r\nz\r\n\" id=\"DejaVuSans-103\"/>\r\n       <path d=\"M 56.203125 29.59375 \r\nL 56.203125 25.203125 \r\nL 14.890625 25.203125 \r\nQ 15.484375 15.921875 20.484375 11.0625 \r\nQ 25.484375 6.203125 34.421875 6.203125 \r\nQ 39.59375 6.203125 44.453125 7.46875 \r\nQ 49.3125 8.734375 54.109375 11.28125 \r\nL 54.109375 2.78125 \r\nQ 49.265625 0.734375 44.1875 -0.34375 \r\nQ 39.109375 -1.421875 33.890625 -1.421875 \r\nQ 20.796875 -1.421875 13.15625 6.1875 \r\nQ 5.515625 13.8125 5.515625 26.8125 \r\nQ 5.515625 40.234375 12.765625 48.109375 \r\nQ 20.015625 56 32.328125 56 \r\nQ 43.359375 56 49.78125 48.890625 \r\nQ 56.203125 41.796875 56.203125 29.59375 \r\nz\r\nM 47.21875 32.234375 \r\nQ 47.125 39.59375 43.09375 43.984375 \r\nQ 39.0625 48.390625 32.421875 48.390625 \r\nQ 24.90625 48.390625 20.390625 44.140625 \r\nQ 15.875 39.890625 15.1875 32.171875 \r\nz\r\n\" id=\"DejaVuSans-101\"/>\r\n      </defs>\r\n      <use xlink:href=\"#DejaVuSans-97\"/>\r\n      <use x=\"61.279297\" xlink:href=\"#DejaVuSans-103\"/>\r\n      <use x=\"124.755859\" xlink:href=\"#DejaVuSans-101\"/>\r\n     </g>\r\n    </g>\r\n   </g>\r\n   <g id=\"matplotlib.axis_2\">\r\n    <g id=\"ytick_1\">\r\n     <g id=\"line2d_5\">\r\n      <defs>\r\n       <path d=\"M 0 0 \r\nL -3.5 0 \r\n\" id=\"m6d315b57b4\" style=\"stroke:#000000;stroke-width:0.8;\"/>\r\n      </defs>\r\n      <g>\r\n       <use style=\"stroke:#000000;stroke-width:0.8;\" x=\"59.690625\" xlink:href=\"#m6d315b57b4\" y=\"224.64\"/>\r\n      </g>\r\n     </g>\r\n     <g id=\"text_6\">\r\n      <!-- 0 -->\r\n      <g transform=\"translate(46.328125 228.439219)scale(0.1 -0.1)\">\r\n       <use xlink:href=\"#DejaVuSans-48\"/>\r\n      </g>\r\n     </g>\r\n    </g>\r\n    <g id=\"ytick_2\">\r\n     <g id=\"line2d_6\">\r\n      <g>\r\n       <use style=\"stroke:#000000;stroke-width:0.8;\" x=\"59.690625\" xlink:href=\"#m6d315b57b4\" y=\"195.561054\"/>\r\n      </g>\r\n     </g>\r\n     <g id=\"text_7\">\r\n      <!-- 2000 -->\r\n      <g transform=\"translate(27.240625 199.360273)scale(0.1 -0.1)\">\r\n       <use xlink:href=\"#DejaVuSans-50\"/>\r\n       <use x=\"63.623047\" xlink:href=\"#DejaVuSans-48\"/>\r\n       <use x=\"127.246094\" xlink:href=\"#DejaVuSans-48\"/>\r\n       <use x=\"190.869141\" xlink:href=\"#DejaVuSans-48\"/>\r\n      </g>\r\n     </g>\r\n    </g>\r\n    <g id=\"ytick_3\">\r\n     <g id=\"line2d_7\">\r\n      <g>\r\n       <use style=\"stroke:#000000;stroke-width:0.8;\" x=\"59.690625\" xlink:href=\"#m6d315b57b4\" y=\"166.482108\"/>\r\n      </g>\r\n     </g>\r\n     <g id=\"text_8\">\r\n      <!-- 4000 -->\r\n      <g transform=\"translate(27.240625 170.281327)scale(0.1 -0.1)\">\r\n       <use xlink:href=\"#DejaVuSans-52\"/>\r\n       <use x=\"63.623047\" xlink:href=\"#DejaVuSans-48\"/>\r\n       <use x=\"127.246094\" xlink:href=\"#DejaVuSans-48\"/>\r\n       <use x=\"190.869141\" xlink:href=\"#DejaVuSans-48\"/>\r\n      </g>\r\n     </g>\r\n    </g>\r\n    <g id=\"ytick_4\">\r\n     <g id=\"line2d_8\">\r\n      <g>\r\n       <use style=\"stroke:#000000;stroke-width:0.8;\" x=\"59.690625\" xlink:href=\"#m6d315b57b4\" y=\"137.403162\"/>\r\n      </g>\r\n     </g>\r\n     <g id=\"text_9\">\r\n      <!-- 6000 -->\r\n      <g transform=\"translate(27.240625 141.202381)scale(0.1 -0.1)\">\r\n       <defs>\r\n        <path d=\"M 33.015625 40.375 \r\nQ 26.375 40.375 22.484375 35.828125 \r\nQ 18.609375 31.296875 18.609375 23.390625 \r\nQ 18.609375 15.53125 22.484375 10.953125 \r\nQ 26.375 6.390625 33.015625 6.390625 \r\nQ 39.65625 6.390625 43.53125 10.953125 \r\nQ 47.40625 15.53125 47.40625 23.390625 \r\nQ 47.40625 31.296875 43.53125 35.828125 \r\nQ 39.65625 40.375 33.015625 40.375 \r\nz\r\nM 52.59375 71.296875 \r\nL 52.59375 62.3125 \r\nQ 48.875 64.0625 45.09375 64.984375 \r\nQ 41.3125 65.921875 37.59375 65.921875 \r\nQ 27.828125 65.921875 22.671875 59.328125 \r\nQ 17.53125 52.734375 16.796875 39.40625 \r\nQ 19.671875 43.65625 24.015625 45.921875 \r\nQ 28.375 48.1875 33.59375 48.1875 \r\nQ 44.578125 48.1875 50.953125 41.515625 \r\nQ 57.328125 34.859375 57.328125 23.390625 \r\nQ 57.328125 12.15625 50.6875 5.359375 \r\nQ 44.046875 -1.421875 33.015625 -1.421875 \r\nQ 20.359375 -1.421875 13.671875 8.265625 \r\nQ 6.984375 17.96875 6.984375 36.375 \r\nQ 6.984375 53.65625 15.1875 63.9375 \r\nQ 23.390625 74.21875 37.203125 74.21875 \r\nQ 40.921875 74.21875 44.703125 73.484375 \r\nQ 48.484375 72.75 52.59375 71.296875 \r\nz\r\n\" id=\"DejaVuSans-54\"/>\r\n       </defs>\r\n       <use xlink:href=\"#DejaVuSans-54\"/>\r\n       <use x=\"63.623047\" xlink:href=\"#DejaVuSans-48\"/>\r\n       <use x=\"127.246094\" xlink:href=\"#DejaVuSans-48\"/>\r\n       <use x=\"190.869141\" xlink:href=\"#DejaVuSans-48\"/>\r\n      </g>\r\n     </g>\r\n    </g>\r\n    <g id=\"ytick_5\">\r\n     <g id=\"line2d_9\">\r\n      <g>\r\n       <use style=\"stroke:#000000;stroke-width:0.8;\" x=\"59.690625\" xlink:href=\"#m6d315b57b4\" y=\"108.324216\"/>\r\n      </g>\r\n     </g>\r\n     <g id=\"text_10\">\r\n      <!-- 8000 -->\r\n      <g transform=\"translate(27.240625 112.123435)scale(0.1 -0.1)\">\r\n       <defs>\r\n        <path d=\"M 31.78125 34.625 \r\nQ 24.75 34.625 20.71875 30.859375 \r\nQ 16.703125 27.09375 16.703125 20.515625 \r\nQ 16.703125 13.921875 20.71875 10.15625 \r\nQ 24.75 6.390625 31.78125 6.390625 \r\nQ 38.8125 6.390625 42.859375 10.171875 \r\nQ 46.921875 13.96875 46.921875 20.515625 \r\nQ 46.921875 27.09375 42.890625 30.859375 \r\nQ 38.875 34.625 31.78125 34.625 \r\nz\r\nM 21.921875 38.8125 \r\nQ 15.578125 40.375 12.03125 44.71875 \r\nQ 8.5 49.078125 8.5 55.328125 \r\nQ 8.5 64.0625 14.71875 69.140625 \r\nQ 20.953125 74.21875 31.78125 74.21875 \r\nQ 42.671875 74.21875 48.875 69.140625 \r\nQ 55.078125 64.0625 55.078125 55.328125 \r\nQ 55.078125 49.078125 51.53125 44.71875 \r\nQ 48 40.375 41.703125 38.8125 \r\nQ 48.828125 37.15625 52.796875 32.3125 \r\nQ 56.78125 27.484375 56.78125 20.515625 \r\nQ 56.78125 9.90625 50.3125 4.234375 \r\nQ 43.84375 -1.421875 31.78125 -1.421875 \r\nQ 19.734375 -1.421875 13.25 4.234375 \r\nQ 6.78125 9.90625 6.78125 20.515625 \r\nQ 6.78125 27.484375 10.78125 32.3125 \r\nQ 14.796875 37.15625 21.921875 38.8125 \r\nz\r\nM 18.3125 54.390625 \r\nQ 18.3125 48.734375 21.84375 45.5625 \r\nQ 25.390625 42.390625 31.78125 42.390625 \r\nQ 38.140625 42.390625 41.71875 45.5625 \r\nQ 45.3125 48.734375 45.3125 54.390625 \r\nQ 45.3125 60.0625 41.71875 63.234375 \r\nQ 38.140625 66.40625 31.78125 66.40625 \r\nQ 25.390625 66.40625 21.84375 63.234375 \r\nQ 18.3125 60.0625 18.3125 54.390625 \r\nz\r\n\" id=\"DejaVuSans-56\"/>\r\n       </defs>\r\n       <use xlink:href=\"#DejaVuSans-56\"/>\r\n       <use x=\"63.623047\" xlink:href=\"#DejaVuSans-48\"/>\r\n       <use x=\"127.246094\" xlink:href=\"#DejaVuSans-48\"/>\r\n       <use x=\"190.869141\" xlink:href=\"#DejaVuSans-48\"/>\r\n      </g>\r\n     </g>\r\n    </g>\r\n    <g id=\"ytick_6\">\r\n     <g id=\"line2d_10\">\r\n      <g>\r\n       <use style=\"stroke:#000000;stroke-width:0.8;\" x=\"59.690625\" xlink:href=\"#m6d315b57b4\" y=\"79.24527\"/>\r\n      </g>\r\n     </g>\r\n     <g id=\"text_11\">\r\n      <!-- 10000 -->\r\n      <g transform=\"translate(20.878125 83.044489)scale(0.1 -0.1)\">\r\n       <defs>\r\n        <path d=\"M 12.40625 8.296875 \r\nL 28.515625 8.296875 \r\nL 28.515625 63.921875 \r\nL 10.984375 60.40625 \r\nL 10.984375 69.390625 \r\nL 28.421875 72.90625 \r\nL 38.28125 72.90625 \r\nL 38.28125 8.296875 \r\nL 54.390625 8.296875 \r\nL 54.390625 0 \r\nL 12.40625 0 \r\nz\r\n\" id=\"DejaVuSans-49\"/>\r\n       </defs>\r\n       <use xlink:href=\"#DejaVuSans-49\"/>\r\n       <use x=\"63.623047\" xlink:href=\"#DejaVuSans-48\"/>\r\n       <use x=\"127.246094\" xlink:href=\"#DejaVuSans-48\"/>\r\n       <use x=\"190.869141\" xlink:href=\"#DejaVuSans-48\"/>\r\n       <use x=\"254.492188\" xlink:href=\"#DejaVuSans-48\"/>\r\n      </g>\r\n     </g>\r\n    </g>\r\n    <g id=\"ytick_7\">\r\n     <g id=\"line2d_11\">\r\n      <g>\r\n       <use style=\"stroke:#000000;stroke-width:0.8;\" x=\"59.690625\" xlink:href=\"#m6d315b57b4\" y=\"50.166324\"/>\r\n      </g>\r\n     </g>\r\n     <g id=\"text_12\">\r\n      <!-- 12000 -->\r\n      <g transform=\"translate(20.878125 53.965542)scale(0.1 -0.1)\">\r\n       <use xlink:href=\"#DejaVuSans-49\"/>\r\n       <use x=\"63.623047\" xlink:href=\"#DejaVuSans-50\"/>\r\n       <use x=\"127.246094\" xlink:href=\"#DejaVuSans-48\"/>\r\n       <use x=\"190.869141\" xlink:href=\"#DejaVuSans-48\"/>\r\n       <use x=\"254.492188\" xlink:href=\"#DejaVuSans-48\"/>\r\n      </g>\r\n     </g>\r\n    </g>\r\n    <g id=\"ytick_8\">\r\n     <g id=\"line2d_12\">\r\n      <g>\r\n       <use style=\"stroke:#000000;stroke-width:0.8;\" x=\"59.690625\" xlink:href=\"#m6d315b57b4\" y=\"21.087378\"/>\r\n      </g>\r\n     </g>\r\n     <g id=\"text_13\">\r\n      <!-- 14000 -->\r\n      <g transform=\"translate(20.878125 24.886596)scale(0.1 -0.1)\">\r\n       <use xlink:href=\"#DejaVuSans-49\"/>\r\n       <use x=\"63.623047\" xlink:href=\"#DejaVuSans-52\"/>\r\n       <use x=\"127.246094\" xlink:href=\"#DejaVuSans-48\"/>\r\n       <use x=\"190.869141\" xlink:href=\"#DejaVuSans-48\"/>\r\n       <use x=\"254.492188\" xlink:href=\"#DejaVuSans-48\"/>\r\n      </g>\r\n     </g>\r\n    </g>\r\n    <g id=\"text_14\">\r\n     <!-- count -->\r\n     <g transform=\"translate(14.798438 130.02625)rotate(-90)scale(0.1 -0.1)\">\r\n      <defs>\r\n       <path d=\"M 48.78125 52.59375 \r\nL 48.78125 44.1875 \r\nQ 44.96875 46.296875 41.140625 47.34375 \r\nQ 37.3125 48.390625 33.40625 48.390625 \r\nQ 24.65625 48.390625 19.8125 42.84375 \r\nQ 14.984375 37.3125 14.984375 27.296875 \r\nQ 14.984375 17.28125 19.8125 11.734375 \r\nQ 24.65625 6.203125 33.40625 6.203125 \r\nQ 37.3125 6.203125 41.140625 7.25 \r\nQ 44.96875 8.296875 48.78125 10.40625 \r\nL 48.78125 2.09375 \r\nQ 45.015625 0.34375 40.984375 -0.53125 \r\nQ 36.96875 -1.421875 32.421875 -1.421875 \r\nQ 20.0625 -1.421875 12.78125 6.34375 \r\nQ 5.515625 14.109375 5.515625 27.296875 \r\nQ 5.515625 40.671875 12.859375 48.328125 \r\nQ 20.21875 56 33.015625 56 \r\nQ 37.15625 56 41.109375 55.140625 \r\nQ 45.0625 54.296875 48.78125 52.59375 \r\nz\r\n\" id=\"DejaVuSans-99\"/>\r\n       <path d=\"M 30.609375 48.390625 \r\nQ 23.390625 48.390625 19.1875 42.75 \r\nQ 14.984375 37.109375 14.984375 27.296875 \r\nQ 14.984375 17.484375 19.15625 11.84375 \r\nQ 23.34375 6.203125 30.609375 6.203125 \r\nQ 37.796875 6.203125 41.984375 11.859375 \r\nQ 46.1875 17.53125 46.1875 27.296875 \r\nQ 46.1875 37.015625 41.984375 42.703125 \r\nQ 37.796875 48.390625 30.609375 48.390625 \r\nz\r\nM 30.609375 56 \r\nQ 42.328125 56 49.015625 48.375 \r\nQ 55.71875 40.765625 55.71875 27.296875 \r\nQ 55.71875 13.875 49.015625 6.21875 \r\nQ 42.328125 -1.421875 30.609375 -1.421875 \r\nQ 18.84375 -1.421875 12.171875 6.21875 \r\nQ 5.515625 13.875 5.515625 27.296875 \r\nQ 5.515625 40.765625 12.171875 48.375 \r\nQ 18.84375 56 30.609375 56 \r\nz\r\n\" id=\"DejaVuSans-111\"/>\r\n       <path d=\"M 8.5 21.578125 \r\nL 8.5 54.6875 \r\nL 17.484375 54.6875 \r\nL 17.484375 21.921875 \r\nQ 17.484375 14.15625 20.5 10.265625 \r\nQ 23.53125 6.390625 29.59375 6.390625 \r\nQ 36.859375 6.390625 41.078125 11.03125 \r\nQ 45.3125 15.671875 45.3125 23.6875 \r\nL 45.3125 54.6875 \r\nL 54.296875 54.6875 \r\nL 54.296875 0 \r\nL 45.3125 0 \r\nL 45.3125 8.40625 \r\nQ 42.046875 3.421875 37.71875 1 \r\nQ 33.40625 -1.421875 27.6875 -1.421875 \r\nQ 18.265625 -1.421875 13.375 4.4375 \r\nQ 8.5 10.296875 8.5 21.578125 \r\nz\r\nM 31.109375 56 \r\nz\r\n\" id=\"DejaVuSans-117\"/>\r\n       <path d=\"M 54.890625 33.015625 \r\nL 54.890625 0 \r\nL 45.90625 0 \r\nL 45.90625 32.71875 \r\nQ 45.90625 40.484375 42.875 44.328125 \r\nQ 39.84375 48.1875 33.796875 48.1875 \r\nQ 26.515625 48.1875 22.3125 43.546875 \r\nQ 18.109375 38.921875 18.109375 30.90625 \r\nL 18.109375 0 \r\nL 9.078125 0 \r\nL 9.078125 54.6875 \r\nL 18.109375 54.6875 \r\nL 18.109375 46.1875 \r\nQ 21.34375 51.125 25.703125 53.5625 \r\nQ 30.078125 56 35.796875 56 \r\nQ 45.21875 56 50.046875 50.171875 \r\nQ 54.890625 44.34375 54.890625 33.015625 \r\nz\r\n\" id=\"DejaVuSans-110\"/>\r\n       <path d=\"M 18.3125 70.21875 \r\nL 18.3125 54.6875 \r\nL 36.8125 54.6875 \r\nL 36.8125 47.703125 \r\nL 18.3125 47.703125 \r\nL 18.3125 18.015625 \r\nQ 18.3125 11.328125 20.140625 9.421875 \r\nQ 21.96875 7.515625 27.59375 7.515625 \r\nL 36.8125 7.515625 \r\nL 36.8125 0 \r\nL 27.59375 0 \r\nQ 17.1875 0 13.234375 3.875 \r\nQ 9.28125 7.765625 9.28125 18.015625 \r\nL 9.28125 47.703125 \r\nL 2.6875 47.703125 \r\nL 2.6875 54.6875 \r\nL 9.28125 54.6875 \r\nL 9.28125 70.21875 \r\nz\r\n\" id=\"DejaVuSans-116\"/>\r\n      </defs>\r\n      <use xlink:href=\"#DejaVuSans-99\"/>\r\n      <use x=\"54.980469\" xlink:href=\"#DejaVuSans-111\"/>\r\n      <use x=\"116.162109\" xlink:href=\"#DejaVuSans-117\"/>\r\n      <use x=\"179.541016\" xlink:href=\"#DejaVuSans-110\"/>\r\n      <use x=\"242.919922\" xlink:href=\"#DejaVuSans-116\"/>\r\n     </g>\r\n    </g>\r\n   </g>\r\n   <g id=\"patch_7\">\r\n    <path d=\"M 59.690625 224.64 \r\nL 59.690625 7.2 \r\n\" style=\"fill:none;stroke:#000000;stroke-linecap:square;stroke-linejoin:miter;stroke-width:0.8;\"/>\r\n   </g>\r\n   <g id=\"patch_8\">\r\n    <path d=\"M 394.490625 224.64 \r\nL 394.490625 7.2 \r\n\" style=\"fill:none;stroke:#000000;stroke-linecap:square;stroke-linejoin:miter;stroke-width:0.8;\"/>\r\n   </g>\r\n   <g id=\"patch_9\">\r\n    <path d=\"M 59.690625 224.64 \r\nL 394.490625 224.64 \r\n\" style=\"fill:none;stroke:#000000;stroke-linecap:square;stroke-linejoin:miter;stroke-width:0.8;\"/>\r\n   </g>\r\n   <g id=\"patch_10\">\r\n    <path d=\"M 59.690625 7.2 \r\nL 394.490625 7.2 \r\n\" style=\"fill:none;stroke:#000000;stroke-linecap:square;stroke-linejoin:miter;stroke-width:0.8;\"/>\r\n   </g>\r\n  </g>\r\n </g>\r\n <defs>\r\n  <clipPath id=\"pc6a2aa7a0a\">\r\n   <rect height=\"217.44\" width=\"334.8\" x=\"59.690625\" y=\"7.2\"/>\r\n  </clipPath>\r\n </defs>\r\n</svg>\r\n",
      "image/png": "[encoded data removed]"
     },
     "metadata": {
      "needs_background": "light"
     }
    }
   ],
   "metadata": {}
  },
  {
   "cell_type": "code",
   "execution_count": 105,
   "source": [
    "sns.countplot(data=df, x='age')"
   ],
   "outputs": [
    {
     "output_type": "execute_result",
     "data": {
      "text/plain": [
       "<AxesSubplot:xlabel='age', ylabel='count'>"
      ]
     },
     "metadata": {},
     "execution_count": 105
    },
    {
     "output_type": "display_data",
     "data": {
      "text/plain": [
       "<Figure size 432x288 with 1 Axes>"
      ],
      "image/svg+xml": "<?xml version=\"1.0\" encoding=\"utf-8\" standalone=\"no\"?>\r\n<!DOCTYPE svg PUBLIC \"-//W3C//DTD SVG 1.1//EN\"\r\n  \"http://www.w3.org/Graphics/SVG/1.1/DTD/svg11.dtd\">\r\n<!-- Created with matplotlib (https://matplotlib.org/) -->\r\n<svg height=\"262.19625pt\" version=\"1.1\" viewBox=\"0 0 408.053125 262.19625\" width=\"408.053125pt\" xmlns=\"http://www.w3.org/2000/svg\" xmlns:xlink=\"http://www.w3.org/1999/xlink\">\r\n <metadata>\r\n  <rdf:RDF xmlns:cc=\"http://creativecommons.org/ns#\" xmlns:dc=\"http://purl.org/dc/elements/1.1/\" xmlns:rdf=\"http://www.w3.org/1999/02/22-rdf-syntax-ns#\">\r\n   <cc:Work>\r\n    <dc:type rdf:resource=\"http://purl.org/dc/dcmitype/StillImage\"/>\r\n    <dc:date>2021-09-03T14:18:50.370213</dc:date>\r\n    <dc:format>image/svg+xml</dc:format>\r\n    <dc:creator>\r\n     <cc:Agent>\r\n      <dc:title>Matplotlib v3.3.4, https://matplotlib.org/</dc:title>\r\n     </cc:Agent>\r\n    </dc:creator>\r\n   </cc:Work>\r\n  </rdf:RDF>\r\n </metadata>\r\n <defs>\r\n  <style type=\"text/css\">*{stroke-linecap:butt;stroke-linejoin:round;}</style>\r\n </defs>\r\n <g id=\"figure_1\">\r\n  <g id=\"patch_1\">\r\n   <path d=\"M 0 262.19625 \r\nL 408.053125 262.19625 \r\nL 408.053125 0 \r\nL 0 0 \r\nz\r\n\" style=\"fill:none;\"/>\r\n  </g>\r\n  <g id=\"axes_1\">\r\n   <g id=\"patch_2\">\r\n    <path d=\"M 66.053125 224.64 \r\nL 400.853125 224.64 \r\nL 400.853125 7.2 \r\nL 66.053125 7.2 \r\nz\r\n\" style=\"fill:#ffffff;\"/>\r\n   </g>\r\n   <g id=\"patch_3\">\r\n    <path clip-path=\"url(#p90a7421017)\" d=\"M 74.423125 224.64 \r\nL 141.383125 224.64 \r\nL 141.383125 98.759925 \r\nL 74.423125 98.759925 \r\nz\r\n\" style=\"fill:#3274a1;\"/>\r\n   </g>\r\n   <g id=\"patch_4\">\r\n    <path clip-path=\"url(#p90a7421017)\" d=\"M 158.123125 224.64 \r\nL 225.083125 224.64 \r\nL 225.083125 17.554286 \r\nL 158.123125 17.554286 \r\nz\r\n\" style=\"fill:#e1812c;\"/>\r\n   </g>\r\n   <g id=\"patch_5\">\r\n    <path clip-path=\"url(#p90a7421017)\" d=\"M 241.823125 224.64 \r\nL 308.783125 224.64 \r\nL 308.783125 93.018833 \r\nL 241.823125 93.018833 \r\nz\r\n\" style=\"fill:#3a923a;\"/>\r\n   </g>\r\n   <g id=\"patch_6\">\r\n    <path clip-path=\"url(#p90a7421017)\" d=\"M 325.523125 224.64 \r\nL 392.483125 224.64 \r\nL 392.483125 159.491007 \r\nL 325.523125 159.491007 \r\nz\r\n\" style=\"fill:#c03d3e;\"/>\r\n   </g>\r\n   <g id=\"matplotlib.axis_1\">\r\n    <g id=\"xtick_1\">\r\n     <g id=\"line2d_1\">\r\n      <defs>\r\n       <path d=\"M 0 0 \r\nL 0 3.5 \r\n\" id=\"m2a40bb6058\" style=\"stroke:#000000;stroke-width:0.8;\"/>\r\n      </defs>\r\n      <g>\r\n       <use style=\"stroke:#000000;stroke-width:0.8;\" x=\"107.903125\" xlink:href=\"#m2a40bb6058\" y=\"224.64\"/>\r\n      </g>\r\n     </g>\r\n     <g id=\"text_1\">\r\n      <!-- 20 -->\r\n      <g transform=\"translate(101.540625 239.238438)scale(0.1 -0.1)\">\r\n       <defs>\r\n        <path d=\"M 19.1875 8.296875 \r\nL 53.609375 8.296875 \r\nL 53.609375 0 \r\nL 7.328125 0 \r\nL 7.328125 8.296875 \r\nQ 12.9375 14.109375 22.625 23.890625 \r\nQ 32.328125 33.6875 34.8125 36.53125 \r\nQ 39.546875 41.84375 41.421875 45.53125 \r\nQ 43.3125 49.21875 43.3125 52.78125 \r\nQ 43.3125 58.59375 39.234375 62.25 \r\nQ 35.15625 65.921875 28.609375 65.921875 \r\nQ 23.96875 65.921875 18.8125 64.3125 \r\nQ 13.671875 62.703125 7.8125 59.421875 \r\nL 7.8125 69.390625 \r\nQ 13.765625 71.78125 18.9375 73 \r\nQ 24.125 74.21875 28.421875 74.21875 \r\nQ 39.75 74.21875 46.484375 68.546875 \r\nQ 53.21875 62.890625 53.21875 53.421875 \r\nQ 53.21875 48.921875 51.53125 44.890625 \r\nQ 49.859375 40.875 45.40625 35.40625 \r\nQ 44.1875 33.984375 37.640625 27.21875 \r\nQ 31.109375 20.453125 19.1875 8.296875 \r\nz\r\n\" id=\"DejaVuSans-50\"/>\r\n        <path d=\"M 31.78125 66.40625 \r\nQ 24.171875 66.40625 20.328125 58.90625 \r\nQ 16.5 51.421875 16.5 36.375 \r\nQ 16.5 21.390625 20.328125 13.890625 \r\nQ 24.171875 6.390625 31.78125 6.390625 \r\nQ 39.453125 6.390625 43.28125 13.890625 \r\nQ 47.125 21.390625 47.125 36.375 \r\nQ 47.125 51.421875 43.28125 58.90625 \r\nQ 39.453125 66.40625 31.78125 66.40625 \r\nz\r\nM 31.78125 74.21875 \r\nQ 44.046875 74.21875 50.515625 64.515625 \r\nQ 56.984375 54.828125 56.984375 36.375 \r\nQ 56.984375 17.96875 50.515625 8.265625 \r\nQ 44.046875 -1.421875 31.78125 -1.421875 \r\nQ 19.53125 -1.421875 13.0625 8.265625 \r\nQ 6.59375 17.96875 6.59375 36.375 \r\nQ 6.59375 54.828125 13.0625 64.515625 \r\nQ 19.53125 74.21875 31.78125 74.21875 \r\nz\r\n\" id=\"DejaVuSans-48\"/>\r\n       </defs>\r\n       <use xlink:href=\"#DejaVuSans-50\"/>\r\n       <use x=\"63.623047\" xlink:href=\"#DejaVuSans-48\"/>\r\n      </g>\r\n     </g>\r\n    </g>\r\n    <g id=\"xtick_2\">\r\n     <g id=\"line2d_2\">\r\n      <g>\r\n       <use style=\"stroke:#000000;stroke-width:0.8;\" x=\"191.603125\" xlink:href=\"#m2a40bb6058\" y=\"224.64\"/>\r\n      </g>\r\n     </g>\r\n     <g id=\"text_2\">\r\n      <!-- 30 -->\r\n      <g transform=\"translate(185.240625 239.238438)scale(0.1 -0.1)\">\r\n       <defs>\r\n        <path d=\"M 40.578125 39.3125 \r\nQ 47.65625 37.796875 51.625 33 \r\nQ 55.609375 28.21875 55.609375 21.1875 \r\nQ 55.609375 10.40625 48.1875 4.484375 \r\nQ 40.765625 -1.421875 27.09375 -1.421875 \r\nQ 22.515625 -1.421875 17.65625 -0.515625 \r\nQ 12.796875 0.390625 7.625 2.203125 \r\nL 7.625 11.71875 \r\nQ 11.71875 9.328125 16.59375 8.109375 \r\nQ 21.484375 6.890625 26.8125 6.890625 \r\nQ 36.078125 6.890625 40.9375 10.546875 \r\nQ 45.796875 14.203125 45.796875 21.1875 \r\nQ 45.796875 27.640625 41.28125 31.265625 \r\nQ 36.765625 34.90625 28.71875 34.90625 \r\nL 20.21875 34.90625 \r\nL 20.21875 43.015625 \r\nL 29.109375 43.015625 \r\nQ 36.375 43.015625 40.234375 45.921875 \r\nQ 44.09375 48.828125 44.09375 54.296875 \r\nQ 44.09375 59.90625 40.109375 62.90625 \r\nQ 36.140625 65.921875 28.71875 65.921875 \r\nQ 24.65625 65.921875 20.015625 65.03125 \r\nQ 15.375 64.15625 9.8125 62.3125 \r\nL 9.8125 71.09375 \r\nQ 15.4375 72.65625 20.34375 73.4375 \r\nQ 25.25 74.21875 29.59375 74.21875 \r\nQ 40.828125 74.21875 47.359375 69.109375 \r\nQ 53.90625 64.015625 53.90625 55.328125 \r\nQ 53.90625 49.265625 50.4375 45.09375 \r\nQ 46.96875 40.921875 40.578125 39.3125 \r\nz\r\n\" id=\"DejaVuSans-51\"/>\r\n       </defs>\r\n       <use xlink:href=\"#DejaVuSans-51\"/>\r\n       <use x=\"63.623047\" xlink:href=\"#DejaVuSans-48\"/>\r\n      </g>\r\n     </g>\r\n    </g>\r\n    <g id=\"xtick_3\">\r\n     <g id=\"line2d_3\">\r\n      <g>\r\n       <use style=\"stroke:#000000;stroke-width:0.8;\" x=\"275.303125\" xlink:href=\"#m2a40bb6058\" y=\"224.64\"/>\r\n      </g>\r\n     </g>\r\n     <g id=\"text_3\">\r\n      <!-- 40 -->\r\n      <g transform=\"translate(268.940625 239.238438)scale(0.1 -0.1)\">\r\n       <defs>\r\n        <path d=\"M 37.796875 64.3125 \r\nL 12.890625 25.390625 \r\nL 37.796875 25.390625 \r\nz\r\nM 35.203125 72.90625 \r\nL 47.609375 72.90625 \r\nL 47.609375 25.390625 \r\nL 58.015625 25.390625 \r\nL 58.015625 17.1875 \r\nL 47.609375 17.1875 \r\nL 47.609375 0 \r\nL 37.796875 0 \r\nL 37.796875 17.1875 \r\nL 4.890625 17.1875 \r\nL 4.890625 26.703125 \r\nz\r\n\" id=\"DejaVuSans-52\"/>\r\n       </defs>\r\n       <use xlink:href=\"#DejaVuSans-52\"/>\r\n       <use x=\"63.623047\" xlink:href=\"#DejaVuSans-48\"/>\r\n      </g>\r\n     </g>\r\n    </g>\r\n    <g id=\"xtick_4\">\r\n     <g id=\"line2d_4\">\r\n      <g>\r\n       <use style=\"stroke:#000000;stroke-width:0.8;\" x=\"359.003125\" xlink:href=\"#m2a40bb6058\" y=\"224.64\"/>\r\n      </g>\r\n     </g>\r\n     <g id=\"text_4\">\r\n      <!-- 50 -->\r\n      <g transform=\"translate(352.640625 239.238438)scale(0.1 -0.1)\">\r\n       <defs>\r\n        <path d=\"M 10.796875 72.90625 \r\nL 49.515625 72.90625 \r\nL 49.515625 64.59375 \r\nL 19.828125 64.59375 \r\nL 19.828125 46.734375 \r\nQ 21.96875 47.46875 24.109375 47.828125 \r\nQ 26.265625 48.1875 28.421875 48.1875 \r\nQ 40.625 48.1875 47.75 41.5 \r\nQ 54.890625 34.8125 54.890625 23.390625 \r\nQ 54.890625 11.625 47.5625 5.09375 \r\nQ 40.234375 -1.421875 26.90625 -1.421875 \r\nQ 22.3125 -1.421875 17.546875 -0.640625 \r\nQ 12.796875 0.140625 7.71875 1.703125 \r\nL 7.71875 11.625 \r\nQ 12.109375 9.234375 16.796875 8.0625 \r\nQ 21.484375 6.890625 26.703125 6.890625 \r\nQ 35.15625 6.890625 40.078125 11.328125 \r\nQ 45.015625 15.765625 45.015625 23.390625 \r\nQ 45.015625 31 40.078125 35.4375 \r\nQ 35.15625 39.890625 26.703125 39.890625 \r\nQ 22.75 39.890625 18.8125 39.015625 \r\nQ 14.890625 38.140625 10.796875 36.28125 \r\nz\r\n\" id=\"DejaVuSans-53\"/>\r\n       </defs>\r\n       <use xlink:href=\"#DejaVuSans-53\"/>\r\n       <use x=\"63.623047\" xlink:href=\"#DejaVuSans-48\"/>\r\n      </g>\r\n     </g>\r\n    </g>\r\n    <g id=\"text_5\">\r\n     <!-- age -->\r\n     <g transform=\"translate(224.138281 252.916563)scale(0.1 -0.1)\">\r\n      <defs>\r\n       <path d=\"M 34.28125 27.484375 \r\nQ 23.390625 27.484375 19.1875 25 \r\nQ 14.984375 22.515625 14.984375 16.5 \r\nQ 14.984375 11.71875 18.140625 8.90625 \r\nQ 21.296875 6.109375 26.703125 6.109375 \r\nQ 34.1875 6.109375 38.703125 11.40625 \r\nQ 43.21875 16.703125 43.21875 25.484375 \r\nL 43.21875 27.484375 \r\nz\r\nM 52.203125 31.203125 \r\nL 52.203125 0 \r\nL 43.21875 0 \r\nL 43.21875 8.296875 \r\nQ 40.140625 3.328125 35.546875 0.953125 \r\nQ 30.953125 -1.421875 24.3125 -1.421875 \r\nQ 15.921875 -1.421875 10.953125 3.296875 \r\nQ 6 8.015625 6 15.921875 \r\nQ 6 25.140625 12.171875 29.828125 \r\nQ 18.359375 34.515625 30.609375 34.515625 \r\nL 43.21875 34.515625 \r\nL 43.21875 35.40625 \r\nQ 43.21875 41.609375 39.140625 45 \r\nQ 35.0625 48.390625 27.6875 48.390625 \r\nQ 23 48.390625 18.546875 47.265625 \r\nQ 14.109375 46.140625 10.015625 43.890625 \r\nL 10.015625 52.203125 \r\nQ 14.9375 54.109375 19.578125 55.046875 \r\nQ 24.21875 56 28.609375 56 \r\nQ 40.484375 56 46.34375 49.84375 \r\nQ 52.203125 43.703125 52.203125 31.203125 \r\nz\r\n\" id=\"DejaVuSans-97\"/>\r\n       <path d=\"M 45.40625 27.984375 \r\nQ 45.40625 37.75 41.375 43.109375 \r\nQ 37.359375 48.484375 30.078125 48.484375 \r\nQ 22.859375 48.484375 18.828125 43.109375 \r\nQ 14.796875 37.75 14.796875 27.984375 \r\nQ 14.796875 18.265625 18.828125 12.890625 \r\nQ 22.859375 7.515625 30.078125 7.515625 \r\nQ 37.359375 7.515625 41.375 12.890625 \r\nQ 45.40625 18.265625 45.40625 27.984375 \r\nz\r\nM 54.390625 6.78125 \r\nQ 54.390625 -7.171875 48.1875 -13.984375 \r\nQ 42 -20.796875 29.203125 -20.796875 \r\nQ 24.46875 -20.796875 20.265625 -20.09375 \r\nQ 16.0625 -19.390625 12.109375 -17.921875 \r\nL 12.109375 -9.1875 \r\nQ 16.0625 -11.328125 19.921875 -12.34375 \r\nQ 23.78125 -13.375 27.78125 -13.375 \r\nQ 36.625 -13.375 41.015625 -8.765625 \r\nQ 45.40625 -4.15625 45.40625 5.171875 \r\nL 45.40625 9.625 \r\nQ 42.625 4.78125 38.28125 2.390625 \r\nQ 33.9375 0 27.875 0 \r\nQ 17.828125 0 11.671875 7.65625 \r\nQ 5.515625 15.328125 5.515625 27.984375 \r\nQ 5.515625 40.671875 11.671875 48.328125 \r\nQ 17.828125 56 27.875 56 \r\nQ 33.9375 56 38.28125 53.609375 \r\nQ 42.625 51.21875 45.40625 46.390625 \r\nL 45.40625 54.6875 \r\nL 54.390625 54.6875 \r\nz\r\n\" id=\"DejaVuSans-103\"/>\r\n       <path d=\"M 56.203125 29.59375 \r\nL 56.203125 25.203125 \r\nL 14.890625 25.203125 \r\nQ 15.484375 15.921875 20.484375 11.0625 \r\nQ 25.484375 6.203125 34.421875 6.203125 \r\nQ 39.59375 6.203125 44.453125 7.46875 \r\nQ 49.3125 8.734375 54.109375 11.28125 \r\nL 54.109375 2.78125 \r\nQ 49.265625 0.734375 44.1875 -0.34375 \r\nQ 39.109375 -1.421875 33.890625 -1.421875 \r\nQ 20.796875 -1.421875 13.15625 6.1875 \r\nQ 5.515625 13.8125 5.515625 26.8125 \r\nQ 5.515625 40.234375 12.765625 48.109375 \r\nQ 20.015625 56 32.328125 56 \r\nQ 43.359375 56 49.78125 48.890625 \r\nQ 56.203125 41.796875 56.203125 29.59375 \r\nz\r\nM 47.21875 32.234375 \r\nQ 47.125 39.59375 43.09375 43.984375 \r\nQ 39.0625 48.390625 32.421875 48.390625 \r\nQ 24.90625 48.390625 20.390625 44.140625 \r\nQ 15.875 39.890625 15.1875 32.171875 \r\nz\r\n\" id=\"DejaVuSans-101\"/>\r\n      </defs>\r\n      <use xlink:href=\"#DejaVuSans-97\"/>\r\n      <use x=\"61.279297\" xlink:href=\"#DejaVuSans-103\"/>\r\n      <use x=\"124.755859\" xlink:href=\"#DejaVuSans-101\"/>\r\n     </g>\r\n    </g>\r\n   </g>\r\n   <g id=\"matplotlib.axis_2\">\r\n    <g id=\"ytick_1\">\r\n     <g id=\"line2d_5\">\r\n      <defs>\r\n       <path d=\"M 0 0 \r\nL -3.5 0 \r\n\" id=\"m1ec6321835\" style=\"stroke:#000000;stroke-width:0.8;\"/>\r\n      </defs>\r\n      <g>\r\n       <use style=\"stroke:#000000;stroke-width:0.8;\" x=\"66.053125\" xlink:href=\"#m1ec6321835\" y=\"224.64\"/>\r\n      </g>\r\n     </g>\r\n     <g id=\"text_6\">\r\n      <!-- 0 -->\r\n      <g transform=\"translate(52.690625 228.439219)scale(0.1 -0.1)\">\r\n       <use xlink:href=\"#DejaVuSans-48\"/>\r\n      </g>\r\n     </g>\r\n    </g>\r\n    <g id=\"ytick_2\">\r\n     <g id=\"line2d_6\">\r\n      <g>\r\n       <use style=\"stroke:#000000;stroke-width:0.8;\" x=\"66.053125\" xlink:href=\"#m1ec6321835\" y=\"193.329508\"/>\r\n      </g>\r\n     </g>\r\n     <g id=\"text_7\">\r\n      <!-- 50000 -->\r\n      <g transform=\"translate(27.240625 197.128727)scale(0.1 -0.1)\">\r\n       <use xlink:href=\"#DejaVuSans-53\"/>\r\n       <use x=\"63.623047\" xlink:href=\"#DejaVuSans-48\"/>\r\n       <use x=\"127.246094\" xlink:href=\"#DejaVuSans-48\"/>\r\n       <use x=\"190.869141\" xlink:href=\"#DejaVuSans-48\"/>\r\n       <use x=\"254.492188\" xlink:href=\"#DejaVuSans-48\"/>\r\n      </g>\r\n     </g>\r\n    </g>\r\n    <g id=\"ytick_3\">\r\n     <g id=\"line2d_7\">\r\n      <g>\r\n       <use style=\"stroke:#000000;stroke-width:0.8;\" x=\"66.053125\" xlink:href=\"#m1ec6321835\" y=\"162.019016\"/>\r\n      </g>\r\n     </g>\r\n     <g id=\"text_8\">\r\n      <!-- 100000 -->\r\n      <g transform=\"translate(20.878125 165.818235)scale(0.1 -0.1)\">\r\n       <defs>\r\n        <path d=\"M 12.40625 8.296875 \r\nL 28.515625 8.296875 \r\nL 28.515625 63.921875 \r\nL 10.984375 60.40625 \r\nL 10.984375 69.390625 \r\nL 28.421875 72.90625 \r\nL 38.28125 72.90625 \r\nL 38.28125 8.296875 \r\nL 54.390625 8.296875 \r\nL 54.390625 0 \r\nL 12.40625 0 \r\nz\r\n\" id=\"DejaVuSans-49\"/>\r\n       </defs>\r\n       <use xlink:href=\"#DejaVuSans-49\"/>\r\n       <use x=\"63.623047\" xlink:href=\"#DejaVuSans-48\"/>\r\n       <use x=\"127.246094\" xlink:href=\"#DejaVuSans-48\"/>\r\n       <use x=\"190.869141\" xlink:href=\"#DejaVuSans-48\"/>\r\n       <use x=\"254.492188\" xlink:href=\"#DejaVuSans-48\"/>\r\n       <use x=\"318.115234\" xlink:href=\"#DejaVuSans-48\"/>\r\n      </g>\r\n     </g>\r\n    </g>\r\n    <g id=\"ytick_4\">\r\n     <g id=\"line2d_8\">\r\n      <g>\r\n       <use style=\"stroke:#000000;stroke-width:0.8;\" x=\"66.053125\" xlink:href=\"#m1ec6321835\" y=\"130.708525\"/>\r\n      </g>\r\n     </g>\r\n     <g id=\"text_9\">\r\n      <!-- 150000 -->\r\n      <g transform=\"translate(20.878125 134.507743)scale(0.1 -0.1)\">\r\n       <use xlink:href=\"#DejaVuSans-49\"/>\r\n       <use x=\"63.623047\" xlink:href=\"#DejaVuSans-53\"/>\r\n       <use x=\"127.246094\" xlink:href=\"#DejaVuSans-48\"/>\r\n       <use x=\"190.869141\" xlink:href=\"#DejaVuSans-48\"/>\r\n       <use x=\"254.492188\" xlink:href=\"#DejaVuSans-48\"/>\r\n       <use x=\"318.115234\" xlink:href=\"#DejaVuSans-48\"/>\r\n      </g>\r\n     </g>\r\n    </g>\r\n    <g id=\"ytick_5\">\r\n     <g id=\"line2d_9\">\r\n      <g>\r\n       <use style=\"stroke:#000000;stroke-width:0.8;\" x=\"66.053125\" xlink:href=\"#m1ec6321835\" y=\"99.398033\"/>\r\n      </g>\r\n     </g>\r\n     <g id=\"text_10\">\r\n      <!-- 200000 -->\r\n      <g transform=\"translate(20.878125 103.197251)scale(0.1 -0.1)\">\r\n       <use xlink:href=\"#DejaVuSans-50\"/>\r\n       <use x=\"63.623047\" xlink:href=\"#DejaVuSans-48\"/>\r\n       <use x=\"127.246094\" xlink:href=\"#DejaVuSans-48\"/>\r\n       <use x=\"190.869141\" xlink:href=\"#DejaVuSans-48\"/>\r\n       <use x=\"254.492188\" xlink:href=\"#DejaVuSans-48\"/>\r\n       <use x=\"318.115234\" xlink:href=\"#DejaVuSans-48\"/>\r\n      </g>\r\n     </g>\r\n    </g>\r\n    <g id=\"ytick_6\">\r\n     <g id=\"line2d_10\">\r\n      <g>\r\n       <use style=\"stroke:#000000;stroke-width:0.8;\" x=\"66.053125\" xlink:href=\"#m1ec6321835\" y=\"68.087541\"/>\r\n      </g>\r\n     </g>\r\n     <g id=\"text_11\">\r\n      <!-- 250000 -->\r\n      <g transform=\"translate(20.878125 71.88676)scale(0.1 -0.1)\">\r\n       <use xlink:href=\"#DejaVuSans-50\"/>\r\n       <use x=\"63.623047\" xlink:href=\"#DejaVuSans-53\"/>\r\n       <use x=\"127.246094\" xlink:href=\"#DejaVuSans-48\"/>\r\n       <use x=\"190.869141\" xlink:href=\"#DejaVuSans-48\"/>\r\n       <use x=\"254.492188\" xlink:href=\"#DejaVuSans-48\"/>\r\n       <use x=\"318.115234\" xlink:href=\"#DejaVuSans-48\"/>\r\n      </g>\r\n     </g>\r\n    </g>\r\n    <g id=\"ytick_7\">\r\n     <g id=\"line2d_11\">\r\n      <g>\r\n       <use style=\"stroke:#000000;stroke-width:0.8;\" x=\"66.053125\" xlink:href=\"#m1ec6321835\" y=\"36.777049\"/>\r\n      </g>\r\n     </g>\r\n     <g id=\"text_12\">\r\n      <!-- 300000 -->\r\n      <g transform=\"translate(20.878125 40.576268)scale(0.1 -0.1)\">\r\n       <use xlink:href=\"#DejaVuSans-51\"/>\r\n       <use x=\"63.623047\" xlink:href=\"#DejaVuSans-48\"/>\r\n       <use x=\"127.246094\" xlink:href=\"#DejaVuSans-48\"/>\r\n       <use x=\"190.869141\" xlink:href=\"#DejaVuSans-48\"/>\r\n       <use x=\"254.492188\" xlink:href=\"#DejaVuSans-48\"/>\r\n       <use x=\"318.115234\" xlink:href=\"#DejaVuSans-48\"/>\r\n      </g>\r\n     </g>\r\n    </g>\r\n    <g id=\"text_13\">\r\n     <!-- count -->\r\n     <g transform=\"translate(14.798438 130.02625)rotate(-90)scale(0.1 -0.1)\">\r\n      <defs>\r\n       <path d=\"M 48.78125 52.59375 \r\nL 48.78125 44.1875 \r\nQ 44.96875 46.296875 41.140625 47.34375 \r\nQ 37.3125 48.390625 33.40625 48.390625 \r\nQ 24.65625 48.390625 19.8125 42.84375 \r\nQ 14.984375 37.3125 14.984375 27.296875 \r\nQ 14.984375 17.28125 19.8125 11.734375 \r\nQ 24.65625 6.203125 33.40625 6.203125 \r\nQ 37.3125 6.203125 41.140625 7.25 \r\nQ 44.96875 8.296875 48.78125 10.40625 \r\nL 48.78125 2.09375 \r\nQ 45.015625 0.34375 40.984375 -0.53125 \r\nQ 36.96875 -1.421875 32.421875 -1.421875 \r\nQ 20.0625 -1.421875 12.78125 6.34375 \r\nQ 5.515625 14.109375 5.515625 27.296875 \r\nQ 5.515625 40.671875 12.859375 48.328125 \r\nQ 20.21875 56 33.015625 56 \r\nQ 37.15625 56 41.109375 55.140625 \r\nQ 45.0625 54.296875 48.78125 52.59375 \r\nz\r\n\" id=\"DejaVuSans-99\"/>\r\n       <path d=\"M 30.609375 48.390625 \r\nQ 23.390625 48.390625 19.1875 42.75 \r\nQ 14.984375 37.109375 14.984375 27.296875 \r\nQ 14.984375 17.484375 19.15625 11.84375 \r\nQ 23.34375 6.203125 30.609375 6.203125 \r\nQ 37.796875 6.203125 41.984375 11.859375 \r\nQ 46.1875 17.53125 46.1875 27.296875 \r\nQ 46.1875 37.015625 41.984375 42.703125 \r\nQ 37.796875 48.390625 30.609375 48.390625 \r\nz\r\nM 30.609375 56 \r\nQ 42.328125 56 49.015625 48.375 \r\nQ 55.71875 40.765625 55.71875 27.296875 \r\nQ 55.71875 13.875 49.015625 6.21875 \r\nQ 42.328125 -1.421875 30.609375 -1.421875 \r\nQ 18.84375 -1.421875 12.171875 6.21875 \r\nQ 5.515625 13.875 5.515625 27.296875 \r\nQ 5.515625 40.765625 12.171875 48.375 \r\nQ 18.84375 56 30.609375 56 \r\nz\r\n\" id=\"DejaVuSans-111\"/>\r\n       <path d=\"M 8.5 21.578125 \r\nL 8.5 54.6875 \r\nL 17.484375 54.6875 \r\nL 17.484375 21.921875 \r\nQ 17.484375 14.15625 20.5 10.265625 \r\nQ 23.53125 6.390625 29.59375 6.390625 \r\nQ 36.859375 6.390625 41.078125 11.03125 \r\nQ 45.3125 15.671875 45.3125 23.6875 \r\nL 45.3125 54.6875 \r\nL 54.296875 54.6875 \r\nL 54.296875 0 \r\nL 45.3125 0 \r\nL 45.3125 8.40625 \r\nQ 42.046875 3.421875 37.71875 1 \r\nQ 33.40625 -1.421875 27.6875 -1.421875 \r\nQ 18.265625 -1.421875 13.375 4.4375 \r\nQ 8.5 10.296875 8.5 21.578125 \r\nz\r\nM 31.109375 56 \r\nz\r\n\" id=\"DejaVuSans-117\"/>\r\n       <path d=\"M 54.890625 33.015625 \r\nL 54.890625 0 \r\nL 45.90625 0 \r\nL 45.90625 32.71875 \r\nQ 45.90625 40.484375 42.875 44.328125 \r\nQ 39.84375 48.1875 33.796875 48.1875 \r\nQ 26.515625 48.1875 22.3125 43.546875 \r\nQ 18.109375 38.921875 18.109375 30.90625 \r\nL 18.109375 0 \r\nL 9.078125 0 \r\nL 9.078125 54.6875 \r\nL 18.109375 54.6875 \r\nL 18.109375 46.1875 \r\nQ 21.34375 51.125 25.703125 53.5625 \r\nQ 30.078125 56 35.796875 56 \r\nQ 45.21875 56 50.046875 50.171875 \r\nQ 54.890625 44.34375 54.890625 33.015625 \r\nz\r\n\" id=\"DejaVuSans-110\"/>\r\n       <path d=\"M 18.3125 70.21875 \r\nL 18.3125 54.6875 \r\nL 36.8125 54.6875 \r\nL 36.8125 47.703125 \r\nL 18.3125 47.703125 \r\nL 18.3125 18.015625 \r\nQ 18.3125 11.328125 20.140625 9.421875 \r\nQ 21.96875 7.515625 27.59375 7.515625 \r\nL 36.8125 7.515625 \r\nL 36.8125 0 \r\nL 27.59375 0 \r\nQ 17.1875 0 13.234375 3.875 \r\nQ 9.28125 7.765625 9.28125 18.015625 \r\nL 9.28125 47.703125 \r\nL 2.6875 47.703125 \r\nL 2.6875 54.6875 \r\nL 9.28125 54.6875 \r\nL 9.28125 70.21875 \r\nz\r\n\" id=\"DejaVuSans-116\"/>\r\n      </defs>\r\n      <use xlink:href=\"#DejaVuSans-99\"/>\r\n      <use x=\"54.980469\" xlink:href=\"#DejaVuSans-111\"/>\r\n      <use x=\"116.162109\" xlink:href=\"#DejaVuSans-117\"/>\r\n      <use x=\"179.541016\" xlink:href=\"#DejaVuSans-110\"/>\r\n      <use x=\"242.919922\" xlink:href=\"#DejaVuSans-116\"/>\r\n     </g>\r\n    </g>\r\n   </g>\r\n   <g id=\"patch_7\">\r\n    <path d=\"M 66.053125 224.64 \r\nL 66.053125 7.2 \r\n\" style=\"fill:none;stroke:#000000;stroke-linecap:square;stroke-linejoin:miter;stroke-width:0.8;\"/>\r\n   </g>\r\n   <g id=\"patch_8\">\r\n    <path d=\"M 400.853125 224.64 \r\nL 400.853125 7.2 \r\n\" style=\"fill:none;stroke:#000000;stroke-linecap:square;stroke-linejoin:miter;stroke-width:0.8;\"/>\r\n   </g>\r\n   <g id=\"patch_9\">\r\n    <path d=\"M 66.053125 224.64 \r\nL 400.853125 224.64 \r\n\" style=\"fill:none;stroke:#000000;stroke-linecap:square;stroke-linejoin:miter;stroke-width:0.8;\"/>\r\n   </g>\r\n   <g id=\"patch_10\">\r\n    <path d=\"M 66.053125 7.2 \r\nL 400.853125 7.2 \r\n\" style=\"fill:none;stroke:#000000;stroke-linecap:square;stroke-linejoin:miter;stroke-width:0.8;\"/>\r\n   </g>\r\n  </g>\r\n </g>\r\n <defs>\r\n  <clipPath id=\"p90a7421017\">\r\n   <rect height=\"217.44\" width=\"334.8\" x=\"66.053125\" y=\"7.2\"/>\r\n  </clipPath>\r\n </defs>\r\n</svg>\r\n",
      "image/png": "[encoded data removed]"
     },
     "metadata": {
      "needs_background": "light"
     }
    }
   ],
   "metadata": {}
  },
  {
   "cell_type": "code",
   "execution_count": 141,
   "source": [
    "trading_df3 = trading_df.drop_duplicates('id')"
   ],
   "outputs": [],
   "metadata": {}
  },
  {
   "cell_type": "code",
   "execution_count": 144,
   "source": [
    "age_train_count = pd.DataFrame(trading_df.groupby(['age'])['volume_price'].sum()).reset_index()\r\n",
    "age_train_count"
   ],
   "outputs": [
    {
     "output_type": "execute_result",
     "data": {
      "text/plain": [
       "   age       volume_price\n",
       "0   20  53510134065678544\n",
       "1   30  93396442834159264\n",
       "2   40  60060063105956336\n",
       "3   50  27282288310802692"
      ],
      "text/html": [
       "<div>\n",
       "<style scoped>\n",
       "    .dataframe tbody tr th:only-of-type {\n",
       "        vertical-align: middle;\n",
       "    }\n",
       "\n",
       "    .dataframe tbody tr th {\n",
       "        vertical-align: top;\n",
       "    }\n",
       "\n",
       "    .dataframe thead th {\n",
       "        text-align: right;\n",
       "    }\n",
       "</style>\n",
       "<table border=\"1\" class=\"dataframe\">\n",
       "  <thead>\n",
       "    <tr style=\"text-align: right;\">\n",
       "      <th></th>\n",
       "      <th>age</th>\n",
       "      <th>volume_price</th>\n",
       "    </tr>\n",
       "  </thead>\n",
       "  <tbody>\n",
       "    <tr>\n",
       "      <th>0</th>\n",
       "      <td>20</td>\n",
       "      <td>53510134065678544</td>\n",
       "    </tr>\n",
       "    <tr>\n",
       "      <th>1</th>\n",
       "      <td>30</td>\n",
       "      <td>93396442834159264</td>\n",
       "    </tr>\n",
       "    <tr>\n",
       "      <th>2</th>\n",
       "      <td>40</td>\n",
       "      <td>60060063105956336</td>\n",
       "    </tr>\n",
       "    <tr>\n",
       "      <th>3</th>\n",
       "      <td>50</td>\n",
       "      <td>27282288310802692</td>\n",
       "    </tr>\n",
       "  </tbody>\n",
       "</table>\n",
       "</div>"
      ]
     },
     "metadata": {},
     "execution_count": 144
    }
   ],
   "metadata": {}
  },
  {
   "cell_type": "code",
   "execution_count": 147,
   "source": [
    "px.pie(age_train_count, values='volume_price', names='age', title='연령대별 총 거래대금 비율')"
   ],
   "outputs": [
    {
     "output_type": "display_data",
     "data": {
      "application/vnd.plotly.v1+json": {
       "config": {
        "plotlyServerURL": "https://plot.ly"
       },
       "data": [
        {
         "domain": {
          "x": [
           0,
           1
          ],
          "y": [
           0,
           1
          ]
         },
         "hovertemplate": "age=%{label}<br>volume_price=%{value}<extra></extra>",
         "labels": [
          20,
          30,
          40,
          50
         ],
         "legendgroup": "",
         "name": "",
         "showlegend": true,
         "type": "pie",
         "values": [
          53510134065678540,
          93396442834159260,
          60060063105956340,
          27282288310802692
         ]
        }
       ],
       "layout": {
        "legend": {
         "tracegroupgap": 0
        },
        "template": {
         "data": {
          "bar": [
           {
            "error_x": {
             "color": "#2a3f5f"
            },
            "error_y": {
             "color": "#2a3f5f"
            },
            "marker": {
             "line": {
              "color": "#E5ECF6",
              "width": 0.5
             }
            },
            "type": "bar"
           }
          ],
          "barpolar": [
           {
            "marker": {
             "line": {
              "color": "#E5ECF6",
              "width": 0.5
             }
            },
            "type": "barpolar"
           }
          ],
          "carpet": [
           {
            "aaxis": {
             "endlinecolor": "#2a3f5f",
             "gridcolor": "white",
             "linecolor": "white",
             "minorgridcolor": "white",
             "startlinecolor": "#2a3f5f"
            },
            "baxis": {
             "endlinecolor": "#2a3f5f",
             "gridcolor": "white",
             "linecolor": "white",
             "minorgridcolor": "white",
             "startlinecolor": "#2a3f5f"
            },
            "type": "carpet"
           }
          ],
          "choropleth": [
           {
            "colorbar": {
             "outlinewidth": 0,
             "ticks": ""
            },
            "type": "choropleth"
           }
          ],
          "contour": [
           {
            "colorbar": {
             "outlinewidth": 0,
             "ticks": ""
            },
            "colorscale": [
             [
              0,
              "#0d0887"
             ],
             [
              0.1111111111111111,
              "#46039f"
             ],
             [
              0.2222222222222222,
              "#7201a8"
             ],
             [
              0.3333333333333333,
              "#9c179e"
             ],
             [
              0.4444444444444444,
              "#bd3786"
             ],
             [
              0.5555555555555556,
              "#d8576b"
             ],
             [
              0.6666666666666666,
              "#ed7953"
             ],
             [
              0.7777777777777778,
              "#fb9f3a"
             ],
             [
              0.8888888888888888,
              "#fdca26"
             ],
             [
              1,
              "#f0f921"
             ]
            ],
            "type": "contour"
           }
          ],
          "contourcarpet": [
           {
            "colorbar": {
             "outlinewidth": 0,
             "ticks": ""
            },
            "type": "contourcarpet"
           }
          ],
          "heatmap": [
           {
            "colorbar": {
             "outlinewidth": 0,
             "ticks": ""
            },
            "colorscale": [
             [
              0,
              "#0d0887"
             ],
             [
              0.1111111111111111,
              "#46039f"
             ],
             [
              0.2222222222222222,
              "#7201a8"
             ],
             [
              0.3333333333333333,
              "#9c179e"
             ],
             [
              0.4444444444444444,
              "#bd3786"
             ],
             [
              0.5555555555555556,
              "#d8576b"
             ],
             [
              0.6666666666666666,
              "#ed7953"
             ],
             [
              0.7777777777777778,
              "#fb9f3a"
             ],
             [
              0.8888888888888888,
              "#fdca26"
             ],
             [
              1,
              "#f0f921"
             ]
            ],
            "type": "heatmap"
           }
          ],
          "heatmapgl": [
           {
            "colorbar": {
             "outlinewidth": 0,
             "ticks": ""
            },
            "colorscale": [
             [
              0,
              "#0d0887"
             ],
             [
              0.1111111111111111,
              "#46039f"
             ],
             [
              0.2222222222222222,
              "#7201a8"
             ],
             [
              0.3333333333333333,
              "#9c179e"
             ],
             [
              0.4444444444444444,
              "#bd3786"
             ],
             [
              0.5555555555555556,
              "#d8576b"
             ],
             [
              0.6666666666666666,
              "#ed7953"
             ],
             [
              0.7777777777777778,
              "#fb9f3a"
             ],
             [
              0.8888888888888888,
              "#fdca26"
             ],
             [
              1,
              "#f0f921"
             ]
            ],
            "type": "heatmapgl"
           }
          ],
          "histogram": [
           {
            "marker": {
             "colorbar": {
              "outlinewidth": 0,
              "ticks": ""
             }
            },
            "type": "histogram"
           }
          ],
          "histogram2d": [
           {
            "colorbar": {
             "outlinewidth": 0,
             "ticks": ""
            },
            "colorscale": [
             [
              0,
              "#0d0887"
             ],
             [
              0.1111111111111111,
              "#46039f"
             ],
             [
              0.2222222222222222,
              "#7201a8"
             ],
             [
              0.3333333333333333,
              "#9c179e"
             ],
             [
              0.4444444444444444,
              "#bd3786"
             ],
             [
              0.5555555555555556,
              "#d8576b"
             ],
             [
              0.6666666666666666,
              "#ed7953"
             ],
             [
              0.7777777777777778,
              "#fb9f3a"
             ],
             [
              0.8888888888888888,
              "#fdca26"
             ],
             [
              1,
              "#f0f921"
             ]
            ],
            "type": "histogram2d"
           }
          ],
          "histogram2dcontour": [
           {
            "colorbar": {
             "outlinewidth": 0,
             "ticks": ""
            },
            "colorscale": [
             [
              0,
              "#0d0887"
             ],
             [
              0.1111111111111111,
              "#46039f"
             ],
             [
              0.2222222222222222,
              "#7201a8"
             ],
             [
              0.3333333333333333,
              "#9c179e"
             ],
             [
              0.4444444444444444,
              "#bd3786"
             ],
             [
              0.5555555555555556,
              "#d8576b"
             ],
             [
              0.6666666666666666,
              "#ed7953"
             ],
             [
              0.7777777777777778,
              "#fb9f3a"
             ],
             [
              0.8888888888888888,
              "#fdca26"
             ],
             [
              1,
              "#f0f921"
             ]
            ],
            "type": "histogram2dcontour"
           }
          ],
          "mesh3d": [
           {
            "colorbar": {
             "outlinewidth": 0,
             "ticks": ""
            },
            "type": "mesh3d"
           }
          ],
          "parcoords": [
           {
            "line": {
             "colorbar": {
              "outlinewidth": 0,
              "ticks": ""
             }
            },
            "type": "parcoords"
           }
          ],
          "pie": [
           {
            "automargin": true,
            "type": "pie"
           }
          ],
          "scatter": [
           {
            "marker": {
             "colorbar": {
              "outlinewidth": 0,
              "ticks": ""
             }
            },
            "type": "scatter"
           }
          ],
          "scatter3d": [
           {
            "line": {
             "colorbar": {
              "outlinewidth": 0,
              "ticks": ""
             }
            },
            "marker": {
             "colorbar": {
              "outlinewidth": 0,
              "ticks": ""
             }
            },
            "type": "scatter3d"
           }
          ],
          "scattercarpet": [
           {
            "marker": {
             "colorbar": {
              "outlinewidth": 0,
              "ticks": ""
             }
            },
            "type": "scattercarpet"
           }
          ],
          "scattergeo": [
           {
            "marker": {
             "colorbar": {
              "outlinewidth": 0,
              "ticks": ""
             }
            },
            "type": "scattergeo"
           }
          ],
          "scattergl": [
           {
            "marker": {
             "colorbar": {
              "outlinewidth": 0,
              "ticks": ""
             }
            },
            "type": "scattergl"
           }
          ],
          "scattermapbox": [
           {
            "marker": {
             "colorbar": {
              "outlinewidth": 0,
              "ticks": ""
             }
            },
            "type": "scattermapbox"
           }
          ],
          "scatterpolar": [
           {
            "marker": {
             "colorbar": {
              "outlinewidth": 0,
              "ticks": ""
             }
            },
            "type": "scatterpolar"
           }
          ],
          "scatterpolargl": [
           {
            "marker": {
             "colorbar": {
              "outlinewidth": 0,
              "ticks": ""
             }
            },
            "type": "scatterpolargl"
           }
          ],
          "scatterternary": [
           {
            "marker": {
             "colorbar": {
              "outlinewidth": 0,
              "ticks": ""
             }
            },
            "type": "scatterternary"
           }
          ],
          "surface": [
           {
            "colorbar": {
             "outlinewidth": 0,
             "ticks": ""
            },
            "colorscale": [
             [
              0,
              "#0d0887"
             ],
             [
              0.1111111111111111,
              "#46039f"
             ],
             [
              0.2222222222222222,
              "#7201a8"
             ],
             [
              0.3333333333333333,
              "#9c179e"
             ],
             [
              0.4444444444444444,
              "#bd3786"
             ],
             [
              0.5555555555555556,
              "#d8576b"
             ],
             [
              0.6666666666666666,
              "#ed7953"
             ],
             [
              0.7777777777777778,
              "#fb9f3a"
             ],
             [
              0.8888888888888888,
              "#fdca26"
             ],
             [
              1,
              "#f0f921"
             ]
            ],
            "type": "surface"
           }
          ],
          "table": [
           {
            "cells": {
             "fill": {
              "color": "#EBF0F8"
             },
             "line": {
              "color": "white"
             }
            },
            "header": {
             "fill": {
              "color": "#C8D4E3"
             },
             "line": {
              "color": "white"
             }
            },
            "type": "table"
           }
          ]
         },
         "layout": {
          "annotationdefaults": {
           "arrowcolor": "#2a3f5f",
           "arrowhead": 0,
           "arrowwidth": 1
          },
          "autotypenumbers": "strict",
          "coloraxis": {
           "colorbar": {
            "outlinewidth": 0,
            "ticks": ""
           }
          },
          "colorscale": {
           "diverging": [
            [
             0,
             "#8e0152"
            ],
            [
             0.1,
             "#c51b7d"
            ],
            [
             0.2,
             "#de77ae"
            ],
            [
             0.3,
             "#f1b6da"
            ],
            [
             0.4,
             "#fde0ef"
            ],
            [
             0.5,
             "#f7f7f7"
            ],
            [
             0.6,
             "#e6f5d0"
            ],
            [
             0.7,
             "#b8e186"
            ],
            [
             0.8,
             "#7fbc41"
            ],
            [
             0.9,
             "#4d9221"
            ],
            [
             1,
             "#276419"
            ]
           ],
           "sequential": [
            [
             0,
             "#0d0887"
            ],
            [
             0.1111111111111111,
             "#46039f"
            ],
            [
             0.2222222222222222,
             "#7201a8"
            ],
            [
             0.3333333333333333,
             "#9c179e"
            ],
            [
             0.4444444444444444,
             "#bd3786"
            ],
            [
             0.5555555555555556,
             "#d8576b"
            ],
            [
             0.6666666666666666,
             "#ed7953"
            ],
            [
             0.7777777777777778,
             "#fb9f3a"
            ],
            [
             0.8888888888888888,
             "#fdca26"
            ],
            [
             1,
             "#f0f921"
            ]
           ],
           "sequentialminus": [
            [
             0,
             "#0d0887"
            ],
            [
             0.1111111111111111,
             "#46039f"
            ],
            [
             0.2222222222222222,
             "#7201a8"
            ],
            [
             0.3333333333333333,
             "#9c179e"
            ],
            [
             0.4444444444444444,
             "#bd3786"
            ],
            [
             0.5555555555555556,
             "#d8576b"
            ],
            [
             0.6666666666666666,
             "#ed7953"
            ],
            [
             0.7777777777777778,
             "#fb9f3a"
            ],
            [
             0.8888888888888888,
             "#fdca26"
            ],
            [
             1,
             "#f0f921"
            ]
           ]
          },
          "colorway": [
           "#636efa",
           "#EF553B",
           "#00cc96",
           "#ab63fa",
           "#FFA15A",
           "#19d3f3",
           "#FF6692",
           "#B6E880",
           "#FF97FF",
           "#FECB52"
          ],
          "font": {
           "color": "#2a3f5f"
          },
          "geo": {
           "bgcolor": "white",
           "lakecolor": "white",
           "landcolor": "#E5ECF6",
           "showlakes": true,
           "showland": true,
           "subunitcolor": "white"
          },
          "hoverlabel": {
           "align": "left"
          },
          "hovermode": "closest",
          "mapbox": {
           "style": "light"
          },
          "paper_bgcolor": "white",
          "plot_bgcolor": "#E5ECF6",
          "polar": {
           "angularaxis": {
            "gridcolor": "white",
            "linecolor": "white",
            "ticks": ""
           },
           "bgcolor": "#E5ECF6",
           "radialaxis": {
            "gridcolor": "white",
            "linecolor": "white",
            "ticks": ""
           }
          },
          "scene": {
           "xaxis": {
            "backgroundcolor": "#E5ECF6",
            "gridcolor": "white",
            "gridwidth": 2,
            "linecolor": "white",
            "showbackground": true,
            "ticks": "",
            "zerolinecolor": "white"
           },
           "yaxis": {
            "backgroundcolor": "#E5ECF6",
            "gridcolor": "white",
            "gridwidth": 2,
            "linecolor": "white",
            "showbackground": true,
            "ticks": "",
            "zerolinecolor": "white"
           },
           "zaxis": {
            "backgroundcolor": "#E5ECF6",
            "gridcolor": "white",
            "gridwidth": 2,
            "linecolor": "white",
            "showbackground": true,
            "ticks": "",
            "zerolinecolor": "white"
           }
          },
          "shapedefaults": {
           "line": {
            "color": "#2a3f5f"
           }
          },
          "ternary": {
           "aaxis": {
            "gridcolor": "white",
            "linecolor": "white",
            "ticks": ""
           },
           "baxis": {
            "gridcolor": "white",
            "linecolor": "white",
            "ticks": ""
           },
           "bgcolor": "#E5ECF6",
           "caxis": {
            "gridcolor": "white",
            "linecolor": "white",
            "ticks": ""
           }
          },
          "title": {
           "x": 0.05
          },
          "xaxis": {
           "automargin": true,
           "gridcolor": "white",
           "linecolor": "white",
           "ticks": "",
           "title": {
            "standoff": 15
           },
           "zerolinecolor": "white",
           "zerolinewidth": 2
          },
          "yaxis": {
           "automargin": true,
           "gridcolor": "white",
           "linecolor": "white",
           "ticks": "",
           "title": {
            "standoff": 15
           },
           "zerolinecolor": "white",
           "zerolinewidth": 2
          }
         }
        },
        "title": {
         "text": "연령대별 총 거래대금 비율"
        }
       }
      }
     },
     "metadata": {}
    }
   ],
   "metadata": {}
  },
  {
   "cell_type": "code",
   "execution_count": 167,
   "source": [
    "age_kospi_kosdaq = pd.DataFrame(df.groupby(['age', 'kospi_kosdaq'])['id'].count()).reset_index()"
   ],
   "outputs": [],
   "metadata": {}
  },
  {
   "cell_type": "code",
   "execution_count": 171,
   "source": [
    "age_kospi_kosdaq"
   ],
   "outputs": [
    {
     "output_type": "execute_result",
     "data": {
      "text/plain": [
       "   age  kospi_kosdaq      id    0             1   2\n",
       "0   20             2   87525  age  kospi_kosdaq  id\n",
       "1   20             3  113494  age  kospi_kosdaq  id\n",
       "2   30             2  148438  age  kospi_kosdaq  id\n",
       "3   30             3  182259  age  kospi_kosdaq  id\n",
       "4   40             2  104146  age  kospi_kosdaq  id\n",
       "5   40             3  106041  age  kospi_kosdaq  id\n",
       "6   50             2   50968  age  kospi_kosdaq  id\n",
       "7   50             3   53069  age  kospi_kosdaq  id"
      ],
      "text/html": [
       "<div>\n",
       "<style scoped>\n",
       "    .dataframe tbody tr th:only-of-type {\n",
       "        vertical-align: middle;\n",
       "    }\n",
       "\n",
       "    .dataframe tbody tr th {\n",
       "        vertical-align: top;\n",
       "    }\n",
       "\n",
       "    .dataframe thead th {\n",
       "        text-align: right;\n",
       "    }\n",
       "</style>\n",
       "<table border=\"1\" class=\"dataframe\">\n",
       "  <thead>\n",
       "    <tr style=\"text-align: right;\">\n",
       "      <th></th>\n",
       "      <th>age</th>\n",
       "      <th>kospi_kosdaq</th>\n",
       "      <th>id</th>\n",
       "      <th>0</th>\n",
       "      <th>1</th>\n",
       "      <th>2</th>\n",
       "    </tr>\n",
       "  </thead>\n",
       "  <tbody>\n",
       "    <tr>\n",
       "      <th>0</th>\n",
       "      <td>20</td>\n",
       "      <td>2</td>\n",
       "      <td>87525</td>\n",
       "      <td>age</td>\n",
       "      <td>kospi_kosdaq</td>\n",
       "      <td>id</td>\n",
       "    </tr>\n",
       "    <tr>\n",
       "      <th>1</th>\n",
       "      <td>20</td>\n",
       "      <td>3</td>\n",
       "      <td>113494</td>\n",
       "      <td>age</td>\n",
       "      <td>kospi_kosdaq</td>\n",
       "      <td>id</td>\n",
       "    </tr>\n",
       "    <tr>\n",
       "      <th>2</th>\n",
       "      <td>30</td>\n",
       "      <td>2</td>\n",
       "      <td>148438</td>\n",
       "      <td>age</td>\n",
       "      <td>kospi_kosdaq</td>\n",
       "      <td>id</td>\n",
       "    </tr>\n",
       "    <tr>\n",
       "      <th>3</th>\n",
       "      <td>30</td>\n",
       "      <td>3</td>\n",
       "      <td>182259</td>\n",
       "      <td>age</td>\n",
       "      <td>kospi_kosdaq</td>\n",
       "      <td>id</td>\n",
       "    </tr>\n",
       "    <tr>\n",
       "      <th>4</th>\n",
       "      <td>40</td>\n",
       "      <td>2</td>\n",
       "      <td>104146</td>\n",
       "      <td>age</td>\n",
       "      <td>kospi_kosdaq</td>\n",
       "      <td>id</td>\n",
       "    </tr>\n",
       "    <tr>\n",
       "      <th>5</th>\n",
       "      <td>40</td>\n",
       "      <td>3</td>\n",
       "      <td>106041</td>\n",
       "      <td>age</td>\n",
       "      <td>kospi_kosdaq</td>\n",
       "      <td>id</td>\n",
       "    </tr>\n",
       "    <tr>\n",
       "      <th>6</th>\n",
       "      <td>50</td>\n",
       "      <td>2</td>\n",
       "      <td>50968</td>\n",
       "      <td>age</td>\n",
       "      <td>kospi_kosdaq</td>\n",
       "      <td>id</td>\n",
       "    </tr>\n",
       "    <tr>\n",
       "      <th>7</th>\n",
       "      <td>50</td>\n",
       "      <td>3</td>\n",
       "      <td>53069</td>\n",
       "      <td>age</td>\n",
       "      <td>kospi_kosdaq</td>\n",
       "      <td>id</td>\n",
       "    </tr>\n",
       "  </tbody>\n",
       "</table>\n",
       "</div>"
      ]
     },
     "metadata": {},
     "execution_count": 171
    }
   ],
   "metadata": {}
  },
  {
   "cell_type": "code",
   "execution_count": 189,
   "source": [
    "px.bar(age_kospi_kosdaq, x='age', y='id', color='kospi_kosdaq', color_continuous_scale='darkmint')"
   ],
   "outputs": [
    {
     "output_type": "display_data",
     "data": {
      "application/vnd.plotly.v1+json": {
       "config": {
        "plotlyServerURL": "https://plot.ly"
       },
       "data": [
        {
         "alignmentgroup": "True",
         "hovertemplate": "age=%{x}<br>id=%{y}<br>kospi_kosdaq=%{marker.color}<extra></extra>",
         "legendgroup": "",
         "marker": {
          "color": [
           2,
           3,
           2,
           3,
           2,
           3,
           2,
           3
          ],
          "coloraxis": "coloraxis"
         },
         "name": "",
         "offsetgroup": "",
         "orientation": "v",
         "showlegend": false,
         "textposition": "auto",
         "type": "bar",
         "x": [
          20,
          20,
          30,
          30,
          40,
          40,
          50,
          50
         ],
         "xaxis": "x",
         "y": [
          87525,
          113494,
          148438,
          182259,
          104146,
          106041,
          50968,
          53069
         ],
         "yaxis": "y"
        }
       ],
       "layout": {
        "barmode": "relative",
        "coloraxis": {
         "colorbar": {
          "title": {
           "text": "kospi_kosdaq"
          }
         },
         "colorscale": [
          [
           0,
           "rgb(210, 251, 212)"
          ],
          [
           0.16666666666666666,
           "rgb(165, 219, 194)"
          ],
          [
           0.3333333333333333,
           "rgb(123, 188, 176)"
          ],
          [
           0.5,
           "rgb(85, 156, 158)"
          ],
          [
           0.6666666666666666,
           "rgb(58, 124, 137)"
          ],
          [
           0.8333333333333334,
           "rgb(35, 93, 114)"
          ],
          [
           1,
           "rgb(18, 63, 90)"
          ]
         ]
        },
        "legend": {
         "tracegroupgap": 0
        },
        "margin": {
         "t": 60
        },
        "template": {
         "data": {
          "bar": [
           {
            "error_x": {
             "color": "#2a3f5f"
            },
            "error_y": {
             "color": "#2a3f5f"
            },
            "marker": {
             "line": {
              "color": "#E5ECF6",
              "width": 0.5
             }
            },
            "type": "bar"
           }
          ],
          "barpolar": [
           {
            "marker": {
             "line": {
              "color": "#E5ECF6",
              "width": 0.5
             }
            },
            "type": "barpolar"
           }
          ],
          "carpet": [
           {
            "aaxis": {
             "endlinecolor": "#2a3f5f",
             "gridcolor": "white",
             "linecolor": "white",
             "minorgridcolor": "white",
             "startlinecolor": "#2a3f5f"
            },
            "baxis": {
             "endlinecolor": "#2a3f5f",
             "gridcolor": "white",
             "linecolor": "white",
             "minorgridcolor": "white",
             "startlinecolor": "#2a3f5f"
            },
            "type": "carpet"
           }
          ],
          "choropleth": [
           {
            "colorbar": {
             "outlinewidth": 0,
             "ticks": ""
            },
            "type": "choropleth"
           }
          ],
          "contour": [
           {
            "colorbar": {
             "outlinewidth": 0,
             "ticks": ""
            },
            "colorscale": [
             [
              0,
              "#0d0887"
             ],
             [
              0.1111111111111111,
              "#46039f"
             ],
             [
              0.2222222222222222,
              "#7201a8"
             ],
             [
              0.3333333333333333,
              "#9c179e"
             ],
             [
              0.4444444444444444,
              "#bd3786"
             ],
             [
              0.5555555555555556,
              "#d8576b"
             ],
             [
              0.6666666666666666,
              "#ed7953"
             ],
             [
              0.7777777777777778,
              "#fb9f3a"
             ],
             [
              0.8888888888888888,
              "#fdca26"
             ],
             [
              1,
              "#f0f921"
             ]
            ],
            "type": "contour"
           }
          ],
          "contourcarpet": [
           {
            "colorbar": {
             "outlinewidth": 0,
             "ticks": ""
            },
            "type": "contourcarpet"
           }
          ],
          "heatmap": [
           {
            "colorbar": {
             "outlinewidth": 0,
             "ticks": ""
            },
            "colorscale": [
             [
              0,
              "#0d0887"
             ],
             [
              0.1111111111111111,
              "#46039f"
             ],
             [
              0.2222222222222222,
              "#7201a8"
             ],
             [
              0.3333333333333333,
              "#9c179e"
             ],
             [
              0.4444444444444444,
              "#bd3786"
             ],
             [
              0.5555555555555556,
              "#d8576b"
             ],
             [
              0.6666666666666666,
              "#ed7953"
             ],
             [
              0.7777777777777778,
              "#fb9f3a"
             ],
             [
              0.8888888888888888,
              "#fdca26"
             ],
             [
              1,
              "#f0f921"
             ]
            ],
            "type": "heatmap"
           }
          ],
          "heatmapgl": [
           {
            "colorbar": {
             "outlinewidth": 0,
             "ticks": ""
            },
            "colorscale": [
             [
              0,
              "#0d0887"
             ],
             [
              0.1111111111111111,
              "#46039f"
             ],
             [
              0.2222222222222222,
              "#7201a8"
             ],
             [
              0.3333333333333333,
              "#9c179e"
             ],
             [
              0.4444444444444444,
              "#bd3786"
             ],
             [
              0.5555555555555556,
              "#d8576b"
             ],
             [
              0.6666666666666666,
              "#ed7953"
             ],
             [
              0.7777777777777778,
              "#fb9f3a"
             ],
             [
              0.8888888888888888,
              "#fdca26"
             ],
             [
              1,
              "#f0f921"
             ]
            ],
            "type": "heatmapgl"
           }
          ],
          "histogram": [
           {
            "marker": {
             "colorbar": {
              "outlinewidth": 0,
              "ticks": ""
             }
            },
            "type": "histogram"
           }
          ],
          "histogram2d": [
           {
            "colorbar": {
             "outlinewidth": 0,
             "ticks": ""
            },
            "colorscale": [
             [
              0,
              "#0d0887"
             ],
             [
              0.1111111111111111,
              "#46039f"
             ],
             [
              0.2222222222222222,
              "#7201a8"
             ],
             [
              0.3333333333333333,
              "#9c179e"
             ],
             [
              0.4444444444444444,
              "#bd3786"
             ],
             [
              0.5555555555555556,
              "#d8576b"
             ],
             [
              0.6666666666666666,
              "#ed7953"
             ],
             [
              0.7777777777777778,
              "#fb9f3a"
             ],
             [
              0.8888888888888888,
              "#fdca26"
             ],
             [
              1,
              "#f0f921"
             ]
            ],
            "type": "histogram2d"
           }
          ],
          "histogram2dcontour": [
           {
            "colorbar": {
             "outlinewidth": 0,
             "ticks": ""
            },
            "colorscale": [
             [
              0,
              "#0d0887"
             ],
             [
              0.1111111111111111,
              "#46039f"
             ],
             [
              0.2222222222222222,
              "#7201a8"
             ],
             [
              0.3333333333333333,
              "#9c179e"
             ],
             [
              0.4444444444444444,
              "#bd3786"
             ],
             [
              0.5555555555555556,
              "#d8576b"
             ],
             [
              0.6666666666666666,
              "#ed7953"
             ],
             [
              0.7777777777777778,
              "#fb9f3a"
             ],
             [
              0.8888888888888888,
              "#fdca26"
             ],
             [
              1,
              "#f0f921"
             ]
            ],
            "type": "histogram2dcontour"
           }
          ],
          "mesh3d": [
           {
            "colorbar": {
             "outlinewidth": 0,
             "ticks": ""
            },
            "type": "mesh3d"
           }
          ],
          "parcoords": [
           {
            "line": {
             "colorbar": {
              "outlinewidth": 0,
              "ticks": ""
             }
            },
            "type": "parcoords"
           }
          ],
          "pie": [
           {
            "automargin": true,
            "type": "pie"
           }
          ],
          "scatter": [
           {
            "marker": {
             "colorbar": {
              "outlinewidth": 0,
              "ticks": ""
             }
            },
            "type": "scatter"
           }
          ],
          "scatter3d": [
           {
            "line": {
             "colorbar": {
              "outlinewidth": 0,
              "ticks": ""
             }
            },
            "marker": {
             "colorbar": {
              "outlinewidth": 0,
              "ticks": ""
             }
            },
            "type": "scatter3d"
           }
          ],
          "scattercarpet": [
           {
            "marker": {
             "colorbar": {
              "outlinewidth": 0,
              "ticks": ""
             }
            },
            "type": "scattercarpet"
           }
          ],
          "scattergeo": [
           {
            "marker": {
             "colorbar": {
              "outlinewidth": 0,
              "ticks": ""
             }
            },
            "type": "scattergeo"
           }
          ],
          "scattergl": [
           {
            "marker": {
             "colorbar": {
              "outlinewidth": 0,
              "ticks": ""
             }
            },
            "type": "scattergl"
           }
          ],
          "scattermapbox": [
           {
            "marker": {
             "colorbar": {
              "outlinewidth": 0,
              "ticks": ""
             }
            },
            "type": "scattermapbox"
           }
          ],
          "scatterpolar": [
           {
            "marker": {
             "colorbar": {
              "outlinewidth": 0,
              "ticks": ""
             }
            },
            "type": "scatterpolar"
           }
          ],
          "scatterpolargl": [
           {
            "marker": {
             "colorbar": {
              "outlinewidth": 0,
              "ticks": ""
             }
            },
            "type": "scatterpolargl"
           }
          ],
          "scatterternary": [
           {
            "marker": {
             "colorbar": {
              "outlinewidth": 0,
              "ticks": ""
             }
            },
            "type": "scatterternary"
           }
          ],
          "surface": [
           {
            "colorbar": {
             "outlinewidth": 0,
             "ticks": ""
            },
            "colorscale": [
             [
              0,
              "#0d0887"
             ],
             [
              0.1111111111111111,
              "#46039f"
             ],
             [
              0.2222222222222222,
              "#7201a8"
             ],
             [
              0.3333333333333333,
              "#9c179e"
             ],
             [
              0.4444444444444444,
              "#bd3786"
             ],
             [
              0.5555555555555556,
              "#d8576b"
             ],
             [
              0.6666666666666666,
              "#ed7953"
             ],
             [
              0.7777777777777778,
              "#fb9f3a"
             ],
             [
              0.8888888888888888,
              "#fdca26"
             ],
             [
              1,
              "#f0f921"
             ]
            ],
            "type": "surface"
           }
          ],
          "table": [
           {
            "cells": {
             "fill": {
              "color": "#EBF0F8"
             },
             "line": {
              "color": "white"
             }
            },
            "header": {
             "fill": {
              "color": "#C8D4E3"
             },
             "line": {
              "color": "white"
             }
            },
            "type": "table"
           }
          ]
         },
         "layout": {
          "annotationdefaults": {
           "arrowcolor": "#2a3f5f",
           "arrowhead": 0,
           "arrowwidth": 1
          },
          "autotypenumbers": "strict",
          "coloraxis": {
           "colorbar": {
            "outlinewidth": 0,
            "ticks": ""
           }
          },
          "colorscale": {
           "diverging": [
            [
             0,
             "#8e0152"
            ],
            [
             0.1,
             "#c51b7d"
            ],
            [
             0.2,
             "#de77ae"
            ],
            [
             0.3,
             "#f1b6da"
            ],
            [
             0.4,
             "#fde0ef"
            ],
            [
             0.5,
             "#f7f7f7"
            ],
            [
             0.6,
             "#e6f5d0"
            ],
            [
             0.7,
             "#b8e186"
            ],
            [
             0.8,
             "#7fbc41"
            ],
            [
             0.9,
             "#4d9221"
            ],
            [
             1,
             "#276419"
            ]
           ],
           "sequential": [
            [
             0,
             "#0d0887"
            ],
            [
             0.1111111111111111,
             "#46039f"
            ],
            [
             0.2222222222222222,
             "#7201a8"
            ],
            [
             0.3333333333333333,
             "#9c179e"
            ],
            [
             0.4444444444444444,
             "#bd3786"
            ],
            [
             0.5555555555555556,
             "#d8576b"
            ],
            [
             0.6666666666666666,
             "#ed7953"
            ],
            [
             0.7777777777777778,
             "#fb9f3a"
            ],
            [
             0.8888888888888888,
             "#fdca26"
            ],
            [
             1,
             "#f0f921"
            ]
           ],
           "sequentialminus": [
            [
             0,
             "#0d0887"
            ],
            [
             0.1111111111111111,
             "#46039f"
            ],
            [
             0.2222222222222222,
             "#7201a8"
            ],
            [
             0.3333333333333333,
             "#9c179e"
            ],
            [
             0.4444444444444444,
             "#bd3786"
            ],
            [
             0.5555555555555556,
             "#d8576b"
            ],
            [
             0.6666666666666666,
             "#ed7953"
            ],
            [
             0.7777777777777778,
             "#fb9f3a"
            ],
            [
             0.8888888888888888,
             "#fdca26"
            ],
            [
             1,
             "#f0f921"
            ]
           ]
          },
          "colorway": [
           "#636efa",
           "#EF553B",
           "#00cc96",
           "#ab63fa",
           "#FFA15A",
           "#19d3f3",
           "#FF6692",
           "#B6E880",
           "#FF97FF",
           "#FECB52"
          ],
          "font": {
           "color": "#2a3f5f"
          },
          "geo": {
           "bgcolor": "white",
           "lakecolor": "white",
           "landcolor": "#E5ECF6",
           "showlakes": true,
           "showland": true,
           "subunitcolor": "white"
          },
          "hoverlabel": {
           "align": "left"
          },
          "hovermode": "closest",
          "mapbox": {
           "style": "light"
          },
          "paper_bgcolor": "white",
          "plot_bgcolor": "#E5ECF6",
          "polar": {
           "angularaxis": {
            "gridcolor": "white",
            "linecolor": "white",
            "ticks": ""
           },
           "bgcolor": "#E5ECF6",
           "radialaxis": {
            "gridcolor": "white",
            "linecolor": "white",
            "ticks": ""
           }
          },
          "scene": {
           "xaxis": {
            "backgroundcolor": "#E5ECF6",
            "gridcolor": "white",
            "gridwidth": 2,
            "linecolor": "white",
            "showbackground": true,
            "ticks": "",
            "zerolinecolor": "white"
           },
           "yaxis": {
            "backgroundcolor": "#E5ECF6",
            "gridcolor": "white",
            "gridwidth": 2,
            "linecolor": "white",
            "showbackground": true,
            "ticks": "",
            "zerolinecolor": "white"
           },
           "zaxis": {
            "backgroundcolor": "#E5ECF6",
            "gridcolor": "white",
            "gridwidth": 2,
            "linecolor": "white",
            "showbackground": true,
            "ticks": "",
            "zerolinecolor": "white"
           }
          },
          "shapedefaults": {
           "line": {
            "color": "#2a3f5f"
           }
          },
          "ternary": {
           "aaxis": {
            "gridcolor": "white",
            "linecolor": "white",
            "ticks": ""
           },
           "baxis": {
            "gridcolor": "white",
            "linecolor": "white",
            "ticks": ""
           },
           "bgcolor": "#E5ECF6",
           "caxis": {
            "gridcolor": "white",
            "linecolor": "white",
            "ticks": ""
           }
          },
          "title": {
           "x": 0.05
          },
          "xaxis": {
           "automargin": true,
           "gridcolor": "white",
           "linecolor": "white",
           "ticks": "",
           "title": {
            "standoff": 15
           },
           "zerolinecolor": "white",
           "zerolinewidth": 2
          },
          "yaxis": {
           "automargin": true,
           "gridcolor": "white",
           "linecolor": "white",
           "ticks": "",
           "title": {
            "standoff": 15
           },
           "zerolinecolor": "white",
           "zerolinewidth": 2
          }
         }
        },
        "xaxis": {
         "anchor": "y",
         "domain": [
          0,
          1
         ],
         "title": {
          "text": "age"
         }
        },
        "yaxis": {
         "anchor": "x",
         "domain": [
          0,
          1
         ],
         "title": {
          "text": "id"
         }
        }
       }
      }
     },
     "metadata": {}
    }
   ],
   "metadata": {}
  },
  {
   "cell_type": "code",
   "execution_count": null,
   "source": [],
   "outputs": [],
   "metadata": {}
  }
 ],
 "metadata": {
  "orig_nbformat": 4,
  "language_info": {
   "name": "python",
   "version": "3.9.1",
   "mimetype": "text/x-python",
   "codemirror_mode": {
    "name": "ipython",
    "version": 3
   },
   "pygments_lexer": "ipython3",
   "nbconvert_exporter": "python",
   "file_extension": ".py"
  },
  "kernelspec": {
   "name": "python3",
   "display_name": "Python 3.9.1 64-bit (system)"
  },
  "interpreter": {
   "hash": "40b0a2c4feb1a313953209683718f65c38d6b1c241936ad576f53278c4182a1d"
  }
 },
 "nbformat": 4,
 "nbformat_minor": 2
}