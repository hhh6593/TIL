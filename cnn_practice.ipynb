{
 "metadata": {
  "language_info": {
   "codemirror_mode": {
    "name": "ipython",
    "version": 3
   },
   "file_extension": ".py",
   "mimetype": "text/x-python",
   "name": "python",
   "nbconvert_exporter": "python",
   "pygments_lexer": "ipython3",
   "version": "3.9.2"
  },
  "orig_nbformat": 2,
  "kernelspec": {
   "name": "python392jvsc74a57bd0ee5cc6fef2d70a7e71ee3826687cbd150f18158e0b1eef11d4f4f92bb920e304",
   "display_name": "Python 3.9.2 64-bit"
  },
  "metadata": {
   "interpreter": {
    "hash": "ee5cc6fef2d70a7e71ee3826687cbd150f18158e0b1eef11d4f4f92bb920e304"
   }
  }
 },
 "nbformat": 4,
 "nbformat_minor": 2,
 "cells": [
  {
   "cell_type": "code",
   "execution_count": 1,
   "metadata": {},
   "outputs": [],
   "source": [
    "from IPython.display import Image"
   ]
  },
  {
   "cell_type": "code",
   "execution_count": 4,
   "metadata": {},
   "outputs": [],
   "source": [
    "from __future__ import absolute_import, division, print_function, unicode_literals\n",
    "import tensorflow as tf"
   ]
  },
  {
   "cell_type": "code",
   "execution_count": 5,
   "metadata": {},
   "outputs": [],
   "source": [
    "import tensorflow as tf\n",
    "from tensorflow.keras.datasets import mnist\n",
    "from tensorflow.keras.models import Sequential\n",
    "from tensorflow.keras.layers import Dense, Dropout, Flatten\n",
    "from tensorflow.keras.layers import Conv2D, MaxPooling2D\n",
    "from tensorflow.keras import backend as K\n",
    "from tensorflow.keras.losses import categorical_crossentropy\n",
    "from tensorflow.keras.optimizers import Adam\n",
    "from tensorflow.keras.callbacks import EarlyStopping, ModelCheckpoint"
   ]
  },
  {
   "cell_type": "code",
   "execution_count": 6,
   "metadata": {},
   "outputs": [
    {
     "output_type": "stream",
     "name": "stdout",
     "text": [
      "Downloading data from https://storage.googleapis.com/tensorflow/tf-keras-datasets/mnist.npz\n",
      "11493376/11490434 [==============================] - 1s 0us/step\n"
     ]
    }
   ],
   "source": [
    "#연습용 데이터 불러오기\n",
    "(train_x, train_y), (val_x, val_y) = tf.keras.datasets.mnist.load_data()"
   ]
  },
  {
   "cell_type": "code",
   "execution_count": 12,
   "metadata": {},
   "outputs": [
    {
     "output_type": "stream",
     "name": "stdout",
     "text": [
      "[  0   0   0   0   0   0   0  18 219 253 253 253 253 253 198 182 247 241\n   0   0   0   0   0   0   0   0   0   0]\n"
     ]
    }
   ],
   "source": [
    "#흑백 이미지 0~255 값 보기\n",
    "print(train_x[0][8])"
   ]
  },
  {
   "cell_type": "code",
   "execution_count": 14,
   "metadata": {},
   "outputs": [
    {
     "output_type": "stream",
     "name": "stdout",
     "text": [
      "[7 2 1 0 4 1 4 9 5]\n"
     ]
    }
   ],
   "source": [
    "#Label 데이터 \n",
    "print(val_y[0:9])"
   ]
  },
  {
   "cell_type": "code",
   "execution_count": 16,
   "metadata": {},
   "outputs": [
    {
     "output_type": "stream",
     "name": "stdout",
     "text": [
      "테스트 데이터 샘플 수는 10000 개 이다.\n모든 데이터는 28 * 28 이미지다.\n"
     ]
    }
   ],
   "source": [
    "print('테스트 데이터 샘플 수는 '+str(val_x.shape[0])+' 개 이다.')\n",
    "print('모든 데이터는 '+str(val_x.shape[1])+' * '+str(val_x.shape[2])+' 이미지다.')"
   ]
  },
  {
   "cell_type": "code",
   "execution_count": 17,
   "metadata": {},
   "outputs": [
    {
     "output_type": "stream",
     "name": "stdout",
     "text": [
      "(60000, 28, 28, 1)\n(10000, 28, 28, 1)\n"
     ]
    }
   ],
   "source": [
    "#이미지 데이터 행렬 바꾸기\n",
    "import numpy as np\n",
    "train_x = np.reshape(train_x, (60000, 28, 28, 1))\n",
    "val_x = np.reshape(val_x, (10000, 28, 28, 1))\n",
    "\n",
    "print(train_x.shape)\n",
    "print(val_x.shape)"
   ]
  },
  {
   "cell_type": "code",
   "execution_count": 18,
   "metadata": {},
   "outputs": [],
   "source": [
    "#데이터 정규화\n",
    "train_x = train_x.astype('float32')\n",
    "val_x = val_x.astype('float32')\n",
    "\n",
    "gray_scale = 255\n",
    "train_x = train_x / gray_scale\n",
    "val_x = val_x / gray_scale"
   ]
  },
  {
   "cell_type": "code",
   "execution_count": 19,
   "metadata": {},
   "outputs": [],
   "source": [
    "#Label one hot encoding\n",
    "num_classes = 10\n",
    "train_y = tf.keras.utils.to_categorical(train_y, num_classes)\n",
    "val_y = tf.keras.utils.to_categorical(val_y, num_classes)"
   ]
  },
  {
   "cell_type": "code",
   "execution_count": 20,
   "metadata": {},
   "outputs": [
    {
     "output_type": "execute_result",
     "data": {
      "text/html": "<img src=\"https://raw.githubusercontent.com/captainchargers/deeplearning/master/img/practice_cnn.png\" width=\"800\" height=\"200\"/>",
      "text/plain": [
       "<IPython.core.display.Image object>"
      ]
     },
     "metadata": {},
     "execution_count": 20
    }
   ],
   "source": [
    "Image(url= \"https://raw.githubusercontent.com/captainchargers/deeplearning/master/img/practice_cnn.png\", width=800, height=200)"
   ]
  },
  {
   "cell_type": "code",
   "execution_count": 23,
   "metadata": {},
   "outputs": [],
   "source": [
    "model = Sequential()\n",
    "#이미지 Conv2D\n",
    "model.add(Conv2D(16, kernel_size=(5,5),  #커널 사이즈 5*5\n",
    "          activation='relu', #활성화 함수 relu\n",
    "          input_shape=(28,28,1), padding='same'))\n",
    "#이미지 각 타일의 최대값만 뽑아 행렬 축소\n",
    "model.add(MaxPooling2D(pool_size=(2,2)))\n",
    "#축소된 이미지 행렬 Conv\n",
    "model.add(Conv2D(32, kernel_size=(5,5), activation='relu', padding='same'))\n",
    "#행렬 축소\n",
    "model.add(MaxPooling2D(pool_size=(2,2)))\n",
    "#모델 1차원 행렬로 변환\n",
    "model.add(Flatten())\n",
    "#128unit을 가지는 완전 연결 레이어\n",
    "model.add(Dense(128, activation='relu'))\n",
    "#이미지 역전파\n",
    "model.add(Dense(num_classes, activation='softmax'))"
   ]
  },
  {
   "cell_type": "code",
   "execution_count": 24,
   "metadata": {},
   "outputs": [
    {
     "output_type": "stream",
     "name": "stdout",
     "text": [
      "Model: \"sequential_1\"\n_________________________________________________________________\nLayer (type)                 Output Shape              Param #   \n=================================================================\nconv2d_2 (Conv2D)            (None, 28, 28, 16)        416       \n_________________________________________________________________\nmax_pooling2d_2 (MaxPooling2 (None, 14, 14, 16)        0         \n_________________________________________________________________\nconv2d_3 (Conv2D)            (None, 14, 14, 32)        12832     \n_________________________________________________________________\nmax_pooling2d_3 (MaxPooling2 (None, 7, 7, 32)          0         \n_________________________________________________________________\nflatten_1 (Flatten)          (None, 1568)              0         \n_________________________________________________________________\ndense_2 (Dense)              (None, 128)               200832    \n_________________________________________________________________\ndense_3 (Dense)              (None, 10)                1290      \n=================================================================\nTotal params: 215,370\nTrainable params: 215,370\nNon-trainable params: 0\n_________________________________________________________________\n"
     ]
    }
   ],
   "source": [
    "model.summary()"
   ]
  },
  {
   "cell_type": "code",
   "execution_count": 25,
   "metadata": {},
   "outputs": [],
   "source": [
    "model.compile(loss=categorical_crossentropy,\n",
    "              optimizer=Adam(),\n",
    "              metrics=['accuracy'])"
   ]
  },
  {
   "cell_type": "code",
   "execution_count": 28,
   "metadata": {},
   "outputs": [],
   "source": [
    "callbacks = [EarlyStopping(monitor='val_accuracy', \n",
    "                           patience=2,                                                                       restore_best_weights=False),\n",
    "                           ModelCheckpoint(filepath='best_model.h5',\n",
    "                           monitor='val_accuracy',\n",
    "                           save_best_only=True)]"
   ]
  },
  {
   "cell_type": "code",
   "execution_count": 31,
   "metadata": {},
   "outputs": [
    {
     "output_type": "stream",
     "name": "stdout",
     "text": [
      "Epoch 1/10\n",
      "108/108 [==============================] - 22s 196ms/step - loss: 0.4595 - accuracy: 0.8723 - val_loss: 0.1215 - val_accuracy: 0.9672\n",
      "Epoch 2/10\n",
      "108/108 [==============================] - 21s 194ms/step - loss: 0.1078 - accuracy: 0.9677 - val_loss: 0.0739 - val_accuracy: 0.9785\n",
      "Epoch 3/10\n",
      "108/108 [==============================] - 21s 197ms/step - loss: 0.0700 - accuracy: 0.9790 - val_loss: 0.0529 - val_accuracy: 0.9853\n",
      "Epoch 4/10\n",
      "108/108 [==============================] - 21s 197ms/step - loss: 0.0537 - accuracy: 0.9837 - val_loss: 0.0479 - val_accuracy: 0.9877\n",
      "Epoch 5/10\n",
      "108/108 [==============================] - 22s 201ms/step - loss: 0.0454 - accuracy: 0.9862 - val_loss: 0.0439 - val_accuracy: 0.9863\n",
      "Epoch 6/10\n",
      "108/108 [==============================] - 22s 200ms/step - loss: 0.0392 - accuracy: 0.9880 - val_loss: 0.0372 - val_accuracy: 0.9888\n",
      "Epoch 7/10\n",
      "108/108 [==============================] - 22s 200ms/step - loss: 0.0335 - accuracy: 0.9900 - val_loss: 0.0377 - val_accuracy: 0.9892\n",
      "Epoch 8/10\n",
      "108/108 [==============================] - 22s 203ms/step - loss: 0.0289 - accuracy: 0.9911 - val_loss: 0.0368 - val_accuracy: 0.9897\n",
      "Epoch 9/10\n",
      "108/108 [==============================] - 22s 203ms/step - loss: 0.0260 - accuracy: 0.9918 - val_loss: 0.0358 - val_accuracy: 0.9892\n",
      "Epoch 10/10\n",
      "108/108 [==============================] - 22s 203ms/step - loss: 0.0224 - accuracy: 0.9928 - val_loss: 0.0336 - val_accuracy: 0.9912\n"
     ]
    },
    {
     "output_type": "execute_result",
     "data": {
      "text/plain": [
       "<tensorflow.python.keras.callbacks.History at 0x1ff55324f10>"
      ]
     },
     "metadata": {},
     "execution_count": 31
    }
   ],
   "source": [
    "model.fit(train_x, train_y,\n",
    "          batch_size=500,\n",
    "          epochs=10,\n",
    "          verbose=1,\n",
    "          validation_split=0.1,\n",
    "          callbacks=callbacks)"
   ]
  },
  {
   "cell_type": "code",
   "execution_count": 32,
   "metadata": {},
   "outputs": [
    {
     "output_type": "stream",
     "name": "stdout",
     "text": [
      "Test loss: 0.028669198974967003\nTest accuracy: 0.991100013256073\n"
     ]
    }
   ],
   "source": [
    "score = model.evaluate(val_x, val_y, verbose=0)\n",
    "print('Test loss:',score[0])\n",
    "print('Test accuracy:',score[1])"
   ]
  }
 ]
}