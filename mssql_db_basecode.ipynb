{
 "cells": [
  {
   "cell_type": "code",
   "execution_count": 2,
   "metadata": {},
   "outputs": [],
   "source": [
    "# DB에서 불러오기\r\n",
    "import pandas as pd\r\n",
    "pd.set_option('display.max_columns', None)\r\n",
    "# pd.set_option('display.max_rows', None)\r\n",
    "import numpy as np\r\n",
    "import sys\r\n",
    "from sqlalchemy import create_engine\r\n",
    "import pyodbc \r\n",
    "\r\n",
    "driver = \r\n",
    "server = \r\n",
    "database = \r\n",
    "username = \r\n",
    "password = \r\n",
    "\r\n",
    "conn = pyodbc.connect(f'Driver={driver};'\r\n",
    "                      f'Server={server};'\r\n",
    "                      f'Database={database};'\r\n",
    "                      f'uid={username};'\r\n",
    "                      f'pwd={password}')\r\n",
    "\r\n",
    "cursor = conn.cursor()\r\n",
    "pd.set_option(\"display.max_columns\",500)"
   ]
  },
  {
   "cell_type": "code",
   "execution_count": 1,
   "metadata": {},
   "outputs": [],
   "source": [
    "# ads data\r\n",
    "df = pd.read_sql_query('''SELECT * FROM ''',conn)\r\n",
    "df"
   ]
  },
  {
   "cell_type": "code",
   "execution_count": null,
   "metadata": {},
   "outputs": [],
   "source": []
  }
 ],
 "metadata": {
  "interpreter": {
   "hash": "183bbf6827d058c2a2fb0f4acdc0420849dda2b4380af0e437e38c64d798d8b7"
  },
  "kernelspec": {
   "display_name": "Python 3.8.10 64-bit ('base': conda)",
   "name": "python3"
  },
  "language_info": {
   "codemirror_mode": {
    "name": "ipython",
    "version": 3
   },
   "file_extension": ".py",
   "mimetype": "text/x-python",
   "name": "python",
   "nbconvert_exporter": "python",
   "pygments_lexer": "ipython3",
   "version": "3.8.10"
  },
  "orig_nbformat": 4
 },
 "nbformat": 4,
 "nbformat_minor": 2
}