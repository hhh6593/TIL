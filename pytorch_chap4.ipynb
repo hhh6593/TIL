{
  "nbformat": 4,
  "nbformat_minor": 0,
  "metadata": {
    "colab": {
      "name": "pytorch_chap4.ipynb",
      "provenance": [],
      "collapsed_sections": [],
      "authorship_tag": "ABX9TyNFeQuBbiotMEiT0uTqJrgY",
      "include_colab_link": true
    },
    "kernelspec": {
      "name": "python3",
      "display_name": "Python 3"
    },
    "language_info": {
      "name": "python"
    }
  },
  "cells": [
    {
      "cell_type": "markdown",
      "metadata": {
        "id": "view-in-github",
        "colab_type": "text"
      },
      "source": [
        "<a href=\"https://colab.research.google.com/github/hhh6593/TIL/blob/master/pytorch_chap4.ipynb\" target=\"_parent\"><img src=\"https://colab.research.google.com/assets/colab-badge.svg\" alt=\"Open In Colab\"/></a>"
      ]
    },
    {
      "cell_type": "code",
      "metadata": {
        "id": "pTV1ic43R1Rf"
      },
      "source": [
        "import numpy as np\n",
        "import matplotlib.pyplot as plt\n",
        "\n",
        "import torch\n",
        "import torch.nn as nn\n",
        "import torch.nn.functional as F\n",
        "from torchvision import transforms, datasets"
      ],
      "execution_count": 4,
      "outputs": []
    },
    {
      "cell_type": "code",
      "metadata": {
        "colab": {
          "base_uri": "https://localhost:8080/"
        },
        "id": "6yZPEtkeSLWP",
        "outputId": "aa6993f8-f3be-4d09-da8c-2a849c9f3fc8"
      },
      "source": [
        "#딥러닝 모델 설계 시 활용하는 장비 확인\n",
        "if torch.cuda.is_available():\n",
        "    device = torch.device('cuda')\n",
        "else:\n",
        "    device = torch.device('cpu')\n",
        "print(device)"
      ],
      "execution_count": 6,
      "outputs": [
        {
          "output_type": "stream",
          "text": [
            "cpu\n"
          ],
          "name": "stdout"
        }
      ]
    },
    {
      "cell_type": "code",
      "metadata": {
        "id": "cOuqAyU6Sksc"
      },
      "source": [
        "batch_size = 32 #mini batch 하나 당 32개의 데이터로 구성됌\n",
        "epochs = 10 #반복 횟수"
      ],
      "execution_count": 7,
      "outputs": []
    },
    {
      "cell_type": "code",
      "metadata": {
        "colab": {
          "base_uri": "https://localhost:8080/"
        },
        "id": "ZnotkPSvSp_D",
        "outputId": "04d7a6a3-02ca-42ba-8795-27c3a51ae859"
      },
      "source": [
        "train_dataset = datasets.CIFAR10(root = '../data/CIFAR_10',\n",
        "                                 train = True,\n",
        "                                 download = True,\n",
        "                                 transform = transforms.ToTensor())\n",
        "\n",
        "test_dataset = datasets.CIFAR10(root = '../data/CIFAR_10',\n",
        "                                train = False,\n",
        "                                transform = transforms.ToTensor())\n",
        "\n",
        "train_loader = torch.utils.data.DataLoader(dataset = train_dataset,\n",
        "                                           batch_size = batch_size,\n",
        "                                           shuffle = True) #이미지가 아닌 순서로 훈련을 하는 잘못된 방향으로 나아가는 것을 방지하기 위해 순서를 섞는 것.\n",
        "\n",
        "test_loader = torch.utils.data.DataLoader(dataset = test_dataset,\n",
        "                                          batch_size = batch_size,\n",
        "                                          shuffle = False)"
      ],
      "execution_count": 24,
      "outputs": [
        {
          "output_type": "stream",
          "text": [
            "Files already downloaded and verified\n"
          ],
          "name": "stdout"
        }
      ]
    },
    {
      "cell_type": "code",
      "metadata": {
        "colab": {
          "base_uri": "https://localhost:8080/"
        },
        "id": "8lsCpvZSTZOq",
        "outputId": "204a7d2f-338e-47d4-896d-4607eb42db6c"
      },
      "source": [
        "#데이터 확인하기 1\n",
        "for (x_train, y_train) in train_loader:\n",
        "    print('x_train :', x_train.size, 'tpye :',x_train.type())\n",
        "    print('y_train :', y_train.size, 'type :',y_train.type())\n",
        "    break"
      ],
      "execution_count": 25,
      "outputs": [
        {
          "output_type": "stream",
          "text": [
            "x_train : <built-in method size of Tensor object at 0x7f5e34296230> tpye : torch.FloatTensor\n",
            "y_train : <built-in method size of Tensor object at 0x7f5e34e5d640> type : torch.LongTensor\n"
          ],
          "name": "stdout"
        }
      ]
    },
    {
      "cell_type": "code",
      "metadata": {
        "colab": {
          "base_uri": "https://localhost:8080/",
          "height": 94
        },
        "id": "cdcbKBisTxN9",
        "outputId": "2ebc7fce-a5e1-4969-9df3-4e72ac137af9"
      },
      "source": [
        "#데이터 확인하기 2 (시각화)\n",
        "pltsize = 1\n",
        "plt.figure(figsize=(10*pltsize, pltsize))\n",
        "\n",
        "for i in range(10):\n",
        "    plt.subplot(1, 10, i+1)\n",
        "    plt.axis('off')\n",
        "    plt.imshow(np.transpose(x_train[i],(1, 2, 0)))\n",
        "    plt.title('Class :'+str(y_train[i].item()))"
      ],
      "execution_count": 26,
      "outputs": [
        {
          "output_type": "display_data",
          "data": {
            "image/png": "[encoded data removed]",
            "text/plain": [
              "<Figure size 720x72 with 10 Axes>"
            ]
          },
          "metadata": {
            "tags": [],
            "needs_background": "light"
          }
        }
      ]
    },
    {
      "cell_type": "code",
      "metadata": {
        "id": "NixKIMcNUK8N"
      },
      "source": [
        "#MLP 모델 설계\n",
        "class Net(nn.Module):\n",
        "    def __init__(self):\n",
        "        super(Net, self).__init__()  #nn.Module에 있는 모델을 상속받아 사용\n",
        "        self.fc1 = nn.Linear(32 * 32 * 3, 512)  #가로 픽셀 수 * 세로 픽셀 수 * 채널 수, 두번째 Fully Connected Layer(fcl) 노드 수 512개\n",
        "        self.fc2 = nn.Linear(512, 256) #세번째 fcl의 노드수를 256개로 설정\n",
        "        self.fc3 = nn.Linear(256, 10)  #output 노드 수 10개로 설정(클래스가 10개로 나뉘기 때문)\n",
        "\n",
        "    def forward(self, x):  #역전파 정의\n",
        "        x = x.view(-1, 32 * 32 * 3) #MLP모델은 1차원 벡터 값을 입력값으로 받기 때문에 2차원의 이미지 데이터를 1차원으로 변환(Flatten)\n",
        "        x = self.fc1(x) #첫번째 fcl에 1차원 데이터 통과\n",
        "        x = F.relu(x)   #ReLu 활성화 함수 적용\n",
        "        x = self.fc2(x)\n",
        "        x = F.relu(x)\n",
        "        x = self.fc3(x)\n",
        "        x = F.log_softmax(x, dim = 1) #최종 output 계산\n",
        "        return x"
      ],
      "execution_count": 27,
      "outputs": []
    },
    {
      "cell_type": "code",
      "metadata": {
        "colab": {
          "base_uri": "https://localhost:8080/"
        },
        "id": "-bFi7KXsU4Ju",
        "outputId": "37177500-2dc4-4915-85c6-e278a1303fd3"
      },
      "source": [
        "model = Net().to(device)\n",
        "optimizer = torch.optim.Adam(model.parameters(), lr = 0.001) #역전파에 이용될 옵티마이저 정의\n",
        "criterion= nn.CrossEntropyLoss() #output값이 onehotencoding으로 계산되어 이의 loss값을 계산하기 위한 crossentropy 정의\n",
        "\n",
        "print(model)"
      ],
      "execution_count": 28,
      "outputs": [
        {
          "output_type": "stream",
          "text": [
            "Net(\n",
            "  (fc1): Linear(in_features=3072, out_features=512, bias=True)\n",
            "  (fc2): Linear(in_features=512, out_features=256, bias=True)\n",
            "  (fc3): Linear(in_features=256, out_features=10, bias=True)\n",
            ")\n"
          ],
          "name": "stdout"
        }
      ]
    },
    {
      "cell_type": "code",
      "metadata": {
        "id": "-pl9ktIEVJSF"
      },
      "source": [
        "#모델 성능을 확인하기 위한 함수 정의\n",
        "def train(model, train_loader, optimizer, log_interval):\n",
        "    model.train()\n",
        "    for batch_idx, (image, label) in enumerate(train_loader):\n",
        "        image = image.to(device)\n",
        "        label = label.to(device)\n",
        "        optimizer.zero_grad()\n",
        "        output = model(image)\n",
        "        loss = criterion(output, label)\n",
        "        loss.backward()\n",
        "        optimizer.step()\n",
        "\n",
        "        if batch_idx % log_interval == 0:\n",
        "            print('Train Epoch : {} [{}/{}({:.0f}%)] \\tTrain Loss : {:.6f}'.format(epoch, batch_idx * len(image), len(train_loader.dataset), 100. * batch_idx / len(train_loader), loss.item()))"
      ],
      "execution_count": 29,
      "outputs": []
    },
    {
      "cell_type": "code",
      "metadata": {
        "id": "BS6UM2xSWPJ1"
      },
      "source": [
        "def evaluate(model, test_loader):\n",
        "    model.train()\n",
        "    test_loss = 0\n",
        "    correct = 0\n",
        "    with torch.no_grad():\n",
        "        for image, label in test_loader:\n",
        "            image = image.to(device)\n",
        "            label = label.to(device)\n",
        "            output = model(image)\n",
        "            test_loss += criterion(output, label).item()\n",
        "            prediction = output.max(1, keepdim = True)[1]\n",
        "            correct += prediction.eq(label.view_as(prediction)).sum().item()\n",
        "\n",
        "    test_loss /= len(test_loader.dataset)\n",
        "    test_accuracy = 100. * correct / len(test_loader.dataset)\n",
        "    return test_loss, test_accuracy"
      ],
      "execution_count": 30,
      "outputs": []
    },
    {
      "cell_type": "code",
      "metadata": {
        "colab": {
          "base_uri": "https://localhost:8080/"
        },
        "id": "9wSleRHyW-SO",
        "outputId": "df46057e-d470-459e-b427-ee6c38a93b59"
      },
      "source": [
        "for epoch in range(1, epochs + 1):\n",
        "    train(model, train_loader ,optimizer, log_interval=200)\n",
        "    test_loss, test_accuracy = evaluate(model, test_loader)\n",
        "    print('\\n[EPOCH : {}], \\tTest Loss : {:.4f}, \\tTest Accuracy : {:.2f} % \\n'.format(epoch, test_loss, test_accuracy))"
      ],
      "execution_count": 31,
      "outputs": [
        {
          "output_type": "stream",
          "text": [
            "Train Epoch : 1 [0/50000(0%)] \tTrain Loss : 2.304235\n",
            "Train Epoch : 1 [6400/50000(13%)] \tTrain Loss : 1.845717\n",
            "Train Epoch : 1 [12800/50000(26%)] \tTrain Loss : 1.737504\n",
            "Train Epoch : 1 [19200/50000(38%)] \tTrain Loss : 1.722758\n",
            "Train Epoch : 1 [25600/50000(51%)] \tTrain Loss : 1.700278\n",
            "Train Epoch : 1 [32000/50000(64%)] \tTrain Loss : 2.007380\n",
            "Train Epoch : 1 [38400/50000(77%)] \tTrain Loss : 1.812425\n",
            "Train Epoch : 1 [44800/50000(90%)] \tTrain Loss : 1.989174\n",
            "\n",
            "[EPOCH : 1], \tTest Loss : 0.0524, \tTest Accuracy : 39.64 % \n",
            "\n",
            "Train Epoch : 2 [0/50000(0%)] \tTrain Loss : 1.629825\n",
            "Train Epoch : 2 [6400/50000(13%)] \tTrain Loss : 1.539872\n",
            "Train Epoch : 2 [12800/50000(26%)] \tTrain Loss : 1.865979\n",
            "Train Epoch : 2 [19200/50000(38%)] \tTrain Loss : 1.541514\n",
            "Train Epoch : 2 [25600/50000(51%)] \tTrain Loss : 1.894360\n",
            "Train Epoch : 2 [32000/50000(64%)] \tTrain Loss : 1.983631\n",
            "Train Epoch : 2 [38400/50000(77%)] \tTrain Loss : 1.458342\n",
            "Train Epoch : 2 [44800/50000(90%)] \tTrain Loss : 1.585645\n",
            "\n",
            "[EPOCH : 2], \tTest Loss : 0.0503, \tTest Accuracy : 43.14 % \n",
            "\n",
            "Train Epoch : 3 [0/50000(0%)] \tTrain Loss : 1.433684\n",
            "Train Epoch : 3 [6400/50000(13%)] \tTrain Loss : 1.595862\n",
            "Train Epoch : 3 [12800/50000(26%)] \tTrain Loss : 1.796883\n",
            "Train Epoch : 3 [19200/50000(38%)] \tTrain Loss : 1.571996\n",
            "Train Epoch : 3 [25600/50000(51%)] \tTrain Loss : 1.652349\n",
            "Train Epoch : 3 [32000/50000(64%)] \tTrain Loss : 1.597174\n",
            "Train Epoch : 3 [38400/50000(77%)] \tTrain Loss : 1.494576\n",
            "Train Epoch : 3 [44800/50000(90%)] \tTrain Loss : 1.663074\n",
            "\n",
            "[EPOCH : 3], \tTest Loss : 0.0485, \tTest Accuracy : 44.51 % \n",
            "\n",
            "Train Epoch : 4 [0/50000(0%)] \tTrain Loss : 1.847301\n",
            "Train Epoch : 4 [6400/50000(13%)] \tTrain Loss : 1.466109\n",
            "Train Epoch : 4 [12800/50000(26%)] \tTrain Loss : 1.728857\n",
            "Train Epoch : 4 [19200/50000(38%)] \tTrain Loss : 1.723069\n",
            "Train Epoch : 4 [25600/50000(51%)] \tTrain Loss : 1.477168\n",
            "Train Epoch : 4 [32000/50000(64%)] \tTrain Loss : 1.740992\n",
            "Train Epoch : 4 [38400/50000(77%)] \tTrain Loss : 1.622631\n",
            "Train Epoch : 4 [44800/50000(90%)] \tTrain Loss : 1.375986\n",
            "\n",
            "[EPOCH : 4], \tTest Loss : 0.0474, \tTest Accuracy : 46.25 % \n",
            "\n",
            "Train Epoch : 5 [0/50000(0%)] \tTrain Loss : 1.630430\n",
            "Train Epoch : 5 [6400/50000(13%)] \tTrain Loss : 1.349495\n",
            "Train Epoch : 5 [12800/50000(26%)] \tTrain Loss : 1.422835\n",
            "Train Epoch : 5 [19200/50000(38%)] \tTrain Loss : 1.194673\n",
            "Train Epoch : 5 [25600/50000(51%)] \tTrain Loss : 1.447124\n",
            "Train Epoch : 5 [32000/50000(64%)] \tTrain Loss : 1.313237\n",
            "Train Epoch : 5 [38400/50000(77%)] \tTrain Loss : 1.483483\n",
            "Train Epoch : 5 [44800/50000(90%)] \tTrain Loss : 1.115116\n",
            "\n",
            "[EPOCH : 5], \tTest Loss : 0.0470, \tTest Accuracy : 46.39 % \n",
            "\n",
            "Train Epoch : 6 [0/50000(0%)] \tTrain Loss : 1.435036\n",
            "Train Epoch : 6 [6400/50000(13%)] \tTrain Loss : 1.242844\n",
            "Train Epoch : 6 [12800/50000(26%)] \tTrain Loss : 1.404813\n",
            "Train Epoch : 6 [19200/50000(38%)] \tTrain Loss : 1.292179\n",
            "Train Epoch : 6 [25600/50000(51%)] \tTrain Loss : 1.372546\n",
            "Train Epoch : 6 [32000/50000(64%)] \tTrain Loss : 1.382469\n",
            "Train Epoch : 6 [38400/50000(77%)] \tTrain Loss : 1.702094\n",
            "Train Epoch : 6 [44800/50000(90%)] \tTrain Loss : 1.437869\n",
            "\n",
            "[EPOCH : 6], \tTest Loss : 0.0467, \tTest Accuracy : 47.45 % \n",
            "\n",
            "Train Epoch : 7 [0/50000(0%)] \tTrain Loss : 1.413951\n",
            "Train Epoch : 7 [6400/50000(13%)] \tTrain Loss : 1.605754\n",
            "Train Epoch : 7 [12800/50000(26%)] \tTrain Loss : 1.138701\n",
            "Train Epoch : 7 [19200/50000(38%)] \tTrain Loss : 1.198173\n",
            "Train Epoch : 7 [25600/50000(51%)] \tTrain Loss : 1.294973\n",
            "Train Epoch : 7 [32000/50000(64%)] \tTrain Loss : 1.558595\n",
            "Train Epoch : 7 [38400/50000(77%)] \tTrain Loss : 1.552543\n",
            "Train Epoch : 7 [44800/50000(90%)] \tTrain Loss : 1.683730\n",
            "\n",
            "[EPOCH : 7], \tTest Loss : 0.0458, \tTest Accuracy : 48.37 % \n",
            "\n",
            "Train Epoch : 8 [0/50000(0%)] \tTrain Loss : 1.212263\n",
            "Train Epoch : 8 [6400/50000(13%)] \tTrain Loss : 1.182067\n",
            "Train Epoch : 8 [12800/50000(26%)] \tTrain Loss : 1.263170\n",
            "Train Epoch : 8 [19200/50000(38%)] \tTrain Loss : 1.337513\n",
            "Train Epoch : 8 [25600/50000(51%)] \tTrain Loss : 0.846260\n",
            "Train Epoch : 8 [32000/50000(64%)] \tTrain Loss : 1.467362\n",
            "Train Epoch : 8 [38400/50000(77%)] \tTrain Loss : 1.330831\n",
            "Train Epoch : 8 [44800/50000(90%)] \tTrain Loss : 1.487210\n",
            "\n",
            "[EPOCH : 8], \tTest Loss : 0.0468, \tTest Accuracy : 46.42 % \n",
            "\n",
            "Train Epoch : 9 [0/50000(0%)] \tTrain Loss : 1.378180\n",
            "Train Epoch : 9 [6400/50000(13%)] \tTrain Loss : 1.268663\n",
            "Train Epoch : 9 [12800/50000(26%)] \tTrain Loss : 1.109644\n",
            "Train Epoch : 9 [19200/50000(38%)] \tTrain Loss : 1.395951\n",
            "Train Epoch : 9 [25600/50000(51%)] \tTrain Loss : 1.613197\n",
            "Train Epoch : 9 [32000/50000(64%)] \tTrain Loss : 1.457442\n",
            "Train Epoch : 9 [38400/50000(77%)] \tTrain Loss : 1.527405\n",
            "Train Epoch : 9 [44800/50000(90%)] \tTrain Loss : 1.654547\n",
            "\n",
            "[EPOCH : 9], \tTest Loss : 0.0468, \tTest Accuracy : 47.43 % \n",
            "\n",
            "Train Epoch : 10 [0/50000(0%)] \tTrain Loss : 1.740891\n",
            "Train Epoch : 10 [6400/50000(13%)] \tTrain Loss : 1.358795\n",
            "Train Epoch : 10 [12800/50000(26%)] \tTrain Loss : 0.978765\n",
            "Train Epoch : 10 [19200/50000(38%)] \tTrain Loss : 1.556136\n",
            "Train Epoch : 10 [25600/50000(51%)] \tTrain Loss : 1.495067\n",
            "Train Epoch : 10 [32000/50000(64%)] \tTrain Loss : 1.252165\n",
            "Train Epoch : 10 [38400/50000(77%)] \tTrain Loss : 0.893681\n",
            "Train Epoch : 10 [44800/50000(90%)] \tTrain Loss : 1.067811\n",
            "\n",
            "[EPOCH : 10], \tTest Loss : 0.0463, \tTest Accuracy : 47.02 % \n",
            "\n"
          ],
          "name": "stdout"
        }
      ]
    },
    {
      "cell_type": "code",
      "metadata": {
        "id": "k39YE8vsXoSF"
      },
      "source": [
        "#CNN 모델링\n",
        "class CNN(nn.Module):\n",
        "    def __init__(self):\n",
        "        super(CNN, self).__init__()\n",
        "        self.conv1 = nn.Conv2d( #convolution 연산을 하는 filter 정의\n",
        "            in_channels = 3,  #이미지의 채널수와 동일하게 맞춰주어야 함(RGB = 3)\n",
        "            out_channels = 8, #feature map을 8개로 설정\n",
        "            kernel_size = 3,  #filter size\n",
        "            padding = 1) #이미지의 구석부분이 상대적으로 덜 연산되기 때문에 가장자리를 0으로 채워주는 것\n",
        "        self.conv2 = nn.Conv2d(\n",
        "            in_channels = 8, #feature map의 채널 수와 동일하게 설정\n",
        "            out_channels = 16, #feature map의 개수 설정\n",
        "            kernel_size = 3,\n",
        "            padding = 1)\n",
        "        self.pool = nn.MaxPool2d( #차원의 크기를 줄이기 위해 filter의 최대값만을 뽑늑 서\n",
        "            kernel_size = 2,\n",
        "            stride = 2) #filter가 maxpooling 과정에서 움직이는 단위 설정\n",
        "        self.fc1 = nn.Linear(8 * 8 * 16, 64) #conv1과 conv2 연산을 이용한 결과를 바탕으로 생성된 feature map의 크기 (forward에서 계산된 결과), 두번째 노드 수 64\n",
        "        self.fc2 = nn.Linear(64, 32) #세번째 노드 수 32\n",
        "        self.fc3 = nn.Linear(32, 10) #output 노드 수 10개\n",
        "    \n",
        "    def forward(self, x):\n",
        "        x = self.conv1(x)\n",
        "        x = F.relu(x)\n",
        "        x = self.pool(x)\n",
        "        x = self.conv2(x)\n",
        "        x = F.relu(x)\n",
        "        x = self.pool(x)\n",
        "\n",
        "        x = x.view(-1, 8 * 8 * 16)\n",
        "        x = self.fc1(x)\n",
        "        x = F.relu(x)\n",
        "        x = self.fc2(x)\n",
        "        x = F.relu(x)\n",
        "        x = self.fc3(x)\n",
        "        x = F.log_softmax(x)\n",
        "        return x\n"
      ],
      "execution_count": 43,
      "outputs": []
    },
    {
      "cell_type": "code",
      "metadata": {
        "colab": {
          "base_uri": "https://localhost:8080/"
        },
        "id": "lM0DmUr-gUbF",
        "outputId": "7490dcf3-d895-4642-fc2e-01611bc64720"
      },
      "source": [
        "model = CNN()\n",
        "optimizer = torch.optim.Adam(model.parameters(), lr = 0.001)\n",
        "criterion= nn.CrossEntropyLoss()\n",
        "\n",
        "print(model)"
      ],
      "execution_count": 44,
      "outputs": [
        {
          "output_type": "stream",
          "text": [
            "CNN(\n",
            "  (conv1): Conv2d(3, 8, kernel_size=(3, 3), stride=(1, 1), padding=(1, 1))\n",
            "  (conv2): Conv2d(8, 16, kernel_size=(3, 3), stride=(1, 1), padding=(1, 1))\n",
            "  (pool): MaxPool2d(kernel_size=2, stride=2, padding=0, dilation=1, ceil_mode=False)\n",
            "  (fc1): Linear(in_features=1024, out_features=64, bias=True)\n",
            "  (fc2): Linear(in_features=64, out_features=32, bias=True)\n",
            "  (fc3): Linear(in_features=32, out_features=10, bias=True)\n",
            ")\n"
          ],
          "name": "stdout"
        }
      ]
    },
    {
      "cell_type": "code",
      "metadata": {
        "colab": {
          "base_uri": "https://localhost:8080/"
        },
        "id": "FKoG5nB9gsZP",
        "outputId": "858133ef-fa42-411c-e1a9-8b8b13e51733"
      },
      "source": [
        "for epoch in range(1, epochs + 1):\n",
        "    train(model, train_loader ,optimizer, log_interval=200)\n",
        "    test_loss, test_accuracy = evaluate(model, test_loader)\n",
        "    print('\\n[EPOCH : {}], \\tTest Loss : {:.4f}, \\tTest Accuracy : {:.2f} % \\n'.format(epoch, test_loss, test_accuracy))"
      ],
      "execution_count": 45,
      "outputs": [
        {
          "output_type": "stream",
          "text": [
            "/usr/local/lib/python3.7/dist-packages/ipykernel_launcher.py:35: UserWarning: Implicit dimension choice for log_softmax has been deprecated. Change the call to include dim=X as an argument.\n"
          ],
          "name": "stderr"
        },
        {
          "output_type": "stream",
          "text": [
            "Train Epoch : 1 [0/50000(0%)] \tTrain Loss : 2.296816\n",
            "Train Epoch : 1 [6400/50000(13%)] \tTrain Loss : 1.924620\n",
            "Train Epoch : 1 [12800/50000(26%)] \tTrain Loss : 2.092261\n",
            "Train Epoch : 1 [19200/50000(38%)] \tTrain Loss : 1.675307\n",
            "Train Epoch : 1 [25600/50000(51%)] \tTrain Loss : 1.398693\n",
            "Train Epoch : 1 [32000/50000(64%)] \tTrain Loss : 1.374489\n",
            "Train Epoch : 1 [38400/50000(77%)] \tTrain Loss : 1.556710\n",
            "Train Epoch : 1 [44800/50000(90%)] \tTrain Loss : 1.687429\n",
            "\n",
            "[EPOCH : 1], \tTest Loss : 0.0443, \tTest Accuracy : 49.32 % \n",
            "\n",
            "Train Epoch : 2 [0/50000(0%)] \tTrain Loss : 1.333099\n",
            "Train Epoch : 2 [6400/50000(13%)] \tTrain Loss : 1.373902\n",
            "Train Epoch : 2 [12800/50000(26%)] \tTrain Loss : 1.117997\n",
            "Train Epoch : 2 [19200/50000(38%)] \tTrain Loss : 1.322187\n",
            "Train Epoch : 2 [25600/50000(51%)] \tTrain Loss : 0.997992\n",
            "Train Epoch : 2 [32000/50000(64%)] \tTrain Loss : 1.581158\n",
            "Train Epoch : 2 [38400/50000(77%)] \tTrain Loss : 1.391220\n",
            "Train Epoch : 2 [44800/50000(90%)] \tTrain Loss : 1.059219\n",
            "\n",
            "[EPOCH : 2], \tTest Loss : 0.0407, \tTest Accuracy : 52.92 % \n",
            "\n",
            "Train Epoch : 3 [0/50000(0%)] \tTrain Loss : 1.219059\n",
            "Train Epoch : 3 [6400/50000(13%)] \tTrain Loss : 1.192728\n",
            "Train Epoch : 3 [12800/50000(26%)] \tTrain Loss : 1.458768\n",
            "Train Epoch : 3 [19200/50000(38%)] \tTrain Loss : 1.024924\n",
            "Train Epoch : 3 [25600/50000(51%)] \tTrain Loss : 1.159223\n",
            "Train Epoch : 3 [32000/50000(64%)] \tTrain Loss : 0.947777\n",
            "Train Epoch : 3 [38400/50000(77%)] \tTrain Loss : 1.160956\n",
            "Train Epoch : 3 [44800/50000(90%)] \tTrain Loss : 1.324457\n",
            "\n",
            "[EPOCH : 3], \tTest Loss : 0.0361, \tTest Accuracy : 59.27 % \n",
            "\n",
            "Train Epoch : 4 [0/50000(0%)] \tTrain Loss : 1.112776\n",
            "Train Epoch : 4 [6400/50000(13%)] \tTrain Loss : 1.546757\n",
            "Train Epoch : 4 [12800/50000(26%)] \tTrain Loss : 1.265159\n",
            "Train Epoch : 4 [19200/50000(38%)] \tTrain Loss : 1.209518\n",
            "Train Epoch : 4 [25600/50000(51%)] \tTrain Loss : 1.278462\n",
            "Train Epoch : 4 [32000/50000(64%)] \tTrain Loss : 1.063259\n",
            "Train Epoch : 4 [38400/50000(77%)] \tTrain Loss : 1.252750\n",
            "Train Epoch : 4 [44800/50000(90%)] \tTrain Loss : 0.888820\n",
            "\n",
            "[EPOCH : 4], \tTest Loss : 0.0357, \tTest Accuracy : 59.60 % \n",
            "\n",
            "Train Epoch : 5 [0/50000(0%)] \tTrain Loss : 0.942233\n",
            "Train Epoch : 5 [6400/50000(13%)] \tTrain Loss : 1.258388\n",
            "Train Epoch : 5 [12800/50000(26%)] \tTrain Loss : 1.170532\n",
            "Train Epoch : 5 [19200/50000(38%)] \tTrain Loss : 1.057906\n",
            "Train Epoch : 5 [25600/50000(51%)] \tTrain Loss : 0.886438\n",
            "Train Epoch : 5 [32000/50000(64%)] \tTrain Loss : 0.834556\n",
            "Train Epoch : 5 [38400/50000(77%)] \tTrain Loss : 0.867337\n",
            "Train Epoch : 5 [44800/50000(90%)] \tTrain Loss : 1.033257\n",
            "\n",
            "[EPOCH : 5], \tTest Loss : 0.0370, \tTest Accuracy : 58.38 % \n",
            "\n",
            "Train Epoch : 6 [0/50000(0%)] \tTrain Loss : 1.099949\n",
            "Train Epoch : 6 [6400/50000(13%)] \tTrain Loss : 1.077292\n",
            "Train Epoch : 6 [12800/50000(26%)] \tTrain Loss : 1.118393\n",
            "Train Epoch : 6 [19200/50000(38%)] \tTrain Loss : 1.549674\n",
            "Train Epoch : 6 [25600/50000(51%)] \tTrain Loss : 1.049376\n",
            "Train Epoch : 6 [32000/50000(64%)] \tTrain Loss : 0.914567\n",
            "Train Epoch : 6 [38400/50000(77%)] \tTrain Loss : 0.951315\n",
            "Train Epoch : 6 [44800/50000(90%)] \tTrain Loss : 0.719812\n",
            "\n",
            "[EPOCH : 6], \tTest Loss : 0.0338, \tTest Accuracy : 62.13 % \n",
            "\n",
            "Train Epoch : 7 [0/50000(0%)] \tTrain Loss : 1.107744\n",
            "Train Epoch : 7 [6400/50000(13%)] \tTrain Loss : 0.987140\n",
            "Train Epoch : 7 [12800/50000(26%)] \tTrain Loss : 1.218218\n",
            "Train Epoch : 7 [19200/50000(38%)] \tTrain Loss : 0.791999\n",
            "Train Epoch : 7 [25600/50000(51%)] \tTrain Loss : 1.135850\n",
            "Train Epoch : 7 [32000/50000(64%)] \tTrain Loss : 1.079127\n",
            "Train Epoch : 7 [38400/50000(77%)] \tTrain Loss : 0.680352\n",
            "Train Epoch : 7 [44800/50000(90%)] \tTrain Loss : 1.137674\n",
            "\n",
            "[EPOCH : 7], \tTest Loss : 0.0327, \tTest Accuracy : 63.20 % \n",
            "\n",
            "Train Epoch : 8 [0/50000(0%)] \tTrain Loss : 0.989743\n",
            "Train Epoch : 8 [6400/50000(13%)] \tTrain Loss : 0.954148\n",
            "Train Epoch : 8 [12800/50000(26%)] \tTrain Loss : 1.272536\n",
            "Train Epoch : 8 [19200/50000(38%)] \tTrain Loss : 0.862543\n",
            "Train Epoch : 8 [25600/50000(51%)] \tTrain Loss : 0.782322\n",
            "Train Epoch : 8 [32000/50000(64%)] \tTrain Loss : 1.042804\n",
            "Train Epoch : 8 [38400/50000(77%)] \tTrain Loss : 0.941171\n",
            "Train Epoch : 8 [44800/50000(90%)] \tTrain Loss : 0.945904\n",
            "\n",
            "[EPOCH : 8], \tTest Loss : 0.0328, \tTest Accuracy : 63.15 % \n",
            "\n",
            "Train Epoch : 9 [0/50000(0%)] \tTrain Loss : 0.998744\n",
            "Train Epoch : 9 [6400/50000(13%)] \tTrain Loss : 0.916550\n",
            "Train Epoch : 9 [12800/50000(26%)] \tTrain Loss : 0.767409\n",
            "Train Epoch : 9 [19200/50000(38%)] \tTrain Loss : 0.840217\n",
            "Train Epoch : 9 [25600/50000(51%)] \tTrain Loss : 0.800106\n",
            "Train Epoch : 9 [32000/50000(64%)] \tTrain Loss : 1.118104\n",
            "Train Epoch : 9 [38400/50000(77%)] \tTrain Loss : 1.011719\n",
            "Train Epoch : 9 [44800/50000(90%)] \tTrain Loss : 0.966082\n",
            "\n",
            "[EPOCH : 9], \tTest Loss : 0.0320, \tTest Accuracy : 64.19 % \n",
            "\n",
            "Train Epoch : 10 [0/50000(0%)] \tTrain Loss : 0.787161\n",
            "Train Epoch : 10 [6400/50000(13%)] \tTrain Loss : 0.983156\n",
            "Train Epoch : 10 [12800/50000(26%)] \tTrain Loss : 1.316643\n",
            "Train Epoch : 10 [19200/50000(38%)] \tTrain Loss : 0.932587\n",
            "Train Epoch : 10 [25600/50000(51%)] \tTrain Loss : 0.957449\n",
            "Train Epoch : 10 [32000/50000(64%)] \tTrain Loss : 0.904216\n",
            "Train Epoch : 10 [38400/50000(77%)] \tTrain Loss : 1.283024\n",
            "Train Epoch : 10 [44800/50000(90%)] \tTrain Loss : 0.889774\n",
            "\n",
            "[EPOCH : 10], \tTest Loss : 0.0322, \tTest Accuracy : 64.28 % \n",
            "\n"
          ],
          "name": "stdout"
        }
      ]
    },
    {
      "cell_type": "code",
      "metadata": {
        "colab": {
          "base_uri": "https://localhost:8080/"
        },
        "id": "PnMWM-9Kgss0",
        "outputId": "31121445-0972-4884-c1f6-592064f8f9ee"
      },
      "source": [
        "#데이터 증감 - Data Augmentation - 데이터 inbalance를 맞춰주기 위한 기법\n",
        "train_dataset = datasets.CIFAR10(root = '../data/CIFAR_10',\n",
        "                                 train = True,\n",
        "                                 download = True,\n",
        "                                 transform = transforms.Compose([transforms.RandomCrop(16),\n",
        "                                                                 transforms.RandomHorizontalFlip(),\n",
        "                                                                 transforms.ToTensor(),\n",
        "                                                                 transforms.Normalize((0.5, 0.5, 0.5), (0.5, 0.5, 0.5))]))\n",
        "\n",
        "test_dataset = datasets.CIFAR10(root = '../data/CIFAR_10',\n",
        "                                train = False,\n",
        "                                transform = transforms.Compose([\n",
        "                                                                 transforms.RandomHorizontalFlip(),\n",
        "                                                                 transforms.ToTensor(),\n",
        "                                                                 transforms.Normalize((0.5, 0.5, 0.5),(0.5, 0.5, 0.5))]))\n",
        "\n",
        "train_loader = torch.utils.data.DataLoader(dataset = train_dataset,\n",
        "                                           batch_size = batch_size,\n",
        "                                           shuffle = True)\n",
        "\n",
        "test_loader = torch.utils.data.DataLoader(dataset = test_dataset,\n",
        "                                          batch_size = batch_size,\n",
        "                                          shuffle = False)"
      ],
      "execution_count": 58,
      "outputs": [
        {
          "output_type": "stream",
          "text": [
            "Files already downloaded and verified\n"
          ],
          "name": "stdout"
        }
      ]
    },
    {
      "cell_type": "code",
      "metadata": {
        "id": "YO2uHiRHmMCW"
      },
      "source": [
        "import torchvision"
      ],
      "execution_count": 60,
      "outputs": []
    },
    {
      "cell_type": "code",
      "metadata": {
        "colab": {
          "base_uri": "https://localhost:8080/",
          "height": 389
        },
        "id": "sdzqMZXElUAP",
        "outputId": "5e29daea-3030-4d37-b2ea-800ef4866990"
      },
      "source": [
        "#데이터 증강 시각화\n",
        "def imshow(img):\n",
        "    img = img / 2 + 0.5     # unnormalize\n",
        "    npimg = img.numpy()\n",
        "    plt.imshow(np.transpose(npimg, (1, 2, 0)))\n",
        "    plt.show()\n",
        "\n",
        "dataiter = iter(train_loader)\n",
        "images, labels = dataiter.next()\n",
        "\n",
        "plt.figure(figsize=(12,10))\n",
        "imshow(torchvision.utils.make_grid(images))\n",
        "plt.show()"
      ],
      "execution_count": 61,
      "outputs": [
        {
          "output_type": "display_data",
          "data": {
            "image/png": "[encoded data removed]",
            "text/plain": [
              "<Figure size 864x720 with 1 Axes>"
            ]
          },
          "metadata": {
            "tags": [],
            "needs_background": "light"
          }
        }
      ]
    },
    {
      "cell_type": "code",
      "metadata": {
        "colab": {
          "base_uri": "https://localhost:8080/"
        },
        "id": "OM55lcfTjCHG",
        "outputId": "c14f75fe-996e-4a0a-8685-9793057747ad"
      },
      "source": [
        "for epoch in range(1, epochs + 1):\n",
        "    train(model, train_loader ,optimizer, log_interval=200)\n",
        "    test_loss, test_accuracy = evaluate(model, test_loader)\n",
        "    print('\\n[EPOCH : {}], \\tTest Loss : {:.4f}, \\tTest Accuracy : {:.2f} % \\n'.format(epoch, test_loss, test_accuracy))"
      ],
      "execution_count": 50,
      "outputs": [
        {
          "output_type": "stream",
          "text": [
            "/usr/local/lib/python3.7/dist-packages/ipykernel_launcher.py:35: UserWarning: Implicit dimension choice for log_softmax has been deprecated. Change the call to include dim=X as an argument.\n"
          ],
          "name": "stderr"
        },
        {
          "output_type": "stream",
          "text": [
            "Train Epoch : 1 [0/50000(0%)] \tTrain Loss : 2.190090\n",
            "Train Epoch : 1 [6400/50000(13%)] \tTrain Loss : 0.948573\n",
            "Train Epoch : 1 [12800/50000(26%)] \tTrain Loss : 1.297717\n",
            "Train Epoch : 1 [19200/50000(38%)] \tTrain Loss : 1.016951\n",
            "Train Epoch : 1 [25600/50000(51%)] \tTrain Loss : 0.853927\n",
            "Train Epoch : 1 [32000/50000(64%)] \tTrain Loss : 0.850125\n",
            "Train Epoch : 1 [38400/50000(77%)] \tTrain Loss : 0.789361\n",
            "Train Epoch : 1 [44800/50000(90%)] \tTrain Loss : 0.863423\n",
            "\n",
            "[EPOCH : 1], \tTest Loss : 0.0324, \tTest Accuracy : 63.93 % \n",
            "\n",
            "Train Epoch : 2 [0/50000(0%)] \tTrain Loss : 1.027305\n",
            "Train Epoch : 2 [6400/50000(13%)] \tTrain Loss : 0.653336\n",
            "Train Epoch : 2 [12800/50000(26%)] \tTrain Loss : 0.963527\n",
            "Train Epoch : 2 [19200/50000(38%)] \tTrain Loss : 1.031267\n",
            "Train Epoch : 2 [25600/50000(51%)] \tTrain Loss : 1.121586\n",
            "Train Epoch : 2 [32000/50000(64%)] \tTrain Loss : 1.043623\n",
            "Train Epoch : 2 [38400/50000(77%)] \tTrain Loss : 0.816980\n",
            "Train Epoch : 2 [44800/50000(90%)] \tTrain Loss : 0.907581\n",
            "\n",
            "[EPOCH : 2], \tTest Loss : 0.0311, \tTest Accuracy : 65.69 % \n",
            "\n",
            "Train Epoch : 3 [0/50000(0%)] \tTrain Loss : 1.111045\n",
            "Train Epoch : 3 [6400/50000(13%)] \tTrain Loss : 0.915594\n",
            "Train Epoch : 3 [12800/50000(26%)] \tTrain Loss : 0.947113\n",
            "Train Epoch : 3 [19200/50000(38%)] \tTrain Loss : 1.139647\n",
            "Train Epoch : 3 [25600/50000(51%)] \tTrain Loss : 0.698060\n",
            "Train Epoch : 3 [32000/50000(64%)] \tTrain Loss : 0.676149\n",
            "Train Epoch : 3 [38400/50000(77%)] \tTrain Loss : 0.782346\n",
            "Train Epoch : 3 [44800/50000(90%)] \tTrain Loss : 0.899760\n",
            "\n",
            "[EPOCH : 3], \tTest Loss : 0.0303, \tTest Accuracy : 66.27 % \n",
            "\n",
            "Train Epoch : 4 [0/50000(0%)] \tTrain Loss : 0.768274\n",
            "Train Epoch : 4 [6400/50000(13%)] \tTrain Loss : 0.751862\n",
            "Train Epoch : 4 [12800/50000(26%)] \tTrain Loss : 1.022570\n",
            "Train Epoch : 4 [19200/50000(38%)] \tTrain Loss : 0.761931\n",
            "Train Epoch : 4 [25600/50000(51%)] \tTrain Loss : 0.525076\n",
            "Train Epoch : 4 [32000/50000(64%)] \tTrain Loss : 0.709123\n",
            "Train Epoch : 4 [38400/50000(77%)] \tTrain Loss : 0.993623\n",
            "Train Epoch : 4 [44800/50000(90%)] \tTrain Loss : 1.075158\n",
            "\n",
            "[EPOCH : 4], \tTest Loss : 0.0301, \tTest Accuracy : 66.32 % \n",
            "\n",
            "Train Epoch : 5 [0/50000(0%)] \tTrain Loss : 0.867498\n",
            "Train Epoch : 5 [6400/50000(13%)] \tTrain Loss : 0.714428\n",
            "Train Epoch : 5 [12800/50000(26%)] \tTrain Loss : 0.752799\n",
            "Train Epoch : 5 [19200/50000(38%)] \tTrain Loss : 1.024907\n",
            "Train Epoch : 5 [25600/50000(51%)] \tTrain Loss : 0.897000\n",
            "Train Epoch : 5 [32000/50000(64%)] \tTrain Loss : 0.867564\n",
            "Train Epoch : 5 [38400/50000(77%)] \tTrain Loss : 0.850742\n",
            "Train Epoch : 5 [44800/50000(90%)] \tTrain Loss : 0.799572\n",
            "\n",
            "[EPOCH : 5], \tTest Loss : 0.0297, \tTest Accuracy : 67.33 % \n",
            "\n",
            "Train Epoch : 6 [0/50000(0%)] \tTrain Loss : 0.835386\n",
            "Train Epoch : 6 [6400/50000(13%)] \tTrain Loss : 0.821644\n",
            "Train Epoch : 6 [12800/50000(26%)] \tTrain Loss : 0.754223\n",
            "Train Epoch : 6 [19200/50000(38%)] \tTrain Loss : 0.692326\n",
            "Train Epoch : 6 [25600/50000(51%)] \tTrain Loss : 0.832728\n",
            "Train Epoch : 6 [32000/50000(64%)] \tTrain Loss : 1.256648\n",
            "Train Epoch : 6 [38400/50000(77%)] \tTrain Loss : 1.013797\n",
            "Train Epoch : 6 [44800/50000(90%)] \tTrain Loss : 0.685405\n",
            "\n",
            "[EPOCH : 6], \tTest Loss : 0.0297, \tTest Accuracy : 67.03 % \n",
            "\n",
            "Train Epoch : 7 [0/50000(0%)] \tTrain Loss : 0.854805\n",
            "Train Epoch : 7 [6400/50000(13%)] \tTrain Loss : 0.805032\n",
            "Train Epoch : 7 [12800/50000(26%)] \tTrain Loss : 1.025411\n",
            "Train Epoch : 7 [19200/50000(38%)] \tTrain Loss : 0.926819\n",
            "Train Epoch : 7 [25600/50000(51%)] \tTrain Loss : 0.921848\n",
            "Train Epoch : 7 [32000/50000(64%)] \tTrain Loss : 0.935785\n",
            "Train Epoch : 7 [38400/50000(77%)] \tTrain Loss : 0.955607\n",
            "Train Epoch : 7 [44800/50000(90%)] \tTrain Loss : 1.256851\n",
            "\n",
            "[EPOCH : 7], \tTest Loss : 0.0295, \tTest Accuracy : 67.16 % \n",
            "\n",
            "Train Epoch : 8 [0/50000(0%)] \tTrain Loss : 0.800935\n",
            "Train Epoch : 8 [6400/50000(13%)] \tTrain Loss : 1.112744\n",
            "Train Epoch : 8 [12800/50000(26%)] \tTrain Loss : 0.974906\n",
            "Train Epoch : 8 [19200/50000(38%)] \tTrain Loss : 0.799108\n",
            "Train Epoch : 8 [25600/50000(51%)] \tTrain Loss : 0.854993\n",
            "Train Epoch : 8 [32000/50000(64%)] \tTrain Loss : 0.975170\n",
            "Train Epoch : 8 [38400/50000(77%)] \tTrain Loss : 0.913386\n",
            "Train Epoch : 8 [44800/50000(90%)] \tTrain Loss : 0.639071\n",
            "\n",
            "[EPOCH : 8], \tTest Loss : 0.0292, \tTest Accuracy : 67.58 % \n",
            "\n",
            "Train Epoch : 9 [0/50000(0%)] \tTrain Loss : 1.000768\n",
            "Train Epoch : 9 [6400/50000(13%)] \tTrain Loss : 0.674359\n",
            "Train Epoch : 9 [12800/50000(26%)] \tTrain Loss : 0.947361\n",
            "Train Epoch : 9 [19200/50000(38%)] \tTrain Loss : 0.703395\n",
            "Train Epoch : 9 [25600/50000(51%)] \tTrain Loss : 0.809443\n",
            "Train Epoch : 9 [32000/50000(64%)] \tTrain Loss : 0.809079\n",
            "Train Epoch : 9 [38400/50000(77%)] \tTrain Loss : 1.120890\n",
            "Train Epoch : 9 [44800/50000(90%)] \tTrain Loss : 0.769687\n",
            "\n",
            "[EPOCH : 9], \tTest Loss : 0.0286, \tTest Accuracy : 68.60 % \n",
            "\n",
            "Train Epoch : 10 [0/50000(0%)] \tTrain Loss : 0.859570\n",
            "Train Epoch : 10 [6400/50000(13%)] \tTrain Loss : 1.102083\n",
            "Train Epoch : 10 [12800/50000(26%)] \tTrain Loss : 0.920837\n",
            "Train Epoch : 10 [19200/50000(38%)] \tTrain Loss : 0.633342\n",
            "Train Epoch : 10 [25600/50000(51%)] \tTrain Loss : 0.933346\n",
            "Train Epoch : 10 [32000/50000(64%)] \tTrain Loss : 0.874267\n",
            "Train Epoch : 10 [38400/50000(77%)] \tTrain Loss : 1.053996\n",
            "Train Epoch : 10 [44800/50000(90%)] \tTrain Loss : 0.732876\n",
            "\n",
            "[EPOCH : 10], \tTest Loss : 0.0290, \tTest Accuracy : 67.81 % \n",
            "\n"
          ],
          "name": "stdout"
        }
      ]
    }
  ]
}