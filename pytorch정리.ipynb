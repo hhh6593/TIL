{
  "nbformat": 4,
  "nbformat_minor": 0,
  "metadata": {
    "colab": {
      "name": "pytorch정리.ipynb",
      "provenance": [],
      "collapsed_sections": [],
      "authorship_tag": "ABX9TyMNDkQ8rhkcPVFPDVNZH5dq",
      "include_colab_link": true
    },
    "kernelspec": {
      "name": "python3",
      "display_name": "Python 3"
    },
    "language_info": {
      "name": "python"
    }
  },
  "cells": [
    {
      "cell_type": "markdown",
      "metadata": {
        "id": "view-in-github",
        "colab_type": "text"
      },
      "source": [
        "<a href=\"https://colab.research.google.com/github/hhh6593/TIL/blob/master/pytorch%EC%A0%95%EB%A6%AC.ipynb\" target=\"_parent\"><img src=\"https://colab.research.google.com/assets/colab-badge.svg\" alt=\"Open In Colab\"/></a>"
      ]
    },
    {
      "cell_type": "code",
      "metadata": {
        "colab": {
          "base_uri": "https://localhost:8080/"
        },
        "id": "Wxe70AAgLTds",
        "outputId": "372bea98-0411-4412-eb0b-830c5abfb68b"
      },
      "source": [
        "import torch\n",
        "scaler1 = torch.tensor([1.])\n",
        "scaler1\n",
        "scaler2 = torch.tensor([3.])\n",
        "scaler2\n",
        "add_scaler = scaler1 + scaler2\n",
        "add_scaler\n",
        "sub_scaler = scaler1 - scaler2\n",
        "sub_scaler\n",
        "mul_scaler = scaler1 * scaler2\n",
        "mul_scaler\n",
        "div_scaler = scaler1 / scaler2\n",
        "div_scaler"
      ],
      "execution_count": 60,
      "outputs": [
        {
          "output_type": "execute_result",
          "data": {
            "text/plain": [
              "tensor([0.3333])"
            ]
          },
          "metadata": {
            "tags": []
          },
          "execution_count": 60
        }
      ]
    },
    {
      "cell_type": "code",
      "metadata": {
        "colab": {
          "base_uri": "https://localhost:8080/"
        },
        "id": "lynrKlcXMBMP",
        "outputId": "e64bf329-9314-493e-b7fe-38392b2eebc1"
      },
      "source": [
        "#tensor 사칙연산\n",
        "print(torch.add(scaler1, scaler2))\n",
        "print(torch.sub(scaler1, scaler2))\n",
        "print(torch.mul(scaler1, scaler2))\n",
        "print(torch.div(scaler1, scaler2))"
      ],
      "execution_count": 14,
      "outputs": [
        {
          "output_type": "stream",
          "text": [
            "tensor([4.])\n",
            "tensor([-2.])\n",
            "tensor([3.])\n",
            "tensor([0.3333])\n"
          ],
          "name": "stdout"
        }
      ]
    },
    {
      "cell_type": "code",
      "metadata": {
        "colab": {
          "base_uri": "https://localhost:8080/"
        },
        "id": "QZw8S28KMOGI",
        "outputId": "12a3fd2a-d7cb-4e15-b7c0-4c58e3855991"
      },
      "source": [
        "#vector - 하나의 값을 표현할 때 2개 이상의 수치로 표현한 것입니다.\n",
        "vector1 = torch.tensor([1.,2.,3.])\n",
        "vector2 = torch.tensor([4.,5.,6.])\n",
        "print(vector1)\n",
        "print(vector2)"
      ],
      "execution_count": 16,
      "outputs": [
        {
          "output_type": "stream",
          "text": [
            "tensor([1., 2., 3.])\n",
            "tensor([4., 5., 6.])\n"
          ],
          "name": "stdout"
        }
      ]
    },
    {
      "cell_type": "code",
      "metadata": {
        "colab": {
          "base_uri": "https://localhost:8080/"
        },
        "id": "9-aHlcb9Mafv",
        "outputId": "c3eb5794-edff-4c88-f26c-9502a293d101"
      },
      "source": [
        "#vector 사칙연산1\n",
        "print(vector1 + vector2)\n",
        "print(vector1 - vector2)\n",
        "print(vector1 * vector2)\n",
        "print(vector1 / vector2)\n",
        "print('---------------------------')\n",
        "print(torch.add(vector1, vector2))\n",
        "print(torch.sub(vector1, vector2))\n",
        "print(torch.mul(vector1, vector2))\n",
        "print(torch.div(vector1, vector2))\n",
        "print(torch.dot(vector1, vector2))"
      ],
      "execution_count": 21,
      "outputs": [
        {
          "output_type": "stream",
          "text": [
            "tensor([5., 7., 9.])\n",
            "tensor([-3., -3., -3.])\n",
            "tensor([ 4., 10., 18.])\n",
            "tensor([0.2500, 0.4000, 0.5000])\n",
            "---------------------------\n",
            "tensor([5., 7., 9.])\n",
            "tensor([-3., -3., -3.])\n",
            "tensor([ 4., 10., 18.])\n",
            "tensor([0.2500, 0.4000, 0.5000])\n",
            "tensor(32.)\n"
          ],
          "name": "stdout"
        }
      ]
    },
    {
      "cell_type": "code",
      "metadata": {
        "colab": {
          "base_uri": "https://localhost:8080/"
        },
        "id": "bpMeYXncNCua",
        "outputId": "a82339cc-50fb-43d1-f052-f49bd0f4df28"
      },
      "source": [
        "#행렬\n",
        "matrix1 = torch.tensor([[1.,2],[3.,4.]])\n",
        "print(matrix1)\n",
        "matrix2 = torch.tensor([[5.,6],[7.,8]])\n",
        "print(matrix2)"
      ],
      "execution_count": 24,
      "outputs": [
        {
          "output_type": "stream",
          "text": [
            "tensor([[1., 2.],\n",
            "        [3., 4.]])\n",
            "tensor([[5., 6.],\n",
            "        [7., 8.]])\n"
          ],
          "name": "stdout"
        }
      ]
    },
    {
      "cell_type": "code",
      "metadata": {
        "colab": {
          "base_uri": "https://localhost:8080/"
        },
        "id": "HcP461GuNvwv",
        "outputId": "2c9f35e5-b7fd-47b8-e3b8-5921ea05ed00"
      },
      "source": [
        "#행렬 기본연산1\n",
        "print(matrix1 + matrix2)\n",
        "print(matrix1 - matrix2)\n",
        "print(matrix1 * matrix2)\n",
        "print(matrix1 / matrix2)\n",
        "print('---------------------')\n",
        "print(torch.add(matrix1, matrix2))\n",
        "print(torch.sub(matrix1, matrix2))\n",
        "print(torch.mul(matrix1, matrix2))\n",
        "print(torch.div(matrix1, matrix2))\n",
        "print(torch.matmul(matrix1, matrix2)) #행렬곱"
      ],
      "execution_count": 25,
      "outputs": [
        {
          "output_type": "stream",
          "text": [
            "tensor([[ 6.,  8.],\n",
            "        [10., 12.]])\n",
            "tensor([[-4., -4.],\n",
            "        [-4., -4.]])\n",
            "tensor([[ 5., 12.],\n",
            "        [21., 32.]])\n",
            "tensor([[0.2000, 0.3333],\n",
            "        [0.4286, 0.5000]])\n",
            "---------------------\n",
            "tensor([[ 6.,  8.],\n",
            "        [10., 12.]])\n",
            "tensor([[-4., -4.],\n",
            "        [-4., -4.]])\n",
            "tensor([[ 5., 12.],\n",
            "        [21., 32.]])\n",
            "tensor([[0.2000, 0.3333],\n",
            "        [0.4286, 0.5000]])\n",
            "tensor([[19., 22.],\n",
            "        [43., 50.]])\n"
          ],
          "name": "stdout"
        }
      ]
    },
    {
      "cell_type": "code",
      "metadata": {
        "colab": {
          "base_uri": "https://localhost:8080/"
        },
        "id": "PmK4IEcpOYYJ",
        "outputId": "bd1796fa-cac8-4ea5-93a9-539acee12d64"
      },
      "source": [
        "#텐서 - 2차원 이상의 행렬\n",
        "tensor1 = torch.tensor([[[1,2],[3,4]], [[5,6],[7,8]]])\n",
        "print(tensor1)\n",
        "tensor2 = torch.tensor([[[9,10],[11,12]], [[13,14],[15,16]]])\n",
        "print(tensor2)"
      ],
      "execution_count": 31,
      "outputs": [
        {
          "output_type": "stream",
          "text": [
            "tensor([[[1, 2],\n",
            "         [3, 4]],\n",
            "\n",
            "        [[5, 6],\n",
            "         [7, 8]]])\n",
            "tensor([[[ 9, 10],\n",
            "         [11, 12]],\n",
            "\n",
            "        [[13, 14],\n",
            "         [15, 16]]])\n"
          ],
          "name": "stdout"
        }
      ]
    },
    {
      "cell_type": "code",
      "metadata": {
        "colab": {
          "base_uri": "https://localhost:8080/"
        },
        "id": "3l3LXFEnO2Ir",
        "outputId": "0cff141c-e583-4f96-b79d-6319cca59c29"
      },
      "source": [
        "#텐서 기본연산1\n",
        "print(tensor1 + tensor2)\n",
        "print(tensor1 - tensor2)\n",
        "print(tensor1 * tensor2)\n",
        "print(tensor1 / tensor2)\n",
        "\n",
        "print('-------------------------------')\n",
        "\n",
        "#텐서 기본연산2\n",
        "print(torch.add(tensor1, tensor2))\n",
        "print(torch.sub(tensor1, tensor2))\n",
        "print(torch.mul(tensor1, tensor2))\n",
        "print(torch.div(tensor1, tensor2))\n",
        "print(torch.matmul(tensor1, tensor2))"
      ],
      "execution_count": 34,
      "outputs": [
        {
          "output_type": "stream",
          "text": [
            "tensor([[[10, 12],\n",
            "         [14, 16]],\n",
            "\n",
            "        [[18, 20],\n",
            "         [22, 24]]])\n",
            "tensor([[[-8, -8],\n",
            "         [-8, -8]],\n",
            "\n",
            "        [[-8, -8],\n",
            "         [-8, -8]]])\n",
            "tensor([[[  9,  20],\n",
            "         [ 33,  48]],\n",
            "\n",
            "        [[ 65,  84],\n",
            "         [105, 128]]])\n",
            "tensor([[[0.1111, 0.2000],\n",
            "         [0.2727, 0.3333]],\n",
            "\n",
            "        [[0.3846, 0.4286],\n",
            "         [0.4667, 0.5000]]])\n",
            "-------------------------------\n",
            "tensor([[[10, 12],\n",
            "         [14, 16]],\n",
            "\n",
            "        [[18, 20],\n",
            "         [22, 24]]])\n",
            "tensor([[[-8, -8],\n",
            "         [-8, -8]],\n",
            "\n",
            "        [[-8, -8],\n",
            "         [-8, -8]]])\n",
            "tensor([[[  9,  20],\n",
            "         [ 33,  48]],\n",
            "\n",
            "        [[ 65,  84],\n",
            "         [105, 128]]])\n",
            "tensor([[[0.1111, 0.2000],\n",
            "         [0.2727, 0.3333]],\n",
            "\n",
            "        [[0.3846, 0.4286],\n",
            "         [0.4667, 0.5000]]])\n",
            "tensor([[[ 31,  34],\n",
            "         [ 71,  78]],\n",
            "\n",
            "        [[155, 166],\n",
            "         [211, 226]]])\n"
          ],
          "name": "stdout"
        }
      ]
    },
    {
      "cell_type": "code",
      "metadata": {
        "id": "_woaEmcBPWQw"
      },
      "source": [
        "#Autograd - 역전파를 이용해 파라미터를 업데이트 하는 방법\n",
        "#간단한 딥러닝 모델 설계\n",
        "if torch.cuda.is_available():\n",
        "    DEVICE = torch.device('cuda') #cuda.is_available() - torch module을 이용할 때 GPU를 이용해 계산할 수 있는지를 파악하는 Method\n",
        "else:\n",
        "    DEVICE = torch.device('cpu')\n",
        "\n",
        "BATCH_SIZE = 64 #딥러닝 모델에서 파라미터를 업데이트 할 때 계산되는 데이터의 개수\n",
        "INPUT_SIZE = 1000 #입력층의 노드 수\n",
        "HIDDEN_SIZE = 100 #은닉층의 노드 수\n",
        "OUTPUT_SIZE = 10 #출력층 값의 벡터의 크기 (보통 레이블의 크기와 동일하게 설정) - 원 핫 인코딩 때문\n",
        "\n",
        "#randn - 가우시안 분포에서 샘플링한 값으로 데이터를 만드는 함수\n",
        "#requires_grad - 역전파 업데이트 (가중치만 x,y는 고정이어야 함)\n",
        "x = torch.randn(BATCH_SIZE,\n",
        "                INPUT_SIZE,\n",
        "                device = DEVICE,\n",
        "                requires_grad = False)\n",
        "y = torch.randn(BATCH_SIZE,\n",
        "                OUTPUT_SIZE,\n",
        "                device = DEVICE,\n",
        "                requires_grad = False)\n",
        "w1 = torch.randn(INPUT_SIZE,\n",
        "                 HIDDEN_SIZE,\n",
        "                 device = DEVICE,\n",
        "                 requires_grad = True)\n",
        "w2 = torch.randn(HIDDEN_SIZE,\n",
        "                 OUTPUT_SIZE,\n",
        "                 device = DEVICE,\n",
        "                 requires_grad = True)"
      ],
      "execution_count": 48,
      "outputs": []
    },
    {
      "cell_type": "code",
      "metadata": {
        "colab": {
          "base_uri": "https://localhost:8080/"
        },
        "id": "xXp-FwN3QNZn",
        "outputId": "6f90fefb-1535-40cf-9bce-f804c5db30dd"
      },
      "source": [
        "learning_rate = 1e-6\n",
        "for t in range(1, 501):\n",
        "    y_pred = x.mm(w1).clamp(min = 0).mm(w2) #mm - matmul()\n",
        "\n",
        "    loss = (y_pred -y).pow(2).sum() #pow() - 제곱차 => 예측값-실제값 간의 차이의 제곱(pow)의 합(sum)\n",
        "    if t % 100 == 0:\n",
        "        print('Iteration: ', t, \"\\t\", \"Loss: \", loss.item())\n",
        "    loss.backward() #역전파 함수\n",
        "\n",
        "    with torch.no_grad():\n",
        "        w1 -= learning_rate * w1.grad\n",
        "        w2 -= learning_rate * w2.grad\n",
        "\n",
        "        w1.grad.zero_() #행렬을 모두 0으로 채우는 함수 (Graident값을 역전파를 통해 새로 계산하기 때문)\n",
        "        w2.grad.zero_()"
      ],
      "execution_count": 54,
      "outputs": [
        {
          "output_type": "stream",
          "text": [
            "Iteration:  100 \t Loss:  5387.5751953125\n",
            "Iteration:  200 \t Loss:  505.0909423828125\n",
            "Iteration:  300 \t Loss:  121.4918212890625\n",
            "Iteration:  400 \t Loss:  40.74136734008789\n",
            "Iteration:  500 \t Loss:  15.162656784057617\n"
          ],
          "name": "stdout"
        }
      ]
    },
    {
      "cell_type": "code",
      "metadata": {
        "id": "GPISn2nnRy5C"
      },
      "source": [
        "#사람의 손글씨 데이터인 MNIST를 이용해 Multi Layer Perceptron(MLP) 설계하기\n",
        "\n",
        "#라이브러리 설치\n",
        "import numpy as np\n",
        "import matplotlib.pyplot as plt\n",
        "import torch\n",
        "import torch.nn as nn\n",
        "import torch.nn.functional as F\n",
        "from torchvision import transforms, datasets"
      ],
      "execution_count": 61,
      "outputs": []
    },
    {
      "cell_type": "code",
      "metadata": {
        "id": "jPAzDpmjUA_3"
      },
      "source": [
        "batch_size = 32\n",
        "epochs = 10"
      ],
      "execution_count": 62,
      "outputs": []
    },
    {
      "cell_type": "code",
      "metadata": {
        "id": "VLiuXRDNUDyJ"
      },
      "source": [
        "train_dataset = datasets.MNIST(root='../data/MNIST',\n",
        "                               train = True,\n",
        "                               download = True,\n",
        "                               transform = transforms.ToTensor())\n",
        "test_dataset = datasets.MNIST(root='../data/MNIST',\n",
        "                               train = False,\n",
        "                               download = True,\n",
        "                               transform = transforms.ToTensor())\n",
        "train_loader = torch.utils.data.DataLoader(dataset = train_dataset,\n",
        "                                           batch_size = batch_size,\n",
        "                                           shuffle = True)\n",
        "test_loader = torch.utils.data.DataLoader(dataset = test_dataset,\n",
        "                                           batch_size = batch_size,\n",
        "                                           shuffle = False)"
      ],
      "execution_count": 64,
      "outputs": []
    },
    {
      "cell_type": "code",
      "metadata": {
        "colab": {
          "base_uri": "https://localhost:8080/"
        },
        "id": "oAE0OyiGUFnn",
        "outputId": "927cf941-942c-4f63-b7b2-57ac3eb28257"
      },
      "source": [
        "for (x_train, y_train) in train_loader:\n",
        "    print('x_train:', x_train.size(), 'type:', x_train.type())\n",
        "    print('y_train:', y_train.size(), 'type:', y_train.type())\n",
        "    break"
      ],
      "execution_count": 66,
      "outputs": [
        {
          "output_type": "stream",
          "text": [
            "x_train: torch.Size([32, 1, 28, 28]) type: torch.FloatTensor\n",
            "y_train: torch.Size([32]) type: torch.LongTensor\n"
          ],
          "name": "stdout"
        }
      ]
    },
    {
      "cell_type": "code",
      "metadata": {
        "colab": {
          "base_uri": "https://localhost:8080/",
          "height": 94
        },
        "id": "DcTbx_yxXoew",
        "outputId": "009d7ebb-fa5c-4215-d432-79a56faed8e2"
      },
      "source": [
        "pltsize = 1\n",
        "plt.figure(figsize=(10 * pltsize, pltsize))\n",
        "for i in range(10):\n",
        "    plt.subplot(1, 10, i+1)\n",
        "    plt.axis('off')\n",
        "    plt.imshow(x_train[i, :, :, :].numpy().reshape(28, 28), cmap='gray_r')\n",
        "    plt.title('Class: ' + str(y_train[i].item()))"
      ],
      "execution_count": 67,
      "outputs": [
        {
          "output_type": "display_data",
          "data": {
            "image/png": "[encoded data removed]",
            "text/plain": [
              "<Figure size 720x72 with 10 Axes>"
            ]
          },
          "metadata": {
            "tags": [],
            "needs_background": "light"
          }
        }
      ]
    },
    {
      "cell_type": "code",
      "metadata": {
        "id": "NOgKCmVOYogK"
      },
      "source": [
        "#모델 설계\n",
        "class Net(nn.Module): #nn.Module 내에 있는 method를 상속받아 사용\n",
        "    def __init__(self):\n",
        "        super(Net, self).__init__() #super - 성위 class 받아서 사용하게 해주는 함수\n",
        "        self.fc1 = nn.Linear(28 * 28, 512) #input data를 28,28로 정의하고 노드 수를 512개로 설정\n",
        "        self.fc2 = nn.Linear(512, 256)\n",
        "        self.fc3 = nn.Linear(256, 10)\n",
        "    def forward(self, x):\n",
        "        x = x.view(-1, 28 * 28) #view() - Flatten해주는 함수\n",
        "        x = self.fc1(x)\n",
        "        x = F.sigmoid(x) #활성화 함수\n",
        "        x = self.fc2(x)\n",
        "        x = self.fc3(x)\n",
        "        x = F.log_softmax(x, dim = 1)\n",
        "        return x"
      ],
      "execution_count": 71,
      "outputs": []
    },
    {
      "cell_type": "code",
      "metadata": {
        "colab": {
          "base_uri": "https://localhost:8080/"
        },
        "id": "p0XBp0pCZRE5",
        "outputId": "a9c4e974-cc91-43d9-b63d-199af65a96df"
      },
      "source": [
        "model = Net().to(DEVICE)\n",
        "optimizer = torch.optim.SGD(model.parameters(), lr=0.01, momentum=0.5)\n",
        "criterion = nn.CrossEntropyLoss()\n",
        "\n",
        "model"
      ],
      "execution_count": 74,
      "outputs": [
        {
          "output_type": "execute_result",
          "data": {
            "text/plain": [
              "Net(\n",
              "  (fc1): Linear(in_features=784, out_features=512, bias=True)\n",
              "  (fc2): Linear(in_features=512, out_features=256, bias=True)\n",
              "  (fc3): Linear(in_features=256, out_features=10, bias=True)\n",
              ")"
            ]
          },
          "metadata": {
            "tags": []
          },
          "execution_count": 74
        }
      ]
    },
    {
      "cell_type": "code",
      "metadata": {
        "id": "pjfRbQlUc_r6"
      },
      "source": [
        "def train(model, train_loader, optimizer, log_interval):\n",
        "    model.train()\n",
        "    for batch_idx, (image, label) in enumerate(train_loader):\n",
        "        optimizer.zero_grad()\n",
        "        output = model(image)\n",
        "        loss = criterion(output, label)\n",
        "        loss.backward()\n",
        "        optimizer.step()\n",
        "\n",
        "        if batch_idx % log_interval == 0:\n",
        "            print('''Train Epoch: {} [{}/{}({:.0f}%)] Train Loss: {:.6f}'''.format(Epoch, batch_idx * len(image), len(train_loader.dataset), 100. * batch_idx / len(train_loader), loss.item()))"
      ],
      "execution_count": 106,
      "outputs": []
    },
    {
      "cell_type": "code",
      "metadata": {
        "id": "nFieu-rAefCB"
      },
      "source": [
        "def evaluate(model, test_loader):\n",
        "    model.eval()\n",
        "    test_loss = 0\n",
        "    correct = 0\n",
        "\n",
        "    with torch.no_grad():\n",
        "        for image, label in test_loader:\n",
        "            output = model(image)\n",
        "            test_loss += criterion(output, label).item()\n",
        "            prediction = output.max(1, keepdim=True)[1]\n",
        "            correct += prediction.eq(label.view_as(prediction)).sum().item()\n",
        "\n",
        "    test_loss /= len(test_loader.dataset)\n",
        "    test_accuracy = 100 * correct / len(test_loader.dataset)\n",
        "    return test_loss, test_accuracy"
      ],
      "execution_count": 104,
      "outputs": []
    },
    {
      "cell_type": "code",
      "metadata": {
        "colab": {
          "base_uri": "https://localhost:8080/"
        },
        "id": "dXnvRdcBfeux",
        "outputId": "61b3dc87-da99-4a22-84ce-59aade38adde"
      },
      "source": [
        "for Epoch in range(1, epochs+1):    \n",
        "    train(model, train_loader, optimizer, log_interval=200)\n",
        "    test_loss, test_accuracy = evaluate(model, test_loader)\n",
        "    print(\"\\n[EPOCH: {}], \\tTest Loss: {:.4f}, \\tTest Accuracy: {:.2f} %\\n\".format(Epoch, test_loss, test_accuracy))"
      ],
      "execution_count": null,
      "outputs": [
        {
          "output_type": "stream",
          "text": [
            "/usr/local/lib/python3.7/dist-packages/torch/nn/functional.py:1709: UserWarning: nn.functional.sigmoid is deprecated. Use torch.sigmoid instead.\n",
            "  warnings.warn(\"nn.functional.sigmoid is deprecated. Use torch.sigmoid instead.\")\n"
          ],
          "name": "stderr"
        },
        {
          "output_type": "stream",
          "text": [
            "Train Epoch: 1 [0/60000(0%)] Train Loss: 0.362738\n",
            "Train Epoch: 1 [6400/60000(11%)] Train Loss: 0.215285\n",
            "Train Epoch: 1 [12800/60000(21%)] Train Loss: 0.235185\n",
            "Train Epoch: 1 [19200/60000(32%)] Train Loss: 0.405615\n",
            "Train Epoch: 1 [25600/60000(43%)] Train Loss: 0.185314\n",
            "Train Epoch: 1 [32000/60000(53%)] Train Loss: 0.234536\n",
            "Train Epoch: 1 [38400/60000(64%)] Train Loss: 0.246696\n",
            "Train Epoch: 1 [44800/60000(75%)] Train Loss: 0.180522\n",
            "Train Epoch: 1 [51200/60000(85%)] Train Loss: 0.211900\n",
            "Train Epoch: 1 [57600/60000(96%)] Train Loss: 0.270598\n",
            "\n",
            "[EPOCH: 1], \tTest Loss: 0.0104, \tTest Accuracy: 90.33 %\n",
            "\n",
            "Train Epoch: 2 [0/60000(0%)] Train Loss: 0.298750\n",
            "Train Epoch: 2 [6400/60000(11%)] Train Loss: 0.288845\n",
            "Train Epoch: 2 [12800/60000(21%)] Train Loss: 0.462153\n",
            "Train Epoch: 2 [19200/60000(32%)] Train Loss: 0.249025\n",
            "Train Epoch: 2 [25600/60000(43%)] Train Loss: 0.451150\n",
            "Train Epoch: 2 [32000/60000(53%)] Train Loss: 0.409408\n",
            "Train Epoch: 2 [38400/60000(64%)] Train Loss: 0.341811\n",
            "Train Epoch: 2 [44800/60000(75%)] Train Loss: 0.212577\n",
            "Train Epoch: 2 [51200/60000(85%)] Train Loss: 0.313083\n",
            "Train Epoch: 2 [57600/60000(96%)] Train Loss: 0.329261\n",
            "\n",
            "[EPOCH: 2], \tTest Loss: 0.0103, \tTest Accuracy: 90.53 %\n",
            "\n",
            "Train Epoch: 3 [0/60000(0%)] Train Loss: 0.313021\n",
            "Train Epoch: 3 [6400/60000(11%)] Train Loss: 0.311397\n",
            "Train Epoch: 3 [12800/60000(21%)] Train Loss: 0.599822\n",
            "Train Epoch: 3 [19200/60000(32%)] Train Loss: 0.345229\n",
            "Train Epoch: 3 [25600/60000(43%)] Train Loss: 0.473263\n",
            "Train Epoch: 3 [32000/60000(53%)] Train Loss: 0.259737\n",
            "Train Epoch: 3 [38400/60000(64%)] Train Loss: 0.158237\n",
            "Train Epoch: 3 [44800/60000(75%)] Train Loss: 0.257455\n",
            "Train Epoch: 3 [51200/60000(85%)] Train Loss: 0.424745\n",
            "Train Epoch: 3 [57600/60000(96%)] Train Loss: 0.508993\n",
            "\n",
            "[EPOCH: 3], \tTest Loss: 0.0109, \tTest Accuracy: 89.76 %\n",
            "\n",
            "Train Epoch: 4 [0/60000(0%)] Train Loss: 0.159647\n",
            "Train Epoch: 4 [6400/60000(11%)] Train Loss: 0.355350\n",
            "Train Epoch: 4 [12800/60000(21%)] Train Loss: 0.175154\n",
            "Train Epoch: 4 [19200/60000(32%)] Train Loss: 0.365071\n",
            "Train Epoch: 4 [25600/60000(43%)] Train Loss: 0.281090\n",
            "Train Epoch: 4 [32000/60000(53%)] Train Loss: 0.232110\n",
            "Train Epoch: 4 [38400/60000(64%)] Train Loss: 0.201821\n",
            "Train Epoch: 4 [44800/60000(75%)] Train Loss: 0.176571\n",
            "Train Epoch: 4 [51200/60000(85%)] Train Loss: 0.162457\n",
            "Train Epoch: 4 [57600/60000(96%)] Train Loss: 0.088192\n",
            "\n",
            "[EPOCH: 4], \tTest Loss: 0.0094, \tTest Accuracy: 91.35 %\n",
            "\n",
            "Train Epoch: 5 [0/60000(0%)] Train Loss: 0.228898\n",
            "Train Epoch: 5 [6400/60000(11%)] Train Loss: 0.651765\n",
            "Train Epoch: 5 [12800/60000(21%)] Train Loss: 0.158672\n"
          ],
          "name": "stdout"
        }
      ]
    },
    {
      "cell_type": "code",
      "metadata": {
        "colab": {
          "base_uri": "https://localhost:8080/"
        },
        "id": "3LlUc_nJgUXa",
        "outputId": "d0e8fe66-2ad1-49a8-d082-cf63f2ce8640"
      },
      "source": [
        ""
      ],
      "execution_count": 84,
      "outputs": [
        {
          "output_type": "execute_result",
          "data": {
            "text/plain": [
              "Net(\n",
              "  (fc1): Linear(in_features=784, out_features=512, bias=True)\n",
              "  (fc2): Linear(in_features=512, out_features=256, bias=True)\n",
              "  (fc3): Linear(in_features=256, out_features=10, bias=True)\n",
              ")"
            ]
          },
          "metadata": {
            "tags": []
          },
          "execution_count": 84
        }
      ]
    },
    {
      "cell_type": "code",
      "metadata": {
        "id": "2KbZ16EFhKJw"
      },
      "source": [
        ""
      ],
      "execution_count": null,
      "outputs": []
    }
  ]
}