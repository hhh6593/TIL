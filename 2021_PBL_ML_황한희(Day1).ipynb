{
 "cells": [
  {
   "cell_type": "code",
   "execution_count": 4,
   "metadata": {},
   "outputs": [
    {
     "name": "stdout",
     "output_type": "stream",
     "text": [
      "가위 바위 보가위\n",
      "컴퓨터: 바위\n",
      "사용자: 가위\n",
      "패배\n",
      "가위 바위 보가위\n",
      "컴퓨터: 가위\n",
      "사용자: 가위\n",
      "무승부\n",
      "가위 바위 보가위\n",
      "컴퓨터: 보\n",
      "사용자: 가위\n",
      "승리\n"
     ]
    }
   ],
   "source": [
    "import random\n",
    "result_num=0\n",
    "\n",
    "while result_num<1:\n",
    "    user=input('가위 바위 보')\n",
    "    com=random.randint(0,2)\n",
    "    if com==0:\n",
    "        com='가위'\n",
    "    elif com==1:\n",
    "        com='바위'\n",
    "    else:\n",
    "        com='보'\n",
    "    print('컴퓨터:',com)\n",
    "    print('사용자:',user)\n",
    "    \n",
    "    if com==user:\n",
    "        print('무승부')\n",
    "    elif (com=='가위' and user=='보')or(com=='바위' and user=='가위')or(com=='보' and user=='바위'):\n",
    "        print('패배')\n",
    "    else:\n",
    "        print('승리')\n",
    "        result_num=2"
   ]
  },
  {
   "cell_type": "code",
   "execution_count": 12,
   "metadata": {},
   "outputs": [
    {
     "name": "stdout",
     "output_type": "stream",
     "text": [
      "로또번호는 [29, 37, 20, 19, 1, 43] 입니다.\n"
     ]
    }
   ],
   "source": [
    "#중복없는 로또번호 생성\n",
    "import random\n",
    "num=[]\n",
    "for i in range(6):\n",
    "    while True:\n",
    "        lotto_num=random.randint(1,50)\n",
    "        if lotto_num not in num:\n",
    "            num.append(lotto_num)\n",
    "            break\n",
    "print('로또번호는',num,'입니다.')"
   ]
  },
  {
   "cell_type": "code",
   "execution_count": null,
   "metadata": {},
   "outputs": [],
   "source": []
  }
 ],
 "metadata": {
  "kernelspec": {
   "display_name": "Python 3",
   "language": "python",
   "name": "python3"
  },
  "language_info": {
   "codemirror_mode": {
    "name": "ipython",
    "version": 3
   },
   "file_extension": ".py",
   "mimetype": "text/x-python",
   "name": "python",
   "nbconvert_exporter": "python",
   "pygments_lexer": "ipython3",
   "version": "3.8.5"
  }
 },
 "nbformat": 4,
 "nbformat_minor": 4
}
