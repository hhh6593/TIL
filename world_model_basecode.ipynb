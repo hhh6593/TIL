{
 "metadata": {
  "language_info": {
   "codemirror_mode": {
    "name": "ipython",
    "version": 3
   },
   "file_extension": ".py",
   "mimetype": "text/x-python",
   "name": "python",
   "nbconvert_exporter": "python",
   "pygments_lexer": "ipython3",
   "version": "3.8.5"
  },
  "orig_nbformat": 4,
  "kernelspec": {
   "name": "python3",
   "display_name": "Python 3.8.5 64-bit ('base': conda)"
  },
  "interpreter": {
   "hash": "97ae724bfa85b9b34df7982b8bb8c7216f435b92902d749e4263f71162bea840"
  }
 },
 "nbformat": 4,
 "nbformat_minor": 2,
 "cells": [
  {
   "cell_type": "code",
   "execution_count": 1,
   "metadata": {},
   "outputs": [],
   "source": [
    "def rollout(controller):\n",
    "  obs = env.reset()\n",
    "  h = rnn.initial_state()\n",
    "  done = False\n",
    "  cumulative_reward = 0\n",
    "  while not done:\n",
    "    z = vae.encode(obs)\n",
    "    a = controller.action([z, h])\n",
    "    obs, reward, done = env.step(a)\n",
    "    cumulative_reward += reward\n",
    "    h = rnn.forward([a, z, h])\n",
    "  return cumulative_reward"
   ]
  },
  {
   "cell_type": "code",
   "execution_count": null,
   "metadata": {},
   "outputs": [],
   "source": []
  }
 ]
}