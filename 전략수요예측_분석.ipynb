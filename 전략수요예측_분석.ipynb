{
 "cells": [
  {
   "cell_type": "code",
   "execution_count": 147,
   "metadata": {},
   "outputs": [],
   "source": [
    "import pandas as pd\r\n",
    "import numpy as np\r\n",
    "import matplotlib.pyplot as plt\r\n",
    "import seaborn as sns\r\n",
    "from sklearn.cluster import KMeans\r\n",
    "\r\n",
    "import warnings\r\n",
    "warnings.filterwarnings(action='ignore')"
   ]
  },
  {
   "cell_type": "code",
   "execution_count": 148,
   "metadata": {},
   "outputs": [
    {
     "data": {
      "text/html": "<div>\n<style scoped>\n    .dataframe tbody tr th:only-of-type {\n        vertical-align: middle;\n    }\n\n    .dataframe tbody tr th {\n        vertical-align: top;\n    }\n\n    .dataframe thead th {\n        text-align: right;\n    }\n</style>\n<table border=\"1\" class=\"dataframe\">\n  <thead>\n    <tr style=\"text-align: right;\">\n      <th></th>\n      <th>num</th>\n      <th>date_time</th>\n      <th>전력사용량(kWh)</th>\n      <th>기온(°C)</th>\n      <th>풍속(m/s)</th>\n      <th>습도(%)</th>\n      <th>강수량(mm)</th>\n      <th>일조(hr)</th>\n      <th>비전기냉방설비운영</th>\n      <th>태양광보유</th>\n    </tr>\n  </thead>\n  <tbody>\n    <tr>\n      <th>0</th>\n      <td>1</td>\n      <td>2020-06-01 00</td>\n      <td>8179.056</td>\n      <td>17.6</td>\n      <td>2.5</td>\n      <td>92.0</td>\n      <td>0.8</td>\n      <td>0.0</td>\n      <td>0.0</td>\n      <td>0.0</td>\n    </tr>\n    <tr>\n      <th>1</th>\n      <td>1</td>\n      <td>2020-06-01 01</td>\n      <td>8135.640</td>\n      <td>17.7</td>\n      <td>2.9</td>\n      <td>91.0</td>\n      <td>0.3</td>\n      <td>0.0</td>\n      <td>0.0</td>\n      <td>0.0</td>\n    </tr>\n    <tr>\n      <th>2</th>\n      <td>1</td>\n      <td>2020-06-01 02</td>\n      <td>8107.128</td>\n      <td>17.5</td>\n      <td>3.2</td>\n      <td>91.0</td>\n      <td>0.0</td>\n      <td>0.0</td>\n      <td>0.0</td>\n      <td>0.0</td>\n    </tr>\n    <tr>\n      <th>3</th>\n      <td>1</td>\n      <td>2020-06-01 03</td>\n      <td>8048.808</td>\n      <td>17.1</td>\n      <td>3.2</td>\n      <td>91.0</td>\n      <td>0.0</td>\n      <td>0.0</td>\n      <td>0.0</td>\n      <td>0.0</td>\n    </tr>\n    <tr>\n      <th>4</th>\n      <td>1</td>\n      <td>2020-06-01 04</td>\n      <td>8043.624</td>\n      <td>17.0</td>\n      <td>3.3</td>\n      <td>92.0</td>\n      <td>0.0</td>\n      <td>0.0</td>\n      <td>0.0</td>\n      <td>0.0</td>\n    </tr>\n    <tr>\n      <th>...</th>\n      <td>...</td>\n      <td>...</td>\n      <td>...</td>\n      <td>...</td>\n      <td>...</td>\n      <td>...</td>\n      <td>...</td>\n      <td>...</td>\n      <td>...</td>\n      <td>...</td>\n    </tr>\n    <tr>\n      <th>122395</th>\n      <td>60</td>\n      <td>2020-08-24 19</td>\n      <td>4114.368</td>\n      <td>27.8</td>\n      <td>2.3</td>\n      <td>68.0</td>\n      <td>0.0</td>\n      <td>0.7</td>\n      <td>1.0</td>\n      <td>1.0</td>\n    </tr>\n    <tr>\n      <th>122396</th>\n      <td>60</td>\n      <td>2020-08-24 20</td>\n      <td>3975.696</td>\n      <td>27.3</td>\n      <td>1.2</td>\n      <td>71.0</td>\n      <td>0.0</td>\n      <td>0.0</td>\n      <td>1.0</td>\n      <td>1.0</td>\n    </tr>\n    <tr>\n      <th>122397</th>\n      <td>60</td>\n      <td>2020-08-24 21</td>\n      <td>3572.208</td>\n      <td>27.3</td>\n      <td>1.8</td>\n      <td>71.0</td>\n      <td>0.0</td>\n      <td>0.0</td>\n      <td>1.0</td>\n      <td>1.0</td>\n    </tr>\n    <tr>\n      <th>122398</th>\n      <td>60</td>\n      <td>2020-08-24 22</td>\n      <td>3299.184</td>\n      <td>27.1</td>\n      <td>1.8</td>\n      <td>74.0</td>\n      <td>0.0</td>\n      <td>0.0</td>\n      <td>1.0</td>\n      <td>1.0</td>\n    </tr>\n    <tr>\n      <th>122399</th>\n      <td>60</td>\n      <td>2020-08-24 23</td>\n      <td>3204.576</td>\n      <td>27.1</td>\n      <td>2.6</td>\n      <td>75.0</td>\n      <td>0.0</td>\n      <td>0.0</td>\n      <td>1.0</td>\n      <td>1.0</td>\n    </tr>\n  </tbody>\n</table>\n<p>122400 rows × 10 columns</p>\n</div>",
      "text/plain": "        num      date_time  전력사용량(kWh)  기온(°C)  풍속(m/s)  습도(%)  강수량(mm)  \\\n0         1  2020-06-01 00    8179.056    17.6      2.5   92.0      0.8   \n1         1  2020-06-01 01    8135.640    17.7      2.9   91.0      0.3   \n2         1  2020-06-01 02    8107.128    17.5      3.2   91.0      0.0   \n3         1  2020-06-01 03    8048.808    17.1      3.2   91.0      0.0   \n4         1  2020-06-01 04    8043.624    17.0      3.3   92.0      0.0   \n...     ...            ...         ...     ...      ...    ...      ...   \n122395   60  2020-08-24 19    4114.368    27.8      2.3   68.0      0.0   \n122396   60  2020-08-24 20    3975.696    27.3      1.2   71.0      0.0   \n122397   60  2020-08-24 21    3572.208    27.3      1.8   71.0      0.0   \n122398   60  2020-08-24 22    3299.184    27.1      1.8   74.0      0.0   \n122399   60  2020-08-24 23    3204.576    27.1      2.6   75.0      0.0   \n\n        일조(hr)  비전기냉방설비운영  태양광보유  \n0          0.0        0.0    0.0  \n1          0.0        0.0    0.0  \n2          0.0        0.0    0.0  \n3          0.0        0.0    0.0  \n4          0.0        0.0    0.0  \n...        ...        ...    ...  \n122395     0.7        1.0    1.0  \n122396     0.0        1.0    1.0  \n122397     0.0        1.0    1.0  \n122398     0.0        1.0    1.0  \n122399     0.0        1.0    1.0  \n\n[122400 rows x 10 columns]"
     },
     "execution_count": 148,
     "metadata": {},
     "output_type": "execute_result"
    }
   ],
   "source": [
    "train = pd.read_csv('train.csv', engine='python')\r\n",
    "train"
   ]
  },
  {
   "cell_type": "code",
   "execution_count": 149,
   "metadata": {},
   "outputs": [
    {
     "data": {
      "text/html": "<div>\n<style scoped>\n    .dataframe tbody tr th:only-of-type {\n        vertical-align: middle;\n    }\n\n    .dataframe tbody tr th {\n        vertical-align: top;\n    }\n\n    .dataframe thead th {\n        text-align: right;\n    }\n</style>\n<table border=\"1\" class=\"dataframe\">\n  <thead>\n    <tr style=\"text-align: right;\">\n      <th></th>\n      <th>num</th>\n      <th>date_time</th>\n      <th>기온(°C)</th>\n      <th>풍속(m/s)</th>\n      <th>습도(%)</th>\n      <th>강수량(mm, 6시간)</th>\n      <th>일조(hr, 3시간)</th>\n      <th>비전기냉방설비운영</th>\n      <th>태양광보유</th>\n    </tr>\n  </thead>\n  <tbody>\n    <tr>\n      <th>0</th>\n      <td>1</td>\n      <td>2020-08-25 00</td>\n      <td>27.8</td>\n      <td>1.5</td>\n      <td>74.0</td>\n      <td>0.0</td>\n      <td>0.0</td>\n      <td>NaN</td>\n      <td>NaN</td>\n    </tr>\n    <tr>\n      <th>1</th>\n      <td>1</td>\n      <td>2020-08-25 01</td>\n      <td>NaN</td>\n      <td>NaN</td>\n      <td>NaN</td>\n      <td>NaN</td>\n      <td>NaN</td>\n      <td>NaN</td>\n      <td>NaN</td>\n    </tr>\n    <tr>\n      <th>2</th>\n      <td>1</td>\n      <td>2020-08-25 02</td>\n      <td>NaN</td>\n      <td>NaN</td>\n      <td>NaN</td>\n      <td>NaN</td>\n      <td>NaN</td>\n      <td>NaN</td>\n      <td>NaN</td>\n    </tr>\n    <tr>\n      <th>3</th>\n      <td>1</td>\n      <td>2020-08-25 03</td>\n      <td>27.3</td>\n      <td>1.1</td>\n      <td>78.0</td>\n      <td>NaN</td>\n      <td>0.0</td>\n      <td>NaN</td>\n      <td>NaN</td>\n    </tr>\n    <tr>\n      <th>4</th>\n      <td>1</td>\n      <td>2020-08-25 04</td>\n      <td>NaN</td>\n      <td>NaN</td>\n      <td>NaN</td>\n      <td>NaN</td>\n      <td>NaN</td>\n      <td>NaN</td>\n      <td>NaN</td>\n    </tr>\n    <tr>\n      <th>...</th>\n      <td>...</td>\n      <td>...</td>\n      <td>...</td>\n      <td>...</td>\n      <td>...</td>\n      <td>...</td>\n      <td>...</td>\n      <td>...</td>\n      <td>...</td>\n    </tr>\n    <tr>\n      <th>10075</th>\n      <td>60</td>\n      <td>2020-08-31 19</td>\n      <td>NaN</td>\n      <td>NaN</td>\n      <td>NaN</td>\n      <td>NaN</td>\n      <td>NaN</td>\n      <td>NaN</td>\n      <td>NaN</td>\n    </tr>\n    <tr>\n      <th>10076</th>\n      <td>60</td>\n      <td>2020-08-31 20</td>\n      <td>NaN</td>\n      <td>NaN</td>\n      <td>NaN</td>\n      <td>NaN</td>\n      <td>NaN</td>\n      <td>NaN</td>\n      <td>NaN</td>\n    </tr>\n    <tr>\n      <th>10077</th>\n      <td>60</td>\n      <td>2020-08-31 21</td>\n      <td>27.9</td>\n      <td>4.1</td>\n      <td>68.0</td>\n      <td>NaN</td>\n      <td>0.0</td>\n      <td>1.0</td>\n      <td>1.0</td>\n    </tr>\n    <tr>\n      <th>10078</th>\n      <td>60</td>\n      <td>2020-08-31 22</td>\n      <td>NaN</td>\n      <td>NaN</td>\n      <td>NaN</td>\n      <td>NaN</td>\n      <td>NaN</td>\n      <td>NaN</td>\n      <td>NaN</td>\n    </tr>\n    <tr>\n      <th>10079</th>\n      <td>60</td>\n      <td>2020-08-31 23</td>\n      <td>NaN</td>\n      <td>NaN</td>\n      <td>NaN</td>\n      <td>NaN</td>\n      <td>NaN</td>\n      <td>NaN</td>\n      <td>NaN</td>\n    </tr>\n  </tbody>\n</table>\n<p>10080 rows × 9 columns</p>\n</div>",
      "text/plain": "       num      date_time  기온(°C)  풍속(m/s)  습도(%)  강수량(mm, 6시간)  일조(hr, 3시간)  \\\n0        1  2020-08-25 00    27.8      1.5   74.0           0.0          0.0   \n1        1  2020-08-25 01     NaN      NaN    NaN           NaN          NaN   \n2        1  2020-08-25 02     NaN      NaN    NaN           NaN          NaN   \n3        1  2020-08-25 03    27.3      1.1   78.0           NaN          0.0   \n4        1  2020-08-25 04     NaN      NaN    NaN           NaN          NaN   \n...    ...            ...     ...      ...    ...           ...          ...   \n10075   60  2020-08-31 19     NaN      NaN    NaN           NaN          NaN   \n10076   60  2020-08-31 20     NaN      NaN    NaN           NaN          NaN   \n10077   60  2020-08-31 21    27.9      4.1   68.0           NaN          0.0   \n10078   60  2020-08-31 22     NaN      NaN    NaN           NaN          NaN   \n10079   60  2020-08-31 23     NaN      NaN    NaN           NaN          NaN   \n\n       비전기냉방설비운영  태양광보유  \n0            NaN    NaN  \n1            NaN    NaN  \n2            NaN    NaN  \n3            NaN    NaN  \n4            NaN    NaN  \n...          ...    ...  \n10075        NaN    NaN  \n10076        NaN    NaN  \n10077        1.0    1.0  \n10078        NaN    NaN  \n10079        NaN    NaN  \n\n[10080 rows x 9 columns]"
     },
     "execution_count": 149,
     "metadata": {},
     "output_type": "execute_result"
    }
   ],
   "source": [
    "test = pd.read_csv('test.csv', engine='python')\r\n",
    "test"
   ]
  },
  {
   "cell_type": "code",
   "execution_count": 150,
   "metadata": {},
   "outputs": [
    {
     "name": "stdout",
     "output_type": "stream",
     "text": [
      "k: 2, inertia : 141731596052.6865\n",
      "k: 3, inertia : 93263968980.8303\n",
      "k: 4, inertia : 67366933376.6103\n",
      "k: 5, inertia : 56459648679.0319\n",
      "k: 6, inertia : 47063655777.2855\n",
      "k: 7, inertia : 40041384909.0536\n",
      "k: 8, inertia : 32744351078.3215\n",
      "k: 9, inertia : 27965201748.6183\n",
      "k: 10, inertia : 24313672662.1185\n"
     ]
    },
    {
     "data": {
      "text/plain": "Text(0, 0.5, 'inertia')"
     },
     "execution_count": 150,
     "metadata": {},
     "output_type": "execute_result"
    },
    {
     "data": {
      "image/png": "[encoded data removed]",
      "text/plain": "<Figure size 432x288 with 1 Axes>"
     },
     "metadata": {
      "needs_background": "light"
     },
     "output_type": "display_data"
    }
   ],
   "source": [
    "#적정 군집수 파악\r\n",
    "cl_train = train['전력사용량(kWh)'].values.reshape(60, -1)\r\n",
    "inertia_arr = []\r\n",
    "k_arr = range(2, 11)\r\n",
    "\r\n",
    "for k in k_arr:\r\n",
    "    kmeans = KMeans(n_clusters=k, random_state=0)\r\n",
    "    kmeans.fit(cl_train)\r\n",
    "    interia = kmeans.inertia_\r\n",
    "    \r\n",
    "    print('k: {0}, inertia : {1:.4f}'.format(k, interia))\r\n",
    "    inertia_arr.append(interia)\r\n",
    "\r\n",
    "plt.plot(k_arr, inertia_arr)\r\n",
    "plt.xlabel('k')\r\n",
    "plt.ylabel('inertia')"
   ]
  },
  {
   "cell_type": "code",
   "execution_count": 151,
   "metadata": {},
   "outputs": [],
   "source": [
    "km = KMeans(n_clusters=4, random_state=42)\r\n",
    "km.fit(cl_train)\r\n",
    "km_pred = km.predict(cl_train)"
   ]
  },
  {
   "cell_type": "code",
   "execution_count": 152,
   "metadata": {},
   "outputs": [
    {
     "data": {
      "text/html": "<div>\n<style scoped>\n    .dataframe tbody tr th:only-of-type {\n        vertical-align: middle;\n    }\n\n    .dataframe tbody tr th {\n        vertical-align: top;\n    }\n\n    .dataframe thead th {\n        text-align: right;\n    }\n</style>\n<table border=\"1\" class=\"dataframe\">\n  <thead>\n    <tr style=\"text-align: right;\">\n      <th></th>\n      <th>0</th>\n      <th>num</th>\n    </tr>\n  </thead>\n  <tbody>\n    <tr>\n      <th>0</th>\n      <td>1</td>\n      <td>1</td>\n    </tr>\n    <tr>\n      <th>1</th>\n      <td>2</td>\n      <td>2</td>\n    </tr>\n    <tr>\n      <th>2</th>\n      <td>0</td>\n      <td>3</td>\n    </tr>\n    <tr>\n      <th>3</th>\n      <td>2</td>\n      <td>4</td>\n    </tr>\n    <tr>\n      <th>4</th>\n      <td>0</td>\n      <td>5</td>\n    </tr>\n    <tr>\n      <th>5</th>\n      <td>2</td>\n      <td>6</td>\n    </tr>\n    <tr>\n      <th>6</th>\n      <td>2</td>\n      <td>7</td>\n    </tr>\n    <tr>\n      <th>7</th>\n      <td>3</td>\n      <td>8</td>\n    </tr>\n    <tr>\n      <th>8</th>\n      <td>2</td>\n      <td>9</td>\n    </tr>\n    <tr>\n      <th>9</th>\n      <td>2</td>\n      <td>10</td>\n    </tr>\n    <tr>\n      <th>10</th>\n      <td>0</td>\n      <td>11</td>\n    </tr>\n    <tr>\n      <th>11</th>\n      <td>2</td>\n      <td>12</td>\n    </tr>\n    <tr>\n      <th>12</th>\n      <td>2</td>\n      <td>13</td>\n    </tr>\n    <tr>\n      <th>13</th>\n      <td>2</td>\n      <td>14</td>\n    </tr>\n    <tr>\n      <th>14</th>\n      <td>0</td>\n      <td>15</td>\n    </tr>\n    <tr>\n      <th>15</th>\n      <td>2</td>\n      <td>16</td>\n    </tr>\n    <tr>\n      <th>16</th>\n      <td>2</td>\n      <td>17</td>\n    </tr>\n    <tr>\n      <th>17</th>\n      <td>2</td>\n      <td>18</td>\n    </tr>\n    <tr>\n      <th>18</th>\n      <td>2</td>\n      <td>19</td>\n    </tr>\n    <tr>\n      <th>19</th>\n      <td>2</td>\n      <td>20</td>\n    </tr>\n    <tr>\n      <th>20</th>\n      <td>2</td>\n      <td>21</td>\n    </tr>\n    <tr>\n      <th>21</th>\n      <td>2</td>\n      <td>22</td>\n    </tr>\n    <tr>\n      <th>22</th>\n      <td>2</td>\n      <td>23</td>\n    </tr>\n    <tr>\n      <th>23</th>\n      <td>0</td>\n      <td>24</td>\n    </tr>\n    <tr>\n      <th>24</th>\n      <td>2</td>\n      <td>25</td>\n    </tr>\n    <tr>\n      <th>25</th>\n      <td>0</td>\n      <td>26</td>\n    </tr>\n    <tr>\n      <th>26</th>\n      <td>2</td>\n      <td>27</td>\n    </tr>\n    <tr>\n      <th>27</th>\n      <td>0</td>\n      <td>28</td>\n    </tr>\n    <tr>\n      <th>28</th>\n      <td>2</td>\n      <td>29</td>\n    </tr>\n    <tr>\n      <th>29</th>\n      <td>1</td>\n      <td>30</td>\n    </tr>\n    <tr>\n      <th>30</th>\n      <td>1</td>\n      <td>31</td>\n    </tr>\n    <tr>\n      <th>31</th>\n      <td>0</td>\n      <td>32</td>\n    </tr>\n    <tr>\n      <th>32</th>\n      <td>0</td>\n      <td>33</td>\n    </tr>\n    <tr>\n      <th>33</th>\n      <td>2</td>\n      <td>34</td>\n    </tr>\n    <tr>\n      <th>34</th>\n      <td>2</td>\n      <td>35</td>\n    </tr>\n    <tr>\n      <th>35</th>\n      <td>2</td>\n      <td>36</td>\n    </tr>\n    <tr>\n      <th>36</th>\n      <td>2</td>\n      <td>37</td>\n    </tr>\n    <tr>\n      <th>37</th>\n      <td>3</td>\n      <td>38</td>\n    </tr>\n    <tr>\n      <th>38</th>\n      <td>2</td>\n      <td>39</td>\n    </tr>\n    <tr>\n      <th>39</th>\n      <td>0</td>\n      <td>40</td>\n    </tr>\n    <tr>\n      <th>40</th>\n      <td>2</td>\n      <td>41</td>\n    </tr>\n    <tr>\n      <th>41</th>\n      <td>0</td>\n      <td>42</td>\n    </tr>\n    <tr>\n      <th>42</th>\n      <td>2</td>\n      <td>43</td>\n    </tr>\n    <tr>\n      <th>43</th>\n      <td>0</td>\n      <td>44</td>\n    </tr>\n    <tr>\n      <th>44</th>\n      <td>2</td>\n      <td>45</td>\n    </tr>\n    <tr>\n      <th>45</th>\n      <td>2</td>\n      <td>46</td>\n    </tr>\n    <tr>\n      <th>46</th>\n      <td>0</td>\n      <td>47</td>\n    </tr>\n    <tr>\n      <th>47</th>\n      <td>2</td>\n      <td>48</td>\n    </tr>\n    <tr>\n      <th>48</th>\n      <td>2</td>\n      <td>49</td>\n    </tr>\n    <tr>\n      <th>49</th>\n      <td>2</td>\n      <td>50</td>\n    </tr>\n    <tr>\n      <th>50</th>\n      <td>2</td>\n      <td>51</td>\n    </tr>\n    <tr>\n      <th>51</th>\n      <td>0</td>\n      <td>52</td>\n    </tr>\n    <tr>\n      <th>52</th>\n      <td>2</td>\n      <td>53</td>\n    </tr>\n    <tr>\n      <th>53</th>\n      <td>1</td>\n      <td>54</td>\n    </tr>\n    <tr>\n      <th>54</th>\n      <td>0</td>\n      <td>55</td>\n    </tr>\n    <tr>\n      <th>55</th>\n      <td>2</td>\n      <td>56</td>\n    </tr>\n    <tr>\n      <th>56</th>\n      <td>0</td>\n      <td>57</td>\n    </tr>\n    <tr>\n      <th>57</th>\n      <td>2</td>\n      <td>58</td>\n    </tr>\n    <tr>\n      <th>58</th>\n      <td>2</td>\n      <td>59</td>\n    </tr>\n    <tr>\n      <th>59</th>\n      <td>0</td>\n      <td>60</td>\n    </tr>\n  </tbody>\n</table>\n</div>",
      "text/plain": "    0  num\n0   1    1\n1   2    2\n2   0    3\n3   2    4\n4   0    5\n5   2    6\n6   2    7\n7   3    8\n8   2    9\n9   2   10\n10  0   11\n11  2   12\n12  2   13\n13  2   14\n14  0   15\n15  2   16\n16  2   17\n17  2   18\n18  2   19\n19  2   20\n20  2   21\n21  2   22\n22  2   23\n23  0   24\n24  2   25\n25  0   26\n26  2   27\n27  0   28\n28  2   29\n29  1   30\n30  1   31\n31  0   32\n32  0   33\n33  2   34\n34  2   35\n35  2   36\n36  2   37\n37  3   38\n38  2   39\n39  0   40\n40  2   41\n41  0   42\n42  2   43\n43  0   44\n44  2   45\n45  2   46\n46  0   47\n47  2   48\n48  2   49\n49  2   50\n50  2   51\n51  0   52\n52  2   53\n53  1   54\n54  0   55\n55  2   56\n56  0   57\n57  2   58\n58  2   59\n59  0   60"
     },
     "execution_count": 152,
     "metadata": {},
     "output_type": "execute_result"
    }
   ],
   "source": [
    "clusters = pd.DataFrame(km_pred)\r\n",
    "clusters['num'] = train['num'].unique()\r\n",
    "clusters"
   ]
  },
  {
   "cell_type": "code",
   "execution_count": 153,
   "metadata": {},
   "outputs": [],
   "source": [
    "train = train.merge(clusters, on='num')\r\n",
    "train = train.rename(columns={0:'ass'})\r\n",
    "test = test.merge(clusters, on='num')\r\n",
    "test = test.rename(columns={0:'ass'})"
   ]
  },
  {
   "cell_type": "code",
   "execution_count": 154,
   "metadata": {},
   "outputs": [],
   "source": [
    "ice = pd.DataFrame(train['비전기냉방설비운영'])\r\n",
    "ice['num'] = train['num']\r\n",
    "ice =ice.drop_duplicates()\r\n",
    "\r\n",
    "hot = pd.DataFrame(train['태양광보유'])\r\n",
    "hot['num'] = train['num']\r\n",
    "hot = hot.drop_duplicates()"
   ]
  },
  {
   "cell_type": "code",
   "execution_count": 155,
   "metadata": {},
   "outputs": [
    {
     "data": {
      "text/html": "<div>\n<style scoped>\n    .dataframe tbody tr th:only-of-type {\n        vertical-align: middle;\n    }\n\n    .dataframe tbody tr th {\n        vertical-align: top;\n    }\n\n    .dataframe thead th {\n        text-align: right;\n    }\n</style>\n<table border=\"1\" class=\"dataframe\">\n  <thead>\n    <tr style=\"text-align: right;\">\n      <th></th>\n      <th>num</th>\n      <th>date_time</th>\n      <th>기온(°C)</th>\n      <th>풍속(m/s)</th>\n      <th>습도(%)</th>\n      <th>강수량(mm, 6시간)</th>\n      <th>일조(hr, 3시간)</th>\n      <th>ass</th>\n      <th>비전기냉방설비운영</th>\n      <th>태양광보유</th>\n    </tr>\n  </thead>\n  <tbody>\n    <tr>\n      <th>0</th>\n      <td>1</td>\n      <td>2020-08-25 00</td>\n      <td>27.8</td>\n      <td>1.5</td>\n      <td>74.0</td>\n      <td>0.0</td>\n      <td>0.0</td>\n      <td>1</td>\n      <td>0.0</td>\n      <td>0.0</td>\n    </tr>\n    <tr>\n      <th>1</th>\n      <td>1</td>\n      <td>2020-08-25 01</td>\n      <td>NaN</td>\n      <td>NaN</td>\n      <td>NaN</td>\n      <td>NaN</td>\n      <td>NaN</td>\n      <td>1</td>\n      <td>0.0</td>\n      <td>0.0</td>\n    </tr>\n    <tr>\n      <th>2</th>\n      <td>1</td>\n      <td>2020-08-25 02</td>\n      <td>NaN</td>\n      <td>NaN</td>\n      <td>NaN</td>\n      <td>NaN</td>\n      <td>NaN</td>\n      <td>1</td>\n      <td>0.0</td>\n      <td>0.0</td>\n    </tr>\n    <tr>\n      <th>3</th>\n      <td>1</td>\n      <td>2020-08-25 03</td>\n      <td>27.3</td>\n      <td>1.1</td>\n      <td>78.0</td>\n      <td>NaN</td>\n      <td>0.0</td>\n      <td>1</td>\n      <td>0.0</td>\n      <td>0.0</td>\n    </tr>\n    <tr>\n      <th>4</th>\n      <td>1</td>\n      <td>2020-08-25 04</td>\n      <td>NaN</td>\n      <td>NaN</td>\n      <td>NaN</td>\n      <td>NaN</td>\n      <td>NaN</td>\n      <td>1</td>\n      <td>0.0</td>\n      <td>0.0</td>\n    </tr>\n    <tr>\n      <th>...</th>\n      <td>...</td>\n      <td>...</td>\n      <td>...</td>\n      <td>...</td>\n      <td>...</td>\n      <td>...</td>\n      <td>...</td>\n      <td>...</td>\n      <td>...</td>\n      <td>...</td>\n    </tr>\n    <tr>\n      <th>10075</th>\n      <td>60</td>\n      <td>2020-08-31 19</td>\n      <td>NaN</td>\n      <td>NaN</td>\n      <td>NaN</td>\n      <td>NaN</td>\n      <td>NaN</td>\n      <td>0</td>\n      <td>1.0</td>\n      <td>1.0</td>\n    </tr>\n    <tr>\n      <th>10076</th>\n      <td>60</td>\n      <td>2020-08-31 20</td>\n      <td>NaN</td>\n      <td>NaN</td>\n      <td>NaN</td>\n      <td>NaN</td>\n      <td>NaN</td>\n      <td>0</td>\n      <td>1.0</td>\n      <td>1.0</td>\n    </tr>\n    <tr>\n      <th>10077</th>\n      <td>60</td>\n      <td>2020-08-31 21</td>\n      <td>27.9</td>\n      <td>4.1</td>\n      <td>68.0</td>\n      <td>NaN</td>\n      <td>0.0</td>\n      <td>0</td>\n      <td>1.0</td>\n      <td>1.0</td>\n    </tr>\n    <tr>\n      <th>10078</th>\n      <td>60</td>\n      <td>2020-08-31 22</td>\n      <td>NaN</td>\n      <td>NaN</td>\n      <td>NaN</td>\n      <td>NaN</td>\n      <td>NaN</td>\n      <td>0</td>\n      <td>1.0</td>\n      <td>1.0</td>\n    </tr>\n    <tr>\n      <th>10079</th>\n      <td>60</td>\n      <td>2020-08-31 23</td>\n      <td>NaN</td>\n      <td>NaN</td>\n      <td>NaN</td>\n      <td>NaN</td>\n      <td>NaN</td>\n      <td>0</td>\n      <td>1.0</td>\n      <td>1.0</td>\n    </tr>\n  </tbody>\n</table>\n<p>10080 rows × 10 columns</p>\n</div>",
      "text/plain": "       num      date_time  기온(°C)  풍속(m/s)  습도(%)  강수량(mm, 6시간)  일조(hr, 3시간)  \\\n0        1  2020-08-25 00    27.8      1.5   74.0           0.0          0.0   \n1        1  2020-08-25 01     NaN      NaN    NaN           NaN          NaN   \n2        1  2020-08-25 02     NaN      NaN    NaN           NaN          NaN   \n3        1  2020-08-25 03    27.3      1.1   78.0           NaN          0.0   \n4        1  2020-08-25 04     NaN      NaN    NaN           NaN          NaN   \n...    ...            ...     ...      ...    ...           ...          ...   \n10075   60  2020-08-31 19     NaN      NaN    NaN           NaN          NaN   \n10076   60  2020-08-31 20     NaN      NaN    NaN           NaN          NaN   \n10077   60  2020-08-31 21    27.9      4.1   68.0           NaN          0.0   \n10078   60  2020-08-31 22     NaN      NaN    NaN           NaN          NaN   \n10079   60  2020-08-31 23     NaN      NaN    NaN           NaN          NaN   \n\n       ass  비전기냉방설비운영  태양광보유  \n0        1        0.0    0.0  \n1        1        0.0    0.0  \n2        1        0.0    0.0  \n3        1        0.0    0.0  \n4        1        0.0    0.0  \n...    ...        ...    ...  \n10075    0        1.0    1.0  \n10076    0        1.0    1.0  \n10077    0        1.0    1.0  \n10078    0        1.0    1.0  \n10079    0        1.0    1.0  \n\n[10080 rows x 10 columns]"
     },
     "execution_count": 155,
     "metadata": {},
     "output_type": "execute_result"
    }
   ],
   "source": [
    "test = test.drop(['비전기냉방설비운영', '태양광보유'], axis=1)\r\n",
    "test = test.merge(ice, on='num')\r\n",
    "test = test.merge(hot, on='num')\r\n",
    "test"
   ]
  },
  {
   "cell_type": "code",
   "execution_count": 156,
   "metadata": {},
   "outputs": [],
   "source": [
    "test = test.interpolate(method='values')"
   ]
  },
  {
   "cell_type": "code",
   "execution_count": 157,
   "metadata": {},
   "outputs": [],
   "source": [
    "def time(x):\r\n",
    "    return int(x[-2:])\r\n",
    "train['time']=train['date_time'].apply(lambda x: time(x))\r\n",
    "test['time']=test['date_time'].apply(lambda x: time(x))"
   ]
  },
  {
   "cell_type": "code",
   "execution_count": 158,
   "metadata": {},
   "outputs": [],
   "source": [
    "train['date_time'] = pd.to_datetime(train['date_time'])\r\n",
    "train['month'] = train['date_time'].dt.month\r\n",
    "train['weekday'] = train['date_time'].dt.weekday\r\n",
    "test['date_time'] = pd.to_datetime(test['date_time'])\r\n",
    "test['month'] = test['date_time'].dt.month\r\n",
    "test['weekday'] = test['date_time'].dt.weekday"
   ]
  },
  {
   "cell_type": "code",
   "execution_count": 159,
   "metadata": {},
   "outputs": [],
   "source": [
    "def holiday(x):\r\n",
    "    if str(x.date()) == '2020-06-06':\r\n",
    "        return 1\r\n",
    "    elif str(x.date()) == '2020-08-15':\r\n",
    "        return 1\r\n",
    "    elif x.weekday() == 5 or x.weekday() == 6:\r\n",
    "        return 1\r\n",
    "    else: \r\n",
    "        return 0\r\n",
    "\r\n",
    "train['holiday'] = train['date_time'].apply(lambda x: holiday(x))\r\n",
    "test['holiday'] = test['date_time'].apply(lambda x: holiday(x))"
   ]
  },
  {
   "cell_type": "code",
   "execution_count": 160,
   "metadata": {},
   "outputs": [],
   "source": [
    "train2 = train.drop(['date_time', '전력사용량(kWh)'], axis=1)\r\n",
    "test2 = test.drop(['date_time'], axis=1)"
   ]
  },
  {
   "cell_type": "code",
   "execution_count": 161,
   "metadata": {},
   "outputs": [],
   "source": [
    "from xgboost import XGBRegressor\r\n",
    "xgb = XGBRegressor(learning_rate=0.1, n_estimators=1000, colsample_bytree=0.5, subsample=0.7, max_depth=5)"
   ]
  },
  {
   "cell_type": "code",
   "execution_count": 162,
   "metadata": {},
   "outputs": [],
   "source": [
    "from lightgbm import LGBMRegressor\r\n",
    "li = LGBMRegressor(n_estimators=10000, random_state=0)"
   ]
  },
  {
   "cell_type": "code",
   "execution_count": 163,
   "metadata": {},
   "outputs": [
    {
     "data": {
      "text/html": "<div>\n<style scoped>\n    .dataframe tbody tr th:only-of-type {\n        vertical-align: middle;\n    }\n\n    .dataframe tbody tr th {\n        vertical-align: top;\n    }\n\n    .dataframe thead th {\n        text-align: right;\n    }\n</style>\n<table border=\"1\" class=\"dataframe\">\n  <thead>\n    <tr style=\"text-align: right;\">\n      <th></th>\n      <th>num</th>\n      <th>기온(°C)</th>\n      <th>풍속(m/s)</th>\n      <th>습도(%)</th>\n      <th>강수량(mm)</th>\n      <th>일조(hr)</th>\n      <th>비전기냉방설비운영</th>\n      <th>태양광보유</th>\n      <th>ass</th>\n      <th>time</th>\n      <th>month</th>\n      <th>weekday</th>\n      <th>holiday</th>\n    </tr>\n  </thead>\n  <tbody>\n    <tr>\n      <th>0</th>\n      <td>1</td>\n      <td>17.6</td>\n      <td>2.5</td>\n      <td>92.0</td>\n      <td>0.8</td>\n      <td>0.0</td>\n      <td>0.0</td>\n      <td>0.0</td>\n      <td>1</td>\n      <td>0</td>\n      <td>6</td>\n      <td>0</td>\n      <td>0</td>\n    </tr>\n    <tr>\n      <th>1</th>\n      <td>1</td>\n      <td>17.7</td>\n      <td>2.9</td>\n      <td>91.0</td>\n      <td>0.3</td>\n      <td>0.0</td>\n      <td>0.0</td>\n      <td>0.0</td>\n      <td>1</td>\n      <td>1</td>\n      <td>6</td>\n      <td>0</td>\n      <td>0</td>\n    </tr>\n    <tr>\n      <th>2</th>\n      <td>1</td>\n      <td>17.5</td>\n      <td>3.2</td>\n      <td>91.0</td>\n      <td>0.0</td>\n      <td>0.0</td>\n      <td>0.0</td>\n      <td>0.0</td>\n      <td>1</td>\n      <td>2</td>\n      <td>6</td>\n      <td>0</td>\n      <td>0</td>\n    </tr>\n    <tr>\n      <th>3</th>\n      <td>1</td>\n      <td>17.1</td>\n      <td>3.2</td>\n      <td>91.0</td>\n      <td>0.0</td>\n      <td>0.0</td>\n      <td>0.0</td>\n      <td>0.0</td>\n      <td>1</td>\n      <td>3</td>\n      <td>6</td>\n      <td>0</td>\n      <td>0</td>\n    </tr>\n    <tr>\n      <th>4</th>\n      <td>1</td>\n      <td>17.0</td>\n      <td>3.3</td>\n      <td>92.0</td>\n      <td>0.0</td>\n      <td>0.0</td>\n      <td>0.0</td>\n      <td>0.0</td>\n      <td>1</td>\n      <td>4</td>\n      <td>6</td>\n      <td>0</td>\n      <td>0</td>\n    </tr>\n    <tr>\n      <th>...</th>\n      <td>...</td>\n      <td>...</td>\n      <td>...</td>\n      <td>...</td>\n      <td>...</td>\n      <td>...</td>\n      <td>...</td>\n      <td>...</td>\n      <td>...</td>\n      <td>...</td>\n      <td>...</td>\n      <td>...</td>\n      <td>...</td>\n    </tr>\n    <tr>\n      <th>122395</th>\n      <td>60</td>\n      <td>27.8</td>\n      <td>2.3</td>\n      <td>68.0</td>\n      <td>0.0</td>\n      <td>0.7</td>\n      <td>1.0</td>\n      <td>1.0</td>\n      <td>0</td>\n      <td>19</td>\n      <td>8</td>\n      <td>0</td>\n      <td>0</td>\n    </tr>\n    <tr>\n      <th>122396</th>\n      <td>60</td>\n      <td>27.3</td>\n      <td>1.2</td>\n      <td>71.0</td>\n      <td>0.0</td>\n      <td>0.0</td>\n      <td>1.0</td>\n      <td>1.0</td>\n      <td>0</td>\n      <td>20</td>\n      <td>8</td>\n      <td>0</td>\n      <td>0</td>\n    </tr>\n    <tr>\n      <th>122397</th>\n      <td>60</td>\n      <td>27.3</td>\n      <td>1.8</td>\n      <td>71.0</td>\n      <td>0.0</td>\n      <td>0.0</td>\n      <td>1.0</td>\n      <td>1.0</td>\n      <td>0</td>\n      <td>21</td>\n      <td>8</td>\n      <td>0</td>\n      <td>0</td>\n    </tr>\n    <tr>\n      <th>122398</th>\n      <td>60</td>\n      <td>27.1</td>\n      <td>1.8</td>\n      <td>74.0</td>\n      <td>0.0</td>\n      <td>0.0</td>\n      <td>1.0</td>\n      <td>1.0</td>\n      <td>0</td>\n      <td>22</td>\n      <td>8</td>\n      <td>0</td>\n      <td>0</td>\n    </tr>\n    <tr>\n      <th>122399</th>\n      <td>60</td>\n      <td>27.1</td>\n      <td>2.6</td>\n      <td>75.0</td>\n      <td>0.0</td>\n      <td>0.0</td>\n      <td>1.0</td>\n      <td>1.0</td>\n      <td>0</td>\n      <td>23</td>\n      <td>8</td>\n      <td>0</td>\n      <td>0</td>\n    </tr>\n  </tbody>\n</table>\n<p>122400 rows × 13 columns</p>\n</div>",
      "text/plain": "        num  기온(°C)  풍속(m/s)  습도(%)  강수량(mm)  일조(hr)  비전기냉방설비운영  태양광보유  ass  \\\n0         1    17.6      2.5   92.0      0.8     0.0        0.0    0.0    1   \n1         1    17.7      2.9   91.0      0.3     0.0        0.0    0.0    1   \n2         1    17.5      3.2   91.0      0.0     0.0        0.0    0.0    1   \n3         1    17.1      3.2   91.0      0.0     0.0        0.0    0.0    1   \n4         1    17.0      3.3   92.0      0.0     0.0        0.0    0.0    1   \n...     ...     ...      ...    ...      ...     ...        ...    ...  ...   \n122395   60    27.8      2.3   68.0      0.0     0.7        1.0    1.0    0   \n122396   60    27.3      1.2   71.0      0.0     0.0        1.0    1.0    0   \n122397   60    27.3      1.8   71.0      0.0     0.0        1.0    1.0    0   \n122398   60    27.1      1.8   74.0      0.0     0.0        1.0    1.0    0   \n122399   60    27.1      2.6   75.0      0.0     0.0        1.0    1.0    0   \n\n        time  month  weekday  holiday  \n0          0      6        0        0  \n1          1      6        0        0  \n2          2      6        0        0  \n3          3      6        0        0  \n4          4      6        0        0  \n...      ...    ...      ...      ...  \n122395    19      8        0        0  \n122396    20      8        0        0  \n122397    21      8        0        0  \n122398    22      8        0        0  \n122399    23      8        0        0  \n\n[122400 rows x 13 columns]"
     },
     "execution_count": 163,
     "metadata": {},
     "output_type": "execute_result"
    }
   ],
   "source": [
    "train2"
   ]
  },
  {
   "cell_type": "code",
   "execution_count": 168,
   "metadata": {},
   "outputs": [
    {
     "name": "stdout",
     "output_type": "stream",
     "text": [
      "Training until validation scores don't improve for 25 rounds\n",
      "[50]\tvalid_0's l2: 137744\n",
      "[100]\tvalid_0's l2: 89141.2\n",
      "[150]\tvalid_0's l2: 74148.9\n",
      "[200]\tvalid_0's l2: 65055.7\n",
      "[250]\tvalid_0's l2: 60337.3\n",
      "[300]\tvalid_0's l2: 56201\n",
      "[350]\tvalid_0's l2: 53015.7\n",
      "[400]\tvalid_0's l2: 50979.6\n",
      "[450]\tvalid_0's l2: 49332.3\n",
      "[500]\tvalid_0's l2: 47796.7\n",
      "[550]\tvalid_0's l2: 46594.5\n",
      "[600]\tvalid_0's l2: 45623.8\n",
      "[650]\tvalid_0's l2: 45205.5\n",
      "[700]\tvalid_0's l2: 44477.2\n",
      "[750]\tvalid_0's l2: 43849.9\n",
      "[800]\tvalid_0's l2: 43178.4\n",
      "[850]\tvalid_0's l2: 42782.5\n",
      "[900]\tvalid_0's l2: 42402\n",
      "[950]\tvalid_0's l2: 41797.8\n",
      "[1000]\tvalid_0's l2: 41452\n",
      "[1050]\tvalid_0's l2: 41040.9\n",
      "[1100]\tvalid_0's l2: 40723.2\n",
      "[1150]\tvalid_0's l2: 40455.1\n",
      "[1200]\tvalid_0's l2: 40055.3\n",
      "[1250]\tvalid_0's l2: 39836.6\n",
      "[1300]\tvalid_0's l2: 39576\n",
      "[1350]\tvalid_0's l2: 39347.4\n",
      "[1400]\tvalid_0's l2: 39159.3\n",
      "[1450]\tvalid_0's l2: 38999.4\n",
      "[1500]\tvalid_0's l2: 38831.7\n",
      "[1550]\tvalid_0's l2: 38748\n",
      "[1600]\tvalid_0's l2: 38603\n",
      "[1650]\tvalid_0's l2: 38499.2\n",
      "[1700]\tvalid_0's l2: 38445.9\n",
      "[1750]\tvalid_0's l2: 38341.7\n",
      "Early stopping, best iteration is:\n",
      "[1766]\tvalid_0's l2: 38273.5\n",
      "----------------------------------------n_fold:1----------------------------------------\n",
      "Training until validation scores don't improve for 25 rounds\n",
      "[50]\tvalid_0's l2: 147331\n",
      "[100]\tvalid_0's l2: 97553.2\n",
      "[150]\tvalid_0's l2: 82038.3\n",
      "[200]\tvalid_0's l2: 72816.9\n",
      "[250]\tvalid_0's l2: 66369.8\n",
      "[300]\tvalid_0's l2: 62322.9\n",
      "[350]\tvalid_0's l2: 59570.8\n",
      "[400]\tvalid_0's l2: 57386.1\n",
      "[450]\tvalid_0's l2: 55470.4\n",
      "[500]\tvalid_0's l2: 53262.3\n",
      "[550]\tvalid_0's l2: 51880.8\n",
      "[600]\tvalid_0's l2: 51002.2\n",
      "[650]\tvalid_0's l2: 49694.2\n",
      "[700]\tvalid_0's l2: 48782.7\n",
      "[750]\tvalid_0's l2: 47962.3\n",
      "[800]\tvalid_0's l2: 47540.9\n",
      "[850]\tvalid_0's l2: 46920.5\n",
      "[900]\tvalid_0's l2: 46531.7\n",
      "[950]\tvalid_0's l2: 45997.4\n",
      "[1000]\tvalid_0's l2: 45547.3\n",
      "[1050]\tvalid_0's l2: 45034.3\n",
      "[1100]\tvalid_0's l2: 44719.2\n",
      "[1150]\tvalid_0's l2: 44372.9\n",
      "[1200]\tvalid_0's l2: 43888.5\n",
      "[1250]\tvalid_0's l2: 43481.9\n",
      "[1300]\tvalid_0's l2: 43206.8\n",
      "[1350]\tvalid_0's l2: 42930.1\n",
      "[1400]\tvalid_0's l2: 42760.4\n",
      "[1450]\tvalid_0's l2: 42420.7\n",
      "Early stopping, best iteration is:\n",
      "[1449]\tvalid_0's l2: 42389.2\n",
      "----------------------------------------n_fold:2----------------------------------------\n",
      "Training until validation scores don't improve for 25 rounds\n",
      "[50]\tvalid_0's l2: 138983\n",
      "[100]\tvalid_0's l2: 91741.8\n",
      "[150]\tvalid_0's l2: 77338.6\n",
      "[200]\tvalid_0's l2: 68087.5\n",
      "[250]\tvalid_0's l2: 61388.3\n",
      "[300]\tvalid_0's l2: 56838.3\n",
      "[350]\tvalid_0's l2: 53830.7\n",
      "[400]\tvalid_0's l2: 50985.9\n",
      "[450]\tvalid_0's l2: 49218\n",
      "[500]\tvalid_0's l2: 48003.3\n",
      "[550]\tvalid_0's l2: 46818.2\n",
      "[600]\tvalid_0's l2: 45956\n",
      "[650]\tvalid_0's l2: 45347.8\n",
      "[700]\tvalid_0's l2: 44906.6\n",
      "[750]\tvalid_0's l2: 44467.5\n",
      "[800]\tvalid_0's l2: 43862.5\n",
      "[850]\tvalid_0's l2: 43581.3\n",
      "[900]\tvalid_0's l2: 43122.8\n",
      "[950]\tvalid_0's l2: 42452.8\n",
      "[1000]\tvalid_0's l2: 42031.3\n",
      "[1050]\tvalid_0's l2: 41574\n",
      "[1100]\tvalid_0's l2: 41229.2\n",
      "[1150]\tvalid_0's l2: 40675.4\n",
      "[1200]\tvalid_0's l2: 40313.3\n",
      "[1250]\tvalid_0's l2: 40017.7\n",
      "[1300]\tvalid_0's l2: 39673.8\n",
      "[1350]\tvalid_0's l2: 39441.7\n",
      "[1400]\tvalid_0's l2: 39341.3\n",
      "[1450]\tvalid_0's l2: 39161.4\n",
      "[1500]\tvalid_0's l2: 39033\n",
      "[1550]\tvalid_0's l2: 38780.7\n",
      "[1600]\tvalid_0's l2: 38610.4\n",
      "[1650]\tvalid_0's l2: 38515.8\n",
      "Early stopping, best iteration is:\n",
      "[1637]\tvalid_0's l2: 38487\n",
      "----------------------------------------n_fold:3----------------------------------------\n",
      "Training until validation scores don't improve for 25 rounds\n",
      "[50]\tvalid_0's l2: 137043\n",
      "[100]\tvalid_0's l2: 88924.6\n",
      "[150]\tvalid_0's l2: 73215.3\n",
      "[200]\tvalid_0's l2: 64550.3\n",
      "[250]\tvalid_0's l2: 59837.4\n",
      "[300]\tvalid_0's l2: 54853.7\n",
      "[350]\tvalid_0's l2: 51341.5\n",
      "[400]\tvalid_0's l2: 48764.8\n",
      "[450]\tvalid_0's l2: 47032.6\n",
      "[500]\tvalid_0's l2: 45881.3\n",
      "[550]\tvalid_0's l2: 44442.5\n",
      "[600]\tvalid_0's l2: 43453.3\n",
      "[650]\tvalid_0's l2: 42676.8\n",
      "[700]\tvalid_0's l2: 42119.9\n",
      "[750]\tvalid_0's l2: 41392.9\n",
      "[800]\tvalid_0's l2: 40660.2\n",
      "[850]\tvalid_0's l2: 40210\n",
      "[900]\tvalid_0's l2: 39633.2\n",
      "[950]\tvalid_0's l2: 39063.6\n",
      "[1000]\tvalid_0's l2: 38535.5\n",
      "[1050]\tvalid_0's l2: 38132.8\n",
      "[1100]\tvalid_0's l2: 37743\n",
      "[1150]\tvalid_0's l2: 37445.5\n",
      "[1200]\tvalid_0's l2: 37223.4\n",
      "[1250]\tvalid_0's l2: 37116.8\n",
      "[1300]\tvalid_0's l2: 36760.2\n",
      "[1350]\tvalid_0's l2: 36552.4\n",
      "[1400]\tvalid_0's l2: 36394.5\n",
      "[1450]\tvalid_0's l2: 36245.7\n",
      "[1500]\tvalid_0's l2: 36064.7\n",
      "[1550]\tvalid_0's l2: 35891.6\n",
      "[1600]\tvalid_0's l2: 35630\n",
      "[1650]\tvalid_0's l2: 35479.1\n",
      "[1700]\tvalid_0's l2: 35486.7\n",
      "Early stopping, best iteration is:\n",
      "[1678]\tvalid_0's l2: 35407.5\n",
      "----------------------------------------n_fold:4----------------------------------------\n",
      "Training until validation scores don't improve for 25 rounds\n",
      "[50]\tvalid_0's l2: 144868\n",
      "[100]\tvalid_0's l2: 96266.3\n",
      "[150]\tvalid_0's l2: 82075.3\n",
      "[200]\tvalid_0's l2: 72271.3\n",
      "[250]\tvalid_0's l2: 66713.6\n",
      "[300]\tvalid_0's l2: 62373.4\n",
      "[350]\tvalid_0's l2: 59822.8\n",
      "[400]\tvalid_0's l2: 57713.4\n",
      "[450]\tvalid_0's l2: 55765.4\n",
      "[500]\tvalid_0's l2: 54274.4\n",
      "[550]\tvalid_0's l2: 53406.6\n",
      "[600]\tvalid_0's l2: 52183.3\n",
      "[650]\tvalid_0's l2: 51448.4\n",
      "[700]\tvalid_0's l2: 50719.6\n",
      "[750]\tvalid_0's l2: 49935.8\n",
      "[800]\tvalid_0's l2: 49279.7\n",
      "[850]\tvalid_0's l2: 48405.5\n",
      "[900]\tvalid_0's l2: 47954\n",
      "[950]\tvalid_0's l2: 47686.9\n",
      "[1000]\tvalid_0's l2: 47100.5\n",
      "[1050]\tvalid_0's l2: 46662.6\n",
      "[1100]\tvalid_0's l2: 46158.5\n",
      "[1150]\tvalid_0's l2: 45682\n",
      "[1200]\tvalid_0's l2: 45452.9\n",
      "[1250]\tvalid_0's l2: 45122.5\n",
      "[1300]\tvalid_0's l2: 44945.1\n",
      "[1350]\tvalid_0's l2: 44785.7\n",
      "[1400]\tvalid_0's l2: 44470.4\n",
      "[1450]\tvalid_0's l2: 44229.9\n",
      "[1500]\tvalid_0's l2: 43974.8\n",
      "[1550]\tvalid_0's l2: 43895.4\n",
      "[1600]\tvalid_0's l2: 43692.1\n",
      "[1650]\tvalid_0's l2: 43460\n",
      "[1700]\tvalid_0's l2: 43204.9\n",
      "[1750]\tvalid_0's l2: 43005\n",
      "[1800]\tvalid_0's l2: 42939.8\n",
      "[1850]\tvalid_0's l2: 42827.7\n",
      "[1900]\tvalid_0's l2: 42666.5\n",
      "[1950]\tvalid_0's l2: 42539.6\n",
      "[2000]\tvalid_0's l2: 42373.2\n",
      "[2050]\tvalid_0's l2: 42223.1\n",
      "[2100]\tvalid_0's l2: 42113.6\n",
      "[2150]\tvalid_0's l2: 41980.9\n",
      "[2200]\tvalid_0's l2: 41890.8\n",
      "[2250]\tvalid_0's l2: 41790.1\n",
      "[2300]\tvalid_0's l2: 41721.1\n",
      "Early stopping, best iteration is:\n",
      "[2317]\tvalid_0's l2: 41686.9\n",
      "----------------------------------------n_fold:5----------------------------------------\n"
     ]
    }
   ],
   "source": [
    "from sklearn.model_selection import KFold\r\n",
    "kf = KFold(n_splits=5, shuffle=True, random_state=42)\r\n",
    "i = 0\r\n",
    "result = 0\r\n",
    "best_score = 0\r\n",
    "for train_idx, test_idx in kf.split(train2, train['전력사용량(kWh)']):\r\n",
    "    x_train, x_val = train2.iloc[train_idx], train2.iloc[test_idx]\r\n",
    "    y_train, y_val = train['전력사용량(kWh)'][train_idx], train['전력사용량(kWh)'][test_idx]\r\n",
    "    li.fit(x_train, y_train, eval_set=[(x_val, y_val)], verbose=50, early_stopping_rounds=25)\r\n",
    "    result += li.predict(test2)\r\n",
    "    i += 1\r\n",
    "    print(f'----------------------------------------n_fold:{i}----------------------------------------')"
   ]
  },
  {
   "cell_type": "code",
   "execution_count": 165,
   "metadata": {},
   "outputs": [
    {
     "data": {
      "text/plain": "array([3604.55184193, 3617.80660539, 3593.20753617, ..., 7199.84573789,\n       7116.45542976, 6855.40279578])"
     },
     "execution_count": 165,
     "metadata": {},
     "output_type": "execute_result"
    }
   ],
   "source": [
    "result"
   ]
  },
  {
   "cell_type": "code",
   "execution_count": null,
   "metadata": {},
   "outputs": [
    {
     "data": {
      "text/html": "<div>\n<style scoped>\n    .dataframe tbody tr th:only-of-type {\n        vertical-align: middle;\n    }\n\n    .dataframe tbody tr th {\n        vertical-align: top;\n    }\n\n    .dataframe thead th {\n        text-align: right;\n    }\n</style>\n<table border=\"1\" class=\"dataframe\">\n  <thead>\n    <tr style=\"text-align: right;\">\n      <th></th>\n      <th>num_date_time</th>\n      <th>answer</th>\n    </tr>\n  </thead>\n  <tbody>\n    <tr>\n      <th>0</th>\n      <td>1 2020-08-25 00</td>\n      <td>0</td>\n    </tr>\n    <tr>\n      <th>1</th>\n      <td>1 2020-08-25 01</td>\n      <td>0</td>\n    </tr>\n    <tr>\n      <th>2</th>\n      <td>1 2020-08-25 02</td>\n      <td>0</td>\n    </tr>\n    <tr>\n      <th>3</th>\n      <td>1 2020-08-25 03</td>\n      <td>0</td>\n    </tr>\n    <tr>\n      <th>4</th>\n      <td>1 2020-08-25 04</td>\n      <td>0</td>\n    </tr>\n    <tr>\n      <th>...</th>\n      <td>...</td>\n      <td>...</td>\n    </tr>\n    <tr>\n      <th>10075</th>\n      <td>60 2020-08-31 19</td>\n      <td>0</td>\n    </tr>\n    <tr>\n      <th>10076</th>\n      <td>60 2020-08-31 20</td>\n      <td>0</td>\n    </tr>\n    <tr>\n      <th>10077</th>\n      <td>60 2020-08-31 21</td>\n      <td>0</td>\n    </tr>\n    <tr>\n      <th>10078</th>\n      <td>60 2020-08-31 22</td>\n      <td>0</td>\n    </tr>\n    <tr>\n      <th>10079</th>\n      <td>60 2020-08-31 23</td>\n      <td>0</td>\n    </tr>\n  </tbody>\n</table>\n<p>10080 rows × 2 columns</p>\n</div>",
      "text/plain": "          num_date_time  answer\n0       1 2020-08-25 00       0\n1       1 2020-08-25 01       0\n2       1 2020-08-25 02       0\n3       1 2020-08-25 03       0\n4       1 2020-08-25 04       0\n...                 ...     ...\n10075  60 2020-08-31 19       0\n10076  60 2020-08-31 20       0\n10077  60 2020-08-31 21       0\n10078  60 2020-08-31 22       0\n10079  60 2020-08-31 23       0\n\n[10080 rows x 2 columns]"
     },
     "execution_count": 91,
     "metadata": {},
     "output_type": "execute_result"
    }
   ],
   "source": [
    "sub = pd.read_csv('sample_submission.csv')\r\n",
    "sub"
   ]
  },
  {
   "cell_type": "code",
   "execution_count": null,
   "metadata": {},
   "outputs": [],
   "source": []
  }
 ],
 "metadata": {
  "kernelspec": {
   "display_name": "Python 3.8.5 64-bit ('base': conda)",
   "name": "python385jvsc74a57bd0183bbf6827d058c2a2fb0f4acdc0420849dda2b4380af0e437e38c64d798d8b7"
  },
  "language_info": {
   "codemirror_mode": {
    "name": "ipython",
    "version": 3
   },
   "file_extension": ".py",
   "mimetype": "text/x-python",
   "name": "python",
   "nbconvert_exporter": "python",
   "pygments_lexer": "ipython3",
   "version": "3.8.5"
  },
  "orig_nbformat": 2
 },
 "nbformat": 4,
 "nbformat_minor": 2
}