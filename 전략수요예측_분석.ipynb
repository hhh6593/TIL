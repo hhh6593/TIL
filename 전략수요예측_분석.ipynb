{
 "cells": [
  {
   "cell_type": "code",
   "execution_count": 215,
   "metadata": {},
   "outputs": [],
   "source": [
    "import pandas as pd\r\n",
    "import numpy as np\r\n",
    "import matplotlib.pyplot as plt\r\n",
    "import seaborn as sns\r\n",
    "from sklearn.cluster import KMeans\r\n",
    "\r\n",
    "import warnings\r\n",
    "warnings.filterwarnings(action='ignore')"
   ]
  },
  {
   "cell_type": "code",
   "execution_count": 216,
   "metadata": {},
   "outputs": [
    {
     "data": {
      "text/html": "<div>\n<style scoped>\n    .dataframe tbody tr th:only-of-type {\n        vertical-align: middle;\n    }\n\n    .dataframe tbody tr th {\n        vertical-align: top;\n    }\n\n    .dataframe thead th {\n        text-align: right;\n    }\n</style>\n<table border=\"1\" class=\"dataframe\">\n  <thead>\n    <tr style=\"text-align: right;\">\n      <th></th>\n      <th>num</th>\n      <th>date_time</th>\n      <th>전력사용량(kWh)</th>\n      <th>기온(°C)</th>\n      <th>풍속(m/s)</th>\n      <th>습도(%)</th>\n      <th>강수량(mm)</th>\n      <th>일조(hr)</th>\n      <th>비전기냉방설비운영</th>\n      <th>태양광보유</th>\n    </tr>\n  </thead>\n  <tbody>\n    <tr>\n      <th>0</th>\n      <td>1</td>\n      <td>2020-06-01 00</td>\n      <td>8179.056</td>\n      <td>17.6</td>\n      <td>2.5</td>\n      <td>92.0</td>\n      <td>0.8</td>\n      <td>0.0</td>\n      <td>0.0</td>\n      <td>0.0</td>\n    </tr>\n    <tr>\n      <th>1</th>\n      <td>1</td>\n      <td>2020-06-01 01</td>\n      <td>8135.640</td>\n      <td>17.7</td>\n      <td>2.9</td>\n      <td>91.0</td>\n      <td>0.3</td>\n      <td>0.0</td>\n      <td>0.0</td>\n      <td>0.0</td>\n    </tr>\n    <tr>\n      <th>2</th>\n      <td>1</td>\n      <td>2020-06-01 02</td>\n      <td>8107.128</td>\n      <td>17.5</td>\n      <td>3.2</td>\n      <td>91.0</td>\n      <td>0.0</td>\n      <td>0.0</td>\n      <td>0.0</td>\n      <td>0.0</td>\n    </tr>\n    <tr>\n      <th>3</th>\n      <td>1</td>\n      <td>2020-06-01 03</td>\n      <td>8048.808</td>\n      <td>17.1</td>\n      <td>3.2</td>\n      <td>91.0</td>\n      <td>0.0</td>\n      <td>0.0</td>\n      <td>0.0</td>\n      <td>0.0</td>\n    </tr>\n    <tr>\n      <th>4</th>\n      <td>1</td>\n      <td>2020-06-01 04</td>\n      <td>8043.624</td>\n      <td>17.0</td>\n      <td>3.3</td>\n      <td>92.0</td>\n      <td>0.0</td>\n      <td>0.0</td>\n      <td>0.0</td>\n      <td>0.0</td>\n    </tr>\n    <tr>\n      <th>...</th>\n      <td>...</td>\n      <td>...</td>\n      <td>...</td>\n      <td>...</td>\n      <td>...</td>\n      <td>...</td>\n      <td>...</td>\n      <td>...</td>\n      <td>...</td>\n      <td>...</td>\n    </tr>\n    <tr>\n      <th>122395</th>\n      <td>60</td>\n      <td>2020-08-24 19</td>\n      <td>4114.368</td>\n      <td>27.8</td>\n      <td>2.3</td>\n      <td>68.0</td>\n      <td>0.0</td>\n      <td>0.7</td>\n      <td>1.0</td>\n      <td>1.0</td>\n    </tr>\n    <tr>\n      <th>122396</th>\n      <td>60</td>\n      <td>2020-08-24 20</td>\n      <td>3975.696</td>\n      <td>27.3</td>\n      <td>1.2</td>\n      <td>71.0</td>\n      <td>0.0</td>\n      <td>0.0</td>\n      <td>1.0</td>\n      <td>1.0</td>\n    </tr>\n    <tr>\n      <th>122397</th>\n      <td>60</td>\n      <td>2020-08-24 21</td>\n      <td>3572.208</td>\n      <td>27.3</td>\n      <td>1.8</td>\n      <td>71.0</td>\n      <td>0.0</td>\n      <td>0.0</td>\n      <td>1.0</td>\n      <td>1.0</td>\n    </tr>\n    <tr>\n      <th>122398</th>\n      <td>60</td>\n      <td>2020-08-24 22</td>\n      <td>3299.184</td>\n      <td>27.1</td>\n      <td>1.8</td>\n      <td>74.0</td>\n      <td>0.0</td>\n      <td>0.0</td>\n      <td>1.0</td>\n      <td>1.0</td>\n    </tr>\n    <tr>\n      <th>122399</th>\n      <td>60</td>\n      <td>2020-08-24 23</td>\n      <td>3204.576</td>\n      <td>27.1</td>\n      <td>2.6</td>\n      <td>75.0</td>\n      <td>0.0</td>\n      <td>0.0</td>\n      <td>1.0</td>\n      <td>1.0</td>\n    </tr>\n  </tbody>\n</table>\n<p>122400 rows × 10 columns</p>\n</div>",
      "text/plain": "        num      date_time  전력사용량(kWh)  기온(°C)  풍속(m/s)  습도(%)  강수량(mm)  \\\n0         1  2020-06-01 00    8179.056    17.6      2.5   92.0      0.8   \n1         1  2020-06-01 01    8135.640    17.7      2.9   91.0      0.3   \n2         1  2020-06-01 02    8107.128    17.5      3.2   91.0      0.0   \n3         1  2020-06-01 03    8048.808    17.1      3.2   91.0      0.0   \n4         1  2020-06-01 04    8043.624    17.0      3.3   92.0      0.0   \n...     ...            ...         ...     ...      ...    ...      ...   \n122395   60  2020-08-24 19    4114.368    27.8      2.3   68.0      0.0   \n122396   60  2020-08-24 20    3975.696    27.3      1.2   71.0      0.0   \n122397   60  2020-08-24 21    3572.208    27.3      1.8   71.0      0.0   \n122398   60  2020-08-24 22    3299.184    27.1      1.8   74.0      0.0   \n122399   60  2020-08-24 23    3204.576    27.1      2.6   75.0      0.0   \n\n        일조(hr)  비전기냉방설비운영  태양광보유  \n0          0.0        0.0    0.0  \n1          0.0        0.0    0.0  \n2          0.0        0.0    0.0  \n3          0.0        0.0    0.0  \n4          0.0        0.0    0.0  \n...        ...        ...    ...  \n122395     0.7        1.0    1.0  \n122396     0.0        1.0    1.0  \n122397     0.0        1.0    1.0  \n122398     0.0        1.0    1.0  \n122399     0.0        1.0    1.0  \n\n[122400 rows x 10 columns]"
     },
     "execution_count": 216,
     "metadata": {},
     "output_type": "execute_result"
    }
   ],
   "source": [
    "train = pd.read_csv('train.csv', engine='python')\r\n",
    "train"
   ]
  },
  {
   "cell_type": "code",
   "execution_count": 217,
   "metadata": {},
   "outputs": [
    {
     "data": {
      "text/html": "<div>\n<style scoped>\n    .dataframe tbody tr th:only-of-type {\n        vertical-align: middle;\n    }\n\n    .dataframe tbody tr th {\n        vertical-align: top;\n    }\n\n    .dataframe thead th {\n        text-align: right;\n    }\n</style>\n<table border=\"1\" class=\"dataframe\">\n  <thead>\n    <tr style=\"text-align: right;\">\n      <th></th>\n      <th>num</th>\n      <th>date_time</th>\n      <th>기온(°C)</th>\n      <th>풍속(m/s)</th>\n      <th>습도(%)</th>\n      <th>강수량(mm, 6시간)</th>\n      <th>일조(hr, 3시간)</th>\n      <th>비전기냉방설비운영</th>\n      <th>태양광보유</th>\n    </tr>\n  </thead>\n  <tbody>\n    <tr>\n      <th>0</th>\n      <td>1</td>\n      <td>2020-08-25 00</td>\n      <td>27.8</td>\n      <td>1.5</td>\n      <td>74.0</td>\n      <td>0.0</td>\n      <td>0.0</td>\n      <td>NaN</td>\n      <td>NaN</td>\n    </tr>\n    <tr>\n      <th>1</th>\n      <td>1</td>\n      <td>2020-08-25 01</td>\n      <td>NaN</td>\n      <td>NaN</td>\n      <td>NaN</td>\n      <td>NaN</td>\n      <td>NaN</td>\n      <td>NaN</td>\n      <td>NaN</td>\n    </tr>\n    <tr>\n      <th>2</th>\n      <td>1</td>\n      <td>2020-08-25 02</td>\n      <td>NaN</td>\n      <td>NaN</td>\n      <td>NaN</td>\n      <td>NaN</td>\n      <td>NaN</td>\n      <td>NaN</td>\n      <td>NaN</td>\n    </tr>\n    <tr>\n      <th>3</th>\n      <td>1</td>\n      <td>2020-08-25 03</td>\n      <td>27.3</td>\n      <td>1.1</td>\n      <td>78.0</td>\n      <td>NaN</td>\n      <td>0.0</td>\n      <td>NaN</td>\n      <td>NaN</td>\n    </tr>\n    <tr>\n      <th>4</th>\n      <td>1</td>\n      <td>2020-08-25 04</td>\n      <td>NaN</td>\n      <td>NaN</td>\n      <td>NaN</td>\n      <td>NaN</td>\n      <td>NaN</td>\n      <td>NaN</td>\n      <td>NaN</td>\n    </tr>\n    <tr>\n      <th>...</th>\n      <td>...</td>\n      <td>...</td>\n      <td>...</td>\n      <td>...</td>\n      <td>...</td>\n      <td>...</td>\n      <td>...</td>\n      <td>...</td>\n      <td>...</td>\n    </tr>\n    <tr>\n      <th>10075</th>\n      <td>60</td>\n      <td>2020-08-31 19</td>\n      <td>NaN</td>\n      <td>NaN</td>\n      <td>NaN</td>\n      <td>NaN</td>\n      <td>NaN</td>\n      <td>NaN</td>\n      <td>NaN</td>\n    </tr>\n    <tr>\n      <th>10076</th>\n      <td>60</td>\n      <td>2020-08-31 20</td>\n      <td>NaN</td>\n      <td>NaN</td>\n      <td>NaN</td>\n      <td>NaN</td>\n      <td>NaN</td>\n      <td>NaN</td>\n      <td>NaN</td>\n    </tr>\n    <tr>\n      <th>10077</th>\n      <td>60</td>\n      <td>2020-08-31 21</td>\n      <td>27.9</td>\n      <td>4.1</td>\n      <td>68.0</td>\n      <td>NaN</td>\n      <td>0.0</td>\n      <td>1.0</td>\n      <td>1.0</td>\n    </tr>\n    <tr>\n      <th>10078</th>\n      <td>60</td>\n      <td>2020-08-31 22</td>\n      <td>NaN</td>\n      <td>NaN</td>\n      <td>NaN</td>\n      <td>NaN</td>\n      <td>NaN</td>\n      <td>NaN</td>\n      <td>NaN</td>\n    </tr>\n    <tr>\n      <th>10079</th>\n      <td>60</td>\n      <td>2020-08-31 23</td>\n      <td>NaN</td>\n      <td>NaN</td>\n      <td>NaN</td>\n      <td>NaN</td>\n      <td>NaN</td>\n      <td>NaN</td>\n      <td>NaN</td>\n    </tr>\n  </tbody>\n</table>\n<p>10080 rows × 9 columns</p>\n</div>",
      "text/plain": "       num      date_time  기온(°C)  풍속(m/s)  습도(%)  강수량(mm, 6시간)  일조(hr, 3시간)  \\\n0        1  2020-08-25 00    27.8      1.5   74.0           0.0          0.0   \n1        1  2020-08-25 01     NaN      NaN    NaN           NaN          NaN   \n2        1  2020-08-25 02     NaN      NaN    NaN           NaN          NaN   \n3        1  2020-08-25 03    27.3      1.1   78.0           NaN          0.0   \n4        1  2020-08-25 04     NaN      NaN    NaN           NaN          NaN   \n...    ...            ...     ...      ...    ...           ...          ...   \n10075   60  2020-08-31 19     NaN      NaN    NaN           NaN          NaN   \n10076   60  2020-08-31 20     NaN      NaN    NaN           NaN          NaN   \n10077   60  2020-08-31 21    27.9      4.1   68.0           NaN          0.0   \n10078   60  2020-08-31 22     NaN      NaN    NaN           NaN          NaN   \n10079   60  2020-08-31 23     NaN      NaN    NaN           NaN          NaN   \n\n       비전기냉방설비운영  태양광보유  \n0            NaN    NaN  \n1            NaN    NaN  \n2            NaN    NaN  \n3            NaN    NaN  \n4            NaN    NaN  \n...          ...    ...  \n10075        NaN    NaN  \n10076        NaN    NaN  \n10077        1.0    1.0  \n10078        NaN    NaN  \n10079        NaN    NaN  \n\n[10080 rows x 9 columns]"
     },
     "execution_count": 217,
     "metadata": {},
     "output_type": "execute_result"
    }
   ],
   "source": [
    "test = pd.read_csv('test.csv', engine='python')\r\n",
    "test"
   ]
  },
  {
   "cell_type": "code",
   "execution_count": 218,
   "metadata": {},
   "outputs": [
    {
     "name": "stdout",
     "output_type": "stream",
     "text": [
      "k: 2, inertia : 141731596052.6865\n",
      "k: 3, inertia : 93263968980.8303\n",
      "k: 4, inertia : 67366933376.6103\n",
      "k: 5, inertia : 56459648679.0319\n",
      "k: 6, inertia : 47063655777.2855\n",
      "k: 7, inertia : 40041384909.0536\n",
      "k: 8, inertia : 32744351078.3215\n",
      "k: 9, inertia : 27965201748.6183\n",
      "k: 10, inertia : 24313672662.1185\n"
     ]
    },
    {
     "data": {
      "text/plain": "Text(0, 0.5, 'inertia')"
     },
     "execution_count": 218,
     "metadata": {},
     "output_type": "execute_result"
    },
    {
     "data": {
      "image/png": "[encoded data removed]",
      "text/plain": "<Figure size 432x288 with 1 Axes>"
     },
     "metadata": {
      "needs_background": "light"
     },
     "output_type": "display_data"
    }
   ],
   "source": [
    "#적정 군집수 파악\r\n",
    "cl_train = train['전력사용량(kWh)'].values.reshape(60, -1)\r\n",
    "inertia_arr = []\r\n",
    "k_arr = range(2, 11)\r\n",
    "\r\n",
    "for k in k_arr:\r\n",
    "    kmeans = KMeans(n_clusters=k, random_state=0)\r\n",
    "    kmeans.fit(cl_train)\r\n",
    "    interia = kmeans.inertia_\r\n",
    "    \r\n",
    "    print('k: {0}, inertia : {1:.4f}'.format(k, interia))\r\n",
    "    inertia_arr.append(interia)\r\n",
    "\r\n",
    "plt.plot(k_arr, inertia_arr)\r\n",
    "plt.xlabel('k')\r\n",
    "plt.ylabel('inertia')"
   ]
  },
  {
   "cell_type": "code",
   "execution_count": 219,
   "metadata": {},
   "outputs": [],
   "source": [
    "km = KMeans(n_clusters=4, random_state=42)\r\n",
    "km.fit(cl_train)\r\n",
    "km_pred = km.predict(cl_train)"
   ]
  },
  {
   "cell_type": "code",
   "execution_count": 220,
   "metadata": {},
   "outputs": [
    {
     "data": {
      "text/html": "<div>\n<style scoped>\n    .dataframe tbody tr th:only-of-type {\n        vertical-align: middle;\n    }\n\n    .dataframe tbody tr th {\n        vertical-align: top;\n    }\n\n    .dataframe thead th {\n        text-align: right;\n    }\n</style>\n<table border=\"1\" class=\"dataframe\">\n  <thead>\n    <tr style=\"text-align: right;\">\n      <th></th>\n      <th>0</th>\n      <th>num</th>\n    </tr>\n  </thead>\n  <tbody>\n    <tr>\n      <th>0</th>\n      <td>1</td>\n      <td>1</td>\n    </tr>\n    <tr>\n      <th>1</th>\n      <td>2</td>\n      <td>2</td>\n    </tr>\n    <tr>\n      <th>2</th>\n      <td>0</td>\n      <td>3</td>\n    </tr>\n    <tr>\n      <th>3</th>\n      <td>2</td>\n      <td>4</td>\n    </tr>\n    <tr>\n      <th>4</th>\n      <td>0</td>\n      <td>5</td>\n    </tr>\n    <tr>\n      <th>5</th>\n      <td>2</td>\n      <td>6</td>\n    </tr>\n    <tr>\n      <th>6</th>\n      <td>2</td>\n      <td>7</td>\n    </tr>\n    <tr>\n      <th>7</th>\n      <td>3</td>\n      <td>8</td>\n    </tr>\n    <tr>\n      <th>8</th>\n      <td>2</td>\n      <td>9</td>\n    </tr>\n    <tr>\n      <th>9</th>\n      <td>2</td>\n      <td>10</td>\n    </tr>\n    <tr>\n      <th>10</th>\n      <td>0</td>\n      <td>11</td>\n    </tr>\n    <tr>\n      <th>11</th>\n      <td>2</td>\n      <td>12</td>\n    </tr>\n    <tr>\n      <th>12</th>\n      <td>2</td>\n      <td>13</td>\n    </tr>\n    <tr>\n      <th>13</th>\n      <td>2</td>\n      <td>14</td>\n    </tr>\n    <tr>\n      <th>14</th>\n      <td>0</td>\n      <td>15</td>\n    </tr>\n    <tr>\n      <th>15</th>\n      <td>2</td>\n      <td>16</td>\n    </tr>\n    <tr>\n      <th>16</th>\n      <td>2</td>\n      <td>17</td>\n    </tr>\n    <tr>\n      <th>17</th>\n      <td>2</td>\n      <td>18</td>\n    </tr>\n    <tr>\n      <th>18</th>\n      <td>2</td>\n      <td>19</td>\n    </tr>\n    <tr>\n      <th>19</th>\n      <td>2</td>\n      <td>20</td>\n    </tr>\n    <tr>\n      <th>20</th>\n      <td>2</td>\n      <td>21</td>\n    </tr>\n    <tr>\n      <th>21</th>\n      <td>2</td>\n      <td>22</td>\n    </tr>\n    <tr>\n      <th>22</th>\n      <td>2</td>\n      <td>23</td>\n    </tr>\n    <tr>\n      <th>23</th>\n      <td>0</td>\n      <td>24</td>\n    </tr>\n    <tr>\n      <th>24</th>\n      <td>2</td>\n      <td>25</td>\n    </tr>\n    <tr>\n      <th>25</th>\n      <td>0</td>\n      <td>26</td>\n    </tr>\n    <tr>\n      <th>26</th>\n      <td>2</td>\n      <td>27</td>\n    </tr>\n    <tr>\n      <th>27</th>\n      <td>0</td>\n      <td>28</td>\n    </tr>\n    <tr>\n      <th>28</th>\n      <td>2</td>\n      <td>29</td>\n    </tr>\n    <tr>\n      <th>29</th>\n      <td>1</td>\n      <td>30</td>\n    </tr>\n    <tr>\n      <th>30</th>\n      <td>1</td>\n      <td>31</td>\n    </tr>\n    <tr>\n      <th>31</th>\n      <td>0</td>\n      <td>32</td>\n    </tr>\n    <tr>\n      <th>32</th>\n      <td>0</td>\n      <td>33</td>\n    </tr>\n    <tr>\n      <th>33</th>\n      <td>2</td>\n      <td>34</td>\n    </tr>\n    <tr>\n      <th>34</th>\n      <td>2</td>\n      <td>35</td>\n    </tr>\n    <tr>\n      <th>35</th>\n      <td>2</td>\n      <td>36</td>\n    </tr>\n    <tr>\n      <th>36</th>\n      <td>2</td>\n      <td>37</td>\n    </tr>\n    <tr>\n      <th>37</th>\n      <td>3</td>\n      <td>38</td>\n    </tr>\n    <tr>\n      <th>38</th>\n      <td>2</td>\n      <td>39</td>\n    </tr>\n    <tr>\n      <th>39</th>\n      <td>0</td>\n      <td>40</td>\n    </tr>\n    <tr>\n      <th>40</th>\n      <td>2</td>\n      <td>41</td>\n    </tr>\n    <tr>\n      <th>41</th>\n      <td>0</td>\n      <td>42</td>\n    </tr>\n    <tr>\n      <th>42</th>\n      <td>2</td>\n      <td>43</td>\n    </tr>\n    <tr>\n      <th>43</th>\n      <td>0</td>\n      <td>44</td>\n    </tr>\n    <tr>\n      <th>44</th>\n      <td>2</td>\n      <td>45</td>\n    </tr>\n    <tr>\n      <th>45</th>\n      <td>2</td>\n      <td>46</td>\n    </tr>\n    <tr>\n      <th>46</th>\n      <td>0</td>\n      <td>47</td>\n    </tr>\n    <tr>\n      <th>47</th>\n      <td>2</td>\n      <td>48</td>\n    </tr>\n    <tr>\n      <th>48</th>\n      <td>2</td>\n      <td>49</td>\n    </tr>\n    <tr>\n      <th>49</th>\n      <td>2</td>\n      <td>50</td>\n    </tr>\n    <tr>\n      <th>50</th>\n      <td>2</td>\n      <td>51</td>\n    </tr>\n    <tr>\n      <th>51</th>\n      <td>0</td>\n      <td>52</td>\n    </tr>\n    <tr>\n      <th>52</th>\n      <td>2</td>\n      <td>53</td>\n    </tr>\n    <tr>\n      <th>53</th>\n      <td>1</td>\n      <td>54</td>\n    </tr>\n    <tr>\n      <th>54</th>\n      <td>0</td>\n      <td>55</td>\n    </tr>\n    <tr>\n      <th>55</th>\n      <td>2</td>\n      <td>56</td>\n    </tr>\n    <tr>\n      <th>56</th>\n      <td>0</td>\n      <td>57</td>\n    </tr>\n    <tr>\n      <th>57</th>\n      <td>2</td>\n      <td>58</td>\n    </tr>\n    <tr>\n      <th>58</th>\n      <td>2</td>\n      <td>59</td>\n    </tr>\n    <tr>\n      <th>59</th>\n      <td>0</td>\n      <td>60</td>\n    </tr>\n  </tbody>\n</table>\n</div>",
      "text/plain": "    0  num\n0   1    1\n1   2    2\n2   0    3\n3   2    4\n4   0    5\n5   2    6\n6   2    7\n7   3    8\n8   2    9\n9   2   10\n10  0   11\n11  2   12\n12  2   13\n13  2   14\n14  0   15\n15  2   16\n16  2   17\n17  2   18\n18  2   19\n19  2   20\n20  2   21\n21  2   22\n22  2   23\n23  0   24\n24  2   25\n25  0   26\n26  2   27\n27  0   28\n28  2   29\n29  1   30\n30  1   31\n31  0   32\n32  0   33\n33  2   34\n34  2   35\n35  2   36\n36  2   37\n37  3   38\n38  2   39\n39  0   40\n40  2   41\n41  0   42\n42  2   43\n43  0   44\n44  2   45\n45  2   46\n46  0   47\n47  2   48\n48  2   49\n49  2   50\n50  2   51\n51  0   52\n52  2   53\n53  1   54\n54  0   55\n55  2   56\n56  0   57\n57  2   58\n58  2   59\n59  0   60"
     },
     "execution_count": 220,
     "metadata": {},
     "output_type": "execute_result"
    }
   ],
   "source": [
    "clusters = pd.DataFrame(km_pred)\r\n",
    "clusters['num'] = train['num'].unique()\r\n",
    "clusters"
   ]
  },
  {
   "cell_type": "code",
   "execution_count": 221,
   "metadata": {},
   "outputs": [],
   "source": [
    "train = train.merge(clusters, on='num')\r\n",
    "train = train.rename(columns={0:'ass'})\r\n",
    "test = test.merge(clusters, on='num')\r\n",
    "test = test.rename(columns={0:'ass'})"
   ]
  },
  {
   "cell_type": "code",
   "execution_count": 222,
   "metadata": {},
   "outputs": [],
   "source": [
    "# ice = pd.DataFrame(train['비전기냉방설비운영'])\r\n",
    "# ice['num'] = train['num']\r\n",
    "# ice =ice.drop_duplicates()\r\n",
    "\r\n",
    "# hot = pd.DataFrame(train['태양광보유'])\r\n",
    "# hot['num'] = train['num']\r\n",
    "# hot = hot.drop_duplicates()"
   ]
  },
  {
   "cell_type": "code",
   "execution_count": 223,
   "metadata": {},
   "outputs": [
    {
     "data": {
      "text/html": "<div>\n<style scoped>\n    .dataframe tbody tr th:only-of-type {\n        vertical-align: middle;\n    }\n\n    .dataframe tbody tr th {\n        vertical-align: top;\n    }\n\n    .dataframe thead th {\n        text-align: right;\n    }\n</style>\n<table border=\"1\" class=\"dataframe\">\n  <thead>\n    <tr style=\"text-align: right;\">\n      <th></th>\n      <th>num</th>\n      <th>date_time</th>\n      <th>기온(°C)</th>\n      <th>풍속(m/s)</th>\n      <th>습도(%)</th>\n      <th>강수량(mm, 6시간)</th>\n      <th>일조(hr, 3시간)</th>\n      <th>비전기냉방설비운영</th>\n      <th>태양광보유</th>\n      <th>ass</th>\n    </tr>\n  </thead>\n  <tbody>\n    <tr>\n      <th>0</th>\n      <td>1</td>\n      <td>2020-08-25 00</td>\n      <td>27.800000</td>\n      <td>1.500000</td>\n      <td>74.000000</td>\n      <td>0.0</td>\n      <td>0.000000</td>\n      <td>NaN</td>\n      <td>NaN</td>\n      <td>1</td>\n    </tr>\n    <tr>\n      <th>1</th>\n      <td>1</td>\n      <td>2020-08-25 01</td>\n      <td>27.633333</td>\n      <td>1.366667</td>\n      <td>75.333333</td>\n      <td>0.0</td>\n      <td>0.000000</td>\n      <td>NaN</td>\n      <td>NaN</td>\n      <td>1</td>\n    </tr>\n    <tr>\n      <th>2</th>\n      <td>1</td>\n      <td>2020-08-25 02</td>\n      <td>27.466667</td>\n      <td>1.233333</td>\n      <td>76.666667</td>\n      <td>0.0</td>\n      <td>0.000000</td>\n      <td>NaN</td>\n      <td>NaN</td>\n      <td>1</td>\n    </tr>\n    <tr>\n      <th>3</th>\n      <td>1</td>\n      <td>2020-08-25 03</td>\n      <td>27.300000</td>\n      <td>1.100000</td>\n      <td>78.000000</td>\n      <td>0.0</td>\n      <td>0.000000</td>\n      <td>NaN</td>\n      <td>NaN</td>\n      <td>1</td>\n    </tr>\n    <tr>\n      <th>4</th>\n      <td>1</td>\n      <td>2020-08-25 04</td>\n      <td>26.900000</td>\n      <td>1.166667</td>\n      <td>79.666667</td>\n      <td>0.0</td>\n      <td>0.000000</td>\n      <td>NaN</td>\n      <td>NaN</td>\n      <td>1</td>\n    </tr>\n    <tr>\n      <th>...</th>\n      <td>...</td>\n      <td>...</td>\n      <td>...</td>\n      <td>...</td>\n      <td>...</td>\n      <td>...</td>\n      <td>...</td>\n      <td>...</td>\n      <td>...</td>\n      <td>...</td>\n    </tr>\n    <tr>\n      <th>10075</th>\n      <td>60</td>\n      <td>2020-08-31 19</td>\n      <td>28.633333</td>\n      <td>3.566667</td>\n      <td>66.000000</td>\n      <td>0.0</td>\n      <td>0.533333</td>\n      <td>1.0</td>\n      <td>1.0</td>\n      <td>0</td>\n    </tr>\n    <tr>\n      <th>10076</th>\n      <td>60</td>\n      <td>2020-08-31 20</td>\n      <td>28.266667</td>\n      <td>3.833333</td>\n      <td>67.000000</td>\n      <td>0.0</td>\n      <td>0.266667</td>\n      <td>1.0</td>\n      <td>1.0</td>\n      <td>0</td>\n    </tr>\n    <tr>\n      <th>10077</th>\n      <td>60</td>\n      <td>2020-08-31 21</td>\n      <td>27.900000</td>\n      <td>4.100000</td>\n      <td>68.000000</td>\n      <td>0.0</td>\n      <td>0.000000</td>\n      <td>1.0</td>\n      <td>1.0</td>\n      <td>0</td>\n    </tr>\n    <tr>\n      <th>10078</th>\n      <td>60</td>\n      <td>2020-08-31 22</td>\n      <td>27.900000</td>\n      <td>4.100000</td>\n      <td>68.000000</td>\n      <td>0.0</td>\n      <td>0.000000</td>\n      <td>1.0</td>\n      <td>1.0</td>\n      <td>0</td>\n    </tr>\n    <tr>\n      <th>10079</th>\n      <td>60</td>\n      <td>2020-08-31 23</td>\n      <td>27.900000</td>\n      <td>4.100000</td>\n      <td>68.000000</td>\n      <td>0.0</td>\n      <td>0.000000</td>\n      <td>1.0</td>\n      <td>1.0</td>\n      <td>0</td>\n    </tr>\n  </tbody>\n</table>\n<p>10080 rows × 10 columns</p>\n</div>",
      "text/plain": "       num      date_time     기온(°C)   풍속(m/s)      습도(%)  강수량(mm, 6시간)  \\\n0        1  2020-08-25 00  27.800000  1.500000  74.000000           0.0   \n1        1  2020-08-25 01  27.633333  1.366667  75.333333           0.0   \n2        1  2020-08-25 02  27.466667  1.233333  76.666667           0.0   \n3        1  2020-08-25 03  27.300000  1.100000  78.000000           0.0   \n4        1  2020-08-25 04  26.900000  1.166667  79.666667           0.0   \n...    ...            ...        ...       ...        ...           ...   \n10075   60  2020-08-31 19  28.633333  3.566667  66.000000           0.0   \n10076   60  2020-08-31 20  28.266667  3.833333  67.000000           0.0   \n10077   60  2020-08-31 21  27.900000  4.100000  68.000000           0.0   \n10078   60  2020-08-31 22  27.900000  4.100000  68.000000           0.0   \n10079   60  2020-08-31 23  27.900000  4.100000  68.000000           0.0   \n\n       일조(hr, 3시간)  비전기냉방설비운영  태양광보유  ass  \n0         0.000000        NaN    NaN    1  \n1         0.000000        NaN    NaN    1  \n2         0.000000        NaN    NaN    1  \n3         0.000000        NaN    NaN    1  \n4         0.000000        NaN    NaN    1  \n...            ...        ...    ...  ...  \n10075     0.533333        1.0    1.0    0  \n10076     0.266667        1.0    1.0    0  \n10077     0.000000        1.0    1.0    0  \n10078     0.000000        1.0    1.0    0  \n10079     0.000000        1.0    1.0    0  \n\n[10080 rows x 10 columns]"
     },
     "execution_count": 223,
     "metadata": {},
     "output_type": "execute_result"
    }
   ],
   "source": [
    "test.interpolate(method='values', inplace=True)\r\n",
    "test"
   ]
  },
  {
   "cell_type": "code",
   "execution_count": 224,
   "metadata": {},
   "outputs": [],
   "source": [
    "train[['num', '비전기냉방설비운영','태양광보유']]\r\n",
    "ice={}\r\n",
    "hot={}\r\n",
    "count=0\r\n",
    "for i in range(0, len(train), len(train)//60):\r\n",
    "    count +=1\r\n",
    "    ice[count]=train.loc[i,'비전기냉방설비운영']\r\n",
    "    hot[count]=train.loc[i,'태양광보유']\r\n",
    "    \r\n",
    "for i in range(len(test)):\r\n",
    "    test.loc[i, '비전기냉방설비운영']=ice[test['num'][i]]\r\n",
    "    test.loc[i, '태양광보유']=hot[test['num'][i]]"
   ]
  },
  {
   "cell_type": "code",
   "execution_count": 225,
   "metadata": {},
   "outputs": [
    {
     "data": {
      "text/plain": "<AxesSubplot:xlabel='전력사용량(kWh)', ylabel='Density'>"
     },
     "execution_count": 225,
     "metadata": {},
     "output_type": "execute_result"
    },
    {
     "data": {
      "image/png": "[encoded data removed]",
      "text/plain": "<Figure size 432x288 with 1 Axes>"
     },
     "metadata": {
      "needs_background": "light"
     },
     "output_type": "display_data"
    }
   ],
   "source": [
    "sns.distplot(train['전력사용량(kWh)'])"
   ]
  },
  {
   "cell_type": "code",
   "execution_count": 226,
   "metadata": {},
   "outputs": [],
   "source": [
    "def time(x):\r\n",
    "    return int(x[-2:])\r\n",
    "train['time']=train['date_time'].apply(lambda x: time(x))\r\n",
    "test['time']=test['date_time'].apply(lambda x: time(x))"
   ]
  },
  {
   "cell_type": "code",
   "execution_count": 227,
   "metadata": {},
   "outputs": [],
   "source": [
    "train['date_time'] = pd.to_datetime(train['date_time'])\r\n",
    "train['month'] = train['date_time'].dt.month\r\n",
    "train['weekday'] = train['date_time'].dt.weekday\r\n",
    "test['date_time'] = pd.to_datetime(test['date_time'])\r\n",
    "test['month'] = test['date_time'].dt.month\r\n",
    "test['weekday'] = test['date_time'].dt.weekday"
   ]
  },
  {
   "cell_type": "code",
   "execution_count": 228,
   "metadata": {},
   "outputs": [],
   "source": [
    "def holiday(x):\r\n",
    "    if str(x.date()) == '2020-06-06':\r\n",
    "        return 1\r\n",
    "    elif str(x.date()) == '2020-08-15':\r\n",
    "        return 1\r\n",
    "    elif x.weekday() == 5 or x.weekday() == 6:\r\n",
    "        return 1\r\n",
    "    else: \r\n",
    "        return 0\r\n",
    "\r\n",
    "train['holiday'] = train['date_time'].apply(lambda x: holiday(x))\r\n",
    "test['holiday'] = test['date_time'].apply(lambda x: holiday(x))"
   ]
  },
  {
   "cell_type": "code",
   "execution_count": 272,
   "metadata": {},
   "outputs": [],
   "source": [
    "train2 = train.drop(['date_time', '전력사용량(kWh)'], axis=1)\r\n",
    "test2 = test.drop(['date_time'], axis=1)"
   ]
  },
  {
   "cell_type": "code",
   "execution_count": 273,
   "metadata": {},
   "outputs": [],
   "source": [
    "train2 = pd.get_dummies(train2, columns=['ass'])\r\n",
    "test2 = pd.get_dummies(test2, columns=['ass'])"
   ]
  },
  {
   "cell_type": "code",
   "execution_count": 257,
   "metadata": {},
   "outputs": [],
   "source": [
    "# from sklearn.preprocessing import MinMaxScaler\r\n",
    "# scaler = MinMaxScaler()\r\n",
    "# scaler.fit(train2)\r\n",
    "# train2_scaled = pd.DataFrame(scaler.transform(train2), columns=train2.columns)\r\n",
    "# test2_scaled = pd.DataFrame(scaler.transform(test2), columns=test2.columns)"
   ]
  },
  {
   "cell_type": "code",
   "execution_count": 259,
   "metadata": {},
   "outputs": [],
   "source": [
    "from xgboost import XGBRegressor\r\n",
    "xgb = XGBRegressor(learning_rate=0.1, n_estimators=10000, colsample_bytree=0.5, subsample=0.7, max_depth=5, n_jobs=-1)"
   ]
  },
  {
   "cell_type": "code",
   "execution_count": 275,
   "metadata": {},
   "outputs": [
    {
     "name": "stdout",
     "output_type": "stream",
     "text": [
      "[0]\tvalidation_0-rmse:2834.81958\tvalidation_1-rmse:2831.58496\n"
     ]
    },
    {
     "ename": "KeyboardInterrupt",
     "evalue": "",
     "output_type": "error",
     "traceback": [
      "\u001b[1;31m---------------------------------------------------------------------------\u001b[0m",
      "\u001b[1;31mKeyboardInterrupt\u001b[0m                         Traceback (most recent call last)",
      "\u001b[1;32m<ipython-input-275-2462ce70148d>\u001b[0m in \u001b[0;36m<module>\u001b[1;34m\u001b[0m\n\u001b[0;32m      7\u001b[0m     \u001b[0mx_train\u001b[0m\u001b[1;33m,\u001b[0m \u001b[0mx_val\u001b[0m \u001b[1;33m=\u001b[0m \u001b[0mtrain2\u001b[0m\u001b[1;33m.\u001b[0m\u001b[0miloc\u001b[0m\u001b[1;33m[\u001b[0m\u001b[0mtrain_idx\u001b[0m\u001b[1;33m]\u001b[0m\u001b[1;33m,\u001b[0m \u001b[0mtrain2\u001b[0m\u001b[1;33m.\u001b[0m\u001b[0miloc\u001b[0m\u001b[1;33m[\u001b[0m\u001b[0mtest_idx\u001b[0m\u001b[1;33m]\u001b[0m\u001b[1;33m\u001b[0m\u001b[1;33m\u001b[0m\u001b[0m\n\u001b[0;32m      8\u001b[0m     \u001b[0my_train\u001b[0m\u001b[1;33m,\u001b[0m \u001b[0my_val\u001b[0m \u001b[1;33m=\u001b[0m \u001b[0mtrain\u001b[0m\u001b[1;33m[\u001b[0m\u001b[1;34m'전력사용량(kWh)'\u001b[0m\u001b[1;33m]\u001b[0m\u001b[1;33m[\u001b[0m\u001b[0mtrain_idx\u001b[0m\u001b[1;33m]\u001b[0m\u001b[1;33m,\u001b[0m \u001b[0mtrain\u001b[0m\u001b[1;33m[\u001b[0m\u001b[1;34m'전력사용량(kWh)'\u001b[0m\u001b[1;33m]\u001b[0m\u001b[1;33m[\u001b[0m\u001b[0mtest_idx\u001b[0m\u001b[1;33m]\u001b[0m\u001b[1;33m\u001b[0m\u001b[1;33m\u001b[0m\u001b[0m\n\u001b[1;32m----> 9\u001b[1;33m     \u001b[0mxgb\u001b[0m\u001b[1;33m.\u001b[0m\u001b[0mfit\u001b[0m\u001b[1;33m(\u001b[0m\u001b[0mx_train\u001b[0m\u001b[1;33m,\u001b[0m \u001b[0my_train\u001b[0m\u001b[1;33m,\u001b[0m \u001b[0meval_set\u001b[0m\u001b[1;33m=\u001b[0m\u001b[1;33m[\u001b[0m\u001b[1;33m(\u001b[0m\u001b[0mx_train\u001b[0m\u001b[1;33m,\u001b[0m \u001b[0my_train\u001b[0m\u001b[1;33m)\u001b[0m\u001b[1;33m,\u001b[0m \u001b[1;33m(\u001b[0m\u001b[0mx_val\u001b[0m\u001b[1;33m,\u001b[0m \u001b[0my_val\u001b[0m\u001b[1;33m)\u001b[0m\u001b[1;33m]\u001b[0m\u001b[1;33m,\u001b[0m \u001b[0mverbose\u001b[0m\u001b[1;33m=\u001b[0m\u001b[1;36m50\u001b[0m\u001b[1;33m,\u001b[0m \u001b[0mearly_stopping_rounds\u001b[0m\u001b[1;33m=\u001b[0m\u001b[1;36m100\u001b[0m\u001b[1;33m)\u001b[0m\u001b[1;33m\u001b[0m\u001b[1;33m\u001b[0m\u001b[0m\n\u001b[0m\u001b[0;32m     10\u001b[0m     \u001b[0mbest_score\u001b[0m\u001b[1;33m+=\u001b[0m\u001b[0mxgb\u001b[0m\u001b[1;33m.\u001b[0m\u001b[0mbest_score\u001b[0m\u001b[1;33m/\u001b[0m\u001b[1;36m5\u001b[0m\u001b[1;33m\u001b[0m\u001b[1;33m\u001b[0m\u001b[0m\n\u001b[0;32m     11\u001b[0m     \u001b[0mresult\u001b[0m \u001b[1;33m+=\u001b[0m \u001b[0mxgb\u001b[0m\u001b[1;33m.\u001b[0m\u001b[0mpredict\u001b[0m\u001b[1;33m(\u001b[0m\u001b[0mtest2\u001b[0m\u001b[1;33m)\u001b[0m\u001b[1;33m/\u001b[0m\u001b[1;36m5\u001b[0m\u001b[1;33m\u001b[0m\u001b[1;33m\u001b[0m\u001b[0m\n",
      "\u001b[1;32m~\\anaconda3\\lib\\site-packages\\xgboost\\core.py\u001b[0m in \u001b[0;36minner_f\u001b[1;34m(*args, **kwargs)\u001b[0m\n\u001b[0;32m    431\u001b[0m         \u001b[1;32mfor\u001b[0m \u001b[0mk\u001b[0m\u001b[1;33m,\u001b[0m \u001b[0marg\u001b[0m \u001b[1;32min\u001b[0m \u001b[0mzip\u001b[0m\u001b[1;33m(\u001b[0m\u001b[0msig\u001b[0m\u001b[1;33m.\u001b[0m\u001b[0mparameters\u001b[0m\u001b[1;33m,\u001b[0m \u001b[0margs\u001b[0m\u001b[1;33m)\u001b[0m\u001b[1;33m:\u001b[0m\u001b[1;33m\u001b[0m\u001b[1;33m\u001b[0m\u001b[0m\n\u001b[0;32m    432\u001b[0m             \u001b[0mkwargs\u001b[0m\u001b[1;33m[\u001b[0m\u001b[0mk\u001b[0m\u001b[1;33m]\u001b[0m \u001b[1;33m=\u001b[0m \u001b[0marg\u001b[0m\u001b[1;33m\u001b[0m\u001b[1;33m\u001b[0m\u001b[0m\n\u001b[1;32m--> 433\u001b[1;33m         \u001b[1;32mreturn\u001b[0m \u001b[0mf\u001b[0m\u001b[1;33m(\u001b[0m\u001b[1;33m**\u001b[0m\u001b[0mkwargs\u001b[0m\u001b[1;33m)\u001b[0m\u001b[1;33m\u001b[0m\u001b[1;33m\u001b[0m\u001b[0m\n\u001b[0m\u001b[0;32m    434\u001b[0m \u001b[1;33m\u001b[0m\u001b[0m\n\u001b[0;32m    435\u001b[0m     \u001b[1;32mreturn\u001b[0m \u001b[0minner_f\u001b[0m\u001b[1;33m\u001b[0m\u001b[1;33m\u001b[0m\u001b[0m\n",
      "\u001b[1;32m~\\anaconda3\\lib\\site-packages\\xgboost\\sklearn.py\u001b[0m in \u001b[0;36mfit\u001b[1;34m(self, X, y, sample_weight, base_margin, eval_set, eval_metric, early_stopping_rounds, verbose, xgb_model, sample_weight_eval_set, base_margin_eval_set, feature_weights, callbacks)\u001b[0m\n\u001b[0;32m    734\u001b[0m \u001b[1;33m\u001b[0m\u001b[0m\n\u001b[0;32m    735\u001b[0m         \u001b[0mmodel\u001b[0m\u001b[1;33m,\u001b[0m \u001b[0mfeval\u001b[0m\u001b[1;33m,\u001b[0m \u001b[0mparams\u001b[0m \u001b[1;33m=\u001b[0m \u001b[0mself\u001b[0m\u001b[1;33m.\u001b[0m\u001b[0m_configure_fit\u001b[0m\u001b[1;33m(\u001b[0m\u001b[0mxgb_model\u001b[0m\u001b[1;33m,\u001b[0m \u001b[0meval_metric\u001b[0m\u001b[1;33m,\u001b[0m \u001b[0mparams\u001b[0m\u001b[1;33m)\u001b[0m\u001b[1;33m\u001b[0m\u001b[1;33m\u001b[0m\u001b[0m\n\u001b[1;32m--> 736\u001b[1;33m         self._Booster = train(\n\u001b[0m\u001b[0;32m    737\u001b[0m             \u001b[0mparams\u001b[0m\u001b[1;33m,\u001b[0m\u001b[1;33m\u001b[0m\u001b[1;33m\u001b[0m\u001b[0m\n\u001b[0;32m    738\u001b[0m             \u001b[0mtrain_dmatrix\u001b[0m\u001b[1;33m,\u001b[0m\u001b[1;33m\u001b[0m\u001b[1;33m\u001b[0m\u001b[0m\n",
      "\u001b[1;32m~\\anaconda3\\lib\\site-packages\\xgboost\\training.py\u001b[0m in \u001b[0;36mtrain\u001b[1;34m(params, dtrain, num_boost_round, evals, obj, feval, maximize, early_stopping_rounds, evals_result, verbose_eval, xgb_model, callbacks)\u001b[0m\n\u001b[0;32m    187\u001b[0m     \u001b[0mBooster\u001b[0m \u001b[1;33m:\u001b[0m \u001b[0ma\u001b[0m \u001b[0mtrained\u001b[0m \u001b[0mbooster\u001b[0m \u001b[0mmodel\u001b[0m\u001b[1;33m\u001b[0m\u001b[1;33m\u001b[0m\u001b[0m\n\u001b[0;32m    188\u001b[0m     \"\"\"\n\u001b[1;32m--> 189\u001b[1;33m     bst = _train_internal(params, dtrain,\n\u001b[0m\u001b[0;32m    190\u001b[0m                           \u001b[0mnum_boost_round\u001b[0m\u001b[1;33m=\u001b[0m\u001b[0mnum_boost_round\u001b[0m\u001b[1;33m,\u001b[0m\u001b[1;33m\u001b[0m\u001b[1;33m\u001b[0m\u001b[0m\n\u001b[0;32m    191\u001b[0m                           \u001b[0mevals\u001b[0m\u001b[1;33m=\u001b[0m\u001b[0mevals\u001b[0m\u001b[1;33m,\u001b[0m\u001b[1;33m\u001b[0m\u001b[1;33m\u001b[0m\u001b[0m\n",
      "\u001b[1;32m~\\anaconda3\\lib\\site-packages\\xgboost\\training.py\u001b[0m in \u001b[0;36m_train_internal\u001b[1;34m(params, dtrain, num_boost_round, evals, obj, feval, xgb_model, callbacks, evals_result, maximize, verbose_eval, early_stopping_rounds)\u001b[0m\n\u001b[0;32m     79\u001b[0m         \u001b[1;32mif\u001b[0m \u001b[0mcallbacks\u001b[0m\u001b[1;33m.\u001b[0m\u001b[0mbefore_iteration\u001b[0m\u001b[1;33m(\u001b[0m\u001b[0mbst\u001b[0m\u001b[1;33m,\u001b[0m \u001b[0mi\u001b[0m\u001b[1;33m,\u001b[0m \u001b[0mdtrain\u001b[0m\u001b[1;33m,\u001b[0m \u001b[0mevals\u001b[0m\u001b[1;33m)\u001b[0m\u001b[1;33m:\u001b[0m\u001b[1;33m\u001b[0m\u001b[1;33m\u001b[0m\u001b[0m\n\u001b[0;32m     80\u001b[0m             \u001b[1;32mbreak\u001b[0m\u001b[1;33m\u001b[0m\u001b[1;33m\u001b[0m\u001b[0m\n\u001b[1;32m---> 81\u001b[1;33m         \u001b[0mbst\u001b[0m\u001b[1;33m.\u001b[0m\u001b[0mupdate\u001b[0m\u001b[1;33m(\u001b[0m\u001b[0mdtrain\u001b[0m\u001b[1;33m,\u001b[0m \u001b[0mi\u001b[0m\u001b[1;33m,\u001b[0m \u001b[0mobj\u001b[0m\u001b[1;33m)\u001b[0m\u001b[1;33m\u001b[0m\u001b[1;33m\u001b[0m\u001b[0m\n\u001b[0m\u001b[0;32m     82\u001b[0m         \u001b[1;32mif\u001b[0m \u001b[0mcallbacks\u001b[0m\u001b[1;33m.\u001b[0m\u001b[0mafter_iteration\u001b[0m\u001b[1;33m(\u001b[0m\u001b[0mbst\u001b[0m\u001b[1;33m,\u001b[0m \u001b[0mi\u001b[0m\u001b[1;33m,\u001b[0m \u001b[0mdtrain\u001b[0m\u001b[1;33m,\u001b[0m \u001b[0mevals\u001b[0m\u001b[1;33m)\u001b[0m\u001b[1;33m:\u001b[0m\u001b[1;33m\u001b[0m\u001b[1;33m\u001b[0m\u001b[0m\n\u001b[0;32m     83\u001b[0m             \u001b[1;32mbreak\u001b[0m\u001b[1;33m\u001b[0m\u001b[1;33m\u001b[0m\u001b[0m\n",
      "\u001b[1;32m~\\anaconda3\\lib\\site-packages\\xgboost\\core.py\u001b[0m in \u001b[0;36mupdate\u001b[1;34m(self, dtrain, iteration, fobj)\u001b[0m\n\u001b[0;32m   1494\u001b[0m \u001b[1;33m\u001b[0m\u001b[0m\n\u001b[0;32m   1495\u001b[0m         \u001b[1;32mif\u001b[0m \u001b[0mfobj\u001b[0m \u001b[1;32mis\u001b[0m \u001b[1;32mNone\u001b[0m\u001b[1;33m:\u001b[0m\u001b[1;33m\u001b[0m\u001b[1;33m\u001b[0m\u001b[0m\n\u001b[1;32m-> 1496\u001b[1;33m             _check_call(_LIB.XGBoosterUpdateOneIter(self.handle,\n\u001b[0m\u001b[0;32m   1497\u001b[0m                                                     \u001b[0mctypes\u001b[0m\u001b[1;33m.\u001b[0m\u001b[0mc_int\u001b[0m\u001b[1;33m(\u001b[0m\u001b[0miteration\u001b[0m\u001b[1;33m)\u001b[0m\u001b[1;33m,\u001b[0m\u001b[1;33m\u001b[0m\u001b[1;33m\u001b[0m\u001b[0m\n\u001b[0;32m   1498\u001b[0m                                                     dtrain.handle))\n",
      "\u001b[1;31mKeyboardInterrupt\u001b[0m: "
     ]
    }
   ],
   "source": [
    "from sklearn.model_selection import KFold\r\n",
    "kf = KFold(n_splits=5, shuffle=True, random_state=42)\r\n",
    "i = 0\r\n",
    "result = 0\r\n",
    "best_score = 0\r\n",
    "for train_idx, test_idx in kf.split(train2, train['전력사용량(kWh)']):\r\n",
    "    x_train, x_val = train2.iloc[train_idx], train2.iloc[test_idx]\r\n",
    "    y_train, y_val = train['전력사용량(kWh)'][train_idx], train['전력사용량(kWh)'][test_idx]\r\n",
    "    xgb.fit(x_train, y_train, eval_set=[(x_train, y_train), (x_val, y_val)], verbose=50, early_stopping_rounds=100)\r\n",
    "    best_score+=xgb.best_score/5\r\n",
    "    result += xgb.predict(test2)/5\r\n",
    "    i += 1\r\n",
    "    print(f'----------------------------------------n_fold:{i}----------------------------------------')"
   ]
  },
  {
   "cell_type": "code",
   "execution_count": 59,
   "metadata": {},
   "outputs": [],
   "source": [
    "from lightgbm import LGBMRegressor\r\n",
    "li = LGBMRegressor(n_estimators=10000, random_state=42)"
   ]
  },
  {
   "cell_type": "code",
   "execution_count": 276,
   "metadata": {},
   "outputs": [
    {
     "name": "stdout",
     "output_type": "stream",
     "text": [
      "Training until validation scores don't improve for 50 rounds\n",
      "[50]\ttraining's l2: 136412\tvalid_1's l2: 136391\n",
      "[100]\ttraining's l2: 88114.2\tvalid_1's l2: 89496.9\n",
      "[150]\ttraining's l2: 72003.8\tvalid_1's l2: 74627.7\n",
      "[200]\ttraining's l2: 61946.9\tvalid_1's l2: 66214.5\n",
      "[250]\ttraining's l2: 54412.9\tvalid_1's l2: 59844.9\n",
      "[300]\ttraining's l2: 48954\tvalid_1's l2: 55246\n",
      "[350]\ttraining's l2: 45445.8\tvalid_1's l2: 52704.4\n",
      "[400]\ttraining's l2: 42337.2\tvalid_1's l2: 50426.6\n",
      "[450]\ttraining's l2: 39804.2\tvalid_1's l2: 48932\n",
      "[500]\ttraining's l2: 37796.7\tvalid_1's l2: 47646.3\n",
      "[550]\ttraining's l2: 35957.1\tvalid_1's l2: 46546.3\n",
      "[600]\ttraining's l2: 34110\tvalid_1's l2: 45341.8\n",
      "[650]\ttraining's l2: 32508.9\tvalid_1's l2: 44309.6\n",
      "[700]\ttraining's l2: 31171.8\tvalid_1's l2: 43431.7\n",
      "[750]\ttraining's l2: 30023.7\tvalid_1's l2: 42801.8\n",
      "[800]\ttraining's l2: 29118.6\tvalid_1's l2: 42343\n",
      "[850]\ttraining's l2: 28167.5\tvalid_1's l2: 41978.3\n",
      "[900]\ttraining's l2: 27246\tvalid_1's l2: 41578.3\n",
      "[950]\ttraining's l2: 26466.8\tvalid_1's l2: 41237.9\n",
      "[1000]\ttraining's l2: 25763.8\tvalid_1's l2: 40832.2\n",
      "[1050]\ttraining's l2: 25079\tvalid_1's l2: 40356.3\n",
      "[1100]\ttraining's l2: 24372.1\tvalid_1's l2: 40049.4\n",
      "[1150]\ttraining's l2: 23650.2\tvalid_1's l2: 39539.5\n",
      "[1200]\ttraining's l2: 23167.6\tvalid_1's l2: 39257.8\n",
      "[1250]\ttraining's l2: 22740.2\tvalid_1's l2: 39099.3\n",
      "[1300]\ttraining's l2: 22302.7\tvalid_1's l2: 38997.6\n",
      "[1350]\ttraining's l2: 21931\tvalid_1's l2: 38874.6\n",
      "[1400]\ttraining's l2: 21402.8\tvalid_1's l2: 38779.8\n",
      "[1450]\ttraining's l2: 20981\tvalid_1's l2: 38659.4\n",
      "[1500]\ttraining's l2: 20628.3\tvalid_1's l2: 38548.9\n",
      "[1550]\ttraining's l2: 20294\tvalid_1's l2: 38417.5\n",
      "[1600]\ttraining's l2: 19919.5\tvalid_1's l2: 38250.2\n",
      "[1650]\ttraining's l2: 19547.2\tvalid_1's l2: 38131.5\n",
      "[1700]\ttraining's l2: 19151.8\tvalid_1's l2: 37988.8\n",
      "[1750]\ttraining's l2: 18813.4\tvalid_1's l2: 37855.7\n",
      "[1800]\ttraining's l2: 18506.3\tvalid_1's l2: 37728\n",
      "[1850]\ttraining's l2: 18208.6\tvalid_1's l2: 37648.4\n",
      "[1900]\ttraining's l2: 17877.6\tvalid_1's l2: 37550.9\n",
      "[1950]\ttraining's l2: 17592\tvalid_1's l2: 37392.1\n",
      "[2000]\ttraining's l2: 17292.8\tvalid_1's l2: 37254.1\n",
      "[2050]\ttraining's l2: 16960.7\tvalid_1's l2: 37128.5\n",
      "[2100]\ttraining's l2: 16748.9\tvalid_1's l2: 37060.1\n",
      "[2150]\ttraining's l2: 16507.2\tvalid_1's l2: 36985\n",
      "[2200]\ttraining's l2: 16272.2\tvalid_1's l2: 36896.7\n",
      "[2250]\ttraining's l2: 15988.5\tvalid_1's l2: 36837\n",
      "[2300]\ttraining's l2: 15717.6\tvalid_1's l2: 36705.6\n",
      "[2350]\ttraining's l2: 15468.9\tvalid_1's l2: 36644.4\n",
      "[2400]\ttraining's l2: 15266.6\tvalid_1's l2: 36557.8\n",
      "[2450]\ttraining's l2: 15014.7\tvalid_1's l2: 36470.6\n",
      "Early stopping, best iteration is:\n",
      "[2449]\ttraining's l2: 15017.9\tvalid_1's l2: 36468.9\n",
      "----------------------------------------n_fold:1----------------------------------------\n",
      "Training until validation scores don't improve for 50 rounds\n",
      "[50]\ttraining's l2: 136137\tvalid_1's l2: 148358\n",
      "[100]\ttraining's l2: 87492.8\tvalid_1's l2: 100027\n",
      "[150]\ttraining's l2: 71517.8\tvalid_1's l2: 84663.5\n",
      "[200]\ttraining's l2: 60650.4\tvalid_1's l2: 74145.8\n",
      "[250]\ttraining's l2: 54315.2\tvalid_1's l2: 68112.8\n",
      "[300]\ttraining's l2: 49545.9\tvalid_1's l2: 64132.8\n",
      "[350]\ttraining's l2: 46326.5\tvalid_1's l2: 61413.7\n",
      "[400]\ttraining's l2: 43479.6\tvalid_1's l2: 59070.9\n",
      "[450]\ttraining's l2: 40721.2\tvalid_1's l2: 56739.6\n",
      "[500]\ttraining's l2: 38171.8\tvalid_1's l2: 54475.6\n",
      "[550]\ttraining's l2: 36086.4\tvalid_1's l2: 52390.4\n",
      "[600]\ttraining's l2: 34584.4\tvalid_1's l2: 51318.5\n",
      "[650]\ttraining's l2: 33222\tvalid_1's l2: 50377.1\n",
      "[700]\ttraining's l2: 32072.8\tvalid_1's l2: 49525.2\n",
      "[750]\ttraining's l2: 30850.3\tvalid_1's l2: 48850.8\n",
      "[800]\ttraining's l2: 29787.6\tvalid_1's l2: 48078\n",
      "[850]\ttraining's l2: 28899.3\tvalid_1's l2: 47419.7\n",
      "[900]\ttraining's l2: 28048.1\tvalid_1's l2: 46957.6\n",
      "[950]\ttraining's l2: 26902.4\tvalid_1's l2: 46291.3\n",
      "[1000]\ttraining's l2: 26156.5\tvalid_1's l2: 45911\n",
      "[1050]\ttraining's l2: 25485.3\tvalid_1's l2: 45530.7\n",
      "[1100]\ttraining's l2: 24869.5\tvalid_1's l2: 45133.9\n",
      "[1150]\ttraining's l2: 24130.2\tvalid_1's l2: 44749.5\n",
      "[1200]\ttraining's l2: 23444.7\tvalid_1's l2: 44289.1\n",
      "[1250]\ttraining's l2: 22895.2\tvalid_1's l2: 43950.2\n",
      "[1300]\ttraining's l2: 22460.7\tvalid_1's l2: 43762.4\n",
      "[1350]\ttraining's l2: 22030\tvalid_1's l2: 43514.6\n",
      "[1400]\ttraining's l2: 21581.8\tvalid_1's l2: 43339.1\n",
      "[1450]\ttraining's l2: 21150\tvalid_1's l2: 43055.6\n",
      "[1500]\ttraining's l2: 20620.1\tvalid_1's l2: 42758.2\n",
      "[1550]\ttraining's l2: 20243.3\tvalid_1's l2: 42550.1\n",
      "[1600]\ttraining's l2: 19809.3\tvalid_1's l2: 42307.6\n",
      "[1650]\ttraining's l2: 19416.7\tvalid_1's l2: 42087\n",
      "[1700]\ttraining's l2: 19050.7\tvalid_1's l2: 41982.3\n",
      "[1750]\ttraining's l2: 18758.8\tvalid_1's l2: 41864.4\n",
      "[1800]\ttraining's l2: 18407.5\tvalid_1's l2: 41740.8\n",
      "[1850]\ttraining's l2: 18109.8\tvalid_1's l2: 41646.4\n",
      "[1900]\ttraining's l2: 17775.6\tvalid_1's l2: 41473.6\n",
      "[1950]\ttraining's l2: 17441.3\tvalid_1's l2: 41394.8\n",
      "[2000]\ttraining's l2: 17181.4\tvalid_1's l2: 41285.8\n",
      "[2050]\ttraining's l2: 16922.9\tvalid_1's l2: 41198.9\n",
      "[2100]\ttraining's l2: 16602.2\tvalid_1's l2: 41103.1\n",
      "[2150]\ttraining's l2: 16306.2\tvalid_1's l2: 40957.8\n",
      "[2200]\ttraining's l2: 16072.6\tvalid_1's l2: 40850\n",
      "[2250]\ttraining's l2: 15868.3\tvalid_1's l2: 40726.2\n",
      "[2300]\ttraining's l2: 15660.8\tvalid_1's l2: 40657.3\n",
      "[2350]\ttraining's l2: 15424.4\tvalid_1's l2: 40570.4\n",
      "[2400]\ttraining's l2: 15182.9\tvalid_1's l2: 40468.4\n",
      "[2450]\ttraining's l2: 14938.9\tvalid_1's l2: 40374.1\n",
      "[2500]\ttraining's l2: 14724.6\tvalid_1's l2: 40281.2\n",
      "[2550]\ttraining's l2: 14527.8\tvalid_1's l2: 40223.2\n",
      "[2600]\ttraining's l2: 14301.8\tvalid_1's l2: 40004.1\n",
      "[2650]\ttraining's l2: 14090.2\tvalid_1's l2: 39889.7\n",
      "[2700]\ttraining's l2: 13935.5\tvalid_1's l2: 39830.1\n",
      "[2750]\ttraining's l2: 13748.3\tvalid_1's l2: 39769\n",
      "[2800]\ttraining's l2: 13587.8\tvalid_1's l2: 39685.2\n",
      "[2850]\ttraining's l2: 13440\tvalid_1's l2: 39678\n",
      "[2900]\ttraining's l2: 13303.1\tvalid_1's l2: 39637.3\n",
      "[2950]\ttraining's l2: 13113.6\tvalid_1's l2: 39530.6\n",
      "[3000]\ttraining's l2: 12984.5\tvalid_1's l2: 39456.8\n",
      "[3050]\ttraining's l2: 12815.3\tvalid_1's l2: 39380.3\n",
      "[3100]\ttraining's l2: 12634\tvalid_1's l2: 39252.5\n",
      "[3150]\ttraining's l2: 12477\tvalid_1's l2: 39219\n",
      "[3200]\ttraining's l2: 12329.5\tvalid_1's l2: 39107.9\n",
      "[3250]\ttraining's l2: 12172.7\tvalid_1's l2: 39071.6\n",
      "[3300]\ttraining's l2: 12016.1\tvalid_1's l2: 39023.1\n",
      "[3350]\ttraining's l2: 11884.2\tvalid_1's l2: 38984.7\n",
      "[3400]\ttraining's l2: 11753.6\tvalid_1's l2: 38937.7\n",
      "[3450]\ttraining's l2: 11596\tvalid_1's l2: 38856.1\n",
      "[3500]\ttraining's l2: 11433.1\tvalid_1's l2: 38795.6\n",
      "[3550]\ttraining's l2: 11317.5\tvalid_1's l2: 38766.7\n",
      "[3600]\ttraining's l2: 11176.3\tvalid_1's l2: 38692.5\n",
      "[3650]\ttraining's l2: 11096.4\tvalid_1's l2: 38662.5\n",
      "[3700]\ttraining's l2: 10983.7\tvalid_1's l2: 38629.3\n",
      "[3750]\ttraining's l2: 10835.5\tvalid_1's l2: 38554.3\n",
      "[3800]\ttraining's l2: 10725.5\tvalid_1's l2: 38502.7\n",
      "[3850]\ttraining's l2: 10625.8\tvalid_1's l2: 38476.4\n",
      "[3900]\ttraining's l2: 10523.5\tvalid_1's l2: 38465.1\n",
      "[3950]\ttraining's l2: 10424.4\tvalid_1's l2: 38414.1\n",
      "[4000]\ttraining's l2: 10301.7\tvalid_1's l2: 38366.1\n",
      "[4050]\ttraining's l2: 10187.2\tvalid_1's l2: 38345.2\n",
      "[4100]\ttraining's l2: 10071.8\tvalid_1's l2: 38313.8\n",
      "[4150]\ttraining's l2: 9963.94\tvalid_1's l2: 38273.4\n",
      "[4200]\ttraining's l2: 9858.89\tvalid_1's l2: 38261.1\n",
      "[4250]\ttraining's l2: 9751.89\tvalid_1's l2: 38222.9\n",
      "[4300]\ttraining's l2: 9656.03\tvalid_1's l2: 38185.8\n",
      "[4350]\ttraining's l2: 9533\tvalid_1's l2: 38138.4\n",
      "[4400]\ttraining's l2: 9445.52\tvalid_1's l2: 38121.3\n",
      "[4450]\ttraining's l2: 9383.42\tvalid_1's l2: 38122.9\n",
      "[4500]\ttraining's l2: 9296.65\tvalid_1's l2: 38087.7\n",
      "[4550]\ttraining's l2: 9220.13\tvalid_1's l2: 38068\n",
      "[4600]\ttraining's l2: 9129.66\tvalid_1's l2: 38055.5\n",
      "[4650]\ttraining's l2: 9033.27\tvalid_1's l2: 38052.1\n",
      "[4700]\ttraining's l2: 8939.87\tvalid_1's l2: 38028.5\n",
      "[4750]\ttraining's l2: 8854.94\tvalid_1's l2: 38007.5\n",
      "[4800]\ttraining's l2: 8776.04\tvalid_1's l2: 37995.3\n",
      "[4850]\ttraining's l2: 8703.65\tvalid_1's l2: 37977.5\n",
      "[4900]\ttraining's l2: 8638.56\tvalid_1's l2: 37940.6\n",
      "[4950]\ttraining's l2: 8545.24\tvalid_1's l2: 37887.1\n",
      "[5000]\ttraining's l2: 8466.91\tvalid_1's l2: 37890.1\n",
      "Early stopping, best iteration is:\n",
      "[4953]\ttraining's l2: 8538.7\tvalid_1's l2: 37884.2\n",
      "----------------------------------------n_fold:2----------------------------------------\n",
      "Training until validation scores don't improve for 50 rounds\n",
      "[50]\ttraining's l2: 140900\tvalid_1's l2: 137146\n",
      "[100]\ttraining's l2: 91310.3\tvalid_1's l2: 90626.1\n",
      "[150]\ttraining's l2: 73681.7\tvalid_1's l2: 75733.6\n",
      "[200]\ttraining's l2: 62728.4\tvalid_1's l2: 66270.3\n",
      "[250]\ttraining's l2: 55125.5\tvalid_1's l2: 60189.6\n",
      "[300]\ttraining's l2: 49678.3\tvalid_1's l2: 56059.8\n",
      "[350]\ttraining's l2: 45528.5\tvalid_1's l2: 52771\n",
      "[400]\ttraining's l2: 42438.1\tvalid_1's l2: 50555.1\n",
      "[450]\ttraining's l2: 39978\tvalid_1's l2: 48971.8\n",
      "[500]\ttraining's l2: 37976.2\tvalid_1's l2: 47623.3\n",
      "[550]\ttraining's l2: 36271.6\tvalid_1's l2: 46641.1\n",
      "[600]\ttraining's l2: 34972.3\tvalid_1's l2: 45752.2\n",
      "[650]\ttraining's l2: 33513.3\tvalid_1's l2: 44736.1\n",
      "[700]\ttraining's l2: 32246.3\tvalid_1's l2: 44076.2\n",
      "[750]\ttraining's l2: 31019\tvalid_1's l2: 43401.2\n",
      "[800]\ttraining's l2: 30051.6\tvalid_1's l2: 42997.4\n",
      "[850]\ttraining's l2: 29106.8\tvalid_1's l2: 42771.1\n",
      "[900]\ttraining's l2: 28085.3\tvalid_1's l2: 42224.4\n",
      "[950]\ttraining's l2: 27159.9\tvalid_1's l2: 41781.4\n",
      "[1000]\ttraining's l2: 26307.9\tvalid_1's l2: 41342\n",
      "[1050]\ttraining's l2: 25542.8\tvalid_1's l2: 40941.9\n",
      "[1100]\ttraining's l2: 24969.4\tvalid_1's l2: 40658.9\n",
      "[1150]\ttraining's l2: 24236.7\tvalid_1's l2: 40224.9\n",
      "[1200]\ttraining's l2: 23516.5\tvalid_1's l2: 39960.6\n",
      "[1250]\ttraining's l2: 22975.4\tvalid_1's l2: 39651.4\n",
      "[1300]\ttraining's l2: 22484.6\tvalid_1's l2: 39441.7\n",
      "[1350]\ttraining's l2: 22022.3\tvalid_1's l2: 39305.9\n",
      "[1400]\ttraining's l2: 21614.1\tvalid_1's l2: 39104.4\n",
      "[1450]\ttraining's l2: 21194.5\tvalid_1's l2: 38907\n",
      "[1500]\ttraining's l2: 20720.6\tvalid_1's l2: 38763.5\n",
      "[1550]\ttraining's l2: 20330.5\tvalid_1's l2: 38600.3\n",
      "[1600]\ttraining's l2: 19862.6\tvalid_1's l2: 38385.6\n",
      "[1650]\ttraining's l2: 19393.8\tvalid_1's l2: 38256.3\n",
      "[1700]\ttraining's l2: 19037.6\tvalid_1's l2: 38129.3\n",
      "[1750]\ttraining's l2: 18717.2\tvalid_1's l2: 37980.6\n",
      "[1800]\ttraining's l2: 18410.5\tvalid_1's l2: 37822\n",
      "[1850]\ttraining's l2: 18111\tvalid_1's l2: 37777.9\n",
      "[1900]\ttraining's l2: 17808.2\tvalid_1's l2: 37720.5\n",
      "[1950]\ttraining's l2: 17568.5\tvalid_1's l2: 37618.6\n",
      "[2000]\ttraining's l2: 17333\tvalid_1's l2: 37546.2\n",
      "[2050]\ttraining's l2: 17068.1\tvalid_1's l2: 37491.7\n",
      "[2100]\ttraining's l2: 16747.5\tvalid_1's l2: 37418.6\n",
      "[2150]\ttraining's l2: 16485\tvalid_1's l2: 37294.8\n",
      "[2200]\ttraining's l2: 16241.9\tvalid_1's l2: 37170.2\n",
      "[2250]\ttraining's l2: 15945.4\tvalid_1's l2: 37137.9\n",
      "[2300]\ttraining's l2: 15643.5\tvalid_1's l2: 36998.4\n",
      "[2350]\ttraining's l2: 15423.4\tvalid_1's l2: 36922.9\n",
      "[2400]\ttraining's l2: 15179.5\tvalid_1's l2: 36774.7\n",
      "[2450]\ttraining's l2: 15009.9\tvalid_1's l2: 36697\n",
      "[2500]\ttraining's l2: 14838.3\tvalid_1's l2: 36642.7\n",
      "[2550]\ttraining's l2: 14668.2\tvalid_1's l2: 36600\n",
      "[2600]\ttraining's l2: 14494.1\tvalid_1's l2: 36563.6\n",
      "[2650]\ttraining's l2: 14262.5\tvalid_1's l2: 36468.7\n",
      "[2700]\ttraining's l2: 14006\tvalid_1's l2: 36381.1\n",
      "[2750]\ttraining's l2: 13815.7\tvalid_1's l2: 36350.8\n",
      "[2800]\ttraining's l2: 13640.7\tvalid_1's l2: 36305.8\n",
      "[2850]\ttraining's l2: 13482.7\tvalid_1's l2: 36260.5\n",
      "[2900]\ttraining's l2: 13269.7\tvalid_1's l2: 36208.7\n",
      "[2950]\ttraining's l2: 13090.6\tvalid_1's l2: 36149.4\n",
      "[3000]\ttraining's l2: 12942.8\tvalid_1's l2: 36141.6\n",
      "[3050]\ttraining's l2: 12782.3\tvalid_1's l2: 36079\n",
      "[3100]\ttraining's l2: 12552.9\tvalid_1's l2: 35975\n",
      "[3150]\ttraining's l2: 12382\tvalid_1's l2: 35917.7\n",
      "[3200]\ttraining's l2: 12240.1\tvalid_1's l2: 35899.1\n",
      "[3250]\ttraining's l2: 12086.8\tvalid_1's l2: 35846.1\n",
      "[3300]\ttraining's l2: 11942.8\tvalid_1's l2: 35779.2\n",
      "[3350]\ttraining's l2: 11821.4\tvalid_1's l2: 35739.1\n",
      "[3400]\ttraining's l2: 11694.4\tvalid_1's l2: 35720\n",
      "[3450]\ttraining's l2: 11565.7\tvalid_1's l2: 35696.1\n",
      "[3500]\ttraining's l2: 11424.7\tvalid_1's l2: 35646.5\n",
      "[3550]\ttraining's l2: 11310.3\tvalid_1's l2: 35640.7\n",
      "[3600]\ttraining's l2: 11190.5\tvalid_1's l2: 35624.8\n",
      "[3650]\ttraining's l2: 11071\tvalid_1's l2: 35601.6\n",
      "[3700]\ttraining's l2: 10949.9\tvalid_1's l2: 35611.3\n",
      "[3750]\ttraining's l2: 10833.5\tvalid_1's l2: 35550.1\n",
      "[3800]\ttraining's l2: 10748.7\tvalid_1's l2: 35527.8\n",
      "[3850]\ttraining's l2: 10632\tvalid_1's l2: 35491.2\n",
      "[3900]\ttraining's l2: 10537.3\tvalid_1's l2: 35489.2\n",
      "[3950]\ttraining's l2: 10450.8\tvalid_1's l2: 35471.5\n",
      "[4000]\ttraining's l2: 10360.6\tvalid_1's l2: 35437.6\n",
      "[4050]\ttraining's l2: 10265.5\tvalid_1's l2: 35409.5\n",
      "[4100]\ttraining's l2: 10141.7\tvalid_1's l2: 35408.7\n",
      "Early stopping, best iteration is:\n",
      "[4059]\ttraining's l2: 10236.7\tvalid_1's l2: 35394.1\n",
      "----------------------------------------n_fold:3----------------------------------------\n",
      "Training until validation scores don't improve for 50 rounds\n",
      "[50]\ttraining's l2: 137895\tvalid_1's l2: 138068\n",
      "[100]\ttraining's l2: 89392.7\tvalid_1's l2: 90673.5\n",
      "[150]\ttraining's l2: 72941.5\tvalid_1's l2: 75054\n",
      "[200]\ttraining's l2: 63690.4\tvalid_1's l2: 66426.8\n",
      "[250]\ttraining's l2: 56394.4\tvalid_1's l2: 59901.4\n",
      "[300]\ttraining's l2: 51208.2\tvalid_1's l2: 55540.9\n",
      "[350]\ttraining's l2: 47194.7\tvalid_1's l2: 52458.4\n",
      "[400]\ttraining's l2: 44131.7\tvalid_1's l2: 50044.3\n",
      "[450]\ttraining's l2: 41709.1\tvalid_1's l2: 48098.4\n",
      "[500]\ttraining's l2: 39231.5\tvalid_1's l2: 46208.8\n",
      "[550]\ttraining's l2: 37500.2\tvalid_1's l2: 44927.2\n",
      "[600]\ttraining's l2: 35896\tvalid_1's l2: 43920.1\n",
      "[650]\ttraining's l2: 34385.4\tvalid_1's l2: 42820.4\n",
      "[700]\ttraining's l2: 33051.5\tvalid_1's l2: 41988.3\n",
      "[750]\ttraining's l2: 31634.6\tvalid_1's l2: 41106.6\n",
      "[800]\ttraining's l2: 30324.8\tvalid_1's l2: 40242.4\n",
      "[850]\ttraining's l2: 29290.6\tvalid_1's l2: 39777.2\n",
      "[900]\ttraining's l2: 28593\tvalid_1's l2: 39392.3\n",
      "[950]\ttraining's l2: 27932.4\tvalid_1's l2: 38961.3\n",
      "[1000]\ttraining's l2: 27090.9\tvalid_1's l2: 38549.9\n",
      "[1050]\ttraining's l2: 26310.9\tvalid_1's l2: 38231.6\n",
      "[1100]\ttraining's l2: 25634.9\tvalid_1's l2: 37908.7\n",
      "[1150]\ttraining's l2: 24965.3\tvalid_1's l2: 37650.2\n",
      "[1200]\ttraining's l2: 24387.7\tvalid_1's l2: 37298.3\n",
      "[1250]\ttraining's l2: 23866.6\tvalid_1's l2: 37087.3\n",
      "[1300]\ttraining's l2: 23302.6\tvalid_1's l2: 36734.9\n",
      "[1350]\ttraining's l2: 22780.4\tvalid_1's l2: 36482\n",
      "[1400]\ttraining's l2: 22310\tvalid_1's l2: 36251.1\n",
      "[1450]\ttraining's l2: 21886.2\tvalid_1's l2: 36001.5\n",
      "[1500]\ttraining's l2: 21412.3\tvalid_1's l2: 35752.7\n",
      "[1550]\ttraining's l2: 20922.9\tvalid_1's l2: 35538.3\n",
      "[1600]\ttraining's l2: 20618.8\tvalid_1's l2: 35443.9\n",
      "[1650]\ttraining's l2: 20164.4\tvalid_1's l2: 35222.6\n",
      "[1700]\ttraining's l2: 19787.5\tvalid_1's l2: 35048.7\n",
      "[1750]\ttraining's l2: 19455.2\tvalid_1's l2: 34925.3\n",
      "[1800]\ttraining's l2: 19189.4\tvalid_1's l2: 34828.3\n",
      "[1850]\ttraining's l2: 18869.3\tvalid_1's l2: 34691.4\n",
      "[1900]\ttraining's l2: 18554.4\tvalid_1's l2: 34561.4\n",
      "[1950]\ttraining's l2: 18309.2\tvalid_1's l2: 34469.2\n",
      "[2000]\ttraining's l2: 17893.1\tvalid_1's l2: 34288.1\n",
      "[2050]\ttraining's l2: 17534\tvalid_1's l2: 34144.3\n",
      "[2100]\ttraining's l2: 17270.8\tvalid_1's l2: 34020\n",
      "[2150]\ttraining's l2: 16954.5\tvalid_1's l2: 33932.7\n",
      "[2200]\ttraining's l2: 16708.3\tvalid_1's l2: 33889.2\n",
      "[2250]\ttraining's l2: 16454.3\tvalid_1's l2: 33837.3\n",
      "[2300]\ttraining's l2: 16220.1\tvalid_1's l2: 33719.9\n",
      "[2350]\ttraining's l2: 15984.7\tvalid_1's l2: 33636.1\n",
      "[2400]\ttraining's l2: 15752.5\tvalid_1's l2: 33531.1\n",
      "[2450]\ttraining's l2: 15525.9\tvalid_1's l2: 33467\n",
      "[2500]\ttraining's l2: 15303.9\tvalid_1's l2: 33394.8\n",
      "[2550]\ttraining's l2: 15061.1\tvalid_1's l2: 33350.1\n",
      "[2600]\ttraining's l2: 14846.8\tvalid_1's l2: 33389.4\n",
      "Early stopping, best iteration is:\n",
      "[2574]\ttraining's l2: 14972.2\tvalid_1's l2: 33337.7\n",
      "----------------------------------------n_fold:4----------------------------------------\n",
      "Training until validation scores don't improve for 50 rounds\n",
      "[50]\ttraining's l2: 139888\tvalid_1's l2: 147256\n",
      "[100]\ttraining's l2: 88446\tvalid_1's l2: 97560.5\n",
      "[150]\ttraining's l2: 71484.6\tvalid_1's l2: 82251.8\n",
      "[200]\ttraining's l2: 62019.4\tvalid_1's l2: 73814.3\n",
      "[250]\ttraining's l2: 55064.1\tvalid_1's l2: 67944.7\n",
      "[300]\ttraining's l2: 50183.3\tvalid_1's l2: 63702.4\n",
      "[350]\ttraining's l2: 46292.3\tvalid_1's l2: 60677.1\n",
      "[400]\ttraining's l2: 42754.8\tvalid_1's l2: 58008.9\n",
      "[450]\ttraining's l2: 39957.9\tvalid_1's l2: 56042.3\n",
      "[500]\ttraining's l2: 37898.6\tvalid_1's l2: 54546.8\n",
      "[550]\ttraining's l2: 36235.6\tvalid_1's l2: 53323.5\n",
      "[600]\ttraining's l2: 34687\tvalid_1's l2: 52314.5\n",
      "[650]\ttraining's l2: 33100.6\tvalid_1's l2: 51173.2\n",
      "[700]\ttraining's l2: 31898.5\tvalid_1's l2: 50400.7\n",
      "[750]\ttraining's l2: 30744.9\tvalid_1's l2: 49610\n",
      "[800]\ttraining's l2: 29715.3\tvalid_1's l2: 48869.7\n",
      "[850]\ttraining's l2: 28745.4\tvalid_1's l2: 48366\n",
      "[900]\ttraining's l2: 28009.9\tvalid_1's l2: 47878.7\n",
      "[950]\ttraining's l2: 27279.4\tvalid_1's l2: 47403\n",
      "[1000]\ttraining's l2: 26496.2\tvalid_1's l2: 46824.2\n",
      "[1050]\ttraining's l2: 25766.5\tvalid_1's l2: 46508.7\n",
      "[1100]\ttraining's l2: 25121.9\tvalid_1's l2: 46176.6\n",
      "[1150]\ttraining's l2: 24605.7\tvalid_1's l2: 45902.5\n",
      "[1200]\ttraining's l2: 23879.4\tvalid_1's l2: 45463.8\n",
      "[1250]\ttraining's l2: 23266.8\tvalid_1's l2: 45205.3\n",
      "[1300]\ttraining's l2: 22795.1\tvalid_1's l2: 45023.2\n",
      "[1350]\ttraining's l2: 22276.4\tvalid_1's l2: 44750.3\n",
      "[1400]\ttraining's l2: 21739.5\tvalid_1's l2: 44499.1\n",
      "[1450]\ttraining's l2: 21262\tvalid_1's l2: 44367.2\n",
      "[1500]\ttraining's l2: 20805.7\tvalid_1's l2: 44015.5\n",
      "[1550]\ttraining's l2: 20361.6\tvalid_1's l2: 43811.7\n",
      "[1600]\ttraining's l2: 19990\tvalid_1's l2: 43588\n",
      "[1650]\ttraining's l2: 19635.7\tvalid_1's l2: 43464.7\n",
      "[1700]\ttraining's l2: 19283.3\tvalid_1's l2: 43266.7\n",
      "[1750]\ttraining's l2: 18967.9\tvalid_1's l2: 43104.3\n",
      "[1800]\ttraining's l2: 18674.2\tvalid_1's l2: 42979\n",
      "[1850]\ttraining's l2: 18324.8\tvalid_1's l2: 42806.9\n",
      "[1900]\ttraining's l2: 18059.1\tvalid_1's l2: 42703.3\n",
      "[1950]\ttraining's l2: 17708.3\tvalid_1's l2: 42617.3\n",
      "[2000]\ttraining's l2: 17433\tvalid_1's l2: 42545.8\n",
      "[2050]\ttraining's l2: 17113.2\tvalid_1's l2: 42420.8\n",
      "[2100]\ttraining's l2: 16827.8\tvalid_1's l2: 42301.5\n",
      "[2150]\ttraining's l2: 16495.1\tvalid_1's l2: 42171.1\n",
      "[2200]\ttraining's l2: 16215.5\tvalid_1's l2: 42042.2\n",
      "[2250]\ttraining's l2: 16013.8\tvalid_1's l2: 41991.9\n",
      "[2300]\ttraining's l2: 15761.2\tvalid_1's l2: 41895.1\n",
      "[2350]\ttraining's l2: 15553.9\tvalid_1's l2: 41791.1\n",
      "[2400]\ttraining's l2: 15320.7\tvalid_1's l2: 41704.8\n",
      "[2450]\ttraining's l2: 15084.5\tvalid_1's l2: 41625.3\n",
      "[2500]\ttraining's l2: 14845.9\tvalid_1's l2: 41515.7\n",
      "[2550]\ttraining's l2: 14620.1\tvalid_1's l2: 41444.5\n",
      "[2600]\ttraining's l2: 14456.7\tvalid_1's l2: 41417.5\n",
      "[2650]\ttraining's l2: 14271.4\tvalid_1's l2: 41381\n",
      "[2700]\ttraining's l2: 14066.4\tvalid_1's l2: 41361.9\n",
      "[2750]\ttraining's l2: 13892\tvalid_1's l2: 41296.5\n",
      "[2800]\ttraining's l2: 13704.4\tvalid_1's l2: 41167.1\n",
      "[2850]\ttraining's l2: 13566.7\tvalid_1's l2: 41085.5\n",
      "[2900]\ttraining's l2: 13433\tvalid_1's l2: 41046.6\n",
      "[2950]\ttraining's l2: 13253.3\tvalid_1's l2: 40945.7\n",
      "[3000]\ttraining's l2: 13106.7\tvalid_1's l2: 40881.3\n",
      "[3050]\ttraining's l2: 12917.1\tvalid_1's l2: 40806.1\n",
      "[3100]\ttraining's l2: 12727.2\tvalid_1's l2: 40693.8\n",
      "[3150]\ttraining's l2: 12582.6\tvalid_1's l2: 40653.8\n",
      "[3200]\ttraining's l2: 12458.2\tvalid_1's l2: 40595.2\n",
      "[3250]\ttraining's l2: 12309.1\tvalid_1's l2: 40533\n",
      "[3300]\ttraining's l2: 12172.6\tvalid_1's l2: 40493.1\n",
      "[3350]\ttraining's l2: 12024.9\tvalid_1's l2: 40443.3\n",
      "[3400]\ttraining's l2: 11801.1\tvalid_1's l2: 40346\n",
      "[3450]\ttraining's l2: 11666.1\tvalid_1's l2: 40303.5\n",
      "[3500]\ttraining's l2: 11515.5\tvalid_1's l2: 40297.8\n",
      "[3550]\ttraining's l2: 11349.6\tvalid_1's l2: 40216.4\n",
      "[3600]\ttraining's l2: 11217.2\tvalid_1's l2: 40138.3\n",
      "[3650]\ttraining's l2: 11068.7\tvalid_1's l2: 40103.8\n",
      "[3700]\ttraining's l2: 10959.5\tvalid_1's l2: 40075.6\n",
      "[3750]\ttraining's l2: 10834.9\tvalid_1's l2: 40036.9\n",
      "[3800]\ttraining's l2: 10707\tvalid_1's l2: 40015.4\n",
      "[3850]\ttraining's l2: 10593.9\tvalid_1's l2: 39989.6\n",
      "[3900]\ttraining's l2: 10485.5\tvalid_1's l2: 39967.3\n",
      "[3950]\ttraining's l2: 10333.9\tvalid_1's l2: 39860.8\n",
      "[4000]\ttraining's l2: 10235.8\tvalid_1's l2: 39824\n",
      "[4050]\ttraining's l2: 10124.6\tvalid_1's l2: 39770\n",
      "[4100]\ttraining's l2: 10031.3\tvalid_1's l2: 39741.2\n",
      "[4150]\ttraining's l2: 9929.82\tvalid_1's l2: 39708.8\n",
      "Early stopping, best iteration is:\n",
      "[4136]\ttraining's l2: 9963.73\tvalid_1's l2: 39701.1\n",
      "----------------------------------------n_fold:5----------------------------------------\n"
     ]
    }
   ],
   "source": [
    "kf = KFold(n_splits=5, shuffle=True, random_state=42)\r\n",
    "i = 0\r\n",
    "result2 = 0\r\n",
    "best_score = 0\r\n",
    "for train_idx, test_idx in kf.split(train2, train['전력사용량(kWh)']):\r\n",
    "    x_train, x_val = train2.iloc[train_idx], train2.iloc[test_idx]\r\n",
    "    y_train, y_val = train['전력사용량(kWh)'][train_idx], train['전력사용량(kWh)'][test_idx]\r\n",
    "    li.fit(x_train, y_train, eval_set=[(x_train, y_train), (x_val, y_val)], verbose=50, early_stopping_rounds=50)\r\n",
    "    result2 += li.predict(test2)/5\r\n",
    "    i += 1\r\n",
    "    print(f'----------------------------------------n_fold:{i}----------------------------------------')"
   ]
  },
  {
   "cell_type": "code",
   "execution_count": 277,
   "metadata": {},
   "outputs": [
    {
     "data": {
      "text/plain": "array([8551.06880558, 8516.85732213, 8493.65602312, ..., 3624.09675521,\n       3487.39794506, 3257.95867256])"
     },
     "execution_count": 277,
     "metadata": {},
     "output_type": "execute_result"
    }
   ],
   "source": [
    "result2"
   ]
  },
  {
   "cell_type": "code",
   "execution_count": 245,
   "metadata": {},
   "outputs": [
    {
     "data": {
      "text/plain": "29.728377956689823"
     },
     "execution_count": 245,
     "metadata": {},
     "output_type": "execute_result"
    }
   ],
   "source": [
    "from sklearn.model_selection import cross_val_score\r\n",
    "cvs = cross_val_score(li, train2, train['전력사용량(kWh)'], n_jobs=-1, cv=5, scoring='neg_mean_absolute_error')\r\n",
    "np.sqrt(-cvs.mean())"
   ]
  },
  {
   "cell_type": "code",
   "execution_count": 281,
   "metadata": {},
   "outputs": [
    {
     "data": {
      "text/plain": "array([3420.42752223, 3406.74292885, 3397.46240925, ..., 1449.63870208,\n       1394.95917802, 1303.18346902])"
     },
     "execution_count": 281,
     "metadata": {},
     "output_type": "execute_result"
    }
   ],
   "source": [
    "blending_result = result*0.6 + result2*0.4\r\n",
    "blending_result"
   ]
  },
  {
   "cell_type": "code",
   "execution_count": 268,
   "metadata": {},
   "outputs": [
    {
     "data": {
      "text/html": "<div>\n<style scoped>\n    .dataframe tbody tr th:only-of-type {\n        vertical-align: middle;\n    }\n\n    .dataframe tbody tr th {\n        vertical-align: top;\n    }\n\n    .dataframe thead th {\n        text-align: right;\n    }\n</style>\n<table border=\"1\" class=\"dataframe\">\n  <thead>\n    <tr style=\"text-align: right;\">\n      <th></th>\n      <th>num_date_time</th>\n      <th>answer</th>\n    </tr>\n  </thead>\n  <tbody>\n    <tr>\n      <th>0</th>\n      <td>1 2020-08-25 00</td>\n      <td>0</td>\n    </tr>\n    <tr>\n      <th>1</th>\n      <td>1 2020-08-25 01</td>\n      <td>0</td>\n    </tr>\n    <tr>\n      <th>2</th>\n      <td>1 2020-08-25 02</td>\n      <td>0</td>\n    </tr>\n    <tr>\n      <th>3</th>\n      <td>1 2020-08-25 03</td>\n      <td>0</td>\n    </tr>\n    <tr>\n      <th>4</th>\n      <td>1 2020-08-25 04</td>\n      <td>0</td>\n    </tr>\n    <tr>\n      <th>...</th>\n      <td>...</td>\n      <td>...</td>\n    </tr>\n    <tr>\n      <th>10075</th>\n      <td>60 2020-08-31 19</td>\n      <td>0</td>\n    </tr>\n    <tr>\n      <th>10076</th>\n      <td>60 2020-08-31 20</td>\n      <td>0</td>\n    </tr>\n    <tr>\n      <th>10077</th>\n      <td>60 2020-08-31 21</td>\n      <td>0</td>\n    </tr>\n    <tr>\n      <th>10078</th>\n      <td>60 2020-08-31 22</td>\n      <td>0</td>\n    </tr>\n    <tr>\n      <th>10079</th>\n      <td>60 2020-08-31 23</td>\n      <td>0</td>\n    </tr>\n  </tbody>\n</table>\n<p>10080 rows × 2 columns</p>\n</div>",
      "text/plain": "          num_date_time  answer\n0       1 2020-08-25 00       0\n1       1 2020-08-25 01       0\n2       1 2020-08-25 02       0\n3       1 2020-08-25 03       0\n4       1 2020-08-25 04       0\n...                 ...     ...\n10075  60 2020-08-31 19       0\n10076  60 2020-08-31 20       0\n10077  60 2020-08-31 21       0\n10078  60 2020-08-31 22       0\n10079  60 2020-08-31 23       0\n\n[10080 rows x 2 columns]"
     },
     "execution_count": 268,
     "metadata": {},
     "output_type": "execute_result"
    }
   ],
   "source": [
    "sub = pd.read_csv('sample_submission.csv')\r\n",
    "sub"
   ]
  },
  {
   "cell_type": "code",
   "execution_count": 278,
   "metadata": {},
   "outputs": [
    {
     "data": {
      "text/html": "<div>\n<style scoped>\n    .dataframe tbody tr th:only-of-type {\n        vertical-align: middle;\n    }\n\n    .dataframe tbody tr th {\n        vertical-align: top;\n    }\n\n    .dataframe thead th {\n        text-align: right;\n    }\n</style>\n<table border=\"1\" class=\"dataframe\">\n  <thead>\n    <tr style=\"text-align: right;\">\n      <th></th>\n      <th>num_date_time</th>\n      <th>answer</th>\n    </tr>\n  </thead>\n  <tbody>\n    <tr>\n      <th>0</th>\n      <td>1 2020-08-25 00</td>\n      <td>8551.068806</td>\n    </tr>\n    <tr>\n      <th>1</th>\n      <td>1 2020-08-25 01</td>\n      <td>8516.857322</td>\n    </tr>\n    <tr>\n      <th>2</th>\n      <td>1 2020-08-25 02</td>\n      <td>8493.656023</td>\n    </tr>\n    <tr>\n      <th>3</th>\n      <td>1 2020-08-25 03</td>\n      <td>8477.055937</td>\n    </tr>\n    <tr>\n      <th>4</th>\n      <td>1 2020-08-25 04</td>\n      <td>8543.479125</td>\n    </tr>\n    <tr>\n      <th>...</th>\n      <td>...</td>\n      <td>...</td>\n    </tr>\n    <tr>\n      <th>10075</th>\n      <td>60 2020-08-31 19</td>\n      <td>3823.763319</td>\n    </tr>\n    <tr>\n      <th>10076</th>\n      <td>60 2020-08-31 20</td>\n      <td>3778.126984</td>\n    </tr>\n    <tr>\n      <th>10077</th>\n      <td>60 2020-08-31 21</td>\n      <td>3624.096755</td>\n    </tr>\n    <tr>\n      <th>10078</th>\n      <td>60 2020-08-31 22</td>\n      <td>3487.397945</td>\n    </tr>\n    <tr>\n      <th>10079</th>\n      <td>60 2020-08-31 23</td>\n      <td>3257.958673</td>\n    </tr>\n  </tbody>\n</table>\n<p>10080 rows × 2 columns</p>\n</div>",
      "text/plain": "          num_date_time       answer\n0       1 2020-08-25 00  8551.068806\n1       1 2020-08-25 01  8516.857322\n2       1 2020-08-25 02  8493.656023\n3       1 2020-08-25 03  8477.055937\n4       1 2020-08-25 04  8543.479125\n...                 ...          ...\n10075  60 2020-08-31 19  3823.763319\n10076  60 2020-08-31 20  3778.126984\n10077  60 2020-08-31 21  3624.096755\n10078  60 2020-08-31 22  3487.397945\n10079  60 2020-08-31 23  3257.958673\n\n[10080 rows x 2 columns]"
     },
     "execution_count": 278,
     "metadata": {},
     "output_type": "execute_result"
    }
   ],
   "source": [
    "sub['answer'] = result2\r\n",
    "sub"
   ]
  },
  {
   "cell_type": "code",
   "execution_count": 280,
   "metadata": {},
   "outputs": [],
   "source": [
    "sub.to_csv('lgbm_sub.csv', index=False)"
   ]
  },
  {
   "cell_type": "code",
   "execution_count": 68,
   "metadata": {},
   "outputs": [
    {
     "data": {
      "text/plain": "<AxesSubplot:>"
     },
     "execution_count": 68,
     "metadata": {},
     "output_type": "execute_result"
    },
    {
     "data": {
      "image/png": "[encoded data removed]",
      "text/plain": "<Figure size 432x288 with 1 Axes>"
     },
     "metadata": {
      "needs_background": "light"
     },
     "output_type": "display_data"
    }
   ],
   "source": [
    "importance=pd.Series(xgb.feature_importances_, index=train2.columns).sort_values(ascending=False)\r\n",
    "sns.barplot(importance, importance.index)\r\n"
   ]
  }
 ],
 "metadata": {
  "kernelspec": {
   "display_name": "Python 3.8.5 64-bit ('base': conda)",
   "name": "python385jvsc74a57bd0183bbf6827d058c2a2fb0f4acdc0420849dda2b4380af0e437e38c64d798d8b7"
  },
  "language_info": {
   "codemirror_mode": {
    "name": "ipython",
    "version": 3
   },
   "file_extension": ".py",
   "mimetype": "text/x-python",
   "name": "python",
   "nbconvert_exporter": "python",
   "pygments_lexer": "ipython3",
   "version": "3.8.5"
  },
  "orig_nbformat": 2
 },
 "nbformat": 4,
 "nbformat_minor": 2
}