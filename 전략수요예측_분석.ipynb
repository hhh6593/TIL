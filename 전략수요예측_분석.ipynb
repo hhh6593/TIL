{
 "cells": [
  {
   "cell_type": "code",
   "execution_count": 120,
   "metadata": {},
   "outputs": [],
   "source": [
    "import pandas as pd\n",
    "import numpy as np\n",
    "import matplotlib.pyplot as plt\n",
    "import seaborn as sns\n",
    "from sklearn.cluster import KMeans\n",
    "from sklearn.model_selection import KFold\n",
    "\n",
    "import warnings\n",
    "warnings.filterwarnings(action='ignore')"
   ]
  },
  {
   "cell_type": "code",
   "execution_count": 121,
   "metadata": {},
   "outputs": [
    {
     "output_type": "execute_result",
     "data": {
      "text/plain": [
       "        num      date_time  전력사용량(kWh)  기온(°C)  풍속(m/s)  습도(%)  강수량(mm)  \\\n",
       "0         1  2020-06-01 00    8179.056    17.6      2.5   92.0      0.8   \n",
       "1         1  2020-06-01 01    8135.640    17.7      2.9   91.0      0.3   \n",
       "2         1  2020-06-01 02    8107.128    17.5      3.2   91.0      0.0   \n",
       "3         1  2020-06-01 03    8048.808    17.1      3.2   91.0      0.0   \n",
       "4         1  2020-06-01 04    8043.624    17.0      3.3   92.0      0.0   \n",
       "...     ...            ...         ...     ...      ...    ...      ...   \n",
       "122395   60  2020-08-24 19    4114.368    27.8      2.3   68.0      0.0   \n",
       "122396   60  2020-08-24 20    3975.696    27.3      1.2   71.0      0.0   \n",
       "122397   60  2020-08-24 21    3572.208    27.3      1.8   71.0      0.0   \n",
       "122398   60  2020-08-24 22    3299.184    27.1      1.8   74.0      0.0   \n",
       "122399   60  2020-08-24 23    3204.576    27.1      2.6   75.0      0.0   \n",
       "\n",
       "        일조(hr)  비전기냉방설비운영  태양광보유  \n",
       "0          0.0        0.0    0.0  \n",
       "1          0.0        0.0    0.0  \n",
       "2          0.0        0.0    0.0  \n",
       "3          0.0        0.0    0.0  \n",
       "4          0.0        0.0    0.0  \n",
       "...        ...        ...    ...  \n",
       "122395     0.7        1.0    1.0  \n",
       "122396     0.0        1.0    1.0  \n",
       "122397     0.0        1.0    1.0  \n",
       "122398     0.0        1.0    1.0  \n",
       "122399     0.0        1.0    1.0  \n",
       "\n",
       "[122400 rows x 10 columns]"
      ],
      "text/html": "<div>\n<style scoped>\n    .dataframe tbody tr th:only-of-type {\n        vertical-align: middle;\n    }\n\n    .dataframe tbody tr th {\n        vertical-align: top;\n    }\n\n    .dataframe thead th {\n        text-align: right;\n    }\n</style>\n<table border=\"1\" class=\"dataframe\">\n  <thead>\n    <tr style=\"text-align: right;\">\n      <th></th>\n      <th>num</th>\n      <th>date_time</th>\n      <th>전력사용량(kWh)</th>\n      <th>기온(°C)</th>\n      <th>풍속(m/s)</th>\n      <th>습도(%)</th>\n      <th>강수량(mm)</th>\n      <th>일조(hr)</th>\n      <th>비전기냉방설비운영</th>\n      <th>태양광보유</th>\n    </tr>\n  </thead>\n  <tbody>\n    <tr>\n      <th>0</th>\n      <td>1</td>\n      <td>2020-06-01 00</td>\n      <td>8179.056</td>\n      <td>17.6</td>\n      <td>2.5</td>\n      <td>92.0</td>\n      <td>0.8</td>\n      <td>0.0</td>\n      <td>0.0</td>\n      <td>0.0</td>\n    </tr>\n    <tr>\n      <th>1</th>\n      <td>1</td>\n      <td>2020-06-01 01</td>\n      <td>8135.640</td>\n      <td>17.7</td>\n      <td>2.9</td>\n      <td>91.0</td>\n      <td>0.3</td>\n      <td>0.0</td>\n      <td>0.0</td>\n      <td>0.0</td>\n    </tr>\n    <tr>\n      <th>2</th>\n      <td>1</td>\n      <td>2020-06-01 02</td>\n      <td>8107.128</td>\n      <td>17.5</td>\n      <td>3.2</td>\n      <td>91.0</td>\n      <td>0.0</td>\n      <td>0.0</td>\n      <td>0.0</td>\n      <td>0.0</td>\n    </tr>\n    <tr>\n      <th>3</th>\n      <td>1</td>\n      <td>2020-06-01 03</td>\n      <td>8048.808</td>\n      <td>17.1</td>\n      <td>3.2</td>\n      <td>91.0</td>\n      <td>0.0</td>\n      <td>0.0</td>\n      <td>0.0</td>\n      <td>0.0</td>\n    </tr>\n    <tr>\n      <th>4</th>\n      <td>1</td>\n      <td>2020-06-01 04</td>\n      <td>8043.624</td>\n      <td>17.0</td>\n      <td>3.3</td>\n      <td>92.0</td>\n      <td>0.0</td>\n      <td>0.0</td>\n      <td>0.0</td>\n      <td>0.0</td>\n    </tr>\n    <tr>\n      <th>...</th>\n      <td>...</td>\n      <td>...</td>\n      <td>...</td>\n      <td>...</td>\n      <td>...</td>\n      <td>...</td>\n      <td>...</td>\n      <td>...</td>\n      <td>...</td>\n      <td>...</td>\n    </tr>\n    <tr>\n      <th>122395</th>\n      <td>60</td>\n      <td>2020-08-24 19</td>\n      <td>4114.368</td>\n      <td>27.8</td>\n      <td>2.3</td>\n      <td>68.0</td>\n      <td>0.0</td>\n      <td>0.7</td>\n      <td>1.0</td>\n      <td>1.0</td>\n    </tr>\n    <tr>\n      <th>122396</th>\n      <td>60</td>\n      <td>2020-08-24 20</td>\n      <td>3975.696</td>\n      <td>27.3</td>\n      <td>1.2</td>\n      <td>71.0</td>\n      <td>0.0</td>\n      <td>0.0</td>\n      <td>1.0</td>\n      <td>1.0</td>\n    </tr>\n    <tr>\n      <th>122397</th>\n      <td>60</td>\n      <td>2020-08-24 21</td>\n      <td>3572.208</td>\n      <td>27.3</td>\n      <td>1.8</td>\n      <td>71.0</td>\n      <td>0.0</td>\n      <td>0.0</td>\n      <td>1.0</td>\n      <td>1.0</td>\n    </tr>\n    <tr>\n      <th>122398</th>\n      <td>60</td>\n      <td>2020-08-24 22</td>\n      <td>3299.184</td>\n      <td>27.1</td>\n      <td>1.8</td>\n      <td>74.0</td>\n      <td>0.0</td>\n      <td>0.0</td>\n      <td>1.0</td>\n      <td>1.0</td>\n    </tr>\n    <tr>\n      <th>122399</th>\n      <td>60</td>\n      <td>2020-08-24 23</td>\n      <td>3204.576</td>\n      <td>27.1</td>\n      <td>2.6</td>\n      <td>75.0</td>\n      <td>0.0</td>\n      <td>0.0</td>\n      <td>1.0</td>\n      <td>1.0</td>\n    </tr>\n  </tbody>\n</table>\n<p>122400 rows × 10 columns</p>\n</div>"
     },
     "metadata": {},
     "execution_count": 121
    }
   ],
   "source": [
    "train = pd.read_csv('train.csv', engine='python')\n",
    "train"
   ]
  },
  {
   "cell_type": "code",
   "execution_count": 122,
   "metadata": {},
   "outputs": [
    {
     "output_type": "execute_result",
     "data": {
      "text/plain": [
       "       num      date_time  기온(°C)  풍속(m/s)  습도(%)  강수량(mm, 6시간)  일조(hr, 3시간)  \\\n",
       "0        1  2020-08-25 00    27.8      1.5   74.0           0.0          0.0   \n",
       "1        1  2020-08-25 01     NaN      NaN    NaN           NaN          NaN   \n",
       "2        1  2020-08-25 02     NaN      NaN    NaN           NaN          NaN   \n",
       "3        1  2020-08-25 03    27.3      1.1   78.0           NaN          0.0   \n",
       "4        1  2020-08-25 04     NaN      NaN    NaN           NaN          NaN   \n",
       "...    ...            ...     ...      ...    ...           ...          ...   \n",
       "10075   60  2020-08-31 19     NaN      NaN    NaN           NaN          NaN   \n",
       "10076   60  2020-08-31 20     NaN      NaN    NaN           NaN          NaN   \n",
       "10077   60  2020-08-31 21    27.9      4.1   68.0           NaN          0.0   \n",
       "10078   60  2020-08-31 22     NaN      NaN    NaN           NaN          NaN   \n",
       "10079   60  2020-08-31 23     NaN      NaN    NaN           NaN          NaN   \n",
       "\n",
       "       비전기냉방설비운영  태양광보유  \n",
       "0            NaN    NaN  \n",
       "1            NaN    NaN  \n",
       "2            NaN    NaN  \n",
       "3            NaN    NaN  \n",
       "4            NaN    NaN  \n",
       "...          ...    ...  \n",
       "10075        NaN    NaN  \n",
       "10076        NaN    NaN  \n",
       "10077        1.0    1.0  \n",
       "10078        NaN    NaN  \n",
       "10079        NaN    NaN  \n",
       "\n",
       "[10080 rows x 9 columns]"
      ],
      "text/html": "<div>\n<style scoped>\n    .dataframe tbody tr th:only-of-type {\n        vertical-align: middle;\n    }\n\n    .dataframe tbody tr th {\n        vertical-align: top;\n    }\n\n    .dataframe thead th {\n        text-align: right;\n    }\n</style>\n<table border=\"1\" class=\"dataframe\">\n  <thead>\n    <tr style=\"text-align: right;\">\n      <th></th>\n      <th>num</th>\n      <th>date_time</th>\n      <th>기온(°C)</th>\n      <th>풍속(m/s)</th>\n      <th>습도(%)</th>\n      <th>강수량(mm, 6시간)</th>\n      <th>일조(hr, 3시간)</th>\n      <th>비전기냉방설비운영</th>\n      <th>태양광보유</th>\n    </tr>\n  </thead>\n  <tbody>\n    <tr>\n      <th>0</th>\n      <td>1</td>\n      <td>2020-08-25 00</td>\n      <td>27.8</td>\n      <td>1.5</td>\n      <td>74.0</td>\n      <td>0.0</td>\n      <td>0.0</td>\n      <td>NaN</td>\n      <td>NaN</td>\n    </tr>\n    <tr>\n      <th>1</th>\n      <td>1</td>\n      <td>2020-08-25 01</td>\n      <td>NaN</td>\n      <td>NaN</td>\n      <td>NaN</td>\n      <td>NaN</td>\n      <td>NaN</td>\n      <td>NaN</td>\n      <td>NaN</td>\n    </tr>\n    <tr>\n      <th>2</th>\n      <td>1</td>\n      <td>2020-08-25 02</td>\n      <td>NaN</td>\n      <td>NaN</td>\n      <td>NaN</td>\n      <td>NaN</td>\n      <td>NaN</td>\n      <td>NaN</td>\n      <td>NaN</td>\n    </tr>\n    <tr>\n      <th>3</th>\n      <td>1</td>\n      <td>2020-08-25 03</td>\n      <td>27.3</td>\n      <td>1.1</td>\n      <td>78.0</td>\n      <td>NaN</td>\n      <td>0.0</td>\n      <td>NaN</td>\n      <td>NaN</td>\n    </tr>\n    <tr>\n      <th>4</th>\n      <td>1</td>\n      <td>2020-08-25 04</td>\n      <td>NaN</td>\n      <td>NaN</td>\n      <td>NaN</td>\n      <td>NaN</td>\n      <td>NaN</td>\n      <td>NaN</td>\n      <td>NaN</td>\n    </tr>\n    <tr>\n      <th>...</th>\n      <td>...</td>\n      <td>...</td>\n      <td>...</td>\n      <td>...</td>\n      <td>...</td>\n      <td>...</td>\n      <td>...</td>\n      <td>...</td>\n      <td>...</td>\n    </tr>\n    <tr>\n      <th>10075</th>\n      <td>60</td>\n      <td>2020-08-31 19</td>\n      <td>NaN</td>\n      <td>NaN</td>\n      <td>NaN</td>\n      <td>NaN</td>\n      <td>NaN</td>\n      <td>NaN</td>\n      <td>NaN</td>\n    </tr>\n    <tr>\n      <th>10076</th>\n      <td>60</td>\n      <td>2020-08-31 20</td>\n      <td>NaN</td>\n      <td>NaN</td>\n      <td>NaN</td>\n      <td>NaN</td>\n      <td>NaN</td>\n      <td>NaN</td>\n      <td>NaN</td>\n    </tr>\n    <tr>\n      <th>10077</th>\n      <td>60</td>\n      <td>2020-08-31 21</td>\n      <td>27.9</td>\n      <td>4.1</td>\n      <td>68.0</td>\n      <td>NaN</td>\n      <td>0.0</td>\n      <td>1.0</td>\n      <td>1.0</td>\n    </tr>\n    <tr>\n      <th>10078</th>\n      <td>60</td>\n      <td>2020-08-31 22</td>\n      <td>NaN</td>\n      <td>NaN</td>\n      <td>NaN</td>\n      <td>NaN</td>\n      <td>NaN</td>\n      <td>NaN</td>\n      <td>NaN</td>\n    </tr>\n    <tr>\n      <th>10079</th>\n      <td>60</td>\n      <td>2020-08-31 23</td>\n      <td>NaN</td>\n      <td>NaN</td>\n      <td>NaN</td>\n      <td>NaN</td>\n      <td>NaN</td>\n      <td>NaN</td>\n      <td>NaN</td>\n    </tr>\n  </tbody>\n</table>\n<p>10080 rows × 9 columns</p>\n</div>"
     },
     "metadata": {},
     "execution_count": 122
    }
   ],
   "source": [
    "test = pd.read_csv('test.csv', engine='python')\n",
    "test"
   ]
  },
  {
   "cell_type": "code",
   "execution_count": 123,
   "metadata": {},
   "outputs": [
    {
     "output_type": "stream",
     "name": "stdout",
     "text": [
      "k: 2, inertia : 141731596052.6865\n",
      "k: 3, inertia : 93263968980.8303\n",
      "k: 4, inertia : 67366933376.6103\n",
      "k: 5, inertia : 56826783262.8566\n",
      "k: 6, inertia : 47063655777.2855\n",
      "k: 7, inertia : 40093754913.9141\n",
      "k: 8, inertia : 32174312396.5531\n",
      "k: 9, inertia : 28008060710.1391\n",
      "k: 10, inertia : 24741322974.3511\n"
     ]
    },
    {
     "output_type": "execute_result",
     "data": {
      "text/plain": [
       "Text(0, 0.5, 'inertia')"
      ]
     },
     "metadata": {},
     "execution_count": 123
    },
    {
     "output_type": "display_data",
     "data": {
      "text/plain": "<Figure size 432x288 with 1 Axes>",
      "image/svg+xml": "<?xml version=\"1.0\" encoding=\"utf-8\" standalone=\"no\"?>\r\n<!DOCTYPE svg PUBLIC \"-//W3C//DTD SVG 1.1//EN\"\r\n  \"http://www.w3.org/Graphics/SVG/1.1/DTD/svg11.dtd\">\r\n<!-- Created with matplotlib (https://matplotlib.org/) -->\r\n<svg height=\"272.794688pt\" version=\"1.1\" viewBox=\"0 0 385.78125 272.794688\" width=\"385.78125pt\" xmlns=\"http://www.w3.org/2000/svg\" xmlns:xlink=\"http://www.w3.org/1999/xlink\">\r\n <metadata>\r\n  <rdf:RDF xmlns:cc=\"http://creativecommons.org/ns#\" xmlns:dc=\"http://purl.org/dc/elements/1.1/\" xmlns:rdf=\"http://www.w3.org/1999/02/22-rdf-syntax-ns#\">\r\n   <cc:Work>\r\n    <dc:type rdf:resource=\"http://purl.org/dc/dcmitype/StillImage\"/>\r\n    <dc:date>2021-06-05T22:19:11.857955</dc:date>\r\n    <dc:format>image/svg+xml</dc:format>\r\n    <dc:creator>\r\n     <cc:Agent>\r\n      <dc:title>Matplotlib v3.3.2, https://matplotlib.org/</dc:title>\r\n     </cc:Agent>\r\n    </dc:creator>\r\n   </cc:Work>\r\n  </rdf:RDF>\r\n </metadata>\r\n <defs>\r\n  <style type=\"text/css\">*{stroke-linecap:butt;stroke-linejoin:round;}</style>\r\n </defs>\r\n <g id=\"figure_1\">\r\n  <g id=\"patch_1\">\r\n   <path d=\"M 0 272.794688 \r\nL 385.78125 272.794688 \r\nL 385.78125 0 \r\nL 0 0 \r\nz\r\n\" style=\"fill:none;\"/>\r\n  </g>\r\n  <g id=\"axes_1\">\r\n   <g id=\"patch_2\">\r\n    <path d=\"M 43.78125 235.238438 \r\nL 378.58125 235.238438 \r\nL 378.58125 17.798438 \r\nL 43.78125 17.798438 \r\nz\r\n\" style=\"fill:#ffffff;\"/>\r\n   </g>\r\n   <g id=\"matplotlib.axis_1\">\r\n    <g id=\"xtick_1\">\r\n     <g id=\"line2d_1\">\r\n      <defs>\r\n       <path d=\"M 0 0 \r\nL 0 3.5 \r\n\" id=\"m3f73284db5\" style=\"stroke:#000000;stroke-width:0.8;\"/>\r\n      </defs>\r\n      <g>\r\n       <use style=\"stroke:#000000;stroke-width:0.8;\" x=\"58.999432\" xlink:href=\"#m3f73284db5\" y=\"235.238438\"/>\r\n      </g>\r\n     </g>\r\n     <g id=\"text_1\">\r\n      <!-- 2 -->\r\n      <g transform=\"translate(55.818182 249.836875)scale(0.1 -0.1)\">\r\n       <defs>\r\n        <path d=\"M 19.1875 8.296875 \r\nL 53.609375 8.296875 \r\nL 53.609375 0 \r\nL 7.328125 0 \r\nL 7.328125 8.296875 \r\nQ 12.9375 14.109375 22.625 23.890625 \r\nQ 32.328125 33.6875 34.8125 36.53125 \r\nQ 39.546875 41.84375 41.421875 45.53125 \r\nQ 43.3125 49.21875 43.3125 52.78125 \r\nQ 43.3125 58.59375 39.234375 62.25 \r\nQ 35.15625 65.921875 28.609375 65.921875 \r\nQ 23.96875 65.921875 18.8125 64.3125 \r\nQ 13.671875 62.703125 7.8125 59.421875 \r\nL 7.8125 69.390625 \r\nQ 13.765625 71.78125 18.9375 73 \r\nQ 24.125 74.21875 28.421875 74.21875 \r\nQ 39.75 74.21875 46.484375 68.546875 \r\nQ 53.21875 62.890625 53.21875 53.421875 \r\nQ 53.21875 48.921875 51.53125 44.890625 \r\nQ 49.859375 40.875 45.40625 35.40625 \r\nQ 44.1875 33.984375 37.640625 27.21875 \r\nQ 31.109375 20.453125 19.1875 8.296875 \r\nz\r\n\" id=\"DejaVuSans-50\"/>\r\n       </defs>\r\n       <use xlink:href=\"#DejaVuSans-50\"/>\r\n      </g>\r\n     </g>\r\n    </g>\r\n    <g id=\"xtick_2\">\r\n     <g id=\"line2d_2\">\r\n      <g>\r\n       <use style=\"stroke:#000000;stroke-width:0.8;\" x=\"97.044886\" xlink:href=\"#m3f73284db5\" y=\"235.238438\"/>\r\n      </g>\r\n     </g>\r\n     <g id=\"text_2\">\r\n      <!-- 3 -->\r\n      <g transform=\"translate(93.863636 249.836875)scale(0.1 -0.1)\">\r\n       <defs>\r\n        <path d=\"M 40.578125 39.3125 \r\nQ 47.65625 37.796875 51.625 33 \r\nQ 55.609375 28.21875 55.609375 21.1875 \r\nQ 55.609375 10.40625 48.1875 4.484375 \r\nQ 40.765625 -1.421875 27.09375 -1.421875 \r\nQ 22.515625 -1.421875 17.65625 -0.515625 \r\nQ 12.796875 0.390625 7.625 2.203125 \r\nL 7.625 11.71875 \r\nQ 11.71875 9.328125 16.59375 8.109375 \r\nQ 21.484375 6.890625 26.8125 6.890625 \r\nQ 36.078125 6.890625 40.9375 10.546875 \r\nQ 45.796875 14.203125 45.796875 21.1875 \r\nQ 45.796875 27.640625 41.28125 31.265625 \r\nQ 36.765625 34.90625 28.71875 34.90625 \r\nL 20.21875 34.90625 \r\nL 20.21875 43.015625 \r\nL 29.109375 43.015625 \r\nQ 36.375 43.015625 40.234375 45.921875 \r\nQ 44.09375 48.828125 44.09375 54.296875 \r\nQ 44.09375 59.90625 40.109375 62.90625 \r\nQ 36.140625 65.921875 28.71875 65.921875 \r\nQ 24.65625 65.921875 20.015625 65.03125 \r\nQ 15.375 64.15625 9.8125 62.3125 \r\nL 9.8125 71.09375 \r\nQ 15.4375 72.65625 20.34375 73.4375 \r\nQ 25.25 74.21875 29.59375 74.21875 \r\nQ 40.828125 74.21875 47.359375 69.109375 \r\nQ 53.90625 64.015625 53.90625 55.328125 \r\nQ 53.90625 49.265625 50.4375 45.09375 \r\nQ 46.96875 40.921875 40.578125 39.3125 \r\nz\r\n\" id=\"DejaVuSans-51\"/>\r\n       </defs>\r\n       <use xlink:href=\"#DejaVuSans-51\"/>\r\n      </g>\r\n     </g>\r\n    </g>\r\n    <g id=\"xtick_3\">\r\n     <g id=\"line2d_3\">\r\n      <g>\r\n       <use style=\"stroke:#000000;stroke-width:0.8;\" x=\"135.090341\" xlink:href=\"#m3f73284db5\" y=\"235.238438\"/>\r\n      </g>\r\n     </g>\r\n     <g id=\"text_3\">\r\n      <!-- 4 -->\r\n      <g transform=\"translate(131.909091 249.836875)scale(0.1 -0.1)\">\r\n       <defs>\r\n        <path d=\"M 37.796875 64.3125 \r\nL 12.890625 25.390625 \r\nL 37.796875 25.390625 \r\nz\r\nM 35.203125 72.90625 \r\nL 47.609375 72.90625 \r\nL 47.609375 25.390625 \r\nL 58.015625 25.390625 \r\nL 58.015625 17.1875 \r\nL 47.609375 17.1875 \r\nL 47.609375 0 \r\nL 37.796875 0 \r\nL 37.796875 17.1875 \r\nL 4.890625 17.1875 \r\nL 4.890625 26.703125 \r\nz\r\n\" id=\"DejaVuSans-52\"/>\r\n       </defs>\r\n       <use xlink:href=\"#DejaVuSans-52\"/>\r\n      </g>\r\n     </g>\r\n    </g>\r\n    <g id=\"xtick_4\">\r\n     <g id=\"line2d_4\">\r\n      <g>\r\n       <use style=\"stroke:#000000;stroke-width:0.8;\" x=\"173.135795\" xlink:href=\"#m3f73284db5\" y=\"235.238438\"/>\r\n      </g>\r\n     </g>\r\n     <g id=\"text_4\">\r\n      <!-- 5 -->\r\n      <g transform=\"translate(169.954545 249.836875)scale(0.1 -0.1)\">\r\n       <defs>\r\n        <path d=\"M 10.796875 72.90625 \r\nL 49.515625 72.90625 \r\nL 49.515625 64.59375 \r\nL 19.828125 64.59375 \r\nL 19.828125 46.734375 \r\nQ 21.96875 47.46875 24.109375 47.828125 \r\nQ 26.265625 48.1875 28.421875 48.1875 \r\nQ 40.625 48.1875 47.75 41.5 \r\nQ 54.890625 34.8125 54.890625 23.390625 \r\nQ 54.890625 11.625 47.5625 5.09375 \r\nQ 40.234375 -1.421875 26.90625 -1.421875 \r\nQ 22.3125 -1.421875 17.546875 -0.640625 \r\nQ 12.796875 0.140625 7.71875 1.703125 \r\nL 7.71875 11.625 \r\nQ 12.109375 9.234375 16.796875 8.0625 \r\nQ 21.484375 6.890625 26.703125 6.890625 \r\nQ 35.15625 6.890625 40.078125 11.328125 \r\nQ 45.015625 15.765625 45.015625 23.390625 \r\nQ 45.015625 31 40.078125 35.4375 \r\nQ 35.15625 39.890625 26.703125 39.890625 \r\nQ 22.75 39.890625 18.8125 39.015625 \r\nQ 14.890625 38.140625 10.796875 36.28125 \r\nz\r\n\" id=\"DejaVuSans-53\"/>\r\n       </defs>\r\n       <use xlink:href=\"#DejaVuSans-53\"/>\r\n      </g>\r\n     </g>\r\n    </g>\r\n    <g id=\"xtick_5\">\r\n     <g id=\"line2d_5\">\r\n      <g>\r\n       <use style=\"stroke:#000000;stroke-width:0.8;\" x=\"211.18125\" xlink:href=\"#m3f73284db5\" y=\"235.238438\"/>\r\n      </g>\r\n     </g>\r\n     <g id=\"text_5\">\r\n      <!-- 6 -->\r\n      <g transform=\"translate(208 249.836875)scale(0.1 -0.1)\">\r\n       <defs>\r\n        <path d=\"M 33.015625 40.375 \r\nQ 26.375 40.375 22.484375 35.828125 \r\nQ 18.609375 31.296875 18.609375 23.390625 \r\nQ 18.609375 15.53125 22.484375 10.953125 \r\nQ 26.375 6.390625 33.015625 6.390625 \r\nQ 39.65625 6.390625 43.53125 10.953125 \r\nQ 47.40625 15.53125 47.40625 23.390625 \r\nQ 47.40625 31.296875 43.53125 35.828125 \r\nQ 39.65625 40.375 33.015625 40.375 \r\nz\r\nM 52.59375 71.296875 \r\nL 52.59375 62.3125 \r\nQ 48.875 64.0625 45.09375 64.984375 \r\nQ 41.3125 65.921875 37.59375 65.921875 \r\nQ 27.828125 65.921875 22.671875 59.328125 \r\nQ 17.53125 52.734375 16.796875 39.40625 \r\nQ 19.671875 43.65625 24.015625 45.921875 \r\nQ 28.375 48.1875 33.59375 48.1875 \r\nQ 44.578125 48.1875 50.953125 41.515625 \r\nQ 57.328125 34.859375 57.328125 23.390625 \r\nQ 57.328125 12.15625 50.6875 5.359375 \r\nQ 44.046875 -1.421875 33.015625 -1.421875 \r\nQ 20.359375 -1.421875 13.671875 8.265625 \r\nQ 6.984375 17.96875 6.984375 36.375 \r\nQ 6.984375 53.65625 15.1875 63.9375 \r\nQ 23.390625 74.21875 37.203125 74.21875 \r\nQ 40.921875 74.21875 44.703125 73.484375 \r\nQ 48.484375 72.75 52.59375 71.296875 \r\nz\r\n\" id=\"DejaVuSans-54\"/>\r\n       </defs>\r\n       <use xlink:href=\"#DejaVuSans-54\"/>\r\n      </g>\r\n     </g>\r\n    </g>\r\n    <g id=\"xtick_6\">\r\n     <g id=\"line2d_6\">\r\n      <g>\r\n       <use style=\"stroke:#000000;stroke-width:0.8;\" x=\"249.226705\" xlink:href=\"#m3f73284db5\" y=\"235.238438\"/>\r\n      </g>\r\n     </g>\r\n     <g id=\"text_6\">\r\n      <!-- 7 -->\r\n      <g transform=\"translate(246.045455 249.836875)scale(0.1 -0.1)\">\r\n       <defs>\r\n        <path d=\"M 8.203125 72.90625 \r\nL 55.078125 72.90625 \r\nL 55.078125 68.703125 \r\nL 28.609375 0 \r\nL 18.3125 0 \r\nL 43.21875 64.59375 \r\nL 8.203125 64.59375 \r\nz\r\n\" id=\"DejaVuSans-55\"/>\r\n       </defs>\r\n       <use xlink:href=\"#DejaVuSans-55\"/>\r\n      </g>\r\n     </g>\r\n    </g>\r\n    <g id=\"xtick_7\">\r\n     <g id=\"line2d_7\">\r\n      <g>\r\n       <use style=\"stroke:#000000;stroke-width:0.8;\" x=\"287.272159\" xlink:href=\"#m3f73284db5\" y=\"235.238438\"/>\r\n      </g>\r\n     </g>\r\n     <g id=\"text_7\">\r\n      <!-- 8 -->\r\n      <g transform=\"translate(284.090909 249.836875)scale(0.1 -0.1)\">\r\n       <defs>\r\n        <path d=\"M 31.78125 34.625 \r\nQ 24.75 34.625 20.71875 30.859375 \r\nQ 16.703125 27.09375 16.703125 20.515625 \r\nQ 16.703125 13.921875 20.71875 10.15625 \r\nQ 24.75 6.390625 31.78125 6.390625 \r\nQ 38.8125 6.390625 42.859375 10.171875 \r\nQ 46.921875 13.96875 46.921875 20.515625 \r\nQ 46.921875 27.09375 42.890625 30.859375 \r\nQ 38.875 34.625 31.78125 34.625 \r\nz\r\nM 21.921875 38.8125 \r\nQ 15.578125 40.375 12.03125 44.71875 \r\nQ 8.5 49.078125 8.5 55.328125 \r\nQ 8.5 64.0625 14.71875 69.140625 \r\nQ 20.953125 74.21875 31.78125 74.21875 \r\nQ 42.671875 74.21875 48.875 69.140625 \r\nQ 55.078125 64.0625 55.078125 55.328125 \r\nQ 55.078125 49.078125 51.53125 44.71875 \r\nQ 48 40.375 41.703125 38.8125 \r\nQ 48.828125 37.15625 52.796875 32.3125 \r\nQ 56.78125 27.484375 56.78125 20.515625 \r\nQ 56.78125 9.90625 50.3125 4.234375 \r\nQ 43.84375 -1.421875 31.78125 -1.421875 \r\nQ 19.734375 -1.421875 13.25 4.234375 \r\nQ 6.78125 9.90625 6.78125 20.515625 \r\nQ 6.78125 27.484375 10.78125 32.3125 \r\nQ 14.796875 37.15625 21.921875 38.8125 \r\nz\r\nM 18.3125 54.390625 \r\nQ 18.3125 48.734375 21.84375 45.5625 \r\nQ 25.390625 42.390625 31.78125 42.390625 \r\nQ 38.140625 42.390625 41.71875 45.5625 \r\nQ 45.3125 48.734375 45.3125 54.390625 \r\nQ 45.3125 60.0625 41.71875 63.234375 \r\nQ 38.140625 66.40625 31.78125 66.40625 \r\nQ 25.390625 66.40625 21.84375 63.234375 \r\nQ 18.3125 60.0625 18.3125 54.390625 \r\nz\r\n\" id=\"DejaVuSans-56\"/>\r\n       </defs>\r\n       <use xlink:href=\"#DejaVuSans-56\"/>\r\n      </g>\r\n     </g>\r\n    </g>\r\n    <g id=\"xtick_8\">\r\n     <g id=\"line2d_8\">\r\n      <g>\r\n       <use style=\"stroke:#000000;stroke-width:0.8;\" x=\"325.317614\" xlink:href=\"#m3f73284db5\" y=\"235.238438\"/>\r\n      </g>\r\n     </g>\r\n     <g id=\"text_8\">\r\n      <!-- 9 -->\r\n      <g transform=\"translate(322.136364 249.836875)scale(0.1 -0.1)\">\r\n       <defs>\r\n        <path d=\"M 10.984375 1.515625 \r\nL 10.984375 10.5 \r\nQ 14.703125 8.734375 18.5 7.8125 \r\nQ 22.3125 6.890625 25.984375 6.890625 \r\nQ 35.75 6.890625 40.890625 13.453125 \r\nQ 46.046875 20.015625 46.78125 33.40625 \r\nQ 43.953125 29.203125 39.59375 26.953125 \r\nQ 35.25 24.703125 29.984375 24.703125 \r\nQ 19.046875 24.703125 12.671875 31.3125 \r\nQ 6.296875 37.9375 6.296875 49.421875 \r\nQ 6.296875 60.640625 12.9375 67.421875 \r\nQ 19.578125 74.21875 30.609375 74.21875 \r\nQ 43.265625 74.21875 49.921875 64.515625 \r\nQ 56.59375 54.828125 56.59375 36.375 \r\nQ 56.59375 19.140625 48.40625 8.859375 \r\nQ 40.234375 -1.421875 26.421875 -1.421875 \r\nQ 22.703125 -1.421875 18.890625 -0.6875 \r\nQ 15.09375 0.046875 10.984375 1.515625 \r\nz\r\nM 30.609375 32.421875 \r\nQ 37.25 32.421875 41.125 36.953125 \r\nQ 45.015625 41.5 45.015625 49.421875 \r\nQ 45.015625 57.28125 41.125 61.84375 \r\nQ 37.25 66.40625 30.609375 66.40625 \r\nQ 23.96875 66.40625 20.09375 61.84375 \r\nQ 16.21875 57.28125 16.21875 49.421875 \r\nQ 16.21875 41.5 20.09375 36.953125 \r\nQ 23.96875 32.421875 30.609375 32.421875 \r\nz\r\n\" id=\"DejaVuSans-57\"/>\r\n       </defs>\r\n       <use xlink:href=\"#DejaVuSans-57\"/>\r\n      </g>\r\n     </g>\r\n    </g>\r\n    <g id=\"xtick_9\">\r\n     <g id=\"line2d_9\">\r\n      <g>\r\n       <use style=\"stroke:#000000;stroke-width:0.8;\" x=\"363.363068\" xlink:href=\"#m3f73284db5\" y=\"235.238438\"/>\r\n      </g>\r\n     </g>\r\n     <g id=\"text_9\">\r\n      <!-- 10 -->\r\n      <g transform=\"translate(357.000568 249.836875)scale(0.1 -0.1)\">\r\n       <defs>\r\n        <path d=\"M 12.40625 8.296875 \r\nL 28.515625 8.296875 \r\nL 28.515625 63.921875 \r\nL 10.984375 60.40625 \r\nL 10.984375 69.390625 \r\nL 28.421875 72.90625 \r\nL 38.28125 72.90625 \r\nL 38.28125 8.296875 \r\nL 54.390625 8.296875 \r\nL 54.390625 0 \r\nL 12.40625 0 \r\nz\r\n\" id=\"DejaVuSans-49\"/>\r\n        <path d=\"M 31.78125 66.40625 \r\nQ 24.171875 66.40625 20.328125 58.90625 \r\nQ 16.5 51.421875 16.5 36.375 \r\nQ 16.5 21.390625 20.328125 13.890625 \r\nQ 24.171875 6.390625 31.78125 6.390625 \r\nQ 39.453125 6.390625 43.28125 13.890625 \r\nQ 47.125 21.390625 47.125 36.375 \r\nQ 47.125 51.421875 43.28125 58.90625 \r\nQ 39.453125 66.40625 31.78125 66.40625 \r\nz\r\nM 31.78125 74.21875 \r\nQ 44.046875 74.21875 50.515625 64.515625 \r\nQ 56.984375 54.828125 56.984375 36.375 \r\nQ 56.984375 17.96875 50.515625 8.265625 \r\nQ 44.046875 -1.421875 31.78125 -1.421875 \r\nQ 19.53125 -1.421875 13.0625 8.265625 \r\nQ 6.59375 17.96875 6.59375 36.375 \r\nQ 6.59375 54.828125 13.0625 64.515625 \r\nQ 19.53125 74.21875 31.78125 74.21875 \r\nz\r\n\" id=\"DejaVuSans-48\"/>\r\n       </defs>\r\n       <use xlink:href=\"#DejaVuSans-49\"/>\r\n       <use x=\"63.623047\" xlink:href=\"#DejaVuSans-48\"/>\r\n      </g>\r\n     </g>\r\n    </g>\r\n    <g id=\"text_10\">\r\n     <!-- k -->\r\n     <g transform=\"translate(208.285938 263.515)scale(0.1 -0.1)\">\r\n      <defs>\r\n       <path d=\"M 9.078125 75.984375 \r\nL 18.109375 75.984375 \r\nL 18.109375 31.109375 \r\nL 44.921875 54.6875 \r\nL 56.390625 54.6875 \r\nL 27.390625 29.109375 \r\nL 57.625 0 \r\nL 45.90625 0 \r\nL 18.109375 26.703125 \r\nL 18.109375 0 \r\nL 9.078125 0 \r\nz\r\n\" id=\"DejaVuSans-107\"/>\r\n      </defs>\r\n      <use xlink:href=\"#DejaVuSans-107\"/>\r\n     </g>\r\n    </g>\r\n   </g>\r\n   <g id=\"matplotlib.axis_2\">\r\n    <g id=\"ytick_1\">\r\n     <g id=\"line2d_10\">\r\n      <defs>\r\n       <path d=\"M 0 0 \r\nL -3.5 0 \r\n\" id=\"mba2a6b0779\" style=\"stroke:#000000;stroke-width:0.8;\"/>\r\n      </defs>\r\n      <g>\r\n       <use style=\"stroke:#000000;stroke-width:0.8;\" x=\"43.78125\" xlink:href=\"#mba2a6b0779\" y=\"233.365982\"/>\r\n      </g>\r\n     </g>\r\n     <g id=\"text_11\">\r\n      <!-- 0.2 -->\r\n      <g transform=\"translate(20.878125 237.165201)scale(0.1 -0.1)\">\r\n       <defs>\r\n        <path d=\"M 10.6875 12.40625 \r\nL 21 12.40625 \r\nL 21 0 \r\nL 10.6875 0 \r\nz\r\n\" id=\"DejaVuSans-46\"/>\r\n       </defs>\r\n       <use xlink:href=\"#DejaVuSans-48\"/>\r\n       <use x=\"63.623047\" xlink:href=\"#DejaVuSans-46\"/>\r\n       <use x=\"95.410156\" xlink:href=\"#DejaVuSans-50\"/>\r\n      </g>\r\n     </g>\r\n    </g>\r\n    <g id=\"ytick_2\">\r\n     <g id=\"line2d_11\">\r\n      <g>\r\n       <use style=\"stroke:#000000;stroke-width:0.8;\" x=\"43.78125\" xlink:href=\"#mba2a6b0779\" y=\"199.572963\"/>\r\n      </g>\r\n     </g>\r\n     <g id=\"text_12\">\r\n      <!-- 0.4 -->\r\n      <g transform=\"translate(20.878125 203.372182)scale(0.1 -0.1)\">\r\n       <use xlink:href=\"#DejaVuSans-48\"/>\r\n       <use x=\"63.623047\" xlink:href=\"#DejaVuSans-46\"/>\r\n       <use x=\"95.410156\" xlink:href=\"#DejaVuSans-52\"/>\r\n      </g>\r\n     </g>\r\n    </g>\r\n    <g id=\"ytick_3\">\r\n     <g id=\"line2d_12\">\r\n      <g>\r\n       <use style=\"stroke:#000000;stroke-width:0.8;\" x=\"43.78125\" xlink:href=\"#mba2a6b0779\" y=\"165.779944\"/>\r\n      </g>\r\n     </g>\r\n     <g id=\"text_13\">\r\n      <!-- 0.6 -->\r\n      <g transform=\"translate(20.878125 169.579162)scale(0.1 -0.1)\">\r\n       <use xlink:href=\"#DejaVuSans-48\"/>\r\n       <use x=\"63.623047\" xlink:href=\"#DejaVuSans-46\"/>\r\n       <use x=\"95.410156\" xlink:href=\"#DejaVuSans-54\"/>\r\n      </g>\r\n     </g>\r\n    </g>\r\n    <g id=\"ytick_4\">\r\n     <g id=\"line2d_13\">\r\n      <g>\r\n       <use style=\"stroke:#000000;stroke-width:0.8;\" x=\"43.78125\" xlink:href=\"#mba2a6b0779\" y=\"131.986924\"/>\r\n      </g>\r\n     </g>\r\n     <g id=\"text_14\">\r\n      <!-- 0.8 -->\r\n      <g transform=\"translate(20.878125 135.786143)scale(0.1 -0.1)\">\r\n       <use xlink:href=\"#DejaVuSans-48\"/>\r\n       <use x=\"63.623047\" xlink:href=\"#DejaVuSans-46\"/>\r\n       <use x=\"95.410156\" xlink:href=\"#DejaVuSans-56\"/>\r\n      </g>\r\n     </g>\r\n    </g>\r\n    <g id=\"ytick_5\">\r\n     <g id=\"line2d_14\">\r\n      <g>\r\n       <use style=\"stroke:#000000;stroke-width:0.8;\" x=\"43.78125\" xlink:href=\"#mba2a6b0779\" y=\"98.193905\"/>\r\n      </g>\r\n     </g>\r\n     <g id=\"text_15\">\r\n      <!-- 1.0 -->\r\n      <g transform=\"translate(20.878125 101.993124)scale(0.1 -0.1)\">\r\n       <use xlink:href=\"#DejaVuSans-49\"/>\r\n       <use x=\"63.623047\" xlink:href=\"#DejaVuSans-46\"/>\r\n       <use x=\"95.410156\" xlink:href=\"#DejaVuSans-48\"/>\r\n      </g>\r\n     </g>\r\n    </g>\r\n    <g id=\"ytick_6\">\r\n     <g id=\"line2d_15\">\r\n      <g>\r\n       <use style=\"stroke:#000000;stroke-width:0.8;\" x=\"43.78125\" xlink:href=\"#mba2a6b0779\" y=\"64.400886\"/>\r\n      </g>\r\n     </g>\r\n     <g id=\"text_16\">\r\n      <!-- 1.2 -->\r\n      <g transform=\"translate(20.878125 68.200105)scale(0.1 -0.1)\">\r\n       <use xlink:href=\"#DejaVuSans-49\"/>\r\n       <use x=\"63.623047\" xlink:href=\"#DejaVuSans-46\"/>\r\n       <use x=\"95.410156\" xlink:href=\"#DejaVuSans-50\"/>\r\n      </g>\r\n     </g>\r\n    </g>\r\n    <g id=\"ytick_7\">\r\n     <g id=\"line2d_16\">\r\n      <g>\r\n       <use style=\"stroke:#000000;stroke-width:0.8;\" x=\"43.78125\" xlink:href=\"#mba2a6b0779\" y=\"30.607867\"/>\r\n      </g>\r\n     </g>\r\n     <g id=\"text_17\">\r\n      <!-- 1.4 -->\r\n      <g transform=\"translate(20.878125 34.407086)scale(0.1 -0.1)\">\r\n       <use xlink:href=\"#DejaVuSans-49\"/>\r\n       <use x=\"63.623047\" xlink:href=\"#DejaVuSans-46\"/>\r\n       <use x=\"95.410156\" xlink:href=\"#DejaVuSans-52\"/>\r\n      </g>\r\n     </g>\r\n    </g>\r\n    <g id=\"text_18\">\r\n     <!-- inertia -->\r\n     <g transform=\"translate(14.798438 142.621563)rotate(-90)scale(0.1 -0.1)\">\r\n      <defs>\r\n       <path d=\"M 9.421875 54.6875 \r\nL 18.40625 54.6875 \r\nL 18.40625 0 \r\nL 9.421875 0 \r\nz\r\nM 9.421875 75.984375 \r\nL 18.40625 75.984375 \r\nL 18.40625 64.59375 \r\nL 9.421875 64.59375 \r\nz\r\n\" id=\"DejaVuSans-105\"/>\r\n       <path d=\"M 54.890625 33.015625 \r\nL 54.890625 0 \r\nL 45.90625 0 \r\nL 45.90625 32.71875 \r\nQ 45.90625 40.484375 42.875 44.328125 \r\nQ 39.84375 48.1875 33.796875 48.1875 \r\nQ 26.515625 48.1875 22.3125 43.546875 \r\nQ 18.109375 38.921875 18.109375 30.90625 \r\nL 18.109375 0 \r\nL 9.078125 0 \r\nL 9.078125 54.6875 \r\nL 18.109375 54.6875 \r\nL 18.109375 46.1875 \r\nQ 21.34375 51.125 25.703125 53.5625 \r\nQ 30.078125 56 35.796875 56 \r\nQ 45.21875 56 50.046875 50.171875 \r\nQ 54.890625 44.34375 54.890625 33.015625 \r\nz\r\n\" id=\"DejaVuSans-110\"/>\r\n       <path d=\"M 56.203125 29.59375 \r\nL 56.203125 25.203125 \r\nL 14.890625 25.203125 \r\nQ 15.484375 15.921875 20.484375 11.0625 \r\nQ 25.484375 6.203125 34.421875 6.203125 \r\nQ 39.59375 6.203125 44.453125 7.46875 \r\nQ 49.3125 8.734375 54.109375 11.28125 \r\nL 54.109375 2.78125 \r\nQ 49.265625 0.734375 44.1875 -0.34375 \r\nQ 39.109375 -1.421875 33.890625 -1.421875 \r\nQ 20.796875 -1.421875 13.15625 6.1875 \r\nQ 5.515625 13.8125 5.515625 26.8125 \r\nQ 5.515625 40.234375 12.765625 48.109375 \r\nQ 20.015625 56 32.328125 56 \r\nQ 43.359375 56 49.78125 48.890625 \r\nQ 56.203125 41.796875 56.203125 29.59375 \r\nz\r\nM 47.21875 32.234375 \r\nQ 47.125 39.59375 43.09375 43.984375 \r\nQ 39.0625 48.390625 32.421875 48.390625 \r\nQ 24.90625 48.390625 20.390625 44.140625 \r\nQ 15.875 39.890625 15.1875 32.171875 \r\nz\r\n\" id=\"DejaVuSans-101\"/>\r\n       <path d=\"M 41.109375 46.296875 \r\nQ 39.59375 47.171875 37.8125 47.578125 \r\nQ 36.03125 48 33.890625 48 \r\nQ 26.265625 48 22.1875 43.046875 \r\nQ 18.109375 38.09375 18.109375 28.8125 \r\nL 18.109375 0 \r\nL 9.078125 0 \r\nL 9.078125 54.6875 \r\nL 18.109375 54.6875 \r\nL 18.109375 46.1875 \r\nQ 20.953125 51.171875 25.484375 53.578125 \r\nQ 30.03125 56 36.53125 56 \r\nQ 37.453125 56 38.578125 55.875 \r\nQ 39.703125 55.765625 41.0625 55.515625 \r\nz\r\n\" id=\"DejaVuSans-114\"/>\r\n       <path d=\"M 18.3125 70.21875 \r\nL 18.3125 54.6875 \r\nL 36.8125 54.6875 \r\nL 36.8125 47.703125 \r\nL 18.3125 47.703125 \r\nL 18.3125 18.015625 \r\nQ 18.3125 11.328125 20.140625 9.421875 \r\nQ 21.96875 7.515625 27.59375 7.515625 \r\nL 36.8125 7.515625 \r\nL 36.8125 0 \r\nL 27.59375 0 \r\nQ 17.1875 0 13.234375 3.875 \r\nQ 9.28125 7.765625 9.28125 18.015625 \r\nL 9.28125 47.703125 \r\nL 2.6875 47.703125 \r\nL 2.6875 54.6875 \r\nL 9.28125 54.6875 \r\nL 9.28125 70.21875 \r\nz\r\n\" id=\"DejaVuSans-116\"/>\r\n       <path d=\"M 34.28125 27.484375 \r\nQ 23.390625 27.484375 19.1875 25 \r\nQ 14.984375 22.515625 14.984375 16.5 \r\nQ 14.984375 11.71875 18.140625 8.90625 \r\nQ 21.296875 6.109375 26.703125 6.109375 \r\nQ 34.1875 6.109375 38.703125 11.40625 \r\nQ 43.21875 16.703125 43.21875 25.484375 \r\nL 43.21875 27.484375 \r\nz\r\nM 52.203125 31.203125 \r\nL 52.203125 0 \r\nL 43.21875 0 \r\nL 43.21875 8.296875 \r\nQ 40.140625 3.328125 35.546875 0.953125 \r\nQ 30.953125 -1.421875 24.3125 -1.421875 \r\nQ 15.921875 -1.421875 10.953125 3.296875 \r\nQ 6 8.015625 6 15.921875 \r\nQ 6 25.140625 12.171875 29.828125 \r\nQ 18.359375 34.515625 30.609375 34.515625 \r\nL 43.21875 34.515625 \r\nL 43.21875 35.40625 \r\nQ 43.21875 41.609375 39.140625 45 \r\nQ 35.0625 48.390625 27.6875 48.390625 \r\nQ 23 48.390625 18.546875 47.265625 \r\nQ 14.109375 46.140625 10.015625 43.890625 \r\nL 10.015625 52.203125 \r\nQ 14.9375 54.109375 19.578125 55.046875 \r\nQ 24.21875 56 28.609375 56 \r\nQ 40.484375 56 46.34375 49.84375 \r\nQ 52.203125 43.703125 52.203125 31.203125 \r\nz\r\n\" id=\"DejaVuSans-97\"/>\r\n      </defs>\r\n      <use xlink:href=\"#DejaVuSans-105\"/>\r\n      <use x=\"27.783203\" xlink:href=\"#DejaVuSans-110\"/>\r\n      <use x=\"91.162109\" xlink:href=\"#DejaVuSans-101\"/>\r\n      <use x=\"152.685547\" xlink:href=\"#DejaVuSans-114\"/>\r\n      <use x=\"193.798828\" xlink:href=\"#DejaVuSans-116\"/>\r\n      <use x=\"233.007812\" xlink:href=\"#DejaVuSans-105\"/>\r\n      <use x=\"260.791016\" xlink:href=\"#DejaVuSans-97\"/>\r\n     </g>\r\n    </g>\r\n    <g id=\"text_19\">\r\n     <!-- 1e11 -->\r\n     <g transform=\"translate(43.78125 14.798437)scale(0.1 -0.1)\">\r\n      <use xlink:href=\"#DejaVuSans-49\"/>\r\n      <use x=\"63.623047\" xlink:href=\"#DejaVuSans-101\"/>\r\n      <use x=\"125.146484\" xlink:href=\"#DejaVuSans-49\"/>\r\n      <use x=\"188.769531\" xlink:href=\"#DejaVuSans-49\"/>\r\n     </g>\r\n    </g>\r\n   </g>\r\n   <g id=\"line2d_17\">\r\n    <path clip-path=\"url(#p5e7c4892d9)\" d=\"M 58.999432 27.682074 \r\nL 97.044886 109.575446 \r\nL 135.090341 153.332398 \r\nL 173.135795 171.141572 \r\nL 211.18125 187.63785 \r\nL 249.226705 199.41455 \r\nL 287.272159 212.795643 \r\nL 325.317614 219.835155 \r\nL 363.363068 225.354801 \r\n\" style=\"fill:none;stroke:#1f77b4;stroke-linecap:square;stroke-width:1.5;\"/>\r\n   </g>\r\n   <g id=\"patch_3\">\r\n    <path d=\"M 43.78125 235.238438 \r\nL 43.78125 17.798438 \r\n\" style=\"fill:none;stroke:#000000;stroke-linecap:square;stroke-linejoin:miter;stroke-width:0.8;\"/>\r\n   </g>\r\n   <g id=\"patch_4\">\r\n    <path d=\"M 378.58125 235.238438 \r\nL 378.58125 17.798438 \r\n\" style=\"fill:none;stroke:#000000;stroke-linecap:square;stroke-linejoin:miter;stroke-width:0.8;\"/>\r\n   </g>\r\n   <g id=\"patch_5\">\r\n    <path d=\"M 43.78125 235.238438 \r\nL 378.58125 235.238438 \r\n\" style=\"fill:none;stroke:#000000;stroke-linecap:square;stroke-linejoin:miter;stroke-width:0.8;\"/>\r\n   </g>\r\n   <g id=\"patch_6\">\r\n    <path d=\"M 43.78125 17.798438 \r\nL 378.58125 17.798438 \r\n\" style=\"fill:none;stroke:#000000;stroke-linecap:square;stroke-linejoin:miter;stroke-width:0.8;\"/>\r\n   </g>\r\n  </g>\r\n </g>\r\n <defs>\r\n  <clipPath id=\"p5e7c4892d9\">\r\n   <rect height=\"217.44\" width=\"334.8\" x=\"43.78125\" y=\"17.798438\"/>\r\n  </clipPath>\r\n </defs>\r\n</svg>\r\n",
      "image/png": "[encoded data removed]"
     },
     "metadata": {
      "needs_background": "light"
     }
    }
   ],
   "source": [
    "#적정 군집수 파악\n",
    "cl_train = train['전력사용량(kWh)'].values.reshape(60, -1)\n",
    "inertia_arr = []\n",
    "k_arr = range(2, 11)\n",
    "\n",
    "for k in k_arr:\n",
    "    kmeans = KMeans(n_clusters=k, random_state=0)\n",
    "    kmeans.fit(cl_train)\n",
    "    interia = kmeans.inertia_\n",
    "    \n",
    "    print('k: {0}, inertia : {1:.4f}'.format(k, interia))\n",
    "    inertia_arr.append(interia)\n",
    "\n",
    "plt.plot(k_arr, inertia_arr)\n",
    "plt.xlabel('k')\n",
    "plt.ylabel('inertia')"
   ]
  },
  {
   "cell_type": "code",
   "execution_count": 124,
   "metadata": {},
   "outputs": [],
   "source": [
    "km = KMeans(n_clusters=4, random_state=42)\n",
    "km.fit(cl_train)\n",
    "km_pred = km.predict(cl_train)"
   ]
  },
  {
   "cell_type": "code",
   "execution_count": 125,
   "metadata": {},
   "outputs": [
    {
     "output_type": "execute_result",
     "data": {
      "text/plain": [
       "    0  num\n",
       "0   2    1\n",
       "1   0    2\n",
       "2   3    3\n",
       "3   0    4\n",
       "4   3    5\n",
       "5   0    6\n",
       "6   0    7\n",
       "7   1    8\n",
       "8   0    9\n",
       "9   0   10\n",
       "10  3   11\n",
       "11  0   12\n",
       "12  0   13\n",
       "13  0   14\n",
       "14  3   15\n",
       "15  0   16\n",
       "16  0   17\n",
       "17  0   18\n",
       "18  0   19\n",
       "19  0   20\n",
       "20  0   21\n",
       "21  0   22\n",
       "22  0   23\n",
       "23  3   24\n",
       "24  0   25\n",
       "25  3   26\n",
       "26  0   27\n",
       "27  3   28\n",
       "28  0   29\n",
       "29  2   30\n",
       "30  2   31\n",
       "31  3   32\n",
       "32  3   33\n",
       "33  0   34\n",
       "34  0   35\n",
       "35  0   36\n",
       "36  0   37\n",
       "37  1   38\n",
       "38  0   39\n",
       "39  3   40\n",
       "40  0   41\n",
       "41  3   42\n",
       "42  0   43\n",
       "43  3   44\n",
       "44  0   45\n",
       "45  0   46\n",
       "46  3   47\n",
       "47  0   48\n",
       "48  0   49\n",
       "49  0   50\n",
       "50  0   51\n",
       "51  3   52\n",
       "52  0   53\n",
       "53  2   54\n",
       "54  3   55\n",
       "55  0   56\n",
       "56  3   57\n",
       "57  0   58\n",
       "58  0   59\n",
       "59  3   60"
      ],
      "text/html": "<div>\n<style scoped>\n    .dataframe tbody tr th:only-of-type {\n        vertical-align: middle;\n    }\n\n    .dataframe tbody tr th {\n        vertical-align: top;\n    }\n\n    .dataframe thead th {\n        text-align: right;\n    }\n</style>\n<table border=\"1\" class=\"dataframe\">\n  <thead>\n    <tr style=\"text-align: right;\">\n      <th></th>\n      <th>0</th>\n      <th>num</th>\n    </tr>\n  </thead>\n  <tbody>\n    <tr>\n      <th>0</th>\n      <td>2</td>\n      <td>1</td>\n    </tr>\n    <tr>\n      <th>1</th>\n      <td>0</td>\n      <td>2</td>\n    </tr>\n    <tr>\n      <th>2</th>\n      <td>3</td>\n      <td>3</td>\n    </tr>\n    <tr>\n      <th>3</th>\n      <td>0</td>\n      <td>4</td>\n    </tr>\n    <tr>\n      <th>4</th>\n      <td>3</td>\n      <td>5</td>\n    </tr>\n    <tr>\n      <th>5</th>\n      <td>0</td>\n      <td>6</td>\n    </tr>\n    <tr>\n      <th>6</th>\n      <td>0</td>\n      <td>7</td>\n    </tr>\n    <tr>\n      <th>7</th>\n      <td>1</td>\n      <td>8</td>\n    </tr>\n    <tr>\n      <th>8</th>\n      <td>0</td>\n      <td>9</td>\n    </tr>\n    <tr>\n      <th>9</th>\n      <td>0</td>\n      <td>10</td>\n    </tr>\n    <tr>\n      <th>10</th>\n      <td>3</td>\n      <td>11</td>\n    </tr>\n    <tr>\n      <th>11</th>\n      <td>0</td>\n      <td>12</td>\n    </tr>\n    <tr>\n      <th>12</th>\n      <td>0</td>\n      <td>13</td>\n    </tr>\n    <tr>\n      <th>13</th>\n      <td>0</td>\n      <td>14</td>\n    </tr>\n    <tr>\n      <th>14</th>\n      <td>3</td>\n      <td>15</td>\n    </tr>\n    <tr>\n      <th>15</th>\n      <td>0</td>\n      <td>16</td>\n    </tr>\n    <tr>\n      <th>16</th>\n      <td>0</td>\n      <td>17</td>\n    </tr>\n    <tr>\n      <th>17</th>\n      <td>0</td>\n      <td>18</td>\n    </tr>\n    <tr>\n      <th>18</th>\n      <td>0</td>\n      <td>19</td>\n    </tr>\n    <tr>\n      <th>19</th>\n      <td>0</td>\n      <td>20</td>\n    </tr>\n    <tr>\n      <th>20</th>\n      <td>0</td>\n      <td>21</td>\n    </tr>\n    <tr>\n      <th>21</th>\n      <td>0</td>\n      <td>22</td>\n    </tr>\n    <tr>\n      <th>22</th>\n      <td>0</td>\n      <td>23</td>\n    </tr>\n    <tr>\n      <th>23</th>\n      <td>3</td>\n      <td>24</td>\n    </tr>\n    <tr>\n      <th>24</th>\n      <td>0</td>\n      <td>25</td>\n    </tr>\n    <tr>\n      <th>25</th>\n      <td>3</td>\n      <td>26</td>\n    </tr>\n    <tr>\n      <th>26</th>\n      <td>0</td>\n      <td>27</td>\n    </tr>\n    <tr>\n      <th>27</th>\n      <td>3</td>\n      <td>28</td>\n    </tr>\n    <tr>\n      <th>28</th>\n      <td>0</td>\n      <td>29</td>\n    </tr>\n    <tr>\n      <th>29</th>\n      <td>2</td>\n      <td>30</td>\n    </tr>\n    <tr>\n      <th>30</th>\n      <td>2</td>\n      <td>31</td>\n    </tr>\n    <tr>\n      <th>31</th>\n      <td>3</td>\n      <td>32</td>\n    </tr>\n    <tr>\n      <th>32</th>\n      <td>3</td>\n      <td>33</td>\n    </tr>\n    <tr>\n      <th>33</th>\n      <td>0</td>\n      <td>34</td>\n    </tr>\n    <tr>\n      <th>34</th>\n      <td>0</td>\n      <td>35</td>\n    </tr>\n    <tr>\n      <th>35</th>\n      <td>0</td>\n      <td>36</td>\n    </tr>\n    <tr>\n      <th>36</th>\n      <td>0</td>\n      <td>37</td>\n    </tr>\n    <tr>\n      <th>37</th>\n      <td>1</td>\n      <td>38</td>\n    </tr>\n    <tr>\n      <th>38</th>\n      <td>0</td>\n      <td>39</td>\n    </tr>\n    <tr>\n      <th>39</th>\n      <td>3</td>\n      <td>40</td>\n    </tr>\n    <tr>\n      <th>40</th>\n      <td>0</td>\n      <td>41</td>\n    </tr>\n    <tr>\n      <th>41</th>\n      <td>3</td>\n      <td>42</td>\n    </tr>\n    <tr>\n      <th>42</th>\n      <td>0</td>\n      <td>43</td>\n    </tr>\n    <tr>\n      <th>43</th>\n      <td>3</td>\n      <td>44</td>\n    </tr>\n    <tr>\n      <th>44</th>\n      <td>0</td>\n      <td>45</td>\n    </tr>\n    <tr>\n      <th>45</th>\n      <td>0</td>\n      <td>46</td>\n    </tr>\n    <tr>\n      <th>46</th>\n      <td>3</td>\n      <td>47</td>\n    </tr>\n    <tr>\n      <th>47</th>\n      <td>0</td>\n      <td>48</td>\n    </tr>\n    <tr>\n      <th>48</th>\n      <td>0</td>\n      <td>49</td>\n    </tr>\n    <tr>\n      <th>49</th>\n      <td>0</td>\n      <td>50</td>\n    </tr>\n    <tr>\n      <th>50</th>\n      <td>0</td>\n      <td>51</td>\n    </tr>\n    <tr>\n      <th>51</th>\n      <td>3</td>\n      <td>52</td>\n    </tr>\n    <tr>\n      <th>52</th>\n      <td>0</td>\n      <td>53</td>\n    </tr>\n    <tr>\n      <th>53</th>\n      <td>2</td>\n      <td>54</td>\n    </tr>\n    <tr>\n      <th>54</th>\n      <td>3</td>\n      <td>55</td>\n    </tr>\n    <tr>\n      <th>55</th>\n      <td>0</td>\n      <td>56</td>\n    </tr>\n    <tr>\n      <th>56</th>\n      <td>3</td>\n      <td>57</td>\n    </tr>\n    <tr>\n      <th>57</th>\n      <td>0</td>\n      <td>58</td>\n    </tr>\n    <tr>\n      <th>58</th>\n      <td>0</td>\n      <td>59</td>\n    </tr>\n    <tr>\n      <th>59</th>\n      <td>3</td>\n      <td>60</td>\n    </tr>\n  </tbody>\n</table>\n</div>"
     },
     "metadata": {},
     "execution_count": 125
    }
   ],
   "source": [
    "clusters = pd.DataFrame(km_pred)\n",
    "clusters['num'] = train['num'].unique()\n",
    "clusters"
   ]
  },
  {
   "cell_type": "code",
   "execution_count": 126,
   "metadata": {},
   "outputs": [],
   "source": [
    "train = train.merge(clusters, on='num')\n",
    "train = train.rename(columns={0:'ass'})\n",
    "test = test.merge(clusters, on='num')\n",
    "test = test.rename(columns={0:'ass'})"
   ]
  },
  {
   "cell_type": "code",
   "execution_count": 127,
   "metadata": {},
   "outputs": [],
   "source": [
    "# ice = pd.DataFrame(train['비전기냉방설비운영'])\n",
    "# ice['num'] = train['num']\n",
    "# ice =ice.drop_duplicates()\n",
    "\n",
    "# hot = pd.DataFrame(train['태양광보유'])\n",
    "# hot['num'] = train['num']\n",
    "# hot = hot.drop_duplicates()"
   ]
  },
  {
   "cell_type": "code",
   "execution_count": 128,
   "metadata": {},
   "outputs": [
    {
     "output_type": "execute_result",
     "data": {
      "text/plain": [
       "       num      date_time     기온(°C)   풍속(m/s)      습도(%)  강수량(mm, 6시간)  \\\n",
       "0        1  2020-08-25 00  27.800000  1.500000  74.000000           0.0   \n",
       "1        1  2020-08-25 01  27.633333  1.366667  75.333333           0.0   \n",
       "2        1  2020-08-25 02  27.466667  1.233333  76.666667           0.0   \n",
       "3        1  2020-08-25 03  27.300000  1.100000  78.000000           0.0   \n",
       "4        1  2020-08-25 04  26.900000  1.166667  79.666667           0.0   \n",
       "...    ...            ...        ...       ...        ...           ...   \n",
       "10075   60  2020-08-31 19  28.633333  3.566667  66.000000           0.0   \n",
       "10076   60  2020-08-31 20  28.266667  3.833333  67.000000           0.0   \n",
       "10077   60  2020-08-31 21  27.900000  4.100000  68.000000           0.0   \n",
       "10078   60  2020-08-31 22  27.900000  4.100000  68.000000           0.0   \n",
       "10079   60  2020-08-31 23  27.900000  4.100000  68.000000           0.0   \n",
       "\n",
       "       일조(hr, 3시간)  비전기냉방설비운영  태양광보유  ass  \n",
       "0         0.000000        NaN    NaN    2  \n",
       "1         0.000000        NaN    NaN    2  \n",
       "2         0.000000        NaN    NaN    2  \n",
       "3         0.000000        NaN    NaN    2  \n",
       "4         0.000000        NaN    NaN    2  \n",
       "...            ...        ...    ...  ...  \n",
       "10075     0.533333        1.0    1.0    3  \n",
       "10076     0.266667        1.0    1.0    3  \n",
       "10077     0.000000        1.0    1.0    3  \n",
       "10078     0.000000        1.0    1.0    3  \n",
       "10079     0.000000        1.0    1.0    3  \n",
       "\n",
       "[10080 rows x 10 columns]"
      ],
      "text/html": "<div>\n<style scoped>\n    .dataframe tbody tr th:only-of-type {\n        vertical-align: middle;\n    }\n\n    .dataframe tbody tr th {\n        vertical-align: top;\n    }\n\n    .dataframe thead th {\n        text-align: right;\n    }\n</style>\n<table border=\"1\" class=\"dataframe\">\n  <thead>\n    <tr style=\"text-align: right;\">\n      <th></th>\n      <th>num</th>\n      <th>date_time</th>\n      <th>기온(°C)</th>\n      <th>풍속(m/s)</th>\n      <th>습도(%)</th>\n      <th>강수량(mm, 6시간)</th>\n      <th>일조(hr, 3시간)</th>\n      <th>비전기냉방설비운영</th>\n      <th>태양광보유</th>\n      <th>ass</th>\n    </tr>\n  </thead>\n  <tbody>\n    <tr>\n      <th>0</th>\n      <td>1</td>\n      <td>2020-08-25 00</td>\n      <td>27.800000</td>\n      <td>1.500000</td>\n      <td>74.000000</td>\n      <td>0.0</td>\n      <td>0.000000</td>\n      <td>NaN</td>\n      <td>NaN</td>\n      <td>2</td>\n    </tr>\n    <tr>\n      <th>1</th>\n      <td>1</td>\n      <td>2020-08-25 01</td>\n      <td>27.633333</td>\n      <td>1.366667</td>\n      <td>75.333333</td>\n      <td>0.0</td>\n      <td>0.000000</td>\n      <td>NaN</td>\n      <td>NaN</td>\n      <td>2</td>\n    </tr>\n    <tr>\n      <th>2</th>\n      <td>1</td>\n      <td>2020-08-25 02</td>\n      <td>27.466667</td>\n      <td>1.233333</td>\n      <td>76.666667</td>\n      <td>0.0</td>\n      <td>0.000000</td>\n      <td>NaN</td>\n      <td>NaN</td>\n      <td>2</td>\n    </tr>\n    <tr>\n      <th>3</th>\n      <td>1</td>\n      <td>2020-08-25 03</td>\n      <td>27.300000</td>\n      <td>1.100000</td>\n      <td>78.000000</td>\n      <td>0.0</td>\n      <td>0.000000</td>\n      <td>NaN</td>\n      <td>NaN</td>\n      <td>2</td>\n    </tr>\n    <tr>\n      <th>4</th>\n      <td>1</td>\n      <td>2020-08-25 04</td>\n      <td>26.900000</td>\n      <td>1.166667</td>\n      <td>79.666667</td>\n      <td>0.0</td>\n      <td>0.000000</td>\n      <td>NaN</td>\n      <td>NaN</td>\n      <td>2</td>\n    </tr>\n    <tr>\n      <th>...</th>\n      <td>...</td>\n      <td>...</td>\n      <td>...</td>\n      <td>...</td>\n      <td>...</td>\n      <td>...</td>\n      <td>...</td>\n      <td>...</td>\n      <td>...</td>\n      <td>...</td>\n    </tr>\n    <tr>\n      <th>10075</th>\n      <td>60</td>\n      <td>2020-08-31 19</td>\n      <td>28.633333</td>\n      <td>3.566667</td>\n      <td>66.000000</td>\n      <td>0.0</td>\n      <td>0.533333</td>\n      <td>1.0</td>\n      <td>1.0</td>\n      <td>3</td>\n    </tr>\n    <tr>\n      <th>10076</th>\n      <td>60</td>\n      <td>2020-08-31 20</td>\n      <td>28.266667</td>\n      <td>3.833333</td>\n      <td>67.000000</td>\n      <td>0.0</td>\n      <td>0.266667</td>\n      <td>1.0</td>\n      <td>1.0</td>\n      <td>3</td>\n    </tr>\n    <tr>\n      <th>10077</th>\n      <td>60</td>\n      <td>2020-08-31 21</td>\n      <td>27.900000</td>\n      <td>4.100000</td>\n      <td>68.000000</td>\n      <td>0.0</td>\n      <td>0.000000</td>\n      <td>1.0</td>\n      <td>1.0</td>\n      <td>3</td>\n    </tr>\n    <tr>\n      <th>10078</th>\n      <td>60</td>\n      <td>2020-08-31 22</td>\n      <td>27.900000</td>\n      <td>4.100000</td>\n      <td>68.000000</td>\n      <td>0.0</td>\n      <td>0.000000</td>\n      <td>1.0</td>\n      <td>1.0</td>\n      <td>3</td>\n    </tr>\n    <tr>\n      <th>10079</th>\n      <td>60</td>\n      <td>2020-08-31 23</td>\n      <td>27.900000</td>\n      <td>4.100000</td>\n      <td>68.000000</td>\n      <td>0.0</td>\n      <td>0.000000</td>\n      <td>1.0</td>\n      <td>1.0</td>\n      <td>3</td>\n    </tr>\n  </tbody>\n</table>\n<p>10080 rows × 10 columns</p>\n</div>"
     },
     "metadata": {},
     "execution_count": 128
    }
   ],
   "source": [
    "test.interpolate(method='values', inplace=True)\n",
    "test"
   ]
  },
  {
   "cell_type": "code",
   "execution_count": 129,
   "metadata": {},
   "outputs": [],
   "source": [
    "train[['num', '비전기냉방설비운영','태양광보유']]\n",
    "ice={}\n",
    "hot={}\n",
    "count=0\n",
    "for i in range(0, len(train), len(train)//60):\n",
    "    count +=1\n",
    "    ice[count]=train.loc[i,'비전기냉방설비운영']\n",
    "    hot[count]=train.loc[i,'태양광보유']\n",
    "    \n",
    "for i in range(len(test)):\n",
    "    test.loc[i, '비전기냉방설비운영']=ice[test['num'][i]]\n",
    "    test.loc[i, '태양광보유']=hot[test['num'][i]]"
   ]
  },
  {
   "cell_type": "code",
   "execution_count": 130,
   "metadata": {},
   "outputs": [
    {
     "output_type": "execute_result",
     "data": {
      "text/plain": [
       "<AxesSubplot:xlabel='전력사용량(kWh)', ylabel='Density'>"
      ]
     },
     "metadata": {},
     "execution_count": 130
    },
    {
     "output_type": "display_data",
     "data": {
      "text/plain": "<Figure size 432x288 with 1 Axes>",
      "image/svg+xml": "<?xml version=\"1.0\" encoding=\"utf-8\" standalone=\"no\"?>\r\n<!DOCTYPE svg PUBLIC \"-//W3C//DTD SVG 1.1//EN\"\r\n  \"http://www.w3.org/Graphics/SVG/1.1/DTD/svg11.dtd\">\r\n<!-- Created with matplotlib (https://matplotlib.org/) -->\r\n<svg height=\"262.19625pt\" version=\"1.1\" viewBox=\"0 0 411.23125 262.19625\" width=\"411.23125pt\" xmlns=\"http://www.w3.org/2000/svg\" xmlns:xlink=\"http://www.w3.org/1999/xlink\">\r\n <metadata>\r\n  <rdf:RDF xmlns:cc=\"http://creativecommons.org/ns#\" xmlns:dc=\"http://purl.org/dc/elements/1.1/\" xmlns:rdf=\"http://www.w3.org/1999/02/22-rdf-syntax-ns#\">\r\n   <cc:Work>\r\n    <dc:type rdf:resource=\"http://purl.org/dc/dcmitype/StillImage\"/>\r\n    <dc:date>2021-06-05T22:19:21.093467</dc:date>\r\n    <dc:format>image/svg+xml</dc:format>\r\n    <dc:creator>\r\n     <cc:Agent>\r\n      <dc:title>Matplotlib v3.3.2, https://matplotlib.org/</dc:title>\r\n     </cc:Agent>\r\n    </dc:creator>\r\n   </cc:Work>\r\n  </rdf:RDF>\r\n </metadata>\r\n <defs>\r\n  <style type=\"text/css\">*{stroke-linecap:butt;stroke-linejoin:round;}</style>\r\n </defs>\r\n <g id=\"figure_1\">\r\n  <g id=\"patch_1\">\r\n   <path d=\"M 0 262.19625 \r\nL 411.23125 262.19625 \r\nL 411.23125 0 \r\nL 0 0 \r\nz\r\n\" style=\"fill:none;\"/>\r\n  </g>\r\n  <g id=\"axes_1\">\r\n   <g id=\"patch_2\">\r\n    <path d=\"M 69.23125 224.64 \r\nL 404.03125 224.64 \r\nL 404.03125 7.2 \r\nL 69.23125 7.2 \r\nz\r\n\" style=\"fill:#ffffff;\"/>\r\n   </g>\r\n   <g id=\"patch_3\">\r\n    <path clip-path=\"url(#p8950907bf4)\" d=\"M 93.989741 224.64 \r\nL 99.695401 224.64 \r\nL 99.695401 215.675753 \r\nL 93.989741 215.675753 \r\nz\r\n\" style=\"fill:#1f77b4;opacity:0.4;\"/>\r\n   </g>\r\n   <g id=\"patch_4\">\r\n    <path clip-path=\"url(#p8950907bf4)\" d=\"M 99.695401 224.64 \r\nL 105.401062 224.64 \r\nL 105.401062 66.970655 \r\nL 99.695401 66.970655 \r\nz\r\n\" style=\"fill:#1f77b4;opacity:0.4;\"/>\r\n   </g>\r\n   <g id=\"patch_5\">\r\n    <path clip-path=\"url(#p8950907bf4)\" d=\"M 105.401062 224.64 \r\nL 111.106722 224.64 \r\nL 111.106722 32.600028 \r\nL 105.401062 32.600028 \r\nz\r\n\" style=\"fill:#1f77b4;opacity:0.4;\"/>\r\n   </g>\r\n   <g id=\"patch_6\">\r\n    <path clip-path=\"url(#p8950907bf4)\" d=\"M 111.106722 224.64 \r\nL 116.812383 224.64 \r\nL 116.812383 17.759476 \r\nL 111.106722 17.759476 \r\nz\r\n\" style=\"fill:#1f77b4;opacity:0.4;\"/>\r\n   </g>\r\n   <g id=\"patch_7\">\r\n    <path clip-path=\"url(#p8950907bf4)\" d=\"M 116.812383 224.64 \r\nL 122.518043 224.64 \r\nL 122.518043 51.634649 \r\nL 116.812383 51.634649 \r\nz\r\n\" style=\"fill:#1f77b4;opacity:0.4;\"/>\r\n   </g>\r\n   <g id=\"patch_8\">\r\n    <path clip-path=\"url(#p8950907bf4)\" d=\"M 122.518043 224.64 \r\nL 128.223703 224.64 \r\nL 128.223703 109.072656 \r\nL 122.518043 109.072656 \r\nz\r\n\" style=\"fill:#1f77b4;opacity:0.4;\"/>\r\n   </g>\r\n   <g id=\"patch_9\">\r\n    <path clip-path=\"url(#p8950907bf4)\" d=\"M 128.223703 224.64 \r\nL 133.929364 224.64 \r\nL 133.929364 105.120553 \r\nL 128.223703 105.120553 \r\nz\r\n\" style=\"fill:#1f77b4;opacity:0.4;\"/>\r\n   </g>\r\n   <g id=\"patch_10\">\r\n    <path clip-path=\"url(#p8950907bf4)\" d=\"M 133.929364 224.64 \r\nL 139.635024 224.64 \r\nL 139.635024 127.42747 \r\nL 133.929364 127.42747 \r\nz\r\n\" style=\"fill:#1f77b4;opacity:0.4;\"/>\r\n   </g>\r\n   <g id=\"patch_11\">\r\n    <path clip-path=\"url(#p8950907bf4)\" d=\"M 139.635024 224.64 \r\nL 145.340684 224.64 \r\nL 145.340684 148.870224 \r\nL 139.635024 148.870224 \r\nz\r\n\" style=\"fill:#1f77b4;opacity:0.4;\"/>\r\n   </g>\r\n   <g id=\"patch_12\">\r\n    <path clip-path=\"url(#p8950907bf4)\" d=\"M 145.340684 224.64 \r\nL 151.046345 224.64 \r\nL 151.046345 158.710155 \r\nL 145.340684 158.710155 \r\nz\r\n\" style=\"fill:#1f77b4;opacity:0.4;\"/>\r\n   </g>\r\n   <g id=\"patch_13\">\r\n    <path clip-path=\"url(#p8950907bf4)\" d=\"M 151.046345 224.64 \r\nL 156.752005 224.64 \r\nL 156.752005 200.547147 \r\nL 151.046345 200.547147 \r\nz\r\n\" style=\"fill:#1f77b4;opacity:0.4;\"/>\r\n   </g>\r\n   <g id=\"patch_14\">\r\n    <path clip-path=\"url(#p8950907bf4)\" d=\"M 156.752005 224.64 \r\nL 162.457665 224.64 \r\nL 162.457665 209.373128 \r\nL 156.752005 209.373128 \r\nz\r\n\" style=\"fill:#1f77b4;opacity:0.4;\"/>\r\n   </g>\r\n   <g id=\"patch_15\">\r\n    <path clip-path=\"url(#p8950907bf4)\" d=\"M 162.457665 224.64 \r\nL 168.163326 224.64 \r\nL 168.163326 214.615714 \r\nL 162.457665 214.615714 \r\nz\r\n\" style=\"fill:#1f77b4;opacity:0.4;\"/>\r\n   </g>\r\n   <g id=\"patch_16\">\r\n    <path clip-path=\"url(#p8950907bf4)\" d=\"M 168.163326 224.64 \r\nL 173.868986 224.64 \r\nL 173.868986 216.113596 \r\nL 168.163326 216.113596 \r\nz\r\n\" style=\"fill:#1f77b4;opacity:0.4;\"/>\r\n   </g>\r\n   <g id=\"patch_17\">\r\n    <path clip-path=\"url(#p8950907bf4)\" d=\"M 173.868986 224.64 \r\nL 179.574646 224.64 \r\nL 179.574646 213.025655 \r\nL 173.868986 213.025655 \r\nz\r\n\" style=\"fill:#1f77b4;opacity:0.4;\"/>\r\n   </g>\r\n   <g id=\"patch_18\">\r\n    <path clip-path=\"url(#p8950907bf4)\" d=\"M 179.574646 224.64 \r\nL 185.280307 224.64 \r\nL 185.280307 210.364034 \r\nL 179.574646 210.364034 \r\nz\r\n\" style=\"fill:#1f77b4;opacity:0.4;\"/>\r\n   </g>\r\n   <g id=\"patch_19\">\r\n    <path clip-path=\"url(#p8950907bf4)\" d=\"M 185.280307 224.64 \r\nL 190.985967 224.64 \r\nL 190.985967 198.599901 \r\nL 185.280307 198.599901 \r\nz\r\n\" style=\"fill:#1f77b4;opacity:0.4;\"/>\r\n   </g>\r\n   <g id=\"patch_20\">\r\n    <path clip-path=\"url(#p8950907bf4)\" d=\"M 190.985967 224.64 \r\nL 196.691628 224.64 \r\nL 196.691628 209.211817 \r\nL 190.985967 209.211817 \r\nz\r\n\" style=\"fill:#1f77b4;opacity:0.4;\"/>\r\n   </g>\r\n   <g id=\"patch_21\">\r\n    <path clip-path=\"url(#p8950907bf4)\" d=\"M 196.691628 224.64 \r\nL 202.397288 224.64 \r\nL 202.397288 217.957143 \r\nL 196.691628 217.957143 \r\nz\r\n\" style=\"fill:#1f77b4;opacity:0.4;\"/>\r\n   </g>\r\n   <g id=\"patch_22\">\r\n    <path clip-path=\"url(#p8950907bf4)\" d=\"M 202.397288 224.64 \r\nL 208.102948 224.64 \r\nL 208.102948 220.664852 \r\nL 202.397288 220.664852 \r\nz\r\n\" style=\"fill:#1f77b4;opacity:0.4;\"/>\r\n   </g>\r\n   <g id=\"patch_23\">\r\n    <path clip-path=\"url(#p8950907bf4)\" d=\"M 208.102948 224.64 \r\nL 213.808609 224.64 \r\nL 213.808609 221.356182 \r\nL 208.102948 221.356182 \r\nz\r\n\" style=\"fill:#1f77b4;opacity:0.4;\"/>\r\n   </g>\r\n   <g id=\"patch_24\">\r\n    <path clip-path=\"url(#p8950907bf4)\" d=\"M 213.808609 224.64 \r\nL 219.514269 224.64 \r\nL 219.514269 220.987473 \r\nL 213.808609 220.987473 \r\nz\r\n\" style=\"fill:#1f77b4;opacity:0.4;\"/>\r\n   </g>\r\n   <g id=\"patch_25\">\r\n    <path clip-path=\"url(#p8950907bf4)\" d=\"M 219.514269 224.64 \r\nL 225.219929 224.64 \r\nL 225.219929 220.91834 \r\nL 219.514269 220.91834 \r\nz\r\n\" style=\"fill:#1f77b4;opacity:0.4;\"/>\r\n   </g>\r\n   <g id=\"patch_26\">\r\n    <path clip-path=\"url(#p8950907bf4)\" d=\"M 225.219929 224.64 \r\nL 230.92559 224.64 \r\nL 230.92559 213.26762 \r\nL 225.219929 213.26762 \r\nz\r\n\" style=\"fill:#1f77b4;opacity:0.4;\"/>\r\n   </g>\r\n   <g id=\"patch_27\">\r\n    <path clip-path=\"url(#p8950907bf4)\" d=\"M 230.92559 224.64 \r\nL 236.63125 224.64 \r\nL 236.63125 204.625994 \r\nL 230.92559 204.625994 \r\nz\r\n\" style=\"fill:#1f77b4;opacity:0.4;\"/>\r\n   </g>\r\n   <g id=\"patch_28\">\r\n    <path clip-path=\"url(#p8950907bf4)\" d=\"M 236.63125 224.64 \r\nL 242.33691 224.64 \r\nL 242.33691 221.436837 \r\nL 236.63125 221.436837 \r\nz\r\n\" style=\"fill:#1f77b4;opacity:0.4;\"/>\r\n   </g>\r\n   <g id=\"patch_29\">\r\n    <path clip-path=\"url(#p8950907bf4)\" d=\"M 242.33691 224.64 \r\nL 248.042571 224.64 \r\nL 248.042571 222.519921 \r\nL 242.33691 222.519921 \r\nz\r\n\" style=\"fill:#1f77b4;opacity:0.4;\"/>\r\n   </g>\r\n   <g id=\"patch_30\">\r\n    <path clip-path=\"url(#p8950907bf4)\" d=\"M 248.042571 224.64 \r\nL 253.748231 224.64 \r\nL 253.748231 223.52235 \r\nL 248.042571 223.52235 \r\nz\r\n\" style=\"fill:#1f77b4;opacity:0.4;\"/>\r\n   </g>\r\n   <g id=\"patch_31\">\r\n    <path clip-path=\"url(#p8950907bf4)\" d=\"M 253.748231 224.64 \r\nL 259.453891 224.64 \r\nL 259.453891 223.879537 \r\nL 253.748231 223.879537 \r\nz\r\n\" style=\"fill:#1f77b4;opacity:0.4;\"/>\r\n   </g>\r\n   <g id=\"patch_32\">\r\n    <path clip-path=\"url(#p8950907bf4)\" d=\"M 259.453891 224.64 \r\nL 265.159552 224.64 \r\nL 265.159552 223.337995 \r\nL 259.453891 223.337995 \r\nz\r\n\" style=\"fill:#1f77b4;opacity:0.4;\"/>\r\n   </g>\r\n   <g id=\"patch_33\">\r\n    <path clip-path=\"url(#p8950907bf4)\" d=\"M 265.159552 224.64 \r\nL 270.865212 224.64 \r\nL 270.865212 223.049941 \r\nL 265.159552 223.049941 \r\nz\r\n\" style=\"fill:#1f77b4;opacity:0.4;\"/>\r\n   </g>\r\n   <g id=\"patch_34\">\r\n    <path clip-path=\"url(#p8950907bf4)\" d=\"M 270.865212 224.64 \r\nL 276.570872 224.64 \r\nL 276.570872 223.165163 \r\nL 270.865212 223.165163 \r\nz\r\n\" style=\"fill:#1f77b4;opacity:0.4;\"/>\r\n   </g>\r\n   <g id=\"patch_35\">\r\n    <path clip-path=\"url(#p8950907bf4)\" d=\"M 276.570872 224.64 \r\nL 282.276533 224.64 \r\nL 282.276533 223.741271 \r\nL 276.570872 223.741271 \r\nz\r\n\" style=\"fill:#1f77b4;opacity:0.4;\"/>\r\n   </g>\r\n   <g id=\"patch_36\">\r\n    <path clip-path=\"url(#p8950907bf4)\" d=\"M 282.276533 224.64 \r\nL 287.982193 224.64 \r\nL 287.982193 224.006281 \r\nL 282.276533 224.006281 \r\nz\r\n\" style=\"fill:#1f77b4;opacity:0.4;\"/>\r\n   </g>\r\n   <g id=\"patch_37\">\r\n    <path clip-path=\"url(#p8950907bf4)\" d=\"M 287.982193 224.64 \r\nL 293.687854 224.64 \r\nL 293.687854 224.098458 \r\nL 287.982193 224.098458 \r\nz\r\n\" style=\"fill:#1f77b4;opacity:0.4;\"/>\r\n   </g>\r\n   <g id=\"patch_38\">\r\n    <path clip-path=\"url(#p8950907bf4)\" d=\"M 293.687854 224.64 \r\nL 299.393514 224.64 \r\nL 299.393514 224.467167 \r\nL 293.687854 224.467167 \r\nz\r\n\" style=\"fill:#1f77b4;opacity:0.4;\"/>\r\n   </g>\r\n   <g id=\"patch_39\">\r\n    <path clip-path=\"url(#p8950907bf4)\" d=\"M 299.393514 224.64 \r\nL 305.099174 224.64 \r\nL 305.099174 224.328901 \r\nL 299.393514 224.328901 \r\nz\r\n\" style=\"fill:#1f77b4;opacity:0.4;\"/>\r\n   </g>\r\n   <g id=\"patch_40\">\r\n    <path clip-path=\"url(#p8950907bf4)\" d=\"M 305.099174 224.64 \r\nL 310.804835 224.64 \r\nL 310.804835 224.513256 \r\nL 305.099174 224.513256 \r\nz\r\n\" style=\"fill:#1f77b4;opacity:0.4;\"/>\r\n   </g>\r\n   <g id=\"patch_41\">\r\n    <path clip-path=\"url(#p8950907bf4)\" d=\"M 310.804835 224.64 \r\nL 316.510495 224.64 \r\nL 316.510495 224.398034 \r\nL 310.804835 224.398034 \r\nz\r\n\" style=\"fill:#1f77b4;opacity:0.4;\"/>\r\n   </g>\r\n   <g id=\"patch_42\">\r\n    <path clip-path=\"url(#p8950907bf4)\" d=\"M 316.510495 224.64 \r\nL 322.216155 224.64 \r\nL 322.216155 224.133025 \r\nL 316.510495 224.133025 \r\nz\r\n\" style=\"fill:#1f77b4;opacity:0.4;\"/>\r\n   </g>\r\n   <g id=\"patch_43\">\r\n    <path clip-path=\"url(#p8950907bf4)\" d=\"M 322.216155 224.64 \r\nL 327.921816 224.64 \r\nL 327.921816 223.994759 \r\nL 322.216155 223.994759 \r\nz\r\n\" style=\"fill:#1f77b4;opacity:0.4;\"/>\r\n   </g>\r\n   <g id=\"patch_44\">\r\n    <path clip-path=\"url(#p8950907bf4)\" d=\"M 327.921816 224.64 \r\nL 333.627476 224.64 \r\nL 333.627476 224.040847 \r\nL 327.921816 224.040847 \r\nz\r\n\" style=\"fill:#1f77b4;opacity:0.4;\"/>\r\n   </g>\r\n   <g id=\"patch_45\">\r\n    <path clip-path=\"url(#p8950907bf4)\" d=\"M 333.627476 224.64 \r\nL 339.333136 224.64 \r\nL 339.333136 223.856493 \r\nL 333.627476 223.856493 \r\nz\r\n\" style=\"fill:#1f77b4;opacity:0.4;\"/>\r\n   </g>\r\n   <g id=\"patch_46\">\r\n    <path clip-path=\"url(#p8950907bf4)\" d=\"M 339.333136 224.64 \r\nL 345.038797 224.64 \r\nL 345.038797 223.868015 \r\nL 339.333136 223.868015 \r\nz\r\n\" style=\"fill:#1f77b4;opacity:0.4;\"/>\r\n   </g>\r\n   <g id=\"patch_47\">\r\n    <path clip-path=\"url(#p8950907bf4)\" d=\"M 345.038797 224.64 \r\nL 350.744457 224.64 \r\nL 350.744457 224.156069 \r\nL 345.038797 224.156069 \r\nz\r\n\" style=\"fill:#1f77b4;opacity:0.4;\"/>\r\n   </g>\r\n   <g id=\"patch_48\">\r\n    <path clip-path=\"url(#p8950907bf4)\" d=\"M 350.744457 224.64 \r\nL 356.450117 224.64 \r\nL 356.450117 224.236724 \r\nL 350.744457 224.236724 \r\nz\r\n\" style=\"fill:#1f77b4;opacity:0.4;\"/>\r\n   </g>\r\n   <g id=\"patch_49\">\r\n    <path clip-path=\"url(#p8950907bf4)\" d=\"M 356.450117 224.64 \r\nL 362.155778 224.64 \r\nL 362.155778 224.305857 \r\nL 356.450117 224.305857 \r\nz\r\n\" style=\"fill:#1f77b4;opacity:0.4;\"/>\r\n   </g>\r\n   <g id=\"patch_50\">\r\n    <path clip-path=\"url(#p8950907bf4)\" d=\"M 362.155778 224.64 \r\nL 367.861438 224.64 \r\nL 367.861438 224.328901 \r\nL 362.155778 224.328901 \r\nz\r\n\" style=\"fill:#1f77b4;opacity:0.4;\"/>\r\n   </g>\r\n   <g id=\"patch_51\">\r\n    <path clip-path=\"url(#p8950907bf4)\" d=\"M 367.861438 224.64 \r\nL 373.567099 224.64 \r\nL 373.567099 224.340424 \r\nL 367.861438 224.340424 \r\nz\r\n\" style=\"fill:#1f77b4;opacity:0.4;\"/>\r\n   </g>\r\n   <g id=\"patch_52\">\r\n    <path clip-path=\"url(#p8950907bf4)\" d=\"M 373.567099 224.64 \r\nL 379.272759 224.64 \r\nL 379.272759 224.490212 \r\nL 373.567099 224.490212 \r\nz\r\n\" style=\"fill:#1f77b4;opacity:0.4;\"/>\r\n   </g>\r\n   <g id=\"matplotlib.axis_1\">\r\n    <g id=\"xtick_1\">\r\n     <g id=\"line2d_1\">\r\n      <defs>\r\n       <path d=\"M 0 0 \r\nL 0 3.5 \r\n\" id=\"m3313c38890\" style=\"stroke:#000000;stroke-width:0.8;\"/>\r\n      </defs>\r\n      <g>\r\n       <use style=\"stroke:#000000;stroke-width:0.8;\" x=\"93.989741\" xlink:href=\"#m3313c38890\" y=\"224.64\"/>\r\n      </g>\r\n     </g>\r\n     <g id=\"text_1\">\r\n      <!-- 0 -->\r\n      <g transform=\"translate(90.808491 239.238437)scale(0.1 -0.1)\">\r\n       <defs>\r\n        <path d=\"M 31.78125 66.40625 \r\nQ 24.171875 66.40625 20.328125 58.90625 \r\nQ 16.5 51.421875 16.5 36.375 \r\nQ 16.5 21.390625 20.328125 13.890625 \r\nQ 24.171875 6.390625 31.78125 6.390625 \r\nQ 39.453125 6.390625 43.28125 13.890625 \r\nQ 47.125 21.390625 47.125 36.375 \r\nQ 47.125 51.421875 43.28125 58.90625 \r\nQ 39.453125 66.40625 31.78125 66.40625 \r\nz\r\nM 31.78125 74.21875 \r\nQ 44.046875 74.21875 50.515625 64.515625 \r\nQ 56.984375 54.828125 56.984375 36.375 \r\nQ 56.984375 17.96875 50.515625 8.265625 \r\nQ 44.046875 -1.421875 31.78125 -1.421875 \r\nQ 19.53125 -1.421875 13.0625 8.265625 \r\nQ 6.59375 17.96875 6.59375 36.375 \r\nQ 6.59375 54.828125 13.0625 64.515625 \r\nQ 19.53125 74.21875 31.78125 74.21875 \r\nz\r\n\" id=\"DejaVuSans-48\"/>\r\n       </defs>\r\n       <use xlink:href=\"#DejaVuSans-48\"/>\r\n      </g>\r\n     </g>\r\n    </g>\r\n    <g id=\"xtick_2\">\r\n     <g id=\"line2d_2\">\r\n      <g>\r\n       <use style=\"stroke:#000000;stroke-width:0.8;\" x=\"134.194854\" xlink:href=\"#m3313c38890\" y=\"224.64\"/>\r\n      </g>\r\n     </g>\r\n     <g id=\"text_2\">\r\n      <!-- 2500 -->\r\n      <g transform=\"translate(121.469854 239.238437)scale(0.1 -0.1)\">\r\n       <defs>\r\n        <path d=\"M 19.1875 8.296875 \r\nL 53.609375 8.296875 \r\nL 53.609375 0 \r\nL 7.328125 0 \r\nL 7.328125 8.296875 \r\nQ 12.9375 14.109375 22.625 23.890625 \r\nQ 32.328125 33.6875 34.8125 36.53125 \r\nQ 39.546875 41.84375 41.421875 45.53125 \r\nQ 43.3125 49.21875 43.3125 52.78125 \r\nQ 43.3125 58.59375 39.234375 62.25 \r\nQ 35.15625 65.921875 28.609375 65.921875 \r\nQ 23.96875 65.921875 18.8125 64.3125 \r\nQ 13.671875 62.703125 7.8125 59.421875 \r\nL 7.8125 69.390625 \r\nQ 13.765625 71.78125 18.9375 73 \r\nQ 24.125 74.21875 28.421875 74.21875 \r\nQ 39.75 74.21875 46.484375 68.546875 \r\nQ 53.21875 62.890625 53.21875 53.421875 \r\nQ 53.21875 48.921875 51.53125 44.890625 \r\nQ 49.859375 40.875 45.40625 35.40625 \r\nQ 44.1875 33.984375 37.640625 27.21875 \r\nQ 31.109375 20.453125 19.1875 8.296875 \r\nz\r\n\" id=\"DejaVuSans-50\"/>\r\n        <path d=\"M 10.796875 72.90625 \r\nL 49.515625 72.90625 \r\nL 49.515625 64.59375 \r\nL 19.828125 64.59375 \r\nL 19.828125 46.734375 \r\nQ 21.96875 47.46875 24.109375 47.828125 \r\nQ 26.265625 48.1875 28.421875 48.1875 \r\nQ 40.625 48.1875 47.75 41.5 \r\nQ 54.890625 34.8125 54.890625 23.390625 \r\nQ 54.890625 11.625 47.5625 5.09375 \r\nQ 40.234375 -1.421875 26.90625 -1.421875 \r\nQ 22.3125 -1.421875 17.546875 -0.640625 \r\nQ 12.796875 0.140625 7.71875 1.703125 \r\nL 7.71875 11.625 \r\nQ 12.109375 9.234375 16.796875 8.0625 \r\nQ 21.484375 6.890625 26.703125 6.890625 \r\nQ 35.15625 6.890625 40.078125 11.328125 \r\nQ 45.015625 15.765625 45.015625 23.390625 \r\nQ 45.015625 31 40.078125 35.4375 \r\nQ 35.15625 39.890625 26.703125 39.890625 \r\nQ 22.75 39.890625 18.8125 39.015625 \r\nQ 14.890625 38.140625 10.796875 36.28125 \r\nz\r\n\" id=\"DejaVuSans-53\"/>\r\n       </defs>\r\n       <use xlink:href=\"#DejaVuSans-50\"/>\r\n       <use x=\"63.623047\" xlink:href=\"#DejaVuSans-53\"/>\r\n       <use x=\"127.246094\" xlink:href=\"#DejaVuSans-48\"/>\r\n       <use x=\"190.869141\" xlink:href=\"#DejaVuSans-48\"/>\r\n      </g>\r\n     </g>\r\n    </g>\r\n    <g id=\"xtick_3\">\r\n     <g id=\"line2d_3\">\r\n      <g>\r\n       <use style=\"stroke:#000000;stroke-width:0.8;\" x=\"174.399967\" xlink:href=\"#m3313c38890\" y=\"224.64\"/>\r\n      </g>\r\n     </g>\r\n     <g id=\"text_3\">\r\n      <!-- 5000 -->\r\n      <g transform=\"translate(161.674967 239.238437)scale(0.1 -0.1)\">\r\n       <use xlink:href=\"#DejaVuSans-53\"/>\r\n       <use x=\"63.623047\" xlink:href=\"#DejaVuSans-48\"/>\r\n       <use x=\"127.246094\" xlink:href=\"#DejaVuSans-48\"/>\r\n       <use x=\"190.869141\" xlink:href=\"#DejaVuSans-48\"/>\r\n      </g>\r\n     </g>\r\n    </g>\r\n    <g id=\"xtick_4\">\r\n     <g id=\"line2d_4\">\r\n      <g>\r\n       <use style=\"stroke:#000000;stroke-width:0.8;\" x=\"214.60508\" xlink:href=\"#m3313c38890\" y=\"224.64\"/>\r\n      </g>\r\n     </g>\r\n     <g id=\"text_4\">\r\n      <!-- 7500 -->\r\n      <g transform=\"translate(201.88008 239.238437)scale(0.1 -0.1)\">\r\n       <defs>\r\n        <path d=\"M 8.203125 72.90625 \r\nL 55.078125 72.90625 \r\nL 55.078125 68.703125 \r\nL 28.609375 0 \r\nL 18.3125 0 \r\nL 43.21875 64.59375 \r\nL 8.203125 64.59375 \r\nz\r\n\" id=\"DejaVuSans-55\"/>\r\n       </defs>\r\n       <use xlink:href=\"#DejaVuSans-55\"/>\r\n       <use x=\"63.623047\" xlink:href=\"#DejaVuSans-53\"/>\r\n       <use x=\"127.246094\" xlink:href=\"#DejaVuSans-48\"/>\r\n       <use x=\"190.869141\" xlink:href=\"#DejaVuSans-48\"/>\r\n      </g>\r\n     </g>\r\n    </g>\r\n    <g id=\"xtick_5\">\r\n     <g id=\"line2d_5\">\r\n      <g>\r\n       <use style=\"stroke:#000000;stroke-width:0.8;\" x=\"254.810193\" xlink:href=\"#m3313c38890\" y=\"224.64\"/>\r\n      </g>\r\n     </g>\r\n     <g id=\"text_5\">\r\n      <!-- 10000 -->\r\n      <g transform=\"translate(238.903943 239.238437)scale(0.1 -0.1)\">\r\n       <defs>\r\n        <path d=\"M 12.40625 8.296875 \r\nL 28.515625 8.296875 \r\nL 28.515625 63.921875 \r\nL 10.984375 60.40625 \r\nL 10.984375 69.390625 \r\nL 28.421875 72.90625 \r\nL 38.28125 72.90625 \r\nL 38.28125 8.296875 \r\nL 54.390625 8.296875 \r\nL 54.390625 0 \r\nL 12.40625 0 \r\nz\r\n\" id=\"DejaVuSans-49\"/>\r\n       </defs>\r\n       <use xlink:href=\"#DejaVuSans-49\"/>\r\n       <use x=\"63.623047\" xlink:href=\"#DejaVuSans-48\"/>\r\n       <use x=\"127.246094\" xlink:href=\"#DejaVuSans-48\"/>\r\n       <use x=\"190.869141\" xlink:href=\"#DejaVuSans-48\"/>\r\n       <use x=\"254.492188\" xlink:href=\"#DejaVuSans-48\"/>\r\n      </g>\r\n     </g>\r\n    </g>\r\n    <g id=\"xtick_6\">\r\n     <g id=\"line2d_6\">\r\n      <g>\r\n       <use style=\"stroke:#000000;stroke-width:0.8;\" x=\"295.015306\" xlink:href=\"#m3313c38890\" y=\"224.64\"/>\r\n      </g>\r\n     </g>\r\n     <g id=\"text_6\">\r\n      <!-- 12500 -->\r\n      <g transform=\"translate(279.109056 239.238437)scale(0.1 -0.1)\">\r\n       <use xlink:href=\"#DejaVuSans-49\"/>\r\n       <use x=\"63.623047\" xlink:href=\"#DejaVuSans-50\"/>\r\n       <use x=\"127.246094\" xlink:href=\"#DejaVuSans-53\"/>\r\n       <use x=\"190.869141\" xlink:href=\"#DejaVuSans-48\"/>\r\n       <use x=\"254.492188\" xlink:href=\"#DejaVuSans-48\"/>\r\n      </g>\r\n     </g>\r\n    </g>\r\n    <g id=\"xtick_7\">\r\n     <g id=\"line2d_7\">\r\n      <g>\r\n       <use style=\"stroke:#000000;stroke-width:0.8;\" x=\"335.220419\" xlink:href=\"#m3313c38890\" y=\"224.64\"/>\r\n      </g>\r\n     </g>\r\n     <g id=\"text_7\">\r\n      <!-- 15000 -->\r\n      <g transform=\"translate(319.314169 239.238437)scale(0.1 -0.1)\">\r\n       <use xlink:href=\"#DejaVuSans-49\"/>\r\n       <use x=\"63.623047\" xlink:href=\"#DejaVuSans-53\"/>\r\n       <use x=\"127.246094\" xlink:href=\"#DejaVuSans-48\"/>\r\n       <use x=\"190.869141\" xlink:href=\"#DejaVuSans-48\"/>\r\n       <use x=\"254.492188\" xlink:href=\"#DejaVuSans-48\"/>\r\n      </g>\r\n     </g>\r\n    </g>\r\n    <g id=\"xtick_8\">\r\n     <g id=\"line2d_8\">\r\n      <g>\r\n       <use style=\"stroke:#000000;stroke-width:0.8;\" x=\"375.425532\" xlink:href=\"#m3313c38890\" y=\"224.64\"/>\r\n      </g>\r\n     </g>\r\n     <g id=\"text_8\">\r\n      <!-- 17500 -->\r\n      <g transform=\"translate(359.519282 239.238437)scale(0.1 -0.1)\">\r\n       <use xlink:href=\"#DejaVuSans-49\"/>\r\n       <use x=\"63.623047\" xlink:href=\"#DejaVuSans-55\"/>\r\n       <use x=\"127.246094\" xlink:href=\"#DejaVuSans-53\"/>\r\n       <use x=\"190.869141\" xlink:href=\"#DejaVuSans-48\"/>\r\n       <use x=\"254.492188\" xlink:href=\"#DejaVuSans-48\"/>\r\n      </g>\r\n     </g>\r\n    </g>\r\n    <g id=\"text_9\">\r\n     <!-- 전력사용량(kWh) -->\r\n     <g transform=\"translate(206.717969 252.916562)scale(0.1 -0.1)\">\r\n      <defs>\r\n       <path d=\"M 4.984375 -17.671875 \r\nL 4.984375 70.515625 \r\nL 54.984375 70.515625 \r\nL 54.984375 -17.671875 \r\nz\r\nM 10.59375 -12.109375 \r\nL 49.421875 -12.109375 \r\nL 49.421875 64.890625 \r\nL 10.59375 64.890625 \r\nz\r\n\" id=\"DejaVuSans-51204\"/>\r\n       <path d=\"M 4.984375 -17.671875 \r\nL 4.984375 70.515625 \r\nL 54.984375 70.515625 \r\nL 54.984375 -17.671875 \r\nz\r\nM 10.59375 -12.109375 \r\nL 49.421875 -12.109375 \r\nL 49.421875 64.890625 \r\nL 10.59375 64.890625 \r\nz\r\n\" id=\"DejaVuSans-47141\"/>\r\n       <path d=\"M 4.984375 -17.671875 \r\nL 4.984375 70.515625 \r\nL 54.984375 70.515625 \r\nL 54.984375 -17.671875 \r\nz\r\nM 10.59375 -12.109375 \r\nL 49.421875 -12.109375 \r\nL 49.421875 64.890625 \r\nL 10.59375 64.890625 \r\nz\r\n\" id=\"DejaVuSans-49324\"/>\r\n       <path d=\"M 4.984375 -17.671875 \r\nL 4.984375 70.515625 \r\nL 54.984375 70.515625 \r\nL 54.984375 -17.671875 \r\nz\r\nM 10.59375 -12.109375 \r\nL 49.421875 -12.109375 \r\nL 49.421875 64.890625 \r\nL 10.59375 64.890625 \r\nz\r\n\" id=\"DejaVuSans-50857\"/>\r\n       <path d=\"M 4.984375 -17.671875 \r\nL 4.984375 70.515625 \r\nL 54.984375 70.515625 \r\nL 54.984375 -17.671875 \r\nz\r\nM 10.59375 -12.109375 \r\nL 49.421875 -12.109375 \r\nL 49.421875 64.890625 \r\nL 10.59375 64.890625 \r\nz\r\n\" id=\"DejaVuSans-47049\"/>\r\n       <path d=\"M 31 75.875 \r\nQ 24.46875 64.65625 21.28125 53.65625 \r\nQ 18.109375 42.671875 18.109375 31.390625 \r\nQ 18.109375 20.125 21.3125 9.0625 \r\nQ 24.515625 -2 31 -13.1875 \r\nL 23.1875 -13.1875 \r\nQ 15.875 -1.703125 12.234375 9.375 \r\nQ 8.59375 20.453125 8.59375 31.390625 \r\nQ 8.59375 42.28125 12.203125 53.3125 \r\nQ 15.828125 64.359375 23.1875 75.875 \r\nz\r\n\" id=\"DejaVuSans-40\"/>\r\n       <path d=\"M 9.078125 75.984375 \r\nL 18.109375 75.984375 \r\nL 18.109375 31.109375 \r\nL 44.921875 54.6875 \r\nL 56.390625 54.6875 \r\nL 27.390625 29.109375 \r\nL 57.625 0 \r\nL 45.90625 0 \r\nL 18.109375 26.703125 \r\nL 18.109375 0 \r\nL 9.078125 0 \r\nz\r\n\" id=\"DejaVuSans-107\"/>\r\n       <path d=\"M 3.328125 72.90625 \r\nL 13.28125 72.90625 \r\nL 28.609375 11.28125 \r\nL 43.890625 72.90625 \r\nL 54.984375 72.90625 \r\nL 70.3125 11.28125 \r\nL 85.59375 72.90625 \r\nL 95.609375 72.90625 \r\nL 77.296875 0 \r\nL 64.890625 0 \r\nL 49.515625 63.28125 \r\nL 33.984375 0 \r\nL 21.578125 0 \r\nz\r\n\" id=\"DejaVuSans-87\"/>\r\n       <path d=\"M 54.890625 33.015625 \r\nL 54.890625 0 \r\nL 45.90625 0 \r\nL 45.90625 32.71875 \r\nQ 45.90625 40.484375 42.875 44.328125 \r\nQ 39.84375 48.1875 33.796875 48.1875 \r\nQ 26.515625 48.1875 22.3125 43.546875 \r\nQ 18.109375 38.921875 18.109375 30.90625 \r\nL 18.109375 0 \r\nL 9.078125 0 \r\nL 9.078125 75.984375 \r\nL 18.109375 75.984375 \r\nL 18.109375 46.1875 \r\nQ 21.34375 51.125 25.703125 53.5625 \r\nQ 30.078125 56 35.796875 56 \r\nQ 45.21875 56 50.046875 50.171875 \r\nQ 54.890625 44.34375 54.890625 33.015625 \r\nz\r\n\" id=\"DejaVuSans-104\"/>\r\n       <path d=\"M 8.015625 75.875 \r\nL 15.828125 75.875 \r\nQ 23.140625 64.359375 26.78125 53.3125 \r\nQ 30.421875 42.28125 30.421875 31.390625 \r\nQ 30.421875 20.453125 26.78125 9.375 \r\nQ 23.140625 -1.703125 15.828125 -13.1875 \r\nL 8.015625 -13.1875 \r\nQ 14.5 -2 17.703125 9.0625 \r\nQ 20.90625 20.125 20.90625 31.390625 \r\nQ 20.90625 42.671875 17.703125 53.65625 \r\nQ 14.5 64.65625 8.015625 75.875 \r\nz\r\n\" id=\"DejaVuSans-41\"/>\r\n      </defs>\r\n      <use xlink:href=\"#DejaVuSans-51204\"/>\r\n      <use x=\"60.009766\" xlink:href=\"#DejaVuSans-47141\"/>\r\n      <use x=\"120.019531\" xlink:href=\"#DejaVuSans-49324\"/>\r\n      <use x=\"180.029297\" xlink:href=\"#DejaVuSans-50857\"/>\r\n      <use x=\"240.039062\" xlink:href=\"#DejaVuSans-47049\"/>\r\n      <use x=\"300.048828\" xlink:href=\"#DejaVuSans-40\"/>\r\n      <use x=\"339.0625\" xlink:href=\"#DejaVuSans-107\"/>\r\n      <use x=\"396.972656\" xlink:href=\"#DejaVuSans-87\"/>\r\n      <use x=\"495.849609\" xlink:href=\"#DejaVuSans-104\"/>\r\n      <use x=\"559.228516\" xlink:href=\"#DejaVuSans-41\"/>\r\n     </g>\r\n    </g>\r\n   </g>\r\n   <g id=\"matplotlib.axis_2\">\r\n    <g id=\"ytick_1\">\r\n     <g id=\"line2d_9\">\r\n      <defs>\r\n       <path d=\"M 0 0 \r\nL -3.5 0 \r\n\" id=\"m4f46a04151\" style=\"stroke:#000000;stroke-width:0.8;\"/>\r\n      </defs>\r\n      <g>\r\n       <use style=\"stroke:#000000;stroke-width:0.8;\" x=\"69.23125\" xlink:href=\"#m4f46a04151\" y=\"224.64\"/>\r\n      </g>\r\n     </g>\r\n     <g id=\"text_10\">\r\n      <!-- 0.00000 -->\r\n      <g transform=\"translate(20.878125 228.439219)scale(0.1 -0.1)\">\r\n       <defs>\r\n        <path d=\"M 10.6875 12.40625 \r\nL 21 12.40625 \r\nL 21 0 \r\nL 10.6875 0 \r\nz\r\n\" id=\"DejaVuSans-46\"/>\r\n       </defs>\r\n       <use xlink:href=\"#DejaVuSans-48\"/>\r\n       <use x=\"63.623047\" xlink:href=\"#DejaVuSans-46\"/>\r\n       <use x=\"95.410156\" xlink:href=\"#DejaVuSans-48\"/>\r\n       <use x=\"159.033203\" xlink:href=\"#DejaVuSans-48\"/>\r\n       <use x=\"222.65625\" xlink:href=\"#DejaVuSans-48\"/>\r\n       <use x=\"286.279297\" xlink:href=\"#DejaVuSans-48\"/>\r\n       <use x=\"349.902344\" xlink:href=\"#DejaVuSans-48\"/>\r\n      </g>\r\n     </g>\r\n    </g>\r\n    <g id=\"ytick_2\">\r\n     <g id=\"line2d_10\">\r\n      <g>\r\n       <use style=\"stroke:#000000;stroke-width:0.8;\" x=\"69.23125\" xlink:href=\"#m4f46a04151\" y=\"199.622134\"/>\r\n      </g>\r\n     </g>\r\n     <g id=\"text_11\">\r\n      <!-- 0.00005 -->\r\n      <g transform=\"translate(20.878125 203.421353)scale(0.1 -0.1)\">\r\n       <use xlink:href=\"#DejaVuSans-48\"/>\r\n       <use x=\"63.623047\" xlink:href=\"#DejaVuSans-46\"/>\r\n       <use x=\"95.410156\" xlink:href=\"#DejaVuSans-48\"/>\r\n       <use x=\"159.033203\" xlink:href=\"#DejaVuSans-48\"/>\r\n       <use x=\"222.65625\" xlink:href=\"#DejaVuSans-48\"/>\r\n       <use x=\"286.279297\" xlink:href=\"#DejaVuSans-48\"/>\r\n       <use x=\"349.902344\" xlink:href=\"#DejaVuSans-53\"/>\r\n      </g>\r\n     </g>\r\n    </g>\r\n    <g id=\"ytick_3\">\r\n     <g id=\"line2d_11\">\r\n      <g>\r\n       <use style=\"stroke:#000000;stroke-width:0.8;\" x=\"69.23125\" xlink:href=\"#m4f46a04151\" y=\"174.604268\"/>\r\n      </g>\r\n     </g>\r\n     <g id=\"text_12\">\r\n      <!-- 0.00010 -->\r\n      <g transform=\"translate(20.878125 178.403487)scale(0.1 -0.1)\">\r\n       <use xlink:href=\"#DejaVuSans-48\"/>\r\n       <use x=\"63.623047\" xlink:href=\"#DejaVuSans-46\"/>\r\n       <use x=\"95.410156\" xlink:href=\"#DejaVuSans-48\"/>\r\n       <use x=\"159.033203\" xlink:href=\"#DejaVuSans-48\"/>\r\n       <use x=\"222.65625\" xlink:href=\"#DejaVuSans-48\"/>\r\n       <use x=\"286.279297\" xlink:href=\"#DejaVuSans-49\"/>\r\n       <use x=\"349.902344\" xlink:href=\"#DejaVuSans-48\"/>\r\n      </g>\r\n     </g>\r\n    </g>\r\n    <g id=\"ytick_4\">\r\n     <g id=\"line2d_12\">\r\n      <g>\r\n       <use style=\"stroke:#000000;stroke-width:0.8;\" x=\"69.23125\" xlink:href=\"#m4f46a04151\" y=\"149.586403\"/>\r\n      </g>\r\n     </g>\r\n     <g id=\"text_13\">\r\n      <!-- 0.00015 -->\r\n      <g transform=\"translate(20.878125 153.385621)scale(0.1 -0.1)\">\r\n       <use xlink:href=\"#DejaVuSans-48\"/>\r\n       <use x=\"63.623047\" xlink:href=\"#DejaVuSans-46\"/>\r\n       <use x=\"95.410156\" xlink:href=\"#DejaVuSans-48\"/>\r\n       <use x=\"159.033203\" xlink:href=\"#DejaVuSans-48\"/>\r\n       <use x=\"222.65625\" xlink:href=\"#DejaVuSans-48\"/>\r\n       <use x=\"286.279297\" xlink:href=\"#DejaVuSans-49\"/>\r\n       <use x=\"349.902344\" xlink:href=\"#DejaVuSans-53\"/>\r\n      </g>\r\n     </g>\r\n    </g>\r\n    <g id=\"ytick_5\">\r\n     <g id=\"line2d_13\">\r\n      <g>\r\n       <use style=\"stroke:#000000;stroke-width:0.8;\" x=\"69.23125\" xlink:href=\"#m4f46a04151\" y=\"124.568537\"/>\r\n      </g>\r\n     </g>\r\n     <g id=\"text_14\">\r\n      <!-- 0.00020 -->\r\n      <g transform=\"translate(20.878125 128.367756)scale(0.1 -0.1)\">\r\n       <use xlink:href=\"#DejaVuSans-48\"/>\r\n       <use x=\"63.623047\" xlink:href=\"#DejaVuSans-46\"/>\r\n       <use x=\"95.410156\" xlink:href=\"#DejaVuSans-48\"/>\r\n       <use x=\"159.033203\" xlink:href=\"#DejaVuSans-48\"/>\r\n       <use x=\"222.65625\" xlink:href=\"#DejaVuSans-48\"/>\r\n       <use x=\"286.279297\" xlink:href=\"#DejaVuSans-50\"/>\r\n       <use x=\"349.902344\" xlink:href=\"#DejaVuSans-48\"/>\r\n      </g>\r\n     </g>\r\n    </g>\r\n    <g id=\"ytick_6\">\r\n     <g id=\"line2d_14\">\r\n      <g>\r\n       <use style=\"stroke:#000000;stroke-width:0.8;\" x=\"69.23125\" xlink:href=\"#m4f46a04151\" y=\"99.550671\"/>\r\n      </g>\r\n     </g>\r\n     <g id=\"text_15\">\r\n      <!-- 0.00025 -->\r\n      <g transform=\"translate(20.878125 103.34989)scale(0.1 -0.1)\">\r\n       <use xlink:href=\"#DejaVuSans-48\"/>\r\n       <use x=\"63.623047\" xlink:href=\"#DejaVuSans-46\"/>\r\n       <use x=\"95.410156\" xlink:href=\"#DejaVuSans-48\"/>\r\n       <use x=\"159.033203\" xlink:href=\"#DejaVuSans-48\"/>\r\n       <use x=\"222.65625\" xlink:href=\"#DejaVuSans-48\"/>\r\n       <use x=\"286.279297\" xlink:href=\"#DejaVuSans-50\"/>\r\n       <use x=\"349.902344\" xlink:href=\"#DejaVuSans-53\"/>\r\n      </g>\r\n     </g>\r\n    </g>\r\n    <g id=\"ytick_7\">\r\n     <g id=\"line2d_15\">\r\n      <g>\r\n       <use style=\"stroke:#000000;stroke-width:0.8;\" x=\"69.23125\" xlink:href=\"#m4f46a04151\" y=\"74.532805\"/>\r\n      </g>\r\n     </g>\r\n     <g id=\"text_16\">\r\n      <!-- 0.00030 -->\r\n      <g transform=\"translate(20.878125 78.332024)scale(0.1 -0.1)\">\r\n       <defs>\r\n        <path d=\"M 40.578125 39.3125 \r\nQ 47.65625 37.796875 51.625 33 \r\nQ 55.609375 28.21875 55.609375 21.1875 \r\nQ 55.609375 10.40625 48.1875 4.484375 \r\nQ 40.765625 -1.421875 27.09375 -1.421875 \r\nQ 22.515625 -1.421875 17.65625 -0.515625 \r\nQ 12.796875 0.390625 7.625 2.203125 \r\nL 7.625 11.71875 \r\nQ 11.71875 9.328125 16.59375 8.109375 \r\nQ 21.484375 6.890625 26.8125 6.890625 \r\nQ 36.078125 6.890625 40.9375 10.546875 \r\nQ 45.796875 14.203125 45.796875 21.1875 \r\nQ 45.796875 27.640625 41.28125 31.265625 \r\nQ 36.765625 34.90625 28.71875 34.90625 \r\nL 20.21875 34.90625 \r\nL 20.21875 43.015625 \r\nL 29.109375 43.015625 \r\nQ 36.375 43.015625 40.234375 45.921875 \r\nQ 44.09375 48.828125 44.09375 54.296875 \r\nQ 44.09375 59.90625 40.109375 62.90625 \r\nQ 36.140625 65.921875 28.71875 65.921875 \r\nQ 24.65625 65.921875 20.015625 65.03125 \r\nQ 15.375 64.15625 9.8125 62.3125 \r\nL 9.8125 71.09375 \r\nQ 15.4375 72.65625 20.34375 73.4375 \r\nQ 25.25 74.21875 29.59375 74.21875 \r\nQ 40.828125 74.21875 47.359375 69.109375 \r\nQ 53.90625 64.015625 53.90625 55.328125 \r\nQ 53.90625 49.265625 50.4375 45.09375 \r\nQ 46.96875 40.921875 40.578125 39.3125 \r\nz\r\n\" id=\"DejaVuSans-51\"/>\r\n       </defs>\r\n       <use xlink:href=\"#DejaVuSans-48\"/>\r\n       <use x=\"63.623047\" xlink:href=\"#DejaVuSans-46\"/>\r\n       <use x=\"95.410156\" xlink:href=\"#DejaVuSans-48\"/>\r\n       <use x=\"159.033203\" xlink:href=\"#DejaVuSans-48\"/>\r\n       <use x=\"222.65625\" xlink:href=\"#DejaVuSans-48\"/>\r\n       <use x=\"286.279297\" xlink:href=\"#DejaVuSans-51\"/>\r\n       <use x=\"349.902344\" xlink:href=\"#DejaVuSans-48\"/>\r\n      </g>\r\n     </g>\r\n    </g>\r\n    <g id=\"ytick_8\">\r\n     <g id=\"line2d_16\">\r\n      <g>\r\n       <use style=\"stroke:#000000;stroke-width:0.8;\" x=\"69.23125\" xlink:href=\"#m4f46a04151\" y=\"49.514939\"/>\r\n      </g>\r\n     </g>\r\n     <g id=\"text_17\">\r\n      <!-- 0.00035 -->\r\n      <g transform=\"translate(20.878125 53.314158)scale(0.1 -0.1)\">\r\n       <use xlink:href=\"#DejaVuSans-48\"/>\r\n       <use x=\"63.623047\" xlink:href=\"#DejaVuSans-46\"/>\r\n       <use x=\"95.410156\" xlink:href=\"#DejaVuSans-48\"/>\r\n       <use x=\"159.033203\" xlink:href=\"#DejaVuSans-48\"/>\r\n       <use x=\"222.65625\" xlink:href=\"#DejaVuSans-48\"/>\r\n       <use x=\"286.279297\" xlink:href=\"#DejaVuSans-51\"/>\r\n       <use x=\"349.902344\" xlink:href=\"#DejaVuSans-53\"/>\r\n      </g>\r\n     </g>\r\n    </g>\r\n    <g id=\"ytick_9\">\r\n     <g id=\"line2d_17\">\r\n      <g>\r\n       <use style=\"stroke:#000000;stroke-width:0.8;\" x=\"69.23125\" xlink:href=\"#m4f46a04151\" y=\"24.497074\"/>\r\n      </g>\r\n     </g>\r\n     <g id=\"text_18\">\r\n      <!-- 0.00040 -->\r\n      <g transform=\"translate(20.878125 28.296292)scale(0.1 -0.1)\">\r\n       <defs>\r\n        <path d=\"M 37.796875 64.3125 \r\nL 12.890625 25.390625 \r\nL 37.796875 25.390625 \r\nz\r\nM 35.203125 72.90625 \r\nL 47.609375 72.90625 \r\nL 47.609375 25.390625 \r\nL 58.015625 25.390625 \r\nL 58.015625 17.1875 \r\nL 47.609375 17.1875 \r\nL 47.609375 0 \r\nL 37.796875 0 \r\nL 37.796875 17.1875 \r\nL 4.890625 17.1875 \r\nL 4.890625 26.703125 \r\nz\r\n\" id=\"DejaVuSans-52\"/>\r\n       </defs>\r\n       <use xlink:href=\"#DejaVuSans-48\"/>\r\n       <use x=\"63.623047\" xlink:href=\"#DejaVuSans-46\"/>\r\n       <use x=\"95.410156\" xlink:href=\"#DejaVuSans-48\"/>\r\n       <use x=\"159.033203\" xlink:href=\"#DejaVuSans-48\"/>\r\n       <use x=\"222.65625\" xlink:href=\"#DejaVuSans-48\"/>\r\n       <use x=\"286.279297\" xlink:href=\"#DejaVuSans-52\"/>\r\n       <use x=\"349.902344\" xlink:href=\"#DejaVuSans-48\"/>\r\n      </g>\r\n     </g>\r\n    </g>\r\n    <g id=\"text_19\">\r\n     <!-- Density -->\r\n     <g transform=\"translate(14.798437 134.928594)rotate(-90)scale(0.1 -0.1)\">\r\n      <defs>\r\n       <path d=\"M 19.671875 64.796875 \r\nL 19.671875 8.109375 \r\nL 31.59375 8.109375 \r\nQ 46.6875 8.109375 53.6875 14.9375 \r\nQ 60.6875 21.78125 60.6875 36.53125 \r\nQ 60.6875 51.171875 53.6875 57.984375 \r\nQ 46.6875 64.796875 31.59375 64.796875 \r\nz\r\nM 9.8125 72.90625 \r\nL 30.078125 72.90625 \r\nQ 51.265625 72.90625 61.171875 64.09375 \r\nQ 71.09375 55.28125 71.09375 36.53125 \r\nQ 71.09375 17.671875 61.125 8.828125 \r\nQ 51.171875 0 30.078125 0 \r\nL 9.8125 0 \r\nz\r\n\" id=\"DejaVuSans-68\"/>\r\n       <path d=\"M 56.203125 29.59375 \r\nL 56.203125 25.203125 \r\nL 14.890625 25.203125 \r\nQ 15.484375 15.921875 20.484375 11.0625 \r\nQ 25.484375 6.203125 34.421875 6.203125 \r\nQ 39.59375 6.203125 44.453125 7.46875 \r\nQ 49.3125 8.734375 54.109375 11.28125 \r\nL 54.109375 2.78125 \r\nQ 49.265625 0.734375 44.1875 -0.34375 \r\nQ 39.109375 -1.421875 33.890625 -1.421875 \r\nQ 20.796875 -1.421875 13.15625 6.1875 \r\nQ 5.515625 13.8125 5.515625 26.8125 \r\nQ 5.515625 40.234375 12.765625 48.109375 \r\nQ 20.015625 56 32.328125 56 \r\nQ 43.359375 56 49.78125 48.890625 \r\nQ 56.203125 41.796875 56.203125 29.59375 \r\nz\r\nM 47.21875 32.234375 \r\nQ 47.125 39.59375 43.09375 43.984375 \r\nQ 39.0625 48.390625 32.421875 48.390625 \r\nQ 24.90625 48.390625 20.390625 44.140625 \r\nQ 15.875 39.890625 15.1875 32.171875 \r\nz\r\n\" id=\"DejaVuSans-101\"/>\r\n       <path d=\"M 54.890625 33.015625 \r\nL 54.890625 0 \r\nL 45.90625 0 \r\nL 45.90625 32.71875 \r\nQ 45.90625 40.484375 42.875 44.328125 \r\nQ 39.84375 48.1875 33.796875 48.1875 \r\nQ 26.515625 48.1875 22.3125 43.546875 \r\nQ 18.109375 38.921875 18.109375 30.90625 \r\nL 18.109375 0 \r\nL 9.078125 0 \r\nL 9.078125 54.6875 \r\nL 18.109375 54.6875 \r\nL 18.109375 46.1875 \r\nQ 21.34375 51.125 25.703125 53.5625 \r\nQ 30.078125 56 35.796875 56 \r\nQ 45.21875 56 50.046875 50.171875 \r\nQ 54.890625 44.34375 54.890625 33.015625 \r\nz\r\n\" id=\"DejaVuSans-110\"/>\r\n       <path d=\"M 44.28125 53.078125 \r\nL 44.28125 44.578125 \r\nQ 40.484375 46.53125 36.375 47.5 \r\nQ 32.28125 48.484375 27.875 48.484375 \r\nQ 21.1875 48.484375 17.84375 46.4375 \r\nQ 14.5 44.390625 14.5 40.28125 \r\nQ 14.5 37.15625 16.890625 35.375 \r\nQ 19.28125 33.59375 26.515625 31.984375 \r\nL 29.59375 31.296875 \r\nQ 39.15625 29.25 43.1875 25.515625 \r\nQ 47.21875 21.78125 47.21875 15.09375 \r\nQ 47.21875 7.46875 41.1875 3.015625 \r\nQ 35.15625 -1.421875 24.609375 -1.421875 \r\nQ 20.21875 -1.421875 15.453125 -0.5625 \r\nQ 10.6875 0.296875 5.421875 2 \r\nL 5.421875 11.28125 \r\nQ 10.40625 8.6875 15.234375 7.390625 \r\nQ 20.0625 6.109375 24.8125 6.109375 \r\nQ 31.15625 6.109375 34.5625 8.28125 \r\nQ 37.984375 10.453125 37.984375 14.40625 \r\nQ 37.984375 18.0625 35.515625 20.015625 \r\nQ 33.0625 21.96875 24.703125 23.78125 \r\nL 21.578125 24.515625 \r\nQ 13.234375 26.265625 9.515625 29.90625 \r\nQ 5.8125 33.546875 5.8125 39.890625 \r\nQ 5.8125 47.609375 11.28125 51.796875 \r\nQ 16.75 56 26.8125 56 \r\nQ 31.78125 56 36.171875 55.265625 \r\nQ 40.578125 54.546875 44.28125 53.078125 \r\nz\r\n\" id=\"DejaVuSans-115\"/>\r\n       <path d=\"M 9.421875 54.6875 \r\nL 18.40625 54.6875 \r\nL 18.40625 0 \r\nL 9.421875 0 \r\nz\r\nM 9.421875 75.984375 \r\nL 18.40625 75.984375 \r\nL 18.40625 64.59375 \r\nL 9.421875 64.59375 \r\nz\r\n\" id=\"DejaVuSans-105\"/>\r\n       <path d=\"M 18.3125 70.21875 \r\nL 18.3125 54.6875 \r\nL 36.8125 54.6875 \r\nL 36.8125 47.703125 \r\nL 18.3125 47.703125 \r\nL 18.3125 18.015625 \r\nQ 18.3125 11.328125 20.140625 9.421875 \r\nQ 21.96875 7.515625 27.59375 7.515625 \r\nL 36.8125 7.515625 \r\nL 36.8125 0 \r\nL 27.59375 0 \r\nQ 17.1875 0 13.234375 3.875 \r\nQ 9.28125 7.765625 9.28125 18.015625 \r\nL 9.28125 47.703125 \r\nL 2.6875 47.703125 \r\nL 2.6875 54.6875 \r\nL 9.28125 54.6875 \r\nL 9.28125 70.21875 \r\nz\r\n\" id=\"DejaVuSans-116\"/>\r\n       <path d=\"M 32.171875 -5.078125 \r\nQ 28.375 -14.84375 24.75 -17.8125 \r\nQ 21.140625 -20.796875 15.09375 -20.796875 \r\nL 7.90625 -20.796875 \r\nL 7.90625 -13.28125 \r\nL 13.1875 -13.28125 \r\nQ 16.890625 -13.28125 18.9375 -11.515625 \r\nQ 21 -9.765625 23.484375 -3.21875 \r\nL 25.09375 0.875 \r\nL 2.984375 54.6875 \r\nL 12.5 54.6875 \r\nL 29.59375 11.921875 \r\nL 46.6875 54.6875 \r\nL 56.203125 54.6875 \r\nz\r\n\" id=\"DejaVuSans-121\"/>\r\n      </defs>\r\n      <use xlink:href=\"#DejaVuSans-68\"/>\r\n      <use x=\"77.001953\" xlink:href=\"#DejaVuSans-101\"/>\r\n      <use x=\"138.525391\" xlink:href=\"#DejaVuSans-110\"/>\r\n      <use x=\"201.904297\" xlink:href=\"#DejaVuSans-115\"/>\r\n      <use x=\"254.003906\" xlink:href=\"#DejaVuSans-105\"/>\r\n      <use x=\"281.787109\" xlink:href=\"#DejaVuSans-116\"/>\r\n      <use x=\"320.996094\" xlink:href=\"#DejaVuSans-121\"/>\r\n     </g>\r\n    </g>\r\n   </g>\r\n   <g id=\"line2d_18\">\r\n    <path clip-path=\"url(#p8950907bf4)\" d=\"M 84.449432 224.639004 \r\nL 89.037828 224.518016 \r\nL 90.567294 224.160488 \r\nL 92.096759 222.998665 \r\nL 93.626225 219.798387 \r\nL 95.15569 212.39655 \r\nL 96.685156 198.117736 \r\nL 98.214621 175.276563 \r\nL 99.744087 145.169457 \r\nL 101.273552 112.686081 \r\nL 102.803018 84.047684 \r\nL 104.332483 62.912054 \r\nL 105.861949 48.445498 \r\nL 107.391414 37.387657 \r\nL 108.92088 27.797019 \r\nL 110.450345 20.526024 \r\nL 111.979811 17.554286 \r\nL 113.509276 19.684983 \r\nL 115.038742 25.870821 \r\nL 116.568208 34.21281 \r\nL 118.097673 43.419967 \r\nL 119.627139 53.507399 \r\nL 121.156604 65.230284 \r\nL 125.745001 105.916348 \r\nL 127.274466 114.060404 \r\nL 128.803932 116.097044 \r\nL 130.333397 113.189758 \r\nL 131.862863 109.208679 \r\nL 133.392328 108.555245 \r\nL 134.921794 113.220788 \r\nL 136.451259 121.751794 \r\nL 137.980725 130.976917 \r\nL 139.51019 138.44576 \r\nL 141.039656 143.425382 \r\nL 142.569121 146.518306 \r\nL 144.098587 149.05363 \r\nL 145.628052 152.625281 \r\nL 147.157518 158.474148 \r\nL 148.686983 166.792353 \r\nL 151.745914 186.090291 \r\nL 153.27538 194.124156 \r\nL 154.804845 200.144562 \r\nL 156.334311 204.299725 \r\nL 157.863776 207.017195 \r\nL 159.393242 208.800008 \r\nL 163.981638 212.772419 \r\nL 165.511104 214.016796 \r\nL 167.040569 214.951161 \r\nL 168.570035 215.45483 \r\nL 170.0995 215.546061 \r\nL 171.628966 215.317135 \r\nL 173.158431 214.870902 \r\nL 176.217362 213.685973 \r\nL 177.746828 213.014184 \r\nL 179.276293 212.155992 \r\nL 180.805759 210.882907 \r\nL 182.335224 209.016249 \r\nL 185.394155 204.1364 \r\nL 186.923621 202.213317 \r\nL 188.453086 201.482538 \r\nL 189.982552 202.233479 \r\nL 191.512017 204.293542 \r\nL 196.100414 212.883376 \r\nL 197.62988 215.15206 \r\nL 199.159345 216.951318 \r\nL 200.688811 218.332247 \r\nL 202.218276 219.341392 \r\nL 203.747742 220.034974 \r\nL 205.277207 220.495034 \r\nL 208.336138 221.031426 \r\nL 211.395069 221.259738 \r\nL 214.454 221.212746 \r\nL 220.571862 220.815756 \r\nL 222.101328 220.507055 \r\nL 223.630793 219.729459 \r\nL 225.160259 218.058778 \r\nL 226.689724 215.167042 \r\nL 229.748655 207.556347 \r\nL 231.278121 205.572901 \r\nL 232.807586 206.347449 \r\nL 234.337052 209.491199 \r\nL 235.866517 213.55577 \r\nL 237.395983 217.118915 \r\nL 238.925448 219.546898 \r\nL 240.454914 220.949573 \r\nL 241.984379 221.715533 \r\nL 243.513845 222.166679 \r\nL 248.102241 223.00746 \r\nL 252.690638 223.661859 \r\nL 255.749569 223.793783 \r\nL 258.8085 223.627664 \r\nL 264.926362 223.168916 \r\nL 269.514758 223.073286 \r\nL 272.573689 223.14943 \r\nL 283.279948 223.896846 \r\nL 297.045138 224.368537 \r\nL 310.810327 224.43967 \r\nL 336.811241 223.866432 \r\nL 341.399637 223.908863 \r\nL 349.046965 224.129609 \r\nL 356.694292 224.267791 \r\nL 370.459482 224.378814 \r\nL 378.10681 224.535427 \r\nL 385.754137 224.636727 \r\nL 388.813068 224.639761 \r\nL 388.813068 224.639761 \r\n\" style=\"fill:none;stroke:#1f77b4;stroke-linecap:square;stroke-width:1.5;\"/>\r\n   </g>\r\n   <g id=\"patch_53\">\r\n    <path d=\"M 69.23125 224.64 \r\nL 69.23125 7.2 \r\n\" style=\"fill:none;stroke:#000000;stroke-linecap:square;stroke-linejoin:miter;stroke-width:0.8;\"/>\r\n   </g>\r\n   <g id=\"patch_54\">\r\n    <path d=\"M 404.03125 224.64 \r\nL 404.03125 7.2 \r\n\" style=\"fill:none;stroke:#000000;stroke-linecap:square;stroke-linejoin:miter;stroke-width:0.8;\"/>\r\n   </g>\r\n   <g id=\"patch_55\">\r\n    <path d=\"M 69.23125 224.64 \r\nL 404.03125 224.64 \r\n\" style=\"fill:none;stroke:#000000;stroke-linecap:square;stroke-linejoin:miter;stroke-width:0.8;\"/>\r\n   </g>\r\n   <g id=\"patch_56\">\r\n    <path d=\"M 69.23125 7.2 \r\nL 404.03125 7.2 \r\n\" style=\"fill:none;stroke:#000000;stroke-linecap:square;stroke-linejoin:miter;stroke-width:0.8;\"/>\r\n   </g>\r\n  </g>\r\n </g>\r\n <defs>\r\n  <clipPath id=\"p8950907bf4\">\r\n   <rect height=\"217.44\" width=\"334.8\" x=\"69.23125\" y=\"7.2\"/>\r\n  </clipPath>\r\n </defs>\r\n</svg>\r\n",
      "image/png": "[encoded data removed]"
     },
     "metadata": {
      "needs_background": "light"
     }
    }
   ],
   "source": [
    "sns.distplot(train['전력사용량(kWh)'])"
   ]
  },
  {
   "cell_type": "code",
   "execution_count": 131,
   "metadata": {},
   "outputs": [],
   "source": [
    "def time(x):\n",
    "    return int(x[-2:])\n",
    "train['time']=train['date_time'].apply(lambda x: time(x))\n",
    "test['time']=test['date_time'].apply(lambda x: time(x))"
   ]
  },
  {
   "cell_type": "code",
   "execution_count": 132,
   "metadata": {},
   "outputs": [],
   "source": [
    "train['date_time'] = pd.to_datetime(train['date_time'])\n",
    "train['month'] = train['date_time'].dt.month\n",
    "train['weekday'] = train['date_time'].dt.weekday\n",
    "test['date_time'] = pd.to_datetime(test['date_time'])\n",
    "test['month'] = test['date_time'].dt.month\n",
    "test['weekday'] = test['date_time'].dt.weekday"
   ]
  },
  {
   "cell_type": "code",
   "execution_count": 133,
   "metadata": {},
   "outputs": [],
   "source": [
    "def holiday(x):\n",
    "    if str(x.date()) == '2020-06-06':\n",
    "        return 1\n",
    "    elif str(x.date()) == '2020-08-15':\n",
    "        return 1\n",
    "    elif x.weekday() == 5 or x.weekday() == 6:\n",
    "        return 1\n",
    "    else: \n",
    "        return 0\n",
    "\n",
    "train['holiday'] = train['date_time'].apply(lambda x: holiday(x))\n",
    "test['holiday'] = test['date_time'].apply(lambda x: holiday(x))"
   ]
  },
  {
   "cell_type": "code",
   "execution_count": 134,
   "metadata": {},
   "outputs": [],
   "source": [
    "train2 = train.drop(['date_time', '전력사용량(kWh)'], axis=1)\n",
    "test2 = test.drop(['date_time'], axis=1)"
   ]
  },
  {
   "cell_type": "code",
   "execution_count": 135,
   "metadata": {},
   "outputs": [],
   "source": [
    "test2 = test2.rename(columns={'강수량(mm, 6시간)':'강수량(mm)'})\n",
    "test2 = test2.rename(columns={'일조(hr, 3시간)':'일조(hr)'})"
   ]
  },
  {
   "cell_type": "code",
   "execution_count": 147,
   "metadata": {},
   "outputs": [],
   "source": [
    "from sklearn.preprocessing import RobustScaler\n",
    "scaler = RobustScaler()\n",
    "scaler.fit(train2)\n",
    "train2_scaled = pd.DataFrame(scaler.transform(train2), columns=train2.columns)\n",
    "test2_scaled = pd.DataFrame(scaler.transform(test2), columns=test2.columns)"
   ]
  },
  {
   "cell_type": "code",
   "execution_count": 148,
   "metadata": {},
   "outputs": [
    {
     "output_type": "execute_result",
     "data": {
      "text/plain": [
       "        num    기온(°C)   풍속(m/s)     습도(%)  강수량(mm)    일조(hr)  비전기냉방설비운영  \\\n",
       "0      -1.0 -1.404255  0.333333  0.347826      0.8  0.000000       -1.0   \n",
       "1      -1.0 -1.382979  0.555556  0.304348      0.3  0.000000       -1.0   \n",
       "2      -1.0 -1.425532  0.722222  0.304348      0.0  0.000000       -1.0   \n",
       "3      -1.0 -1.510638  0.722222  0.304348      0.0  0.000000       -1.0   \n",
       "4      -1.0 -1.531915  0.777778  0.347826      0.0  0.000000       -1.0   \n",
       "...     ...       ...       ...       ...      ...       ...        ...   \n",
       "122395  1.0  0.765957  0.222222 -0.695652      0.0  2.333333        0.0   \n",
       "122396  1.0  0.659574 -0.388889 -0.565217      0.0  0.000000        0.0   \n",
       "122397  1.0  0.659574 -0.055556 -0.565217      0.0  0.000000        0.0   \n",
       "122398  1.0  0.617021 -0.055556 -0.434783      0.0  0.000000        0.0   \n",
       "122399  1.0  0.617021  0.388889 -0.391304      0.0  0.000000        0.0   \n",
       "\n",
       "        태양광보유       ass      time  month  weekday  holiday  \n",
       "0         0.0  0.666667 -1.000000   -0.5    -0.75      0.0  \n",
       "1         0.0  0.666667 -0.913043   -0.5    -0.75      0.0  \n",
       "2         0.0  0.666667 -0.826087   -0.5    -0.75      0.0  \n",
       "3         0.0  0.666667 -0.739130   -0.5    -0.75      0.0  \n",
       "4         0.0  0.666667 -0.652174   -0.5    -0.75      0.0  \n",
       "...       ...       ...       ...    ...      ...      ...  \n",
       "122395    1.0  1.000000  0.652174    0.5    -0.75      0.0  \n",
       "122396    1.0  1.000000  0.739130    0.5    -0.75      0.0  \n",
       "122397    1.0  1.000000  0.826087    0.5    -0.75      0.0  \n",
       "122398    1.0  1.000000  0.913043    0.5    -0.75      0.0  \n",
       "122399    1.0  1.000000  1.000000    0.5    -0.75      0.0  \n",
       "\n",
       "[122400 rows x 13 columns]"
      ],
      "text/html": "<div>\n<style scoped>\n    .dataframe tbody tr th:only-of-type {\n        vertical-align: middle;\n    }\n\n    .dataframe tbody tr th {\n        vertical-align: top;\n    }\n\n    .dataframe thead th {\n        text-align: right;\n    }\n</style>\n<table border=\"1\" class=\"dataframe\">\n  <thead>\n    <tr style=\"text-align: right;\">\n      <th></th>\n      <th>num</th>\n      <th>기온(°C)</th>\n      <th>풍속(m/s)</th>\n      <th>습도(%)</th>\n      <th>강수량(mm)</th>\n      <th>일조(hr)</th>\n      <th>비전기냉방설비운영</th>\n      <th>태양광보유</th>\n      <th>ass</th>\n      <th>time</th>\n      <th>month</th>\n      <th>weekday</th>\n      <th>holiday</th>\n    </tr>\n  </thead>\n  <tbody>\n    <tr>\n      <th>0</th>\n      <td>-1.0</td>\n      <td>-1.404255</td>\n      <td>0.333333</td>\n      <td>0.347826</td>\n      <td>0.8</td>\n      <td>0.000000</td>\n      <td>-1.0</td>\n      <td>0.0</td>\n      <td>0.666667</td>\n      <td>-1.000000</td>\n      <td>-0.5</td>\n      <td>-0.75</td>\n      <td>0.0</td>\n    </tr>\n    <tr>\n      <th>1</th>\n      <td>-1.0</td>\n      <td>-1.382979</td>\n      <td>0.555556</td>\n      <td>0.304348</td>\n      <td>0.3</td>\n      <td>0.000000</td>\n      <td>-1.0</td>\n      <td>0.0</td>\n      <td>0.666667</td>\n      <td>-0.913043</td>\n      <td>-0.5</td>\n      <td>-0.75</td>\n      <td>0.0</td>\n    </tr>\n    <tr>\n      <th>2</th>\n      <td>-1.0</td>\n      <td>-1.425532</td>\n      <td>0.722222</td>\n      <td>0.304348</td>\n      <td>0.0</td>\n      <td>0.000000</td>\n      <td>-1.0</td>\n      <td>0.0</td>\n      <td>0.666667</td>\n      <td>-0.826087</td>\n      <td>-0.5</td>\n      <td>-0.75</td>\n      <td>0.0</td>\n    </tr>\n    <tr>\n      <th>3</th>\n      <td>-1.0</td>\n      <td>-1.510638</td>\n      <td>0.722222</td>\n      <td>0.304348</td>\n      <td>0.0</td>\n      <td>0.000000</td>\n      <td>-1.0</td>\n      <td>0.0</td>\n      <td>0.666667</td>\n      <td>-0.739130</td>\n      <td>-0.5</td>\n      <td>-0.75</td>\n      <td>0.0</td>\n    </tr>\n    <tr>\n      <th>4</th>\n      <td>-1.0</td>\n      <td>-1.531915</td>\n      <td>0.777778</td>\n      <td>0.347826</td>\n      <td>0.0</td>\n      <td>0.000000</td>\n      <td>-1.0</td>\n      <td>0.0</td>\n      <td>0.666667</td>\n      <td>-0.652174</td>\n      <td>-0.5</td>\n      <td>-0.75</td>\n      <td>0.0</td>\n    </tr>\n    <tr>\n      <th>...</th>\n      <td>...</td>\n      <td>...</td>\n      <td>...</td>\n      <td>...</td>\n      <td>...</td>\n      <td>...</td>\n      <td>...</td>\n      <td>...</td>\n      <td>...</td>\n      <td>...</td>\n      <td>...</td>\n      <td>...</td>\n      <td>...</td>\n    </tr>\n    <tr>\n      <th>122395</th>\n      <td>1.0</td>\n      <td>0.765957</td>\n      <td>0.222222</td>\n      <td>-0.695652</td>\n      <td>0.0</td>\n      <td>2.333333</td>\n      <td>0.0</td>\n      <td>1.0</td>\n      <td>1.000000</td>\n      <td>0.652174</td>\n      <td>0.5</td>\n      <td>-0.75</td>\n      <td>0.0</td>\n    </tr>\n    <tr>\n      <th>122396</th>\n      <td>1.0</td>\n      <td>0.659574</td>\n      <td>-0.388889</td>\n      <td>-0.565217</td>\n      <td>0.0</td>\n      <td>0.000000</td>\n      <td>0.0</td>\n      <td>1.0</td>\n      <td>1.000000</td>\n      <td>0.739130</td>\n      <td>0.5</td>\n      <td>-0.75</td>\n      <td>0.0</td>\n    </tr>\n    <tr>\n      <th>122397</th>\n      <td>1.0</td>\n      <td>0.659574</td>\n      <td>-0.055556</td>\n      <td>-0.565217</td>\n      <td>0.0</td>\n      <td>0.000000</td>\n      <td>0.0</td>\n      <td>1.0</td>\n      <td>1.000000</td>\n      <td>0.826087</td>\n      <td>0.5</td>\n      <td>-0.75</td>\n      <td>0.0</td>\n    </tr>\n    <tr>\n      <th>122398</th>\n      <td>1.0</td>\n      <td>0.617021</td>\n      <td>-0.055556</td>\n      <td>-0.434783</td>\n      <td>0.0</td>\n      <td>0.000000</td>\n      <td>0.0</td>\n      <td>1.0</td>\n      <td>1.000000</td>\n      <td>0.913043</td>\n      <td>0.5</td>\n      <td>-0.75</td>\n      <td>0.0</td>\n    </tr>\n    <tr>\n      <th>122399</th>\n      <td>1.0</td>\n      <td>0.617021</td>\n      <td>0.388889</td>\n      <td>-0.391304</td>\n      <td>0.0</td>\n      <td>0.000000</td>\n      <td>0.0</td>\n      <td>1.0</td>\n      <td>1.000000</td>\n      <td>1.000000</td>\n      <td>0.5</td>\n      <td>-0.75</td>\n      <td>0.0</td>\n    </tr>\n  </tbody>\n</table>\n<p>122400 rows × 13 columns</p>\n</div>"
     },
     "metadata": {},
     "execution_count": 148
    }
   ],
   "source": [
    "train2_scaled"
   ]
  },
  {
   "cell_type": "code",
   "execution_count": 76,
   "metadata": {},
   "outputs": [],
   "source": [
    "from xgboost import XGBRegressor\n",
    "xgb = XGBRegressor(learning_rate=0.1, n_estimators=10000, colsample_bytree=0.5, subsample=0.7, n_jobs=-1)"
   ]
  },
  {
   "cell_type": "code",
   "execution_count": 142,
   "metadata": {
    "tags": []
   },
   "outputs": [
    {
     "output_type": "stream",
     "name": "stdout",
     "text": [
      "[0]\tvalidation_0-rmse:inf\tvalidation_1-rmse:inf\n",
      "[50]\tvalidation_0-rmse:inf\tvalidation_1-rmse:inf\n"
     ]
    },
    {
     "output_type": "error",
     "ename": "ValueError",
     "evalue": "could not convert string to float: '-nan(ind)'",
     "traceback": [
      "\u001b[1;31m---------------------------------------------------------------------------\u001b[0m",
      "\u001b[1;31mValueError\u001b[0m                                Traceback (most recent call last)",
      "\u001b[1;32m<ipython-input-142-cf2693af7243>\u001b[0m in \u001b[0;36m<module>\u001b[1;34m\u001b[0m\n\u001b[0;32m      6\u001b[0m     \u001b[0mx_train\u001b[0m\u001b[1;33m,\u001b[0m \u001b[0mx_val\u001b[0m \u001b[1;33m=\u001b[0m \u001b[0mtrain2\u001b[0m\u001b[1;33m.\u001b[0m\u001b[0miloc\u001b[0m\u001b[1;33m[\u001b[0m\u001b[0mtrain_idx\u001b[0m\u001b[1;33m]\u001b[0m\u001b[1;33m,\u001b[0m \u001b[0mtrain2\u001b[0m\u001b[1;33m.\u001b[0m\u001b[0miloc\u001b[0m\u001b[1;33m[\u001b[0m\u001b[0mtest_idx\u001b[0m\u001b[1;33m]\u001b[0m\u001b[1;33m\u001b[0m\u001b[1;33m\u001b[0m\u001b[0m\n\u001b[0;32m      7\u001b[0m     \u001b[0my_train\u001b[0m\u001b[1;33m,\u001b[0m \u001b[0my_val\u001b[0m \u001b[1;33m=\u001b[0m \u001b[0mtrain\u001b[0m\u001b[1;33m[\u001b[0m\u001b[1;34m'전력사용량(kWh)'\u001b[0m\u001b[1;33m]\u001b[0m\u001b[1;33m[\u001b[0m\u001b[0mtrain_idx\u001b[0m\u001b[1;33m]\u001b[0m\u001b[1;33m,\u001b[0m \u001b[0mtrain\u001b[0m\u001b[1;33m[\u001b[0m\u001b[1;34m'전력사용량(kWh)'\u001b[0m\u001b[1;33m]\u001b[0m\u001b[1;33m[\u001b[0m\u001b[0mtest_idx\u001b[0m\u001b[1;33m]\u001b[0m\u001b[1;33m\u001b[0m\u001b[1;33m\u001b[0m\u001b[0m\n\u001b[1;32m----> 8\u001b[1;33m     \u001b[0mxgb\u001b[0m\u001b[1;33m.\u001b[0m\u001b[0mfit\u001b[0m\u001b[1;33m(\u001b[0m\u001b[0mx_train\u001b[0m\u001b[1;33m,\u001b[0m \u001b[0mnp\u001b[0m\u001b[1;33m.\u001b[0m\u001b[0mlog\u001b[0m\u001b[1;33m(\u001b[0m\u001b[0my_train\u001b[0m\u001b[1;33m)\u001b[0m\u001b[1;33m,\u001b[0m \u001b[0meval_set\u001b[0m\u001b[1;33m=\u001b[0m\u001b[1;33m[\u001b[0m\u001b[1;33m(\u001b[0m\u001b[0mx_train\u001b[0m\u001b[1;33m,\u001b[0m \u001b[0my_train\u001b[0m\u001b[1;33m)\u001b[0m\u001b[1;33m,\u001b[0m \u001b[1;33m(\u001b[0m\u001b[0mx_val\u001b[0m\u001b[1;33m,\u001b[0m \u001b[0my_val\u001b[0m\u001b[1;33m)\u001b[0m\u001b[1;33m]\u001b[0m\u001b[1;33m,\u001b[0m \u001b[0mverbose\u001b[0m\u001b[1;33m=\u001b[0m\u001b[1;36m50\u001b[0m\u001b[1;33m,\u001b[0m \u001b[0mearly_stopping_rounds\u001b[0m\u001b[1;33m=\u001b[0m\u001b[1;36m100\u001b[0m\u001b[1;33m)\u001b[0m\u001b[1;33m\u001b[0m\u001b[1;33m\u001b[0m\u001b[0m\n\u001b[0m\u001b[0;32m      9\u001b[0m     \u001b[0mbest_socre\u001b[0m \u001b[1;33m=\u001b[0m \u001b[0mxgb\u001b[0m\u001b[1;33m.\u001b[0m\u001b[0mbest_score\u001b[0m\u001b[1;33m/\u001b[0m\u001b[1;36m5\u001b[0m\u001b[1;33m\u001b[0m\u001b[1;33m\u001b[0m\u001b[0m\n\u001b[0;32m     10\u001b[0m     \u001b[0mresult2\u001b[0m \u001b[1;33m+=\u001b[0m \u001b[0mli\u001b[0m\u001b[1;33m.\u001b[0m\u001b[0mpredict\u001b[0m\u001b[1;33m(\u001b[0m\u001b[0mtest2\u001b[0m\u001b[1;33m)\u001b[0m\u001b[1;33m/\u001b[0m\u001b[1;36m5\u001b[0m\u001b[1;33m\u001b[0m\u001b[1;33m\u001b[0m\u001b[0m\n",
      "\u001b[1;32mC:\\Anaconda3\\lib\\site-packages\\xgboost\\core.py\u001b[0m in \u001b[0;36minner_f\u001b[1;34m(*args, **kwargs)\u001b[0m\n\u001b[0;32m    420\u001b[0m         \u001b[1;32mfor\u001b[0m \u001b[0mk\u001b[0m\u001b[1;33m,\u001b[0m \u001b[0marg\u001b[0m \u001b[1;32min\u001b[0m \u001b[0mzip\u001b[0m\u001b[1;33m(\u001b[0m\u001b[0msig\u001b[0m\u001b[1;33m.\u001b[0m\u001b[0mparameters\u001b[0m\u001b[1;33m,\u001b[0m \u001b[0margs\u001b[0m\u001b[1;33m)\u001b[0m\u001b[1;33m:\u001b[0m\u001b[1;33m\u001b[0m\u001b[1;33m\u001b[0m\u001b[0m\n\u001b[0;32m    421\u001b[0m             \u001b[0mkwargs\u001b[0m\u001b[1;33m[\u001b[0m\u001b[0mk\u001b[0m\u001b[1;33m]\u001b[0m \u001b[1;33m=\u001b[0m \u001b[0marg\u001b[0m\u001b[1;33m\u001b[0m\u001b[1;33m\u001b[0m\u001b[0m\n\u001b[1;32m--> 422\u001b[1;33m         \u001b[1;32mreturn\u001b[0m \u001b[0mf\u001b[0m\u001b[1;33m(\u001b[0m\u001b[1;33m**\u001b[0m\u001b[0mkwargs\u001b[0m\u001b[1;33m)\u001b[0m\u001b[1;33m\u001b[0m\u001b[1;33m\u001b[0m\u001b[0m\n\u001b[0m\u001b[0;32m    423\u001b[0m \u001b[1;33m\u001b[0m\u001b[0m\n\u001b[0;32m    424\u001b[0m     \u001b[1;32mreturn\u001b[0m \u001b[0minner_f\u001b[0m\u001b[1;33m\u001b[0m\u001b[1;33m\u001b[0m\u001b[0m\n",
      "\u001b[1;32mC:\\Anaconda3\\lib\\site-packages\\xgboost\\sklearn.py\u001b[0m in \u001b[0;36mfit\u001b[1;34m(self, X, y, sample_weight, base_margin, eval_set, eval_metric, early_stopping_rounds, verbose, xgb_model, sample_weight_eval_set, feature_weights, callbacks)\u001b[0m\n\u001b[0;32m    595\u001b[0m                 \u001b[0mparams\u001b[0m\u001b[1;33m.\u001b[0m\u001b[0mupdate\u001b[0m\u001b[1;33m(\u001b[0m\u001b[1;33m{\u001b[0m\u001b[1;34m'eval_metric'\u001b[0m\u001b[1;33m:\u001b[0m \u001b[0meval_metric\u001b[0m\u001b[1;33m}\u001b[0m\u001b[1;33m)\u001b[0m\u001b[1;33m\u001b[0m\u001b[1;33m\u001b[0m\u001b[0m\n\u001b[0;32m    596\u001b[0m \u001b[1;33m\u001b[0m\u001b[0m\n\u001b[1;32m--> 597\u001b[1;33m         self._Booster = train(params, train_dmatrix,\n\u001b[0m\u001b[0;32m    598\u001b[0m                               \u001b[0mself\u001b[0m\u001b[1;33m.\u001b[0m\u001b[0mget_num_boosting_rounds\u001b[0m\u001b[1;33m(\u001b[0m\u001b[1;33m)\u001b[0m\u001b[1;33m,\u001b[0m \u001b[0mevals\u001b[0m\u001b[1;33m=\u001b[0m\u001b[0mevals\u001b[0m\u001b[1;33m,\u001b[0m\u001b[1;33m\u001b[0m\u001b[1;33m\u001b[0m\u001b[0m\n\u001b[0;32m    599\u001b[0m                               \u001b[0mearly_stopping_rounds\u001b[0m\u001b[1;33m=\u001b[0m\u001b[0mearly_stopping_rounds\u001b[0m\u001b[1;33m,\u001b[0m\u001b[1;33m\u001b[0m\u001b[1;33m\u001b[0m\u001b[0m\n",
      "\u001b[1;32mC:\\Anaconda3\\lib\\site-packages\\xgboost\\training.py\u001b[0m in \u001b[0;36mtrain\u001b[1;34m(params, dtrain, num_boost_round, evals, obj, feval, maximize, early_stopping_rounds, evals_result, verbose_eval, xgb_model, callbacks)\u001b[0m\n\u001b[0;32m    225\u001b[0m     \u001b[0mBooster\u001b[0m \u001b[1;33m:\u001b[0m \u001b[0ma\u001b[0m \u001b[0mtrained\u001b[0m \u001b[0mbooster\u001b[0m \u001b[0mmodel\u001b[0m\u001b[1;33m\u001b[0m\u001b[1;33m\u001b[0m\u001b[0m\n\u001b[0;32m    226\u001b[0m     \"\"\"\n\u001b[1;32m--> 227\u001b[1;33m     bst = _train_internal(params, dtrain,\n\u001b[0m\u001b[0;32m    228\u001b[0m                           \u001b[0mnum_boost_round\u001b[0m\u001b[1;33m=\u001b[0m\u001b[0mnum_boost_round\u001b[0m\u001b[1;33m,\u001b[0m\u001b[1;33m\u001b[0m\u001b[1;33m\u001b[0m\u001b[0m\n\u001b[0;32m    229\u001b[0m                           \u001b[0mevals\u001b[0m\u001b[1;33m=\u001b[0m\u001b[0mevals\u001b[0m\u001b[1;33m,\u001b[0m\u001b[1;33m\u001b[0m\u001b[1;33m\u001b[0m\u001b[0m\n",
      "\u001b[1;32mC:\\Anaconda3\\lib\\site-packages\\xgboost\\training.py\u001b[0m in \u001b[0;36m_train_internal\u001b[1;34m(params, dtrain, num_boost_round, evals, obj, feval, xgb_model, callbacks, evals_result, maximize, verbose_eval, early_stopping_rounds)\u001b[0m\n\u001b[0;32m    108\u001b[0m         \u001b[0mnboost\u001b[0m \u001b[1;33m+=\u001b[0m \u001b[1;36m1\u001b[0m\u001b[1;33m\u001b[0m\u001b[1;33m\u001b[0m\u001b[0m\n\u001b[0;32m    109\u001b[0m         \u001b[1;31m# check evaluation result.\u001b[0m\u001b[1;33m\u001b[0m\u001b[1;33m\u001b[0m\u001b[1;33m\u001b[0m\u001b[0m\n\u001b[1;32m--> 110\u001b[1;33m         \u001b[1;32mif\u001b[0m \u001b[0mcallbacks\u001b[0m\u001b[1;33m.\u001b[0m\u001b[0mafter_iteration\u001b[0m\u001b[1;33m(\u001b[0m\u001b[0mbst\u001b[0m\u001b[1;33m,\u001b[0m \u001b[0mi\u001b[0m\u001b[1;33m,\u001b[0m \u001b[0mdtrain\u001b[0m\u001b[1;33m,\u001b[0m \u001b[0mevals\u001b[0m\u001b[1;33m)\u001b[0m\u001b[1;33m:\u001b[0m\u001b[1;33m\u001b[0m\u001b[1;33m\u001b[0m\u001b[0m\n\u001b[0m\u001b[0;32m    111\u001b[0m             \u001b[1;32mbreak\u001b[0m\u001b[1;33m\u001b[0m\u001b[1;33m\u001b[0m\u001b[0m\n\u001b[0;32m    112\u001b[0m         \u001b[1;31m# do checkpoint after evaluation, in case evaluation also updates\u001b[0m\u001b[1;33m\u001b[0m\u001b[1;33m\u001b[0m\u001b[1;33m\u001b[0m\u001b[0m\n",
      "\u001b[1;32mC:\\Anaconda3\\lib\\site-packages\\xgboost\\callback.py\u001b[0m in \u001b[0;36mafter_iteration\u001b[1;34m(self, model, epoch, dtrain, evals)\u001b[0m\n\u001b[0;32m    425\u001b[0m             \u001b[1;31m# split up `test-error:0.1234`\u001b[0m\u001b[1;33m\u001b[0m\u001b[1;33m\u001b[0m\u001b[1;33m\u001b[0m\u001b[0m\n\u001b[0;32m    426\u001b[0m             \u001b[0mscore\u001b[0m \u001b[1;33m=\u001b[0m \u001b[1;33m[\u001b[0m\u001b[0mtuple\u001b[0m\u001b[1;33m(\u001b[0m\u001b[0ms\u001b[0m\u001b[1;33m.\u001b[0m\u001b[0msplit\u001b[0m\u001b[1;33m(\u001b[0m\u001b[1;34m':'\u001b[0m\u001b[1;33m)\u001b[0m\u001b[1;33m)\u001b[0m \u001b[1;32mfor\u001b[0m \u001b[0ms\u001b[0m \u001b[1;32min\u001b[0m \u001b[0mscore\u001b[0m\u001b[1;33m]\u001b[0m\u001b[1;33m\u001b[0m\u001b[1;33m\u001b[0m\u001b[0m\n\u001b[1;32m--> 427\u001b[1;33m             \u001b[0mself\u001b[0m\u001b[1;33m.\u001b[0m\u001b[0m_update_history\u001b[0m\u001b[1;33m(\u001b[0m\u001b[0mscore\u001b[0m\u001b[1;33m,\u001b[0m \u001b[0mepoch\u001b[0m\u001b[1;33m)\u001b[0m\u001b[1;33m\u001b[0m\u001b[1;33m\u001b[0m\u001b[0m\n\u001b[0m\u001b[0;32m    428\u001b[0m         ret = any(c.after_iteration(model, epoch, self.history)\n\u001b[0;32m    429\u001b[0m                   for c in self.callbacks)\n",
      "\u001b[1;32mC:\\Anaconda3\\lib\\site-packages\\xgboost\\callback.py\u001b[0m in \u001b[0;36m_update_history\u001b[1;34m(self, score, epoch)\u001b[0m\n\u001b[0;32m    391\u001b[0m     \u001b[1;32mdef\u001b[0m \u001b[0m_update_history\u001b[0m\u001b[1;33m(\u001b[0m\u001b[0mself\u001b[0m\u001b[1;33m,\u001b[0m \u001b[0mscore\u001b[0m\u001b[1;33m,\u001b[0m \u001b[0mepoch\u001b[0m\u001b[1;33m)\u001b[0m\u001b[1;33m:\u001b[0m\u001b[1;33m\u001b[0m\u001b[1;33m\u001b[0m\u001b[0m\n\u001b[0;32m    392\u001b[0m         \u001b[1;32mfor\u001b[0m \u001b[0md\u001b[0m \u001b[1;32min\u001b[0m \u001b[0mscore\u001b[0m\u001b[1;33m:\u001b[0m\u001b[1;33m\u001b[0m\u001b[1;33m\u001b[0m\u001b[0m\n\u001b[1;32m--> 393\u001b[1;33m             \u001b[0mname\u001b[0m\u001b[1;33m,\u001b[0m \u001b[0ms\u001b[0m \u001b[1;33m=\u001b[0m \u001b[0md\u001b[0m\u001b[1;33m[\u001b[0m\u001b[1;36m0\u001b[0m\u001b[1;33m]\u001b[0m\u001b[1;33m,\u001b[0m \u001b[0mfloat\u001b[0m\u001b[1;33m(\u001b[0m\u001b[0md\u001b[0m\u001b[1;33m[\u001b[0m\u001b[1;36m1\u001b[0m\u001b[1;33m]\u001b[0m\u001b[1;33m)\u001b[0m\u001b[1;33m\u001b[0m\u001b[1;33m\u001b[0m\u001b[0m\n\u001b[0m\u001b[0;32m    394\u001b[0m             \u001b[1;32mif\u001b[0m \u001b[0mself\u001b[0m\u001b[1;33m.\u001b[0m\u001b[0mis_cv\u001b[0m\u001b[1;33m:\u001b[0m\u001b[1;33m\u001b[0m\u001b[1;33m\u001b[0m\u001b[0m\n\u001b[0;32m    395\u001b[0m                 \u001b[0mstd\u001b[0m \u001b[1;33m=\u001b[0m \u001b[0mfloat\u001b[0m\u001b[1;33m(\u001b[0m\u001b[0md\u001b[0m\u001b[1;33m[\u001b[0m\u001b[1;36m2\u001b[0m\u001b[1;33m]\u001b[0m\u001b[1;33m)\u001b[0m\u001b[1;33m\u001b[0m\u001b[1;33m\u001b[0m\u001b[0m\n",
      "\u001b[1;31mValueError\u001b[0m: could not convert string to float: '-nan(ind)'"
     ]
    }
   ],
   "source": [
    "kf = KFold(n_splits=5, shuffle=True, random_state=42)\n",
    "i = 0\n",
    "result2 = 0\n",
    "best_score = 0\n",
    "for train_idx, test_idx in kf.split(train2, train['전력사용량(kWh)']):\n",
    "    x_train, x_val = train2.iloc[train_idx], train2.iloc[test_idx]\n",
    "    y_train, y_val = train['전력사용량(kWh)'][train_idx], train['전력사용량(kWh)'][test_idx]\n",
    "    xgb.fit(x_train, y_train, eval_set=[(x_train, y_train), (x_val, y_val)], verbose=50, early_stopping_rounds=100)\n",
    "    best_socre = xgb.best_score/5\n",
    "    result2 += li.predict(test2)/5\n",
    "    i += 1\n",
    "    print(f'----------------------------------------n_fold:{i}----------------------------------------')"
   ]
  },
  {
   "cell_type": "code",
   "execution_count": 114,
   "metadata": {},
   "outputs": [],
   "source": [
    "from lightgbm import LGBMRegressor\n",
    "li = LGBMRegressor(n_estimators=10000, random_state=42)"
   ]
  },
  {
   "cell_type": "code",
   "execution_count": 154,
   "metadata": {
    "tags": [
     "outputPrepend"
    ]
   },
   "outputs": [
    {
     "output_type": "stream",
     "name": "stdout",
     "text": [
      "training's l2: 5880.15\tvalid_1's l2: 35199.7\n",
      "[7550]\ttraining's l2: 5838.65\tvalid_1's l2: 35172.2\n",
      "[7600]\ttraining's l2: 5793.62\tvalid_1's l2: 35159.6\n",
      "[7650]\ttraining's l2: 5755.46\tvalid_1's l2: 35161.5\n",
      "[7700]\ttraining's l2: 5719.25\tvalid_1's l2: 35152.3\n",
      "[7750]\ttraining's l2: 5674.55\tvalid_1's l2: 35141.4\n",
      "[7800]\ttraining's l2: 5628.48\tvalid_1's l2: 35117.5\n",
      "[7850]\ttraining's l2: 5586.18\tvalid_1's l2: 35111\n",
      "[7900]\ttraining's l2: 5546\tvalid_1's l2: 35101.1\n",
      "[7950]\ttraining's l2: 5503.44\tvalid_1's l2: 35093.1\n",
      "[8000]\ttraining's l2: 5465.94\tvalid_1's l2: 35087.8\n",
      "[8050]\ttraining's l2: 5423.07\tvalid_1's l2: 35075.2\n",
      "[8100]\ttraining's l2: 5378.64\tvalid_1's l2: 35054.8\n",
      "[8150]\ttraining's l2: 5342.11\tvalid_1's l2: 35049.5\n",
      "[8200]\ttraining's l2: 5305.32\tvalid_1's l2: 35038.4\n",
      "[8250]\ttraining's l2: 5274.29\tvalid_1's l2: 35043\n",
      "[8300]\ttraining's l2: 5240.29\tvalid_1's l2: 35018.5\n",
      "[8350]\ttraining's l2: 5216.91\tvalid_1's l2: 35018.2\n",
      "[8400]\ttraining's l2: 5182.64\tvalid_1's l2: 35021.2\n",
      "[8450]\ttraining's l2: 5141.01\tvalid_1's l2: 35003.2\n",
      "[8500]\ttraining's l2: 5100.1\tvalid_1's l2: 34995.7\n",
      "[8550]\ttraining's l2: 5062.5\tvalid_1's l2: 34996.4\n",
      "[8600]\ttraining's l2: 5032.33\tvalid_1's l2: 34988\n",
      "[8650]\ttraining's l2: 4998.92\tvalid_1's l2: 34980.2\n",
      "[8700]\ttraining's l2: 4959.64\tvalid_1's l2: 34973\n",
      "[8750]\ttraining's l2: 4930.11\tvalid_1's l2: 34968.7\n",
      "[8800]\ttraining's l2: 4898.32\tvalid_1's l2: 34960.9\n",
      "[8850]\ttraining's l2: 4856.05\tvalid_1's l2: 34951.7\n",
      "[8900]\ttraining's l2: 4821.18\tvalid_1's l2: 34937.2\n",
      "[8950]\ttraining's l2: 4795.12\tvalid_1's l2: 34928.9\n",
      "[9000]\ttraining's l2: 4749.73\tvalid_1's l2: 34905.1\n",
      "[9050]\ttraining's l2: 4709.69\tvalid_1's l2: 34890.3\n",
      "[9100]\ttraining's l2: 4682.76\tvalid_1's l2: 34892.2\n",
      "[9150]\ttraining's l2: 4656.58\tvalid_1's l2: 34890\n",
      "[9200]\ttraining's l2: 4615.85\tvalid_1's l2: 34878.6\n",
      "[9250]\ttraining's l2: 4585.95\tvalid_1's l2: 34865\n",
      "[9300]\ttraining's l2: 4556.99\tvalid_1's l2: 34863.6\n",
      "[9350]\ttraining's l2: 4530.48\tvalid_1's l2: 34866.8\n",
      "[9400]\ttraining's l2: 4500.14\tvalid_1's l2: 34870\n",
      "[9450]\ttraining's l2: 4473.55\tvalid_1's l2: 34876\n",
      "[9500]\ttraining's l2: 4444.29\tvalid_1's l2: 34871\n",
      "[9550]\ttraining's l2: 4418.03\tvalid_1's l2: 34868.9\n",
      "[9600]\ttraining's l2: 4386.12\tvalid_1's l2: 34870.4\n",
      "[9650]\ttraining's l2: 4354.78\tvalid_1's l2: 34865.4\n",
      "[9700]\ttraining's l2: 4322.14\tvalid_1's l2: 34866.4\n",
      "[9750]\ttraining's l2: 4294.41\tvalid_1's l2: 34869.5\n",
      "[9800]\ttraining's l2: 4263.95\tvalid_1's l2: 34857.3\n",
      "[9850]\ttraining's l2: 4241.21\tvalid_1's l2: 34851.6\n",
      "[9900]\ttraining's l2: 4208.93\tvalid_1's l2: 34841.4\n",
      "[9950]\ttraining's l2: 4182.29\tvalid_1's l2: 34824.2\n",
      "[10000]\ttraining's l2: 4154.24\tvalid_1's l2: 34830.7\n",
      "Did not meet early stopping. Best iteration is:\n",
      "[10000]\ttraining's l2: 4154.24\tvalid_1's l2: 34830.7\n",
      "----------------------------------------n_fold:3----------------------------------------\n",
      "Training until validation scores don't improve for 300 rounds\n",
      "[50]\ttraining's l2: 139080\tvalid_1's l2: 139077\n",
      "[100]\ttraining's l2: 89822.9\tvalid_1's l2: 90625.2\n",
      "[150]\ttraining's l2: 73707.2\tvalid_1's l2: 75204.5\n",
      "[200]\ttraining's l2: 63959.6\tvalid_1's l2: 66008.3\n",
      "[250]\ttraining's l2: 58382.7\tvalid_1's l2: 61109.5\n",
      "[300]\ttraining's l2: 52706.8\tvalid_1's l2: 56225\n",
      "[350]\ttraining's l2: 48837\tvalid_1's l2: 53071.2\n",
      "[400]\ttraining's l2: 45131.3\tvalid_1's l2: 50408.1\n",
      "[450]\ttraining's l2: 42625.1\tvalid_1's l2: 48673.9\n",
      "[500]\ttraining's l2: 40461\tvalid_1's l2: 47093.6\n",
      "[550]\ttraining's l2: 38457.8\tvalid_1's l2: 45614.2\n",
      "[600]\ttraining's l2: 36807\tvalid_1's l2: 44411.6\n",
      "[650]\ttraining's l2: 35432.7\tvalid_1's l2: 43633.9\n",
      "[700]\ttraining's l2: 34100.5\tvalid_1's l2: 42886.1\n",
      "[750]\ttraining's l2: 32918.9\tvalid_1's l2: 42043.2\n",
      "[800]\ttraining's l2: 31585\tvalid_1's l2: 41155.6\n",
      "[850]\ttraining's l2: 30346.9\tvalid_1's l2: 40472.1\n",
      "[900]\ttraining's l2: 29421.2\tvalid_1's l2: 39953\n",
      "[950]\ttraining's l2: 28723.9\tvalid_1's l2: 39526.7\n",
      "[1000]\ttraining's l2: 28041\tvalid_1's l2: 39203.3\n",
      "[1050]\ttraining's l2: 27373.2\tvalid_1's l2: 38908.9\n",
      "[1100]\ttraining's l2: 26692.2\tvalid_1's l2: 38604.9\n",
      "[1150]\ttraining's l2: 25899.4\tvalid_1's l2: 38139.1\n",
      "[1200]\ttraining's l2: 25222.1\tvalid_1's l2: 37737.4\n",
      "[1250]\ttraining's l2: 24521.6\tvalid_1's l2: 37358.4\n",
      "[1300]\ttraining's l2: 23970.5\tvalid_1's l2: 37016.6\n",
      "[1350]\ttraining's l2: 23573.2\tvalid_1's l2: 36812.2\n",
      "[1400]\ttraining's l2: 23105.9\tvalid_1's l2: 36554.6\n",
      "[1450]\ttraining's l2: 22754\tvalid_1's l2: 36416.8\n",
      "[1500]\ttraining's l2: 22305.3\tvalid_1's l2: 36207.9\n",
      "[1550]\ttraining's l2: 21831.6\tvalid_1's l2: 35902.9\n",
      "[1600]\ttraining's l2: 21335.4\tvalid_1's l2: 35653\n",
      "[1650]\ttraining's l2: 20954.4\tvalid_1's l2: 35451.3\n",
      "[1700]\ttraining's l2: 20572.3\tvalid_1's l2: 35264.9\n",
      "[1750]\ttraining's l2: 20240.6\tvalid_1's l2: 35095.7\n",
      "[1800]\ttraining's l2: 19944.3\tvalid_1's l2: 34972.1\n",
      "[1850]\ttraining's l2: 19601.8\tvalid_1's l2: 34796.2\n",
      "[1900]\ttraining's l2: 19242\tvalid_1's l2: 34664.2\n",
      "[1950]\ttraining's l2: 18906.6\tvalid_1's l2: 34596.5\n",
      "[2000]\ttraining's l2: 18630.2\tvalid_1's l2: 34501.5\n",
      "[2050]\ttraining's l2: 18342.3\tvalid_1's l2: 34406.1\n",
      "[2100]\ttraining's l2: 18064.3\tvalid_1's l2: 34306.7\n",
      "[2150]\ttraining's l2: 17765.1\tvalid_1's l2: 34182.9\n",
      "[2200]\ttraining's l2: 17528\tvalid_1's l2: 34069.3\n",
      "[2250]\ttraining's l2: 17276.1\tvalid_1's l2: 34042.4\n",
      "[2300]\ttraining's l2: 17003.5\tvalid_1's l2: 33909.1\n",
      "[2350]\ttraining's l2: 16677.6\tvalid_1's l2: 33806.9\n",
      "[2400]\ttraining's l2: 16455.8\tvalid_1's l2: 33716\n",
      "[2450]\ttraining's l2: 16287.9\tvalid_1's l2: 33671.4\n",
      "[2500]\ttraining's l2: 16040.4\tvalid_1's l2: 33602.4\n",
      "[2550]\ttraining's l2: 15805.7\tvalid_1's l2: 33535.4\n",
      "[2600]\ttraining's l2: 15622\tvalid_1's l2: 33470.1\n",
      "[2650]\ttraining's l2: 15416.4\tvalid_1's l2: 33431.1\n",
      "[2700]\ttraining's l2: 15177.4\tvalid_1's l2: 33390.7\n",
      "[2750]\ttraining's l2: 14956.8\tvalid_1's l2: 33296.4\n",
      "[2800]\ttraining's l2: 14790.5\tvalid_1's l2: 33250.7\n",
      "[2850]\ttraining's l2: 14610.7\tvalid_1's l2: 33197.3\n",
      "[2900]\ttraining's l2: 14441.4\tvalid_1's l2: 33174.3\n",
      "[2950]\ttraining's l2: 14230.4\tvalid_1's l2: 33086.9\n",
      "[3000]\ttraining's l2: 14044.1\tvalid_1's l2: 33038.8\n",
      "[3050]\ttraining's l2: 13869.5\tvalid_1's l2: 32989\n",
      "[3100]\ttraining's l2: 13697.5\tvalid_1's l2: 32920.9\n",
      "[3150]\ttraining's l2: 13569.2\tvalid_1's l2: 32876.7\n",
      "[3200]\ttraining's l2: 13406.6\tvalid_1's l2: 32831.4\n",
      "[3250]\ttraining's l2: 13194.9\tvalid_1's l2: 32752.7\n",
      "[3300]\ttraining's l2: 13026.2\tvalid_1's l2: 32722.8\n",
      "[3350]\ttraining's l2: 12812.1\tvalid_1's l2: 32630\n",
      "[3400]\ttraining's l2: 12626.7\tvalid_1's l2: 32588.6\n",
      "[3450]\ttraining's l2: 12509.5\tvalid_1's l2: 32569.4\n",
      "[3500]\ttraining's l2: 12340.5\tvalid_1's l2: 32540.4\n",
      "[3550]\ttraining's l2: 12171\tvalid_1's l2: 32496.7\n",
      "[3600]\ttraining's l2: 12013.8\tvalid_1's l2: 32466.5\n",
      "[3650]\ttraining's l2: 11877.1\tvalid_1's l2: 32422.3\n",
      "[3700]\ttraining's l2: 11697.3\tvalid_1's l2: 32343.4\n",
      "[3750]\ttraining's l2: 11556.8\tvalid_1's l2: 32294.2\n",
      "[3800]\ttraining's l2: 11436.4\tvalid_1's l2: 32262.4\n",
      "[3850]\ttraining's l2: 11282.4\tvalid_1's l2: 32183.9\n",
      "[3900]\ttraining's l2: 11155\tvalid_1's l2: 32129.2\n",
      "[3950]\ttraining's l2: 11062.5\tvalid_1's l2: 32108.1\n",
      "[4000]\ttraining's l2: 10956.1\tvalid_1's l2: 32090.8\n",
      "[4050]\ttraining's l2: 10853.7\tvalid_1's l2: 32086\n",
      "[4100]\ttraining's l2: 10738.7\tvalid_1's l2: 32070.1\n",
      "[4150]\ttraining's l2: 10610.7\tvalid_1's l2: 32035.6\n",
      "[4200]\ttraining's l2: 10524.9\tvalid_1's l2: 32017.6\n",
      "[4250]\ttraining's l2: 10403.1\tvalid_1's l2: 32004.2\n",
      "[4300]\ttraining's l2: 10288.5\tvalid_1's l2: 31967.1\n",
      "[4350]\ttraining's l2: 10199.7\tvalid_1's l2: 31961.8\n",
      "[4400]\ttraining's l2: 10119\tvalid_1's l2: 31950.4\n",
      "[4450]\ttraining's l2: 10031.4\tvalid_1's l2: 31932.7\n",
      "[4500]\ttraining's l2: 9932.79\tvalid_1's l2: 31892.6\n",
      "[4550]\ttraining's l2: 9821.07\tvalid_1's l2: 31882.6\n",
      "[4600]\ttraining's l2: 9675.2\tvalid_1's l2: 31839.3\n",
      "[4650]\ttraining's l2: 9605.29\tvalid_1's l2: 31831.5\n",
      "[4700]\ttraining's l2: 9513.82\tvalid_1's l2: 31802.7\n",
      "[4750]\ttraining's l2: 9436.16\tvalid_1's l2: 31780.7\n",
      "[4800]\ttraining's l2: 9339.36\tvalid_1's l2: 31755.6\n",
      "[4850]\ttraining's l2: 9261.61\tvalid_1's l2: 31720.9\n",
      "[4900]\ttraining's l2: 9175.78\tvalid_1's l2: 31715.5\n",
      "[4950]\ttraining's l2: 9083.16\tvalid_1's l2: 31714.5\n",
      "[5000]\ttraining's l2: 9006.88\tvalid_1's l2: 31708.6\n",
      "[5050]\ttraining's l2: 8947.74\tvalid_1's l2: 31709.6\n",
      "[5100]\ttraining's l2: 8862.38\tvalid_1's l2: 31676.7\n",
      "[5150]\ttraining's l2: 8768.21\tvalid_1's l2: 31644.6\n",
      "[5200]\ttraining's l2: 8701.54\tvalid_1's l2: 31641.4\n",
      "[5250]\ttraining's l2: 8628.46\tvalid_1's l2: 31627.8\n",
      "[5300]\ttraining's l2: 8543.49\tvalid_1's l2: 31604.4\n",
      "[5350]\ttraining's l2: 8458.08\tvalid_1's l2: 31584.6\n",
      "[5400]\ttraining's l2: 8396.3\tvalid_1's l2: 31596.1\n",
      "[5450]\ttraining's l2: 8349.22\tvalid_1's l2: 31597.1\n",
      "[5500]\ttraining's l2: 8289.78\tvalid_1's l2: 31586.4\n",
      "[5550]\ttraining's l2: 8230.21\tvalid_1's l2: 31599.8\n",
      "[5600]\ttraining's l2: 8151.91\tvalid_1's l2: 31579.4\n",
      "[5650]\ttraining's l2: 8081.66\tvalid_1's l2: 31562.8\n",
      "[5700]\ttraining's l2: 8025.34\tvalid_1's l2: 31544.7\n",
      "[5750]\ttraining's l2: 7963.68\tvalid_1's l2: 31540.2\n",
      "[5800]\ttraining's l2: 7902.91\tvalid_1's l2: 31539\n",
      "[5850]\ttraining's l2: 7851.1\tvalid_1's l2: 31531.5\n",
      "[5900]\ttraining's l2: 7774.9\tvalid_1's l2: 31530.5\n",
      "[5950]\ttraining's l2: 7714.49\tvalid_1's l2: 31547.4\n",
      "[6000]\ttraining's l2: 7652.91\tvalid_1's l2: 31559.8\n",
      "[6050]\ttraining's l2: 7587.38\tvalid_1's l2: 31536\n",
      "[6100]\ttraining's l2: 7534.56\tvalid_1's l2: 31527\n",
      "[6150]\ttraining's l2: 7481.35\tvalid_1's l2: 31516.2\n",
      "[6200]\ttraining's l2: 7417.33\tvalid_1's l2: 31492\n",
      "[6250]\ttraining's l2: 7354.65\tvalid_1's l2: 31475.4\n",
      "[6300]\ttraining's l2: 7275.87\tvalid_1's l2: 31456.4\n",
      "[6350]\ttraining's l2: 7196.51\tvalid_1's l2: 31446.9\n",
      "[6400]\ttraining's l2: 7125.95\tvalid_1's l2: 31446.5\n",
      "[6450]\ttraining's l2: 7063.76\tvalid_1's l2: 31457.4\n",
      "[6500]\ttraining's l2: 7006.48\tvalid_1's l2: 31451.4\n",
      "[6550]\ttraining's l2: 6947.42\tvalid_1's l2: 31447\n",
      "[6600]\ttraining's l2: 6883.27\tvalid_1's l2: 31429.9\n",
      "[6650]\ttraining's l2: 6819.42\tvalid_1's l2: 31421.8\n",
      "[6700]\ttraining's l2: 6768.7\tvalid_1's l2: 31418.4\n",
      "[6750]\ttraining's l2: 6706.18\tvalid_1's l2: 31408.4\n",
      "[6800]\ttraining's l2: 6652.97\tvalid_1's l2: 31412.4\n",
      "[6850]\ttraining's l2: 6593.95\tvalid_1's l2: 31408.3\n",
      "[6900]\ttraining's l2: 6545.6\tvalid_1's l2: 31410.3\n",
      "[6950]\ttraining's l2: 6491.73\tvalid_1's l2: 31402.9\n",
      "[7000]\ttraining's l2: 6437.37\tvalid_1's l2: 31398.8\n",
      "[7050]\ttraining's l2: 6392.8\tvalid_1's l2: 31408.5\n",
      "[7100]\ttraining's l2: 6346.18\tvalid_1's l2: 31392.1\n",
      "[7150]\ttraining's l2: 6303.93\tvalid_1's l2: 31392\n",
      "[7200]\ttraining's l2: 6262.27\tvalid_1's l2: 31403.5\n",
      "[7250]\ttraining's l2: 6218.59\tvalid_1's l2: 31403.1\n",
      "[7300]\ttraining's l2: 6184.77\tvalid_1's l2: 31401.1\n",
      "[7350]\ttraining's l2: 6150.13\tvalid_1's l2: 31401.8\n",
      "[7400]\ttraining's l2: 6105.95\tvalid_1's l2: 31391.4\n",
      "Early stopping, best iteration is:\n",
      "[7115]\ttraining's l2: 6332.64\tvalid_1's l2: 31386.6\n",
      "----------------------------------------n_fold:4----------------------------------------\n",
      "Training until validation scores don't improve for 300 rounds\n",
      "[50]\ttraining's l2: 139941\tvalid_1's l2: 147135\n",
      "[100]\ttraining's l2: 88018.2\tvalid_1's l2: 96695.5\n",
      "[150]\ttraining's l2: 72453\tvalid_1's l2: 82881.3\n",
      "[200]\ttraining's l2: 62676.7\tvalid_1's l2: 74286.7\n",
      "[250]\ttraining's l2: 55258.7\tvalid_1's l2: 67870.4\n",
      "[300]\ttraining's l2: 50219.3\tvalid_1's l2: 63787.3\n",
      "[350]\ttraining's l2: 46625.4\tvalid_1's l2: 60836.8\n",
      "[400]\ttraining's l2: 43217.3\tvalid_1's l2: 58385.9\n",
      "[450]\ttraining's l2: 40947.1\tvalid_1's l2: 56851.8\n",
      "[500]\ttraining's l2: 38895.6\tvalid_1's l2: 55485.8\n",
      "[550]\ttraining's l2: 37426.3\tvalid_1's l2: 54532.9\n",
      "[600]\ttraining's l2: 35673.8\tvalid_1's l2: 53342.7\n",
      "[650]\ttraining's l2: 34147\tvalid_1's l2: 52316.9\n",
      "[700]\ttraining's l2: 33006.2\tvalid_1's l2: 51611.5\n",
      "[750]\ttraining's l2: 31735.1\tvalid_1's l2: 50792.7\n",
      "[800]\ttraining's l2: 30635.3\tvalid_1's l2: 49996.9\n",
      "[850]\ttraining's l2: 29735.3\tvalid_1's l2: 49406.7\n",
      "[900]\ttraining's l2: 28783.1\tvalid_1's l2: 48908.2\n",
      "[950]\ttraining's l2: 27863.9\tvalid_1's l2: 48010.8\n",
      "[1000]\ttraining's l2: 27053.2\tvalid_1's l2: 47559.2\n",
      "[1050]\ttraining's l2: 26291.4\tvalid_1's l2: 47044.1\n",
      "[1100]\ttraining's l2: 25622.5\tvalid_1's l2: 46655.5\n",
      "[1150]\ttraining's l2: 25019.2\tvalid_1's l2: 46246.1\n",
      "[1200]\ttraining's l2: 24386.6\tvalid_1's l2: 45899.8\n",
      "[1250]\ttraining's l2: 23763.4\tvalid_1's l2: 45495.9\n",
      "[1300]\ttraining's l2: 23305\tvalid_1's l2: 45302.8\n",
      "[1350]\ttraining's l2: 22921.8\tvalid_1's l2: 45139.5\n",
      "[1400]\ttraining's l2: 22535\tvalid_1's l2: 44946.8\n",
      "[1450]\ttraining's l2: 22034.3\tvalid_1's l2: 44683.4\n",
      "[1500]\ttraining's l2: 21600.8\tvalid_1's l2: 44401.8\n",
      "[1550]\ttraining's l2: 21228.5\tvalid_1's l2: 44307\n",
      "[1600]\ttraining's l2: 20896.4\tvalid_1's l2: 44122.4\n",
      "[1650]\ttraining's l2: 20513.2\tvalid_1's l2: 43940.6\n",
      "[1700]\ttraining's l2: 20143.2\tvalid_1's l2: 43849.6\n",
      "[1750]\ttraining's l2: 19792.3\tvalid_1's l2: 43691\n",
      "[1800]\ttraining's l2: 19372.7\tvalid_1's l2: 43530.7\n",
      "[1850]\ttraining's l2: 19082.6\tvalid_1's l2: 43448\n",
      "[1900]\ttraining's l2: 18824.4\tvalid_1's l2: 43396.7\n",
      "[1950]\ttraining's l2: 18436.9\tvalid_1's l2: 43236.7\n",
      "[2000]\ttraining's l2: 18128.5\tvalid_1's l2: 43125.4\n",
      "[2050]\ttraining's l2: 17780.7\tvalid_1's l2: 42989\n",
      "[2100]\ttraining's l2: 17409.1\tvalid_1's l2: 42771.4\n",
      "[2150]\ttraining's l2: 17118.5\tvalid_1's l2: 42631.4\n",
      "[2200]\ttraining's l2: 16852.3\tvalid_1's l2: 42436.5\n",
      "[2250]\ttraining's l2: 16534.8\tvalid_1's l2: 42323.6\n",
      "[2300]\ttraining's l2: 16255.1\tvalid_1's l2: 42210.1\n",
      "[2350]\ttraining's l2: 16023.6\tvalid_1's l2: 42094\n",
      "[2400]\ttraining's l2: 15787.4\tvalid_1's l2: 42072\n",
      "[2450]\ttraining's l2: 15556.9\tvalid_1's l2: 41963.8\n",
      "[2500]\ttraining's l2: 15349.8\tvalid_1's l2: 41881.7\n",
      "[2550]\ttraining's l2: 15180.3\tvalid_1's l2: 41799.5\n",
      "[2600]\ttraining's l2: 14975.9\tvalid_1's l2: 41758.5\n",
      "[2650]\ttraining's l2: 14792.7\tvalid_1's l2: 41717.2\n",
      "[2700]\ttraining's l2: 14575.4\tvalid_1's l2: 41631.1\n",
      "[2750]\ttraining's l2: 14402.3\tvalid_1's l2: 41600.2\n",
      "[2800]\ttraining's l2: 14198.4\tvalid_1's l2: 41541\n",
      "[2850]\ttraining's l2: 14012.3\tvalid_1's l2: 41497.3\n",
      "[2900]\ttraining's l2: 13861.3\tvalid_1's l2: 41451.3\n",
      "[2950]\ttraining's l2: 13694.2\tvalid_1's l2: 41370.6\n",
      "[3000]\ttraining's l2: 13478.2\tvalid_1's l2: 41248.4\n",
      "[3050]\ttraining's l2: 13279.4\tvalid_1's l2: 41160\n",
      "[3100]\ttraining's l2: 13077.2\tvalid_1's l2: 41100.8\n",
      "[3150]\ttraining's l2: 12950.1\tvalid_1's l2: 41060.1\n",
      "[3200]\ttraining's l2: 12807.7\tvalid_1's l2: 40990.4\n",
      "[3250]\ttraining's l2: 12637.9\tvalid_1's l2: 40876.1\n",
      "[3300]\ttraining's l2: 12472.8\tvalid_1's l2: 40800.6\n",
      "[3350]\ttraining's l2: 12294.2\tvalid_1's l2: 40751.6\n",
      "[3400]\ttraining's l2: 12153.3\tvalid_1's l2: 40691\n",
      "[3450]\ttraining's l2: 11971.7\tvalid_1's l2: 40626.4\n",
      "[3500]\ttraining's l2: 11851.4\tvalid_1's l2: 40602.5\n",
      "[3550]\ttraining's l2: 11735.7\tvalid_1's l2: 40559.9\n",
      "[3600]\ttraining's l2: 11622.1\tvalid_1's l2: 40485.2\n",
      "[3650]\ttraining's l2: 11525\tvalid_1's l2: 40451.7\n",
      "[3700]\ttraining's l2: 11391.7\tvalid_1's l2: 40422.4\n",
      "[3750]\ttraining's l2: 11260.4\tvalid_1's l2: 40413.6\n",
      "[3800]\ttraining's l2: 11139\tvalid_1's l2: 40438\n",
      "[3850]\ttraining's l2: 11035.2\tvalid_1's l2: 40412\n",
      "[3900]\ttraining's l2: 10929.5\tvalid_1's l2: 40390.6\n",
      "[3950]\ttraining's l2: 10811.1\tvalid_1's l2: 40336.8\n",
      "[4000]\ttraining's l2: 10701.2\tvalid_1's l2: 40293\n",
      "[4050]\ttraining's l2: 10590.1\tvalid_1's l2: 40256.8\n",
      "[4100]\ttraining's l2: 10484.2\tvalid_1's l2: 40219.8\n",
      "[4150]\ttraining's l2: 10368.4\tvalid_1's l2: 40205.7\n",
      "[4200]\ttraining's l2: 10226.6\tvalid_1's l2: 40114.7\n",
      "[4250]\ttraining's l2: 10116.7\tvalid_1's l2: 40052\n",
      "[4300]\ttraining's l2: 10028.4\tvalid_1's l2: 40026\n",
      "[4350]\ttraining's l2: 9913.67\tvalid_1's l2: 39967.7\n",
      "[4400]\ttraining's l2: 9823.43\tvalid_1's l2: 39950.2\n",
      "[4450]\ttraining's l2: 9722.79\tvalid_1's l2: 39907.5\n",
      "[4500]\ttraining's l2: 9621.66\tvalid_1's l2: 39861\n",
      "[4550]\ttraining's l2: 9533.4\tvalid_1's l2: 39803.7\n",
      "[4600]\ttraining's l2: 9455.37\tvalid_1's l2: 39789.5\n",
      "[4650]\ttraining's l2: 9375.45\tvalid_1's l2: 39778.1\n",
      "[4700]\ttraining's l2: 9316.18\tvalid_1's l2: 39762.2\n",
      "[4750]\ttraining's l2: 9231.36\tvalid_1's l2: 39740.7\n",
      "[4800]\ttraining's l2: 9140.49\tvalid_1's l2: 39716.1\n",
      "[4850]\ttraining's l2: 9068.39\tvalid_1's l2: 39722.1\n",
      "[4900]\ttraining's l2: 8990.91\tvalid_1's l2: 39701.6\n",
      "[4950]\ttraining's l2: 8904.01\tvalid_1's l2: 39692.1\n",
      "[5000]\ttraining's l2: 8843.99\tvalid_1's l2: 39668\n",
      "[5050]\ttraining's l2: 8750.86\tvalid_1's l2: 39630.5\n",
      "[5100]\ttraining's l2: 8646.76\tvalid_1's l2: 39606.7\n",
      "[5150]\ttraining's l2: 8566.82\tvalid_1's l2: 39594.9\n",
      "[5200]\ttraining's l2: 8456.29\tvalid_1's l2: 39556.1\n",
      "[5250]\ttraining's l2: 8379.1\tvalid_1's l2: 39526.4\n",
      "[5300]\ttraining's l2: 8301.75\tvalid_1's l2: 39528.3\n",
      "[5350]\ttraining's l2: 8224.29\tvalid_1's l2: 39467.2\n",
      "[5400]\ttraining's l2: 8153.55\tvalid_1's l2: 39438\n",
      "[5450]\ttraining's l2: 8081.33\tvalid_1's l2: 39431.3\n",
      "[5500]\ttraining's l2: 8008.8\tvalid_1's l2: 39419\n",
      "[5550]\ttraining's l2: 7938.59\tvalid_1's l2: 39398\n",
      "[5600]\ttraining's l2: 7879.47\tvalid_1's l2: 39395.4\n",
      "[5650]\ttraining's l2: 7815.07\tvalid_1's l2: 39419.4\n",
      "[5700]\ttraining's l2: 7743.49\tvalid_1's l2: 39393.7\n",
      "[5750]\ttraining's l2: 7679.07\tvalid_1's l2: 39372.5\n",
      "[5800]\ttraining's l2: 7600.66\tvalid_1's l2: 39334.1\n",
      "[5850]\ttraining's l2: 7536.97\tvalid_1's l2: 39313\n",
      "[5900]\ttraining's l2: 7478.93\tvalid_1's l2: 39300.5\n",
      "[5950]\ttraining's l2: 7424.3\tvalid_1's l2: 39299.5\n",
      "[6000]\ttraining's l2: 7366.81\tvalid_1's l2: 39288.9\n",
      "[6050]\ttraining's l2: 7305.44\tvalid_1's l2: 39297.7\n",
      "[6100]\ttraining's l2: 7247.13\tvalid_1's l2: 39277\n",
      "[6150]\ttraining's l2: 7188.45\tvalid_1's l2: 39271.9\n",
      "[6200]\ttraining's l2: 7134.93\tvalid_1's l2: 39251.4\n",
      "[6250]\ttraining's l2: 7075\tvalid_1's l2: 39257.2\n",
      "[6300]\ttraining's l2: 7016.74\tvalid_1's l2: 39253.2\n",
      "[6350]\ttraining's l2: 6953.8\tvalid_1's l2: 39253.1\n",
      "[6400]\ttraining's l2: 6888.16\tvalid_1's l2: 39224.1\n",
      "[6450]\ttraining's l2: 6840.19\tvalid_1's l2: 39227\n",
      "[6500]\ttraining's l2: 6785.6\tvalid_1's l2: 39213.9\n",
      "[6550]\ttraining's l2: 6739.41\tvalid_1's l2: 39216\n",
      "[6600]\ttraining's l2: 6700.57\tvalid_1's l2: 39206.1\n",
      "[6650]\ttraining's l2: 6661.73\tvalid_1's l2: 39209.6\n",
      "[6700]\ttraining's l2: 6614.01\tvalid_1's l2: 39210.2\n",
      "[6750]\ttraining's l2: 6560.36\tvalid_1's l2: 39203.6\n",
      "[6800]\ttraining's l2: 6500.92\tvalid_1's l2: 39200.7\n",
      "[6850]\ttraining's l2: 6460.31\tvalid_1's l2: 39197.5\n",
      "[6900]\ttraining's l2: 6404.25\tvalid_1's l2: 39182.4\n",
      "[6950]\ttraining's l2: 6358.31\tvalid_1's l2: 39190.9\n",
      "[7000]\ttraining's l2: 6304.57\tvalid_1's l2: 39197.4\n",
      "[7050]\ttraining's l2: 6249.26\tvalid_1's l2: 39199.4\n",
      "[7100]\ttraining's l2: 6204.51\tvalid_1's l2: 39200.5\n",
      "[7150]\ttraining's l2: 6160.18\tvalid_1's l2: 39195.8\n",
      "[7200]\ttraining's l2: 6111.44\tvalid_1's l2: 39172.9\n",
      "[7250]\ttraining's l2: 6059.99\tvalid_1's l2: 39161.1\n",
      "[7300]\ttraining's l2: 6018.71\tvalid_1's l2: 39147.9\n",
      "[7350]\ttraining's l2: 5975.93\tvalid_1's l2: 39137.2\n",
      "[7400]\ttraining's l2: 5938\tvalid_1's l2: 39150.2\n",
      "[7450]\ttraining's l2: 5898.07\tvalid_1's l2: 39138.5\n",
      "[7500]\ttraining's l2: 5851.7\tvalid_1's l2: 39124\n",
      "[7550]\ttraining's l2: 5810.83\tvalid_1's l2: 39117.1\n",
      "[7600]\ttraining's l2: 5768.39\tvalid_1's l2: 39094.6\n",
      "[7650]\ttraining's l2: 5730.16\tvalid_1's l2: 39093.5\n",
      "[7700]\ttraining's l2: 5696.44\tvalid_1's l2: 39094.5\n",
      "[7750]\ttraining's l2: 5657.19\tvalid_1's l2: 39082.6\n",
      "[7800]\ttraining's l2: 5618.6\tvalid_1's l2: 39083.2\n",
      "[7850]\ttraining's l2: 5581.21\tvalid_1's l2: 39071.8\n",
      "[7900]\ttraining's l2: 5546.7\tvalid_1's l2: 39066.9\n",
      "[7950]\ttraining's l2: 5502.7\tvalid_1's l2: 39060.6\n",
      "[8000]\ttraining's l2: 5459.01\tvalid_1's l2: 39066\n",
      "[8050]\ttraining's l2: 5422.94\tvalid_1's l2: 39057.9\n",
      "[8100]\ttraining's l2: 5383.34\tvalid_1's l2: 39034.2\n",
      "[8150]\ttraining's l2: 5344.13\tvalid_1's l2: 39027.9\n",
      "[8200]\ttraining's l2: 5298.5\tvalid_1's l2: 39013.6\n",
      "[8250]\ttraining's l2: 5254.2\tvalid_1's l2: 38992.3\n",
      "[8300]\ttraining's l2: 5221.94\tvalid_1's l2: 38977.4\n",
      "[8350]\ttraining's l2: 5185.67\tvalid_1's l2: 38950.8\n",
      "[8400]\ttraining's l2: 5155.97\tvalid_1's l2: 38953\n",
      "[8450]\ttraining's l2: 5120.95\tvalid_1's l2: 38944\n",
      "[8500]\ttraining's l2: 5081.43\tvalid_1's l2: 38925\n",
      "[8550]\ttraining's l2: 5035.58\tvalid_1's l2: 38906.5\n",
      "[8600]\ttraining's l2: 5004.21\tvalid_1's l2: 38912.4\n",
      "[8650]\ttraining's l2: 4962.53\tvalid_1's l2: 38926.3\n",
      "[8700]\ttraining's l2: 4924.69\tvalid_1's l2: 38929.7\n",
      "[8750]\ttraining's l2: 4893.6\tvalid_1's l2: 38933.9\n",
      "[8800]\ttraining's l2: 4854.09\tvalid_1's l2: 38927.2\n",
      "[8850]\ttraining's l2: 4819.1\tvalid_1's l2: 38925.1\n",
      "Early stopping, best iteration is:\n",
      "[8562]\ttraining's l2: 5027.16\tvalid_1's l2: 38904.2\n",
      "----------------------------------------n_fold:5----------------------------------------\n"
     ]
    }
   ],
   "source": [
    "kf = KFold(n_splits=5, shuffle=True, random_state=42)\n",
    "i = 0\n",
    "result2 = 0\n",
    "best_score = 0\n",
    "for train_idx, test_idx in kf.split(train2, train['전력사용량(kWh)']):\n",
    "    x_train, x_val = train2_scaled.iloc[train_idx], train2_scaled.iloc[test_idx]\n",
    "    y_train, y_val = train['전력사용량(kWh)'][train_idx], train['전력사용량(kWh)'][test_idx]\n",
    "    li.fit(x_train, y_train, eval_set=[(x_train, y_train), (x_val, y_val)], verbose=50, early_stopping_rounds=300)\n",
    "    result2 += li.predict(test2_scaled)/5\n",
    "    i += 1\n",
    "    print(f'----------------------------------------n_fold:{i}----------------------------------------')"
   ]
  },
  {
   "cell_type": "code",
   "execution_count": 46,
   "metadata": {},
   "outputs": [],
   "source": [
    "def mape(inp1, inp2):\n",
    "    result = 0\n",
    "    for i in range(len(inp1)):\n",
    "        result += abs((inp1[i] - inp2[i]) / inp1[i])\n",
    "    result = result * 100 / len(inp1)\n",
    "    return result"
   ]
  },
  {
   "cell_type": "code",
   "execution_count": 156,
   "metadata": {},
   "outputs": [],
   "source": [
    "from sklearn.model_selection import cross_val_score\n",
    "cvs = cross_val_score(li, train2, train['전력사용량(kWh)'], n_jobs=-1, cv=5, scoring='neg_mean_absolute_percentage_error')"
   ]
  },
  {
   "cell_type": "code",
   "execution_count": 78,
   "metadata": {},
   "outputs": [
    {
     "output_type": "stream",
     "name": "stdout",
     "text": [
      "lgbm : 17214432.31899231\n"
     ]
    }
   ],
   "source": [
    "print('lgbm :',np.sqrt(-cvs.mean())) #이전 lgbm 결과 - 18884626.05120877"
   ]
  },
  {
   "cell_type": "code",
   "execution_count": 80,
   "metadata": {},
   "outputs": [
    {
     "output_type": "stream",
     "name": "stdout",
     "text": [
      "xgb : 19475207.543885965\n"
     ]
    }
   ],
   "source": [
    "print('xgb :',np.sqrt(-cvs.mean()))"
   ]
  },
  {
   "cell_type": "code",
   "execution_count": 157,
   "metadata": {},
   "outputs": [
    {
     "output_type": "stream",
     "name": "stdout",
     "text": [
      "lgbm : 17214432.31899231\n"
     ]
    }
   ],
   "source": [
    "print('lgbm :',np.sqrt(-cvs.mean())) #이전 lgbm 결과 - 17214432.31899231"
   ]
  },
  {
   "cell_type": "code",
   "execution_count": 158,
   "metadata": {},
   "outputs": [
    {
     "output_type": "execute_result",
     "data": {
      "text/plain": [
       "array([8518.13443693, 8477.47652747, 8428.01888962, ..., 3617.35203823,\n",
       "       3478.86224953, 3245.27392121])"
      ]
     },
     "metadata": {},
     "execution_count": 158
    }
   ],
   "source": [
    "result2"
   ]
  },
  {
   "cell_type": "code",
   "execution_count": 159,
   "metadata": {},
   "outputs": [
    {
     "output_type": "execute_result",
     "data": {
      "text/plain": [
       "          num_date_time  answer\n",
       "0       1 2020-08-25 00       0\n",
       "1       1 2020-08-25 01       0\n",
       "2       1 2020-08-25 02       0\n",
       "3       1 2020-08-25 03       0\n",
       "4       1 2020-08-25 04       0\n",
       "...                 ...     ...\n",
       "10075  60 2020-08-31 19       0\n",
       "10076  60 2020-08-31 20       0\n",
       "10077  60 2020-08-31 21       0\n",
       "10078  60 2020-08-31 22       0\n",
       "10079  60 2020-08-31 23       0\n",
       "\n",
       "[10080 rows x 2 columns]"
      ],
      "text/html": "<div>\n<style scoped>\n    .dataframe tbody tr th:only-of-type {\n        vertical-align: middle;\n    }\n\n    .dataframe tbody tr th {\n        vertical-align: top;\n    }\n\n    .dataframe thead th {\n        text-align: right;\n    }\n</style>\n<table border=\"1\" class=\"dataframe\">\n  <thead>\n    <tr style=\"text-align: right;\">\n      <th></th>\n      <th>num_date_time</th>\n      <th>answer</th>\n    </tr>\n  </thead>\n  <tbody>\n    <tr>\n      <th>0</th>\n      <td>1 2020-08-25 00</td>\n      <td>0</td>\n    </tr>\n    <tr>\n      <th>1</th>\n      <td>1 2020-08-25 01</td>\n      <td>0</td>\n    </tr>\n    <tr>\n      <th>2</th>\n      <td>1 2020-08-25 02</td>\n      <td>0</td>\n    </tr>\n    <tr>\n      <th>3</th>\n      <td>1 2020-08-25 03</td>\n      <td>0</td>\n    </tr>\n    <tr>\n      <th>4</th>\n      <td>1 2020-08-25 04</td>\n      <td>0</td>\n    </tr>\n    <tr>\n      <th>...</th>\n      <td>...</td>\n      <td>...</td>\n    </tr>\n    <tr>\n      <th>10075</th>\n      <td>60 2020-08-31 19</td>\n      <td>0</td>\n    </tr>\n    <tr>\n      <th>10076</th>\n      <td>60 2020-08-31 20</td>\n      <td>0</td>\n    </tr>\n    <tr>\n      <th>10077</th>\n      <td>60 2020-08-31 21</td>\n      <td>0</td>\n    </tr>\n    <tr>\n      <th>10078</th>\n      <td>60 2020-08-31 22</td>\n      <td>0</td>\n    </tr>\n    <tr>\n      <th>10079</th>\n      <td>60 2020-08-31 23</td>\n      <td>0</td>\n    </tr>\n  </tbody>\n</table>\n<p>10080 rows × 2 columns</p>\n</div>"
     },
     "metadata": {},
     "execution_count": 159
    }
   ],
   "source": [
    "sub = pd.read_csv('sample_submission.csv')\n",
    "sub"
   ]
  },
  {
   "cell_type": "code",
   "execution_count": 160,
   "metadata": {},
   "outputs": [
    {
     "output_type": "execute_result",
     "data": {
      "text/plain": [
       "          num_date_time       answer\n",
       "0       1 2020-08-25 00  8518.134437\n",
       "1       1 2020-08-25 01  8477.476527\n",
       "2       1 2020-08-25 02  8428.018890\n",
       "3       1 2020-08-25 03  8443.802833\n",
       "4       1 2020-08-25 04  8518.426027\n",
       "...                 ...          ...\n",
       "10075  60 2020-08-31 19  3890.172691\n",
       "10076  60 2020-08-31 20  3771.012369\n",
       "10077  60 2020-08-31 21  3617.352038\n",
       "10078  60 2020-08-31 22  3478.862250\n",
       "10079  60 2020-08-31 23  3245.273921\n",
       "\n",
       "[10080 rows x 2 columns]"
      ],
      "text/html": "<div>\n<style scoped>\n    .dataframe tbody tr th:only-of-type {\n        vertical-align: middle;\n    }\n\n    .dataframe tbody tr th {\n        vertical-align: top;\n    }\n\n    .dataframe thead th {\n        text-align: right;\n    }\n</style>\n<table border=\"1\" class=\"dataframe\">\n  <thead>\n    <tr style=\"text-align: right;\">\n      <th></th>\n      <th>num_date_time</th>\n      <th>answer</th>\n    </tr>\n  </thead>\n  <tbody>\n    <tr>\n      <th>0</th>\n      <td>1 2020-08-25 00</td>\n      <td>8518.134437</td>\n    </tr>\n    <tr>\n      <th>1</th>\n      <td>1 2020-08-25 01</td>\n      <td>8477.476527</td>\n    </tr>\n    <tr>\n      <th>2</th>\n      <td>1 2020-08-25 02</td>\n      <td>8428.018890</td>\n    </tr>\n    <tr>\n      <th>3</th>\n      <td>1 2020-08-25 03</td>\n      <td>8443.802833</td>\n    </tr>\n    <tr>\n      <th>4</th>\n      <td>1 2020-08-25 04</td>\n      <td>8518.426027</td>\n    </tr>\n    <tr>\n      <th>...</th>\n      <td>...</td>\n      <td>...</td>\n    </tr>\n    <tr>\n      <th>10075</th>\n      <td>60 2020-08-31 19</td>\n      <td>3890.172691</td>\n    </tr>\n    <tr>\n      <th>10076</th>\n      <td>60 2020-08-31 20</td>\n      <td>3771.012369</td>\n    </tr>\n    <tr>\n      <th>10077</th>\n      <td>60 2020-08-31 21</td>\n      <td>3617.352038</td>\n    </tr>\n    <tr>\n      <th>10078</th>\n      <td>60 2020-08-31 22</td>\n      <td>3478.862250</td>\n    </tr>\n    <tr>\n      <th>10079</th>\n      <td>60 2020-08-31 23</td>\n      <td>3245.273921</td>\n    </tr>\n  </tbody>\n</table>\n<p>10080 rows × 2 columns</p>\n</div>"
     },
     "metadata": {},
     "execution_count": 160
    }
   ],
   "source": [
    "sub['answer'] = result2\n",
    "sub"
   ]
  },
  {
   "cell_type": "code",
   "execution_count": 161,
   "metadata": {},
   "outputs": [],
   "source": [
    "sub.to_csv('lgbm3_sub.csv', index=False)"
   ]
  },
  {
   "cell_type": "code",
   "execution_count": 162,
   "metadata": {},
   "outputs": [
    {
     "output_type": "execute_result",
     "data": {
      "text/plain": [
       "<AxesSubplot:>"
      ]
     },
     "metadata": {},
     "execution_count": 162
    },
    {
     "output_type": "display_data",
     "data": {
      "text/plain": "<Figure size 432x288 with 1 Axes>",
      "image/svg+xml": "<?xml version=\"1.0\" encoding=\"utf-8\" standalone=\"no\"?>\r\n<!DOCTYPE svg PUBLIC \"-//W3C//DTD SVG 1.1//EN\"\r\n  \"http://www.w3.org/Graphics/SVG/1.1/DTD/svg11.dtd\">\r\n<!-- Created with matplotlib (https://matplotlib.org/) -->\r\n<svg height=\"248.518125pt\" version=\"1.1\" viewBox=\"0 0 412.127966 248.518125\" width=\"412.127966pt\" xmlns=\"http://www.w3.org/2000/svg\" xmlns:xlink=\"http://www.w3.org/1999/xlink\">\r\n <metadata>\r\n  <rdf:RDF xmlns:cc=\"http://creativecommons.org/ns#\" xmlns:dc=\"http://purl.org/dc/elements/1.1/\" xmlns:rdf=\"http://www.w3.org/1999/02/22-rdf-syntax-ns#\">\r\n   <cc:Work>\r\n    <dc:type rdf:resource=\"http://purl.org/dc/dcmitype/StillImage\"/>\r\n    <dc:date>2021-06-05T23:06:12.511013</dc:date>\r\n    <dc:format>image/svg+xml</dc:format>\r\n    <dc:creator>\r\n     <cc:Agent>\r\n      <dc:title>Matplotlib v3.3.2, https://matplotlib.org/</dc:title>\r\n     </cc:Agent>\r\n    </dc:creator>\r\n   </cc:Work>\r\n  </rdf:RDF>\r\n </metadata>\r\n <defs>\r\n  <style type=\"text/css\">*{stroke-linecap:butt;stroke-linejoin:round;}</style>\r\n </defs>\r\n <g id=\"figure_1\">\r\n  <g id=\"patch_1\">\r\n   <path d=\"M -0 248.518125 \r\nL 412.127966 248.518125 \r\nL 412.127966 0 \r\nL -0 0 \r\nz\r\n\" style=\"fill:none;\"/>\r\n  </g>\r\n  <g id=\"axes_1\">\r\n   <g id=\"patch_2\">\r\n    <path d=\"M 68.214062 224.64 \r\nL 403.014063 224.64 \r\nL 403.014063 7.2 \r\nL 68.214062 7.2 \r\nz\r\n\" style=\"fill:#ffffff;\"/>\r\n   </g>\r\n   <g id=\"patch_3\">\r\n    <path clip-path=\"url(#pacce5d604c)\" d=\"M 68.214062 8.872615 \r\nL 387.071205 8.872615 \r\nL 387.071205 22.253538 \r\nL 68.214062 22.253538 \r\nz\r\n\" style=\"fill:#ea96a3;\"/>\r\n   </g>\r\n   <g id=\"patch_4\">\r\n    <path clip-path=\"url(#pacce5d604c)\" d=\"M 68.214062 25.598769 \r\nL 349.177405 25.598769 \r\nL 349.177405 38.979692 \r\nL 68.214062 38.979692 \r\nz\r\n\" style=\"fill:#e39361;\"/>\r\n   </g>\r\n   <g id=\"patch_5\">\r\n    <path clip-path=\"url(#pacce5d604c)\" d=\"M 68.214062 42.324923 \r\nL 288.814237 42.324923 \r\nL 288.814237 55.705846 \r\nL 68.214062 55.705846 \r\nz\r\n\" style=\"fill:#be9b4a;\"/>\r\n   </g>\r\n   <g id=\"patch_6\">\r\n    <path clip-path=\"url(#pacce5d604c)\" d=\"M 68.214062 59.051077 \r\nL 274.512632 59.051077 \r\nL 274.512632 72.432 \r\nL 68.214062 72.432 \r\nz\r\n\" style=\"fill:#9fa045;\"/>\r\n   </g>\r\n   <g id=\"patch_7\">\r\n    <path clip-path=\"url(#pacce5d604c)\" d=\"M 68.214062 75.777231 \r\nL 271.201897 75.777231 \r\nL 271.201897 89.158154 \r\nL 68.214062 89.158154 \r\nz\r\n\" style=\"fill:#7aaa47;\"/>\r\n   </g>\r\n   <g id=\"patch_8\">\r\n    <path clip-path=\"url(#pacce5d604c)\" d=\"M 68.214062 92.503385 \r\nL 203.479401 92.503385 \r\nL 203.479401 105.884308 \r\nL 68.214062 105.884308 \r\nz\r\n\" style=\"fill:#49af79;\"/>\r\n   </g>\r\n   <g id=\"patch_9\">\r\n    <path clip-path=\"url(#pacce5d604c)\" d=\"M 68.214062 109.229538 \r\nL 142.378376 109.229538 \r\nL 142.378376 122.610462 \r\nL 68.214062 122.610462 \r\nz\r\n\" style=\"fill:#4aac9a;\"/>\r\n   </g>\r\n   <g id=\"patch_10\">\r\n    <path clip-path=\"url(#pacce5d604c)\" d=\"M 68.214062 125.955692 \r\nL 124.612048 125.955692 \r\nL 124.612048 139.336615 \r\nL 68.214062 139.336615 \r\nz\r\n\" style=\"fill:#4cabae;\"/>\r\n   </g>\r\n   <g id=\"patch_11\">\r\n    <path clip-path=\"url(#pacce5d604c)\" d=\"M 68.214062 142.681846 \r\nL 114.102389 142.681846 \r\nL 114.102389 156.062769 \r\nL 68.214062 156.062769 \r\nz\r\n\" style=\"fill:#52acc9;\"/>\r\n   </g>\r\n   <g id=\"patch_12\">\r\n    <path clip-path=\"url(#pacce5d604c)\" d=\"M 68.214062 159.408 \r\nL 113.922737 159.408 \r\nL 113.922737 172.788923 \r\nL 68.214062 172.788923 \r\nz\r\n\" style=\"fill:#8daee7;\"/>\r\n   </g>\r\n   <g id=\"patch_13\">\r\n    <path clip-path=\"url(#pacce5d604c)\" d=\"M 68.214062 176.134154 \r\nL 106.062949 176.134154 \r\nL 106.062949 189.515077 \r\nL 68.214062 189.515077 \r\nz\r\n\" style=\"fill:#bfa3ea;\"/>\r\n   </g>\r\n   <g id=\"patch_14\">\r\n    <path clip-path=\"url(#pacce5d604c)\" d=\"M 68.214062 192.860308 \r\nL 91.286549 192.860308 \r\nL 91.286549 206.241231 \r\nL 68.214062 206.241231 \r\nz\r\n\" style=\"fill:#e689e6;\"/>\r\n   </g>\r\n   <g id=\"patch_15\">\r\n    <path clip-path=\"url(#pacce5d604c)\" d=\"M 68.214062 209.586462 \r\nL 68.214062 209.586462 \r\nL 68.214062 222.967385 \r\nL 68.214062 222.967385 \r\nz\r\n\" style=\"fill:#e891c3;\"/>\r\n   </g>\r\n   <g id=\"matplotlib.axis_1\">\r\n    <g id=\"xtick_1\">\r\n     <g id=\"line2d_1\">\r\n      <defs>\r\n       <path d=\"M 0 0 \r\nL 0 3.5 \r\n\" id=\"mafe7fa778a\" style=\"stroke:#000000;stroke-width:0.8;\"/>\r\n      </defs>\r\n      <g>\r\n       <use style=\"stroke:#000000;stroke-width:0.8;\" x=\"68.214062\" xlink:href=\"#mafe7fa778a\" y=\"224.64\"/>\r\n      </g>\r\n     </g>\r\n     <g id=\"text_1\">\r\n      <!-- 0 -->\r\n      <g transform=\"translate(65.032812 239.238438)scale(0.1 -0.1)\">\r\n       <defs>\r\n        <path d=\"M 31.78125 66.40625 \r\nQ 24.171875 66.40625 20.328125 58.90625 \r\nQ 16.5 51.421875 16.5 36.375 \r\nQ 16.5 21.390625 20.328125 13.890625 \r\nQ 24.171875 6.390625 31.78125 6.390625 \r\nQ 39.453125 6.390625 43.28125 13.890625 \r\nQ 47.125 21.390625 47.125 36.375 \r\nQ 47.125 51.421875 43.28125 58.90625 \r\nQ 39.453125 66.40625 31.78125 66.40625 \r\nz\r\nM 31.78125 74.21875 \r\nQ 44.046875 74.21875 50.515625 64.515625 \r\nQ 56.984375 54.828125 56.984375 36.375 \r\nQ 56.984375 17.96875 50.515625 8.265625 \r\nQ 44.046875 -1.421875 31.78125 -1.421875 \r\nQ 19.53125 -1.421875 13.0625 8.265625 \r\nQ 6.59375 17.96875 6.59375 36.375 \r\nQ 6.59375 54.828125 13.0625 64.515625 \r\nQ 19.53125 74.21875 31.78125 74.21875 \r\nz\r\n\" id=\"DejaVuSans-48\"/>\r\n       </defs>\r\n       <use xlink:href=\"#DejaVuSans-48\"/>\r\n      </g>\r\n     </g>\r\n    </g>\r\n    <g id=\"xtick_2\">\r\n     <g id=\"line2d_2\">\r\n      <g>\r\n       <use style=\"stroke:#000000;stroke-width:0.8;\" x=\"132.375593\" xlink:href=\"#mafe7fa778a\" y=\"224.64\"/>\r\n      </g>\r\n     </g>\r\n     <g id=\"text_2\">\r\n      <!-- 10000 -->\r\n      <g transform=\"translate(116.469343 239.238438)scale(0.1 -0.1)\">\r\n       <defs>\r\n        <path d=\"M 12.40625 8.296875 \r\nL 28.515625 8.296875 \r\nL 28.515625 63.921875 \r\nL 10.984375 60.40625 \r\nL 10.984375 69.390625 \r\nL 28.421875 72.90625 \r\nL 38.28125 72.90625 \r\nL 38.28125 8.296875 \r\nL 54.390625 8.296875 \r\nL 54.390625 0 \r\nL 12.40625 0 \r\nz\r\n\" id=\"DejaVuSans-49\"/>\r\n       </defs>\r\n       <use xlink:href=\"#DejaVuSans-49\"/>\r\n       <use x=\"63.623047\" xlink:href=\"#DejaVuSans-48\"/>\r\n       <use x=\"127.246094\" xlink:href=\"#DejaVuSans-48\"/>\r\n       <use x=\"190.869141\" xlink:href=\"#DejaVuSans-48\"/>\r\n       <use x=\"254.492188\" xlink:href=\"#DejaVuSans-48\"/>\r\n      </g>\r\n     </g>\r\n    </g>\r\n    <g id=\"xtick_3\">\r\n     <g id=\"line2d_3\">\r\n      <g>\r\n       <use style=\"stroke:#000000;stroke-width:0.8;\" x=\"196.537124\" xlink:href=\"#mafe7fa778a\" y=\"224.64\"/>\r\n      </g>\r\n     </g>\r\n     <g id=\"text_3\">\r\n      <!-- 20000 -->\r\n      <g transform=\"translate(180.630874 239.238438)scale(0.1 -0.1)\">\r\n       <defs>\r\n        <path d=\"M 19.1875 8.296875 \r\nL 53.609375 8.296875 \r\nL 53.609375 0 \r\nL 7.328125 0 \r\nL 7.328125 8.296875 \r\nQ 12.9375 14.109375 22.625 23.890625 \r\nQ 32.328125 33.6875 34.8125 36.53125 \r\nQ 39.546875 41.84375 41.421875 45.53125 \r\nQ 43.3125 49.21875 43.3125 52.78125 \r\nQ 43.3125 58.59375 39.234375 62.25 \r\nQ 35.15625 65.921875 28.609375 65.921875 \r\nQ 23.96875 65.921875 18.8125 64.3125 \r\nQ 13.671875 62.703125 7.8125 59.421875 \r\nL 7.8125 69.390625 \r\nQ 13.765625 71.78125 18.9375 73 \r\nQ 24.125 74.21875 28.421875 74.21875 \r\nQ 39.75 74.21875 46.484375 68.546875 \r\nQ 53.21875 62.890625 53.21875 53.421875 \r\nQ 53.21875 48.921875 51.53125 44.890625 \r\nQ 49.859375 40.875 45.40625 35.40625 \r\nQ 44.1875 33.984375 37.640625 27.21875 \r\nQ 31.109375 20.453125 19.1875 8.296875 \r\nz\r\n\" id=\"DejaVuSans-50\"/>\r\n       </defs>\r\n       <use xlink:href=\"#DejaVuSans-50\"/>\r\n       <use x=\"63.623047\" xlink:href=\"#DejaVuSans-48\"/>\r\n       <use x=\"127.246094\" xlink:href=\"#DejaVuSans-48\"/>\r\n       <use x=\"190.869141\" xlink:href=\"#DejaVuSans-48\"/>\r\n       <use x=\"254.492188\" xlink:href=\"#DejaVuSans-48\"/>\r\n      </g>\r\n     </g>\r\n    </g>\r\n    <g id=\"xtick_4\">\r\n     <g id=\"line2d_4\">\r\n      <g>\r\n       <use style=\"stroke:#000000;stroke-width:0.8;\" x=\"260.698655\" xlink:href=\"#mafe7fa778a\" y=\"224.64\"/>\r\n      </g>\r\n     </g>\r\n     <g id=\"text_4\">\r\n      <!-- 30000 -->\r\n      <g transform=\"translate(244.792405 239.238438)scale(0.1 -0.1)\">\r\n       <defs>\r\n        <path d=\"M 40.578125 39.3125 \r\nQ 47.65625 37.796875 51.625 33 \r\nQ 55.609375 28.21875 55.609375 21.1875 \r\nQ 55.609375 10.40625 48.1875 4.484375 \r\nQ 40.765625 -1.421875 27.09375 -1.421875 \r\nQ 22.515625 -1.421875 17.65625 -0.515625 \r\nQ 12.796875 0.390625 7.625 2.203125 \r\nL 7.625 11.71875 \r\nQ 11.71875 9.328125 16.59375 8.109375 \r\nQ 21.484375 6.890625 26.8125 6.890625 \r\nQ 36.078125 6.890625 40.9375 10.546875 \r\nQ 45.796875 14.203125 45.796875 21.1875 \r\nQ 45.796875 27.640625 41.28125 31.265625 \r\nQ 36.765625 34.90625 28.71875 34.90625 \r\nL 20.21875 34.90625 \r\nL 20.21875 43.015625 \r\nL 29.109375 43.015625 \r\nQ 36.375 43.015625 40.234375 45.921875 \r\nQ 44.09375 48.828125 44.09375 54.296875 \r\nQ 44.09375 59.90625 40.109375 62.90625 \r\nQ 36.140625 65.921875 28.71875 65.921875 \r\nQ 24.65625 65.921875 20.015625 65.03125 \r\nQ 15.375 64.15625 9.8125 62.3125 \r\nL 9.8125 71.09375 \r\nQ 15.4375 72.65625 20.34375 73.4375 \r\nQ 25.25 74.21875 29.59375 74.21875 \r\nQ 40.828125 74.21875 47.359375 69.109375 \r\nQ 53.90625 64.015625 53.90625 55.328125 \r\nQ 53.90625 49.265625 50.4375 45.09375 \r\nQ 46.96875 40.921875 40.578125 39.3125 \r\nz\r\n\" id=\"DejaVuSans-51\"/>\r\n       </defs>\r\n       <use xlink:href=\"#DejaVuSans-51\"/>\r\n       <use x=\"63.623047\" xlink:href=\"#DejaVuSans-48\"/>\r\n       <use x=\"127.246094\" xlink:href=\"#DejaVuSans-48\"/>\r\n       <use x=\"190.869141\" xlink:href=\"#DejaVuSans-48\"/>\r\n       <use x=\"254.492188\" xlink:href=\"#DejaVuSans-48\"/>\r\n      </g>\r\n     </g>\r\n    </g>\r\n    <g id=\"xtick_5\">\r\n     <g id=\"line2d_5\">\r\n      <g>\r\n       <use style=\"stroke:#000000;stroke-width:0.8;\" x=\"324.860185\" xlink:href=\"#mafe7fa778a\" y=\"224.64\"/>\r\n      </g>\r\n     </g>\r\n     <g id=\"text_5\">\r\n      <!-- 40000 -->\r\n      <g transform=\"translate(308.953935 239.238438)scale(0.1 -0.1)\">\r\n       <defs>\r\n        <path d=\"M 37.796875 64.3125 \r\nL 12.890625 25.390625 \r\nL 37.796875 25.390625 \r\nz\r\nM 35.203125 72.90625 \r\nL 47.609375 72.90625 \r\nL 47.609375 25.390625 \r\nL 58.015625 25.390625 \r\nL 58.015625 17.1875 \r\nL 47.609375 17.1875 \r\nL 47.609375 0 \r\nL 37.796875 0 \r\nL 37.796875 17.1875 \r\nL 4.890625 17.1875 \r\nL 4.890625 26.703125 \r\nz\r\n\" id=\"DejaVuSans-52\"/>\r\n       </defs>\r\n       <use xlink:href=\"#DejaVuSans-52\"/>\r\n       <use x=\"63.623047\" xlink:href=\"#DejaVuSans-48\"/>\r\n       <use x=\"127.246094\" xlink:href=\"#DejaVuSans-48\"/>\r\n       <use x=\"190.869141\" xlink:href=\"#DejaVuSans-48\"/>\r\n       <use x=\"254.492188\" xlink:href=\"#DejaVuSans-48\"/>\r\n      </g>\r\n     </g>\r\n    </g>\r\n    <g id=\"xtick_6\">\r\n     <g id=\"line2d_6\">\r\n      <g>\r\n       <use style=\"stroke:#000000;stroke-width:0.8;\" x=\"389.021716\" xlink:href=\"#mafe7fa778a\" y=\"224.64\"/>\r\n      </g>\r\n     </g>\r\n     <g id=\"text_6\">\r\n      <!-- 50000 -->\r\n      <g transform=\"translate(373.115466 239.238438)scale(0.1 -0.1)\">\r\n       <defs>\r\n        <path d=\"M 10.796875 72.90625 \r\nL 49.515625 72.90625 \r\nL 49.515625 64.59375 \r\nL 19.828125 64.59375 \r\nL 19.828125 46.734375 \r\nQ 21.96875 47.46875 24.109375 47.828125 \r\nQ 26.265625 48.1875 28.421875 48.1875 \r\nQ 40.625 48.1875 47.75 41.5 \r\nQ 54.890625 34.8125 54.890625 23.390625 \r\nQ 54.890625 11.625 47.5625 5.09375 \r\nQ 40.234375 -1.421875 26.90625 -1.421875 \r\nQ 22.3125 -1.421875 17.546875 -0.640625 \r\nQ 12.796875 0.140625 7.71875 1.703125 \r\nL 7.71875 11.625 \r\nQ 12.109375 9.234375 16.796875 8.0625 \r\nQ 21.484375 6.890625 26.703125 6.890625 \r\nQ 35.15625 6.890625 40.078125 11.328125 \r\nQ 45.015625 15.765625 45.015625 23.390625 \r\nQ 45.015625 31 40.078125 35.4375 \r\nQ 35.15625 39.890625 26.703125 39.890625 \r\nQ 22.75 39.890625 18.8125 39.015625 \r\nQ 14.890625 38.140625 10.796875 36.28125 \r\nz\r\n\" id=\"DejaVuSans-53\"/>\r\n       </defs>\r\n       <use xlink:href=\"#DejaVuSans-53\"/>\r\n       <use x=\"63.623047\" xlink:href=\"#DejaVuSans-48\"/>\r\n       <use x=\"127.246094\" xlink:href=\"#DejaVuSans-48\"/>\r\n       <use x=\"190.869141\" xlink:href=\"#DejaVuSans-48\"/>\r\n       <use x=\"254.492188\" xlink:href=\"#DejaVuSans-48\"/>\r\n      </g>\r\n     </g>\r\n    </g>\r\n   </g>\r\n   <g id=\"matplotlib.axis_2\">\r\n    <g id=\"ytick_1\">\r\n     <g id=\"line2d_7\">\r\n      <defs>\r\n       <path d=\"M 0 0 \r\nL -3.5 0 \r\n\" id=\"mbf57924e72\" style=\"stroke:#000000;stroke-width:0.8;\"/>\r\n      </defs>\r\n      <g>\r\n       <use style=\"stroke:#000000;stroke-width:0.8;\" x=\"68.214062\" xlink:href=\"#mbf57924e72\" y=\"15.563077\"/>\r\n      </g>\r\n     </g>\r\n     <g id=\"text_7\">\r\n      <!-- num -->\r\n      <g transform=\"translate(38.798437 19.362296)scale(0.1 -0.1)\">\r\n       <defs>\r\n        <path d=\"M 54.890625 33.015625 \r\nL 54.890625 0 \r\nL 45.90625 0 \r\nL 45.90625 32.71875 \r\nQ 45.90625 40.484375 42.875 44.328125 \r\nQ 39.84375 48.1875 33.796875 48.1875 \r\nQ 26.515625 48.1875 22.3125 43.546875 \r\nQ 18.109375 38.921875 18.109375 30.90625 \r\nL 18.109375 0 \r\nL 9.078125 0 \r\nL 9.078125 54.6875 \r\nL 18.109375 54.6875 \r\nL 18.109375 46.1875 \r\nQ 21.34375 51.125 25.703125 53.5625 \r\nQ 30.078125 56 35.796875 56 \r\nQ 45.21875 56 50.046875 50.171875 \r\nQ 54.890625 44.34375 54.890625 33.015625 \r\nz\r\n\" id=\"DejaVuSans-110\"/>\r\n        <path d=\"M 8.5 21.578125 \r\nL 8.5 54.6875 \r\nL 17.484375 54.6875 \r\nL 17.484375 21.921875 \r\nQ 17.484375 14.15625 20.5 10.265625 \r\nQ 23.53125 6.390625 29.59375 6.390625 \r\nQ 36.859375 6.390625 41.078125 11.03125 \r\nQ 45.3125 15.671875 45.3125 23.6875 \r\nL 45.3125 54.6875 \r\nL 54.296875 54.6875 \r\nL 54.296875 0 \r\nL 45.3125 0 \r\nL 45.3125 8.40625 \r\nQ 42.046875 3.421875 37.71875 1 \r\nQ 33.40625 -1.421875 27.6875 -1.421875 \r\nQ 18.265625 -1.421875 13.375 4.4375 \r\nQ 8.5 10.296875 8.5 21.578125 \r\nz\r\nM 31.109375 56 \r\nz\r\n\" id=\"DejaVuSans-117\"/>\r\n        <path d=\"M 52 44.1875 \r\nQ 55.375 50.25 60.0625 53.125 \r\nQ 64.75 56 71.09375 56 \r\nQ 79.640625 56 84.28125 50.015625 \r\nQ 88.921875 44.046875 88.921875 33.015625 \r\nL 88.921875 0 \r\nL 79.890625 0 \r\nL 79.890625 32.71875 \r\nQ 79.890625 40.578125 77.09375 44.375 \r\nQ 74.3125 48.1875 68.609375 48.1875 \r\nQ 61.625 48.1875 57.5625 43.546875 \r\nQ 53.515625 38.921875 53.515625 30.90625 \r\nL 53.515625 0 \r\nL 44.484375 0 \r\nL 44.484375 32.71875 \r\nQ 44.484375 40.625 41.703125 44.40625 \r\nQ 38.921875 48.1875 33.109375 48.1875 \r\nQ 26.21875 48.1875 22.15625 43.53125 \r\nQ 18.109375 38.875 18.109375 30.90625 \r\nL 18.109375 0 \r\nL 9.078125 0 \r\nL 9.078125 54.6875 \r\nL 18.109375 54.6875 \r\nL 18.109375 46.1875 \r\nQ 21.1875 51.21875 25.484375 53.609375 \r\nQ 29.78125 56 35.6875 56 \r\nQ 41.65625 56 45.828125 52.96875 \r\nQ 50 49.953125 52 44.1875 \r\nz\r\n\" id=\"DejaVuSans-109\"/>\r\n       </defs>\r\n       <use xlink:href=\"#DejaVuSans-110\"/>\r\n       <use x=\"63.378906\" xlink:href=\"#DejaVuSans-117\"/>\r\n       <use x=\"126.757812\" xlink:href=\"#DejaVuSans-109\"/>\r\n      </g>\r\n     </g>\r\n    </g>\r\n    <g id=\"ytick_2\">\r\n     <g id=\"line2d_8\">\r\n      <g>\r\n       <use style=\"stroke:#000000;stroke-width:0.8;\" x=\"68.214062\" xlink:href=\"#mbf57924e72\" y=\"32.289231\"/>\r\n      </g>\r\n     </g>\r\n     <g id=\"text_8\">\r\n      <!-- 기온(°C) -->\r\n      <g transform=\"translate(29.425 36.08845)scale(0.1 -0.1)\">\r\n       <defs>\r\n        <path d=\"M 4.984375 -17.671875 \r\nL 4.984375 70.515625 \r\nL 54.984375 70.515625 \r\nL 54.984375 -17.671875 \r\nz\r\nM 10.59375 -12.109375 \r\nL 49.421875 -12.109375 \r\nL 49.421875 64.890625 \r\nL 10.59375 64.890625 \r\nz\r\n\" id=\"DejaVuSans-44592\"/>\r\n        <path d=\"M 4.984375 -17.671875 \r\nL 4.984375 70.515625 \r\nL 54.984375 70.515625 \r\nL 54.984375 -17.671875 \r\nz\r\nM 10.59375 -12.109375 \r\nL 49.421875 -12.109375 \r\nL 49.421875 64.890625 \r\nL 10.59375 64.890625 \r\nz\r\n\" id=\"DejaVuSans-50728\"/>\r\n        <path d=\"M 31 75.875 \r\nQ 24.46875 64.65625 21.28125 53.65625 \r\nQ 18.109375 42.671875 18.109375 31.390625 \r\nQ 18.109375 20.125 21.3125 9.0625 \r\nQ 24.515625 -2 31 -13.1875 \r\nL 23.1875 -13.1875 \r\nQ 15.875 -1.703125 12.234375 9.375 \r\nQ 8.59375 20.453125 8.59375 31.390625 \r\nQ 8.59375 42.28125 12.203125 53.3125 \r\nQ 15.828125 64.359375 23.1875 75.875 \r\nz\r\n\" id=\"DejaVuSans-40\"/>\r\n        <path d=\"M 25 67.921875 \r\nQ 21.09375 67.921875 18.40625 65.203125 \r\nQ 15.71875 62.5 15.71875 58.59375 \r\nQ 15.71875 54.734375 18.40625 52.078125 \r\nQ 21.09375 49.421875 25 49.421875 \r\nQ 28.90625 49.421875 31.59375 52.078125 \r\nQ 34.28125 54.734375 34.28125 58.59375 \r\nQ 34.28125 62.453125 31.5625 65.1875 \r\nQ 28.859375 67.921875 25 67.921875 \r\nz\r\nM 25 74.21875 \r\nQ 28.125 74.21875 31 73.015625 \r\nQ 33.890625 71.828125 35.984375 69.578125 \r\nQ 38.234375 67.390625 39.359375 64.59375 \r\nQ 40.484375 61.8125 40.484375 58.59375 \r\nQ 40.484375 52.15625 35.96875 47.6875 \r\nQ 31.453125 43.21875 24.90625 43.21875 \r\nQ 18.3125 43.21875 13.90625 47.609375 \r\nQ 9.515625 52 9.515625 58.59375 \r\nQ 9.515625 65.140625 14 69.671875 \r\nQ 18.5 74.21875 25 74.21875 \r\nz\r\n\" id=\"DejaVuSans-176\"/>\r\n        <path d=\"M 64.40625 67.28125 \r\nL 64.40625 56.890625 \r\nQ 59.421875 61.53125 53.78125 63.8125 \r\nQ 48.140625 66.109375 41.796875 66.109375 \r\nQ 29.296875 66.109375 22.65625 58.46875 \r\nQ 16.015625 50.828125 16.015625 36.375 \r\nQ 16.015625 21.96875 22.65625 14.328125 \r\nQ 29.296875 6.6875 41.796875 6.6875 \r\nQ 48.140625 6.6875 53.78125 8.984375 \r\nQ 59.421875 11.28125 64.40625 15.921875 \r\nL 64.40625 5.609375 \r\nQ 59.234375 2.09375 53.4375 0.328125 \r\nQ 47.65625 -1.421875 41.21875 -1.421875 \r\nQ 24.65625 -1.421875 15.125 8.703125 \r\nQ 5.609375 18.84375 5.609375 36.375 \r\nQ 5.609375 53.953125 15.125 64.078125 \r\nQ 24.65625 74.21875 41.21875 74.21875 \r\nQ 47.75 74.21875 53.53125 72.484375 \r\nQ 59.328125 70.75 64.40625 67.28125 \r\nz\r\n\" id=\"DejaVuSans-67\"/>\r\n        <path d=\"M 8.015625 75.875 \r\nL 15.828125 75.875 \r\nQ 23.140625 64.359375 26.78125 53.3125 \r\nQ 30.421875 42.28125 30.421875 31.390625 \r\nQ 30.421875 20.453125 26.78125 9.375 \r\nQ 23.140625 -1.703125 15.828125 -13.1875 \r\nL 8.015625 -13.1875 \r\nQ 14.5 -2 17.703125 9.0625 \r\nQ 20.90625 20.125 20.90625 31.390625 \r\nQ 20.90625 42.671875 17.703125 53.65625 \r\nQ 14.5 64.65625 8.015625 75.875 \r\nz\r\n\" id=\"DejaVuSans-41\"/>\r\n       </defs>\r\n       <use xlink:href=\"#DejaVuSans-44592\"/>\r\n       <use x=\"60.009766\" xlink:href=\"#DejaVuSans-50728\"/>\r\n       <use x=\"120.019531\" xlink:href=\"#DejaVuSans-40\"/>\r\n       <use x=\"159.033203\" xlink:href=\"#DejaVuSans-176\"/>\r\n       <use x=\"209.033203\" xlink:href=\"#DejaVuSans-67\"/>\r\n       <use x=\"278.857422\" xlink:href=\"#DejaVuSans-41\"/>\r\n      </g>\r\n     </g>\r\n    </g>\r\n    <g id=\"ytick_3\">\r\n     <g id=\"line2d_9\">\r\n      <g>\r\n       <use style=\"stroke:#000000;stroke-width:0.8;\" x=\"68.214062\" xlink:href=\"#mbf57924e72\" y=\"49.015385\"/>\r\n      </g>\r\n     </g>\r\n     <g id=\"text_9\">\r\n      <!-- 풍속(m/s) -->\r\n      <g transform=\"translate(23.089062 52.814603)scale(0.1 -0.1)\">\r\n       <defs>\r\n        <path d=\"M 4.984375 -17.671875 \r\nL 4.984375 70.515625 \r\nL 54.984375 70.515625 \r\nL 54.984375 -17.671875 \r\nz\r\nM 10.59375 -12.109375 \r\nL 49.421875 -12.109375 \r\nL 49.421875 64.890625 \r\nL 10.59375 64.890625 \r\nz\r\n\" id=\"DejaVuSans-54413\"/>\r\n        <path d=\"M 4.984375 -17.671875 \r\nL 4.984375 70.515625 \r\nL 54.984375 70.515625 \r\nL 54.984375 -17.671875 \r\nz\r\nM 10.59375 -12.109375 \r\nL 49.421875 -12.109375 \r\nL 49.421875 64.890625 \r\nL 10.59375 64.890625 \r\nz\r\n\" id=\"DejaVuSans-49549\"/>\r\n        <path d=\"M 25.390625 72.90625 \r\nL 33.6875 72.90625 \r\nL 8.296875 -9.28125 \r\nL 0 -9.28125 \r\nz\r\n\" id=\"DejaVuSans-47\"/>\r\n        <path d=\"M 44.28125 53.078125 \r\nL 44.28125 44.578125 \r\nQ 40.484375 46.53125 36.375 47.5 \r\nQ 32.28125 48.484375 27.875 48.484375 \r\nQ 21.1875 48.484375 17.84375 46.4375 \r\nQ 14.5 44.390625 14.5 40.28125 \r\nQ 14.5 37.15625 16.890625 35.375 \r\nQ 19.28125 33.59375 26.515625 31.984375 \r\nL 29.59375 31.296875 \r\nQ 39.15625 29.25 43.1875 25.515625 \r\nQ 47.21875 21.78125 47.21875 15.09375 \r\nQ 47.21875 7.46875 41.1875 3.015625 \r\nQ 35.15625 -1.421875 24.609375 -1.421875 \r\nQ 20.21875 -1.421875 15.453125 -0.5625 \r\nQ 10.6875 0.296875 5.421875 2 \r\nL 5.421875 11.28125 \r\nQ 10.40625 8.6875 15.234375 7.390625 \r\nQ 20.0625 6.109375 24.8125 6.109375 \r\nQ 31.15625 6.109375 34.5625 8.28125 \r\nQ 37.984375 10.453125 37.984375 14.40625 \r\nQ 37.984375 18.0625 35.515625 20.015625 \r\nQ 33.0625 21.96875 24.703125 23.78125 \r\nL 21.578125 24.515625 \r\nQ 13.234375 26.265625 9.515625 29.90625 \r\nQ 5.8125 33.546875 5.8125 39.890625 \r\nQ 5.8125 47.609375 11.28125 51.796875 \r\nQ 16.75 56 26.8125 56 \r\nQ 31.78125 56 36.171875 55.265625 \r\nQ 40.578125 54.546875 44.28125 53.078125 \r\nz\r\n\" id=\"DejaVuSans-115\"/>\r\n       </defs>\r\n       <use xlink:href=\"#DejaVuSans-54413\"/>\r\n       <use x=\"60.009766\" xlink:href=\"#DejaVuSans-49549\"/>\r\n       <use x=\"120.019531\" xlink:href=\"#DejaVuSans-40\"/>\r\n       <use x=\"159.033203\" xlink:href=\"#DejaVuSans-109\"/>\r\n       <use x=\"256.445312\" xlink:href=\"#DejaVuSans-47\"/>\r\n       <use x=\"290.136719\" xlink:href=\"#DejaVuSans-115\"/>\r\n       <use x=\"342.236328\" xlink:href=\"#DejaVuSans-41\"/>\r\n      </g>\r\n     </g>\r\n    </g>\r\n    <g id=\"ytick_4\">\r\n     <g id=\"line2d_10\">\r\n      <g>\r\n       <use style=\"stroke:#000000;stroke-width:0.8;\" x=\"68.214062\" xlink:href=\"#mbf57924e72\" y=\"65.741538\"/>\r\n      </g>\r\n     </g>\r\n     <g id=\"text_10\">\r\n      <!-- 습도(%) -->\r\n      <g transform=\"translate(31.90625 69.540757)scale(0.1 -0.1)\">\r\n       <defs>\r\n        <path d=\"M 4.984375 -17.671875 \r\nL 4.984375 70.515625 \r\nL 54.984375 70.515625 \r\nL 54.984375 -17.671875 \r\nz\r\nM 10.59375 -12.109375 \r\nL 49.421875 -12.109375 \r\nL 49.421875 64.890625 \r\nL 10.59375 64.890625 \r\nz\r\n\" id=\"DejaVuSans-49845\"/>\r\n        <path d=\"M 4.984375 -17.671875 \r\nL 4.984375 70.515625 \r\nL 54.984375 70.515625 \r\nL 54.984375 -17.671875 \r\nz\r\nM 10.59375 -12.109375 \r\nL 49.421875 -12.109375 \r\nL 49.421875 64.890625 \r\nL 10.59375 64.890625 \r\nz\r\n\" id=\"DejaVuSans-46020\"/>\r\n        <path d=\"M 72.703125 32.078125 \r\nQ 68.453125 32.078125 66.03125 28.46875 \r\nQ 63.625 24.859375 63.625 18.40625 \r\nQ 63.625 12.0625 66.03125 8.421875 \r\nQ 68.453125 4.78125 72.703125 4.78125 \r\nQ 76.859375 4.78125 79.265625 8.421875 \r\nQ 81.6875 12.0625 81.6875 18.40625 \r\nQ 81.6875 24.8125 79.265625 28.4375 \r\nQ 76.859375 32.078125 72.703125 32.078125 \r\nz\r\nM 72.703125 38.28125 \r\nQ 80.421875 38.28125 84.953125 32.90625 \r\nQ 89.5 27.546875 89.5 18.40625 \r\nQ 89.5 9.28125 84.9375 3.921875 \r\nQ 80.375 -1.421875 72.703125 -1.421875 \r\nQ 64.890625 -1.421875 60.34375 3.921875 \r\nQ 55.8125 9.28125 55.8125 18.40625 \r\nQ 55.8125 27.59375 60.375 32.9375 \r\nQ 64.9375 38.28125 72.703125 38.28125 \r\nz\r\nM 22.3125 68.015625 \r\nQ 18.109375 68.015625 15.6875 64.375 \r\nQ 13.28125 60.75 13.28125 54.390625 \r\nQ 13.28125 47.953125 15.671875 44.328125 \r\nQ 18.0625 40.71875 22.3125 40.71875 \r\nQ 26.5625 40.71875 28.96875 44.328125 \r\nQ 31.390625 47.953125 31.390625 54.390625 \r\nQ 31.390625 60.6875 28.953125 64.34375 \r\nQ 26.515625 68.015625 22.3125 68.015625 \r\nz\r\nM 66.40625 74.21875 \r\nL 74.21875 74.21875 \r\nL 28.609375 -1.421875 \r\nL 20.796875 -1.421875 \r\nz\r\nM 22.3125 74.21875 \r\nQ 30.03125 74.21875 34.609375 68.875 \r\nQ 39.203125 63.53125 39.203125 54.390625 \r\nQ 39.203125 45.171875 34.640625 39.84375 \r\nQ 30.078125 34.515625 22.3125 34.515625 \r\nQ 14.546875 34.515625 10.03125 39.859375 \r\nQ 5.515625 45.21875 5.515625 54.390625 \r\nQ 5.515625 63.484375 10.046875 68.84375 \r\nQ 14.59375 74.21875 22.3125 74.21875 \r\nz\r\n\" id=\"DejaVuSans-37\"/>\r\n       </defs>\r\n       <use xlink:href=\"#DejaVuSans-49845\"/>\r\n       <use x=\"60.009766\" xlink:href=\"#DejaVuSans-46020\"/>\r\n       <use x=\"120.019531\" xlink:href=\"#DejaVuSans-40\"/>\r\n       <use x=\"159.033203\" xlink:href=\"#DejaVuSans-37\"/>\r\n       <use x=\"254.052734\" xlink:href=\"#DejaVuSans-41\"/>\r\n      </g>\r\n     </g>\r\n    </g>\r\n    <g id=\"ytick_5\">\r\n     <g id=\"line2d_11\">\r\n      <g>\r\n       <use style=\"stroke:#000000;stroke-width:0.8;\" x=\"68.214062\" xlink:href=\"#mbf57924e72\" y=\"82.467692\"/>\r\n      </g>\r\n     </g>\r\n     <g id=\"text_11\">\r\n      <!-- time -->\r\n      <g transform=\"translate(38.621875 86.266911)scale(0.1 -0.1)\">\r\n       <defs>\r\n        <path d=\"M 18.3125 70.21875 \r\nL 18.3125 54.6875 \r\nL 36.8125 54.6875 \r\nL 36.8125 47.703125 \r\nL 18.3125 47.703125 \r\nL 18.3125 18.015625 \r\nQ 18.3125 11.328125 20.140625 9.421875 \r\nQ 21.96875 7.515625 27.59375 7.515625 \r\nL 36.8125 7.515625 \r\nL 36.8125 0 \r\nL 27.59375 0 \r\nQ 17.1875 0 13.234375 3.875 \r\nQ 9.28125 7.765625 9.28125 18.015625 \r\nL 9.28125 47.703125 \r\nL 2.6875 47.703125 \r\nL 2.6875 54.6875 \r\nL 9.28125 54.6875 \r\nL 9.28125 70.21875 \r\nz\r\n\" id=\"DejaVuSans-116\"/>\r\n        <path d=\"M 9.421875 54.6875 \r\nL 18.40625 54.6875 \r\nL 18.40625 0 \r\nL 9.421875 0 \r\nz\r\nM 9.421875 75.984375 \r\nL 18.40625 75.984375 \r\nL 18.40625 64.59375 \r\nL 9.421875 64.59375 \r\nz\r\n\" id=\"DejaVuSans-105\"/>\r\n        <path d=\"M 56.203125 29.59375 \r\nL 56.203125 25.203125 \r\nL 14.890625 25.203125 \r\nQ 15.484375 15.921875 20.484375 11.0625 \r\nQ 25.484375 6.203125 34.421875 6.203125 \r\nQ 39.59375 6.203125 44.453125 7.46875 \r\nQ 49.3125 8.734375 54.109375 11.28125 \r\nL 54.109375 2.78125 \r\nQ 49.265625 0.734375 44.1875 -0.34375 \r\nQ 39.109375 -1.421875 33.890625 -1.421875 \r\nQ 20.796875 -1.421875 13.15625 6.1875 \r\nQ 5.515625 13.8125 5.515625 26.8125 \r\nQ 5.515625 40.234375 12.765625 48.109375 \r\nQ 20.015625 56 32.328125 56 \r\nQ 43.359375 56 49.78125 48.890625 \r\nQ 56.203125 41.796875 56.203125 29.59375 \r\nz\r\nM 47.21875 32.234375 \r\nQ 47.125 39.59375 43.09375 43.984375 \r\nQ 39.0625 48.390625 32.421875 48.390625 \r\nQ 24.90625 48.390625 20.390625 44.140625 \r\nQ 15.875 39.890625 15.1875 32.171875 \r\nz\r\n\" id=\"DejaVuSans-101\"/>\r\n       </defs>\r\n       <use xlink:href=\"#DejaVuSans-116\"/>\r\n       <use x=\"39.208984\" xlink:href=\"#DejaVuSans-105\"/>\r\n       <use x=\"66.992188\" xlink:href=\"#DejaVuSans-109\"/>\r\n       <use x=\"164.404297\" xlink:href=\"#DejaVuSans-101\"/>\r\n      </g>\r\n     </g>\r\n    </g>\r\n    <g id=\"ytick_6\">\r\n     <g id=\"line2d_12\">\r\n      <g>\r\n       <use style=\"stroke:#000000;stroke-width:0.8;\" x=\"68.214062\" xlink:href=\"#mbf57924e72\" y=\"99.193846\"/>\r\n      </g>\r\n     </g>\r\n     <g id=\"text_12\">\r\n      <!-- weekday -->\r\n      <g transform=\"translate(16.54375 102.993065)scale(0.1 -0.1)\">\r\n       <defs>\r\n        <path d=\"M 4.203125 54.6875 \r\nL 13.1875 54.6875 \r\nL 24.421875 12.015625 \r\nL 35.59375 54.6875 \r\nL 46.1875 54.6875 \r\nL 57.421875 12.015625 \r\nL 68.609375 54.6875 \r\nL 77.59375 54.6875 \r\nL 63.28125 0 \r\nL 52.6875 0 \r\nL 40.921875 44.828125 \r\nL 29.109375 0 \r\nL 18.5 0 \r\nz\r\n\" id=\"DejaVuSans-119\"/>\r\n        <path d=\"M 9.078125 75.984375 \r\nL 18.109375 75.984375 \r\nL 18.109375 31.109375 \r\nL 44.921875 54.6875 \r\nL 56.390625 54.6875 \r\nL 27.390625 29.109375 \r\nL 57.625 0 \r\nL 45.90625 0 \r\nL 18.109375 26.703125 \r\nL 18.109375 0 \r\nL 9.078125 0 \r\nz\r\n\" id=\"DejaVuSans-107\"/>\r\n        <path d=\"M 45.40625 46.390625 \r\nL 45.40625 75.984375 \r\nL 54.390625 75.984375 \r\nL 54.390625 0 \r\nL 45.40625 0 \r\nL 45.40625 8.203125 \r\nQ 42.578125 3.328125 38.25 0.953125 \r\nQ 33.9375 -1.421875 27.875 -1.421875 \r\nQ 17.96875 -1.421875 11.734375 6.484375 \r\nQ 5.515625 14.40625 5.515625 27.296875 \r\nQ 5.515625 40.1875 11.734375 48.09375 \r\nQ 17.96875 56 27.875 56 \r\nQ 33.9375 56 38.25 53.625 \r\nQ 42.578125 51.265625 45.40625 46.390625 \r\nz\r\nM 14.796875 27.296875 \r\nQ 14.796875 17.390625 18.875 11.75 \r\nQ 22.953125 6.109375 30.078125 6.109375 \r\nQ 37.203125 6.109375 41.296875 11.75 \r\nQ 45.40625 17.390625 45.40625 27.296875 \r\nQ 45.40625 37.203125 41.296875 42.84375 \r\nQ 37.203125 48.484375 30.078125 48.484375 \r\nQ 22.953125 48.484375 18.875 42.84375 \r\nQ 14.796875 37.203125 14.796875 27.296875 \r\nz\r\n\" id=\"DejaVuSans-100\"/>\r\n        <path d=\"M 34.28125 27.484375 \r\nQ 23.390625 27.484375 19.1875 25 \r\nQ 14.984375 22.515625 14.984375 16.5 \r\nQ 14.984375 11.71875 18.140625 8.90625 \r\nQ 21.296875 6.109375 26.703125 6.109375 \r\nQ 34.1875 6.109375 38.703125 11.40625 \r\nQ 43.21875 16.703125 43.21875 25.484375 \r\nL 43.21875 27.484375 \r\nz\r\nM 52.203125 31.203125 \r\nL 52.203125 0 \r\nL 43.21875 0 \r\nL 43.21875 8.296875 \r\nQ 40.140625 3.328125 35.546875 0.953125 \r\nQ 30.953125 -1.421875 24.3125 -1.421875 \r\nQ 15.921875 -1.421875 10.953125 3.296875 \r\nQ 6 8.015625 6 15.921875 \r\nQ 6 25.140625 12.171875 29.828125 \r\nQ 18.359375 34.515625 30.609375 34.515625 \r\nL 43.21875 34.515625 \r\nL 43.21875 35.40625 \r\nQ 43.21875 41.609375 39.140625 45 \r\nQ 35.0625 48.390625 27.6875 48.390625 \r\nQ 23 48.390625 18.546875 47.265625 \r\nQ 14.109375 46.140625 10.015625 43.890625 \r\nL 10.015625 52.203125 \r\nQ 14.9375 54.109375 19.578125 55.046875 \r\nQ 24.21875 56 28.609375 56 \r\nQ 40.484375 56 46.34375 49.84375 \r\nQ 52.203125 43.703125 52.203125 31.203125 \r\nz\r\n\" id=\"DejaVuSans-97\"/>\r\n        <path d=\"M 32.171875 -5.078125 \r\nQ 28.375 -14.84375 24.75 -17.8125 \r\nQ 21.140625 -20.796875 15.09375 -20.796875 \r\nL 7.90625 -20.796875 \r\nL 7.90625 -13.28125 \r\nL 13.1875 -13.28125 \r\nQ 16.890625 -13.28125 18.9375 -11.515625 \r\nQ 21 -9.765625 23.484375 -3.21875 \r\nL 25.09375 0.875 \r\nL 2.984375 54.6875 \r\nL 12.5 54.6875 \r\nL 29.59375 11.921875 \r\nL 46.6875 54.6875 \r\nL 56.203125 54.6875 \r\nz\r\n\" id=\"DejaVuSans-121\"/>\r\n       </defs>\r\n       <use xlink:href=\"#DejaVuSans-119\"/>\r\n       <use x=\"81.787109\" xlink:href=\"#DejaVuSans-101\"/>\r\n       <use x=\"143.310547\" xlink:href=\"#DejaVuSans-101\"/>\r\n       <use x=\"204.833984\" xlink:href=\"#DejaVuSans-107\"/>\r\n       <use x=\"262.744141\" xlink:href=\"#DejaVuSans-100\"/>\r\n       <use x=\"326.220703\" xlink:href=\"#DejaVuSans-97\"/>\r\n       <use x=\"387.5\" xlink:href=\"#DejaVuSans-121\"/>\r\n      </g>\r\n     </g>\r\n    </g>\r\n    <g id=\"ytick_7\">\r\n     <g id=\"line2d_13\">\r\n      <g>\r\n       <use style=\"stroke:#000000;stroke-width:0.8;\" x=\"68.214062\" xlink:href=\"#mbf57924e72\" y=\"115.92\"/>\r\n      </g>\r\n     </g>\r\n     <g id=\"text_13\">\r\n      <!-- ass -->\r\n      <g transform=\"translate(44.667187 119.719219)scale(0.1 -0.1)\">\r\n       <use xlink:href=\"#DejaVuSans-97\"/>\r\n       <use x=\"61.279297\" xlink:href=\"#DejaVuSans-115\"/>\r\n       <use x=\"113.378906\" xlink:href=\"#DejaVuSans-115\"/>\r\n      </g>\r\n     </g>\r\n    </g>\r\n    <g id=\"ytick_8\">\r\n     <g id=\"line2d_14\">\r\n      <g>\r\n       <use style=\"stroke:#000000;stroke-width:0.8;\" x=\"68.214062\" xlink:href=\"#mbf57924e72\" y=\"132.646154\"/>\r\n      </g>\r\n     </g>\r\n     <g id=\"text_14\">\r\n      <!-- 일조(hr) -->\r\n      <g transform=\"translate(30.959375 136.445373)scale(0.1 -0.1)\">\r\n       <defs>\r\n        <path d=\"M 4.984375 -17.671875 \r\nL 4.984375 70.515625 \r\nL 54.984375 70.515625 \r\nL 54.984375 -17.671875 \r\nz\r\nM 10.59375 -12.109375 \r\nL 49.421875 -12.109375 \r\nL 49.421875 64.890625 \r\nL 10.59375 64.890625 \r\nz\r\n\" id=\"DejaVuSans-51068\"/>\r\n        <path d=\"M 4.984375 -17.671875 \r\nL 4.984375 70.515625 \r\nL 54.984375 70.515625 \r\nL 54.984375 -17.671875 \r\nz\r\nM 10.59375 -12.109375 \r\nL 49.421875 -12.109375 \r\nL 49.421875 64.890625 \r\nL 10.59375 64.890625 \r\nz\r\n\" id=\"DejaVuSans-51312\"/>\r\n        <path d=\"M 54.890625 33.015625 \r\nL 54.890625 0 \r\nL 45.90625 0 \r\nL 45.90625 32.71875 \r\nQ 45.90625 40.484375 42.875 44.328125 \r\nQ 39.84375 48.1875 33.796875 48.1875 \r\nQ 26.515625 48.1875 22.3125 43.546875 \r\nQ 18.109375 38.921875 18.109375 30.90625 \r\nL 18.109375 0 \r\nL 9.078125 0 \r\nL 9.078125 75.984375 \r\nL 18.109375 75.984375 \r\nL 18.109375 46.1875 \r\nQ 21.34375 51.125 25.703125 53.5625 \r\nQ 30.078125 56 35.796875 56 \r\nQ 45.21875 56 50.046875 50.171875 \r\nQ 54.890625 44.34375 54.890625 33.015625 \r\nz\r\n\" id=\"DejaVuSans-104\"/>\r\n        <path d=\"M 41.109375 46.296875 \r\nQ 39.59375 47.171875 37.8125 47.578125 \r\nQ 36.03125 48 33.890625 48 \r\nQ 26.265625 48 22.1875 43.046875 \r\nQ 18.109375 38.09375 18.109375 28.8125 \r\nL 18.109375 0 \r\nL 9.078125 0 \r\nL 9.078125 54.6875 \r\nL 18.109375 54.6875 \r\nL 18.109375 46.1875 \r\nQ 20.953125 51.171875 25.484375 53.578125 \r\nQ 30.03125 56 36.53125 56 \r\nQ 37.453125 56 38.578125 55.875 \r\nQ 39.703125 55.765625 41.0625 55.515625 \r\nz\r\n\" id=\"DejaVuSans-114\"/>\r\n       </defs>\r\n       <use xlink:href=\"#DejaVuSans-51068\"/>\r\n       <use x=\"60.009766\" xlink:href=\"#DejaVuSans-51312\"/>\r\n       <use x=\"120.019531\" xlink:href=\"#DejaVuSans-40\"/>\r\n       <use x=\"159.033203\" xlink:href=\"#DejaVuSans-104\"/>\r\n       <use x=\"222.412109\" xlink:href=\"#DejaVuSans-114\"/>\r\n       <use x=\"263.525391\" xlink:href=\"#DejaVuSans-41\"/>\r\n      </g>\r\n     </g>\r\n    </g>\r\n    <g id=\"ytick_9\">\r\n     <g id=\"line2d_15\">\r\n      <g>\r\n       <use style=\"stroke:#000000;stroke-width:0.8;\" x=\"68.214062\" xlink:href=\"#mbf57924e72\" y=\"149.372308\"/>\r\n      </g>\r\n     </g>\r\n     <g id=\"text_15\">\r\n      <!-- 강수량(mm) -->\r\n      <g transform=\"translate(15.925 153.171526)scale(0.1 -0.1)\">\r\n       <defs>\r\n        <path d=\"M 4.984375 -17.671875 \r\nL 4.984375 70.515625 \r\nL 54.984375 70.515625 \r\nL 54.984375 -17.671875 \r\nz\r\nM 10.59375 -12.109375 \r\nL 49.421875 -12.109375 \r\nL 49.421875 64.890625 \r\nL 10.59375 64.890625 \r\nz\r\n\" id=\"DejaVuSans-44053\"/>\r\n        <path d=\"M 4.984375 -17.671875 \r\nL 4.984375 70.515625 \r\nL 54.984375 70.515625 \r\nL 54.984375 -17.671875 \r\nz\r\nM 10.59375 -12.109375 \r\nL 49.421875 -12.109375 \r\nL 49.421875 64.890625 \r\nL 10.59375 64.890625 \r\nz\r\n\" id=\"DejaVuSans-49688\"/>\r\n        <path d=\"M 4.984375 -17.671875 \r\nL 4.984375 70.515625 \r\nL 54.984375 70.515625 \r\nL 54.984375 -17.671875 \r\nz\r\nM 10.59375 -12.109375 \r\nL 49.421875 -12.109375 \r\nL 49.421875 64.890625 \r\nL 10.59375 64.890625 \r\nz\r\n\" id=\"DejaVuSans-47049\"/>\r\n       </defs>\r\n       <use xlink:href=\"#DejaVuSans-44053\"/>\r\n       <use x=\"60.009766\" xlink:href=\"#DejaVuSans-49688\"/>\r\n       <use x=\"120.019531\" xlink:href=\"#DejaVuSans-47049\"/>\r\n       <use x=\"180.029297\" xlink:href=\"#DejaVuSans-40\"/>\r\n       <use x=\"219.042969\" xlink:href=\"#DejaVuSans-109\"/>\r\n       <use x=\"316.455078\" xlink:href=\"#DejaVuSans-109\"/>\r\n       <use x=\"413.867188\" xlink:href=\"#DejaVuSans-41\"/>\r\n      </g>\r\n     </g>\r\n    </g>\r\n    <g id=\"ytick_10\">\r\n     <g id=\"line2d_16\">\r\n      <g>\r\n       <use style=\"stroke:#000000;stroke-width:0.8;\" x=\"68.214062\" xlink:href=\"#mbf57924e72\" y=\"166.098462\"/>\r\n      </g>\r\n     </g>\r\n     <g id=\"text_16\">\r\n      <!-- month -->\r\n      <g transform=\"translate(28.759375 169.89768)scale(0.1 -0.1)\">\r\n       <defs>\r\n        <path d=\"M 30.609375 48.390625 \r\nQ 23.390625 48.390625 19.1875 42.75 \r\nQ 14.984375 37.109375 14.984375 27.296875 \r\nQ 14.984375 17.484375 19.15625 11.84375 \r\nQ 23.34375 6.203125 30.609375 6.203125 \r\nQ 37.796875 6.203125 41.984375 11.859375 \r\nQ 46.1875 17.53125 46.1875 27.296875 \r\nQ 46.1875 37.015625 41.984375 42.703125 \r\nQ 37.796875 48.390625 30.609375 48.390625 \r\nz\r\nM 30.609375 56 \r\nQ 42.328125 56 49.015625 48.375 \r\nQ 55.71875 40.765625 55.71875 27.296875 \r\nQ 55.71875 13.875 49.015625 6.21875 \r\nQ 42.328125 -1.421875 30.609375 -1.421875 \r\nQ 18.84375 -1.421875 12.171875 6.21875 \r\nQ 5.515625 13.875 5.515625 27.296875 \r\nQ 5.515625 40.765625 12.171875 48.375 \r\nQ 18.84375 56 30.609375 56 \r\nz\r\n\" id=\"DejaVuSans-111\"/>\r\n       </defs>\r\n       <use xlink:href=\"#DejaVuSans-109\"/>\r\n       <use x=\"97.412109\" xlink:href=\"#DejaVuSans-111\"/>\r\n       <use x=\"158.59375\" xlink:href=\"#DejaVuSans-110\"/>\r\n       <use x=\"221.972656\" xlink:href=\"#DejaVuSans-116\"/>\r\n       <use x=\"261.181641\" xlink:href=\"#DejaVuSans-104\"/>\r\n      </g>\r\n     </g>\r\n    </g>\r\n    <g id=\"ytick_11\">\r\n     <g id=\"line2d_17\">\r\n      <g>\r\n       <use style=\"stroke:#000000;stroke-width:0.8;\" x=\"68.214062\" xlink:href=\"#mbf57924e72\" y=\"182.824615\"/>\r\n      </g>\r\n     </g>\r\n     <g id=\"text_17\">\r\n      <!-- 태양광보유 -->\r\n      <g transform=\"translate(31.20625 186.623834)scale(0.1 -0.1)\">\r\n       <defs>\r\n        <path d=\"M 4.984375 -17.671875 \r\nL 4.984375 70.515625 \r\nL 54.984375 70.515625 \r\nL 54.984375 -17.671875 \r\nz\r\nM 10.59375 -12.109375 \r\nL 49.421875 -12.109375 \r\nL 49.421875 64.890625 \r\nL 10.59375 64.890625 \r\nz\r\n\" id=\"DejaVuSans-53468\"/>\r\n        <path d=\"M 4.984375 -17.671875 \r\nL 4.984375 70.515625 \r\nL 54.984375 70.515625 \r\nL 54.984375 -17.671875 \r\nz\r\nM 10.59375 -12.109375 \r\nL 49.421875 -12.109375 \r\nL 49.421875 64.890625 \r\nL 10.59375 64.890625 \r\nz\r\n\" id=\"DejaVuSans-50577\"/>\r\n        <path d=\"M 4.984375 -17.671875 \r\nL 4.984375 70.515625 \r\nL 54.984375 70.515625 \r\nL 54.984375 -17.671875 \r\nz\r\nM 10.59375 -12.109375 \r\nL 49.421875 -12.109375 \r\nL 49.421875 64.890625 \r\nL 10.59375 64.890625 \r\nz\r\n\" id=\"DejaVuSans-44305\"/>\r\n        <path d=\"M 4.984375 -17.671875 \r\nL 4.984375 70.515625 \r\nL 54.984375 70.515625 \r\nL 54.984375 -17.671875 \r\nz\r\nM 10.59375 -12.109375 \r\nL 49.421875 -12.109375 \r\nL 49.421875 64.890625 \r\nL 10.59375 64.890625 \r\nz\r\n\" id=\"DejaVuSans-48372\"/>\r\n        <path d=\"M 4.984375 -17.671875 \r\nL 4.984375 70.515625 \r\nL 54.984375 70.515625 \r\nL 54.984375 -17.671875 \r\nz\r\nM 10.59375 -12.109375 \r\nL 49.421875 -12.109375 \r\nL 49.421875 64.890625 \r\nL 10.59375 64.890625 \r\nz\r\n\" id=\"DejaVuSans-50976\"/>\r\n       </defs>\r\n       <use xlink:href=\"#DejaVuSans-53468\"/>\r\n       <use x=\"60.009766\" xlink:href=\"#DejaVuSans-50577\"/>\r\n       <use x=\"120.019531\" xlink:href=\"#DejaVuSans-44305\"/>\r\n       <use x=\"180.029297\" xlink:href=\"#DejaVuSans-48372\"/>\r\n       <use x=\"240.039062\" xlink:href=\"#DejaVuSans-50976\"/>\r\n      </g>\r\n     </g>\r\n    </g>\r\n    <g id=\"ytick_12\">\r\n     <g id=\"line2d_18\">\r\n      <g>\r\n       <use style=\"stroke:#000000;stroke-width:0.8;\" x=\"68.214062\" xlink:href=\"#mbf57924e72\" y=\"199.550769\"/>\r\n      </g>\r\n     </g>\r\n     <g id=\"text_18\">\r\n      <!-- 비전기냉방설비운영 -->\r\n      <g transform=\"translate(7.2 203.349988)scale(0.1 -0.1)\">\r\n       <defs>\r\n        <path d=\"M 4.984375 -17.671875 \r\nL 4.984375 70.515625 \r\nL 54.984375 70.515625 \r\nL 54.984375 -17.671875 \r\nz\r\nM 10.59375 -12.109375 \r\nL 49.421875 -12.109375 \r\nL 49.421875 64.890625 \r\nL 10.59375 64.890625 \r\nz\r\n\" id=\"DejaVuSans-48708\"/>\r\n        <path d=\"M 4.984375 -17.671875 \r\nL 4.984375 70.515625 \r\nL 54.984375 70.515625 \r\nL 54.984375 -17.671875 \r\nz\r\nM 10.59375 -12.109375 \r\nL 49.421875 -12.109375 \r\nL 49.421875 64.890625 \r\nL 10.59375 64.890625 \r\nz\r\n\" id=\"DejaVuSans-51204\"/>\r\n        <path d=\"M 4.984375 -17.671875 \r\nL 4.984375 70.515625 \r\nL 54.984375 70.515625 \r\nL 54.984375 -17.671875 \r\nz\r\nM 10.59375 -12.109375 \r\nL 49.421875 -12.109375 \r\nL 49.421875 64.890625 \r\nL 10.59375 64.890625 \r\nz\r\n\" id=\"DejaVuSans-45257\"/>\r\n        <path d=\"M 4.984375 -17.671875 \r\nL 4.984375 70.515625 \r\nL 54.984375 70.515625 \r\nL 54.984375 -17.671875 \r\nz\r\nM 10.59375 -12.109375 \r\nL 49.421875 -12.109375 \r\nL 49.421875 64.890625 \r\nL 10.59375 64.890625 \r\nz\r\n\" id=\"DejaVuSans-48169\"/>\r\n        <path d=\"M 4.984375 -17.671875 \r\nL 4.984375 70.515625 \r\nL 54.984375 70.515625 \r\nL 54.984375 -17.671875 \r\nz\r\nM 10.59375 -12.109375 \r\nL 49.421875 -12.109375 \r\nL 49.421875 64.890625 \r\nL 10.59375 64.890625 \r\nz\r\n\" id=\"DejaVuSans-49444\"/>\r\n        <path d=\"M 4.984375 -17.671875 \r\nL 4.984375 70.515625 \r\nL 54.984375 70.515625 \r\nL 54.984375 -17.671875 \r\nz\r\nM 10.59375 -12.109375 \r\nL 49.421875 -12.109375 \r\nL 49.421875 64.890625 \r\nL 10.59375 64.890625 \r\nz\r\n\" id=\"DejaVuSans-50868\"/>\r\n        <path d=\"M 4.984375 -17.671875 \r\nL 4.984375 70.515625 \r\nL 54.984375 70.515625 \r\nL 54.984375 -17.671875 \r\nz\r\nM 10.59375 -12.109375 \r\nL 49.421875 -12.109375 \r\nL 49.421875 64.890625 \r\nL 10.59375 64.890625 \r\nz\r\n\" id=\"DejaVuSans-50689\"/>\r\n       </defs>\r\n       <use xlink:href=\"#DejaVuSans-48708\"/>\r\n       <use x=\"60.009766\" xlink:href=\"#DejaVuSans-51204\"/>\r\n       <use x=\"120.019531\" xlink:href=\"#DejaVuSans-44592\"/>\r\n       <use x=\"180.029297\" xlink:href=\"#DejaVuSans-45257\"/>\r\n       <use x=\"240.039062\" xlink:href=\"#DejaVuSans-48169\"/>\r\n       <use x=\"300.048828\" xlink:href=\"#DejaVuSans-49444\"/>\r\n       <use x=\"360.058594\" xlink:href=\"#DejaVuSans-48708\"/>\r\n       <use x=\"420.068359\" xlink:href=\"#DejaVuSans-50868\"/>\r\n       <use x=\"480.078125\" xlink:href=\"#DejaVuSans-50689\"/>\r\n      </g>\r\n     </g>\r\n    </g>\r\n    <g id=\"ytick_13\">\r\n     <g id=\"line2d_19\">\r\n      <g>\r\n       <use style=\"stroke:#000000;stroke-width:0.8;\" x=\"68.214062\" xlink:href=\"#mbf57924e72\" y=\"216.276923\"/>\r\n      </g>\r\n     </g>\r\n     <g id=\"text_19\">\r\n      <!-- holiday -->\r\n      <g transform=\"translate(24.80625 220.076142)scale(0.1 -0.1)\">\r\n       <defs>\r\n        <path d=\"M 9.421875 75.984375 \r\nL 18.40625 75.984375 \r\nL 18.40625 0 \r\nL 9.421875 0 \r\nz\r\n\" id=\"DejaVuSans-108\"/>\r\n       </defs>\r\n       <use xlink:href=\"#DejaVuSans-104\"/>\r\n       <use x=\"63.378906\" xlink:href=\"#DejaVuSans-111\"/>\r\n       <use x=\"124.560547\" xlink:href=\"#DejaVuSans-108\"/>\r\n       <use x=\"152.34375\" xlink:href=\"#DejaVuSans-105\"/>\r\n       <use x=\"180.126953\" xlink:href=\"#DejaVuSans-100\"/>\r\n       <use x=\"243.603516\" xlink:href=\"#DejaVuSans-97\"/>\r\n       <use x=\"304.882812\" xlink:href=\"#DejaVuSans-121\"/>\r\n      </g>\r\n     </g>\r\n    </g>\r\n   </g>\r\n   <g id=\"line2d_20\">\r\n    <path clip-path=\"url(#pacce5d604c)\" style=\"fill:none;stroke:#424242;stroke-linecap:square;stroke-width:2.7;\"/>\r\n   </g>\r\n   <g id=\"line2d_21\">\r\n    <path clip-path=\"url(#pacce5d604c)\" style=\"fill:none;stroke:#424242;stroke-linecap:square;stroke-width:2.7;\"/>\r\n   </g>\r\n   <g id=\"line2d_22\">\r\n    <path clip-path=\"url(#pacce5d604c)\" style=\"fill:none;stroke:#424242;stroke-linecap:square;stroke-width:2.7;\"/>\r\n   </g>\r\n   <g id=\"line2d_23\">\r\n    <path clip-path=\"url(#pacce5d604c)\" style=\"fill:none;stroke:#424242;stroke-linecap:square;stroke-width:2.7;\"/>\r\n   </g>\r\n   <g id=\"line2d_24\">\r\n    <path clip-path=\"url(#pacce5d604c)\" style=\"fill:none;stroke:#424242;stroke-linecap:square;stroke-width:2.7;\"/>\r\n   </g>\r\n   <g id=\"line2d_25\">\r\n    <path clip-path=\"url(#pacce5d604c)\" style=\"fill:none;stroke:#424242;stroke-linecap:square;stroke-width:2.7;\"/>\r\n   </g>\r\n   <g id=\"line2d_26\">\r\n    <path clip-path=\"url(#pacce5d604c)\" style=\"fill:none;stroke:#424242;stroke-linecap:square;stroke-width:2.7;\"/>\r\n   </g>\r\n   <g id=\"line2d_27\">\r\n    <path clip-path=\"url(#pacce5d604c)\" style=\"fill:none;stroke:#424242;stroke-linecap:square;stroke-width:2.7;\"/>\r\n   </g>\r\n   <g id=\"line2d_28\">\r\n    <path clip-path=\"url(#pacce5d604c)\" style=\"fill:none;stroke:#424242;stroke-linecap:square;stroke-width:2.7;\"/>\r\n   </g>\r\n   <g id=\"line2d_29\">\r\n    <path clip-path=\"url(#pacce5d604c)\" style=\"fill:none;stroke:#424242;stroke-linecap:square;stroke-width:2.7;\"/>\r\n   </g>\r\n   <g id=\"line2d_30\">\r\n    <path clip-path=\"url(#pacce5d604c)\" style=\"fill:none;stroke:#424242;stroke-linecap:square;stroke-width:2.7;\"/>\r\n   </g>\r\n   <g id=\"line2d_31\">\r\n    <path clip-path=\"url(#pacce5d604c)\" style=\"fill:none;stroke:#424242;stroke-linecap:square;stroke-width:2.7;\"/>\r\n   </g>\r\n   <g id=\"line2d_32\">\r\n    <path clip-path=\"url(#pacce5d604c)\" style=\"fill:none;stroke:#424242;stroke-linecap:square;stroke-width:2.7;\"/>\r\n   </g>\r\n   <g id=\"patch_16\">\r\n    <path d=\"M 68.214062 224.64 \r\nL 68.214062 7.2 \r\n\" style=\"fill:none;stroke:#000000;stroke-linecap:square;stroke-linejoin:miter;stroke-width:0.8;\"/>\r\n   </g>\r\n   <g id=\"patch_17\">\r\n    <path d=\"M 403.014063 224.64 \r\nL 403.014063 7.2 \r\n\" style=\"fill:none;stroke:#000000;stroke-linecap:square;stroke-linejoin:miter;stroke-width:0.8;\"/>\r\n   </g>\r\n   <g id=\"patch_18\">\r\n    <path d=\"M 68.214062 224.64 \r\nL 403.014063 224.64 \r\n\" style=\"fill:none;stroke:#000000;stroke-linecap:square;stroke-linejoin:miter;stroke-width:0.8;\"/>\r\n   </g>\r\n   <g id=\"patch_19\">\r\n    <path d=\"M 68.214062 7.2 \r\nL 403.014063 7.2 \r\n\" style=\"fill:none;stroke:#000000;stroke-linecap:square;stroke-linejoin:miter;stroke-width:0.8;\"/>\r\n   </g>\r\n  </g>\r\n </g>\r\n <defs>\r\n  <clipPath id=\"pacce5d604c\">\r\n   <rect height=\"217.44\" width=\"334.8\" x=\"68.214062\" y=\"7.2\"/>\r\n  </clipPath>\r\n </defs>\r\n</svg>\r\n",
      "image/png": "[encoded data removed]"
     },
     "metadata": {
      "needs_background": "light"
     }
    }
   ],
   "source": [
    "importance=pd.Series(li.feature_importances_, index=train2.columns).sort_values(ascending=False)\n",
    "sns.barplot(importance, importance.index)"
   ]
  }
 ],
 "metadata": {
  "kernelspec": {
   "name": "python385jvsc74a57bd097ae724bfa85b9b34df7982b8bb8c7216f435b92902d749e4263f71162bea840",
   "display_name": "Python 3.8.5 64-bit ('base': conda)"
  },
  "language_info": {
   "codemirror_mode": {
    "name": "ipython",
    "version": 3
   },
   "file_extension": ".py",
   "mimetype": "text/x-python",
   "name": "python",
   "nbconvert_exporter": "python",
   "pygments_lexer": "ipython3",
   "version": "3.8.5"
  },
  "orig_nbformat": 2
 },
 "nbformat": 4,
 "nbformat_minor": 2
}