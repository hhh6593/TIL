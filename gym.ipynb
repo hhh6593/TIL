{
 "cells": [
  {
   "cell_type": "code",
   "execution_count": 1,
   "metadata": {},
   "outputs": [
    {
     "name": "stderr",
     "output_type": "stream",
     "text": [
      "'sudo'��(��) ���� �Ǵ� �ܺ� ����, ������ �� �ִ� ���α׷�, �Ǵ�\n",
      "��ġ ������ �ƴմϴ�.\n",
      "'apt-get'��(��) ���� �Ǵ� �ܺ� ����, ������ �� �ִ� ���α׷�, �Ǵ�\n",
      "��ġ ������ �ƴմϴ�.\n",
      "'sudo'��(��) ���� �Ǵ� �ܺ� ����, ������ �� �ִ� ���α׷�, �Ǵ�\n",
      "��ġ ������ �ƴմϴ�.\n"
     ]
    }
   ],
   "source": [
    "!sudo apt install cmake\r\n",
    "!apt-get install zlib | g-dev\r\n",
    "!sudo -H pip install gym[atari]"
   ]
  },
  {
   "cell_type": "code",
   "execution_count": 2,
   "metadata": {},
   "outputs": [],
   "source": [
    "import tensorflow as tf\r\n",
    "import gym"
   ]
  },
  {
   "cell_type": "code",
   "execution_count": 5,
   "metadata": {},
   "outputs": [
    {
     "name": "stdout",
     "output_type": "stream",
     "text": [
      "\n",
      "SFFF\n",
      "FHFH\n",
      "FFFH\n",
      "HFFG\n"
     ]
    }
   ],
   "source": [
    "import gym\r\n",
    "import colorama as cr\r\n",
    "import msvcrt as vc\r\n",
    "\r\n",
    "cr.init(autoreset=True)\r\n",
    "gym.envs.registration.register(id='FrozenLake-v3',\r\n",
    "entry_point='gym.envs.toy_text:FrozenLakeEnv', kwargs={'map_name':'4x4', 'is_slippery':False})\r\n",
    "\r\n",
    "environment = gym.make('FrozenLake-v3')\r\n",
    "environment.render()\r\n",
    "\r\n",
    "while True:\r\n",
    "    keyIn = vc.getch().decode('utf-8').lower()\r\n",
    "    if keyIn in ['w', 'a', 's', 'd']:\r\n",
    "        action = 3          # up\r\n",
    "        if keyIn == 's':\r\n",
    "            action = 1      # down\r\n",
    "        elif keyIn == 'a':\r\n",
    "            action = 0      # left\r\n",
    "        elif keyIn == 'd':\r\n",
    "            action = 2      # right\r\n",
    "\r\n",
    "        state, reward, isDone, information = environment.step(action)\r\n",
    "        environment.render()\r\n",
    "        print(\"state : {} \\t action : {} \\t reward : {} \\t info : {}\".format(\r\n",
    "            state, action, reward, information))\r\n",
    "        print() # new line\r\n",
    "        if isDone:\r\n",
    "            print(\"DONE\")\r\n",
    "            break"
   ]
  },
  {
   "cell_type": "code",
   "execution_count": null,
   "metadata": {},
   "outputs": [],
   "source": []
  }
 ],
 "metadata": {
  "interpreter": {
   "hash": "183bbf6827d058c2a2fb0f4acdc0420849dda2b4380af0e437e38c64d798d8b7"
  },
  "kernelspec": {
   "display_name": "Python 3.8.10 64-bit ('base': conda)",
   "name": "python3"
  },
  "language_info": {
   "codemirror_mode": {
    "name": "ipython",
    "version": 3
   },
   "file_extension": ".py",
   "mimetype": "text/x-python",
   "name": "python",
   "nbconvert_exporter": "python",
   "pygments_lexer": "ipython3",
   "version": "3.8.10"
  },
  "orig_nbformat": 4
 },
 "nbformat": 4,
 "nbformat_minor": 2
}