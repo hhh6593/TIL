{
 "cells": [
  {
   "cell_type": "code",
   "execution_count": null,
   "metadata": {},
   "outputs": [],
   "source": [
    "#삽입정렬\n",
    "list=[17,5,1,7,8,9,2,4,39]\n",
    "for i in range(1, len(list)-1):\n",
    "    key=list[i]\n",
    "    j=i-1\n",
    "    while j>=0 and list[j]>key:\n",
    "        list[j+1]=list[j]\n",
    "        j-=1\n",
    "    list[j+1]=key\n",
    "print(list)"
   ]
  },
  {
   "cell_type": "code",
   "execution_count": null,
   "metadata": {},
   "outputs": [],
   "source": [
    "#퀵정렬 빠르게 처리하는 정렬 시스템\n",
    "#partitioning (pivot을 기준으로 왼쪽(작거나 같은값), 오른쪽(크거나 같은값) 분류)\n",
    "#2,8,7,1,3,5,6,4 -> 2,1,3,4(pivot),7,5,6,8 - 이처럼 반복수행\n",
    "#파이썬 내장함수인 sort 메소드가 기본적으로 퀵정렬의 원리를 따름"
   ]
  },
  {
   "cell_type": "code",
   "execution_count": null,
   "metadata": {},
   "outputs": [],
   "source": [
    "#계수정렬 count sort\n",
    "arr=[1,7,5,3,4,6,2,7,1,2]\n",
    "cnt=[0]*(max(arr)+1) #인덱스 값은 0부터 시작하기 때문에 최대값에 +1한 값으로 리스트 생성\n",
    "for i in range(len(arr)):  #i=0\n",
    "    cnt[arr[i]]+=1 #arr[0]=1, cnt[1]=cnt[1]+1 -> [0,1,0,0,0,0,0,0]\n",
    "for i in range(len(cnt)): #i=0\n",
    "    for j in range(cnt[i]): #cnt에 입력된 정보 확인\n",
    "        print(i,end=' ')"
   ]
  },
  {
   "cell_type": "code",
   "execution_count": null,
   "metadata": {},
   "outputs": [],
   "source": [
    "import random\n",
    "random.shuffle(list) #순서 뒤섞기\n",
    "list"
   ]
  },
  {
   "cell_type": "code",
   "execution_count": null,
   "metadata": {},
   "outputs": [],
   "source": [
    "inputfilename='employees.txt'\n",
    "inputfile=open(inputfilename)\n",
    "\n",
    "bonus=0.3\n",
    "for i in inputfile:\n",
    "    name,job,income=i.split(',')\n",
    "    last,first=name.split()\n",
    "    income=int(income)\n",
    "    income+=income*bonus\n",
    "    print(name, job, income)"
   ]
  },
  {
   "cell_type": "code",
   "execution_count": null,
   "metadata": {},
   "outputs": [],
   "source": [
    "train=open('train.txt','r')\n",
    "for i in train:\n",
    "    PassengerId,Survived,Pclass,Name,Sex,Age,SibSp,Parch,Ticket,Fare,Cabin,Embarked=i.split('\\t')\n",
    "    fa_name=Name.split(',')[0]\n",
    "    print(PassengerId,Survived,Pclass,fa_name,Name,Sex,Age,SibSp,Parch,Ticket,Fare,Cabin,Embarked)"
   ]
  },
  {
   "cell_type": "code",
   "execution_count": null,
   "metadata": {},
   "outputs": [],
   "source": [
    "def hello(name):\n",
    "    print('Hi', name)\n",
    "hello('han')"
   ]
  },
  {
   "cell_type": "code",
   "execution_count": null,
   "metadata": {},
   "outputs": [],
   "source": [
    "def adder(x,y):\n",
    "    print('두 수의 합:',x+y)\n",
    "fn=int(input('첫 번째 값: '))\n",
    "sn=int(input('두 번째 값: '))\n",
    "adder(fn,sn)"
   ]
  },
  {
   "cell_type": "code",
   "execution_count": null,
   "metadata": {},
   "outputs": [],
   "source": [
    "name='han'\n",
    "print('hi', name)\n",
    "def calc():\n",
    "    number=10\n",
    "    print(number*5)\n",
    "number=12\n",
    "print(number*5)\n",
    "number=14\n",
    "calc()\n",
    "print(number*5)"
   ]
  },
  {
   "cell_type": "code",
   "execution_count": 86,
   "metadata": {},
   "outputs": [],
   "source": [
    "import random\n",
    "def game(user):\n",
    "    rd=random.randint(0,2)\n",
    "    com=[]\n",
    "    com.append(rd)\n",
    "    for i in com:\n",
    "        if i==0:\n",
    "            com='가위'\n",
    "        elif i==1:\n",
    "            com='바위'\n",
    "        else:\n",
    "            com='보'\n",
    "    print('컴퓨터: ',com)\n",
    "    print('사용자: ',user)\n",
    "    if (com=='가위' and user=='보')or(com=='바위' and user=='가위')or(com=='보' and user=='바위'):\n",
    "        answer='패배'\n",
    "    elif com==user:\n",
    "        answer='무승부'\n",
    "    else:\n",
    "        answer='승리'\n",
    "    return answer"
   ]
  },
  {
   "cell_type": "code",
   "execution_count": 87,
   "metadata": {},
   "outputs": [
    {
     "name": "stdout",
     "output_type": "stream",
     "text": [
      "컴퓨터:  보\n",
      "사용자:  가위\n"
     ]
    },
    {
     "data": {
      "text/plain": [
       "'승리'"
      ]
     },
     "execution_count": 87,
     "metadata": {},
     "output_type": "execute_result"
    }
   ],
   "source": [
    "game('가위')"
   ]
  },
  {
   "cell_type": "code",
   "execution_count": null,
   "metadata": {},
   "outputs": [],
   "source": [
    "def _369(rn):\n",
    "    for i in range(1, rn+1):\n",
    "        str_i=str(i)\n",
    "        cnt=0\n",
    "        for c in str_i:\n",
    "            if (c=='3')or(c=='6')or(c=='9'):\n",
    "                cnt+=1\n",
    "            else:\n",
    "                cnt=0\n",
    "        if cnt==0:\n",
    "            print(i)\n",
    "        else:\n",
    "            print(i,'clap'*cnt)"
   ]
  },
  {
   "cell_type": "code",
   "execution_count": null,
   "metadata": {},
   "outputs": [],
   "source": [
    "_369(33)"
   ]
  },
  {
   "cell_type": "code",
   "execution_count": 152,
   "metadata": {},
   "outputs": [
    {
     "name": "stdout",
     "output_type": "stream",
     "text": [
      "여섯 개의 숫자를 입력하시오: \n",
      "2, 14, 16, 29, 31, 2\n",
      "로또번호:  [2, 16, 32, 39, 40, 45]\n",
      "내 번호는:  [2, 14, 16, 29, 31, 2]\n",
      "맞춘 숫자는 [2, 16, 2]\n",
      "3 개를 맞춰 5000 원 입니다.\n"
     ]
    }
   ],
   "source": [
    "import random\n",
    "rd_num=sorted(random.sample(range(1,46),6))\n",
    "num_list=[]\n",
    "def genlotto():\n",
    "    rd_num=sorted(random.sample(range(1,46),6))\n",
    "    return rd_num\n",
    "\n",
    "def my_num():\n",
    "    print('여섯 개의 숫자를 입력하시오: ')\n",
    "    num=input()\n",
    "    my_list=[]\n",
    "    for i in num.split(','):\n",
    "        my_list.append(int(i))\n",
    "    return my_list\n",
    "\n",
    "def check(lotto, mine):\n",
    "    result=[]\n",
    "    for i in mine:\n",
    "        if i in lotto:\n",
    "            result.append(i)\n",
    "    return result\n",
    "\n",
    "_1=genlotto()\n",
    "_2=my_num()\n",
    "_3=check(_1,_2)\n",
    "prize=0\n",
    "print('로또번호: ',_1)\n",
    "print('내 번호는: ',_2)\n",
    "print('맞춘 숫자는',_3)\n",
    "prize_list=[0,0,0,5000,10000,50000,100000]\n",
    "prize+=prize_list[len(_3)]\n",
    "print(len(_3),'개를 맞춰',prize,'원 입니다.')"
   ]
  },
  {
   "cell_type": "code",
   "execution_count": null,
   "metadata": {},
   "outputs": [
    {
     "name": "stdout",
     "output_type": "stream",
     "text": [
      "가위, 바위, 보: 가위\n",
      "당신은  가위 를 냈습니다 컴퓨터는  보 를 냈습니다\n",
      "게임을 다시 진행합니다.\n",
      "가위, 바위, 보: 가위\n",
      "당신은  가위 를 냈습니다 컴퓨터는  보 를 냈습니다\n",
      "게임을 다시 진행합니다.\n",
      "가위, 바위, 보: 가위\n",
      "당신은  가위 를 냈습니다 컴퓨터는  가위 를 냈습니다\n",
      "게임을 다시 진행합니다.\n",
      "가위, 바위, 보: 가위\n",
      "당신은  가위 를 냈습니다 컴퓨터는  보 를 냈습니다\n",
      "게임을 다시 진행합니다.\n",
      "가위, 바위, 보: 가위\n",
      "당신은  가위 를 냈습니다 컴퓨터는  가위 를 냈습니다\n",
      "게임을 다시 진행합니다.\n",
      "가위, 바위, 보: 가위\n",
      "당신은  가위 를 냈습니다 컴퓨터는  보 를 냈습니다\n",
      "게임을 다시 진행합니다.\n",
      "가위, 바위, 보: 가위\n",
      "당신은  가위 를 냈습니다 컴퓨터는  보 를 냈습니다\n",
      "게임을 다시 진행합니다.\n",
      "가위, 바위, 보: 가위\n",
      "당신은  가위 를 냈습니다 컴퓨터는  보 를 냈습니다\n",
      "게임을 다시 진행합니다.\n",
      "가위, 바위, 보: 가위\n",
      "당신은  가위 를 냈습니다 컴퓨터는  1 를 냈습니다\n",
      "게임을 다시 진행합니다.\n"
     ]
    }
   ],
   "source": [
    "def check(user):\n",
    "    com = random.randint(0,2)\n",
    "    if com == 0:\n",
    "        com = '가위'\n",
    "    elif com == 1 :\n",
    "        computer_case = '바위'\n",
    "    else: \n",
    "        com = '보'\n",
    "    return [user, com]\n",
    "\n",
    "def winner(user, com):\n",
    "    user_1 = False\n",
    "    if user == '가위' and com == '보':\n",
    "        user_1 = True\n",
    "    if user == '바위' and ccom == '가위':\n",
    "        user_1 = True\n",
    "    if user == '보' and com == '바위':\n",
    "        user_1 = True\n",
    "    return user_1\n",
    "\n",
    "while(True):\n",
    "    in_put = input(\"가위, 바위, 보: \")\n",
    "    user, com = check(in_put)\n",
    "    user_win_1 = winner(user, com)\n",
    "    if user_win:\n",
    "        print('당신이 이겼습니다')\n",
    "    print('당신은 ', user ,'를 냈습니다', '컴퓨터는 ' , com, '를 냈습니다')\n",
    "    if user_win:\n",
    "        break\n",
    "    print('게임을 다시 진행합니다.')"
   ]
  },
  {
   "cell_type": "raw",
   "metadata": {},
   "source": []
  },
  {
   "cell_type": "code",
   "execution_count": null,
   "metadata": {},
   "outputs": [],
   "source": []
  }
 ],
 "metadata": {
  "kernelspec": {
   "display_name": "Python 3",
   "language": "python",
   "name": "python3"
  },
  "language_info": {
   "codemirror_mode": {
    "name": "ipython",
    "version": 3
   },
   "file_extension": ".py",
   "mimetype": "text/x-python",
   "name": "python",
   "nbconvert_exporter": "python",
   "pygments_lexer": "ipython3",
   "version": "3.8.5"
  }
 },
 "nbformat": 4,
 "nbformat_minor": 4
}
