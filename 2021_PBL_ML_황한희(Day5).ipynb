{
 "cells": [
  {
   "cell_type": "code",
   "execution_count": 1,
   "metadata": {},
   "outputs": [],
   "source": [
    "listA=list(range(1,10))"
   ]
  },
  {
   "cell_type": "code",
   "execution_count": 2,
   "metadata": {},
   "outputs": [
    {
     "data": {
      "text/plain": [
       "[9, 8, 7, 6, 5, 4, 3, 2, 1]"
      ]
     },
     "execution_count": 2,
     "metadata": {},
     "output_type": "execute_result"
    }
   ],
   "source": [
    "listA.reverse() #반환값이 없이 값에 직접 영향을 주는 메소드 ex)reverse\n",
    "listA"
   ]
  },
  {
   "cell_type": "code",
   "execution_count": 3,
   "metadata": {},
   "outputs": [
    {
     "name": "stdout",
     "output_type": "stream",
     "text": [
      "광부가 생성되었습니다.\n"
     ]
    }
   ],
   "source": [
    "class miner:\n",
    "    def __init__(self, mineral): #self-인스턴스 첫 인자는 보통 self 값을 가짐\n",
    "        self.mineral=mineral\n",
    "        print('광부가 생성되었습니다.')\n",
    "    def miningmineral(self):\n",
    "        self.mineral+=10 #class 내의 정의에 접근할 경우 - self.method\n",
    "scv=miner(100) #인스턴스 선언 = class이름()\n",
    "#__inti__생성자, __del__소멸자 (주로 생성자가 많이 쓰임)\n",
    "#instance 생성과 삭제 시 실행\n",
    "#__call__ : 인스턴스이름()으로 호출 했을 때 실행"
   ]
  },
  {
   "cell_type": "code",
   "execution_count": 4,
   "metadata": {},
   "outputs": [],
   "source": [
    "scv.miningmineral()"
   ]
  },
  {
   "cell_type": "code",
   "execution_count": 5,
   "metadata": {},
   "outputs": [
    {
     "data": {
      "text/plain": [
       "110"
      ]
     },
     "execution_count": 5,
     "metadata": {},
     "output_type": "execute_result"
    }
   ],
   "source": [
    "scv.mineral"
   ]
  },
  {
   "cell_type": "code",
   "execution_count": 6,
   "metadata": {},
   "outputs": [],
   "source": [
    "miner.miningmineral(scv)"
   ]
  },
  {
   "cell_type": "code",
   "execution_count": 7,
   "metadata": {},
   "outputs": [
    {
     "data": {
      "text/plain": [
       "120"
      ]
     },
     "execution_count": 7,
     "metadata": {},
     "output_type": "execute_result"
    }
   ],
   "source": [
    "scv.mineral"
   ]
  },
  {
   "cell_type": "code",
   "execution_count": 28,
   "metadata": {},
   "outputs": [],
   "source": [
    "#private 외부 접근 방지하고 싶은 경우 변수 이름을 __로 시작\n",
    "#보통의 경우 -> self.mineral\n",
    "#private 경우 -> self.__mineral\n",
    "class miner:\n",
    "    def __init__(self, mineral): #self-인스턴스 첫 인자는 보통 self 값을 가짐\n",
    "        self.__mineral=mineral\n",
    "        print('광부가 생성되었습니다.')\n",
    "    @property #private에 접근하기 위해 method 접근 전에 표기\n",
    "    def mineral(self):\n",
    "        return self.__mineral\n",
    "    @mineral.setter \n",
    "    def mineral(self, m):\n",
    "        self.__mineral=m\n",
    "    def miningmineral(self, m):\n",
    "        self.__mineral+=10\n",
    "    \n",
    "    def __init__(self, gas):\n",
    "        self.__gas=gas\n",
    "    @property\n",
    "    def gas(self):\n",
    "        return self.__gas\n",
    "    @gas.setter\n",
    "    def gas(self,g):\n",
    "        self.__gas=g\n",
    "    def mininggas(self, g):\n",
    "        self.__gas+=5\n",
    "    \n",
    "#getmineral은 private에 접근하기 위한 수단\n",
    "#setmineral은 private객체에 값을 저정하는 수단"
   ]
  },
  {
   "cell_type": "code",
   "execution_count": null,
   "metadata": {},
   "outputs": [],
   "source": [
    "scv2=miner(100)"
   ]
  },
  {
   "cell_type": "code",
   "execution_count": null,
   "metadata": {},
   "outputs": [],
   "source": [
    "scv2.getmineral() #기본적으로 100으로 설정해서 생성했기 때문에 100을 가지고 있음"
   ]
  },
  {
   "cell_type": "code",
   "execution_count": null,
   "metadata": {},
   "outputs": [],
   "source": [
    "scv2.setmineral(200) #부여할 값 수치"
   ]
  },
  {
   "cell_type": "code",
   "execution_count": null,
   "metadata": {},
   "outputs": [],
   "source": [
    "scv2.getmineral() #빈환"
   ]
  },
  {
   "cell_type": "code",
   "execution_count": 21,
   "metadata": {},
   "outputs": [],
   "source": [
    "scv3=miner(10)"
   ]
  },
  {
   "cell_type": "code",
   "execution_count": 39,
   "metadata": {},
   "outputs": [],
   "source": [
    "scv3.mininggas(5)"
   ]
  },
  {
   "cell_type": "code",
   "execution_count": 40,
   "metadata": {},
   "outputs": [
    {
     "data": {
      "text/plain": [
       "50"
      ]
     },
     "execution_count": 40,
     "metadata": {},
     "output_type": "execute_result"
    }
   ],
   "source": [
    "scv3.gas"
   ]
  },
  {
   "cell_type": "code",
   "execution_count": 77,
   "metadata": {},
   "outputs": [
    {
     "name": "stdout",
     "output_type": "stream",
     "text": [
      "반지름 : 5.0\n",
      "넓이 : 78.5\n",
      "둘레 :  31.400000000000002\n"
     ]
    }
   ],
   "source": [
    "#원 클래스\n",
    "class circle:\n",
    "    def __init__(self, c):\n",
    "        self.c=c\n",
    "    def value(self, c):\n",
    "        self.c=c\n",
    "    def getRedius(self):\n",
    "        result = self.c/2\n",
    "        return result\n",
    "ct=circle(10)\n",
    "print('반지름 :',ct.getRedius())\n",
    "print('넓이 :',3.14*ct.getRedius()**2)\n",
    "print('둘레 : ',2*3.14*ct.getRedius())"
   ]
  },
  {
   "cell_type": "code",
   "execution_count": 122,
   "metadata": {},
   "outputs": [],
   "source": [
    "#은행계좌 클래스\n",
    "class bankaccount:\n",
    "    def __init__(self, name, balance):\n",
    "        self.name=name\n",
    "        self.balance=0\n",
    "        print('계좌가 개설되었습니다.')\n",
    "    def money(self, name, balance):\n",
    "        self.name=name\n",
    "        self.balance=balance\n",
    "    def withdraw(self,m):\n",
    "        self.balance-=m\n",
    "        print(m,'원이 인출되었습니다.')\n",
    "    def deposit(self, p):\n",
    "        self.balance+=p\n",
    "        print(p,'원이 입금되었습니다.')\n",
    "    def amount(self):\n",
    "        return self.balance"
   ]
  },
  {
   "cell_type": "code",
   "execution_count": 126,
   "metadata": {},
   "outputs": [
    {
     "name": "stdout",
     "output_type": "stream",
     "text": [
      "계좌가 개설되었습니다.\n",
      "잔액 : 100000\n",
      "30000 원이 인출되었습니다.\n",
      "10000 원이 입금되었습니다.\n",
      "남은 잔액은 80000 원 입니다.\n"
     ]
    }
   ],
   "source": [
    "a=bankaccount('han',100000)\n",
    "a.money('han',100000)\n",
    "a.withdraw(30000)\n",
    "a.deposit(10000)\n",
    "print('남은 잔액은',a.amount(),'원 입니다.')"
   ]
  },
  {
   "cell_type": "code",
   "execution_count": 154,
   "metadata": {},
   "outputs": [],
   "source": [
    "#class 변수의 접근\n",
    "class miner:\n",
    "    totalmineral=0\n",
    "    def __init__(self, mineral):\n",
    "        self.mineral = mineral\n",
    "        miner.totalmineral += mineral\n",
    "    def miningmineral(self):\n",
    "        self.mineral += 10\n",
    "        miner.totalmineral += 10\n",
    "    @classmethod #class method 정의\n",
    "    def printmineral(cls):\n",
    "        print(cls.totalmineral)"
   ]
  },
  {
   "cell_type": "code",
   "execution_count": 155,
   "metadata": {},
   "outputs": [
    {
     "name": "stdout",
     "output_type": "stream",
     "text": [
      "150\n"
     ]
    }
   ],
   "source": [
    "scv4=miner(50)\n",
    "proba=miner(100) \n",
    "miner.printmineral() #class 변수는 모든 입력값을 받아들임 50+100"
   ]
  },
  {
   "cell_type": "code",
   "execution_count": 156,
   "metadata": {},
   "outputs": [],
   "source": [
    "scv4.miningmineral()"
   ]
  },
  {
   "cell_type": "code",
   "execution_count": 157,
   "metadata": {},
   "outputs": [
    {
     "data": {
      "text/plain": [
       "60"
      ]
     },
     "execution_count": 157,
     "metadata": {},
     "output_type": "execute_result"
    }
   ],
   "source": [
    "scv4.mineral"
   ]
  },
  {
   "cell_type": "code",
   "execution_count": 158,
   "metadata": {},
   "outputs": [
    {
     "name": "stdout",
     "output_type": "stream",
     "text": [
      "160\n"
     ]
    }
   ],
   "source": [
    "scv4.printmineral()"
   ]
  },
  {
   "cell_type": "code",
   "execution_count": 186,
   "metadata": {},
   "outputs": [],
   "source": [
    "class gaser:\n",
    "    totalgas=0\n",
    "    gasernum=0\n",
    "    def __init__(self, gas):\n",
    "        self.gas=gas\n",
    "        gaser.totalgas+=gas\n",
    "        gaser.gasernum+=1\n",
    "    def mininggas(self):\n",
    "        self.gas+=5\n",
    "        gaser.totalgas+=5\n",
    "    @classmethod\n",
    "    def printgasernum(cls):\n",
    "        print(cls.gasernum)"
   ]
  },
  {
   "cell_type": "code",
   "execution_count": 187,
   "metadata": {},
   "outputs": [],
   "source": [
    "scv_gas=gaser(100)\n",
    "scv_gas2=gaser(120)"
   ]
  },
  {
   "cell_type": "code",
   "execution_count": 188,
   "metadata": {},
   "outputs": [
    {
     "name": "stdout",
     "output_type": "stream",
     "text": [
      "2\n"
     ]
    }
   ],
   "source": [
    "gaser.printgasernum()"
   ]
  },
  {
   "cell_type": "code",
   "execution_count": 189,
   "metadata": {},
   "outputs": [],
   "source": [
    "#기본코드\n",
    "class basic():\n",
    "    def __init__(self, b1, b2):\n",
    "        self.b1=b1\n",
    "        self.b2=b2"
   ]
  },
  {
   "cell_type": "code",
   "execution_count": null,
   "metadata": {},
   "outputs": [],
   "source": [
    "#상속 - `자식 class가 부모 class의 메소드를 포함해서 사용하게 할 수 있음"
   ]
  }
 ],
 "metadata": {
  "kernelspec": {
   "display_name": "Python 3",
   "language": "python",
   "name": "python3"
  },
  "language_info": {
   "codemirror_mode": {
    "name": "ipython",
    "version": 3
   },
   "file_extension": ".py",
   "mimetype": "text/x-python",
   "name": "python",
   "nbconvert_exporter": "python",
   "pygments_lexer": "ipython3",
   "version": "3.8.5"
  }
 },
 "nbformat": 4,
 "nbformat_minor": 4
}
